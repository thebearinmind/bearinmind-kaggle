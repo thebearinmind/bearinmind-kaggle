{
 "cells": [
  {
   "cell_type": "code",
   "execution_count": 1,
   "metadata": {},
   "outputs": [],
   "source": [
    "import os\n",
    "import pandas as pd\n",
    "import numpy as np\n",
    "import sklearn as sk\n",
    "from sklearn import model_selection\n",
    "from sklearn.model_selection import cross_val_score\n",
    "from sklearn.model_selection import KFold\n",
    "from sklearn.ensemble import GradientBoostingRegressor\n",
    "from sklearn.metrics import mean_absolute_error\n",
    "from sklearn.preprocessing import LabelEncoder\n",
    "from sklearn.preprocessing import MinMaxScaler\n",
    "import math\n",
    "import matplotlib.pyplot as plt\n",
    "import lightgbm as lgb\n",
    "from sklearn.model_selection import GridSearchCV\n",
    "import matplotlib.pyplot as plt\n",
    "import seaborn as sns\n",
    "import warnings\n",
    "import gc\n",
    "from tqdm import tqdm_notebook as tqdm\n",
    "warnings.simplefilter(action='ignore', category=FutureWarning)\n",
    "pd.set_option('display.max_columns', 500)\n",
    "pd.set_option('display.float_format', lambda x: '%.3f' % x)\n",
    "np.set_printoptions(suppress=True)"
   ]
  },
  {
   "cell_type": "code",
   "execution_count": 3,
   "metadata": {},
   "outputs": [],
   "source": [
    "base_path = '/home/jovyan/work/Molecular_Properties'"
   ]
  },
  {
   "cell_type": "code",
   "execution_count": 4,
   "metadata": {},
   "outputs": [],
   "source": [
    "structures = pd.read_csv(f'{base_path}/structures.csv')\n",
    "mulliken = pd.read_csv(f'{base_path}/mulliken_charges.csv')"
   ]
  },
  {
   "cell_type": "code",
   "execution_count": 5,
   "metadata": {},
   "outputs": [
    {
     "data": {
      "text/html": [
       "<div>\n",
       "<style scoped>\n",
       "    .dataframe tbody tr th:only-of-type {\n",
       "        vertical-align: middle;\n",
       "    }\n",
       "\n",
       "    .dataframe tbody tr th {\n",
       "        vertical-align: top;\n",
       "    }\n",
       "\n",
       "    .dataframe thead th {\n",
       "        text-align: right;\n",
       "    }\n",
       "</style>\n",
       "<table border=\"1\" class=\"dataframe\">\n",
       "  <thead>\n",
       "    <tr style=\"text-align: right;\">\n",
       "      <th></th>\n",
       "      <th>molecule_name</th>\n",
       "      <th>atom_index</th>\n",
       "      <th>atom</th>\n",
       "      <th>x</th>\n",
       "      <th>y</th>\n",
       "      <th>z</th>\n",
       "    </tr>\n",
       "  </thead>\n",
       "  <tbody>\n",
       "    <tr>\n",
       "      <th>0</th>\n",
       "      <td>dsgdb9nsd_000001</td>\n",
       "      <td>0</td>\n",
       "      <td>C</td>\n",
       "      <td>-0.013</td>\n",
       "      <td>1.086</td>\n",
       "      <td>0.008</td>\n",
       "    </tr>\n",
       "    <tr>\n",
       "      <th>1</th>\n",
       "      <td>dsgdb9nsd_000001</td>\n",
       "      <td>1</td>\n",
       "      <td>H</td>\n",
       "      <td>0.002</td>\n",
       "      <td>-0.006</td>\n",
       "      <td>0.002</td>\n",
       "    </tr>\n",
       "    <tr>\n",
       "      <th>2</th>\n",
       "      <td>dsgdb9nsd_000001</td>\n",
       "      <td>2</td>\n",
       "      <td>H</td>\n",
       "      <td>1.012</td>\n",
       "      <td>1.464</td>\n",
       "      <td>0.000</td>\n",
       "    </tr>\n",
       "    <tr>\n",
       "      <th>3</th>\n",
       "      <td>dsgdb9nsd_000001</td>\n",
       "      <td>3</td>\n",
       "      <td>H</td>\n",
       "      <td>-0.541</td>\n",
       "      <td>1.448</td>\n",
       "      <td>-0.877</td>\n",
       "    </tr>\n",
       "    <tr>\n",
       "      <th>4</th>\n",
       "      <td>dsgdb9nsd_000001</td>\n",
       "      <td>4</td>\n",
       "      <td>H</td>\n",
       "      <td>-0.524</td>\n",
       "      <td>1.438</td>\n",
       "      <td>0.906</td>\n",
       "    </tr>\n",
       "  </tbody>\n",
       "</table>\n",
       "</div>"
      ],
      "text/plain": [
       "      molecule_name  atom_index atom      x      y      z\n",
       "0  dsgdb9nsd_000001           0    C -0.013  1.086  0.008\n",
       "1  dsgdb9nsd_000001           1    H  0.002 -0.006  0.002\n",
       "2  dsgdb9nsd_000001           2    H  1.012  1.464  0.000\n",
       "3  dsgdb9nsd_000001           3    H -0.541  1.448 -0.877\n",
       "4  dsgdb9nsd_000001           4    H -0.524  1.438  0.906"
      ]
     },
     "execution_count": 5,
     "metadata": {},
     "output_type": "execute_result"
    }
   ],
   "source": [
    "structures.head()"
   ]
  },
  {
   "cell_type": "code",
   "execution_count": 6,
   "metadata": {},
   "outputs": [],
   "source": [
    "structures = structures.merge(mulliken, how = 'left', on = ['molecule_name', 'atom_index'])"
   ]
  },
  {
   "cell_type": "code",
   "execution_count": 7,
   "metadata": {},
   "outputs": [],
   "source": [
    "structures_train = structures[pd.notna(structures['mulliken_charge'])]"
   ]
  },
  {
   "cell_type": "code",
   "execution_count": 8,
   "metadata": {},
   "outputs": [
    {
     "name": "stderr",
     "output_type": "stream",
     "text": [
      "/opt/conda/lib/python3.7/site-packages/ipykernel_launcher.py:4: SettingWithCopyWarning: \n",
      "A value is trying to be set on a copy of a slice from a DataFrame.\n",
      "Try using .loc[row_indexer,col_indexer] = value instead\n",
      "\n",
      "See the caveats in the documentation: http://pandas.pydata.org/pandas-docs/stable/indexing.html#indexing-view-versus-copy\n",
      "  after removing the cwd from sys.path.\n"
     ]
    }
   ],
   "source": [
    "for f in ['atom']:\n",
    "    lbl = LabelEncoder()\n",
    "    lbl.fit(list(structures_train[f].values) + list(structures_train[f].values))\n",
    "    structures_train[f] = lbl.transform(list(structures_train[f].values))\n",
    "    #df_test[f] = lbl.transform(list(df_test[f].values))"
   ]
  },
  {
   "cell_type": "code",
   "execution_count": 9,
   "metadata": {},
   "outputs": [],
   "source": [
    "X = structures_train.drop(['molecule_name', 'mulliken_charge'], axis=1)\n",
    "Y = structures_train['mulliken_charge']\n",
    "\n",
    "#X_test = df_test.drop(['id', 'molecule_name'], axis=1)"
   ]
  },
  {
   "cell_type": "code",
   "execution_count": 10,
   "metadata": {},
   "outputs": [
    {
     "data": {
      "text/plain": [
       "count   1533537.000\n",
       "mean         -0.000\n",
       "std           0.225\n",
       "min          -0.733\n",
       "25%          -0.192\n",
       "50%           0.099\n",
       "75%           0.127\n",
       "max           0.729\n",
       "Name: mulliken_charge, dtype: float64"
      ]
     },
     "execution_count": 10,
     "metadata": {},
     "output_type": "execute_result"
    }
   ],
   "source": [
    "Y.describe()"
   ]
  },
  {
   "cell_type": "code",
   "execution_count": 11,
   "metadata": {},
   "outputs": [],
   "source": [
    "# Set up folds\n",
    "K = 10\n",
    "kf = KFold(n_splits = K, random_state = 1, shuffle = True)"
   ]
  },
  {
   "cell_type": "code",
   "execution_count": 12,
   "metadata": {},
   "outputs": [],
   "source": [
    "### Train the Model\n",
    "params = {'num_leaves': 128,\n",
    "          'min_child_samples': 79,\n",
    "          'objective': 'regression',\n",
    "          'n_estimators': 1000,\n",
    "          'max_depth': 9,\n",
    "          'learning_rate': 0.1,\n",
    "          \"boosting_type\": \"gbdt\",\n",
    "          \"subsample_freq\": 1,\n",
    "          \"subsample\": 0.9,\n",
    "          \"bagging_seed\": 11,\n",
    "          \"metric\": 'mae',\n",
    "          \"verbosity\": -1,\n",
    "          'reg_alpha': 0.1,\n",
    "          'reg_lambda': 0.3,\n",
    "          'colsample_bytree': 1.0\n",
    "         }"
   ]
  },
  {
   "cell_type": "code",
   "execution_count": 13,
   "metadata": {},
   "outputs": [
    {
     "name": "stdout",
     "output_type": "stream",
     "text": [
      "\n",
      "Fold: 0\n"
     ]
    },
    {
     "ename": "KeyboardInterrupt",
     "evalue": "",
     "output_type": "error",
     "traceback": [
      "\u001b[0;31m---------------------------------------------------------------------------\u001b[0m",
      "\u001b[0;31mKeyboardInterrupt\u001b[0m                         Traceback (most recent call last)",
      "\u001b[0;32m<ipython-input-13-27cba7320bd2>\u001b[0m in \u001b[0;36m<module>\u001b[0;34m\u001b[0m\n\u001b[1;32m      9\u001b[0m \u001b[0;34m\u001b[0m\u001b[0m\n\u001b[1;32m     10\u001b[0m         \u001b[0mfit_model\u001b[0m \u001b[0;34m=\u001b[0m \u001b[0mlgb\u001b[0m\u001b[0;34m.\u001b[0m\u001b[0mLGBMRegressor\u001b[0m\u001b[0;34m(\u001b[0m\u001b[0;34m**\u001b[0m\u001b[0mparams\u001b[0m\u001b[0;34m)\u001b[0m\u001b[0;34m\u001b[0m\u001b[0;34m\u001b[0m\u001b[0m\n\u001b[0;32m---> 11\u001b[0;31m         \u001b[0mfit_model\u001b[0m\u001b[0;34m.\u001b[0m\u001b[0mfit\u001b[0m\u001b[0;34m(\u001b[0m\u001b[0mX_train\u001b[0m\u001b[0;34m,\u001b[0m \u001b[0mY_train\u001b[0m\u001b[0;34m)\u001b[0m\u001b[0;34m\u001b[0m\u001b[0;34m\u001b[0m\u001b[0m\n\u001b[0m\u001b[1;32m     12\u001b[0m         \u001b[0mpred\u001b[0m \u001b[0;34m=\u001b[0m \u001b[0mfit_model\u001b[0m\u001b[0;34m.\u001b[0m\u001b[0mpredict\u001b[0m\u001b[0;34m(\u001b[0m\u001b[0mX_valid\u001b[0m\u001b[0;34m)\u001b[0m\u001b[0;34m\u001b[0m\u001b[0;34m\u001b[0m\u001b[0m\n\u001b[1;32m     13\u001b[0m         \u001b[0;31m#submit_pred += fit_model.predict(X_test) / K\u001b[0m\u001b[0;34m\u001b[0m\u001b[0;34m\u001b[0m\u001b[0;34m\u001b[0m\u001b[0m\n",
      "\u001b[0;32m/opt/conda/lib/python3.7/site-packages/lightgbm/sklearn.py\u001b[0m in \u001b[0;36mfit\u001b[0;34m(self, X, y, sample_weight, init_score, eval_set, eval_names, eval_sample_weight, eval_init_score, eval_metric, early_stopping_rounds, verbose, feature_name, categorical_feature, callbacks)\u001b[0m\n\u001b[1;32m    683\u001b[0m                                        \u001b[0mverbose\u001b[0m\u001b[0;34m=\u001b[0m\u001b[0mverbose\u001b[0m\u001b[0;34m,\u001b[0m \u001b[0mfeature_name\u001b[0m\u001b[0;34m=\u001b[0m\u001b[0mfeature_name\u001b[0m\u001b[0;34m,\u001b[0m\u001b[0;34m\u001b[0m\u001b[0;34m\u001b[0m\u001b[0m\n\u001b[1;32m    684\u001b[0m                                        \u001b[0mcategorical_feature\u001b[0m\u001b[0;34m=\u001b[0m\u001b[0mcategorical_feature\u001b[0m\u001b[0;34m,\u001b[0m\u001b[0;34m\u001b[0m\u001b[0;34m\u001b[0m\u001b[0m\n\u001b[0;32m--> 685\u001b[0;31m                                        callbacks=callbacks)\n\u001b[0m\u001b[1;32m    686\u001b[0m         \u001b[0;32mreturn\u001b[0m \u001b[0mself\u001b[0m\u001b[0;34m\u001b[0m\u001b[0;34m\u001b[0m\u001b[0m\n\u001b[1;32m    687\u001b[0m \u001b[0;34m\u001b[0m\u001b[0m\n",
      "\u001b[0;32m/opt/conda/lib/python3.7/site-packages/lightgbm/sklearn.py\u001b[0m in \u001b[0;36mfit\u001b[0;34m(self, X, y, sample_weight, init_score, group, eval_set, eval_names, eval_sample_weight, eval_class_weight, eval_init_score, eval_group, eval_metric, early_stopping_rounds, verbose, feature_name, categorical_feature, callbacks)\u001b[0m\n\u001b[1;32m    542\u001b[0m                               \u001b[0mverbose_eval\u001b[0m\u001b[0;34m=\u001b[0m\u001b[0mverbose\u001b[0m\u001b[0;34m,\u001b[0m \u001b[0mfeature_name\u001b[0m\u001b[0;34m=\u001b[0m\u001b[0mfeature_name\u001b[0m\u001b[0;34m,\u001b[0m\u001b[0;34m\u001b[0m\u001b[0;34m\u001b[0m\u001b[0m\n\u001b[1;32m    543\u001b[0m                               \u001b[0mcategorical_feature\u001b[0m\u001b[0;34m=\u001b[0m\u001b[0mcategorical_feature\u001b[0m\u001b[0;34m,\u001b[0m\u001b[0;34m\u001b[0m\u001b[0;34m\u001b[0m\u001b[0m\n\u001b[0;32m--> 544\u001b[0;31m                               callbacks=callbacks)\n\u001b[0m\u001b[1;32m    545\u001b[0m \u001b[0;34m\u001b[0m\u001b[0m\n\u001b[1;32m    546\u001b[0m         \u001b[0;32mif\u001b[0m \u001b[0mevals_result\u001b[0m\u001b[0;34m:\u001b[0m\u001b[0;34m\u001b[0m\u001b[0;34m\u001b[0m\u001b[0m\n",
      "\u001b[0;32m/opt/conda/lib/python3.7/site-packages/lightgbm/engine.py\u001b[0m in \u001b[0;36mtrain\u001b[0;34m(params, train_set, num_boost_round, valid_sets, valid_names, fobj, feval, init_model, feature_name, categorical_feature, early_stopping_rounds, evals_result, verbose_eval, learning_rates, keep_training_booster, callbacks)\u001b[0m\n\u001b[1;32m    216\u001b[0m                                     evaluation_result_list=None))\n\u001b[1;32m    217\u001b[0m \u001b[0;34m\u001b[0m\u001b[0m\n\u001b[0;32m--> 218\u001b[0;31m         \u001b[0mbooster\u001b[0m\u001b[0;34m.\u001b[0m\u001b[0mupdate\u001b[0m\u001b[0;34m(\u001b[0m\u001b[0mfobj\u001b[0m\u001b[0;34m=\u001b[0m\u001b[0mfobj\u001b[0m\u001b[0;34m)\u001b[0m\u001b[0;34m\u001b[0m\u001b[0;34m\u001b[0m\u001b[0m\n\u001b[0m\u001b[1;32m    219\u001b[0m \u001b[0;34m\u001b[0m\u001b[0m\n\u001b[1;32m    220\u001b[0m         \u001b[0mevaluation_result_list\u001b[0m \u001b[0;34m=\u001b[0m \u001b[0;34m[\u001b[0m\u001b[0;34m]\u001b[0m\u001b[0;34m\u001b[0m\u001b[0;34m\u001b[0m\u001b[0m\n",
      "\u001b[0;32m/opt/conda/lib/python3.7/site-packages/lightgbm/basic.py\u001b[0m in \u001b[0;36mupdate\u001b[0;34m(self, train_set, fobj)\u001b[0m\n\u001b[1;32m   1800\u001b[0m             _safe_call(_LIB.LGBM_BoosterUpdateOneIter(\n\u001b[1;32m   1801\u001b[0m                 \u001b[0mself\u001b[0m\u001b[0;34m.\u001b[0m\u001b[0mhandle\u001b[0m\u001b[0;34m,\u001b[0m\u001b[0;34m\u001b[0m\u001b[0;34m\u001b[0m\u001b[0m\n\u001b[0;32m-> 1802\u001b[0;31m                 ctypes.byref(is_finished)))\n\u001b[0m\u001b[1;32m   1803\u001b[0m             \u001b[0mself\u001b[0m\u001b[0;34m.\u001b[0m\u001b[0m__is_predicted_cur_iter\u001b[0m \u001b[0;34m=\u001b[0m \u001b[0;34m[\u001b[0m\u001b[0;32mFalse\u001b[0m \u001b[0;32mfor\u001b[0m \u001b[0m_\u001b[0m \u001b[0;32min\u001b[0m \u001b[0mrange_\u001b[0m\u001b[0;34m(\u001b[0m\u001b[0mself\u001b[0m\u001b[0;34m.\u001b[0m\u001b[0m__num_dataset\u001b[0m\u001b[0;34m)\u001b[0m\u001b[0;34m]\u001b[0m\u001b[0;34m\u001b[0m\u001b[0;34m\u001b[0m\u001b[0m\n\u001b[1;32m   1804\u001b[0m             \u001b[0;32mreturn\u001b[0m \u001b[0mis_finished\u001b[0m\u001b[0;34m.\u001b[0m\u001b[0mvalue\u001b[0m \u001b[0;34m==\u001b[0m \u001b[0;36m1\u001b[0m\u001b[0;34m\u001b[0m\u001b[0;34m\u001b[0m\u001b[0m\n",
      "\u001b[0;31mKeyboardInterrupt\u001b[0m: "
     ]
    }
   ],
   "source": [
    "scores = []\n",
    "for i, (train_index, test_index) in enumerate(kf.split(structures_train)):\n",
    "\n",
    "        # Create data for this fold\n",
    "        Y_train, Y_valid = Y.iloc[train_index].copy(), Y.iloc[test_index].copy()\n",
    "        X_train, X_valid = X.iloc[train_index,:].copy(), X.iloc[test_index,:].copy()\n",
    "        \n",
    "        print( f'\\nFold: {i}')\n",
    "\n",
    "        fit_model = lgb.LGBMRegressor(**params)\n",
    "        fit_model.fit(X_train, Y_train)\n",
    "        pred = fit_model.predict(X_valid)\n",
    "        #submit_pred += fit_model.predict(X_test) / K\n",
    "        # Save validation predictions for this fold\n",
    "        print( \"MAE: \", mean_absolute_error(Y_valid, pred))\n",
    "        scores.append(mean_absolute_error(Y_valid, pred))\n",
    "        \n",
    "print(f'The mean score of a model for is: {np.mean(scores)}')"
   ]
  },
  {
   "cell_type": "code",
   "execution_count": null,
   "metadata": {},
   "outputs": [],
   "source": [
    "def train_model(df_train, df_test, model_type = None, params = None, gridParams = None):\n",
    "        print(f'{model_type} will be trained ...')\n",
    "        dict_score = dict()\n",
    "        submission_list = list()\n",
    "        for moltype in df_train['type'].unique():\n",
    "            varImp = pd.read_csv(f'{base_path}/varImp/{model_type}/variable_importances_{moltype}.csv')\n",
    "            varImp = varImp[varImp.Value >= 100]\n",
    "            varImpCount = varImp[\"Feature\"].nunique() \n",
    "            varImpUnique = list(varImp['Feature'].unique())\n",
    "            varImpUnique.extend(['id', 'molecule_name', 'scalar_coupling_constant', 'type'])\n",
    "\n",
    "            df_train_type = df_train[df_train.type == moltype].reset_index(drop = True)\n",
    "            df_train_type = df_train_type[varImpUnique]\n",
    "\n",
    "            varImpUnique.remove('scalar_coupling_constant')\n",
    "\n",
    "            df_test_type = df_test[df_test.type == moltype].reset_index(drop = True)\n",
    "            df_test_type = df_test_type[varImpUnique]\n",
    "\n",
    "            print(f'{varImpCount} features have been chosen for modeling of the {moltype} type')\n",
    "\n",
    "            df_train_type = df_train_type.drop(['type'],  axis=1)\n",
    "            df_test_type = df_test_type.drop(['type'],  axis=1)\n",
    "            X = df_train_type.drop(['id', 'molecule_name', 'scalar_coupling_constant'], axis=1)\n",
    "            Y = df_train_type['scalar_coupling_constant']\n",
    "            X_test = df_test_type.drop(['id', 'molecule_name'], axis=1)\n",
    "            print(moltype)\n",
    "#             print(f'Hyper parameter optimization for {moltype} starts...')\n",
    "\n",
    "#             mdl = lgb.LGBMRegressor(**params)\n",
    "\n",
    "#             grid = GridSearchCV(estimator = mdl, \n",
    "#                                 param_grid = gridParams,\n",
    "#                                 scoring='neg_mean_absolute_error',\n",
    "#                                 verbose=50,\n",
    "#                                 cv=2,\n",
    "#                                 n_jobs=30)\n",
    "\n",
    "#             grid.fit(X, Y)\n",
    "\n",
    "#             maxdep = grid.best_params_[\"max_depth\"]\n",
    "#             learnrate = grid.best_params_[\"learning_rate\"]\n",
    "            \n",
    "#             # Print the best parameters found\n",
    "#             print(f' the best max_depth is {maxdep} and the best learning rate of {learnrate}')\n",
    "#             print(f'the best score is {grid.best_score_}')\n",
    "\n",
    "#             params['max_depth'] = grid.best_params_['max_depth']\n",
    "#             params['learning_rate'] = grid.best_params_['learning_rate']\n",
    "\n",
    "#             print(f'Hyper parameter optimization for {moltype} is finished. Model tarining starts')\n",
    "\n",
    "#             gc.collect()      \n",
    "            submit_pred = np.zeros(X_test.shape[0])\n",
    "            scores = []\n",
    "            for i, (train_index, test_index) in enumerate(kf.split(df_train_type)):\n",
    "\n",
    "                # Create data for this fold\n",
    "                Y_train, Y_valid = Y.iloc[train_index].copy(), Y.iloc[test_index].copy()\n",
    "                X_train, X_valid = X.iloc[train_index,:].copy(), X.iloc[test_index,:].copy()\n",
    "\n",
    "                print( f'\\nFold {moltype}: {i}')\n",
    "            \n",
    "                if model_type == 'LGBM':\n",
    "                    fit_model = lgb.LGBMRegressor(**params)\n",
    "                    fit_model.fit(X_train, Y_train)\n",
    "                \n",
    "                elif model_type == 'CatBoost':\n",
    "                    fit_model = cat.CatBoostRegressor(**params)                                                    \n",
    "                    fit_model.fit(X_train, Y_train,  verbose = False)\n",
    "                else : \n",
    "                    print(f'This {model_type} is not yet supported!')\n",
    "                \n",
    "                pred = fit_model.predict(X_valid)\n",
    "                submit_pred += fit_model.predict(X_test) / K\n",
    "                # Save validation predictions for this fold\n",
    "                print( \"Group Log MAE: \", math.log(mean_absolute_error(Y_valid, pred)))\n",
    "                scores.append(math.log(mean_absolute_error(Y_valid, pred)))\n",
    "                \n",
    "\n",
    "            print(f'The mean score of a model for {moltype} is: {np.mean(scores)}')\n",
    "            dict_score[moltype] = np.mean(scores)\n",
    "\n",
    "            #submit_pred = fit_model.predict(X_test)\n",
    "            submit_pred= pd.DataFrame(submit_pred)\n",
    "            submit_pred.columns = ['scalar_coupling_constant']\n",
    "            sub = pd.concat([df_test_type['id'], submit_pred], axis = 1)\n",
    "            submission_list.append(sub)\n",
    "            # Show variable importance of a model\n",
    "            #show_varimp(fit_model = fit_model, model_type = model_type, mol_type = moltype, X = X)\n",
    "\n",
    "        print(\"Overall mean is \", np.array(list(dict_score.values())).mean())\n",
    "        return [submission_list, dict_score]\n",
    "    "
   ]
  },
  {
   "cell_type": "code",
   "execution_count": null,
   "metadata": {},
   "outputs": [],
   "source": []
  }
 ],
 "metadata": {
  "kernelspec": {
   "display_name": "Python 3",
   "language": "python",
   "name": "python3"
  },
  "language_info": {
   "codemirror_mode": {
    "name": "ipython",
    "version": 3
   },
   "file_extension": ".py",
   "mimetype": "text/x-python",
   "name": "python",
   "nbconvert_exporter": "python",
   "pygments_lexer": "ipython3",
   "version": "3.7.3"
  }
 },
 "nbformat": 4,
 "nbformat_minor": 2
}
