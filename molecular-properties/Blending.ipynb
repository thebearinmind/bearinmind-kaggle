{
 "cells": [
  {
   "cell_type": "code",
   "execution_count": 36,
   "metadata": {},
   "outputs": [],
   "source": [
    "import pandas as pd\n",
    "import numpy as np\n",
    "import seaborn as sns"
   ]
  },
  {
   "cell_type": "code",
   "execution_count": 37,
   "metadata": {},
   "outputs": [],
   "source": [
    "base_path = '/home/jovyan/work/Molecular_Properties'"
   ]
  },
  {
   "cell_type": "code",
   "execution_count": 84,
   "metadata": {},
   "outputs": [
    {
     "name": "stdout",
     "output_type": "stream",
     "text": [
      "count    2.505542e+06\n",
      "mean     1.588567e+01\n",
      "std      3.486345e+01\n",
      "min     -3.042205e+01\n",
      "25%     -2.263961e-01\n",
      "50%      2.279954e+00\n",
      "75%      7.340391e+00\n",
      "max      2.034746e+02\n",
      "Name: scalar_coupling_constant, dtype: float64\n",
      "count    2.505542e+06\n",
      "mean     1.588516e+01\n",
      "std      3.485694e+01\n",
      "min     -3.163485e+01\n",
      "25%     -2.100354e-01\n",
      "50%      2.288803e+00\n",
      "75%      7.312868e+00\n",
      "max      2.033617e+02\n",
      "Name: scalar_coupling_constant, dtype: float64\n"
     ]
    }
   ],
   "source": [
    "#sub1 = pd.read_csv(f'./submission_model_by_type_lgbm.csv')\n",
    "#sub1 = pd.read_csv('./my_lgbm_responsible_chemistry_kernel.csv')\n",
    "#sub1 = pd.read_csv('./my_lgbm_responsible_chemistry_kernel.csv')\n",
    "sub1 = pd.read_csv('./my_lgb_and_sergej_kernel.csv')\n",
    "#sub1 = pd.read_csv('./my_lgbm_responsible_chemistry_kernel_mpnn.csv')\n",
    "#sub1 = pd.read_csv(f'./my_lgb_responsible_chemistry.csv')\n",
    "#sub2 = pd.read_csv('./2019-07-09 09_19_00_LightGBM.csv')\n",
    "#sub1 = pd.read_csv('./my_lgb_and_sergej_kernel.csv')\n",
    "#sub1 = pd.read_csv(f'{base_path}/responsible_chemistry.csv')\n",
    "#sub2 = pd.read_csv('./steal_like_an_electron_kernel.csv')\n",
    "#sub2 = pd.read_csv('./weighted-avg-blend-lgb-keras-1-for_blending.csv')\n",
    "#sub2 = pd.read_csv('./steal_like_an_electron_kernel.csv')\n",
    "#sub2 = pd.read_csv('./submission_model_by_type_catboost.csv')\n",
    "#sub2 = pd.read_csv('./stack_median.csv')\n",
    "#sub2 = pd.read_csv('./сhemistry_of_subs_kernel.csv')\n",
    "#sub2 = pd.read_csv(f'./submission_model_by_type_lgbm_10_folds.csv')\n",
    "sub2 = pd.read_csv(f'{base_path}/responsible_chemistry.csv')\n",
    "#sub2 = pd.read_csv(f'{base_path}/keras_nn_kernal.csv')\n",
    "#sub2 = pd.read_csv(f'{base_path}/submission_mpnn.csv')\n",
    "#sub2 = pd.read_csv('./submission_model_by_type_keras.csv')\n",
    "#sub2 = pd.read_csv('./submission_model_by_type_keras_no_2JHN.csv')\n",
    "#sub2 = pd.read_csv(\"./submission_model_by_type_keras_updated.csv\")\n",
    "print( sub1['scalar_coupling_constant'].describe())\n",
    "print( sub2['scalar_coupling_constant'].describe())"
   ]
  },
  {
   "cell_type": "code",
   "execution_count": 69,
   "metadata": {},
   "outputs": [],
   "source": [
    "# def trunc_at(s, d, n=3):\n",
    "#     \"Returns s truncated at the n'th (3rd by default) occurrence of the delimiter, d.\"\n",
    "#     return d.join(s.split(d, n)[:n])"
   ]
  },
  {
   "cell_type": "code",
   "execution_count": 70,
   "metadata": {},
   "outputs": [],
   "source": [
    "#sub2.scalar_coupling_constant = sub2.scalar_coupling_constant.to_string()"
   ]
  },
  {
   "cell_type": "code",
   "execution_count": 71,
   "metadata": {},
   "outputs": [],
   "source": [
    "#sub2['scalar_coupling_constant'] = sub2['scalar_coupling_constant'].apply(lambda x: trunc_at(x, '.', 2))"
   ]
  },
  {
   "cell_type": "code",
   "execution_count": 72,
   "metadata": {},
   "outputs": [],
   "source": [
    "#sub2['scalar_coupling_constant'] = pd.to_numeric(sub2['scalar_coupling_constant'])"
   ]
  },
  {
   "cell_type": "code",
   "execution_count": 73,
   "metadata": {},
   "outputs": [],
   "source": [
    "#sub2.dtypes"
   ]
  },
  {
   "cell_type": "code",
   "execution_count": 85,
   "metadata": {},
   "outputs": [],
   "source": [
    "sub1 = sub1.merge(sub2.drop_duplicates(subset=['id']), how = 'left',on = 'id')"
   ]
  },
  {
   "cell_type": "code",
   "execution_count": 86,
   "metadata": {},
   "outputs": [
    {
     "data": {
      "text/html": [
       "<div>\n",
       "<style scoped>\n",
       "    .dataframe tbody tr th:only-of-type {\n",
       "        vertical-align: middle;\n",
       "    }\n",
       "\n",
       "    .dataframe tbody tr th {\n",
       "        vertical-align: top;\n",
       "    }\n",
       "\n",
       "    .dataframe thead th {\n",
       "        text-align: right;\n",
       "    }\n",
       "</style>\n",
       "<table border=\"1\" class=\"dataframe\">\n",
       "  <thead>\n",
       "    <tr style=\"text-align: right;\">\n",
       "      <th></th>\n",
       "      <th>id</th>\n",
       "      <th>scalar_coupling_constant_x</th>\n",
       "      <th>scalar_coupling_constant_y</th>\n",
       "    </tr>\n",
       "  </thead>\n",
       "  <tbody>\n",
       "    <tr>\n",
       "      <th>count</th>\n",
       "      <td>2.505542e+06</td>\n",
       "      <td>2.505542e+06</td>\n",
       "      <td>2.505542e+06</td>\n",
       "    </tr>\n",
       "    <tr>\n",
       "      <th>mean</th>\n",
       "      <td>5.910918e+06</td>\n",
       "      <td>1.588567e+01</td>\n",
       "      <td>1.588516e+01</td>\n",
       "    </tr>\n",
       "    <tr>\n",
       "      <th>std</th>\n",
       "      <td>7.232878e+05</td>\n",
       "      <td>3.486345e+01</td>\n",
       "      <td>3.485694e+01</td>\n",
       "    </tr>\n",
       "    <tr>\n",
       "      <th>min</th>\n",
       "      <td>4.658147e+06</td>\n",
       "      <td>-3.042205e+01</td>\n",
       "      <td>-3.163485e+01</td>\n",
       "    </tr>\n",
       "    <tr>\n",
       "      <th>25%</th>\n",
       "      <td>5.284532e+06</td>\n",
       "      <td>-2.263961e-01</td>\n",
       "      <td>-2.100354e-01</td>\n",
       "    </tr>\n",
       "    <tr>\n",
       "      <th>50%</th>\n",
       "      <td>5.910918e+06</td>\n",
       "      <td>2.279954e+00</td>\n",
       "      <td>2.288803e+00</td>\n",
       "    </tr>\n",
       "    <tr>\n",
       "      <th>75%</th>\n",
       "      <td>6.537303e+06</td>\n",
       "      <td>7.340391e+00</td>\n",
       "      <td>7.312868e+00</td>\n",
       "    </tr>\n",
       "    <tr>\n",
       "      <th>max</th>\n",
       "      <td>7.163688e+06</td>\n",
       "      <td>2.034746e+02</td>\n",
       "      <td>2.033617e+02</td>\n",
       "    </tr>\n",
       "  </tbody>\n",
       "</table>\n",
       "</div>"
      ],
      "text/plain": [
       "                 id  scalar_coupling_constant_x  scalar_coupling_constant_y\n",
       "count  2.505542e+06                2.505542e+06                2.505542e+06\n",
       "mean   5.910918e+06                1.588567e+01                1.588516e+01\n",
       "std    7.232878e+05                3.486345e+01                3.485694e+01\n",
       "min    4.658147e+06               -3.042205e+01               -3.163485e+01\n",
       "25%    5.284532e+06               -2.263961e-01               -2.100354e-01\n",
       "50%    5.910918e+06                2.279954e+00                2.288803e+00\n",
       "75%    6.537303e+06                7.340391e+00                7.312868e+00\n",
       "max    7.163688e+06                2.034746e+02                2.033617e+02"
      ]
     },
     "execution_count": 86,
     "metadata": {},
     "output_type": "execute_result"
    }
   ],
   "source": [
    "sub1.describe()"
   ]
  },
  {
   "cell_type": "code",
   "execution_count": 87,
   "metadata": {},
   "outputs": [],
   "source": [
    "#sub1 = sub1.fillna(\"NaN\")\n",
    "#sub1.scalar_coupling_constant_y  = sub1.scalar_coupling_constant_y.fillna(value=sub1.scalar_coupling_constant_x)"
   ]
  },
  {
   "cell_type": "code",
   "execution_count": 88,
   "metadata": {},
   "outputs": [
    {
     "data": {
      "text/plain": [
       "0.20775808836162582"
      ]
     },
     "execution_count": 88,
     "metadata": {},
     "output_type": "execute_result"
    }
   ],
   "source": [
    "( sub1['scalar_coupling_constant_x'] - sub1['scalar_coupling_constant_y']).abs().mean()"
   ]
  },
  {
   "cell_type": "code",
   "execution_count": 89,
   "metadata": {},
   "outputs": [
    {
     "data": {
      "text/html": [
       "<div>\n",
       "<style scoped>\n",
       "    .dataframe tbody tr th:only-of-type {\n",
       "        vertical-align: middle;\n",
       "    }\n",
       "\n",
       "    .dataframe tbody tr th {\n",
       "        vertical-align: top;\n",
       "    }\n",
       "\n",
       "    .dataframe thead th {\n",
       "        text-align: right;\n",
       "    }\n",
       "</style>\n",
       "<table border=\"1\" class=\"dataframe\">\n",
       "  <thead>\n",
       "    <tr style=\"text-align: right;\">\n",
       "      <th></th>\n",
       "      <th>id</th>\n",
       "      <th>scalar_coupling_constant_x</th>\n",
       "      <th>scalar_coupling_constant_y</th>\n",
       "    </tr>\n",
       "  </thead>\n",
       "  <tbody>\n",
       "    <tr>\n",
       "      <th>count</th>\n",
       "      <td>2.505542e+06</td>\n",
       "      <td>2.505542e+06</td>\n",
       "      <td>2.505542e+06</td>\n",
       "    </tr>\n",
       "    <tr>\n",
       "      <th>mean</th>\n",
       "      <td>5.910918e+06</td>\n",
       "      <td>1.588567e+01</td>\n",
       "      <td>1.588516e+01</td>\n",
       "    </tr>\n",
       "    <tr>\n",
       "      <th>std</th>\n",
       "      <td>7.232878e+05</td>\n",
       "      <td>3.486345e+01</td>\n",
       "      <td>3.485694e+01</td>\n",
       "    </tr>\n",
       "    <tr>\n",
       "      <th>min</th>\n",
       "      <td>4.658147e+06</td>\n",
       "      <td>-3.042205e+01</td>\n",
       "      <td>-3.163485e+01</td>\n",
       "    </tr>\n",
       "    <tr>\n",
       "      <th>25%</th>\n",
       "      <td>5.284532e+06</td>\n",
       "      <td>-2.263961e-01</td>\n",
       "      <td>-2.100354e-01</td>\n",
       "    </tr>\n",
       "    <tr>\n",
       "      <th>50%</th>\n",
       "      <td>5.910918e+06</td>\n",
       "      <td>2.279954e+00</td>\n",
       "      <td>2.288803e+00</td>\n",
       "    </tr>\n",
       "    <tr>\n",
       "      <th>75%</th>\n",
       "      <td>6.537303e+06</td>\n",
       "      <td>7.340391e+00</td>\n",
       "      <td>7.312868e+00</td>\n",
       "    </tr>\n",
       "    <tr>\n",
       "      <th>max</th>\n",
       "      <td>7.163688e+06</td>\n",
       "      <td>2.034746e+02</td>\n",
       "      <td>2.033617e+02</td>\n",
       "    </tr>\n",
       "  </tbody>\n",
       "</table>\n",
       "</div>"
      ],
      "text/plain": [
       "                 id  scalar_coupling_constant_x  scalar_coupling_constant_y\n",
       "count  2.505542e+06                2.505542e+06                2.505542e+06\n",
       "mean   5.910918e+06                1.588567e+01                1.588516e+01\n",
       "std    7.232878e+05                3.486345e+01                3.485694e+01\n",
       "min    4.658147e+06               -3.042205e+01               -3.163485e+01\n",
       "25%    5.284532e+06               -2.263961e-01               -2.100354e-01\n",
       "50%    5.910918e+06                2.279954e+00                2.288803e+00\n",
       "75%    6.537303e+06                7.340391e+00                7.312868e+00\n",
       "max    7.163688e+06                2.034746e+02                2.033617e+02"
      ]
     },
     "execution_count": 89,
     "metadata": {},
     "output_type": "execute_result"
    }
   ],
   "source": [
    "sub1.describe()"
   ]
  },
  {
   "cell_type": "code",
   "execution_count": 90,
   "metadata": {},
   "outputs": [
    {
     "data": {
      "text/plain": [
       "count    2.505542e+06\n",
       "mean     1.588552e+01\n",
       "std      3.486107e+01\n",
       "min     -3.078589e+01\n",
       "25%     -2.178345e-01\n",
       "50%      2.282665e+00\n",
       "75%      7.329938e+00\n",
       "max      2.034407e+02\n",
       "Name: scalar_coupling_constant, dtype: float64"
      ]
     },
     "execution_count": 90,
     "metadata": {},
     "output_type": "execute_result"
    }
   ],
   "source": [
    "sub1['scalar_coupling_constant'] = (0.7*sub1['scalar_coupling_constant_x'] + 0.3*sub1['scalar_coupling_constant_y'])\n",
    "sub1['scalar_coupling_constant'].describe()"
   ]
  },
  {
   "cell_type": "code",
   "execution_count": 91,
   "metadata": {},
   "outputs": [
    {
     "data": {
      "text/plain": [
       "count    2.505542e+06\n",
       "mean     1.588552e+01\n",
       "std      3.486107e+01\n",
       "min     -3.078589e+01\n",
       "25%     -2.178345e-01\n",
       "50%      2.282665e+00\n",
       "75%      7.329938e+00\n",
       "max      2.034407e+02\n",
       "Name: scalar_coupling_constant, dtype: float64"
      ]
     },
     "execution_count": 91,
     "metadata": {},
     "output_type": "execute_result"
    }
   ],
   "source": [
    "sub1['scalar_coupling_constant'].describe(include = 'all')"
   ]
  },
  {
   "cell_type": "code",
   "execution_count": 92,
   "metadata": {},
   "outputs": [
    {
     "data": {
      "text/plain": [
       "<matplotlib.axes._subplots.AxesSubplot at 0x7f37a501d4a8>"
      ]
     },
     "execution_count": 92,
     "metadata": {},
     "output_type": "execute_result"
    },
    {
     "data": {
      "image/png": "[encoded data removed]",
      "text/plain": [
       "<Figure size 432x288 with 1 Axes>"
      ]
     },
     "metadata": {
      "needs_background": "light"
     },
     "output_type": "display_data"
    }
   ],
   "source": [
    "sns.distplot(sub1['scalar_coupling_constant'])"
   ]
  },
  {
   "cell_type": "code",
   "execution_count": 93,
   "metadata": {},
   "outputs": [],
   "source": [
    "sub1[['id', 'scalar_coupling_constant']].to_csv('my_lgbm_sergej_resp_chemistry.csv', index=False)"
   ]
  },
  {
   "cell_type": "code",
   "execution_count": 94,
   "metadata": {},
   "outputs": [
    {
     "name": "stdout",
     "output_type": "stream",
     "text": [
      "Warning: Your Kaggle API key is readable by other users on this system! To fix this, you can run 'chmod 600 /home/jovyan/.kaggle/kaggle.json'\n",
      "100%|██████████████████████████████████████| 64.0M/64.0M [00:04<00:00, 15.3MB/s]\n",
      "Successfully submitted to Predicting Molecular Properties"
     ]
    }
   ],
   "source": [
    "!kaggle competitions submit -c champs-scalar-coupling -f my_lgbm_sergej_resp_chemistry.csv -m \"sergej kernel and my lgbm responsible chemistry 70/30\""
   ]
  },
  {
   "cell_type": "code",
   "execution_count": null,
   "metadata": {},
   "outputs": [],
   "source": []
  }
 ],
 "metadata": {
  "kernelspec": {
   "display_name": "Python 3",
   "language": "python",
   "name": "python3"
  },
  "language_info": {
   "codemirror_mode": {
    "name": "ipython",
    "version": 3
   },
   "file_extension": ".py",
   "mimetype": "text/x-python",
   "name": "python",
   "nbconvert_exporter": "python",
   "pygments_lexer": "ipython3",
   "version": "3.7.3"
  }
 },
 "nbformat": 4,
 "nbformat_minor": 2
}
