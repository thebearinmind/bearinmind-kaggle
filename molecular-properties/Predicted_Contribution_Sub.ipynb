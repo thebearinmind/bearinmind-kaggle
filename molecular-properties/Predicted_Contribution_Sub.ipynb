{
 "cells": [
  {
   "cell_type": "code",
   "execution_count": 1,
   "metadata": {},
   "outputs": [],
   "source": [
    "import pandas as pd"
   ]
  },
  {
   "cell_type": "code",
   "execution_count": 4,
   "metadata": {},
   "outputs": [],
   "source": [
    "df_comp = pd.read_csv('df_test_sd_pso_dso.csv')\n",
    "fc = pd.read_csv('fc_predicted.csv')"
   ]
  },
  {
   "cell_type": "code",
   "execution_count": 5,
   "metadata": {},
   "outputs": [],
   "source": [
    "df_comp = df_comp.merge(fc, on = ['molecule_name', 'atom_index_0', 'atom_index_1', 'type'])"
   ]
  },
  {
   "cell_type": "code",
   "execution_count": 7,
   "metadata": {},
   "outputs": [],
   "source": [
    "df_comp['scalar_coupling_constant'] = df_comp.apply(lambda x: x['fc'] + x['sd_pso_dso'], axis=1)"
   ]
  },
  {
   "cell_type": "code",
   "execution_count": 8,
   "metadata": {},
   "outputs": [
    {
     "data": {
      "text/html": [
       "<div>\n",
       "<style scoped>\n",
       "    .dataframe tbody tr th:only-of-type {\n",
       "        vertical-align: middle;\n",
       "    }\n",
       "\n",
       "    .dataframe tbody tr th {\n",
       "        vertical-align: top;\n",
       "    }\n",
       "\n",
       "    .dataframe thead th {\n",
       "        text-align: right;\n",
       "    }\n",
       "</style>\n",
       "<table border=\"1\" class=\"dataframe\">\n",
       "  <thead>\n",
       "    <tr style=\"text-align: right;\">\n",
       "      <th></th>\n",
       "      <th>molecule_name</th>\n",
       "      <th>atom_index_0</th>\n",
       "      <th>atom_index_1</th>\n",
       "      <th>type</th>\n",
       "      <th>sd_pso_dso</th>\n",
       "      <th>id</th>\n",
       "      <th>fc</th>\n",
       "      <th>scalar_coupling_constant</th>\n",
       "    </tr>\n",
       "  </thead>\n",
       "  <tbody>\n",
       "    <tr>\n",
       "      <th>0</th>\n",
       "      <td>dsgdb9nsd_000004</td>\n",
       "      <td>2</td>\n",
       "      <td>1</td>\n",
       "      <td>1JHC</td>\n",
       "      <td>0.435867</td>\n",
       "      <td>4658148</td>\n",
       "      <td>191.066054</td>\n",
       "      <td>191.501921</td>\n",
       "    </tr>\n",
       "    <tr>\n",
       "      <th>1</th>\n",
       "      <td>dsgdb9nsd_000004</td>\n",
       "      <td>3</td>\n",
       "      <td>0</td>\n",
       "      <td>1JHC</td>\n",
       "      <td>0.433001</td>\n",
       "      <td>4658150</td>\n",
       "      <td>190.947249</td>\n",
       "      <td>191.380250</td>\n",
       "    </tr>\n",
       "    <tr>\n",
       "      <th>2</th>\n",
       "      <td>dsgdb9nsd_000015</td>\n",
       "      <td>3</td>\n",
       "      <td>0</td>\n",
       "      <td>1JHC</td>\n",
       "      <td>1.095950</td>\n",
       "      <td>4658152</td>\n",
       "      <td>89.319827</td>\n",
       "      <td>90.415778</td>\n",
       "    </tr>\n",
       "    <tr>\n",
       "      <th>3</th>\n",
       "      <td>dsgdb9nsd_000015</td>\n",
       "      <td>4</td>\n",
       "      <td>0</td>\n",
       "      <td>1JHC</td>\n",
       "      <td>1.096196</td>\n",
       "      <td>4658156</td>\n",
       "      <td>89.208701</td>\n",
       "      <td>90.304897</td>\n",
       "    </tr>\n",
       "    <tr>\n",
       "      <th>4</th>\n",
       "      <td>dsgdb9nsd_000015</td>\n",
       "      <td>5</td>\n",
       "      <td>0</td>\n",
       "      <td>1JHC</td>\n",
       "      <td>1.072502</td>\n",
       "      <td>4658159</td>\n",
       "      <td>82.124407</td>\n",
       "      <td>83.196910</td>\n",
       "    </tr>\n",
       "  </tbody>\n",
       "</table>\n",
       "</div>"
      ],
      "text/plain": [
       "      molecule_name  atom_index_0  atom_index_1  type  sd_pso_dso       id  \\\n",
       "0  dsgdb9nsd_000004             2             1  1JHC    0.435867  4658148   \n",
       "1  dsgdb9nsd_000004             3             0  1JHC    0.433001  4658150   \n",
       "2  dsgdb9nsd_000015             3             0  1JHC    1.095950  4658152   \n",
       "3  dsgdb9nsd_000015             4             0  1JHC    1.096196  4658156   \n",
       "4  dsgdb9nsd_000015             5             0  1JHC    1.072502  4658159   \n",
       "\n",
       "           fc  scalar_coupling_constant  \n",
       "0  191.066054                191.501921  \n",
       "1  190.947249                191.380250  \n",
       "2   89.319827                 90.415778  \n",
       "3   89.208701                 90.304897  \n",
       "4   82.124407                 83.196910  "
      ]
     },
     "execution_count": 8,
     "metadata": {},
     "output_type": "execute_result"
    }
   ],
   "source": [
    "df_comp.head()"
   ]
  },
  {
   "cell_type": "code",
   "execution_count": 11,
   "metadata": {},
   "outputs": [],
   "source": [
    "df_comp[['id', 'scalar_coupling_constant']].to_csv('fc_sd_pso_dso_submission.csv', index = False)"
   ]
  },
  {
   "cell_type": "code",
   "execution_count": 1,
   "metadata": {},
   "outputs": [
    {
     "name": "stdout",
     "output_type": "stream",
     "text": [
      "Warning: Your Kaggle API key is readable by other users on this system! To fix this, you can run 'chmod 600 /home/jovyan/.kaggle/kaggle.json'\n",
      "100%|██████████████████████████████████████| 64.0M/64.0M [00:05<00:00, 13.1MB/s]\n",
      "Successfully submitted to Predicting Molecular Properties"
     ]
    }
   ],
   "source": [
    "!kaggle competitions submit -c champs-scalar-coupling -f fc_sd_pso_dso_submission.csv -m \"predicted sd dso pso + fc summed up\""
   ]
  },
  {
   "cell_type": "code",
   "execution_count": null,
   "metadata": {},
   "outputs": [],
   "source": []
  }
 ],
 "metadata": {
  "kernelspec": {
   "display_name": "Python 3",
   "language": "python",
   "name": "python3"
  },
  "language_info": {
   "codemirror_mode": {
    "name": "ipython",
    "version": 3
   },
   "file_extension": ".py",
   "mimetype": "text/x-python",
   "name": "python",
   "nbconvert_exporter": "python",
   "pygments_lexer": "ipython3",
   "version": "3.7.3"
  }
 },
 "nbformat": 4,
 "nbformat_minor": 2
}
