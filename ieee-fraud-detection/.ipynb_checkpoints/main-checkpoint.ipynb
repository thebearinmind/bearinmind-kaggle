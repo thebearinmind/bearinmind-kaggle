{
 "cells": [
  {
   "cell_type": "code",
   "execution_count": 13,
   "metadata": {},
   "outputs": [],
   "source": [
    "import sys\n",
    "sys.path.insert(0, '/home/jovyan/work/Molecular_Properties/model-pipeline/src')\n",
    "import pandas as pd\n",
    "import warnings\n",
    "import numpy as np\n",
    "from sklearn.preprocessing import LabelEncoder\n",
    "from model_construction import encode_categorical, prepare_data_split, run_model\n",
    "import gc\n",
    "warnings.simplefilter(action='ignore', category=FutureWarning)\n",
    "pd.set_option('display.max_columns', 500)\n",
    "pd.set_option('display.float_format', lambda x: '%.3f' % x)\n",
    "np.set_printoptions(suppress=True)"
   ]
  },
  {
   "cell_type": "code",
   "execution_count": null,
   "metadata": {},
   "outputs": [],
   "source": [
    "!kaggle competitions download -c ieee-fraud-detection\n",
    "!unzip \\*.zip\n",
    "!rm *.zip"
   ]
  },
  {
   "cell_type": "code",
   "execution_count": 2,
   "metadata": {},
   "outputs": [],
   "source": [
    "#df_train_id = pd.read_csv('train_identity.csv')\n",
    "#df_test_id = pd.read_csv('test_identity.csv')\n",
    "df_train_txn = pd.read_csv('train_transaction.csv')\n",
    "df_test_txn = pd.read_csv('test_transaction.csv')"
   ]
  },
  {
   "cell_type": "code",
   "execution_count": 3,
   "metadata": {},
   "outputs": [
    {
     "data": {
      "text/plain": [
       "array(['TransactionID', 'isFraud', 'TransactionDT', 'TransactionAmt',\n",
       "       'ProductCD', 'card1', 'card2', 'card3', 'card4', 'card5', 'card6',\n",
       "       'addr1', 'addr2', 'dist1', 'dist2', 'P_emaildomain',\n",
       "       'R_emaildomain', 'C1', 'C2', 'C3', 'C4', 'C5', 'C6', 'C7', 'C8',\n",
       "       'C9', 'C10', 'C11', 'C12', 'C13', 'C14', 'D1', 'D2', 'D3', 'D4',\n",
       "       'D5', 'D6', 'D7', 'D8', 'D9', 'D10', 'D11', 'D12', 'D13', 'D14',\n",
       "       'D15', 'M1', 'M2', 'M3', 'M4', 'M5', 'M6', 'M7', 'M8', 'M9', 'V1',\n",
       "       'V2', 'V3', 'V4', 'V5', 'V6', 'V7', 'V8', 'V9', 'V10', 'V11',\n",
       "       'V12', 'V13', 'V14', 'V15', 'V16', 'V17', 'V18', 'V19', 'V20',\n",
       "       'V21', 'V22', 'V23', 'V24', 'V25', 'V26', 'V27', 'V28', 'V29',\n",
       "       'V30', 'V31', 'V32', 'V33', 'V34', 'V35', 'V36', 'V37', 'V38',\n",
       "       'V39', 'V40', 'V41', 'V42', 'V43', 'V44', 'V45', 'V46', 'V47',\n",
       "       'V48', 'V49', 'V50', 'V51', 'V52', 'V53', 'V54', 'V55', 'V56',\n",
       "       'V57', 'V58', 'V59', 'V60', 'V61', 'V62', 'V63', 'V64', 'V65',\n",
       "       'V66', 'V67', 'V68', 'V69', 'V70', 'V71', 'V72', 'V73', 'V74',\n",
       "       'V75', 'V76', 'V77', 'V78', 'V79', 'V80', 'V81', 'V82', 'V83',\n",
       "       'V84', 'V85', 'V86', 'V87', 'V88', 'V89', 'V90', 'V91', 'V92',\n",
       "       'V93', 'V94', 'V95', 'V96', 'V97', 'V98', 'V99', 'V100', 'V101',\n",
       "       'V102', 'V103', 'V104', 'V105', 'V106', 'V107', 'V108', 'V109',\n",
       "       'V110', 'V111', 'V112', 'V113', 'V114', 'V115', 'V116', 'V117',\n",
       "       'V118', 'V119', 'V120', 'V121', 'V122', 'V123', 'V124', 'V125',\n",
       "       'V126', 'V127', 'V128', 'V129', 'V130', 'V131', 'V132', 'V133',\n",
       "       'V134', 'V135', 'V136', 'V137', 'V138', 'V139', 'V140', 'V141',\n",
       "       'V142', 'V143', 'V144', 'V145', 'V146', 'V147', 'V148', 'V149',\n",
       "       'V150', 'V151', 'V152', 'V153', 'V154', 'V155', 'V156', 'V157',\n",
       "       'V158', 'V159', 'V160', 'V161', 'V162', 'V163', 'V164', 'V165',\n",
       "       'V166', 'V167', 'V168', 'V169', 'V170', 'V171', 'V172', 'V173',\n",
       "       'V174', 'V175', 'V176', 'V177', 'V178', 'V179', 'V180', 'V181',\n",
       "       'V182', 'V183', 'V184', 'V185', 'V186', 'V187', 'V188', 'V189',\n",
       "       'V190', 'V191', 'V192', 'V193', 'V194', 'V195', 'V196', 'V197',\n",
       "       'V198', 'V199', 'V200', 'V201', 'V202', 'V203', 'V204', 'V205',\n",
       "       'V206', 'V207', 'V208', 'V209', 'V210', 'V211', 'V212', 'V213',\n",
       "       'V214', 'V215', 'V216', 'V217', 'V218', 'V219', 'V220', 'V221',\n",
       "       'V222', 'V223', 'V224', 'V225', 'V226', 'V227', 'V228', 'V229',\n",
       "       'V230', 'V231', 'V232', 'V233', 'V234', 'V235', 'V236', 'V237',\n",
       "       'V238', 'V239', 'V240', 'V241', 'V242', 'V243', 'V244', 'V245',\n",
       "       'V246', 'V247', 'V248', 'V249', 'V250', 'V251', 'V252', 'V253',\n",
       "       'V254', 'V255', 'V256', 'V257', 'V258', 'V259', 'V260', 'V261',\n",
       "       'V262', 'V263', 'V264', 'V265', 'V266', 'V267', 'V268', 'V269',\n",
       "       'V270', 'V271', 'V272', 'V273', 'V274', 'V275', 'V276', 'V277',\n",
       "       'V278', 'V279', 'V280', 'V281', 'V282', 'V283', 'V284', 'V285',\n",
       "       'V286', 'V287', 'V288', 'V289', 'V290', 'V291', 'V292', 'V293',\n",
       "       'V294', 'V295', 'V296', 'V297', 'V298', 'V299', 'V300', 'V301',\n",
       "       'V302', 'V303', 'V304', 'V305', 'V306', 'V307', 'V308', 'V309',\n",
       "       'V310', 'V311', 'V312', 'V313', 'V314', 'V315', 'V316', 'V317',\n",
       "       'V318', 'V319', 'V320', 'V321', 'V322', 'V323', 'V324', 'V325',\n",
       "       'V326', 'V327', 'V328', 'V329', 'V330', 'V331', 'V332', 'V333',\n",
       "       'V334', 'V335', 'V336', 'V337', 'V338', 'V339'], dtype=object)"
      ]
     },
     "execution_count": 3,
     "metadata": {},
     "output_type": "execute_result"
    }
   ],
   "source": [
    "df_train_txn.columns.values"
   ]
  },
  {
   "cell_type": "code",
   "execution_count": 4,
   "metadata": {},
   "outputs": [
    {
     "data": {
      "text/plain": [
       "332"
      ]
     },
     "execution_count": 4,
     "metadata": {},
     "output_type": "execute_result"
    }
   ],
   "source": [
    "df_train_txn['addr1'].nunique()"
   ]
  },
  {
   "cell_type": "code",
   "execution_count": 14,
   "metadata": {},
   "outputs": [],
   "source": [
    "def encode_categorical(df_train, df_test, column_list):\n",
    "    for f in column_list:\n",
    "        df_train[f] = df_train[f].to_string()\n",
    "        df_test[f] = df_test[f].to_string()        \n",
    "        print(f'{f} column is being transformed ...')\n",
    "        lbl = LabelEncoder()\n",
    "        lbl.fit(list(df_train[f].values) + list(df_test[f].values))\n",
    "        df_train[f] = lbl.transform(list(df_train[f].values))\n",
    "        df_test[f] = lbl.transform(list(df_test[f].values))\n",
    "        gc.collect"
   ]
  },
  {
   "cell_type": "code",
   "execution_count": 15,
   "metadata": {},
   "outputs": [],
   "source": [
    "cat_cols = ['ProductCD', 'card1', 'card2', 'card3', 'card4', 'card5', 'card6', 'addr1', 'addr2', 'P_emaildomain', 'R_emaildomain', 'M1','M2', 'M3', 'M4', 'M5', 'M6', 'M7', 'M8', 'M9']"
   ]
  },
  {
   "cell_type": "code",
   "execution_count": null,
   "metadata": {},
   "outputs": [],
   "source": [
    "encode_categorical(df_train_txn, df_test_txn, cat_cols)"
   ]
  },
  {
   "cell_type": "code",
   "execution_count": null,
   "metadata": {},
   "outputs": [],
   "source": [
    "print('hi')"
   ]
  },
  {
   "cell_type": "code",
   "execution_count": null,
   "metadata": {},
   "outputs": [],
   "source": []
  }
 ],
 "metadata": {
  "kernelspec": {
   "display_name": "Python 3",
   "language": "python",
   "name": "python3"
  },
  "language_info": {
   "codemirror_mode": {
    "name": "ipython",
    "version": 3
   },
   "file_extension": ".py",
   "mimetype": "text/x-python",
   "name": "python",
   "nbconvert_exporter": "python",
   "pygments_lexer": "ipython3",
   "version": "3.7.3"
  }
 },
 "nbformat": 4,
 "nbformat_minor": 2
}
