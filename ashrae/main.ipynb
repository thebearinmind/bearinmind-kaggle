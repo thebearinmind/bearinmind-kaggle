{
 "cells": [
  {
   "cell_type": "code",
   "execution_count": 1,
   "metadata": {},
   "outputs": [
    {
     "name": "stderr",
     "output_type": "stream",
     "text": [
      "Using TensorFlow backend.\n"
     ]
    }
   ],
   "source": [
    "import sys\n",
    "sys.path.insert(0, '/home/jovyan/work/Molecular_Properties/model-pipeline/src')\n",
    "import pandas as pd\n",
    "import warnings\n",
    "import numpy as np\n",
    "from sklearn.preprocessing import LabelEncoder, OneHotEncoder\n",
    "#from model_construction import prepare_data_split, run_model, show_varimp\n",
    "from bearinmind_pipeline.data_preprocessing import dataPreprocessing as dp\n",
    "#from bearinmind_pipeline.model_construction import modelBuilder as mb\n",
    "import bearinmind_pipeline.model_construction as mc\n",
    "#from bearinmind_pipeline import data_preprocessing, model_construction, results_blend\n",
    "import gc\n",
    "from sklearn.metrics import roc_auc_score\n",
    "import matplotlib.pyplot as plt\n",
    "import seaborn as sns\n",
    "import xgboost as xgb\n",
    "import os\n",
    "import lightgbm as lgb\n",
    "from imblearn.over_sampling import SMOTE\n",
    "from fbprophet import Prophet\n",
    "warnings.simplefilter(action='ignore', category=FutureWarning)\n",
    "pd.set_option('display.max_columns', 500)\n",
    "pd.set_option('display.float_format', lambda x: '%.3f' % x)\n",
    "np.set_printoptions(suppress=True)\n",
    "from multiprocessing import Pool, cpu_count\n",
    "import time\n"
   ]
  },
  {
   "cell_type": "code",
   "execution_count": 2,
   "metadata": {},
   "outputs": [],
   "source": [
    "import datetime\n",
    "from tqdm import tqdm_notebook, tqdm "
   ]
  },
  {
   "cell_type": "code",
   "execution_count": 3,
   "metadata": {},
   "outputs": [],
   "source": [
    "df_train = pd.read_csv('data/train.csv')\n",
    "df_test = pd.read_csv('data/test.csv')\n",
    "mapping = pd.read_csv('data/building_metadata.csv')\n",
    "weather_train = pd.read_csv('data/weather_train.csv')\n",
    "weather_test = pd.read_csv('data/weather_test.csv')"
   ]
  },
  {
   "cell_type": "code",
   "execution_count": 4,
   "metadata": {},
   "outputs": [],
   "source": [
    "df_train = df_train.merge(mapping, how = \"left\", on = \"building_id\")"
   ]
  },
  {
   "cell_type": "code",
   "execution_count": 5,
   "metadata": {},
   "outputs": [],
   "source": [
    "df_test = df_test.merge(mapping, how = \"left\", on = \"building_id\")"
   ]
  },
  {
   "cell_type": "code",
   "execution_count": 6,
   "metadata": {},
   "outputs": [],
   "source": [
    "df_train = df_train.merge(weather_train, how = \"left\", on = [\"site_id\", \"timestamp\"])\n",
    "df_test = df_test.merge(weather_test, how = \"left\", on =  [\"site_id\", \"timestamp\"])"
   ]
  },
  {
   "cell_type": "code",
   "execution_count": 7,
   "metadata": {},
   "outputs": [],
   "source": [
    "def rmsle(y, yhat):\n",
    "    score = np.sqrt(np.mean(np.power(np.log(yhat+1)-np.log(y.reset_index(drop=True)+1), 2)))\n",
    "    return(score)"
   ]
  },
  {
   "cell_type": "code",
   "execution_count": 8,
   "metadata": {},
   "outputs": [],
   "source": [
    "df_train[\"timestamp\"] = pd.to_datetime(df_train[\"timestamp\"])"
   ]
  },
  {
   "cell_type": "code",
   "execution_count": 9,
   "metadata": {},
   "outputs": [],
   "source": [
    "df_test[\"timestamp\"] = pd.to_datetime(df_test[\"timestamp\"])"
   ]
  },
  {
   "cell_type": "code",
   "execution_count": 10,
   "metadata": {},
   "outputs": [],
   "source": [
    "df_train[\"air_temperature\"] = df_train[\"air_temperature\"].fillna(df_train[\"air_temperature\"].mean())\n",
    "df_test[\"air_temperature\"] = df_test[\"air_temperature\"].fillna(df_test[\"air_temperature\"].mean())\n",
    "df_train[\"dew_temperature\"] = df_train[\"dew_temperature\"].fillna(df_train[\"dew_temperature\"].mean())\n",
    "df_test[\"dew_temperature\"] = df_test[\"dew_temperature\"].fillna(df_test[\"dew_temperature\"].mean())\n",
    "df_train[\"sea_level_pressure\"] = df_train[\"sea_level_pressure\"].fillna(df_train[\"sea_level_pressure\"].mean())\n",
    "df_test[\"sea_level_pressure\"] = df_test[\"sea_level_pressure\"].fillna(df_test[\"sea_level_pressure\"].mean())\n",
    "df_train[\"wind_direction\"] = df_train[\"wind_direction\"].fillna(df_train[\"wind_direction\"].mean())\n",
    "df_test[\"wind_direction\"] = df_test[\"wind_direction\"].fillna(df_test[\"wind_direction\"].mean())\n",
    "df_train[\"wind_speed\"] = df_train[\"wind_speed\"].fillna(df_train[\"wind_speed\"].mean())\n",
    "df_test[\"wind_speed\"] = df_test[\"wind_speed\"].fillna(df_test[\"wind_speed\"].mean())"
   ]
  },
  {
   "cell_type": "code",
   "execution_count": 14,
   "metadata": {},
   "outputs": [],
   "source": [
    "df_train['it_key'] = df_train.groupby(['building_id','meter']).ngroup()"
   ]
  },
  {
   "cell_type": "code",
   "execution_count": 18,
   "metadata": {},
   "outputs": [],
   "source": [
    "df_test['it_key'] = df_test.groupby(['building_id','meter']).ngroup()"
   ]
  },
  {
   "cell_type": "code",
   "execution_count": 20,
   "metadata": {},
   "outputs": [],
   "source": [
    "def run_prophet(iter_idx):\n",
    "    #for i in build_idx:\n",
    "        #scores = []\n",
    "        #df_train_build = df_train[df_train[\"it_key\"] == iter_idx]\n",
    "        #df_test_build = df_test[df_test[\"it_key\"] == iter_idx]\n",
    "\n",
    "        df_train_build_meter = df_train[df_train[\"it_key\"] == iter_idx][[\"timestamp\", \"meter_reading\", \n",
    "                                                                                 \"air_temperature\", \n",
    "                                                                                 \"dew_temperature\", \n",
    "                                                                                 \"sea_level_pressure\",\n",
    "                                                                                 \"wind_direction\", \n",
    "                                                                                 \"wind_speed\"]].reset_index(drop=True)\n",
    "        df_test_build_meter = df_test[df_test[\"it_key\"] == iter_idx][[\"row_id\",\"timestamp\",\n",
    "                                                                             \"air_temperature\", \n",
    "                                                                             \"dew_temperature\", \n",
    "                                                                             \"sea_level_pressure\",\n",
    "                                                                             \"wind_direction\", \n",
    "                                                                             \"wind_speed\"]]\n",
    "\n",
    "        df_train_build_meter.columns = [\"ds\", \"y\", \"air_temperature\", \"dew_temperature\",\n",
    "                                                                        \"sea_level_pressure\",\n",
    "                                                                        \"wind_direction\", \n",
    "                                                                        \"wind_speed\"]\n",
    "        df_test_build_meter.columns = [\"row_id\", \"ds\", \"air_temperature\", \"dew_temperature\", \n",
    "                                                                              \"sea_level_pressure\",\n",
    "                                                                              \"wind_direction\", \n",
    "                                                                              \"wind_speed\"]\n",
    "\n",
    "        z = Prophet(interval_width=0.95, daily_seasonality=True, weekly_seasonality=True,\n",
    "             seasonality_mode = 'multiplicative')\n",
    "        z.add_regressor('air_temperature')\n",
    "        z.add_regressor('dew_temperature')\n",
    "        z.add_regressor('sea_level_pressure')\n",
    "        z.add_regressor('wind_direction')\n",
    "        z.add_regressor('wind_speed')\n",
    "        z.add_seasonality(name='hourly', period=24, fourier_order=2)\n",
    "        z.add_seasonality(name='monthly', period=30.5, fourier_order=5)\n",
    "        z.fit(df_train_build_meter)\n",
    "\n",
    "        submit = z.predict(df_test_build_meter[[\"ds\", \"air_temperature\", \n",
    "                                   \"dew_temperature\", \n",
    "                                   \"sea_level_pressure\",\n",
    "                                   \"wind_direction\", \n",
    "                                   \"wind_speed\"\n",
    "                                  ]])\n",
    "\n",
    "        #submit_pred = fit_model.predict(X_test)\n",
    "        submit= pd.DataFrame(submit[\"yhat\"])\n",
    "        submit.columns = ['meter_reading']\n",
    "        submit = pd.concat([df_test_build_meter['row_id'].reset_index(drop=True), submit], axis = 1)\n",
    "        #submit_pred.append(submit)\n",
    "           \n",
    "        #gc.collect()\n",
    "            \n",
    "        print(f'Building {iter_idx} is finished ...')\n",
    "            \n",
    "        #del df_train_build_meter\n",
    "        #del df_test_build_meter\n",
    "        \n",
    "        return(submit)"
   ]
  },
  {
   "cell_type": "code",
   "execution_count": 21,
   "metadata": {},
   "outputs": [],
   "source": [
    "dict_scores = {}\n",
    "submit_pred = []\n",
    "#test_build_idx = range(5)\n",
    "#build_idx = list(df_train[\"building_id\"].unique())\n",
    "iter_idx = list(df_train[\"it_key\"].unique())"
   ]
  },
  {
   "cell_type": "code",
   "execution_count": 22,
   "metadata": {},
   "outputs": [
    {
     "data": {
      "text/plain": [
       "697"
      ]
     },
     "execution_count": 22,
     "metadata": {},
     "output_type": "execute_result"
    }
   ],
   "source": [
    "gc.collect()"
   ]
  },
  {
   "cell_type": "code",
   "execution_count": null,
   "metadata": {},
   "outputs": [
    {
     "name": "stderr",
     "output_type": "stream",
     "text": [
      "  0%|          | 0/2380 [00:00<?, ?it/s]"
     ]
    },
    {
     "name": "stdout",
     "output_type": "stream",
     "text": [
      "Building 5 is finished ...\n",
      "Building 27 is finished ...\n",
      "Building 41 is finished ...\n",
      "Building 7 is finished ...\n",
      "Building 31 is finished ...\n",
      "Building 10 is finished ...\n",
      "Building 30 is finished ...\n",
      "Building 29 is finished ...\n",
      "Building 12 is finished ...\n",
      "Building 26 is finished ...\n",
      "Building 9 is finished ...\n",
      "Building 15 is finished ...\n",
      "Building 22 is finished ...\n",
      "Building 39 is finished ...\n",
      "Building 33 is finished ...\n",
      "Building 17 is finished ...\n",
      "Building 24 is finished ...\n",
      "Building 14 is finished ...\n",
      "Building 6 is finished ...\n",
      "Building 19 is finished ...\n",
      "Building 37 is finished ...\n",
      "Building 32 is finished ...\n",
      "Building 28 is finished ...\n",
      "Building 3 is finished ...\n",
      "Building 2 is finished ...\n",
      "Building 1 is finished ...\n",
      "Building 25 is finished ...\n",
      "Building 0 is finished ...\n"
     ]
    },
    {
     "name": "stderr",
     "output_type": "stream",
     "text": [
      "  0%|          | 1/2380 [11:15<446:22:29, 675.47s/it]"
     ]
    },
    {
     "name": "stdout",
     "output_type": "stream",
     "text": [
      "Building 4 is finished ...\n"
     ]
    },
    {
     "name": "stderr",
     "output_type": "stream",
     "text": [
      "  0%|          | 5/2380 [11:15<311:57:33, 472.86s/it]"
     ]
    },
    {
     "name": "stdout",
     "output_type": "stream",
     "text": [
      "Building 23 is finished ...\n",
      "Building 21 is finished ...\n",
      "Building 13 is finished ...\n"
     ]
    },
    {
     "name": "stderr",
     "output_type": "stream",
     "text": [
      "  1%|          | 12/2380 [11:17<217:45:59, 331.06s/it]"
     ]
    },
    {
     "name": "stdout",
     "output_type": "stream",
     "text": [
      "Building 43 is finished ...\n",
      "Building 42 is finished ...\n"
     ]
    },
    {
     "name": "stderr",
     "output_type": "stream",
     "text": [
      "  1%|▏         | 33/2380 [12:46<151:55:02, 233.02s/it]"
     ]
    },
    {
     "name": "stdout",
     "output_type": "stream",
     "text": [
      "Building 44 is finished ...\n"
     ]
    },
    {
     "name": "stderr",
     "output_type": "stream",
     "text": [
      "  1%|▏         | 35/2380 [13:26<110:10:23, 169.14s/it]"
     ]
    },
    {
     "name": "stdout",
     "output_type": "stream",
     "text": [
      "Building 48 is finished ...\n",
      "Building 45 is finished ...\n"
     ]
    },
    {
     "name": "stderr",
     "output_type": "stream",
     "text": [
      "  2%|▏         | 36/2380 [14:42<91:54:15, 141.15s/it] "
     ]
    },
    {
     "name": "stdout",
     "output_type": "stream",
     "text": [
      "Building 49 is finished ...\n",
      "Building 46 is finished ...\n"
     ]
    },
    {
     "name": "stderr",
     "output_type": "stream",
     "text": [
      "  2%|▏         | 37/2380 [15:49<77:20:22, 118.83s/it]"
     ]
    },
    {
     "name": "stdout",
     "output_type": "stream",
     "text": [
      "Building 47 is finished ...\n"
     ]
    },
    {
     "name": "stderr",
     "output_type": "stream",
     "text": [
      "  2%|▏         | 38/2380 [16:18<59:41:28, 91.75s/it] "
     ]
    },
    {
     "name": "stdout",
     "output_type": "stream",
     "text": [
      "Building 54 is finished ...\n",
      "Building 52 is finished ...\n",
      "Building 64 is finished ...\n",
      "Building 50 is finished ...\n"
     ]
    },
    {
     "name": "stderr",
     "output_type": "stream",
     "text": [
      "  2%|▏         | 41/2380 [19:01<52:21:15, 80.58s/it]"
     ]
    },
    {
     "name": "stdout",
     "output_type": "stream",
     "text": [
      "Building 51 is finished ...\n"
     ]
    },
    {
     "name": "stderr",
     "output_type": "stream",
     "text": [
      "  2%|▏         | 42/2380 [21:48<69:10:13, 106.51s/it]"
     ]
    },
    {
     "name": "stdout",
     "output_type": "stream",
     "text": [
      "Building 72 is finished ...\n",
      "Building 60 is finished ...\n",
      "Building 59 is finished ...\n",
      "Building 71 is finished ...\n",
      "Building 57 is finished ...\n",
      "Building 62 is finished ...\n",
      "Building 76 is finished ...\n",
      "Building 63 is finished ...\n",
      "Building 65 is finished ...\n",
      "Building 66 is finished ...\n",
      "Building 55 is finished ...\n"
     ]
    },
    {
     "name": "stderr",
     "output_type": "stream",
     "text": [
      "  2%|▏         | 45/2380 [23:46<55:58:49, 86.31s/it] "
     ]
    },
    {
     "name": "stdout",
     "output_type": "stream",
     "text": [
      "Building 75 is finished ...\n",
      "Building 77 is finished ...\n",
      "Building 56 is finished ...\n"
     ]
    },
    {
     "name": "stderr",
     "output_type": "stream",
     "text": [
      "  2%|▏         | 46/2380 [23:59<41:42:18, 64.33s/it]"
     ]
    },
    {
     "name": "stdout",
     "output_type": "stream",
     "text": [
      "Building 74 is finished ...\n",
      "Building 70 is finished ...\n",
      "Building 69 is finished ...\n",
      "Building 68 is finished ...\n"
     ]
    },
    {
     "name": "stderr",
     "output_type": "stream",
     "text": [
      "  2%|▏         | 55/2380 [24:41<29:59:42, 46.44s/it]"
     ]
    },
    {
     "name": "stdout",
     "output_type": "stream",
     "text": [
      "Building 78 is finished ...\n"
     ]
    },
    {
     "name": "stderr",
     "output_type": "stream",
     "text": [
      "  3%|▎         | 64/2380 [24:52<21:08:28, 32.86s/it]"
     ]
    },
    {
     "name": "stdout",
     "output_type": "stream",
     "text": [
      "Building 81 is finished ...\n",
      "Building 79 is finished ...\n"
     ]
    },
    {
     "name": "stderr",
     "output_type": "stream",
     "text": [
      "  3%|▎         | 65/2380 [26:07<29:19:57, 45.61s/it]"
     ]
    },
    {
     "name": "stdout",
     "output_type": "stream",
     "text": [
      "Building 80 is finished ...\n"
     ]
    },
    {
     "name": "stderr",
     "output_type": "stream",
     "text": [
      "  3%|▎         | 66/2380 [26:14<21:58:01, 34.18s/it]"
     ]
    },
    {
     "name": "stdout",
     "output_type": "stream",
     "text": [
      "Building 82 is finished ...\n"
     ]
    },
    {
     "name": "stderr",
     "output_type": "stream",
     "text": [
      "  3%|▎         | 68/2380 [26:17<15:34:16, 24.25s/it]"
     ]
    },
    {
     "name": "stdout",
     "output_type": "stream",
     "text": [
      "Building 83 is finished ...\n"
     ]
    },
    {
     "name": "stderr",
     "output_type": "stream",
     "text": [
      "  3%|▎         | 69/2380 [26:19<11:20:35, 17.67s/it]"
     ]
    },
    {
     "name": "stdout",
     "output_type": "stream",
     "text": [
      "Building 84 is finished ...\n"
     ]
    },
    {
     "name": "stderr",
     "output_type": "stream",
     "text": [
      "  3%|▎         | 70/2380 [26:28<9:41:28, 15.10s/it] "
     ]
    },
    {
     "name": "stdout",
     "output_type": "stream",
     "text": [
      "Building 85 is finished ...\n"
     ]
    },
    {
     "name": "stderr",
     "output_type": "stream",
     "text": [
      "  3%|▎         | 71/2380 [26:31<7:19:41, 11.43s/it]"
     ]
    },
    {
     "name": "stdout",
     "output_type": "stream",
     "text": [
      "Building 86 is finished ...\n"
     ]
    },
    {
     "name": "stderr",
     "output_type": "stream",
     "text": [
      "  3%|▎         | 72/2380 [26:38<6:25:37, 10.03s/it]"
     ]
    },
    {
     "name": "stdout",
     "output_type": "stream",
     "text": [
      "Building 87 is finished ...\n"
     ]
    },
    {
     "name": "stderr",
     "output_type": "stream",
     "text": [
      "  3%|▎         | 73/2380 [26:48<6:26:50, 10.06s/it]"
     ]
    },
    {
     "name": "stdout",
     "output_type": "stream",
     "text": [
      "Building 88 is finished ...\n"
     ]
    },
    {
     "name": "stderr",
     "output_type": "stream",
     "text": [
      "  3%|▎         | 74/2380 [26:53<5:33:51,  8.69s/it]"
     ]
    },
    {
     "name": "stdout",
     "output_type": "stream",
     "text": [
      "Building 90 is finished ...\n"
     ]
    },
    {
     "name": "stderr",
     "output_type": "stream",
     "text": [
      "  3%|▎         | 75/2380 [27:01<5:25:28,  8.47s/it]"
     ]
    },
    {
     "name": "stdout",
     "output_type": "stream",
     "text": [
      "Building 92 is finished ...\n"
     ]
    },
    {
     "name": "stderr",
     "output_type": "stream",
     "text": [
      "  3%|▎         | 76/2380 [27:14<6:10:11,  9.64s/it]"
     ]
    },
    {
     "name": "stdout",
     "output_type": "stream",
     "text": [
      "Building 93 is finished ...\n"
     ]
    },
    {
     "name": "stderr",
     "output_type": "stream",
     "text": [
      "  3%|▎         | 77/2380 [28:58<24:20:58, 38.06s/it]"
     ]
    },
    {
     "name": "stdout",
     "output_type": "stream",
     "text": [
      "Building 95 is finished ...\n"
     ]
    },
    {
     "name": "stderr",
     "output_type": "stream",
     "text": [
      "  3%|▎         | 78/2380 [29:27<22:38:04, 35.40s/it]"
     ]
    },
    {
     "name": "stdout",
     "output_type": "stream",
     "text": [
      "Building 96 is finished ...\n"
     ]
    },
    {
     "name": "stderr",
     "output_type": "stream",
     "text": [
      "  3%|▎         | 79/2380 [31:01<33:52:36, 53.00s/it]"
     ]
    },
    {
     "name": "stdout",
     "output_type": "stream",
     "text": [
      "Building 98 is finished ...\n",
      "Building 97 is finished ...\n"
     ]
    },
    {
     "name": "stderr",
     "output_type": "stream",
     "text": [
      "  3%|▎         | 80/2380 [31:15<26:23:24, 41.31s/it]"
     ]
    },
    {
     "name": "stdout",
     "output_type": "stream",
     "text": [
      "Building 101 is finished ...\n",
      "Building 100 is finished ...\n"
     ]
    },
    {
     "name": "stderr",
     "output_type": "stream",
     "text": [
      "  3%|▎         | 82/2380 [33:58<34:03:12, 53.35s/it]"
     ]
    },
    {
     "name": "stdout",
     "output_type": "stream",
     "text": [
      "Building 112 is finished ...\n",
      "Building 104 is finished ...\n",
      "Building 108 is finished ...\n",
      "Building 105 is finished ...\n",
      "Building 107 is finished ...\n",
      "Building 103 is finished ...\n",
      "Building 113 is finished ...\n",
      "Building 110 is finished ...\n",
      "Building 102 is finished ...\n"
     ]
    },
    {
     "name": "stderr",
     "output_type": "stream",
     "text": [
      "  4%|▎         | 84/2380 [36:45<39:48:09, 62.41s/it]"
     ]
    },
    {
     "name": "stdout",
     "output_type": "stream",
     "text": [
      "Building 106 is finished ...\n"
     ]
    },
    {
     "name": "stderr",
     "output_type": "stream",
     "text": [
      "  4%|▎         | 88/2380 [36:57<28:23:05, 44.58s/it]"
     ]
    },
    {
     "name": "stdout",
     "output_type": "stream",
     "text": [
      "Building 114 is finished ...\n"
     ]
    },
    {
     "name": "stderr",
     "output_type": "stream",
     "text": [
      "  4%|▍         | 94/2380 [37:06<20:05:17, 31.63s/it]"
     ]
    },
    {
     "name": "stdout",
     "output_type": "stream",
     "text": [
      "Building 118 is finished ...\n",
      "Building 116 is finished ...\n"
     ]
    },
    {
     "name": "stderr",
     "output_type": "stream",
     "text": [
      "  4%|▍         | 95/2380 [37:56<23:36:29, 37.19s/it]"
     ]
    },
    {
     "name": "stdout",
     "output_type": "stream",
     "text": [
      "Building 120 is finished ...\n"
     ]
    },
    {
     "name": "stderr",
     "output_type": "stream",
     "text": [
      "  4%|▍         | 97/2380 [38:17<18:33:03, 29.25s/it]"
     ]
    },
    {
     "name": "stdout",
     "output_type": "stream",
     "text": [
      "Building 129 is finished ...\n",
      "Building 122 is finished ...\n"
     ]
    },
    {
     "name": "stderr",
     "output_type": "stream",
     "text": [
      "  4%|▍         | 98/2380 [38:57<20:32:55, 32.42s/it]"
     ]
    },
    {
     "name": "stdout",
     "output_type": "stream",
     "text": [
      "Building 130 is finished ...\n",
      "Building 124 is finished ...\n",
      "Building 131 is finished ...\n",
      "Building 128 is finished ...\n",
      "Building 126 is finished ...\n",
      "Building 132 is finished ...\n",
      "Building 123 is finished ...\n"
     ]
    },
    {
     "name": "stderr",
     "output_type": "stream",
     "text": [
      "  4%|▍         | 99/2380 [39:34<21:17:03, 33.59s/it]"
     ]
    },
    {
     "name": "stdout",
     "output_type": "stream",
     "text": [
      "Building 125 is finished ...\n"
     ]
    },
    {
     "name": "stderr",
     "output_type": "stream",
     "text": [
      "  4%|▍         | 101/2380 [39:34<14:58:03, 23.64s/it]"
     ]
    },
    {
     "name": "stdout",
     "output_type": "stream",
     "text": [
      "Building 133 is finished ...\n"
     ]
    },
    {
     "name": "stderr",
     "output_type": "stream",
     "text": [
      "  5%|▍         | 108/2380 [39:48<10:49:30, 17.15s/it]"
     ]
    },
    {
     "name": "stdout",
     "output_type": "stream",
     "text": [
      "Building 135 is finished ...\n",
      "Building 134 is finished ...\n"
     ]
    },
    {
     "name": "stderr",
     "output_type": "stream",
     "text": [
      "  5%|▍         | 109/2380 [40:14<12:22:43, 19.62s/it]"
     ]
    },
    {
     "name": "stdout",
     "output_type": "stream",
     "text": [
      "Building 137 is finished ...\n",
      "Building 136 is finished ...\n"
     ]
    },
    {
     "name": "stderr",
     "output_type": "stream",
     "text": [
      "  5%|▍         | 111/2380 [40:30<10:10:30, 16.14s/it]"
     ]
    },
    {
     "name": "stdout",
     "output_type": "stream",
     "text": [
      "Building 138 is finished ...\n"
     ]
    },
    {
     "name": "stderr",
     "output_type": "stream",
     "text": [
      "  5%|▍         | 113/2380 [40:31<7:10:42, 11.40s/it] "
     ]
    },
    {
     "name": "stdout",
     "output_type": "stream",
     "text": [
      "Building 140 is finished ...\n",
      "Building 139 is finished ...\n"
     ]
    },
    {
     "name": "stderr",
     "output_type": "stream",
     "text": [
      "  5%|▍         | 114/2380 [40:59<10:27:01, 16.60s/it]"
     ]
    },
    {
     "name": "stdout",
     "output_type": "stream",
     "text": [
      "Building 142 is finished ...\n",
      "Building 145 is finished ...\n",
      "Building 146 is finished ...\n",
      "Building 144 is finished ...\n",
      "Building 143 is finished ...\n",
      "Building 148 is finished ...\n",
      "Building 147 is finished ...\n",
      "Building 141 is finished ...\n"
     ]
    },
    {
     "name": "stderr",
     "output_type": "stream",
     "text": [
      "  5%|▍         | 116/2380 [46:03<35:57:59, 57.19s/it]"
     ]
    },
    {
     "name": "stdout",
     "output_type": "stream",
     "text": [
      "Building 150 is finished ...\n",
      "Building 149 is finished ...\n"
     ]
    },
    {
     "name": "stderr",
     "output_type": "stream",
     "text": [
      "  5%|▌         | 124/2380 [47:23<26:58:22, 43.04s/it]"
     ]
    },
    {
     "name": "stdout",
     "output_type": "stream",
     "text": [
      "Building 152 is finished ...\n",
      "Building 151 is finished ...\n"
     ]
    },
    {
     "name": "stderr",
     "output_type": "stream",
     "text": [
      "  5%|▌         | 126/2380 [48:20<24:12:57, 38.68s/it]"
     ]
    },
    {
     "name": "stdout",
     "output_type": "stream",
     "text": [
      "Building 156 is finished ...\n",
      "Building 153 is finished ...\n"
     ]
    },
    {
     "name": "stderr",
     "output_type": "stream",
     "text": [
      "  5%|▌         | 128/2380 [50:04<26:37:36, 42.56s/it]"
     ]
    },
    {
     "name": "stdout",
     "output_type": "stream",
     "text": [
      "Building 155 is finished ...\n",
      "Building 154 is finished ...\n"
     ]
    },
    {
     "name": "stderr",
     "output_type": "stream",
     "text": [
      "  5%|▌         | 129/2380 [51:02<29:36:36, 47.36s/it]"
     ]
    },
    {
     "name": "stdout",
     "output_type": "stream",
     "text": [
      "Building 158 is finished ...\n",
      "Building 162 is finished ...\n",
      "Building 159 is finished ...\n",
      "Building 157 is finished ...\n"
     ]
    },
    {
     "name": "stderr",
     "output_type": "stream",
     "text": [
      "  6%|▌         | 132/2380 [52:01<24:23:48, 39.07s/it]"
     ]
    },
    {
     "name": "stdout",
     "output_type": "stream",
     "text": [
      "Building 161 is finished ...\n",
      "Building 163 is finished ...\n",
      "Building 165 is finished ...\n",
      "Building 167 is finished ...\n",
      "Building 164 is finished ...\n",
      "Building 168 is finished ...\n",
      "Building 160 is finished ...\n"
     ]
    },
    {
     "name": "stderr",
     "output_type": "stream",
     "text": [
      "  6%|▌         | 135/2380 [53:29<22:29:50, 36.08s/it]"
     ]
    },
    {
     "name": "stdout",
     "output_type": "stream",
     "text": [
      "Building 172 is finished ...\n",
      "Building 169 is finished ...\n",
      "Building 166 is finished ...\n"
     ]
    },
    {
     "name": "stderr",
     "output_type": "stream",
     "text": [
      "  6%|▌         | 141/2380 [53:58<16:36:31, 26.70s/it]"
     ]
    },
    {
     "name": "stdout",
     "output_type": "stream",
     "text": [
      "Building 170 is finished ...\n"
     ]
    },
    {
     "name": "stderr",
     "output_type": "stream",
     "text": [
      "  6%|▌         | 145/2380 [54:02<11:49:59, 19.06s/it]"
     ]
    },
    {
     "name": "stdout",
     "output_type": "stream",
     "text": [
      "Building 171 is finished ...\n"
     ]
    },
    {
     "name": "stderr",
     "output_type": "stream",
     "text": [
      "  6%|▌         | 146/2380 [54:30<13:27:23, 21.68s/it]"
     ]
    },
    {
     "name": "stdout",
     "output_type": "stream",
     "text": [
      "Building 175 is finished ...\n",
      "Building 173 is finished ...\n"
     ]
    },
    {
     "name": "stderr",
     "output_type": "stream",
     "text": [
      "  6%|▌         | 148/2380 [54:41<10:26:35, 16.84s/it]"
     ]
    },
    {
     "name": "stdout",
     "output_type": "stream",
     "text": [
      "Building 174 is finished ...\n"
     ]
    },
    {
     "name": "stderr",
     "output_type": "stream",
     "text": [
      "  6%|▋         | 149/2380 [55:04<11:33:44, 18.66s/it]"
     ]
    },
    {
     "name": "stdout",
     "output_type": "stream",
     "text": [
      "Building 176 is finished ...\n"
     ]
    },
    {
     "name": "stderr",
     "output_type": "stream",
     "text": [
      "  6%|▋         | 151/2380 [55:24<9:54:56, 16.01s/it] "
     ]
    },
    {
     "name": "stdout",
     "output_type": "stream",
     "text": [
      "Building 177 is finished ...\n"
     ]
    },
    {
     "name": "stderr",
     "output_type": "stream",
     "text": [
      "  6%|▋         | 152/2380 [55:32<8:25:03, 13.60s/it]"
     ]
    },
    {
     "name": "stdout",
     "output_type": "stream",
     "text": [
      "Building 179 is finished ...\n",
      "Building 180 is finished ...\n",
      "Building 178 is finished ...\n"
     ]
    },
    {
     "name": "stderr",
     "output_type": "stream",
     "text": [
      "  6%|▋         | 153/2380 [56:48<19:59:20, 32.31s/it]"
     ]
    },
    {
     "name": "stdout",
     "output_type": "stream",
     "text": [
      "Building 181 is finished ...\n"
     ]
    },
    {
     "name": "stderr",
     "output_type": "stream",
     "text": [
      "  7%|▋         | 156/2380 [57:00<14:44:33, 23.86s/it]"
     ]
    },
    {
     "name": "stdout",
     "output_type": "stream",
     "text": [
      "Building 182 is finished ...\n"
     ]
    },
    {
     "name": "stderr",
     "output_type": "stream",
     "text": [
      "  7%|▋         | 157/2380 [57:34<16:33:37, 26.82s/it]"
     ]
    },
    {
     "name": "stdout",
     "output_type": "stream",
     "text": [
      "Building 183 is finished ...\n"
     ]
    },
    {
     "name": "stderr",
     "output_type": "stream",
     "text": [
      "  7%|▋         | 158/2380 [57:56<15:44:06, 25.49s/it]"
     ]
    },
    {
     "name": "stdout",
     "output_type": "stream",
     "text": [
      "Building 184 is finished ...\n"
     ]
    },
    {
     "name": "stderr",
     "output_type": "stream",
     "text": [
      "  7%|▋         | 159/2380 [58:11<13:46:50, 22.34s/it]"
     ]
    },
    {
     "name": "stdout",
     "output_type": "stream",
     "text": [
      "Building 185 is finished ...\n"
     ]
    },
    {
     "name": "stderr",
     "output_type": "stream",
     "text": [
      "  7%|▋         | 160/2380 [59:12<20:55:52, 33.94s/it]"
     ]
    },
    {
     "name": "stdout",
     "output_type": "stream",
     "text": [
      "Building 186 is finished ...\n"
     ]
    },
    {
     "name": "stderr",
     "output_type": "stream",
     "text": [
      "  7%|▋         | 161/2380 [59:54<22:25:01, 36.37s/it]"
     ]
    },
    {
     "name": "stdout",
     "output_type": "stream",
     "text": [
      "Building 188 is finished ...\n",
      "Building 187 is finished ...\n"
     ]
    },
    {
     "name": "stderr",
     "output_type": "stream",
     "text": [
      "  7%|▋         | 162/2380 [1:01:00<27:52:13, 45.24s/it]"
     ]
    },
    {
     "name": "stdout",
     "output_type": "stream",
     "text": [
      "Building 189 is finished ...\n"
     ]
    },
    {
     "name": "stderr",
     "output_type": "stream",
     "text": [
      "  7%|▋         | 164/2380 [1:01:42<23:17:49, 37.85s/it]"
     ]
    },
    {
     "name": "stdout",
     "output_type": "stream",
     "text": [
      "Building 191 is finished ...\n",
      "Building 193 is finished ...\n",
      "Building 190 is finished ...\n"
     ]
    },
    {
     "name": "stderr",
     "output_type": "stream",
     "text": [
      "  7%|▋         | 165/2380 [1:03:26<35:30:27, 57.71s/it]"
     ]
    },
    {
     "name": "stdout",
     "output_type": "stream",
     "text": [
      "Building 192 is finished ...\n"
     ]
    },
    {
     "name": "stderr",
     "output_type": "stream",
     "text": [
      "  7%|▋         | 167/2380 [1:03:34<25:34:16, 41.60s/it]"
     ]
    },
    {
     "name": "stdout",
     "output_type": "stream",
     "text": [
      "Building 195 is finished ...\n",
      "Building 198 is finished ...\n",
      "Building 199 is finished ...\n",
      "Building 197 is finished ...\n",
      "Building 194 is finished ...\n"
     ]
    },
    {
     "name": "stderr",
     "output_type": "stream",
     "text": [
      "  7%|▋         | 169/2380 [1:05:04<26:14:29, 42.73s/it]"
     ]
    },
    {
     "name": "stdout",
     "output_type": "stream",
     "text": [
      "Building 196 is finished ...\n"
     ]
    },
    {
     "name": "stderr",
     "output_type": "stream",
     "text": [
      "  7%|▋         | 171/2380 [1:05:14<19:14:31, 31.36s/it]"
     ]
    },
    {
     "name": "stdout",
     "output_type": "stream",
     "text": [
      "Building 200 is finished ...\n"
     ]
    },
    {
     "name": "stderr",
     "output_type": "stream",
     "text": [
      "  7%|▋         | 175/2380 [1:06:02<15:39:55, 25.58s/it]"
     ]
    },
    {
     "name": "stdout",
     "output_type": "stream",
     "text": [
      "Building 201 is finished ...\n"
     ]
    },
    {
     "name": "stderr",
     "output_type": "stream",
     "text": [
      "  7%|▋         | 176/2380 [1:06:04<11:18:45, 18.48s/it]"
     ]
    },
    {
     "name": "stdout",
     "output_type": "stream",
     "text": [
      "Building 202 is finished ...\n"
     ]
    },
    {
     "name": "stderr",
     "output_type": "stream",
     "text": [
      "  7%|▋         | 177/2380 [1:06:07<8:25:06, 13.76s/it] "
     ]
    },
    {
     "name": "stdout",
     "output_type": "stream",
     "text": [
      "Building 205 is finished ...\n",
      "Building 204 is finished ...\n",
      "Building 206 is finished ...\n",
      "Building 207 is finished ...\n",
      "Building 209 is finished ...\n",
      "Building 210 is finished ...\n",
      "Building 208 is finished ...\n",
      "Building 214 is finished ...\n",
      "Building 212 is finished ...\n",
      "Building 213 is finished ...\n",
      "Building 211 is finished ...\n",
      "Building 215 is finished ...\n",
      "Building 217 is finished ...\n",
      "Building 203 is finished ...\n"
     ]
    },
    {
     "name": "stderr",
     "output_type": "stream",
     "text": [
      "  7%|▋         | 178/2380 [1:09:50<46:48:14, 76.52s/it]"
     ]
    },
    {
     "name": "stdout",
     "output_type": "stream",
     "text": [
      "Building 216 is finished ...\n"
     ]
    },
    {
     "name": "stderr",
     "output_type": "stream",
     "text": [
      "  8%|▊         | 191/2380 [1:10:08<32:48:55, 53.97s/it]"
     ]
    },
    {
     "name": "stdout",
     "output_type": "stream",
     "text": [
      "Building 218 is finished ...\n"
     ]
    },
    {
     "name": "stderr",
     "output_type": "stream",
     "text": [
      "  8%|▊         | 193/2380 [1:10:25<24:34:57, 40.47s/it]"
     ]
    },
    {
     "name": "stdout",
     "output_type": "stream",
     "text": [
      "Building 221 is finished ...\n",
      "Building 219 is finished ...\n"
     ]
    },
    {
     "name": "stderr",
     "output_type": "stream",
     "text": [
      "  8%|▊         | 194/2380 [1:11:57<33:48:17, 55.67s/it]"
     ]
    },
    {
     "name": "stdout",
     "output_type": "stream",
     "text": [
      "Building 220 is finished ...\n"
     ]
    },
    {
     "name": "stderr",
     "output_type": "stream",
     "text": [
      "  8%|▊         | 195/2380 [1:12:27<29:14:53, 48.19s/it]"
     ]
    },
    {
     "name": "stdout",
     "output_type": "stream",
     "text": [
      "Building 223 is finished ...\n",
      "Building 224 is finished ...\n",
      "Building 227 is finished ...\n",
      "Building 222 is finished ...\n"
     ]
    },
    {
     "name": "stderr",
     "output_type": "stream",
     "text": [
      "  8%|▊         | 197/2380 [1:14:56<33:59:28, 56.06s/it]"
     ]
    },
    {
     "name": "stdout",
     "output_type": "stream",
     "text": [
      "Building 225 is finished ...\n"
     ]
    },
    {
     "name": "stderr",
     "output_type": "stream",
     "text": [
      "  8%|▊         | 200/2380 [1:14:57<23:47:45, 39.30s/it]"
     ]
    },
    {
     "name": "stdout",
     "output_type": "stream",
     "text": [
      "Building 228 is finished ...\n",
      "Building 231 is finished ...\n",
      "Building 226 is finished ...\n"
     ]
    },
    {
     "name": "stderr",
     "output_type": "stream",
     "text": [
      "  8%|▊         | 201/2380 [1:15:55<27:18:54, 45.13s/it]"
     ]
    },
    {
     "name": "stdout",
     "output_type": "stream",
     "text": [
      "Building 229 is finished ...\n"
     ]
    },
    {
     "name": "stderr",
     "output_type": "stream",
     "text": [
      "  9%|▊         | 204/2380 [1:15:56<19:06:59, 31.63s/it]"
     ]
    },
    {
     "name": "stdout",
     "output_type": "stream",
     "text": [
      "Building 233 is finished ...\n",
      "Building 230 is finished ...\n"
     ]
    },
    {
     "name": "stderr",
     "output_type": "stream",
     "text": [
      "  9%|▊         | 205/2380 [1:16:57<24:31:28, 40.59s/it]"
     ]
    },
    {
     "name": "stdout",
     "output_type": "stream",
     "text": [
      "Building 232 is finished ...\n"
     ]
    },
    {
     "name": "stderr",
     "output_type": "stream",
     "text": [
      "  9%|▊         | 207/2380 [1:17:20<19:11:38, 31.80s/it]"
     ]
    },
    {
     "name": "stdout",
     "output_type": "stream",
     "text": [
      "Building 236 is finished ...\n",
      "Building 238 is finished ...\n",
      "Building 235 is finished ...\n",
      "Building 239 is finished ...\n",
      "Building 234 is finished ...\n"
     ]
    },
    {
     "name": "stderr",
     "output_type": "stream",
     "text": [
      "  9%|▉         | 209/2380 [1:19:59<27:51:22, 46.19s/it]"
     ]
    },
    {
     "name": "stdout",
     "output_type": "stream",
     "text": [
      "Building 237 is finished ...\n"
     ]
    },
    {
     "name": "stderr",
     "output_type": "stream",
     "text": [
      "  9%|▉         | 212/2380 [1:20:04<19:44:31, 32.78s/it]"
     ]
    },
    {
     "name": "stdout",
     "output_type": "stream",
     "text": [
      "Building 245 is finished ...\n",
      "Building 240 is finished ...\n"
     ]
    },
    {
     "name": "stderr",
     "output_type": "stream",
     "text": [
      "  9%|▉         | 215/2380 [1:20:57<16:58:19, 28.22s/it]"
     ]
    },
    {
     "name": "stdout",
     "output_type": "stream",
     "text": [
      "Building 246 is finished ...\n",
      "Building 241 is finished ...\n"
     ]
    },
    {
     "name": "stderr",
     "output_type": "stream",
     "text": [
      "  9%|▉         | 216/2380 [1:21:07<13:43:24, 22.83s/it]"
     ]
    },
    {
     "name": "stdout",
     "output_type": "stream",
     "text": [
      "Building 248 is finished ...\n",
      "Building 247 is finished ...\n",
      "Building 244 is finished ...\n",
      "Building 242 is finished ...\n"
     ]
    },
    {
     "name": "stderr",
     "output_type": "stream",
     "text": [
      "  9%|▉         | 217/2380 [1:21:39<15:18:59, 25.49s/it]"
     ]
    },
    {
     "name": "stdout",
     "output_type": "stream",
     "text": [
      "Building 243 is finished ...\n"
     ]
    },
    {
     "name": "stderr",
     "output_type": "stream",
     "text": [
      "  9%|▉         | 218/2380 [1:21:53<13:20:28, 22.22s/it]"
     ]
    },
    {
     "name": "stdout",
     "output_type": "stream",
     "text": [
      "Building 249 is finished ...\n"
     ]
    },
    {
     "name": "stderr",
     "output_type": "stream",
     "text": [
      "  9%|▉         | 224/2380 [1:22:12<9:52:30, 16.49s/it] "
     ]
    },
    {
     "name": "stdout",
     "output_type": "stream",
     "text": [
      "Building 250 is finished ...\n"
     ]
    },
    {
     "name": "stderr",
     "output_type": "stream",
     "text": [
      "  9%|▉         | 225/2380 [1:22:45<12:51:47, 21.49s/it]"
     ]
    },
    {
     "name": "stdout",
     "output_type": "stream",
     "text": [
      "Building 253 is finished ...\n",
      "Building 254 is finished ...\n",
      "Building 251 is finished ...\n"
     ]
    },
    {
     "name": "stderr",
     "output_type": "stream",
     "text": [
      "  9%|▉         | 226/2380 [1:23:46<19:54:09, 33.26s/it]"
     ]
    },
    {
     "name": "stdout",
     "output_type": "stream",
     "text": [
      "Building 256 is finished ...\n",
      "Building 259 is finished ...\n",
      "Building 255 is finished ...\n"
     ]
    },
    {
     "name": "stderr",
     "output_type": "stream",
     "text": [
      " 10%|▉         | 229/2380 [1:25:26<19:54:08, 33.31s/it]"
     ]
    },
    {
     "name": "stdout",
     "output_type": "stream",
     "text": [
      "Building 258 is finished ...\n",
      "Building 261 is finished ...\n",
      "Building 260 is finished ...\n",
      "Building 262 is finished ...\n",
      "Building 257 is finished ...\n"
     ]
    },
    {
     "name": "stderr",
     "output_type": "stream",
     "text": [
      " 10%|▉         | 231/2380 [1:27:05<22:45:26, 38.12s/it]"
     ]
    },
    {
     "name": "stdout",
     "output_type": "stream",
     "text": [
      "Building 263 is finished ...\n"
     ]
    },
    {
     "name": "stderr",
     "output_type": "stream",
     "text": [
      " 10%|▉         | 237/2380 [1:28:02<17:35:01, 29.54s/it]"
     ]
    },
    {
     "name": "stdout",
     "output_type": "stream",
     "text": [
      "Building 264 is finished ...\n"
     ]
    },
    {
     "name": "stderr",
     "output_type": "stream",
     "text": [
      " 10%|█         | 238/2380 [1:28:20<15:27:48, 25.99s/it]"
     ]
    },
    {
     "name": "stdout",
     "output_type": "stream",
     "text": [
      "Building 266 is finished ...\n",
      "Building 265 is finished ...\n"
     ]
    },
    {
     "name": "stderr",
     "output_type": "stream",
     "text": [
      " 10%|█         | 239/2380 [1:28:55<17:10:04, 28.87s/it]"
     ]
    },
    {
     "name": "stdout",
     "output_type": "stream",
     "text": [
      "Building 268 is finished ...\n",
      "Building 270 is finished ...\n",
      "Building 269 is finished ...\n",
      "Building 267 is finished ...\n"
     ]
    },
    {
     "name": "stderr",
     "output_type": "stream",
     "text": [
      " 10%|█         | 241/2380 [1:30:37<21:05:03, 35.49s/it]"
     ]
    },
    {
     "name": "stdout",
     "output_type": "stream",
     "text": [
      "Building 272 is finished ...\n",
      "Building 273 is finished ...\n",
      "Building 271 is finished ...\n"
     ]
    },
    {
     "name": "stderr",
     "output_type": "stream",
     "text": [
      " 10%|█         | 245/2380 [1:32:21<19:21:45, 32.65s/it]"
     ]
    },
    {
     "name": "stdout",
     "output_type": "stream",
     "text": [
      "Building 274 is finished ...\n"
     ]
    },
    {
     "name": "stderr",
     "output_type": "stream",
     "text": [
      " 10%|█         | 248/2380 [1:32:24<13:41:51, 23.13s/it]"
     ]
    },
    {
     "name": "stdout",
     "output_type": "stream",
     "text": [
      "Building 278 is finished ...\n",
      "Building 276 is finished ...\n",
      "Building 279 is finished ...\n",
      "Building 280 is finished ...\n",
      "Building 281 is finished ...\n",
      "Building 275 is finished ...\n"
     ]
    },
    {
     "name": "stderr",
     "output_type": "stream",
     "text": [
      " 10%|█         | 249/2380 [1:33:50<24:50:15, 41.96s/it]"
     ]
    },
    {
     "name": "stdout",
     "output_type": "stream",
     "text": [
      "Building 282 is finished ...\n",
      "Building 284 is finished ...\n",
      "Building 277 is finished ...\n"
     ]
    },
    {
     "name": "stderr",
     "output_type": "stream",
     "text": [
      " 11%|█         | 251/2380 [1:34:34<21:15:05, 35.93s/it]"
     ]
    },
    {
     "name": "stdout",
     "output_type": "stream",
     "text": [
      "Building 283 is finished ...\n"
     ]
    },
    {
     "name": "stderr",
     "output_type": "stream",
     "text": [
      " 11%|█         | 257/2380 [1:34:52<15:23:14, 26.09s/it]"
     ]
    },
    {
     "name": "stdout",
     "output_type": "stream",
     "text": [
      "Building 285 is finished ...\n"
     ]
    },
    {
     "name": "stderr",
     "output_type": "stream",
     "text": [
      " 11%|█         | 259/2380 [1:35:24<13:34:03, 23.03s/it]"
     ]
    },
    {
     "name": "stdout",
     "output_type": "stream",
     "text": [
      "Building 286 is finished ...\n"
     ]
    },
    {
     "name": "stderr",
     "output_type": "stream",
     "text": [
      " 11%|█         | 260/2380 [1:35:49<13:48:43, 23.45s/it]"
     ]
    },
    {
     "name": "stdout",
     "output_type": "stream",
     "text": [
      "Building 288 is finished ...\n",
      "Building 287 is finished ...\n"
     ]
    },
    {
     "name": "stderr",
     "output_type": "stream",
     "text": [
      " 11%|█         | 261/2380 [1:36:41<18:58:59, 32.25s/it]"
     ]
    },
    {
     "name": "stdout",
     "output_type": "stream",
     "text": [
      "Building 291 is finished ...\n",
      "Building 289 is finished ...\n"
     ]
    },
    {
     "name": "stderr",
     "output_type": "stream",
     "text": [
      " 11%|█         | 263/2380 [1:37:40<18:29:41, 31.45s/it]"
     ]
    },
    {
     "name": "stdout",
     "output_type": "stream",
     "text": [
      "Building 290 is finished ...\n"
     ]
    },
    {
     "name": "stderr",
     "output_type": "stream",
     "text": [
      " 11%|█         | 264/2380 [1:37:55<15:30:09, 26.38s/it]"
     ]
    },
    {
     "name": "stdout",
     "output_type": "stream",
     "text": [
      "Building 292 is finished ...\n"
     ]
    },
    {
     "name": "stderr",
     "output_type": "stream",
     "text": [
      " 11%|█         | 266/2380 [1:38:34<14:14:34, 24.25s/it]"
     ]
    },
    {
     "name": "stdout",
     "output_type": "stream",
     "text": [
      "Building 294 is finished ...\n",
      "Building 293 is finished ...\n"
     ]
    },
    {
     "name": "stderr",
     "output_type": "stream",
     "text": [
      " 11%|█         | 267/2380 [1:39:16<17:30:32, 29.83s/it]"
     ]
    },
    {
     "name": "stdout",
     "output_type": "stream",
     "text": [
      "Building 295 is finished ...\n"
     ]
    },
    {
     "name": "stderr",
     "output_type": "stream",
     "text": [
      " 11%|█▏        | 269/2380 [1:39:20<12:34:56, 21.46s/it]"
     ]
    },
    {
     "name": "stdout",
     "output_type": "stream",
     "text": [
      "Building 297 is finished ...\n",
      "Building 296 is finished ...\n"
     ]
    },
    {
     "name": "stderr",
     "output_type": "stream",
     "text": [
      " 11%|█▏        | 270/2380 [1:40:23<19:53:40, 33.94s/it]"
     ]
    },
    {
     "name": "stdout",
     "output_type": "stream",
     "text": [
      "Building 298 is finished ...\n"
     ]
    },
    {
     "name": "stderr",
     "output_type": "stream",
     "text": [
      " 11%|█▏        | 272/2380 [1:40:24<13:59:27, 23.89s/it]"
     ]
    },
    {
     "name": "stdout",
     "output_type": "stream",
     "text": [
      "Building 302 is finished ...\n",
      "Building 299 is finished ...\n"
     ]
    },
    {
     "name": "stderr",
     "output_type": "stream",
     "text": [
      " 11%|█▏        | 273/2380 [1:41:58<26:09:45, 44.70s/it]"
     ]
    },
    {
     "name": "stdout",
     "output_type": "stream",
     "text": [
      "Building 301 is finished ...\n",
      "Building 303 is finished ...\n",
      "Building 300 is finished ...\n"
     ]
    },
    {
     "name": "stderr",
     "output_type": "stream",
     "text": [
      " 12%|█▏        | 274/2380 [1:42:41<26:01:01, 44.47s/it]"
     ]
    },
    {
     "name": "stdout",
     "output_type": "stream",
     "text": [
      "Building 305 is finished ...\n",
      "Building 306 is finished ...\n",
      "Building 310 is finished ...\n",
      "Building 307 is finished ...\n",
      "Building 304 is finished ...\n"
     ]
    },
    {
     "name": "stderr",
     "output_type": "stream",
     "text": [
      " 12%|█▏        | 278/2380 [1:44:47<23:40:57, 40.56s/it]"
     ]
    },
    {
     "name": "stdout",
     "output_type": "stream",
     "text": [
      "Building 309 is finished ...\n",
      "Building 311 is finished ...\n",
      "Building 308 is finished ...\n"
     ]
    },
    {
     "name": "stderr",
     "output_type": "stream",
     "text": [
      " 12%|█▏        | 282/2380 [1:45:18<17:52:31, 30.67s/it]"
     ]
    },
    {
     "name": "stdout",
     "output_type": "stream",
     "text": [
      "Building 313 is finished ...\n",
      "Building 312 is finished ...\n"
     ]
    },
    {
     "name": "stderr",
     "output_type": "stream",
     "text": [
      " 12%|█▏        | 286/2380 [1:46:16<15:01:35, 25.83s/it]"
     ]
    },
    {
     "name": "stdout",
     "output_type": "stream",
     "text": [
      "Building 315 is finished ...\n",
      "Building 314 is finished ...\n"
     ]
    },
    {
     "name": "stderr",
     "output_type": "stream",
     "text": [
      " 12%|█▏        | 288/2380 [1:46:43<12:52:55, 22.17s/it]"
     ]
    },
    {
     "name": "stdout",
     "output_type": "stream",
     "text": [
      "Building 316 is finished ...\n"
     ]
    },
    {
     "name": "stderr",
     "output_type": "stream",
     "text": [
      " 12%|█▏        | 290/2380 [1:46:56<10:10:46, 17.53s/it]"
     ]
    },
    {
     "name": "stdout",
     "output_type": "stream",
     "text": [
      "Building 319 is finished ...\n",
      "Building 318 is finished ...\n",
      "Building 320 is finished ...\n",
      "Building 317 is finished ...\n"
     ]
    },
    {
     "name": "stderr",
     "output_type": "stream",
     "text": [
      " 12%|█▏        | 291/2380 [1:48:20<21:37:27, 37.27s/it]"
     ]
    },
    {
     "name": "stdout",
     "output_type": "stream",
     "text": [
      "Building 322 is finished ...\n",
      "Building 323 is finished ...\n",
      "Building 321 is finished ...\n"
     ]
    },
    {
     "name": "stderr",
     "output_type": "stream",
     "text": [
      " 12%|█▏        | 295/2380 [1:49:36<18:25:08, 31.80s/it]"
     ]
    },
    {
     "name": "stdout",
     "output_type": "stream",
     "text": [
      "Building 324 is finished ...\n"
     ]
    },
    {
     "name": "stderr",
     "output_type": "stream",
     "text": [
      " 13%|█▎        | 298/2380 [1:49:46<13:28:13, 23.29s/it]"
     ]
    },
    {
     "name": "stdout",
     "output_type": "stream",
     "text": [
      "Building 325 is finished ...\n"
     ]
    },
    {
     "name": "stderr",
     "output_type": "stream",
     "text": [
      " 13%|█▎        | 299/2380 [1:49:50<10:09:28, 17.57s/it]"
     ]
    },
    {
     "name": "stdout",
     "output_type": "stream",
     "text": [
      "Building 326 is finished ...\n"
     ]
    },
    {
     "name": "stderr",
     "output_type": "stream",
     "text": [
      " 13%|█▎        | 300/2380 [1:50:16<11:26:52, 19.81s/it]"
     ]
    },
    {
     "name": "stdout",
     "output_type": "stream",
     "text": [
      "Building 327 is finished ...\n"
     ]
    },
    {
     "name": "stderr",
     "output_type": "stream",
     "text": [
      " 13%|█▎        | 301/2380 [1:50:54<14:41:40, 25.45s/it]"
     ]
    },
    {
     "name": "stdout",
     "output_type": "stream",
     "text": [
      "Building 329 is finished ...\n",
      "Building 328 is finished ...\n"
     ]
    },
    {
     "name": "stderr",
     "output_type": "stream",
     "text": [
      " 13%|█▎        | 302/2380 [1:51:00<11:22:07, 19.70s/it]"
     ]
    },
    {
     "name": "stdout",
     "output_type": "stream",
     "text": [
      "Building 330 is finished ...\n"
     ]
    },
    {
     "name": "stderr",
     "output_type": "stream",
     "text": [
      " 13%|█▎        | 304/2380 [1:52:27<15:27:07, 26.80s/it]"
     ]
    },
    {
     "name": "stdout",
     "output_type": "stream",
     "text": [
      "Building 332 is finished ...\n",
      "Building 334 is finished ...\n",
      "Building 333 is finished ...\n",
      "Building 331 is finished ...\n"
     ]
    },
    {
     "name": "stderr",
     "output_type": "stream",
     "text": [
      " 13%|█▎        | 305/2380 [1:53:58<26:26:39, 45.88s/it]"
     ]
    },
    {
     "name": "stdout",
     "output_type": "stream",
     "text": [
      "Building 337 is finished ...\n",
      "Building 335 is finished ...\n"
     ]
    },
    {
     "name": "stderr",
     "output_type": "stream",
     "text": [
      " 13%|█▎        | 309/2380 [1:56:09<24:09:00, 41.98s/it]"
     ]
    },
    {
     "name": "stdout",
     "output_type": "stream",
     "text": [
      "Building 338 is finished ...\n",
      "Building 339 is finished ...\n",
      "Building 336 is finished ...\n"
     ]
    },
    {
     "name": "stderr",
     "output_type": "stream",
     "text": [
      " 13%|█▎        | 310/2380 [1:56:47<23:30:07, 40.87s/it]"
     ]
    },
    {
     "name": "stdout",
     "output_type": "stream",
     "text": [
      "Building 341 is finished ...\n",
      "Building 340 is finished ...\n"
     ]
    },
    {
     "name": "stderr",
     "output_type": "stream",
     "text": [
      " 13%|█▎        | 314/2380 [1:56:51<16:33:57, 28.87s/it]"
     ]
    },
    {
     "name": "stdout",
     "output_type": "stream",
     "text": [
      "Building 344 is finished ...\n",
      "Building 345 is finished ...\n",
      "Building 343 is finished ...\n",
      "Building 342 is finished ...\n"
     ]
    },
    {
     "name": "stderr",
     "output_type": "stream",
     "text": [
      " 13%|█▎        | 316/2380 [1:58:13<18:40:05, 32.56s/it]"
     ]
    },
    {
     "name": "stdout",
     "output_type": "stream",
     "text": [
      "Building 346 is finished ...\n"
     ]
    },
    {
     "name": "stderr",
     "output_type": "stream",
     "text": [
      " 13%|█▎        | 320/2380 [1:58:34<13:57:29, 24.39s/it]"
     ]
    },
    {
     "name": "stdout",
     "output_type": "stream",
     "text": [
      "Building 347 is finished ...\n"
     ]
    },
    {
     "name": "stderr",
     "output_type": "stream",
     "text": [
      " 13%|█▎        | 321/2380 [1:58:48<12:00:50, 21.01s/it]"
     ]
    },
    {
     "name": "stdout",
     "output_type": "stream",
     "text": [
      "Building 348 is finished ...\n"
     ]
    },
    {
     "name": "stderr",
     "output_type": "stream",
     "text": [
      " 14%|█▎        | 322/2380 [1:59:21<14:09:14, 24.76s/it]"
     ]
    },
    {
     "name": "stdout",
     "output_type": "stream",
     "text": [
      "Building 351 is finished ...\n",
      "Building 350 is finished ...\n",
      "Building 349 is finished ...\n"
     ]
    },
    {
     "name": "stderr",
     "output_type": "stream",
     "text": [
      " 14%|█▎        | 323/2380 [2:00:37<22:50:40, 39.98s/it]"
     ]
    },
    {
     "name": "stdout",
     "output_type": "stream",
     "text": [
      "Building 352 is finished ...\n"
     ]
    },
    {
     "name": "stderr",
     "output_type": "stream",
     "text": [
      " 14%|█▎        | 326/2380 [2:00:39<16:07:16, 28.26s/it]"
     ]
    },
    {
     "name": "stdout",
     "output_type": "stream",
     "text": [
      "Building 354 is finished ...\n",
      "Building 356 is finished ...\n",
      "Building 355 is finished ...\n",
      "Building 357 is finished ...\n",
      "Building 358 is finished ...\n",
      "Building 353 is finished ...\n"
     ]
    },
    {
     "name": "stderr",
     "output_type": "stream",
     "text": [
      " 14%|█▎        | 327/2380 [2:02:04<25:42:02, 45.07s/it]"
     ]
    },
    {
     "name": "stdout",
     "output_type": "stream",
     "text": [
      "Building 361 is finished ...\n",
      "Building 360 is finished ...\n",
      "Building 362 is finished ...\n",
      "Building 359 is finished ...\n"
     ]
    },
    {
     "name": "stderr",
     "output_type": "stream",
     "text": [
      " 14%|█▍        | 333/2380 [2:03:25<20:15:17, 35.62s/it]"
     ]
    },
    {
     "name": "stdout",
     "output_type": "stream",
     "text": [
      "Building 364 is finished ...\n",
      "Building 365 is finished ...\n",
      "Building 363 is finished ...\n"
     ]
    },
    {
     "name": "stderr",
     "output_type": "stream",
     "text": [
      " 14%|█▍        | 337/2380 [2:04:04<15:49:26, 27.88s/it]"
     ]
    },
    {
     "name": "stdout",
     "output_type": "stream",
     "text": [
      "Building 366 is finished ...\n"
     ]
    },
    {
     "name": "stderr",
     "output_type": "stream",
     "text": [
      " 14%|█▍        | 340/2380 [2:04:39<12:59:52, 22.94s/it]"
     ]
    },
    {
     "name": "stdout",
     "output_type": "stream",
     "text": [
      "Building 367 is finished ...\n"
     ]
    },
    {
     "name": "stderr",
     "output_type": "stream",
     "text": [
      " 14%|█▍        | 341/2380 [2:05:08<14:07:44, 24.95s/it]"
     ]
    },
    {
     "name": "stdout",
     "output_type": "stream",
     "text": [
      "Building 373 is finished ...\n",
      "Building 368 is finished ...\n"
     ]
    },
    {
     "name": "stderr",
     "output_type": "stream",
     "text": [
      " 14%|█▍        | 342/2380 [2:07:11<30:49:31, 54.45s/it]"
     ]
    },
    {
     "name": "stdout",
     "output_type": "stream",
     "text": [
      "Building 370 is finished ...\n",
      "Building 372 is finished ...\n",
      "Building 369 is finished ...\n"
     ]
    },
    {
     "name": "stderr",
     "output_type": "stream",
     "text": [
      " 14%|█▍        | 343/2380 [2:08:08<31:10:59, 55.11s/it]"
     ]
    },
    {
     "name": "stdout",
     "output_type": "stream",
     "text": [
      "Building 371 is finished ...\n"
     ]
    },
    {
     "name": "stderr",
     "output_type": "stream",
     "text": [
      " 14%|█▍        | 345/2380 [2:08:24<23:07:19, 40.90s/it]"
     ]
    },
    {
     "name": "stdout",
     "output_type": "stream",
     "text": [
      "Building 376 is finished ...\n",
      "Building 374 is finished ...\n"
     ]
    },
    {
     "name": "stderr",
     "output_type": "stream",
     "text": [
      " 15%|█▍        | 348/2380 [2:08:34<16:45:43, 29.70s/it]"
     ]
    },
    {
     "name": "stdout",
     "output_type": "stream",
     "text": [
      "Building 375 is finished ...\n"
     ]
    },
    {
     "name": "stderr",
     "output_type": "stream",
     "text": [
      " 15%|█▍        | 349/2380 [2:08:59<15:57:10, 28.28s/it]"
     ]
    },
    {
     "name": "stdout",
     "output_type": "stream",
     "text": [
      "Building 379 is finished ...\n",
      "Building 378 is finished ...\n",
      "Building 380 is finished ...\n",
      "Building 384 is finished ...\n",
      "Building 381 is finished ...\n",
      "Building 377 is finished ...\n"
     ]
    },
    {
     "name": "stderr",
     "output_type": "stream",
     "text": [
      " 15%|█▍        | 351/2380 [2:11:58<26:16:13, 46.61s/it]"
     ]
    },
    {
     "name": "stdout",
     "output_type": "stream",
     "text": [
      "Building 382 is finished ...\n"
     ]
    },
    {
     "name": "stderr",
     "output_type": "stream",
     "text": [
      " 15%|█▍        | 356/2380 [2:12:08<18:41:37, 33.25s/it]"
     ]
    },
    {
     "name": "stdout",
     "output_type": "stream",
     "text": [
      "Building 386 is finished ...\n",
      "Building 383 is finished ...\n"
     ]
    },
    {
     "name": "stderr",
     "output_type": "stream",
     "text": [
      " 15%|█▌        | 357/2380 [2:12:32<17:00:04, 30.25s/it]"
     ]
    },
    {
     "name": "stdout",
     "output_type": "stream",
     "text": [
      "Building 387 is finished ...\n",
      "Building 385 is finished ...\n"
     ]
    },
    {
     "name": "stderr",
     "output_type": "stream",
     "text": [
      " 15%|█▌        | 359/2380 [2:12:59<14:11:27, 25.28s/it]"
     ]
    },
    {
     "name": "stdout",
     "output_type": "stream",
     "text": [
      "Building 389 is finished ...\n",
      "Building 390 is finished ...\n",
      "Building 388 is finished ...\n"
     ]
    },
    {
     "name": "stderr",
     "output_type": "stream",
     "text": [
      " 15%|█▌        | 362/2380 [2:14:00<13:19:34, 23.77s/it]"
     ]
    },
    {
     "name": "stdout",
     "output_type": "stream",
     "text": [
      "Building 391 is finished ...\n"
     ]
    },
    {
     "name": "stderr",
     "output_type": "stream",
     "text": [
      " 15%|█▌        | 365/2380 [2:14:32<11:06:46, 19.85s/it]"
     ]
    },
    {
     "name": "stdout",
     "output_type": "stream",
     "text": [
      "Building 392 is finished ...\n"
     ]
    },
    {
     "name": "stderr",
     "output_type": "stream",
     "text": [
      " 15%|█▌        | 366/2380 [2:14:43<9:39:03, 17.25s/it] "
     ]
    },
    {
     "name": "stdout",
     "output_type": "stream",
     "text": [
      "Building 395 is finished ...\n",
      "Building 393 is finished ...\n"
     ]
    },
    {
     "name": "stderr",
     "output_type": "stream",
     "text": [
      " 15%|█▌        | 367/2380 [2:15:01<9:43:00, 17.38s/it]"
     ]
    },
    {
     "name": "stdout",
     "output_type": "stream",
     "text": [
      "Building 398 is finished ...\n",
      "Building 396 is finished ...\n",
      "Building 394 is finished ...\n"
     ]
    },
    {
     "name": "stderr",
     "output_type": "stream",
     "text": [
      " 15%|█▌        | 368/2380 [2:15:45<14:16:03, 25.53s/it]"
     ]
    },
    {
     "name": "stdout",
     "output_type": "stream",
     "text": [
      "Building 397 is finished ...\n"
     ]
    },
    {
     "name": "stderr",
     "output_type": "stream",
     "text": [
      " 16%|█▌        | 371/2380 [2:15:54<10:27:57, 18.75s/it]"
     ]
    },
    {
     "name": "stdout",
     "output_type": "stream",
     "text": [
      "Building 399 is finished ...\n"
     ]
    },
    {
     "name": "stderr",
     "output_type": "stream",
     "text": [
      " 16%|█▌        | 373/2380 [2:16:14<8:56:50, 16.05s/it] "
     ]
    },
    {
     "name": "stdout",
     "output_type": "stream",
     "text": [
      "Building 401 is finished ...\n",
      "Building 400 is finished ...\n"
     ]
    },
    {
     "name": "stderr",
     "output_type": "stream",
     "text": [
      " 16%|█▌        | 374/2380 [2:18:15<26:30:32, 47.57s/it]"
     ]
    },
    {
     "name": "stdout",
     "output_type": "stream",
     "text": [
      "Building 404 is finished ...\n",
      "Building 403 is finished ...\n",
      "Building 406 is finished ...\n",
      "Building 408 is finished ...\n",
      "Building 407 is finished ...\n",
      "Building 405 is finished ...\n",
      "Building 402 is finished ...\n"
     ]
    },
    {
     "name": "stderr",
     "output_type": "stream",
     "text": [
      " 16%|█▌        | 376/2380 [2:20:22<29:09:29, 52.38s/it]"
     ]
    },
    {
     "name": "stdout",
     "output_type": "stream",
     "text": [
      "Building 409 is finished ...\n"
     ]
    },
    {
     "name": "stderr",
     "output_type": "stream",
     "text": [
      " 16%|█▌        | 383/2380 [2:20:45<20:53:47, 37.67s/it]"
     ]
    },
    {
     "name": "stdout",
     "output_type": "stream",
     "text": [
      "Building 410 is finished ...\n"
     ]
    },
    {
     "name": "stderr",
     "output_type": "stream",
     "text": [
      " 16%|█▌        | 384/2380 [2:21:02<17:22:19, 31.33s/it]"
     ]
    },
    {
     "name": "stdout",
     "output_type": "stream",
     "text": [
      "Building 411 is finished ...\n"
     ]
    },
    {
     "name": "stderr",
     "output_type": "stream",
     "text": [
      " 16%|█▌        | 385/2380 [2:22:01<22:01:13, 39.74s/it]"
     ]
    },
    {
     "name": "stdout",
     "output_type": "stream",
     "text": [
      "Building 412 is finished ...\n"
     ]
    },
    {
     "name": "stderr",
     "output_type": "stream",
     "text": [
      " 16%|█▌        | 386/2380 [2:22:28<19:47:11, 35.72s/it]"
     ]
    },
    {
     "name": "stdout",
     "output_type": "stream",
     "text": [
      "Building 415 is finished ...\n",
      "Building 416 is finished ...\n",
      "Building 414 is finished ...\n",
      "Building 420 is finished ...\n",
      "Building 413 is finished ...\n"
     ]
    },
    {
     "name": "stderr",
     "output_type": "stream",
     "text": [
      " 16%|█▋        | 387/2380 [2:24:32<34:31:54, 62.38s/it]"
     ]
    },
    {
     "name": "stdout",
     "output_type": "stream",
     "text": [
      "Building 418 is finished ...\n",
      "Building 419 is finished ...\n",
      "Building 421 is finished ...\n",
      "Building 417 is finished ...\n"
     ]
    },
    {
     "name": "stderr",
     "output_type": "stream",
     "text": [
      " 16%|█▋        | 391/2380 [2:25:15<25:53:29, 46.86s/it]"
     ]
    },
    {
     "name": "stdout",
     "output_type": "stream",
     "text": [
      "Building 422 is finished ...\n"
     ]
    },
    {
     "name": "stderr",
     "output_type": "stream",
     "text": [
      " 17%|█▋        | 396/2380 [2:25:45<19:03:46, 34.59s/it]"
     ]
    },
    {
     "name": "stdout",
     "output_type": "stream",
     "text": [
      "Building 424 is finished ...\n",
      "Building 425 is finished ...\n",
      "Building 428 is finished ...\n",
      "Building 426 is finished ...\n",
      "Building 423 is finished ...\n"
     ]
    },
    {
     "name": "stderr",
     "output_type": "stream",
     "text": [
      " 17%|█▋        | 397/2380 [2:27:41<32:29:43, 58.99s/it]"
     ]
    },
    {
     "name": "stdout",
     "output_type": "stream",
     "text": [
      "Building 429 is finished ...\n",
      "Building 431 is finished ...\n",
      "Building 430 is finished ...\n",
      "Building 427 is finished ...\n"
     ]
    },
    {
     "name": "stderr",
     "output_type": "stream",
     "text": [
      " 17%|█▋        | 401/2380 [2:28:06<23:45:13, 43.21s/it]"
     ]
    },
    {
     "name": "stdout",
     "output_type": "stream",
     "text": [
      "Building 432 is finished ...\n"
     ]
    },
    {
     "name": "stderr",
     "output_type": "stream",
     "text": [
      " 17%|█▋        | 406/2380 [2:28:41<17:44:39, 32.36s/it]"
     ]
    },
    {
     "name": "stdout",
     "output_type": "stream",
     "text": [
      "Building 434 is finished ...\n",
      "Building 433 is finished ...\n"
     ]
    },
    {
     "name": "stderr",
     "output_type": "stream",
     "text": [
      " 17%|█▋        | 407/2380 [2:30:01<25:29:23, 46.51s/it]"
     ]
    },
    {
     "name": "stdout",
     "output_type": "stream",
     "text": [
      "Building 435 is finished ...\n"
     ]
    },
    {
     "name": "stderr",
     "output_type": "stream",
     "text": [
      " 17%|█▋        | 409/2380 [2:30:33<20:26:44, 37.34s/it]"
     ]
    },
    {
     "name": "stdout",
     "output_type": "stream",
     "text": [
      "Building 437 is finished ...\n",
      "Building 439 is finished ...\n",
      "Building 438 is finished ...\n",
      "Building 441 is finished ...\n",
      "Building 440 is finished ...\n",
      "Building 442 is finished ...\n",
      "Building 436 is finished ...\n"
     ]
    },
    {
     "name": "stderr",
     "output_type": "stream",
     "text": [
      " 17%|█▋        | 410/2380 [2:32:14<30:53:59, 56.47s/it]"
     ]
    },
    {
     "name": "stdout",
     "output_type": "stream",
     "text": [
      "Building 443 is finished ...\n"
     ]
    },
    {
     "name": "stderr",
     "output_type": "stream",
     "text": [
      " 18%|█▊        | 417/2380 [2:32:44<22:16:05, 40.84s/it]"
     ]
    },
    {
     "name": "stdout",
     "output_type": "stream",
     "text": [
      "Building 445 is finished ...\n",
      "Building 444 is finished ...\n"
     ]
    },
    {
     "name": "stderr",
     "output_type": "stream",
     "text": [
      " 18%|█▊        | 418/2380 [2:33:52<26:36:35, 48.83s/it]"
     ]
    },
    {
     "name": "stdout",
     "output_type": "stream",
     "text": [
      "Building 450 is finished ...\n",
      "Building 447 is finished ...\n"
     ]
    },
    {
     "name": "stderr",
     "output_type": "stream",
     "text": [
      " 18%|█▊        | 420/2380 [2:35:37<27:10:38, 49.92s/it]"
     ]
    },
    {
     "name": "stdout",
     "output_type": "stream",
     "text": [
      "Building 453 is finished ...\n",
      "Building 449 is finished ...\n",
      "Building 448 is finished ...\n"
     ]
    },
    {
     "name": "stderr",
     "output_type": "stream",
     "text": [
      " 18%|█▊        | 421/2380 [2:36:10<24:29:09, 45.00s/it]"
     ]
    },
    {
     "name": "stdout",
     "output_type": "stream",
     "text": [
      "Building 452 is finished ...\n",
      "Building 454 is finished ...\n",
      "Building 456 is finished ...\n",
      "Building 451 is finished ...\n"
     ]
    },
    {
     "name": "stderr",
     "output_type": "stream",
     "text": [
      " 18%|█▊        | 424/2380 [2:37:46<22:19:37, 41.09s/it]"
     ]
    },
    {
     "name": "stdout",
     "output_type": "stream",
     "text": [
      "Building 459 is finished ...\n",
      "Building 455 is finished ...\n"
     ]
    },
    {
     "name": "stderr",
     "output_type": "stream",
     "text": [
      " 18%|█▊        | 428/2380 [2:38:14<16:43:58, 30.86s/it]"
     ]
    },
    {
     "name": "stdout",
     "output_type": "stream",
     "text": [
      "Building 457 is finished ...\n"
     ]
    },
    {
     "name": "stderr",
     "output_type": "stream",
     "text": [
      " 18%|█▊        | 430/2380 [2:38:15<11:44:59, 21.69s/it]"
     ]
    },
    {
     "name": "stdout",
     "output_type": "stream",
     "text": [
      "Building 458 is finished ...\n"
     ]
    },
    {
     "name": "stderr",
     "output_type": "stream",
     "text": [
      " 18%|█▊        | 431/2380 [2:38:22<9:23:27, 17.35s/it] "
     ]
    },
    {
     "name": "stdout",
     "output_type": "stream",
     "text": [
      "Building 461 is finished ...\n",
      "Building 464 is finished ...\n",
      "Building 465 is finished ...\n",
      "Building 462 is finished ...\n",
      "Building 463 is finished ...\n",
      "Building 460 is finished ...\n"
     ]
    },
    {
     "name": "stderr",
     "output_type": "stream",
     "text": [
      " 18%|█▊        | 433/2380 [2:41:48<23:14:41, 42.98s/it]"
     ]
    },
    {
     "name": "stdout",
     "output_type": "stream",
     "text": [
      "Building 467 is finished ...\n",
      "Building 470 is finished ...\n",
      "Building 466 is finished ...\n"
     ]
    },
    {
     "name": "stderr",
     "output_type": "stream",
     "text": [
      " 18%|█▊        | 439/2380 [2:42:13<16:53:36, 31.33s/it]"
     ]
    },
    {
     "name": "stdout",
     "output_type": "stream",
     "text": [
      "Building 471 is finished ...\n",
      "Building 468 is finished ...\n"
     ]
    },
    {
     "name": "stderr",
     "output_type": "stream",
     "text": [
      " 19%|█▊        | 441/2380 [2:42:34<13:34:11, 25.19s/it]"
     ]
    },
    {
     "name": "stdout",
     "output_type": "stream",
     "text": [
      "Building 469 is finished ...\n"
     ]
    },
    {
     "name": "stderr",
     "output_type": "stream",
     "text": [
      " 19%|█▊        | 442/2380 [2:42:36<9:46:14, 18.15s/it] "
     ]
    },
    {
     "name": "stdout",
     "output_type": "stream",
     "text": [
      "Building 474 is finished ...\n",
      "Building 473 is finished ...\n",
      "Building 472 is finished ...\n"
     ]
    },
    {
     "name": "stderr",
     "output_type": "stream",
     "text": [
      " 19%|█▊        | 445/2380 [2:42:46<7:20:47, 13.67s/it]"
     ]
    },
    {
     "name": "stdout",
     "output_type": "stream",
     "text": [
      "Building 478 is finished ...\n",
      "Building 477 is finished ...\n",
      "Building 475 is finished ...\n"
     ]
    },
    {
     "name": "stderr",
     "output_type": "stream",
     "text": [
      " 19%|█▉        | 448/2380 [2:45:04<12:32:16, 23.36s/it]"
     ]
    },
    {
     "name": "stdout",
     "output_type": "stream",
     "text": [
      "Building 479 is finished ...\n",
      "Building 481 is finished ...\n",
      "Building 480 is finished ...\n",
      "Building 483 is finished ...\n",
      "Building 485 is finished ...\n",
      "Building 484 is finished ...\n",
      "Building 476 is finished ...\n"
     ]
    },
    {
     "name": "stderr",
     "output_type": "stream",
     "text": [
      " 19%|█▉        | 449/2380 [2:48:09<38:38:01, 72.03s/it]"
     ]
    },
    {
     "name": "stdout",
     "output_type": "stream",
     "text": [
      "Building 486 is finished ...\n",
      "Building 487 is finished ...\n",
      "Building 488 is finished ...\n",
      "Building 492 is finished ...\n",
      "Building 482 is finished ...\n"
     ]
    },
    {
     "name": "stderr",
     "output_type": "stream",
     "text": [
      " 19%|█▉        | 455/2380 [2:50:01<29:57:40, 56.03s/it]"
     ]
    },
    {
     "name": "stdout",
     "output_type": "stream",
     "text": [
      "Building 493 is finished ...\n",
      "Building 494 is finished ...\n",
      "Building 495 is finished ...\n",
      "Building 496 is finished ...\n",
      "Building 491 is finished ...\n"
     ]
    },
    {
     "name": "stderr",
     "output_type": "stream",
     "text": [
      " 19%|█▉        | 462/2380 [2:52:10<23:49:46, 44.73s/it]"
     ]
    },
    {
     "name": "stdout",
     "output_type": "stream",
     "text": [
      "Building 497 is finished ...\n"
     ]
    },
    {
     "name": "stderr",
     "output_type": "stream",
     "text": [
      " 20%|█▉        | 468/2380 [2:52:31<17:10:36, 32.34s/it]"
     ]
    },
    {
     "name": "stdout",
     "output_type": "stream",
     "text": [
      "Building 498 is finished ...\n"
     ]
    },
    {
     "name": "stderr",
     "output_type": "stream",
     "text": [
      " 20%|█▉        | 469/2380 [2:52:45<14:18:08, 26.94s/it]"
     ]
    },
    {
     "name": "stdout",
     "output_type": "stream",
     "text": [
      "Building 499 is finished ...\n"
     ]
    },
    {
     "name": "stderr",
     "output_type": "stream",
     "text": [
      " 20%|█▉        | 470/2380 [2:53:29<17:02:29, 32.12s/it]"
     ]
    },
    {
     "name": "stdout",
     "output_type": "stream",
     "text": [
      "Building 501 is finished ...\n",
      "Building 500 is finished ...\n"
     ]
    },
    {
     "name": "stderr",
     "output_type": "stream",
     "text": [
      " 20%|█▉        | 471/2380 [2:53:38<13:25:03, 25.30s/it]"
     ]
    },
    {
     "name": "stdout",
     "output_type": "stream",
     "text": [
      "Building 505 is finished ...\n",
      "Building 507 is finished ...\n",
      "Building 503 is finished ...\n",
      "Building 504 is finished ...\n",
      "Building 506 is finished ...\n",
      "Building 502 is finished ...\n"
     ]
    },
    {
     "name": "stderr",
     "output_type": "stream",
     "text": [
      " 20%|█▉        | 473/2380 [2:54:33<13:44:46, 25.95s/it]"
     ]
    },
    {
     "name": "stdout",
     "output_type": "stream",
     "text": [
      "Building 508 is finished ...\n"
     ]
    },
    {
     "name": "stderr",
     "output_type": "stream",
     "text": [
      " 20%|██        | 479/2380 [2:55:14<10:39:47, 20.19s/it]"
     ]
    },
    {
     "name": "stdout",
     "output_type": "stream",
     "text": [
      "Building 509 is finished ...\n"
     ]
    },
    {
     "name": "stderr",
     "output_type": "stream",
     "text": [
      " 20%|██        | 480/2380 [2:56:15<17:11:21, 32.57s/it]"
     ]
    },
    {
     "name": "stdout",
     "output_type": "stream",
     "text": [
      "Building 511 is finished ...\n",
      "Building 510 is finished ...\n"
     ]
    },
    {
     "name": "stderr",
     "output_type": "stream",
     "text": [
      " 20%|██        | 481/2380 [2:57:25<23:06:28, 43.81s/it]"
     ]
    },
    {
     "name": "stdout",
     "output_type": "stream",
     "text": [
      "Building 512 is finished ...\n"
     ]
    },
    {
     "name": "stderr",
     "output_type": "stream",
     "text": [
      " 20%|██        | 483/2380 [2:58:25<20:50:47, 39.56s/it]"
     ]
    },
    {
     "name": "stdout",
     "output_type": "stream",
     "text": [
      "Building 515 is finished ...\n",
      "Building 513 is finished ...\n"
     ]
    },
    {
     "name": "stderr",
     "output_type": "stream",
     "text": [
      " 20%|██        | 484/2380 [2:58:35<16:12:42, 30.78s/it]"
     ]
    },
    {
     "name": "stdout",
     "output_type": "stream",
     "text": [
      "Building 517 is finished ...\n",
      "Building 518 is finished ...\n",
      "Building 516 is finished ...\n",
      "Building 514 is finished ...\n"
     ]
    },
    {
     "name": "stderr",
     "output_type": "stream",
     "text": [
      " 20%|██        | 485/2380 [2:59:00<15:14:47, 28.96s/it]"
     ]
    },
    {
     "name": "stdout",
     "output_type": "stream",
     "text": [
      "Building 519 is finished ...\n"
     ]
    },
    {
     "name": "stderr",
     "output_type": "stream",
     "text": [
      " 21%|██        | 490/2380 [3:00:35<13:39:01, 26.00s/it]"
     ]
    },
    {
     "name": "stdout",
     "output_type": "stream",
     "text": [
      "Building 521 is finished ...\n",
      "Building 520 is finished ...\n"
     ]
    },
    {
     "name": "stderr",
     "output_type": "stream",
     "text": [
      " 21%|██        | 491/2380 [3:00:59<13:14:41, 25.24s/it]"
     ]
    },
    {
     "name": "stdout",
     "output_type": "stream",
     "text": [
      "Building 522 is finished ...\n"
     ]
    },
    {
     "name": "stderr",
     "output_type": "stream",
     "text": [
      " 21%|██        | 493/2380 [3:01:03<9:38:03, 18.38s/it] "
     ]
    },
    {
     "name": "stdout",
     "output_type": "stream",
     "text": [
      "Building 523 is finished ...\n"
     ]
    },
    {
     "name": "stderr",
     "output_type": "stream",
     "text": [
      " 21%|██        | 494/2380 [3:01:21<9:27:11, 18.04s/it]"
     ]
    },
    {
     "name": "stdout",
     "output_type": "stream",
     "text": [
      "Building 524 is finished ...\n"
     ]
    },
    {
     "name": "stderr",
     "output_type": "stream",
     "text": [
      " 21%|██        | 495/2380 [3:01:47<10:49:16, 20.67s/it]"
     ]
    },
    {
     "name": "stdout",
     "output_type": "stream",
     "text": [
      "Building 525 is finished ...\n"
     ]
    },
    {
     "name": "stderr",
     "output_type": "stream",
     "text": [
      " 21%|██        | 496/2380 [3:01:49<7:48:29, 14.92s/it] "
     ]
    },
    {
     "name": "stdout",
     "output_type": "stream",
     "text": [
      "Building 527 is finished ...\n",
      "Building 526 is finished ...\n"
     ]
    },
    {
     "name": "stderr",
     "output_type": "stream",
     "text": [
      " 21%|██        | 497/2380 [3:02:49<14:53:40, 28.48s/it]"
     ]
    },
    {
     "name": "stdout",
     "output_type": "stream",
     "text": [
      "Building 528 is finished ...\n"
     ]
    },
    {
     "name": "stderr",
     "output_type": "stream",
     "text": [
      " 21%|██        | 499/2380 [3:03:31<13:43:18, 26.26s/it]"
     ]
    },
    {
     "name": "stdout",
     "output_type": "stream",
     "text": [
      "Building 530 is finished ...\n",
      "Building 532 is finished ...\n",
      "Building 533 is finished ...\n",
      "Building 534 is finished ...\n",
      "Building 529 is finished ...\n"
     ]
    },
    {
     "name": "stderr",
     "output_type": "stream",
     "text": [
      " 21%|██        | 500/2380 [3:05:16<26:02:12, 49.86s/it]"
     ]
    },
    {
     "name": "stdout",
     "output_type": "stream",
     "text": [
      "Building 531 is finished ...\n"
     ]
    },
    {
     "name": "stderr",
     "output_type": "stream",
     "text": [
      " 21%|██        | 502/2380 [3:05:18<18:19:13, 35.12s/it]"
     ]
    },
    {
     "name": "stdout",
     "output_type": "stream",
     "text": [
      "Building 535 is finished ...\n"
     ]
    },
    {
     "name": "stderr",
     "output_type": "stream",
     "text": [
      " 21%|██▏       | 506/2380 [3:05:39<13:38:02, 26.19s/it]"
     ]
    },
    {
     "name": "stdout",
     "output_type": "stream",
     "text": [
      "Building 536 is finished ...\n"
     ]
    },
    {
     "name": "stderr",
     "output_type": "stream",
     "text": [
      " 21%|██▏       | 507/2380 [3:05:42<9:55:57, 19.09s/it] "
     ]
    },
    {
     "name": "stdout",
     "output_type": "stream",
     "text": [
      "Building 538 is finished ...\n",
      "Building 537 is finished ...\n"
     ]
    },
    {
     "name": "stderr",
     "output_type": "stream",
     "text": [
      " 21%|██▏       | 508/2380 [3:05:44<7:22:55, 14.20s/it]"
     ]
    },
    {
     "name": "stdout",
     "output_type": "stream",
     "text": [
      "Building 540 is finished ...\n",
      "Building 539 is finished ...\n"
     ]
    },
    {
     "name": "stderr",
     "output_type": "stream",
     "text": [
      " 21%|██▏       | 510/2380 [3:07:52<15:07:23, 29.11s/it]"
     ]
    },
    {
     "name": "stdout",
     "output_type": "stream",
     "text": [
      "Building 541 is finished ...\n"
     ]
    },
    {
     "name": "stderr",
     "output_type": "stream",
     "text": [
      " 22%|██▏       | 512/2380 [3:08:23<12:59:18, 25.03s/it]"
     ]
    },
    {
     "name": "stdout",
     "output_type": "stream",
     "text": [
      "Building 542 is finished ...\n"
     ]
    },
    {
     "name": "stderr",
     "output_type": "stream",
     "text": [
      " 22%|██▏       | 513/2380 [3:09:31<19:35:37, 37.78s/it]"
     ]
    },
    {
     "name": "stdout",
     "output_type": "stream",
     "text": [
      "Building 543 is finished ...\n"
     ]
    },
    {
     "name": "stderr",
     "output_type": "stream",
     "text": [
      " 22%|██▏       | 514/2380 [3:09:34<14:15:03, 27.49s/it]"
     ]
    },
    {
     "name": "stdout",
     "output_type": "stream",
     "text": [
      "Building 544 is finished ...\n"
     ]
    },
    {
     "name": "stderr",
     "output_type": "stream",
     "text": [
      " 22%|██▏       | 515/2380 [3:10:21<17:14:37, 33.29s/it]"
     ]
    },
    {
     "name": "stdout",
     "output_type": "stream",
     "text": [
      "Building 549 is finished ...\n",
      "Building 548 is finished ...\n",
      "Building 545 is finished ...\n"
     ]
    },
    {
     "name": "stderr",
     "output_type": "stream",
     "text": [
      " 22%|██▏       | 516/2380 [3:10:32<13:42:26, 26.47s/it]"
     ]
    },
    {
     "name": "stdout",
     "output_type": "stream",
     "text": [
      "Building 547 is finished ...\n",
      "Building 550 is finished ...\n",
      "Building 546 is finished ...\n"
     ]
    },
    {
     "name": "stderr",
     "output_type": "stream",
     "text": [
      " 22%|██▏       | 517/2380 [3:11:45<20:58:52, 40.54s/it]"
     ]
    },
    {
     "name": "stdout",
     "output_type": "stream",
     "text": [
      "Building 552 is finished ...\n",
      "Building 551 is finished ...\n"
     ]
    },
    {
     "name": "stderr",
     "output_type": "stream",
     "text": [
      " 22%|██▏       | 522/2380 [3:12:01<15:09:03, 29.36s/it]"
     ]
    },
    {
     "name": "stdout",
     "output_type": "stream",
     "text": [
      "Building 554 is finished ...\n",
      "Building 553 is finished ...\n"
     ]
    },
    {
     "name": "stderr",
     "output_type": "stream",
     "text": [
      " 22%|██▏       | 524/2380 [3:12:20<12:04:14, 23.41s/it]"
     ]
    },
    {
     "name": "stdout",
     "output_type": "stream",
     "text": [
      "Building 555 is finished ...\n"
     ]
    },
    {
     "name": "stderr",
     "output_type": "stream",
     "text": [
      " 22%|██▏       | 526/2380 [3:13:25<13:26:34, 26.10s/it]"
     ]
    },
    {
     "name": "stdout",
     "output_type": "stream",
     "text": [
      "Building 556 is finished ...\n"
     ]
    },
    {
     "name": "stderr",
     "output_type": "stream",
     "text": [
      " 22%|██▏       | 527/2380 [3:13:27<9:38:47, 18.74s/it] "
     ]
    },
    {
     "name": "stdout",
     "output_type": "stream",
     "text": [
      "Building 558 is finished ...\n",
      "Building 557 is finished ...\n"
     ]
    },
    {
     "name": "stderr",
     "output_type": "stream",
     "text": [
      " 22%|██▏       | 528/2380 [3:13:54<10:59:03, 21.35s/it]"
     ]
    },
    {
     "name": "stdout",
     "output_type": "stream",
     "text": [
      "Building 559 is finished ...\n"
     ]
    },
    {
     "name": "stderr",
     "output_type": "stream",
     "text": [
      " 22%|██▏       | 530/2380 [3:14:09<8:48:25, 17.14s/it] "
     ]
    },
    {
     "name": "stdout",
     "output_type": "stream",
     "text": [
      "Building 560 is finished ...\n"
     ]
    },
    {
     "name": "stderr",
     "output_type": "stream",
     "text": [
      " 22%|██▏       | 531/2380 [3:14:50<12:32:04, 24.41s/it]"
     ]
    },
    {
     "name": "stdout",
     "output_type": "stream",
     "text": [
      "Building 561 is finished ...\n"
     ]
    },
    {
     "name": "stderr",
     "output_type": "stream",
     "text": [
      " 22%|██▏       | 532/2380 [3:15:48<17:39:40, 34.41s/it]"
     ]
    },
    {
     "name": "stdout",
     "output_type": "stream",
     "text": [
      "Building 565 is finished ...\n",
      "Building 562 is finished ...\n"
     ]
    },
    {
     "name": "stderr",
     "output_type": "stream",
     "text": [
      " 22%|██▏       | 533/2380 [3:16:38<20:06:42, 39.20s/it]"
     ]
    },
    {
     "name": "stdout",
     "output_type": "stream",
     "text": [
      "Building 570 is finished ...\n",
      "Building 563 is finished ...\n"
     ]
    },
    {
     "name": "stderr",
     "output_type": "stream",
     "text": [
      " 22%|██▏       | 534/2380 [3:17:04<18:04:32, 35.25s/it]"
     ]
    },
    {
     "name": "stdout",
     "output_type": "stream",
     "text": [
      "Building 566 is finished ...\n",
      "Building 564 is finished ...\n"
     ]
    },
    {
     "name": "stderr",
     "output_type": "stream",
     "text": [
      " 22%|██▏       | 535/2380 [3:17:21<15:09:52, 29.59s/it]"
     ]
    },
    {
     "name": "stdout",
     "output_type": "stream",
     "text": [
      "Building 567 is finished ...\n"
     ]
    },
    {
     "name": "stderr",
     "output_type": "stream",
     "text": [
      " 23%|██▎       | 538/2380 [3:17:33<11:14:30, 21.97s/it]"
     ]
    },
    {
     "name": "stdout",
     "output_type": "stream",
     "text": [
      "Building 568 is finished ...\n"
     ]
    },
    {
     "name": "stderr",
     "output_type": "stream",
     "text": [
      " 23%|██▎       | 539/2380 [3:17:43<9:17:43, 18.18s/it] "
     ]
    },
    {
     "name": "stdout",
     "output_type": "stream",
     "text": [
      "Building 571 is finished ...\n",
      "Building 572 is finished ...\n",
      "Building 569 is finished ...\n"
     ]
    },
    {
     "name": "stderr",
     "output_type": "stream",
     "text": [
      " 23%|██▎       | 540/2380 [3:18:49<16:40:33, 32.63s/it]"
     ]
    },
    {
     "name": "stdout",
     "output_type": "stream",
     "text": [
      "Building 574 is finished ...\n",
      "Building 573 is finished ...\n"
     ]
    },
    {
     "name": "stderr",
     "output_type": "stream",
     "text": [
      " 23%|██▎       | 544/2380 [3:21:06<16:54:10, 33.14s/it]"
     ]
    },
    {
     "name": "stdout",
     "output_type": "stream",
     "text": [
      "Building 577 is finished ...\n",
      "Building 575 is finished ...\n"
     ]
    },
    {
     "name": "stderr",
     "output_type": "stream",
     "text": [
      " 23%|██▎       | 546/2380 [3:21:49<15:04:41, 29.60s/it]"
     ]
    },
    {
     "name": "stdout",
     "output_type": "stream",
     "text": [
      "Building 579 is finished ...\n",
      "Building 576 is finished ...\n"
     ]
    },
    {
     "name": "stderr",
     "output_type": "stream",
     "text": [
      " 23%|██▎       | 547/2380 [3:22:00<12:14:40, 24.05s/it]"
     ]
    },
    {
     "name": "stdout",
     "output_type": "stream",
     "text": [
      "Building 578 is finished ...\n"
     ]
    },
    {
     "name": "stderr",
     "output_type": "stream",
     "text": [
      " 23%|██▎       | 549/2380 [3:22:31<10:53:24, 21.41s/it]"
     ]
    },
    {
     "name": "stdout",
     "output_type": "stream",
     "text": [
      "Building 580 is finished ...\n"
     ]
    },
    {
     "name": "stderr",
     "output_type": "stream",
     "text": [
      " 23%|██▎       | 551/2380 [3:22:33<7:46:10, 15.29s/it] "
     ]
    },
    {
     "name": "stdout",
     "output_type": "stream",
     "text": [
      "Building 581 is finished ...\n"
     ]
    },
    {
     "name": "stderr",
     "output_type": "stream",
     "text": [
      " 23%|██▎       | 552/2380 [3:22:54<8:43:52, 17.20s/it]"
     ]
    },
    {
     "name": "stdout",
     "output_type": "stream",
     "text": [
      "Building 583 is finished ...\n",
      "Building 584 is finished ...\n",
      "Building 585 is finished ...\n",
      "Building 582 is finished ...\n"
     ]
    },
    {
     "name": "stderr",
     "output_type": "stream",
     "text": [
      " 23%|██▎       | 553/2380 [3:24:07<17:15:17, 34.00s/it]"
     ]
    },
    {
     "name": "stdout",
     "output_type": "stream",
     "text": [
      "Building 586 is finished ...\n"
     ]
    },
    {
     "name": "stderr",
     "output_type": "stream",
     "text": [
      " 23%|██▎       | 557/2380 [3:24:59<14:00:22, 27.66s/it]"
     ]
    },
    {
     "name": "stdout",
     "output_type": "stream",
     "text": [
      "Building 588 is finished ...\n",
      "Building 587 is finished ...\n"
     ]
    },
    {
     "name": "stderr",
     "output_type": "stream",
     "text": [
      " 23%|██▎       | 558/2380 [3:25:25<13:49:58, 27.33s/it]"
     ]
    },
    {
     "name": "stdout",
     "output_type": "stream",
     "text": [
      "Building 589 is finished ...\n"
     ]
    },
    {
     "name": "stderr",
     "output_type": "stream",
     "text": [
      " 24%|██▎       | 560/2380 [3:25:47<11:19:01, 22.39s/it]"
     ]
    },
    {
     "name": "stdout",
     "output_type": "stream",
     "text": [
      "Building 590 is finished ...\n"
     ]
    },
    {
     "name": "stderr",
     "output_type": "stream",
     "text": [
      " 24%|██▎       | 561/2380 [3:25:54<8:59:43, 17.80s/it] "
     ]
    },
    {
     "name": "stdout",
     "output_type": "stream",
     "text": [
      "Building 591 is finished ...\n"
     ]
    },
    {
     "name": "stderr",
     "output_type": "stream",
     "text": [
      " 24%|██▎       | 562/2380 [3:26:18<9:55:34, 19.66s/it]"
     ]
    },
    {
     "name": "stdout",
     "output_type": "stream",
     "text": [
      "Building 592 is finished ...\n"
     ]
    },
    {
     "name": "stderr",
     "output_type": "stream",
     "text": [
      " 24%|██▎       | 563/2380 [3:26:25<8:01:48, 15.91s/it]"
     ]
    },
    {
     "name": "stdout",
     "output_type": "stream",
     "text": [
      "Building 594 is finished ...\n"
     ]
    },
    {
     "name": "stderr",
     "output_type": "stream",
     "text": [
      " 24%|██▎       | 564/2380 [3:27:19<13:48:08, 27.36s/it]"
     ]
    },
    {
     "name": "stdout",
     "output_type": "stream",
     "text": [
      "Building 596 is finished ...\n",
      "Building 595 is finished ...\n"
     ]
    },
    {
     "name": "stderr",
     "output_type": "stream",
     "text": [
      " 24%|██▎       | 565/2380 [3:28:07<16:46:23, 33.27s/it]"
     ]
    },
    {
     "name": "stdout",
     "output_type": "stream",
     "text": [
      "Building 597 is finished ...\n"
     ]
    },
    {
     "name": "stderr",
     "output_type": "stream",
     "text": [
      " 24%|██▍       | 567/2380 [3:28:32<13:38:50, 27.10s/it]"
     ]
    },
    {
     "name": "stdout",
     "output_type": "stream",
     "text": [
      "Building 599 is finished ...\n",
      "Building 601 is finished ...\n",
      "Building 600 is finished ...\n",
      "Building 602 is finished ...\n",
      "Building 603 is finished ...\n",
      "Building 604 is finished ...\n",
      "Building 605 is finished ...\n",
      "Building 598 is finished ...\n"
     ]
    },
    {
     "name": "stderr",
     "output_type": "stream",
     "text": [
      " 24%|██▍       | 568/2380 [3:30:22<26:13:13, 52.09s/it]"
     ]
    },
    {
     "name": "stdout",
     "output_type": "stream",
     "text": [
      "Building 606 is finished ...\n"
     ]
    },
    {
     "name": "stderr",
     "output_type": "stream",
     "text": [
      " 24%|██▍       | 576/2380 [3:31:39<19:42:36, 39.33s/it]"
     ]
    },
    {
     "name": "stdout",
     "output_type": "stream",
     "text": [
      "Building 607 is finished ...\n"
     ]
    },
    {
     "name": "stderr",
     "output_type": "stream",
     "text": [
      " 24%|██▍       | 577/2380 [3:32:39<22:53:08, 45.69s/it]"
     ]
    },
    {
     "name": "stdout",
     "output_type": "stream",
     "text": [
      "Building 608 is finished ...\n"
     ]
    },
    {
     "name": "stderr",
     "output_type": "stream",
     "text": [
      " 24%|██▍       | 578/2380 [3:32:59<19:02:09, 38.03s/it]"
     ]
    },
    {
     "name": "stdout",
     "output_type": "stream",
     "text": [
      "Building 611 is finished ...\n",
      "Building 609 is finished ...\n"
     ]
    },
    {
     "name": "stderr",
     "output_type": "stream",
     "text": [
      " 24%|██▍       | 579/2380 [3:33:10<14:57:24, 29.90s/it]"
     ]
    },
    {
     "name": "stdout",
     "output_type": "stream",
     "text": [
      "Building 613 is finished ...\n",
      "Building 612 is finished ...\n",
      "Building 614 is finished ...\n",
      "Building 615 is finished ...\n",
      "Building 618 is finished ...\n",
      "Building 610 is finished ...\n"
     ]
    },
    {
     "name": "stderr",
     "output_type": "stream",
     "text": [
      " 24%|██▍       | 580/2380 [3:34:57<26:29:58, 53.00s/it]"
     ]
    },
    {
     "name": "stdout",
     "output_type": "stream",
     "text": [
      "Building 616 is finished ...\n"
     ]
    },
    {
     "name": "stderr",
     "output_type": "stream",
     "text": [
      " 25%|██▍       | 586/2380 [3:35:28<19:14:38, 38.62s/it]"
     ]
    },
    {
     "name": "stdout",
     "output_type": "stream",
     "text": [
      "Building 617 is finished ...\n"
     ]
    },
    {
     "name": "stderr",
     "output_type": "stream",
     "text": [
      " 25%|██▍       | 587/2380 [3:35:42<15:35:06, 31.29s/it]"
     ]
    },
    {
     "name": "stdout",
     "output_type": "stream",
     "text": [
      "Building 620 is finished ...\n",
      "Building 621 is finished ...\n",
      "Building 619 is finished ...\n"
     ]
    },
    {
     "name": "stderr",
     "output_type": "stream",
     "text": [
      " 25%|██▍       | 589/2380 [3:37:01<16:48:15, 33.78s/it]"
     ]
    },
    {
     "name": "stdout",
     "output_type": "stream",
     "text": [
      "Building 622 is finished ...\n"
     ]
    },
    {
     "name": "stderr",
     "output_type": "stream",
     "text": [
      " 25%|██▍       | 592/2380 [3:37:10<12:10:19, 24.51s/it]"
     ]
    },
    {
     "name": "stdout",
     "output_type": "stream",
     "text": [
      "Building 623 is finished ...\n"
     ]
    },
    {
     "name": "stderr",
     "output_type": "stream",
     "text": [
      " 25%|██▍       | 593/2380 [3:37:30<11:33:51, 23.30s/it]"
     ]
    },
    {
     "name": "stdout",
     "output_type": "stream",
     "text": [
      "Building 625 is finished ...\n",
      "Building 627 is finished ...\n",
      "Building 626 is finished ...\n",
      "Building 629 is finished ...\n",
      "Building 630 is finished ...\n",
      "Building 632 is finished ...\n",
      "Building 628 is finished ...\n",
      "Building 624 is finished ...\n"
     ]
    },
    {
     "name": "stderr",
     "output_type": "stream",
     "text": [
      " 25%|██▍       | 594/2380 [3:40:35<35:35:30, 71.74s/it]"
     ]
    },
    {
     "name": "stdout",
     "output_type": "stream",
     "text": [
      "Building 633 is finished ...\n",
      "Building 631 is finished ...\n"
     ]
    },
    {
     "name": "stderr",
     "output_type": "stream",
     "text": [
      " 25%|██▌       | 601/2380 [3:41:04<25:26:17, 51.48s/it]"
     ]
    },
    {
     "name": "stdout",
     "output_type": "stream",
     "text": [
      "Building 635 is finished ...\n",
      "Building 636 is finished ...\n",
      "Building 637 is finished ...\n",
      "Building 634 is finished ...\n"
     ]
    },
    {
     "name": "stderr",
     "output_type": "stream",
     "text": [
      " 25%|██▌       | 604/2380 [3:42:19<21:26:27, 43.46s/it]"
     ]
    },
    {
     "name": "stdout",
     "output_type": "stream",
     "text": [
      "Building 638 is finished ...\n"
     ]
    },
    {
     "name": "stderr",
     "output_type": "stream",
     "text": [
      " 26%|██▌       | 608/2380 [3:42:39<15:43:47, 31.96s/it]"
     ]
    },
    {
     "name": "stdout",
     "output_type": "stream",
     "text": [
      "Building 639 is finished ...\n"
     ]
    },
    {
     "name": "stderr",
     "output_type": "stream",
     "text": [
      " 26%|██▌       | 609/2380 [3:44:25<26:41:55, 54.27s/it]"
     ]
    },
    {
     "name": "stdout",
     "output_type": "stream",
     "text": [
      "Building 641 is finished ...\n",
      "Building 640 is finished ...\n"
     ]
    },
    {
     "name": "stderr",
     "output_type": "stream",
     "text": [
      " 26%|██▌       | 610/2380 [3:44:43<21:18:27, 43.34s/it]"
     ]
    },
    {
     "name": "stdout",
     "output_type": "stream",
     "text": [
      "Building 642 is finished ...\n"
     ]
    },
    {
     "name": "stderr",
     "output_type": "stream",
     "text": [
      " 26%|██▌       | 612/2380 [3:44:53<15:37:34, 31.82s/it]"
     ]
    },
    {
     "name": "stdout",
     "output_type": "stream",
     "text": [
      "Building 648 is finished ...\n",
      "Building 644 is finished ...\n",
      "Building 647 is finished ...\n",
      "Building 646 is finished ...\n",
      "Building 643 is finished ...\n"
     ]
    },
    {
     "name": "stderr",
     "output_type": "stream",
     "text": [
      " 26%|██▌       | 613/2380 [3:46:37<26:15:49, 53.51s/it]"
     ]
    },
    {
     "name": "stdout",
     "output_type": "stream",
     "text": [
      "Building 649 is finished ...\n",
      "Building 645 is finished ...\n"
     ]
    },
    {
     "name": "stderr",
     "output_type": "stream",
     "text": [
      " 26%|██▌       | 615/2380 [3:46:54<19:37:13, 40.02s/it]"
     ]
    },
    {
     "name": "stdout",
     "output_type": "stream",
     "text": [
      "Building 650 is finished ...\n"
     ]
    },
    {
     "name": "stderr",
     "output_type": "stream",
     "text": [
      " 26%|██▌       | 620/2380 [3:46:55<13:43:50, 28.09s/it]"
     ]
    },
    {
     "name": "stdout",
     "output_type": "stream",
     "text": [
      "Building 651 is finished ...\n"
     ]
    },
    {
     "name": "stderr",
     "output_type": "stream",
     "text": [
      " 26%|██▌       | 621/2380 [3:47:22<13:32:35, 27.72s/it]"
     ]
    },
    {
     "name": "stdout",
     "output_type": "stream",
     "text": [
      "Building 653 is finished ...\n",
      "Building 652 is finished ...\n"
     ]
    },
    {
     "name": "stderr",
     "output_type": "stream",
     "text": [
      " 26%|██▌       | 622/2380 [3:48:44<21:24:14, 43.83s/it]"
     ]
    },
    {
     "name": "stdout",
     "output_type": "stream",
     "text": [
      "Building 654 is finished ...\n"
     ]
    },
    {
     "name": "stderr",
     "output_type": "stream",
     "text": [
      " 26%|██▌       | 624/2380 [3:49:12<17:03:19, 34.97s/it]"
     ]
    },
    {
     "name": "stdout",
     "output_type": "stream",
     "text": [
      "Building 656 is finished ...\n",
      "Building 655 is finished ...\n"
     ]
    },
    {
     "name": "stderr",
     "output_type": "stream",
     "text": [
      " 26%|██▋       | 625/2380 [3:49:38<15:41:36, 32.19s/it]"
     ]
    },
    {
     "name": "stdout",
     "output_type": "stream",
     "text": [
      "Building 658 is finished ...\n",
      "Building 657 is finished ...\n"
     ]
    },
    {
     "name": "stderr",
     "output_type": "stream",
     "text": [
      " 26%|██▋       | 627/2380 [3:51:01<17:02:45, 35.01s/it]"
     ]
    },
    {
     "name": "stdout",
     "output_type": "stream",
     "text": [
      "Building 659 is finished ...\n"
     ]
    },
    {
     "name": "stderr",
     "output_type": "stream",
     "text": [
      " 26%|██▋       | 629/2380 [3:51:02<11:56:58, 24.57s/it]"
     ]
    },
    {
     "name": "stdout",
     "output_type": "stream",
     "text": [
      "Building 662 is finished ...\n",
      "Building 660 is finished ...\n"
     ]
    },
    {
     "name": "stderr",
     "output_type": "stream",
     "text": [
      " 26%|██▋       | 630/2380 [3:51:52<15:45:02, 32.40s/it]"
     ]
    },
    {
     "name": "stdout",
     "output_type": "stream",
     "text": [
      "Building 661 is finished ...\n"
     ]
    },
    {
     "name": "stderr",
     "output_type": "stream",
     "text": [
      " 27%|██▋       | 631/2380 [3:52:00<12:12:44, 25.14s/it]"
     ]
    },
    {
     "name": "stdout",
     "output_type": "stream",
     "text": [
      "Building 665 is finished ...\n",
      "Building 663 is finished ...\n"
     ]
    },
    {
     "name": "stderr",
     "output_type": "stream",
     "text": [
      " 27%|██▋       | 633/2380 [3:52:38<11:18:20, 23.30s/it]"
     ]
    },
    {
     "name": "stdout",
     "output_type": "stream",
     "text": [
      "Building 666 is finished ...\n",
      "Building 668 is finished ...\n",
      "Building 664 is finished ...\n"
     ]
    },
    {
     "name": "stderr",
     "output_type": "stream",
     "text": [
      " 27%|██▋       | 634/2380 [3:53:17<13:29:01, 27.80s/it]"
     ]
    },
    {
     "name": "stdout",
     "output_type": "stream",
     "text": [
      "Building 667 is finished ...\n"
     ]
    },
    {
     "name": "stderr",
     "output_type": "stream",
     "text": [
      " 27%|██▋       | 637/2380 [3:53:52<11:07:24, 22.97s/it]"
     ]
    },
    {
     "name": "stdout",
     "output_type": "stream",
     "text": [
      "Building 670 is finished ...\n",
      "Building 669 is finished ...\n"
     ]
    },
    {
     "name": "stderr",
     "output_type": "stream",
     "text": [
      " 27%|██▋       | 639/2380 [3:55:42<15:43:58, 32.53s/it]"
     ]
    },
    {
     "name": "stdout",
     "output_type": "stream",
     "text": [
      "Building 671 is finished ...\n"
     ]
    },
    {
     "name": "stderr",
     "output_type": "stream",
     "text": [
      " 27%|██▋       | 641/2380 [3:55:50<11:35:42, 24.00s/it]"
     ]
    },
    {
     "name": "stdout",
     "output_type": "stream",
     "text": [
      "Building 674 is finished ...\n",
      "Building 673 is finished ...\n",
      "Building 672 is finished ...\n"
     ]
    },
    {
     "name": "stderr",
     "output_type": "stream",
     "text": [
      " 27%|██▋       | 642/2380 [3:56:35<14:40:59, 30.41s/it]"
     ]
    },
    {
     "name": "stdout",
     "output_type": "stream",
     "text": [
      "Building 675 is finished ...\n"
     ]
    },
    {
     "name": "stderr",
     "output_type": "stream",
     "text": [
      " 27%|██▋       | 645/2380 [3:57:06<11:45:22, 24.39s/it]"
     ]
    },
    {
     "name": "stdout",
     "output_type": "stream",
     "text": [
      "Building 676 is finished ...\n"
     ]
    },
    {
     "name": "stderr",
     "output_type": "stream",
     "text": [
      " 27%|██▋       | 646/2380 [3:57:50<14:32:32, 30.19s/it]"
     ]
    },
    {
     "name": "stdout",
     "output_type": "stream",
     "text": [
      "Building 678 is finished ...\n",
      "Building 679 is finished ...\n",
      "Building 677 is finished ...\n"
     ]
    },
    {
     "name": "stderr",
     "output_type": "stream",
     "text": [
      " 27%|██▋       | 647/2380 [3:58:18<14:15:36, 29.62s/it]"
     ]
    },
    {
     "name": "stdout",
     "output_type": "stream",
     "text": [
      "Building 683 is finished ...\n",
      "Building 680 is finished ...\n"
     ]
    },
    {
     "name": "stderr",
     "output_type": "stream",
     "text": [
      " 27%|██▋       | 650/2380 [3:58:44<11:13:18, 23.35s/it]"
     ]
    },
    {
     "name": "stdout",
     "output_type": "stream",
     "text": [
      "Building 682 is finished ...\n",
      "Building 681 is finished ...\n"
     ]
    },
    {
     "name": "stderr",
     "output_type": "stream",
     "text": [
      " 27%|██▋       | 651/2380 [3:59:42<16:09:07, 33.63s/it]"
     ]
    },
    {
     "name": "stdout",
     "output_type": "stream",
     "text": [
      "Building 684 is finished ...\n"
     ]
    },
    {
     "name": "stderr",
     "output_type": "stream",
     "text": [
      " 27%|██▋       | 654/2380 [3:59:48<11:34:40, 24.15s/it]"
     ]
    },
    {
     "name": "stdout",
     "output_type": "stream",
     "text": [
      "Building 685 is finished ...\n"
     ]
    },
    {
     "name": "stderr",
     "output_type": "stream",
     "text": [
      " 28%|██▊       | 655/2380 [4:00:07<10:46:00, 22.47s/it]"
     ]
    },
    {
     "name": "stdout",
     "output_type": "stream",
     "text": [
      "Building 686 is finished ...\n"
     ]
    },
    {
     "name": "stderr",
     "output_type": "stream",
     "text": [
      " 28%|██▊       | 656/2380 [4:00:53<14:14:33, 29.74s/it]"
     ]
    },
    {
     "name": "stdout",
     "output_type": "stream",
     "text": [
      "Building 687 is finished ...\n"
     ]
    },
    {
     "name": "stderr",
     "output_type": "stream",
     "text": [
      " 28%|██▊       | 657/2380 [4:00:59<10:44:32, 22.44s/it]"
     ]
    },
    {
     "name": "stdout",
     "output_type": "stream",
     "text": [
      "Building 688 is finished ...\n"
     ]
    },
    {
     "name": "stderr",
     "output_type": "stream",
     "text": [
      " 28%|██▊       | 658/2380 [4:01:05<8:22:57, 17.52s/it] "
     ]
    },
    {
     "name": "stdout",
     "output_type": "stream",
     "text": [
      "Building 689 is finished ...\n"
     ]
    },
    {
     "name": "stderr",
     "output_type": "stream",
     "text": [
      " 28%|██▊       | 659/2380 [4:01:51<12:31:08, 26.19s/it]"
     ]
    },
    {
     "name": "stdout",
     "output_type": "stream",
     "text": [
      "Building 690 is finished ...\n"
     ]
    },
    {
     "name": "stderr",
     "output_type": "stream",
     "text": [
      " 28%|██▊       | 660/2380 [4:02:31<14:26:27, 30.23s/it]"
     ]
    },
    {
     "name": "stdout",
     "output_type": "stream",
     "text": [
      "Building 691 is finished ...\n"
     ]
    },
    {
     "name": "stderr",
     "output_type": "stream",
     "text": [
      " 28%|██▊       | 661/2380 [4:02:34<10:30:32, 22.01s/it]"
     ]
    },
    {
     "name": "stdout",
     "output_type": "stream",
     "text": [
      "Building 692 is finished ...\n"
     ]
    },
    {
     "name": "stderr",
     "output_type": "stream",
     "text": [
      " 28%|██▊       | 662/2380 [4:03:08<12:12:07, 25.57s/it]"
     ]
    },
    {
     "name": "stdout",
     "output_type": "stream",
     "text": [
      "Building 694 is finished ...\n",
      "Building 693 is finished ...\n"
     ]
    },
    {
     "name": "stderr",
     "output_type": "stream",
     "text": [
      " 28%|██▊       | 663/2380 [4:03:30<11:45:33, 24.66s/it]"
     ]
    },
    {
     "name": "stdout",
     "output_type": "stream",
     "text": [
      "Building 698 is finished ...\n",
      "Building 697 is finished ...\n",
      "Building 699 is finished ...\n",
      "Building 696 is finished ...\n",
      "Building 695 is finished ...\n"
     ]
    },
    {
     "name": "stderr",
     "output_type": "stream",
     "text": [
      " 28%|██▊       | 665/2380 [4:05:39<17:25:50, 36.59s/it]"
     ]
    },
    {
     "name": "stdout",
     "output_type": "stream",
     "text": [
      "Building 700 is finished ...\n"
     ]
    },
    {
     "name": "stderr",
     "output_type": "stream",
     "text": [
      " 28%|██▊       | 670/2380 [4:06:10<13:03:19, 27.49s/it]"
     ]
    },
    {
     "name": "stdout",
     "output_type": "stream",
     "text": [
      "Building 701 is finished ...\n"
     ]
    },
    {
     "name": "stderr",
     "output_type": "stream",
     "text": [
      " 28%|██▊       | 671/2380 [4:06:49<14:36:29, 30.77s/it]"
     ]
    },
    {
     "name": "stdout",
     "output_type": "stream",
     "text": [
      "Building 702 is finished ...\n"
     ]
    },
    {
     "name": "stderr",
     "output_type": "stream",
     "text": [
      " 28%|██▊       | 672/2380 [4:06:55<11:09:20, 23.51s/it]"
     ]
    },
    {
     "name": "stdout",
     "output_type": "stream",
     "text": [
      "Building 704 is finished ...\n",
      "Building 705 is finished ...\n",
      "Building 703 is finished ...\n"
     ]
    },
    {
     "name": "stderr",
     "output_type": "stream",
     "text": [
      " 28%|██▊       | 673/2380 [4:07:39<13:59:46, 29.52s/it]"
     ]
    },
    {
     "name": "stdout",
     "output_type": "stream",
     "text": [
      "Building 707 is finished ...\n",
      "Building 708 is finished ...\n",
      "Building 710 is finished ...\n",
      "Building 706 is finished ...\n"
     ]
    },
    {
     "name": "stderr",
     "output_type": "stream",
     "text": [
      " 28%|██▊       | 676/2380 [4:09:42<15:37:37, 33.01s/it]"
     ]
    },
    {
     "name": "stdout",
     "output_type": "stream",
     "text": [
      "Building 711 is finished ...\n",
      "Building 709 is finished ...\n"
     ]
    },
    {
     "name": "stderr",
     "output_type": "stream",
     "text": [
      " 29%|██▊       | 679/2380 [4:10:10<12:14:23, 25.90s/it]"
     ]
    },
    {
     "name": "stdout",
     "output_type": "stream",
     "text": [
      "Building 713 is finished ...\n",
      "Building 712 is finished ...\n"
     ]
    },
    {
     "name": "stderr",
     "output_type": "stream",
     "text": [
      " 29%|██▊       | 682/2380 [4:10:43<10:07:25, 21.46s/it]"
     ]
    },
    {
     "name": "stdout",
     "output_type": "stream",
     "text": [
      "Building 714 is finished ...\n"
     ]
    },
    {
     "name": "stderr",
     "output_type": "stream",
     "text": [
      " 29%|██▊       | 684/2380 [4:10:45<7:09:19, 15.19s/it] "
     ]
    },
    {
     "name": "stdout",
     "output_type": "stream",
     "text": [
      "Building 715 is finished ...\n"
     ]
    },
    {
     "name": "stderr",
     "output_type": "stream",
     "text": [
      " 29%|██▉       | 685/2380 [4:11:26<10:55:55, 23.22s/it]"
     ]
    },
    {
     "name": "stdout",
     "output_type": "stream",
     "text": [
      "Building 716 is finished ...\n"
     ]
    },
    {
     "name": "stderr",
     "output_type": "stream",
     "text": [
      " 29%|██▉       | 686/2380 [4:12:08<13:29:30, 28.67s/it]"
     ]
    },
    {
     "name": "stdout",
     "output_type": "stream",
     "text": [
      "Building 719 is finished ...\n",
      "Building 717 is finished ...\n"
     ]
    },
    {
     "name": "stderr",
     "output_type": "stream",
     "text": [
      " 29%|██▉       | 687/2380 [4:12:20<11:09:35, 23.73s/it]"
     ]
    },
    {
     "name": "stdout",
     "output_type": "stream",
     "text": [
      "Building 721 is finished ...\n",
      "Building 720 is finished ...\n"
     ]
    },
    {
     "name": "stderr",
     "output_type": "stream",
     "text": [
      " 29%|██▉       | 689/2380 [4:12:40<9:14:21, 19.67s/it] "
     ]
    },
    {
     "name": "stdout",
     "output_type": "stream",
     "text": [
      "Building 723 is finished ...\n",
      "Building 722 is finished ...\n"
     ]
    },
    {
     "name": "stderr",
     "output_type": "stream",
     "text": [
      " 29%|██▉       | 691/2380 [4:13:47<11:06:56, 23.69s/it]"
     ]
    },
    {
     "name": "stdout",
     "output_type": "stream",
     "text": [
      "Building 724 is finished ...\n"
     ]
    },
    {
     "name": "stderr",
     "output_type": "stream",
     "text": [
      " 29%|██▉       | 693/2380 [4:14:15<9:46:55, 20.87s/it] "
     ]
    },
    {
     "name": "stdout",
     "output_type": "stream",
     "text": [
      "Building 725 is finished ...\n"
     ]
    },
    {
     "name": "stderr",
     "output_type": "stream",
     "text": [
      " 29%|██▉       | 694/2380 [4:14:27<8:30:51, 18.18s/it]"
     ]
    },
    {
     "name": "stdout",
     "output_type": "stream",
     "text": [
      "Building 726 is finished ...\n"
     ]
    },
    {
     "name": "stderr",
     "output_type": "stream",
     "text": [
      " 29%|██▉       | 695/2380 [4:14:44<8:16:54, 17.69s/it]"
     ]
    },
    {
     "name": "stdout",
     "output_type": "stream",
     "text": [
      "Building 728 is finished ...\n",
      "Building 730 is finished ...\n",
      "Building 729 is finished ...\n",
      "Building 727 is finished ...\n"
     ]
    },
    {
     "name": "stderr",
     "output_type": "stream",
     "text": [
      " 29%|██▉       | 696/2380 [4:15:32<12:35:33, 26.92s/it]"
     ]
    },
    {
     "name": "stdout",
     "output_type": "stream",
     "text": [
      "Building 731 is finished ...\n"
     ]
    },
    {
     "name": "stderr",
     "output_type": "stream",
     "text": [
      " 29%|██▉       | 700/2380 [4:16:05<9:56:44, 21.31s/it] "
     ]
    },
    {
     "name": "stdout",
     "output_type": "stream",
     "text": [
      "Building 732 is finished ...\n"
     ]
    },
    {
     "name": "stderr",
     "output_type": "stream",
     "text": [
      " 29%|██▉       | 701/2380 [4:17:19<17:22:35, 37.26s/it]"
     ]
    },
    {
     "name": "stdout",
     "output_type": "stream",
     "text": [
      "Building 734 is finished ...\n",
      "Building 733 is finished ...\n"
     ]
    },
    {
     "name": "stderr",
     "output_type": "stream",
     "text": [
      " 29%|██▉       | 702/2380 [4:18:35<22:41:51, 48.70s/it]"
     ]
    },
    {
     "name": "stdout",
     "output_type": "stream",
     "text": [
      "Building 736 is finished ...\n",
      "Building 735 is finished ...\n"
     ]
    },
    {
     "name": "stderr",
     "output_type": "stream",
     "text": [
      " 30%|██▉       | 704/2380 [4:18:41<16:16:35, 34.96s/it]"
     ]
    },
    {
     "name": "stdout",
     "output_type": "stream",
     "text": [
      "Building 737 is finished ...\n"
     ]
    },
    {
     "name": "stderr",
     "output_type": "stream",
     "text": [
      " 30%|██▉       | 706/2380 [4:18:47<11:49:21, 25.42s/it]"
     ]
    },
    {
     "name": "stdout",
     "output_type": "stream",
     "text": [
      "Building 738 is finished ...\n"
     ]
    },
    {
     "name": "stderr",
     "output_type": "stream",
     "text": [
      " 30%|██▉       | 707/2380 [4:19:10<11:25:26, 24.58s/it]"
     ]
    },
    {
     "name": "stdout",
     "output_type": "stream",
     "text": [
      "Building 739 is finished ...\n"
     ]
    },
    {
     "name": "stderr",
     "output_type": "stream",
     "text": [
      " 30%|██▉       | 708/2380 [4:19:20<9:21:49, 20.16s/it] "
     ]
    },
    {
     "name": "stdout",
     "output_type": "stream",
     "text": [
      "Building 741 is finished ...\n",
      "Building 740 is finished ...\n"
     ]
    },
    {
     "name": "stderr",
     "output_type": "stream",
     "text": [
      " 30%|██▉       | 709/2380 [4:20:59<20:27:01, 44.06s/it]"
     ]
    },
    {
     "name": "stdout",
     "output_type": "stream",
     "text": [
      "Building 743 is finished ...\n",
      "Building 744 is finished ...\n",
      "Building 748 is finished ...\n",
      "Building 742 is finished ...\n"
     ]
    },
    {
     "name": "stderr",
     "output_type": "stream",
     "text": [
      " 30%|██▉       | 711/2380 [4:22:46<21:43:50, 46.87s/it]"
     ]
    },
    {
     "name": "stdout",
     "output_type": "stream",
     "text": [
      "Building 747 is finished ...\n",
      "Building 746 is finished ...\n"
     ]
    },
    {
     "name": "stderr",
     "output_type": "stream",
     "text": [
      " 30%|███       | 714/2380 [4:23:15<16:31:06, 35.69s/it]"
     ]
    },
    {
     "name": "stdout",
     "output_type": "stream",
     "text": [
      "Building 750 is finished ...\n",
      "Building 752 is finished ...\n",
      "Building 751 is finished ...\n",
      "Building 753 is finished ...\n",
      "Building 749 is finished ...\n"
     ]
    },
    {
     "name": "stderr",
     "output_type": "stream",
     "text": [
      " 30%|███       | 717/2380 [4:24:48<15:50:35, 34.30s/it]"
     ]
    },
    {
     "name": "stdout",
     "output_type": "stream",
     "text": [
      "Building 754 is finished ...\n"
     ]
    },
    {
     "name": "stderr",
     "output_type": "stream",
     "text": [
      " 30%|███       | 722/2380 [4:24:50<11:05:42, 24.09s/it]"
     ]
    },
    {
     "name": "stdout",
     "output_type": "stream",
     "text": [
      "Building 755 is finished ...\n"
     ]
    },
    {
     "name": "stderr",
     "output_type": "stream",
     "text": [
      " 30%|███       | 723/2380 [4:25:12<10:49:28, 23.52s/it]"
     ]
    },
    {
     "name": "stdout",
     "output_type": "stream",
     "text": [
      "Building 756 is finished ...\n"
     ]
    },
    {
     "name": "stderr",
     "output_type": "stream",
     "text": [
      " 30%|███       | 724/2380 [4:25:25<9:24:16, 20.44s/it] "
     ]
    },
    {
     "name": "stdout",
     "output_type": "stream",
     "text": [
      "Building 760 is finished ...\n",
      "Building 759 is finished ...\n"
     ]
    },
    {
     "name": "stderr",
     "output_type": "stream",
     "text": [
      " 30%|███       | 725/2380 [4:25:45<9:22:51, 20.41s/it]"
     ]
    },
    {
     "name": "stdout",
     "output_type": "stream",
     "text": [
      "Building 761 is finished ...\n"
     ]
    },
    {
     "name": "stderr",
     "output_type": "stream",
     "text": [
      " 31%|███       | 727/2380 [4:26:16<8:41:18, 18.92s/it]"
     ]
    },
    {
     "name": "stdout",
     "output_type": "stream",
     "text": [
      "Building 762 is finished ...\n"
     ]
    },
    {
     "name": "stderr",
     "output_type": "stream",
     "text": [
      " 31%|███       | 728/2380 [4:26:32<8:16:53, 18.05s/it]"
     ]
    },
    {
     "name": "stdout",
     "output_type": "stream",
     "text": [
      "Building 763 is finished ...\n"
     ]
    },
    {
     "name": "stderr",
     "output_type": "stream",
     "text": [
      " 31%|███       | 729/2380 [4:26:46<7:41:58, 16.79s/it]"
     ]
    },
    {
     "name": "stdout",
     "output_type": "stream",
     "text": [
      "Building 764 is finished ...\n"
     ]
    },
    {
     "name": "stderr",
     "output_type": "stream",
     "text": [
      " 31%|███       | 730/2380 [4:26:57<6:53:07, 15.02s/it]"
     ]
    },
    {
     "name": "stdout",
     "output_type": "stream",
     "text": [
      "Building 766 is finished ...\n",
      "Building 765 is finished ...\n"
     ]
    },
    {
     "name": "stderr",
     "output_type": "stream",
     "text": [
      " 31%|███       | 731/2380 [4:27:31<9:30:14, 20.75s/it]"
     ]
    },
    {
     "name": "stdout",
     "output_type": "stream",
     "text": [
      "Building 767 is finished ...\n"
     ]
    },
    {
     "name": "stderr",
     "output_type": "stream",
     "text": [
      " 31%|███       | 733/2380 [4:28:18<9:53:27, 21.62s/it]"
     ]
    },
    {
     "name": "stdout",
     "output_type": "stream",
     "text": [
      "Building 768 is finished ...\n"
     ]
    },
    {
     "name": "stderr",
     "output_type": "stream",
     "text": [
      " 31%|███       | 734/2380 [4:29:25<15:59:49, 34.99s/it]"
     ]
    },
    {
     "name": "stdout",
     "output_type": "stream",
     "text": [
      "Building 771 is finished ...\n",
      "Building 772 is finished ...\n",
      "Building 774 is finished ...\n",
      "Building 770 is finished ...\n",
      "Building 769 is finished ...\n"
     ]
    },
    {
     "name": "stderr",
     "output_type": "stream",
     "text": [
      " 31%|███       | 735/2380 [4:30:23<19:13:48, 42.08s/it]"
     ]
    },
    {
     "name": "stdout",
     "output_type": "stream",
     "text": [
      "Building 775 is finished ...\n",
      "Building 773 is finished ...\n"
     ]
    },
    {
     "name": "stderr",
     "output_type": "stream",
     "text": [
      " 31%|███       | 739/2380 [4:31:27<15:36:36, 34.25s/it]"
     ]
    },
    {
     "name": "stdout",
     "output_type": "stream",
     "text": [
      "Building 776 is finished ...\n"
     ]
    },
    {
     "name": "stderr",
     "output_type": "stream",
     "text": [
      " 31%|███       | 742/2380 [4:31:49<11:54:52, 26.19s/it]"
     ]
    },
    {
     "name": "stdout",
     "output_type": "stream",
     "text": [
      "Building 777 is finished ...\n"
     ]
    },
    {
     "name": "stderr",
     "output_type": "stream",
     "text": [
      " 31%|███       | 743/2380 [4:32:22<12:45:04, 28.04s/it]"
     ]
    },
    {
     "name": "stdout",
     "output_type": "stream",
     "text": [
      "Building 778 is finished ...\n"
     ]
    },
    {
     "name": "stderr",
     "output_type": "stream",
     "text": [
      " 31%|███▏      | 744/2380 [4:32:33<10:29:25, 23.08s/it]"
     ]
    },
    {
     "name": "stdout",
     "output_type": "stream",
     "text": [
      "Building 780 is finished ...\n",
      "Building 779 is finished ...\n"
     ]
    },
    {
     "name": "stderr",
     "output_type": "stream",
     "text": [
      " 31%|███▏      | 745/2380 [4:34:00<19:09:42, 42.19s/it]"
     ]
    },
    {
     "name": "stdout",
     "output_type": "stream",
     "text": [
      "Building 782 is finished ...\n"
     ]
    },
    {
     "name": "stderr",
     "output_type": "stream",
     "text": [
      " 31%|███▏      | 747/2380 [4:34:18<14:38:44, 32.29s/it]"
     ]
    },
    {
     "name": "stdout",
     "output_type": "stream",
     "text": [
      "Building 785 is finished ...\n",
      "Building 786 is finished ...\n",
      "Building 784 is finished ...\n"
     ]
    },
    {
     "name": "stderr",
     "output_type": "stream",
     "text": [
      " 31%|███▏      | 748/2380 [4:35:18<18:25:34, 40.65s/it]"
     ]
    },
    {
     "name": "stdout",
     "output_type": "stream",
     "text": [
      "Building 787 is finished ...\n"
     ]
    },
    {
     "name": "stderr",
     "output_type": "stream",
     "text": [
      " 32%|███▏      | 751/2380 [4:35:54<14:29:11, 32.01s/it]"
     ]
    },
    {
     "name": "stdout",
     "output_type": "stream",
     "text": [
      "Building 789 is finished ...\n",
      "Building 788 is finished ...\n"
     ]
    },
    {
     "name": "stderr",
     "output_type": "stream",
     "text": [
      " 32%|███▏      | 752/2380 [4:36:19<13:32:35, 29.95s/it]"
     ]
    },
    {
     "name": "stdout",
     "output_type": "stream",
     "text": [
      "Building 792 is finished ...\n",
      "Building 791 is finished ...\n",
      "Building 793 is finished ...\n",
      "Building 790 is finished ...\n"
     ]
    },
    {
     "name": "stderr",
     "output_type": "stream",
     "text": [
      " 32%|███▏      | 754/2380 [4:37:09<12:49:52, 28.41s/it]"
     ]
    },
    {
     "name": "stdout",
     "output_type": "stream",
     "text": [
      "Building 795 is finished ...\n"
     ]
    },
    {
     "name": "stderr",
     "output_type": "stream",
     "text": [
      " 32%|███▏      | 758/2380 [4:37:26<9:32:58, 21.19s/it] "
     ]
    },
    {
     "name": "stdout",
     "output_type": "stream",
     "text": [
      "Building 800 is finished ...\n",
      "Building 798 is finished ...\n",
      "Building 799 is finished ...\n",
      "Building 796 is finished ...\n"
     ]
    },
    {
     "name": "stderr",
     "output_type": "stream",
     "text": [
      " 32%|███▏      | 759/2380 [4:39:01<19:33:10, 43.42s/it]"
     ]
    },
    {
     "name": "stdout",
     "output_type": "stream",
     "text": [
      "Building 801 is finished ...\n"
     ]
    },
    {
     "name": "stderr",
     "output_type": "stream",
     "text": [
      " 32%|███▏      | 763/2380 [4:39:46<15:08:12, 33.70s/it]"
     ]
    },
    {
     "name": "stdout",
     "output_type": "stream",
     "text": [
      "Building 804 is finished ...\n",
      "Building 802 is finished ...\n"
     ]
    },
    {
     "name": "stderr",
     "output_type": "stream",
     "text": [
      " 32%|███▏      | 764/2380 [4:40:25<15:53:36, 35.41s/it]"
     ]
    },
    {
     "name": "stdout",
     "output_type": "stream",
     "text": [
      "Building 808 is finished ...\n",
      "Building 805 is finished ...\n"
     ]
    },
    {
     "name": "stderr",
     "output_type": "stream",
     "text": [
      " 32%|███▏      | 766/2380 [4:41:16<14:32:58, 32.45s/it]"
     ]
    },
    {
     "name": "stdout",
     "output_type": "stream",
     "text": [
      "Building 806 is finished ...\n"
     ]
    },
    {
     "name": "stderr",
     "output_type": "stream",
     "text": [
      " 32%|███▏      | 767/2380 [4:41:23<11:08:48, 24.88s/it]"
     ]
    },
    {
     "name": "stdout",
     "output_type": "stream",
     "text": [
      "Building 812 is finished ...\n",
      "Building 807 is finished ...\n"
     ]
    },
    {
     "name": "stderr",
     "output_type": "stream",
     "text": [
      " 32%|███▏      | 768/2380 [4:41:50<11:26:42, 25.56s/it]"
     ]
    },
    {
     "name": "stdout",
     "output_type": "stream",
     "text": [
      "Building 810 is finished ...\n",
      "Building 809 is finished ...\n"
     ]
    },
    {
     "name": "stderr",
     "output_type": "stream",
     "text": [
      " 32%|███▏      | 770/2380 [4:42:21<10:04:09, 22.52s/it]"
     ]
    },
    {
     "name": "stdout",
     "output_type": "stream",
     "text": [
      "Building 813 is finished ...\n"
     ]
    },
    {
     "name": "stderr",
     "output_type": "stream",
     "text": [
      " 32%|███▏      | 773/2380 [4:42:46<8:08:31, 18.24s/it] "
     ]
    },
    {
     "name": "stdout",
     "output_type": "stream",
     "text": [
      "Building 814 is finished ...\n"
     ]
    },
    {
     "name": "stderr",
     "output_type": "stream",
     "text": [
      " 33%|███▎      | 774/2380 [4:43:13<9:17:50, 20.84s/it]"
     ]
    },
    {
     "name": "stdout",
     "output_type": "stream",
     "text": [
      "Building 815 is finished ...\n",
      "Building 816 is finished ...\n"
     ]
    },
    {
     "name": "stderr",
     "output_type": "stream",
     "text": [
      " 33%|███▎      | 775/2380 [4:43:40<10:11:30, 22.86s/it]"
     ]
    },
    {
     "name": "stdout",
     "output_type": "stream",
     "text": [
      "Building 817 is finished ...\n"
     ]
    },
    {
     "name": "stderr",
     "output_type": "stream",
     "text": [
      " 33%|███▎      | 777/2380 [4:44:25<10:04:33, 22.63s/it]"
     ]
    },
    {
     "name": "stdout",
     "output_type": "stream",
     "text": [
      "Building 819 is finished ...\n",
      "Building 818 is finished ...\n"
     ]
    },
    {
     "name": "stderr",
     "output_type": "stream",
     "text": [
      " 33%|███▎      | 778/2380 [4:44:57<11:23:00, 25.58s/it]"
     ]
    },
    {
     "name": "stdout",
     "output_type": "stream",
     "text": [
      "Building 822 is finished ...\n",
      "Building 821 is finished ...\n",
      "Building 820 is finished ...\n"
     ]
    },
    {
     "name": "stderr",
     "output_type": "stream",
     "text": [
      " 33%|███▎      | 780/2380 [4:46:43<15:00:12, 33.76s/it]"
     ]
    },
    {
     "name": "stdout",
     "output_type": "stream",
     "text": [
      "Building 826 is finished ...\n",
      "Building 825 is finished ...\n",
      "Building 824 is finished ...\n",
      "Building 827 is finished ...\n",
      "Building 828 is finished ...\n",
      "Building 829 is finished ...\n",
      "Building 830 is finished ...\n",
      "Building 823 is finished ...\n"
     ]
    },
    {
     "name": "stderr",
     "output_type": "stream",
     "text": [
      " 33%|███▎      | 783/2380 [4:49:39<18:17:42, 41.24s/it]"
     ]
    },
    {
     "name": "stdout",
     "output_type": "stream",
     "text": [
      "Building 833 is finished ...\n",
      "Building 831 is finished ...\n"
     ]
    },
    {
     "name": "stderr",
     "output_type": "stream",
     "text": [
      " 33%|███▎      | 791/2380 [4:50:11<13:16:43, 30.08s/it]"
     ]
    },
    {
     "name": "stdout",
     "output_type": "stream",
     "text": [
      "Building 832 is finished ...\n"
     ]
    },
    {
     "name": "stderr",
     "output_type": "stream",
     "text": [
      " 33%|███▎      | 792/2380 [4:50:49<14:18:33, 32.44s/it]"
     ]
    },
    {
     "name": "stdout",
     "output_type": "stream",
     "text": [
      "Building 834 is finished ...\n"
     ]
    },
    {
     "name": "stderr",
     "output_type": "stream",
     "text": [
      " 33%|███▎      | 794/2380 [4:51:17<11:49:25, 26.84s/it]"
     ]
    },
    {
     "name": "stdout",
     "output_type": "stream",
     "text": [
      "Building 836 is finished ...\n",
      "Building 835 is finished ...\n"
     ]
    },
    {
     "name": "stderr",
     "output_type": "stream",
     "text": [
      " 33%|███▎      | 795/2380 [4:51:46<12:11:35, 27.69s/it]"
     ]
    },
    {
     "name": "stdout",
     "output_type": "stream",
     "text": [
      "Building 840 is finished ...\n",
      "Building 842 is finished ...\n",
      "Building 839 is finished ...\n",
      "Building 841 is finished ...\n",
      "Building 843 is finished ...\n",
      "Building 844 is finished ...\n",
      "Building 846 is finished ...\n",
      "Building 838 is finished ...\n"
     ]
    },
    {
     "name": "stderr",
     "output_type": "stream",
     "text": [
      " 33%|███▎      | 797/2380 [4:53:51<16:45:25, 38.11s/it]"
     ]
    },
    {
     "name": "stdout",
     "output_type": "stream",
     "text": [
      "Building 845 is finished ...\n"
     ]
    },
    {
     "name": "stderr",
     "output_type": "stream",
     "text": [
      " 34%|███▍      | 804/2380 [4:54:02<11:53:01, 27.15s/it]"
     ]
    },
    {
     "name": "stdout",
     "output_type": "stream",
     "text": [
      "Building 847 is finished ...\n"
     ]
    },
    {
     "name": "stderr",
     "output_type": "stream",
     "text": [
      " 34%|███▍      | 806/2380 [4:54:58<11:58:41, 27.40s/it]"
     ]
    },
    {
     "name": "stdout",
     "output_type": "stream",
     "text": [
      "Building 848 is finished ...\n"
     ]
    },
    {
     "name": "stderr",
     "output_type": "stream",
     "text": [
      " 34%|███▍      | 807/2380 [4:55:15<10:36:13, 24.27s/it]"
     ]
    },
    {
     "name": "stdout",
     "output_type": "stream",
     "text": [
      "Building 852 is finished ...\n",
      "Building 851 is finished ...\n",
      "Building 849 is finished ...\n"
     ]
    },
    {
     "name": "stderr",
     "output_type": "stream",
     "text": [
      " 34%|███▍      | 808/2380 [4:55:33<9:42:24, 22.23s/it] "
     ]
    },
    {
     "name": "stdout",
     "output_type": "stream",
     "text": [
      "Building 850 is finished ...\n"
     ]
    },
    {
     "name": "stderr",
     "output_type": "stream",
     "text": [
      " 34%|███▍      | 809/2380 [4:55:33<6:49:45, 15.65s/it]"
     ]
    },
    {
     "name": "stdout",
     "output_type": "stream",
     "text": [
      "Building 858 is finished ...\n",
      "Building 855 is finished ...\n",
      "Building 854 is finished ...\n",
      "Building 856 is finished ...\n",
      "Building 860 is finished ...\n",
      "Building 862 is finished ...\n",
      "Building 863 is finished ...\n",
      "Building 861 is finished ...\n",
      "Building 865 is finished ...\n",
      "Building 864 is finished ...\n",
      "Building 866 is finished ...\n",
      "Building 853 is finished ...\n"
     ]
    },
    {
     "name": "stderr",
     "output_type": "stream",
     "text": [
      " 34%|███▍      | 812/2380 [5:01:44<20:56:00, 48.06s/it]"
     ]
    },
    {
     "name": "stdout",
     "output_type": "stream",
     "text": [
      "Building 867 is finished ...\n",
      "Building 870 is finished ...\n",
      "Building 868 is finished ...\n",
      "Building 872 is finished ...\n",
      "Building 873 is finished ...\n",
      "Building 876 is finished ...\n",
      "Building 874 is finished ...\n",
      "Building 875 is finished ...\n",
      "Building 877 is finished ...\n",
      "Building 859 is finished ...\n",
      "Building 879 is finished ...\n",
      "Building 857 is finished ...\n"
     ]
    },
    {
     "name": "stderr",
     "output_type": "stream",
     "text": [
      " 34%|███▍      | 816/2380 [5:05:25<21:49:23, 50.23s/it]"
     ]
    },
    {
     "name": "stdout",
     "output_type": "stream",
     "text": [
      "Building 881 is finished ...\n",
      "Building 869 is finished ...\n"
     ]
    },
    {
     "name": "stderr",
     "output_type": "stream",
     "text": [
      " 35%|███▍      | 828/2380 [5:06:29<15:51:02, 36.77s/it]"
     ]
    },
    {
     "name": "stdout",
     "output_type": "stream",
     "text": [
      "Building 880 is finished ...\n",
      "Building 882 is finished ...\n",
      "Building 889 is finished ...\n",
      "Building 887 is finished ...\n",
      "Building 878 is finished ...\n",
      "Building 871 is finished ...\n"
     ]
    },
    {
     "name": "stderr",
     "output_type": "stream",
     "text": [
      " 35%|███▍      | 830/2380 [5:08:52<20:16:46, 47.10s/it]"
     ]
    },
    {
     "name": "stdout",
     "output_type": "stream",
     "text": [
      "Building 888 is finished ...\n",
      "Building 885 is finished ...\n",
      "Building 890 is finished ...\n",
      "Building 893 is finished ...\n",
      "Building 892 is finished ...\n",
      "Building 894 is finished ...\n",
      "Building 895 is finished ...\n",
      "Building 896 is finished ...\n",
      "Building 884 is finished ...\n",
      "Building 883 is finished ...\n"
     ]
    },
    {
     "name": "stderr",
     "output_type": "stream",
     "text": [
      " 35%|███▌      | 842/2380 [5:12:49<16:37:02, 38.90s/it]"
     ]
    },
    {
     "name": "stdout",
     "output_type": "stream",
     "text": [
      "Building 898 is finished ...\n",
      "Building 897 is finished ...\n",
      "Building 900 is finished ...\n",
      "Building 901 is finished ...\n",
      "Building 902 is finished ...\n",
      "Building 886 is finished ...\n"
     ]
    },
    {
     "name": "stderr",
     "output_type": "stream",
     "text": [
      " 36%|███▌      | 845/2380 [5:15:31<18:31:36, 43.45s/it]"
     ]
    },
    {
     "name": "stdout",
     "output_type": "stream",
     "text": [
      "Building 903 is finished ...\n",
      "Building 904 is finished ...\n",
      "Building 905 is finished ...\n",
      "Building 906 is finished ...\n",
      "Building 907 is finished ...\n",
      "Building 909 is finished ...\n",
      "Building 908 is finished ...\n",
      "Building 891 is finished ...\n"
     ]
    },
    {
     "name": "stderr",
     "output_type": "stream",
     "text": [
      " 36%|███▌      | 850/2380 [5:17:20<15:41:49, 36.93s/it]"
     ]
    },
    {
     "name": "stdout",
     "output_type": "stream",
     "text": [
      "Building 912 is finished ...\n",
      "Building 910 is finished ...\n",
      "Building 899 is finished ...\n"
     ]
    },
    {
     "name": "stderr",
     "output_type": "stream",
     "text": [
      " 36%|███▌      | 858/2380 [5:19:06<12:37:08, 29.85s/it]"
     ]
    },
    {
     "name": "stdout",
     "output_type": "stream",
     "text": [
      "Building 914 is finished ...\n",
      "Building 919 is finished ...\n",
      "Building 918 is finished ...\n",
      "Building 915 is finished ...\n",
      "Building 920 is finished ...\n",
      "Building 924 is finished ...\n",
      "Building 921 is finished ...\n",
      "Building 925 is finished ...\n",
      "Building 927 is finished ...\n",
      "Building 923 is finished ...\n",
      "Building 926 is finished ...\n",
      "Building 928 is finished ...\n",
      "Building 913 is finished ...\n",
      "Building 911 is finished ...\n"
     ]
    },
    {
     "name": "stderr",
     "output_type": "stream",
     "text": [
      " 37%|███▋      | 870/2380 [5:25:42<12:54:35, 30.78s/it]"
     ]
    },
    {
     "name": "stdout",
     "output_type": "stream",
     "text": [
      "Building 933 is finished ...\n",
      "Building 931 is finished ...\n",
      "Building 916 is finished ...\n"
     ]
    },
    {
     "name": "stderr",
     "output_type": "stream",
     "text": [
      " 37%|███▋      | 875/2380 [5:27:29<11:42:07, 27.99s/it]"
     ]
    },
    {
     "name": "stdout",
     "output_type": "stream",
     "text": [
      "Building 935 is finished ...\n",
      "Building 917 is finished ...\n"
     ]
    },
    {
     "name": "stderr",
     "output_type": "stream",
     "text": [
      " 37%|███▋      | 876/2380 [5:27:38<9:21:25, 22.40s/it] "
     ]
    },
    {
     "name": "stdout",
     "output_type": "stream",
     "text": [
      "Building 937 is finished ...\n",
      "Building 932 is finished ...\n",
      "Building 922 is finished ...\n"
     ]
    },
    {
     "name": "stderr",
     "output_type": "stream",
     "text": [
      " 37%|███▋      | 881/2380 [5:28:06<7:13:26, 17.35s/it]"
     ]
    },
    {
     "name": "stdout",
     "output_type": "stream",
     "text": [
      "Building 934 is finished ...\n",
      "Building 938 is finished ...\n",
      "Building 939 is finished ...\n",
      "Building 930 is finished ...\n",
      "Building 941 is finished ...\n",
      "Building 940 is finished ...\n",
      "Building 942 is finished ...\n",
      "Building 944 is finished ...\n",
      "Building 945 is finished ...\n",
      "Building 951 is finished ...\n",
      "Building 947 is finished ...\n",
      "Building 952 is finished ...\n",
      "Building 949 is finished ...\n",
      "Building 953 is finished ...\n",
      "Building 954 is finished ...\n",
      "Building 955 is finished ...\n",
      "Building 929 is finished ...\n"
     ]
    },
    {
     "name": "stderr",
     "output_type": "stream",
     "text": [
      " 37%|███▋      | 888/2380 [5:32:25<9:37:19, 23.22s/it]"
     ]
    },
    {
     "name": "stdout",
     "output_type": "stream",
     "text": [
      "Building 957 is finished ...\n"
     ]
    },
    {
     "name": "stderr",
     "output_type": "stream",
     "text": [
      " 38%|███▊      | 910/2380 [5:32:55<6:48:23, 16.67s/it]"
     ]
    },
    {
     "name": "stdout",
     "output_type": "stream",
     "text": [
      "Building 959 is finished ...\n",
      "Building 958 is finished ...\n"
     ]
    },
    {
     "name": "stderr",
     "output_type": "stream",
     "text": [
      " 38%|███▊      | 911/2380 [5:33:09<6:26:44, 15.80s/it]"
     ]
    },
    {
     "name": "stdout",
     "output_type": "stream",
     "text": [
      "Building 961 is finished ...\n",
      "Building 962 is finished ...\n",
      "Building 963 is finished ...\n",
      "Building 964 is finished ...\n",
      "Building 965 is finished ...\n",
      "Building 968 is finished ...\n",
      "Building 960 is finished ...\n"
     ]
    },
    {
     "name": "stderr",
     "output_type": "stream",
     "text": [
      " 38%|███▊      | 913/2380 [5:37:54<21:55:20, 53.80s/it]"
     ]
    },
    {
     "name": "stdout",
     "output_type": "stream",
     "text": [
      "Building 972 is finished ...\n",
      "Building 966 is finished ...\n"
     ]
    },
    {
     "name": "stderr",
     "output_type": "stream",
     "text": [
      " 39%|███▊      | 919/2380 [5:38:46<16:20:11, 40.25s/it]"
     ]
    },
    {
     "name": "stdout",
     "output_type": "stream",
     "text": [
      "Building 970 is finished ...\n",
      "Building 973 is finished ...\n",
      "Building 975 is finished ...\n",
      "Building 977 is finished ...\n",
      "Building 979 is finished ...\n",
      "Building 971 is finished ...\n",
      "Building 978 is finished ...\n",
      "Building 969 is finished ...\n"
     ]
    },
    {
     "name": "stderr",
     "output_type": "stream",
     "text": [
      " 39%|███▊      | 921/2380 [5:41:19<20:45:29, 51.22s/it]"
     ]
    },
    {
     "name": "stdout",
     "output_type": "stream",
     "text": [
      "Building 981 is finished ...\n",
      "Building 982 is finished ...\n",
      "Building 974 is finished ...\n"
     ]
    },
    {
     "name": "stderr",
     "output_type": "stream",
     "text": [
      " 39%|███▉      | 926/2380 [5:43:36<17:47:30, 44.05s/it]"
     ]
    },
    {
     "name": "stdout",
     "output_type": "stream",
     "text": [
      "Building 987 is finished ...\n",
      "Building 985 is finished ...\n",
      "Building 984 is finished ...\n"
     ]
    },
    {
     "name": "stderr",
     "output_type": "stream",
     "text": [
      " 39%|███▉      | 933/2380 [5:44:21<13:09:37, 32.74s/it]"
     ]
    },
    {
     "name": "stdout",
     "output_type": "stream",
     "text": [
      "Building 991 is finished ...\n",
      "Building 986 is finished ...\n"
     ]
    },
    {
     "name": "stderr",
     "output_type": "stream",
     "text": [
      " 39%|███▉      | 935/2380 [5:44:39<10:20:05, 25.75s/it]"
     ]
    },
    {
     "name": "stdout",
     "output_type": "stream",
     "text": [
      "Building 992 is finished ...\n",
      "Building 996 is finished ...\n",
      "Building 988 is finished ...\n"
     ]
    },
    {
     "name": "stderr",
     "output_type": "stream",
     "text": [
      " 39%|███▉      | 937/2380 [5:45:05<8:46:22, 21.89s/it] "
     ]
    },
    {
     "name": "stdout",
     "output_type": "stream",
     "text": [
      "Building 989 is finished ...\n"
     ]
    },
    {
     "name": "stderr",
     "output_type": "stream",
     "text": [
      " 39%|███▉      | 938/2380 [5:45:18<7:41:26, 19.20s/it]"
     ]
    },
    {
     "name": "stdout",
     "output_type": "stream",
     "text": [
      "Building 994 is finished ...\n",
      "Building 990 is finished ...\n"
     ]
    },
    {
     "name": "stderr",
     "output_type": "stream",
     "text": [
      " 39%|███▉      | 939/2380 [5:45:22<5:48:47, 14.52s/it]"
     ]
    },
    {
     "name": "stdout",
     "output_type": "stream",
     "text": [
      "Building 993 is finished ...\n"
     ]
    },
    {
     "name": "stderr",
     "output_type": "stream",
     "text": [
      " 40%|███▉      | 942/2380 [5:45:22<4:04:36, 10.21s/it]"
     ]
    },
    {
     "name": "stdout",
     "output_type": "stream",
     "text": [
      "Building 999 is finished ...\n",
      "Building 997 is finished ...\n"
     ]
    },
    {
     "name": "stderr",
     "output_type": "stream",
     "text": [
      " 40%|███▉      | 945/2380 [5:46:20<5:09:26, 12.94s/it]"
     ]
    },
    {
     "name": "stdout",
     "output_type": "stream",
     "text": [
      "Building 998 is finished ...\n"
     ]
    },
    {
     "name": "stderr",
     "output_type": "stream",
     "text": [
      " 40%|███▉      | 946/2380 [5:46:49<7:01:21, 17.63s/it]"
     ]
    },
    {
     "name": "stdout",
     "output_type": "stream",
     "text": [
      "Building 1001 is finished ...\n"
     ]
    },
    {
     "name": "stderr",
     "output_type": "stream",
     "text": [
      " 40%|███▉      | 948/2380 [5:47:06<5:55:55, 14.91s/it]"
     ]
    },
    {
     "name": "stdout",
     "output_type": "stream",
     "text": [
      "Building 1002 is finished ...\n"
     ]
    },
    {
     "name": "stderr",
     "output_type": "stream",
     "text": [
      " 40%|███▉      | 949/2380 [5:47:38<7:56:38, 19.99s/it]"
     ]
    },
    {
     "name": "stdout",
     "output_type": "stream",
     "text": [
      "Building 1004 is finished ...\n",
      "Building 1005 is finished ...\n",
      "Building 1007 is finished ...\n",
      "Building 1003 is finished ...\n"
     ]
    },
    {
     "name": "stderr",
     "output_type": "stream",
     "text": [
      " 40%|███▉      | 950/2380 [5:48:48<13:54:32, 35.02s/it]"
     ]
    },
    {
     "name": "stdout",
     "output_type": "stream",
     "text": [
      "Building 1008 is finished ...\n"
     ]
    },
    {
     "name": "stderr",
     "output_type": "stream",
     "text": [
      " 40%|████      | 954/2380 [5:49:28<10:54:42, 27.55s/it]"
     ]
    },
    {
     "name": "stdout",
     "output_type": "stream",
     "text": [
      "Building 1011 is finished ...\n",
      "Building 1009 is finished ...\n"
     ]
    },
    {
     "name": "stderr",
     "output_type": "stream",
     "text": [
      " 40%|████      | 955/2380 [5:51:06<19:16:56, 48.71s/it]"
     ]
    },
    {
     "name": "stdout",
     "output_type": "stream",
     "text": [
      "Building 1012 is finished ...\n"
     ]
    },
    {
     "name": "stderr",
     "output_type": "stream",
     "text": [
      " 40%|████      | 957/2380 [5:51:08<13:35:42, 34.39s/it]"
     ]
    },
    {
     "name": "stdout",
     "output_type": "stream",
     "text": [
      "Building 1013 is finished ...\n"
     ]
    },
    {
     "name": "stderr",
     "output_type": "stream",
     "text": [
      " 40%|████      | 958/2380 [5:51:57<15:19:18, 38.79s/it]"
     ]
    },
    {
     "name": "stdout",
     "output_type": "stream",
     "text": [
      "Building 1014 is finished ...\n"
     ]
    },
    {
     "name": "stderr",
     "output_type": "stream",
     "text": [
      " 40%|████      | 959/2380 [5:52:35<15:12:35, 38.53s/it]"
     ]
    },
    {
     "name": "stdout",
     "output_type": "stream",
     "text": [
      "Building 1015 is finished ...\n"
     ]
    },
    {
     "name": "stderr",
     "output_type": "stream",
     "text": [
      " 40%|████      | 960/2380 [5:52:52<12:34:33, 31.88s/it]"
     ]
    },
    {
     "name": "stdout",
     "output_type": "stream",
     "text": [
      "Building 1017 is finished ...\n",
      "Building 1018 is finished ...\n",
      "Building 1016 is finished ...\n"
     ]
    },
    {
     "name": "stderr",
     "output_type": "stream",
     "text": [
      " 40%|████      | 961/2380 [5:54:47<22:23:45, 56.82s/it]"
     ]
    },
    {
     "name": "stdout",
     "output_type": "stream",
     "text": [
      "Building 1019 is finished ...\n"
     ]
    },
    {
     "name": "stderr",
     "output_type": "stream",
     "text": [
      " 41%|████      | 964/2380 [5:55:06<16:25:29, 41.76s/it]"
     ]
    },
    {
     "name": "stdout",
     "output_type": "stream",
     "text": [
      "Building 1020 is finished ...\n"
     ]
    },
    {
     "name": "stderr",
     "output_type": "stream",
     "text": [
      " 41%|████      | 965/2380 [5:55:31<14:21:14, 36.52s/it]"
     ]
    },
    {
     "name": "stdout",
     "output_type": "stream",
     "text": [
      "Building 1022 is finished ...\n",
      "Building 1027 is finished ...\n",
      "Building 1026 is finished ...\n",
      "Building 1021 is finished ...\n"
     ]
    },
    {
     "name": "stderr",
     "output_type": "stream",
     "text": [
      " 41%|████      | 966/2380 [5:56:34<17:28:58, 44.51s/it]"
     ]
    },
    {
     "name": "stdout",
     "output_type": "stream",
     "text": [
      "Building 1023 is finished ...\n"
     ]
    },
    {
     "name": "stderr",
     "output_type": "stream",
     "text": [
      " 41%|████      | 968/2380 [5:57:25<15:12:45, 38.79s/it]"
     ]
    },
    {
     "name": "stdout",
     "output_type": "stream",
     "text": [
      "Building 1024 is finished ...\n"
     ]
    },
    {
     "name": "stderr",
     "output_type": "stream",
     "text": [
      " 41%|████      | 969/2380 [5:57:31<11:22:26, 29.02s/it]"
     ]
    },
    {
     "name": "stdout",
     "output_type": "stream",
     "text": [
      "Building 1025 is finished ...\n"
     ]
    },
    {
     "name": "stderr",
     "output_type": "stream",
     "text": [
      " 41%|████      | 970/2380 [5:57:39<8:56:32, 22.83s/it] "
     ]
    },
    {
     "name": "stdout",
     "output_type": "stream",
     "text": [
      "Building 1033 is finished ...\n",
      "Building 1032 is finished ...\n",
      "Building 1030 is finished ...\n",
      "Building 1029 is finished ...\n",
      "Building 1031 is finished ...\n",
      "Building 1036 is finished ...\n",
      "Building 1028 is finished ...\n"
     ]
    },
    {
     "name": "stderr",
     "output_type": "stream",
     "text": [
      " 41%|████      | 973/2380 [5:59:39<10:55:24, 27.95s/it]"
     ]
    },
    {
     "name": "stdout",
     "output_type": "stream",
     "text": [
      "Building 1035 is finished ...\n",
      "Building 1040 is finished ...\n",
      "Building 1039 is finished ...\n",
      "Building 1034 is finished ...\n"
     ]
    },
    {
     "name": "stderr",
     "output_type": "stream",
     "text": [
      " 41%|████      | 979/2380 [6:00:39<8:46:54, 22.57s/it] "
     ]
    },
    {
     "name": "stdout",
     "output_type": "stream",
     "text": [
      "Building 1041 is finished ...\n",
      "Building 1038 is finished ...\n",
      "Building 1037 is finished ...\n"
     ]
    },
    {
     "name": "stderr",
     "output_type": "stream",
     "text": [
      " 41%|████▏     | 982/2380 [6:01:20<7:43:19, 19.89s/it]"
     ]
    },
    {
     "name": "stdout",
     "output_type": "stream",
     "text": [
      "Building 1044 is finished ...\n",
      "Building 1045 is finished ...\n",
      "Building 1042 is finished ...\n"
     ]
    },
    {
     "name": "stderr",
     "output_type": "stream",
     "text": [
      " 41%|████▏     | 987/2380 [6:02:10<6:33:12, 16.94s/it]"
     ]
    },
    {
     "name": "stdout",
     "output_type": "stream",
     "text": [
      "Building 1043 is finished ...\n"
     ]
    },
    {
     "name": "stderr",
     "output_type": "stream",
     "text": [
      " 42%|████▏     | 988/2380 [6:02:32<7:03:43, 18.26s/it]"
     ]
    },
    {
     "name": "stdout",
     "output_type": "stream",
     "text": [
      "Building 1047 is finished ...\n",
      "Building 1048 is finished ...\n",
      "Building 1049 is finished ...\n",
      "Building 1046 is finished ...\n"
     ]
    },
    {
     "name": "stderr",
     "output_type": "stream",
     "text": [
      " 42%|████▏     | 991/2380 [6:03:57<8:14:15, 21.35s/it]"
     ]
    },
    {
     "name": "stdout",
     "output_type": "stream",
     "text": [
      "Building 1051 is finished ...\n",
      "Building 1050 is finished ...\n"
     ]
    },
    {
     "name": "stderr",
     "output_type": "stream",
     "text": [
      " 42%|████▏     | 995/2380 [6:04:55<7:25:24, 19.30s/it]"
     ]
    },
    {
     "name": "stdout",
     "output_type": "stream",
     "text": [
      "Building 1052 is finished ...\n"
     ]
    },
    {
     "name": "stderr",
     "output_type": "stream",
     "text": [
      " 42%|████▏     | 997/2380 [6:05:23<6:45:54, 17.61s/it]"
     ]
    },
    {
     "name": "stdout",
     "output_type": "stream",
     "text": [
      "Building 1053 is finished ...\n"
     ]
    },
    {
     "name": "stderr",
     "output_type": "stream",
     "text": [
      " 42%|████▏     | 998/2380 [6:07:19<18:09:01, 47.28s/it]"
     ]
    },
    {
     "name": "stdout",
     "output_type": "stream",
     "text": [
      "Building 1057 is finished ...\n",
      "Building 1061 is finished ...\n",
      "Building 1063 is finished ...\n",
      "Building 1058 is finished ...\n",
      "Building 1056 is finished ...\n",
      "Building 1054 is finished ...\n"
     ]
    },
    {
     "name": "stderr",
     "output_type": "stream",
     "text": [
      " 42%|████▏     | 999/2380 [6:10:08<32:06:22, 83.69s/it]"
     ]
    },
    {
     "name": "stdout",
     "output_type": "stream",
     "text": [
      "Building 1059 is finished ...\n",
      "Building 1060 is finished ...\n",
      "Building 1055 is finished ...\n"
     ]
    },
    {
     "name": "stderr",
     "output_type": "stream",
     "text": [
      " 42%|████▏     | 1000/2380 [6:10:40<26:07:47, 68.16s/it]"
     ]
    },
    {
     "name": "stdout",
     "output_type": "stream",
     "text": [
      "Building 1064 is finished ...\n",
      "Building 1062 is finished ...\n"
     ]
    },
    {
     "name": "stderr",
     "output_type": "stream",
     "text": [
      " 42%|████▏     | 1007/2380 [6:10:50<18:22:18, 48.17s/it]"
     ]
    },
    {
     "name": "stdout",
     "output_type": "stream",
     "text": [
      "Building 1065 is finished ...\n"
     ]
    },
    {
     "name": "stderr",
     "output_type": "stream",
     "text": [
      " 42%|████▏     | 1010/2380 [6:11:26<14:10:53, 37.27s/it]"
     ]
    },
    {
     "name": "stdout",
     "output_type": "stream",
     "text": [
      "Building 1066 is finished ...\n"
     ]
    },
    {
     "name": "stderr",
     "output_type": "stream",
     "text": [
      " 42%|████▏     | 1011/2380 [6:11:40<11:33:07, 30.38s/it]"
     ]
    },
    {
     "name": "stdout",
     "output_type": "stream",
     "text": [
      "Building 1069 is finished ...\n",
      "Building 1067 is finished ...\n"
     ]
    },
    {
     "name": "stderr",
     "output_type": "stream",
     "text": [
      " 43%|████▎     | 1012/2380 [6:12:18<12:26:47, 32.75s/it]"
     ]
    },
    {
     "name": "stdout",
     "output_type": "stream",
     "text": [
      "Building 1072 is finished ...\n",
      "Building 1068 is finished ...\n"
     ]
    },
    {
     "name": "stderr",
     "output_type": "stream",
     "text": [
      " 43%|████▎     | 1013/2380 [6:12:48<12:02:38, 31.72s/it]"
     ]
    },
    {
     "name": "stdout",
     "output_type": "stream",
     "text": [
      "Building 1070 is finished ...\n"
     ]
    },
    {
     "name": "stderr",
     "output_type": "stream",
     "text": [
      " 43%|████▎     | 1015/2380 [6:12:53<8:44:37, 23.06s/it] "
     ]
    },
    {
     "name": "stdout",
     "output_type": "stream",
     "text": [
      "Building 1071 is finished ...\n"
     ]
    },
    {
     "name": "stderr",
     "output_type": "stream",
     "text": [
      " 43%|████▎     | 1016/2380 [6:13:21<9:13:01, 24.33s/it]"
     ]
    },
    {
     "name": "stdout",
     "output_type": "stream",
     "text": [
      "Building 1073 is finished ...\n"
     ]
    },
    {
     "name": "stderr",
     "output_type": "stream",
     "text": [
      " 43%|████▎     | 1018/2380 [6:13:28<6:53:05, 18.20s/it]"
     ]
    },
    {
     "name": "stdout",
     "output_type": "stream",
     "text": [
      "Building 1075 is finished ...\n",
      "Building 1077 is finished ...\n",
      "Building 1076 is finished ...\n",
      "Building 1074 is finished ...\n"
     ]
    },
    {
     "name": "stderr",
     "output_type": "stream",
     "text": [
      " 43%|████▎     | 1019/2380 [6:14:31<11:53:28, 31.45s/it]"
     ]
    },
    {
     "name": "stdout",
     "output_type": "stream",
     "text": [
      "Building 1080 is finished ...\n",
      "Building 1078 is finished ...\n"
     ]
    },
    {
     "name": "stderr",
     "output_type": "stream",
     "text": [
      " 43%|████▎     | 1023/2380 [6:14:35<8:25:05, 22.33s/it] "
     ]
    },
    {
     "name": "stdout",
     "output_type": "stream",
     "text": [
      "Building 1081 is finished ...\n",
      "Building 1079 is finished ...\n"
     ]
    },
    {
     "name": "stderr",
     "output_type": "stream",
     "text": [
      " 43%|████▎     | 1024/2380 [6:15:14<10:15:29, 27.23s/it]"
     ]
    },
    {
     "name": "stdout",
     "output_type": "stream",
     "text": [
      "Building 1083 is finished ...\n"
     ]
    },
    {
     "name": "stderr",
     "output_type": "stream",
     "text": [
      " 43%|████▎     | 1027/2380 [6:15:24<7:32:40, 20.07s/it] "
     ]
    },
    {
     "name": "stdout",
     "output_type": "stream",
     "text": [
      "Building 1084 is finished ...\n"
     ]
    },
    {
     "name": "stderr",
     "output_type": "stream",
     "text": [
      " 43%|████▎     | 1028/2380 [6:15:44<7:31:20, 20.03s/it]"
     ]
    },
    {
     "name": "stdout",
     "output_type": "stream",
     "text": [
      "Building 1085 is finished ...\n"
     ]
    },
    {
     "name": "stderr",
     "output_type": "stream",
     "text": [
      " 43%|████▎     | 1029/2380 [6:15:54<6:27:23, 17.20s/it]"
     ]
    },
    {
     "name": "stdout",
     "output_type": "stream",
     "text": [
      "Building 1086 is finished ...\n"
     ]
    },
    {
     "name": "stderr",
     "output_type": "stream",
     "text": [
      " 43%|████▎     | 1030/2380 [6:17:18<13:55:39, 37.14s/it]"
     ]
    },
    {
     "name": "stdout",
     "output_type": "stream",
     "text": [
      "Building 1089 is finished ...\n",
      "Building 1088 is finished ...\n",
      "Building 1087 is finished ...\n"
     ]
    },
    {
     "name": "stderr",
     "output_type": "stream",
     "text": [
      " 43%|████▎     | 1031/2380 [6:19:00<21:14:03, 56.67s/it]"
     ]
    },
    {
     "name": "stdout",
     "output_type": "stream",
     "text": [
      "Building 1094 is finished ...\n",
      "Building 1091 is finished ...\n",
      "Building 1090 is finished ...\n"
     ]
    },
    {
     "name": "stderr",
     "output_type": "stream",
     "text": [
      " 43%|████▎     | 1034/2380 [6:20:44<18:42:17, 50.03s/it]"
     ]
    },
    {
     "name": "stdout",
     "output_type": "stream",
     "text": [
      "Building 1097 is finished ...\n",
      "Building 1093 is finished ...\n"
     ]
    },
    {
     "name": "stderr",
     "output_type": "stream",
     "text": [
      " 44%|████▎     | 1036/2380 [6:21:07<14:23:10, 38.53s/it]"
     ]
    },
    {
     "name": "stdout",
     "output_type": "stream",
     "text": [
      "Building 1095 is finished ...\n"
     ]
    },
    {
     "name": "stderr",
     "output_type": "stream",
     "text": [
      " 44%|████▎     | 1038/2380 [6:21:08<10:04:03, 27.01s/it]"
     ]
    },
    {
     "name": "stdout",
     "output_type": "stream",
     "text": [
      "Building 1096 is finished ...\n"
     ]
    },
    {
     "name": "stderr",
     "output_type": "stream",
     "text": [
      " 44%|████▎     | 1039/2380 [6:22:52<18:40:51, 50.15s/it]"
     ]
    },
    {
     "name": "stdout",
     "output_type": "stream",
     "text": [
      "Building 1100 is finished ...\n",
      "Building 1099 is finished ...\n",
      "Building 1098 is finished ...\n"
     ]
    },
    {
     "name": "stderr",
     "output_type": "stream",
     "text": [
      " 44%|████▎     | 1041/2380 [6:23:46<16:04:06, 43.20s/it]"
     ]
    },
    {
     "name": "stdout",
     "output_type": "stream",
     "text": [
      "Building 1102 is finished ...\n",
      "Building 1103 is finished ...\n",
      "Building 1105 is finished ...\n",
      "Building 1101 is finished ...\n"
     ]
    },
    {
     "name": "stderr",
     "output_type": "stream",
     "text": [
      " 44%|████▍     | 1044/2380 [6:24:28<12:47:07, 34.45s/it]"
     ]
    },
    {
     "name": "stdout",
     "output_type": "stream",
     "text": [
      "Building 1104 is finished ...\n"
     ]
    },
    {
     "name": "stderr",
     "output_type": "stream",
     "text": [
      " 44%|████▍     | 1047/2380 [6:25:02<10:11:01, 27.50s/it]"
     ]
    },
    {
     "name": "stdout",
     "output_type": "stream",
     "text": [
      "Building 1108 is finished ...\n",
      "Building 1106 is finished ...\n"
     ]
    },
    {
     "name": "stderr",
     "output_type": "stream",
     "text": [
      " 44%|████▍     | 1049/2380 [6:26:04<10:35:43, 28.66s/it]"
     ]
    },
    {
     "name": "stdout",
     "output_type": "stream",
     "text": [
      "Building 1107 is finished ...\n"
     ]
    },
    {
     "name": "stderr",
     "output_type": "stream",
     "text": [
      " 44%|████▍     | 1050/2380 [6:26:16<8:42:25, 23.57s/it] "
     ]
    },
    {
     "name": "stdout",
     "output_type": "stream",
     "text": [
      "Building 1109 is finished ...\n"
     ]
    },
    {
     "name": "stderr",
     "output_type": "stream",
     "text": [
      " 44%|████▍     | 1052/2380 [6:26:22<6:24:54, 17.39s/it]"
     ]
    },
    {
     "name": "stdout",
     "output_type": "stream",
     "text": [
      "Building 1113 is finished ...\n",
      "Building 1112 is finished ...\n",
      "Building 1111 is finished ...\n",
      "Building 1110 is finished ...\n"
     ]
    },
    {
     "name": "stderr",
     "output_type": "stream",
     "text": [
      " 44%|████▍     | 1053/2380 [6:26:58<8:28:41, 23.00s/it]"
     ]
    },
    {
     "name": "stdout",
     "output_type": "stream",
     "text": [
      "Building 1114 is finished ...\n"
     ]
    },
    {
     "name": "stderr",
     "output_type": "stream",
     "text": [
      " 44%|████▍     | 1057/2380 [6:26:59<5:56:07, 16.15s/it]"
     ]
    },
    {
     "name": "stdout",
     "output_type": "stream",
     "text": [
      "Building 1116 is finished ...\n",
      "Building 1115 is finished ...\n"
     ]
    },
    {
     "name": "stderr",
     "output_type": "stream",
     "text": [
      " 44%|████▍     | 1058/2380 [6:27:28<7:24:02, 20.15s/it]"
     ]
    },
    {
     "name": "stdout",
     "output_type": "stream",
     "text": [
      "Building 1117 is finished ...\n"
     ]
    },
    {
     "name": "stderr",
     "output_type": "stream",
     "text": [
      " 45%|████▍     | 1060/2380 [6:27:50<6:21:00, 17.32s/it]"
     ]
    },
    {
     "name": "stdout",
     "output_type": "stream",
     "text": [
      "Building 1118 is finished ...\n"
     ]
    },
    {
     "name": "stderr",
     "output_type": "stream",
     "text": [
      " 45%|████▍     | 1061/2380 [6:28:24<8:11:27, 22.36s/it]"
     ]
    },
    {
     "name": "stdout",
     "output_type": "stream",
     "text": [
      "Building 1119 is finished ...\n"
     ]
    },
    {
     "name": "stderr",
     "output_type": "stream",
     "text": [
      " 45%|████▍     | 1062/2380 [6:28:28<6:08:55, 16.79s/it]"
     ]
    },
    {
     "name": "stdout",
     "output_type": "stream",
     "text": [
      "Building 1120 is finished ...\n"
     ]
    },
    {
     "name": "stderr",
     "output_type": "stream",
     "text": [
      " 45%|████▍     | 1063/2380 [6:29:27<10:52:32, 29.73s/it]"
     ]
    },
    {
     "name": "stdout",
     "output_type": "stream",
     "text": [
      "Building 1122 is finished ...\n",
      "Building 1121 is finished ...\n"
     ]
    },
    {
     "name": "stderr",
     "output_type": "stream",
     "text": [
      " 45%|████▍     | 1064/2380 [6:29:49<9:58:19, 27.28s/it] "
     ]
    },
    {
     "name": "stdout",
     "output_type": "stream",
     "text": [
      "Building 1123 is finished ...\n"
     ]
    },
    {
     "name": "stderr",
     "output_type": "stream",
     "text": [
      " 45%|████▍     | 1066/2380 [6:29:50<7:01:07, 19.23s/it]"
     ]
    },
    {
     "name": "stdout",
     "output_type": "stream",
     "text": [
      "Building 1124 is finished ...\n"
     ]
    },
    {
     "name": "stderr",
     "output_type": "stream",
     "text": [
      " 45%|████▍     | 1067/2380 [6:30:18<7:59:57, 21.93s/it]"
     ]
    },
    {
     "name": "stdout",
     "output_type": "stream",
     "text": [
      "Building 1126 is finished ...\n",
      "Building 1125 is finished ...\n"
     ]
    },
    {
     "name": "stderr",
     "output_type": "stream",
     "text": [
      " 45%|████▍     | 1068/2380 [6:30:43<8:15:44, 22.67s/it]"
     ]
    },
    {
     "name": "stdout",
     "output_type": "stream",
     "text": [
      "Building 1128 is finished ...\n",
      "Building 1127 is finished ...\n"
     ]
    },
    {
     "name": "stderr",
     "output_type": "stream",
     "text": [
      " 45%|████▍     | 1070/2380 [6:31:29<8:16:58, 22.76s/it]"
     ]
    },
    {
     "name": "stdout",
     "output_type": "stream",
     "text": [
      "Building 1130 is finished ...\n",
      "Building 1131 is finished ...\n",
      "Building 1137 is finished ...\n",
      "Building 1132 is finished ...\n",
      "Building 1129 is finished ...\n"
     ]
    },
    {
     "name": "stderr",
     "output_type": "stream",
     "text": [
      " 45%|████▌     | 1072/2380 [6:35:05<17:35:56, 48.44s/it]"
     ]
    },
    {
     "name": "stdout",
     "output_type": "stream",
     "text": [
      "Building 1133 is finished ...\n"
     ]
    },
    {
     "name": "stderr",
     "output_type": "stream",
     "text": [
      " 45%|████▌     | 1076/2380 [6:35:27<12:51:42, 35.51s/it]"
     ]
    },
    {
     "name": "stdout",
     "output_type": "stream",
     "text": [
      "Building 1134 is finished ...\n"
     ]
    },
    {
     "name": "stderr",
     "output_type": "stream",
     "text": [
      " 45%|████▌     | 1077/2380 [6:35:37<10:10:15, 28.10s/it]"
     ]
    },
    {
     "name": "stdout",
     "output_type": "stream",
     "text": [
      "Building 1135 is finished ...\n"
     ]
    },
    {
     "name": "stderr",
     "output_type": "stream",
     "text": [
      " 45%|████▌     | 1078/2380 [6:36:17<11:25:09, 31.57s/it]"
     ]
    },
    {
     "name": "stdout",
     "output_type": "stream",
     "text": [
      "Building 1136 is finished ...\n"
     ]
    },
    {
     "name": "stderr",
     "output_type": "stream",
     "text": [
      " 45%|████▌     | 1079/2380 [6:36:48<11:21:27, 31.43s/it]"
     ]
    },
    {
     "name": "stdout",
     "output_type": "stream",
     "text": [
      "Building 1140 is finished ...\n",
      "Building 1138 is finished ...\n"
     ]
    },
    {
     "name": "stderr",
     "output_type": "stream",
     "text": [
      " 45%|████▌     | 1081/2380 [6:38:29<13:23:56, 37.13s/it]"
     ]
    },
    {
     "name": "stdout",
     "output_type": "stream",
     "text": [
      "Building 1139 is finished ...\n"
     ]
    },
    {
     "name": "stderr",
     "output_type": "stream",
     "text": [
      " 45%|████▌     | 1082/2380 [6:38:55<12:13:36, 33.91s/it]"
     ]
    },
    {
     "name": "stdout",
     "output_type": "stream",
     "text": [
      "Building 1141 is finished ...\n"
     ]
    },
    {
     "name": "stderr",
     "output_type": "stream",
     "text": [
      " 46%|████▌     | 1084/2380 [6:39:10<9:19:14, 25.89s/it] "
     ]
    },
    {
     "name": "stdout",
     "output_type": "stream",
     "text": [
      "Building 1142 is finished ...\n"
     ]
    },
    {
     "name": "stderr",
     "output_type": "stream",
     "text": [
      " 46%|████▌     | 1085/2380 [6:39:15<7:07:07, 19.79s/it]"
     ]
    },
    {
     "name": "stdout",
     "output_type": "stream",
     "text": [
      "Building 1143 is finished ...\n"
     ]
    },
    {
     "name": "stderr",
     "output_type": "stream",
     "text": [
      " 46%|████▌     | 1086/2380 [6:39:19<5:23:50, 15.02s/it]"
     ]
    },
    {
     "name": "stdout",
     "output_type": "stream",
     "text": [
      "Building 1145 is finished ...\n",
      "Building 1148 is finished ...\n",
      "Building 1146 is finished ...\n",
      "Building 1147 is finished ...\n",
      "Building 1144 is finished ...\n"
     ]
    },
    {
     "name": "stderr",
     "output_type": "stream",
     "text": [
      " 46%|████▌     | 1087/2380 [6:40:23<10:36:42, 29.55s/it]"
     ]
    },
    {
     "name": "stdout",
     "output_type": "stream",
     "text": [
      "Building 1149 is finished ...\n"
     ]
    },
    {
     "name": "stderr",
     "output_type": "stream",
     "text": [
      " 46%|████▌     | 1092/2380 [6:40:30<7:33:39, 21.13s/it] "
     ]
    },
    {
     "name": "stdout",
     "output_type": "stream",
     "text": [
      "Building 1150 is finished ...\n"
     ]
    },
    {
     "name": "stderr",
     "output_type": "stream",
     "text": [
      " 46%|████▌     | 1093/2380 [6:40:33<5:36:03, 15.67s/it]"
     ]
    },
    {
     "name": "stdout",
     "output_type": "stream",
     "text": [
      "Building 1151 is finished ...\n"
     ]
    },
    {
     "name": "stderr",
     "output_type": "stream",
     "text": [
      " 46%|████▌     | 1094/2380 [6:40:35<4:07:44, 11.56s/it]"
     ]
    },
    {
     "name": "stdout",
     "output_type": "stream",
     "text": [
      "Building 1152 is finished ...\n"
     ]
    },
    {
     "name": "stderr",
     "output_type": "stream",
     "text": [
      " 46%|████▌     | 1095/2380 [6:41:25<8:14:16, 23.08s/it]"
     ]
    },
    {
     "name": "stdout",
     "output_type": "stream",
     "text": [
      "Building 1154 is finished ...\n",
      "Building 1157 is finished ...\n",
      "Building 1155 is finished ...\n",
      "Building 1153 is finished ...\n"
     ]
    },
    {
     "name": "stderr",
     "output_type": "stream",
     "text": [
      " 46%|████▌     | 1096/2380 [6:42:14<11:02:21, 30.95s/it]"
     ]
    },
    {
     "name": "stdout",
     "output_type": "stream",
     "text": [
      "Building 1158 is finished ...\n",
      "Building 1156 is finished ...\n"
     ]
    },
    {
     "name": "stderr",
     "output_type": "stream",
     "text": [
      " 46%|████▌     | 1099/2380 [6:42:32<8:19:14, 23.38s/it] "
     ]
    },
    {
     "name": "stdout",
     "output_type": "stream",
     "text": [
      "Building 1159 is finished ...\n"
     ]
    },
    {
     "name": "stderr",
     "output_type": "stream",
     "text": [
      " 46%|████▋     | 1102/2380 [6:42:40<6:06:12, 17.19s/it]"
     ]
    },
    {
     "name": "stdout",
     "output_type": "stream",
     "text": [
      "Building 1160 is finished ...\n"
     ]
    },
    {
     "name": "stderr",
     "output_type": "stream",
     "text": [
      " 46%|████▋     | 1103/2380 [6:42:59<6:19:25, 17.83s/it]"
     ]
    },
    {
     "name": "stdout",
     "output_type": "stream",
     "text": [
      "Building 1161 is finished ...\n"
     ]
    },
    {
     "name": "stderr",
     "output_type": "stream",
     "text": [
      " 46%|████▋     | 1104/2380 [6:42:59<4:27:14, 12.57s/it]"
     ]
    },
    {
     "name": "stdout",
     "output_type": "stream",
     "text": [
      "Building 1162 is finished ...\n"
     ]
    },
    {
     "name": "stderr",
     "output_type": "stream",
     "text": [
      " 46%|████▋     | 1105/2380 [6:43:26<5:58:19, 16.86s/it]"
     ]
    },
    {
     "name": "stdout",
     "output_type": "stream",
     "text": [
      "Building 1163 is finished ...\n"
     ]
    },
    {
     "name": "stderr",
     "output_type": "stream",
     "text": [
      " 46%|████▋     | 1106/2380 [6:43:52<6:52:47, 19.44s/it]"
     ]
    },
    {
     "name": "stdout",
     "output_type": "stream",
     "text": [
      "Building 1165 is finished ...\n",
      "Building 1168 is finished ...\n",
      "Building 1166 is finished ...\n",
      "Building 1167 is finished ...\n",
      "Building 1164 is finished ...\n"
     ]
    },
    {
     "name": "stderr",
     "output_type": "stream",
     "text": [
      " 47%|████▋     | 1107/2380 [6:44:54<11:27:52, 32.42s/it]"
     ]
    },
    {
     "name": "stdout",
     "output_type": "stream",
     "text": [
      "Building 1169 is finished ...\n"
     ]
    },
    {
     "name": "stderr",
     "output_type": "stream",
     "text": [
      " 47%|████▋     | 1112/2380 [6:47:33<11:20:24, 32.20s/it]"
     ]
    },
    {
     "name": "stdout",
     "output_type": "stream",
     "text": [
      "Building 1170 is finished ...\n"
     ]
    },
    {
     "name": "stderr",
     "output_type": "stream",
     "text": [
      " 47%|████▋     | 1113/2380 [6:48:07<11:32:46, 32.81s/it]"
     ]
    },
    {
     "name": "stdout",
     "output_type": "stream",
     "text": [
      "Building 1172 is finished ...\n",
      "Building 1173 is finished ...\n",
      "Building 1174 is finished ...\n",
      "Building 1171 is finished ...\n"
     ]
    },
    {
     "name": "stderr",
     "output_type": "stream",
     "text": [
      " 47%|████▋     | 1114/2380 [6:49:47<18:38:12, 53.00s/it]"
     ]
    },
    {
     "name": "stdout",
     "output_type": "stream",
     "text": [
      "Building 1175 is finished ...\n"
     ]
    },
    {
     "name": "stderr",
     "output_type": "stream",
     "text": [
      " 47%|████▋     | 1118/2380 [6:50:22<13:55:35, 39.73s/it]"
     ]
    },
    {
     "name": "stdout",
     "output_type": "stream",
     "text": [
      "Building 1176 is finished ...\n"
     ]
    },
    {
     "name": "stderr",
     "output_type": "stream",
     "text": [
      " 47%|████▋     | 1119/2380 [6:50:44<12:02:02, 34.36s/it]"
     ]
    },
    {
     "name": "stdout",
     "output_type": "stream",
     "text": [
      "Building 1177 is finished ...\n"
     ]
    },
    {
     "name": "stderr",
     "output_type": "stream",
     "text": [
      " 47%|████▋     | 1120/2380 [6:51:17<11:55:01, 34.05s/it]"
     ]
    },
    {
     "name": "stdout",
     "output_type": "stream",
     "text": [
      "Building 1178 is finished ...\n"
     ]
    },
    {
     "name": "stderr",
     "output_type": "stream",
     "text": [
      " 47%|████▋     | 1121/2380 [6:52:23<15:15:22, 43.62s/it]"
     ]
    },
    {
     "name": "stdout",
     "output_type": "stream",
     "text": [
      "Building 1183 is finished ...\n",
      "Building 1182 is finished ...\n",
      "Building 1179 is finished ...\n"
     ]
    },
    {
     "name": "stderr",
     "output_type": "stream",
     "text": [
      " 47%|████▋     | 1122/2380 [6:52:31<11:29:59, 32.91s/it]"
     ]
    },
    {
     "name": "stdout",
     "output_type": "stream",
     "text": [
      "Building 1181 is finished ...\n",
      "Building 1185 is finished ...\n",
      "Building 1180 is finished ...\n"
     ]
    },
    {
     "name": "stderr",
     "output_type": "stream",
     "text": [
      " 47%|████▋     | 1123/2380 [6:53:48<16:05:07, 46.07s/it]"
     ]
    },
    {
     "name": "stdout",
     "output_type": "stream",
     "text": [
      "Building 1190 is finished ...\n",
      "Building 1188 is finished ...\n",
      "Building 1184 is finished ...\n"
     ]
    },
    {
     "name": "stderr",
     "output_type": "stream",
     "text": [
      " 47%|████▋     | 1127/2380 [6:54:35<12:26:29, 35.75s/it]"
     ]
    },
    {
     "name": "stdout",
     "output_type": "stream",
     "text": [
      "Building 1192 is finished ...\n",
      "Building 1189 is finished ...\n",
      "Building 1186 is finished ...\n"
     ]
    },
    {
     "name": "stderr",
     "output_type": "stream",
     "text": [
      " 47%|████▋     | 1129/2380 [6:55:14<10:43:56, 30.88s/it]"
     ]
    },
    {
     "name": "stdout",
     "output_type": "stream",
     "text": [
      "Building 1193 is finished ...\n",
      "Building 1187 is finished ...\n"
     ]
    },
    {
     "name": "stderr",
     "output_type": "stream",
     "text": [
      " 47%|████▋     | 1130/2380 [6:55:19<8:00:48, 23.08s/it] "
     ]
    },
    {
     "name": "stdout",
     "output_type": "stream",
     "text": [
      "Building 1191 is finished ...\n"
     ]
    },
    {
     "name": "stderr",
     "output_type": "stream",
     "text": [
      " 48%|████▊     | 1134/2380 [6:55:40<6:09:22, 17.79s/it]"
     ]
    },
    {
     "name": "stdout",
     "output_type": "stream",
     "text": [
      "Building 1194 is finished ...\n"
     ]
    },
    {
     "name": "stderr",
     "output_type": "stream",
     "text": [
      " 48%|████▊     | 1137/2380 [6:55:41<4:20:08, 12.56s/it]"
     ]
    },
    {
     "name": "stdout",
     "output_type": "stream",
     "text": [
      "Building 1195 is finished ...\n"
     ]
    },
    {
     "name": "stderr",
     "output_type": "stream",
     "text": [
      " 48%|████▊     | 1138/2380 [6:56:19<6:54:58, 20.05s/it]"
     ]
    },
    {
     "name": "stdout",
     "output_type": "stream",
     "text": [
      "Building 1197 is finished ...\n",
      "Building 1199 is finished ...\n",
      "Building 1198 is finished ...\n",
      "Building 1196 is finished ...\n"
     ]
    },
    {
     "name": "stderr",
     "output_type": "stream",
     "text": [
      " 48%|████▊     | 1139/2380 [6:56:58<8:53:40, 25.80s/it]"
     ]
    },
    {
     "name": "stdout",
     "output_type": "stream",
     "text": [
      "Building 1200 is finished ...\n"
     ]
    },
    {
     "name": "stderr",
     "output_type": "stream",
     "text": [
      " 48%|████▊     | 1143/2380 [6:57:13<6:34:43, 19.15s/it]"
     ]
    },
    {
     "name": "stdout",
     "output_type": "stream",
     "text": [
      "Building 1202 is finished ...\n",
      "Building 1201 is finished ...\n"
     ]
    },
    {
     "name": "stderr",
     "output_type": "stream",
     "text": [
      " 48%|████▊     | 1144/2380 [6:59:03<15:59:10, 46.56s/it]"
     ]
    },
    {
     "name": "stdout",
     "output_type": "stream",
     "text": [
      "Building 1203 is finished ...\n"
     ]
    },
    {
     "name": "stderr",
     "output_type": "stream",
     "text": [
      " 48%|████▊     | 1146/2380 [6:59:09<11:28:41, 33.49s/it]"
     ]
    },
    {
     "name": "stdout",
     "output_type": "stream",
     "text": [
      "Building 1204 is finished ...\n"
     ]
    },
    {
     "name": "stderr",
     "output_type": "stream",
     "text": [
      " 48%|████▊     | 1147/2380 [6:59:21<9:14:33, 26.99s/it] "
     ]
    },
    {
     "name": "stdout",
     "output_type": "stream",
     "text": [
      "Building 1206 is finished ...\n",
      "Building 1205 is finished ...\n"
     ]
    },
    {
     "name": "stderr",
     "output_type": "stream",
     "text": [
      " 48%|████▊     | 1148/2380 [6:59:54<9:48:57, 28.68s/it]"
     ]
    },
    {
     "name": "stdout",
     "output_type": "stream",
     "text": [
      "Building 1207 is finished ...\n"
     ]
    },
    {
     "name": "stderr",
     "output_type": "stream",
     "text": [
      " 48%|████▊     | 1150/2380 [7:00:27<8:33:41, 25.06s/it]"
     ]
    },
    {
     "name": "stdout",
     "output_type": "stream",
     "text": [
      "Building 1209 is finished ...\n",
      "Building 1208 is finished ...\n"
     ]
    },
    {
     "name": "stderr",
     "output_type": "stream",
     "text": [
      " 48%|████▊     | 1151/2380 [7:00:53<8:41:16, 25.45s/it]"
     ]
    },
    {
     "name": "stdout",
     "output_type": "stream",
     "text": [
      "Building 1210 is finished ...\n"
     ]
    },
    {
     "name": "stderr",
     "output_type": "stream",
     "text": [
      " 48%|████▊     | 1153/2380 [7:02:25<10:46:21, 31.61s/it]"
     ]
    },
    {
     "name": "stdout",
     "output_type": "stream",
     "text": [
      "Building 1211 is finished ...\n"
     ]
    },
    {
     "name": "stderr",
     "output_type": "stream",
     "text": [
      " 48%|████▊     | 1154/2380 [7:03:17<12:52:46, 37.82s/it]"
     ]
    },
    {
     "name": "stdout",
     "output_type": "stream",
     "text": [
      "Building 1212 is finished ...\n"
     ]
    },
    {
     "name": "stderr",
     "output_type": "stream",
     "text": [
      " 49%|████▊     | 1155/2380 [7:03:31<10:22:43, 30.50s/it]"
     ]
    },
    {
     "name": "stdout",
     "output_type": "stream",
     "text": [
      "Building 1214 is finished ...\n",
      "Building 1213 is finished ...\n"
     ]
    },
    {
     "name": "stderr",
     "output_type": "stream",
     "text": [
      " 49%|████▊     | 1156/2380 [7:03:52<9:26:10, 27.75s/it] "
     ]
    },
    {
     "name": "stdout",
     "output_type": "stream",
     "text": [
      "Building 1215 is finished ...\n"
     ]
    },
    {
     "name": "stderr",
     "output_type": "stream",
     "text": [
      " 49%|████▊     | 1158/2380 [7:04:50<9:31:19, 28.05s/it]"
     ]
    },
    {
     "name": "stdout",
     "output_type": "stream",
     "text": [
      "Building 1216 is finished ...\n"
     ]
    },
    {
     "name": "stderr",
     "output_type": "stream",
     "text": [
      " 49%|████▊     | 1159/2380 [7:05:16<9:17:47, 27.41s/it]"
     ]
    },
    {
     "name": "stdout",
     "output_type": "stream",
     "text": [
      "Building 1218 is finished ...\n",
      "Building 1219 is finished ...\n",
      "Building 1220 is finished ...\n",
      "Building 1221 is finished ...\n",
      "Building 1224 is finished ...\n",
      "Building 1217 is finished ...\n"
     ]
    },
    {
     "name": "stderr",
     "output_type": "stream",
     "text": [
      " 49%|████▊     | 1160/2380 [7:07:15<18:36:57, 54.93s/it]"
     ]
    },
    {
     "name": "stdout",
     "output_type": "stream",
     "text": [
      "Building 1223 is finished ...\n",
      "Building 1222 is finished ...\n"
     ]
    },
    {
     "name": "stderr",
     "output_type": "stream",
     "text": [
      " 49%|████▉     | 1165/2380 [7:07:27<13:13:17, 39.17s/it]"
     ]
    },
    {
     "name": "stdout",
     "output_type": "stream",
     "text": [
      "Building 1226 is finished ...\n",
      "Building 1227 is finished ...\n",
      "Building 1228 is finished ...\n",
      "Building 1225 is finished ...\n"
     ]
    },
    {
     "name": "stderr",
     "output_type": "stream",
     "text": [
      " 49%|████▉     | 1168/2380 [7:09:02<12:26:42, 36.97s/it]"
     ]
    },
    {
     "name": "stdout",
     "output_type": "stream",
     "text": [
      "Building 1231 is finished ...\n",
      "Building 1229 is finished ...\n"
     ]
    },
    {
     "name": "stderr",
     "output_type": "stream",
     "text": [
      " 49%|████▉     | 1172/2380 [7:09:14<8:59:12, 26.78s/it] "
     ]
    },
    {
     "name": "stdout",
     "output_type": "stream",
     "text": [
      "Building 1230 is finished ...\n"
     ]
    },
    {
     "name": "stderr",
     "output_type": "stream",
     "text": [
      " 49%|████▉     | 1173/2380 [7:09:26<7:29:36, 22.35s/it]"
     ]
    },
    {
     "name": "stdout",
     "output_type": "stream",
     "text": [
      "Building 1232 is finished ...\n"
     ]
    },
    {
     "name": "stderr",
     "output_type": "stream",
     "text": [
      " 49%|████▉     | 1175/2380 [7:09:40<5:56:11, 17.74s/it]"
     ]
    },
    {
     "name": "stdout",
     "output_type": "stream",
     "text": [
      "Building 1233 is finished ...\n"
     ]
    },
    {
     "name": "stderr",
     "output_type": "stream",
     "text": [
      " 49%|████▉     | 1176/2380 [7:10:21<8:17:23, 24.79s/it]"
     ]
    },
    {
     "name": "stdout",
     "output_type": "stream",
     "text": [
      "Building 1236 is finished ...\n",
      "Building 1235 is finished ...\n",
      "Building 1238 is finished ...\n",
      "Building 1237 is finished ...\n",
      "Building 1234 is finished ...\n"
     ]
    },
    {
     "name": "stderr",
     "output_type": "stream",
     "text": [
      " 49%|████▉     | 1177/2380 [7:11:25<12:10:03, 36.41s/it]"
     ]
    },
    {
     "name": "stdout",
     "output_type": "stream",
     "text": [
      "Building 1239 is finished ...\n"
     ]
    },
    {
     "name": "stderr",
     "output_type": "stream",
     "text": [
      " 50%|████▉     | 1182/2380 [7:11:27<8:30:58, 25.59s/it] "
     ]
    },
    {
     "name": "stdout",
     "output_type": "stream",
     "text": [
      "Building 1240 is finished ...\n"
     ]
    },
    {
     "name": "stderr",
     "output_type": "stream",
     "text": [
      " 50%|████▉     | 1183/2380 [7:11:55<8:46:25, 26.39s/it]"
     ]
    },
    {
     "name": "stdout",
     "output_type": "stream",
     "text": [
      "Building 1241 is finished ...\n"
     ]
    },
    {
     "name": "stderr",
     "output_type": "stream",
     "text": [
      " 50%|████▉     | 1184/2380 [7:12:14<7:59:46, 24.07s/it]"
     ]
    },
    {
     "name": "stdout",
     "output_type": "stream",
     "text": [
      "Building 1242 is finished ...\n"
     ]
    },
    {
     "name": "stderr",
     "output_type": "stream",
     "text": [
      " 50%|████▉     | 1185/2380 [7:13:03<10:29:27, 31.60s/it]"
     ]
    },
    {
     "name": "stdout",
     "output_type": "stream",
     "text": [
      "Building 1244 is finished ...\n",
      "Building 1243 is finished ...\n"
     ]
    },
    {
     "name": "stderr",
     "output_type": "stream",
     "text": [
      " 50%|████▉     | 1186/2380 [7:13:32<10:13:27, 30.83s/it]"
     ]
    },
    {
     "name": "stdout",
     "output_type": "stream",
     "text": [
      "Building 1246 is finished ...\n",
      "Building 1245 is finished ...\n"
     ]
    },
    {
     "name": "stderr",
     "output_type": "stream",
     "text": [
      " 50%|████▉     | 1188/2380 [7:14:25<9:48:28, 29.62s/it] "
     ]
    },
    {
     "name": "stdout",
     "output_type": "stream",
     "text": [
      "Building 1247 is finished ...\n"
     ]
    },
    {
     "name": "stderr",
     "output_type": "stream",
     "text": [
      " 50%|█████     | 1190/2380 [7:14:49<8:02:39, 24.34s/it]"
     ]
    },
    {
     "name": "stdout",
     "output_type": "stream",
     "text": [
      "Building 1250 is finished ...\n",
      "Building 1248 is finished ...\n"
     ]
    },
    {
     "name": "stderr",
     "output_type": "stream",
     "text": [
      " 50%|█████     | 1191/2380 [7:16:47<17:16:28, 52.30s/it]"
     ]
    },
    {
     "name": "stdout",
     "output_type": "stream",
     "text": [
      "Building 1249 is finished ...\n"
     ]
    },
    {
     "name": "stderr",
     "output_type": "stream",
     "text": [
      " 50%|█████     | 1192/2380 [7:16:58<13:11:58, 40.00s/it]"
     ]
    },
    {
     "name": "stdout",
     "output_type": "stream",
     "text": [
      "Building 1256 is finished ...\n",
      "Building 1254 is finished ...\n",
      "Building 1251 is finished ...\n"
     ]
    },
    {
     "name": "stderr",
     "output_type": "stream",
     "text": [
      " 50%|█████     | 1194/2380 [7:18:23<13:24:06, 40.68s/it]"
     ]
    },
    {
     "name": "stdout",
     "output_type": "stream",
     "text": [
      "Building 1252 is finished ...\n"
     ]
    },
    {
     "name": "stderr",
     "output_type": "stream",
     "text": [
      " 50%|█████     | 1195/2380 [7:18:44<11:28:37, 34.87s/it]"
     ]
    },
    {
     "name": "stdout",
     "output_type": "stream",
     "text": [
      "Building 1255 is finished ...\n",
      "Building 1253 is finished ...\n"
     ]
    },
    {
     "name": "stderr",
     "output_type": "stream",
     "text": [
      " 50%|█████     | 1196/2380 [7:18:55<9:08:04, 27.77s/it] "
     ]
    },
    {
     "name": "stdout",
     "output_type": "stream",
     "text": [
      "Building 1257 is finished ...\n"
     ]
    },
    {
     "name": "stderr",
     "output_type": "stream",
     "text": [
      " 50%|█████     | 1200/2380 [7:19:24<7:04:52, 21.60s/it]"
     ]
    },
    {
     "name": "stdout",
     "output_type": "stream",
     "text": [
      "Building 1259 is finished ...\n",
      "Building 1258 is finished ...\n"
     ]
    },
    {
     "name": "stderr",
     "output_type": "stream",
     "text": [
      " 50%|█████     | 1201/2380 [7:20:16<9:59:48, 30.52s/it]"
     ]
    },
    {
     "name": "stdout",
     "output_type": "stream",
     "text": [
      "Building 1260 is finished ...\n"
     ]
    },
    {
     "name": "stderr",
     "output_type": "stream",
     "text": [
      " 51%|█████     | 1203/2380 [7:20:27<7:33:34, 23.12s/it]"
     ]
    },
    {
     "name": "stdout",
     "output_type": "stream",
     "text": [
      "Building 1261 is finished ...\n"
     ]
    },
    {
     "name": "stderr",
     "output_type": "stream",
     "text": [
      " 51%|█████     | 1204/2380 [7:20:48<7:22:02, 22.55s/it]"
     ]
    },
    {
     "name": "stdout",
     "output_type": "stream",
     "text": [
      "Building 1263 is finished ...\n",
      "Building 1262 is finished ...\n"
     ]
    },
    {
     "name": "stderr",
     "output_type": "stream",
     "text": [
      " 51%|█████     | 1205/2380 [7:21:42<10:25:51, 31.96s/it]"
     ]
    },
    {
     "name": "stdout",
     "output_type": "stream",
     "text": [
      "Building 1264 is finished ...\n"
     ]
    },
    {
     "name": "stderr",
     "output_type": "stream",
     "text": [
      " 51%|█████     | 1207/2380 [7:22:50<10:36:22, 32.55s/it]"
     ]
    },
    {
     "name": "stdout",
     "output_type": "stream",
     "text": [
      "Building 1266 is finished ...\n",
      "Building 1270 is finished ...\n",
      "Building 1269 is finished ...\n",
      "Building 1272 is finished ...\n",
      "Building 1265 is finished ...\n"
     ]
    },
    {
     "name": "stderr",
     "output_type": "stream",
     "text": [
      " 51%|█████     | 1208/2380 [7:23:49<13:11:17, 40.51s/it]"
     ]
    },
    {
     "name": "stdout",
     "output_type": "stream",
     "text": [
      "Building 1267 is finished ...\n"
     ]
    },
    {
     "name": "stderr",
     "output_type": "stream",
     "text": [
      " 51%|█████     | 1210/2380 [7:23:52<9:20:59, 28.77s/it] "
     ]
    },
    {
     "name": "stdout",
     "output_type": "stream",
     "text": [
      "Building 1268 is finished ...\n"
     ]
    },
    {
     "name": "stderr",
     "output_type": "stream",
     "text": [
      " 51%|█████     | 1211/2380 [7:24:01<7:22:05, 22.69s/it]"
     ]
    },
    {
     "name": "stdout",
     "output_type": "stream",
     "text": [
      "Building 1271 is finished ...\n"
     ]
    },
    {
     "name": "stderr",
     "output_type": "stream",
     "text": [
      " 51%|█████     | 1214/2380 [7:24:03<5:14:17, 16.17s/it]"
     ]
    },
    {
     "name": "stdout",
     "output_type": "stream",
     "text": [
      "Building 1273 is finished ...\n"
     ]
    },
    {
     "name": "stderr",
     "output_type": "stream",
     "text": [
      " 51%|█████     | 1216/2380 [7:24:42<5:30:47, 17.05s/it]"
     ]
    },
    {
     "name": "stdout",
     "output_type": "stream",
     "text": [
      "Building 1274 is finished ...\n"
     ]
    },
    {
     "name": "stderr",
     "output_type": "stream",
     "text": [
      " 51%|█████     | 1217/2380 [7:25:18<7:24:36, 22.94s/it]"
     ]
    },
    {
     "name": "stdout",
     "output_type": "stream",
     "text": [
      "Building 1275 is finished ...\n"
     ]
    },
    {
     "name": "stderr",
     "output_type": "stream",
     "text": [
      " 51%|█████     | 1218/2380 [7:25:20<5:19:29, 16.50s/it]"
     ]
    },
    {
     "name": "stdout",
     "output_type": "stream",
     "text": [
      "Building 1276 is finished ...\n"
     ]
    },
    {
     "name": "stderr",
     "output_type": "stream",
     "text": [
      " 51%|█████     | 1219/2380 [7:25:27<4:27:45, 13.84s/it]"
     ]
    },
    {
     "name": "stdout",
     "output_type": "stream",
     "text": [
      "Building 1278 is finished ...\n",
      "Building 1277 is finished ...\n"
     ]
    },
    {
     "name": "stderr",
     "output_type": "stream",
     "text": [
      " 51%|█████▏    | 1220/2380 [7:25:51<5:22:31, 16.68s/it]"
     ]
    },
    {
     "name": "stdout",
     "output_type": "stream",
     "text": [
      "Building 1279 is finished ...\n"
     ]
    },
    {
     "name": "stderr",
     "output_type": "stream",
     "text": [
      " 51%|█████▏    | 1222/2380 [7:25:53<3:51:25, 11.99s/it]"
     ]
    },
    {
     "name": "stdout",
     "output_type": "stream",
     "text": [
      "Building 1280 is finished ...\n"
     ]
    },
    {
     "name": "stderr",
     "output_type": "stream",
     "text": [
      " 51%|█████▏    | 1223/2380 [7:26:59<9:04:25, 28.23s/it]"
     ]
    },
    {
     "name": "stdout",
     "output_type": "stream",
     "text": [
      "Building 1281 is finished ...\n"
     ]
    },
    {
     "name": "stderr",
     "output_type": "stream",
     "text": [
      " 51%|█████▏    | 1224/2380 [7:27:34<9:40:30, 30.13s/it]"
     ]
    },
    {
     "name": "stdout",
     "output_type": "stream",
     "text": [
      "Building 1282 is finished ...\n"
     ]
    },
    {
     "name": "stderr",
     "output_type": "stream",
     "text": [
      " 51%|█████▏    | 1225/2380 [7:27:52<8:31:11, 26.56s/it]"
     ]
    },
    {
     "name": "stdout",
     "output_type": "stream",
     "text": [
      "Building 1284 is finished ...\n",
      "Building 1285 is finished ...\n",
      "Building 1283 is finished ...\n"
     ]
    },
    {
     "name": "stderr",
     "output_type": "stream",
     "text": [
      " 52%|█████▏    | 1226/2380 [7:29:32<15:37:17, 48.73s/it]"
     ]
    },
    {
     "name": "stdout",
     "output_type": "stream",
     "text": [
      "Building 1286 is finished ...\n"
     ]
    },
    {
     "name": "stderr",
     "output_type": "stream",
     "text": [
      " 52%|█████▏    | 1229/2380 [7:29:35<11:00:00, 34.41s/it]"
     ]
    },
    {
     "name": "stdout",
     "output_type": "stream",
     "text": [
      "Building 1288 is finished ...\n",
      "Building 1287 is finished ...\n"
     ]
    },
    {
     "name": "stderr",
     "output_type": "stream",
     "text": [
      " 52%|█████▏    | 1230/2380 [7:30:09<10:57:27, 34.30s/it]"
     ]
    },
    {
     "name": "stdout",
     "output_type": "stream",
     "text": [
      "Building 1289 is finished ...\n"
     ]
    },
    {
     "name": "stderr",
     "output_type": "stream",
     "text": [
      " 52%|█████▏    | 1232/2380 [7:30:38<9:00:46, 28.26s/it] "
     ]
    },
    {
     "name": "stdout",
     "output_type": "stream",
     "text": [
      "Building 1292 is finished ...\n",
      "Building 1290 is finished ...\n"
     ]
    },
    {
     "name": "stderr",
     "output_type": "stream",
     "text": [
      " 52%|█████▏    | 1233/2380 [7:31:29<11:12:17, 35.17s/it]"
     ]
    },
    {
     "name": "stdout",
     "output_type": "stream",
     "text": [
      "Building 1294 is finished ...\n",
      "Building 1293 is finished ...\n",
      "Building 1291 is finished ...\n"
     ]
    },
    {
     "name": "stderr",
     "output_type": "stream",
     "text": [
      " 52%|█████▏    | 1234/2380 [7:32:35<14:09:56, 44.50s/it]"
     ]
    },
    {
     "name": "stdout",
     "output_type": "stream",
     "text": [
      "Building 1295 is finished ...\n"
     ]
    },
    {
     "name": "stderr",
     "output_type": "stream",
     "text": [
      " 52%|█████▏    | 1238/2380 [7:34:22<12:25:14, 39.15s/it]"
     ]
    },
    {
     "name": "stdout",
     "output_type": "stream",
     "text": [
      "Building 1296 is finished ...\n"
     ]
    },
    {
     "name": "stderr",
     "output_type": "stream",
     "text": [
      " 52%|█████▏    | 1239/2380 [7:34:22<8:44:18, 27.57s/it] "
     ]
    },
    {
     "name": "stdout",
     "output_type": "stream",
     "text": [
      "Building 1298 is finished ...\n",
      "Building 1297 is finished ...\n"
     ]
    },
    {
     "name": "stderr",
     "output_type": "stream",
     "text": [
      " 52%|█████▏    | 1240/2380 [7:35:24<11:55:41, 37.67s/it]"
     ]
    },
    {
     "name": "stdout",
     "output_type": "stream",
     "text": [
      "Building 1303 is finished ...\n",
      "Building 1302 is finished ...\n",
      "Building 1300 is finished ...\n",
      "Building 1299 is finished ...\n"
     ]
    },
    {
     "name": "stderr",
     "output_type": "stream",
     "text": [
      " 52%|█████▏    | 1242/2380 [7:35:53<9:42:42, 30.72s/it] "
     ]
    },
    {
     "name": "stdout",
     "output_type": "stream",
     "text": [
      "Building 1304 is finished ...\n",
      "Building 1301 is finished ...\n"
     ]
    },
    {
     "name": "stderr",
     "output_type": "stream",
     "text": [
      " 52%|█████▏    | 1244/2380 [7:36:07<7:26:56, 23.61s/it]"
     ]
    },
    {
     "name": "stdout",
     "output_type": "stream",
     "text": [
      "Building 1305 is finished ...\n"
     ]
    },
    {
     "name": "stderr",
     "output_type": "stream",
     "text": [
      " 52%|█████▏    | 1248/2380 [7:36:36<5:52:45, 18.70s/it]"
     ]
    },
    {
     "name": "stdout",
     "output_type": "stream",
     "text": [
      "Building 1306 is finished ...\n"
     ]
    },
    {
     "name": "stderr",
     "output_type": "stream",
     "text": [
      " 52%|█████▏    | 1249/2380 [7:36:58<6:15:32, 19.92s/it]"
     ]
    },
    {
     "name": "stdout",
     "output_type": "stream",
     "text": [
      "Building 1307 is finished ...\n"
     ]
    },
    {
     "name": "stderr",
     "output_type": "stream",
     "text": [
      " 53%|█████▎    | 1250/2380 [7:37:26<6:57:04, 22.15s/it]"
     ]
    },
    {
     "name": "stdout",
     "output_type": "stream",
     "text": [
      "Building 1308 is finished ...\n"
     ]
    },
    {
     "name": "stderr",
     "output_type": "stream",
     "text": [
      " 53%|█████▎    | 1251/2380 [7:37:41<6:17:45, 20.08s/it]"
     ]
    },
    {
     "name": "stdout",
     "output_type": "stream",
     "text": [
      "Building 1310 is finished ...\n",
      "Building 1311 is finished ...\n",
      "Building 1309 is finished ...\n"
     ]
    },
    {
     "name": "stderr",
     "output_type": "stream",
     "text": [
      " 53%|█████▎    | 1252/2380 [7:38:15<7:35:50, 24.25s/it]"
     ]
    },
    {
     "name": "stdout",
     "output_type": "stream",
     "text": [
      "Building 1312 is finished ...\n"
     ]
    },
    {
     "name": "stderr",
     "output_type": "stream",
     "text": [
      " 53%|█████▎    | 1255/2380 [7:39:26<7:30:48, 24.04s/it]"
     ]
    },
    {
     "name": "stdout",
     "output_type": "stream",
     "text": [
      "Building 1314 is finished ...\n",
      "Building 1313 is finished ...\n"
     ]
    },
    {
     "name": "stderr",
     "output_type": "stream",
     "text": [
      " 53%|█████▎    | 1256/2380 [7:39:31<5:43:45, 18.35s/it]"
     ]
    },
    {
     "name": "stdout",
     "output_type": "stream",
     "text": [
      "Building 1316 is finished ...\n",
      "Building 1315 is finished ...\n"
     ]
    },
    {
     "name": "stderr",
     "output_type": "stream",
     "text": [
      " 53%|█████▎    | 1258/2380 [7:40:40<7:13:44, 23.19s/it]"
     ]
    },
    {
     "name": "stdout",
     "output_type": "stream",
     "text": [
      "Building 1318 is finished ...\n",
      "Building 1317 is finished ...\n"
     ]
    },
    {
     "name": "stderr",
     "output_type": "stream",
     "text": [
      " 53%|█████▎    | 1260/2380 [7:40:56<5:49:32, 18.73s/it]"
     ]
    },
    {
     "name": "stdout",
     "output_type": "stream",
     "text": [
      "Building 1321 is finished ...\n",
      "Building 1319 is finished ...\n"
     ]
    },
    {
     "name": "stderr",
     "output_type": "stream",
     "text": [
      " 53%|█████▎    | 1262/2380 [7:41:27<5:29:01, 17.66s/it]"
     ]
    },
    {
     "name": "stdout",
     "output_type": "stream",
     "text": [
      "Building 1320 is finished ...\n"
     ]
    },
    {
     "name": "stderr",
     "output_type": "stream",
     "text": [
      " 53%|█████▎    | 1263/2380 [7:41:33<4:24:41, 14.22s/it]"
     ]
    },
    {
     "name": "stdout",
     "output_type": "stream",
     "text": [
      "Building 1324 is finished ...\n",
      "Building 1323 is finished ...\n",
      "Building 1322 is finished ...\n"
     ]
    },
    {
     "name": "stderr",
     "output_type": "stream",
     "text": [
      " 53%|█████▎    | 1265/2380 [7:42:41<6:15:20, 20.20s/it]"
     ]
    },
    {
     "name": "stdout",
     "output_type": "stream",
     "text": [
      "Building 1325 is finished ...\n"
     ]
    },
    {
     "name": "stderr",
     "output_type": "stream",
     "text": [
      " 53%|█████▎    | 1268/2380 [7:43:29<5:51:37, 18.97s/it]"
     ]
    },
    {
     "name": "stdout",
     "output_type": "stream",
     "text": [
      "Building 1326 is finished ...\n"
     ]
    },
    {
     "name": "stderr",
     "output_type": "stream",
     "text": [
      " 53%|█████▎    | 1269/2380 [7:44:25<9:13:40, 29.90s/it]"
     ]
    },
    {
     "name": "stdout",
     "output_type": "stream",
     "text": [
      "Building 1327 is finished ...\n"
     ]
    },
    {
     "name": "stderr",
     "output_type": "stream",
     "text": [
      " 53%|█████▎    | 1270/2380 [7:45:09<10:34:12, 34.28s/it]"
     ]
    },
    {
     "name": "stdout",
     "output_type": "stream",
     "text": [
      "Building 1328 is finished ...\n"
     ]
    },
    {
     "name": "stderr",
     "output_type": "stream",
     "text": [
      " 53%|█████▎    | 1271/2380 [7:45:17<8:05:13, 26.25s/it] "
     ]
    },
    {
     "name": "stdout",
     "output_type": "stream",
     "text": [
      "Building 1329 is finished ...\n"
     ]
    },
    {
     "name": "stderr",
     "output_type": "stream",
     "text": [
      " 53%|█████▎    | 1272/2380 [7:45:30<6:52:34, 22.34s/it]"
     ]
    },
    {
     "name": "stdout",
     "output_type": "stream",
     "text": [
      "Building 1331 is finished ...\n",
      "Building 1335 is finished ...\n",
      "Building 1334 is finished ...\n",
      "Building 1338 is finished ...\n",
      "Building 1330 is finished ...\n"
     ]
    },
    {
     "name": "stderr",
     "output_type": "stream",
     "text": [
      " 53%|█████▎    | 1273/2380 [7:47:43<17:02:15, 55.41s/it]"
     ]
    },
    {
     "name": "stdout",
     "output_type": "stream",
     "text": [
      "Building 1332 is finished ...\n"
     ]
    },
    {
     "name": "stderr",
     "output_type": "stream",
     "text": [
      " 54%|█████▎    | 1275/2380 [7:47:48<12:08:52, 39.58s/it]"
     ]
    },
    {
     "name": "stdout",
     "output_type": "stream",
     "text": [
      "Building 1336 is finished ...\n",
      "Building 1333 is finished ...\n"
     ]
    },
    {
     "name": "stderr",
     "output_type": "stream",
     "text": [
      " 54%|█████▎    | 1276/2380 [7:48:08<10:20:37, 33.73s/it]"
     ]
    },
    {
     "name": "stdout",
     "output_type": "stream",
     "text": [
      "Building 1337 is finished ...\n"
     ]
    },
    {
     "name": "stderr",
     "output_type": "stream",
     "text": [
      " 54%|█████▍    | 1280/2380 [7:48:44<8:02:14, 26.30s/it] "
     ]
    },
    {
     "name": "stdout",
     "output_type": "stream",
     "text": [
      "Building 1340 is finished ...\n",
      "Building 1339 is finished ...\n"
     ]
    },
    {
     "name": "stderr",
     "output_type": "stream",
     "text": [
      " 54%|█████▍    | 1282/2380 [7:49:18<7:11:00, 23.55s/it]"
     ]
    },
    {
     "name": "stdout",
     "output_type": "stream",
     "text": [
      "Building 1341 is finished ...\n"
     ]
    },
    {
     "name": "stderr",
     "output_type": "stream",
     "text": [
      " 54%|█████▍    | 1284/2380 [7:50:01<6:58:04, 22.89s/it]"
     ]
    },
    {
     "name": "stdout",
     "output_type": "stream",
     "text": [
      "Building 1343 is finished ...\n",
      "Building 1342 is finished ...\n"
     ]
    },
    {
     "name": "stderr",
     "output_type": "stream",
     "text": [
      " 54%|█████▍    | 1285/2380 [7:50:34<7:53:27, 25.94s/it]"
     ]
    },
    {
     "name": "stdout",
     "output_type": "stream",
     "text": [
      "Building 1344 is finished ...\n"
     ]
    },
    {
     "name": "stderr",
     "output_type": "stream",
     "text": [
      " 54%|█████▍    | 1287/2380 [7:51:09<7:05:53, 23.38s/it]"
     ]
    },
    {
     "name": "stdout",
     "output_type": "stream",
     "text": [
      "Building 1345 is finished ...\n"
     ]
    },
    {
     "name": "stderr",
     "output_type": "stream",
     "text": [
      " 54%|█████▍    | 1288/2380 [7:51:22<6:09:23, 20.30s/it]"
     ]
    },
    {
     "name": "stdout",
     "output_type": "stream",
     "text": [
      "Building 1346 is finished ...\n"
     ]
    },
    {
     "name": "stderr",
     "output_type": "stream",
     "text": [
      " 54%|█████▍    | 1289/2380 [7:51:28<4:52:10, 16.07s/it]"
     ]
    },
    {
     "name": "stdout",
     "output_type": "stream",
     "text": [
      "Building 1351 is finished ...\n",
      "Building 1352 is finished ...\n",
      "Building 1350 is finished ...\n",
      "Building 1347 is finished ...\n"
     ]
    },
    {
     "name": "stderr",
     "output_type": "stream",
     "text": [
      " 54%|█████▍    | 1290/2380 [7:52:40<9:59:10, 32.98s/it]"
     ]
    },
    {
     "name": "stdout",
     "output_type": "stream",
     "text": [
      "Building 1349 is finished ...\n",
      "Building 1348 is finished ...\n"
     ]
    },
    {
     "name": "stderr",
     "output_type": "stream",
     "text": [
      " 54%|█████▍    | 1291/2380 [7:53:03<9:01:25, 29.83s/it]"
     ]
    },
    {
     "name": "stdout",
     "output_type": "stream",
     "text": [
      "Building 1355 is finished ...\n",
      "Building 1354 is finished ...\n",
      "Building 1353 is finished ...\n"
     ]
    },
    {
     "name": "stderr",
     "output_type": "stream",
     "text": [
      " 54%|█████▍    | 1296/2380 [7:53:49<7:06:37, 23.61s/it]"
     ]
    },
    {
     "name": "stdout",
     "output_type": "stream",
     "text": [
      "Building 1356 is finished ...\n"
     ]
    },
    {
     "name": "stderr",
     "output_type": "stream",
     "text": [
      " 55%|█████▍    | 1299/2380 [7:53:57<5:12:27, 17.34s/it]"
     ]
    },
    {
     "name": "stdout",
     "output_type": "stream",
     "text": [
      "Building 1357 is finished ...\n"
     ]
    },
    {
     "name": "stderr",
     "output_type": "stream",
     "text": [
      " 55%|█████▍    | 1300/2380 [7:54:13<5:05:27, 16.97s/it]"
     ]
    },
    {
     "name": "stdout",
     "output_type": "stream",
     "text": [
      "Building 1358 is finished ...\n"
     ]
    },
    {
     "name": "stderr",
     "output_type": "stream",
     "text": [
      " 55%|█████▍    | 1301/2380 [7:55:32<10:43:12, 35.77s/it]"
     ]
    },
    {
     "name": "stdout",
     "output_type": "stream",
     "text": [
      "Building 1359 is finished ...\n"
     ]
    },
    {
     "name": "stderr",
     "output_type": "stream",
     "text": [
      " 55%|█████▍    | 1302/2380 [7:55:41<8:16:38, 27.64s/it] "
     ]
    },
    {
     "name": "stdout",
     "output_type": "stream",
     "text": [
      "Building 1361 is finished ...\n",
      "Building 1360 is finished ...\n"
     ]
    },
    {
     "name": "stderr",
     "output_type": "stream",
     "text": [
      " 55%|█████▍    | 1303/2380 [7:56:55<12:27:22, 41.64s/it]"
     ]
    },
    {
     "name": "stdout",
     "output_type": "stream",
     "text": [
      "Building 1363 is finished ...\n",
      "Building 1364 is finished ...\n",
      "Building 1362 is finished ...\n"
     ]
    },
    {
     "name": "stderr",
     "output_type": "stream",
     "text": [
      " 55%|█████▍    | 1305/2380 [7:58:42<13:28:52, 45.15s/it]"
     ]
    },
    {
     "name": "stdout",
     "output_type": "stream",
     "text": [
      "Building 1368 is finished ...\n",
      "Building 1367 is finished ...\n",
      "Building 1365 is finished ...\n"
     ]
    },
    {
     "name": "stderr",
     "output_type": "stream",
     "text": [
      " 55%|█████▍    | 1308/2380 [7:59:28<10:46:22, 36.18s/it]"
     ]
    },
    {
     "name": "stdout",
     "output_type": "stream",
     "text": [
      "Building 1366 is finished ...\n"
     ]
    },
    {
     "name": "stderr",
     "output_type": "stream",
     "text": [
      " 55%|█████▌    | 1309/2380 [7:59:52<9:44:16, 32.73s/it] "
     ]
    },
    {
     "name": "stdout",
     "output_type": "stream",
     "text": [
      "Building 1369 is finished ...\n"
     ]
    },
    {
     "name": "stderr",
     "output_type": "stream",
     "text": [
      " 55%|█████▌    | 1312/2380 [7:59:58<6:58:16, 23.50s/it]"
     ]
    },
    {
     "name": "stdout",
     "output_type": "stream",
     "text": [
      "Building 1371 is finished ...\n",
      "Building 1372 is finished ...\n",
      "Building 1370 is finished ...\n"
     ]
    },
    {
     "name": "stderr",
     "output_type": "stream",
     "text": [
      " 55%|█████▌    | 1313/2380 [8:00:36<8:14:43, 27.82s/it]"
     ]
    },
    {
     "name": "stdout",
     "output_type": "stream",
     "text": [
      "Building 1373 is finished ...\n"
     ]
    },
    {
     "name": "stderr",
     "output_type": "stream",
     "text": [
      " 55%|█████▌    | 1316/2380 [8:01:53<8:00:42, 27.11s/it]"
     ]
    },
    {
     "name": "stdout",
     "output_type": "stream",
     "text": [
      "Building 1377 is finished ...\n",
      "Building 1375 is finished ...\n",
      "Building 1374 is finished ...\n"
     ]
    },
    {
     "name": "stderr",
     "output_type": "stream",
     "text": [
      " 55%|█████▌    | 1317/2380 [8:02:27<8:37:44, 29.22s/it]"
     ]
    },
    {
     "name": "stdout",
     "output_type": "stream",
     "text": [
      "Building 1378 is finished ...\n",
      "Building 1376 is finished ...\n"
     ]
    },
    {
     "name": "stderr",
     "output_type": "stream",
     "text": [
      " 55%|█████▌    | 1319/2380 [8:03:51<9:44:08, 33.03s/it]"
     ]
    },
    {
     "name": "stdout",
     "output_type": "stream",
     "text": [
      "Building 1381 is finished ...\n",
      "Building 1383 is finished ...\n",
      "Building 1382 is finished ...\n",
      "Building 1380 is finished ...\n",
      "Building 1379 is finished ...\n"
     ]
    },
    {
     "name": "stderr",
     "output_type": "stream",
     "text": [
      " 56%|█████▌    | 1322/2380 [8:04:35<8:05:27, 27.53s/it]"
     ]
    },
    {
     "name": "stdout",
     "output_type": "stream",
     "text": [
      "Building 1386 is finished ...\n",
      "Building 1384 is finished ...\n"
     ]
    },
    {
     "name": "stderr",
     "output_type": "stream",
     "text": [
      " 56%|█████▌    | 1327/2380 [8:05:18<6:24:11, 21.89s/it]"
     ]
    },
    {
     "name": "stdout",
     "output_type": "stream",
     "text": [
      "Building 1389 is finished ...\n",
      "Building 1387 is finished ...\n",
      "Building 1388 is finished ...\n",
      "Building 1385 is finished ...\n"
     ]
    },
    {
     "name": "stderr",
     "output_type": "stream",
     "text": [
      " 56%|█████▌    | 1328/2380 [8:05:57<7:49:37, 26.78s/it]"
     ]
    },
    {
     "name": "stdout",
     "output_type": "stream",
     "text": [
      "Building 1390 is finished ...\n"
     ]
    },
    {
     "name": "stderr",
     "output_type": "stream",
     "text": [
      " 56%|█████▌    | 1333/2380 [8:06:09<5:40:13, 19.50s/it]"
     ]
    },
    {
     "name": "stdout",
     "output_type": "stream",
     "text": [
      "Building 1392 is finished ...\n",
      "Building 1393 is finished ...\n",
      "Building 1391 is finished ...\n"
     ]
    },
    {
     "name": "stderr",
     "output_type": "stream",
     "text": [
      " 56%|█████▌    | 1334/2380 [8:07:58<13:26:56, 46.29s/it]"
     ]
    },
    {
     "name": "stdout",
     "output_type": "stream",
     "text": [
      "Building 1394 is finished ...\n"
     ]
    },
    {
     "name": "stderr",
     "output_type": "stream",
     "text": [
      " 56%|█████▌    | 1337/2380 [8:09:05<11:19:38, 39.10s/it]"
     ]
    },
    {
     "name": "stdout",
     "output_type": "stream",
     "text": [
      "Building 1396 is finished ...\n",
      "Building 1397 is finished ...\n",
      "Building 1398 is finished ...\n",
      "Building 1395 is finished ...\n"
     ]
    },
    {
     "name": "stderr",
     "output_type": "stream",
     "text": [
      " 56%|█████▌    | 1338/2380 [8:09:47<11:37:15, 40.15s/it]"
     ]
    },
    {
     "name": "stdout",
     "output_type": "stream",
     "text": [
      "Building 1399 is finished ...\n"
     ]
    },
    {
     "name": "stderr",
     "output_type": "stream",
     "text": [
      " 56%|█████▋    | 1342/2380 [8:11:19<10:05:04, 34.98s/it]"
     ]
    },
    {
     "name": "stdout",
     "output_type": "stream",
     "text": [
      "Building 1402 is finished ...\n",
      "Building 1400 is finished ...\n"
     ]
    },
    {
     "name": "stderr",
     "output_type": "stream",
     "text": [
      " 56%|█████▋    | 1343/2380 [8:12:04<10:57:17, 38.03s/it]"
     ]
    },
    {
     "name": "stdout",
     "output_type": "stream",
     "text": [
      "Building 1403 is finished ...\n",
      "Building 1401 is finished ...\n"
     ]
    },
    {
     "name": "stderr",
     "output_type": "stream",
     "text": [
      " 56%|█████▋    | 1344/2380 [8:12:33<10:09:11, 35.28s/it]"
     ]
    },
    {
     "name": "stdout",
     "output_type": "stream",
     "text": [
      "Building 1404 is finished ...\n"
     ]
    },
    {
     "name": "stderr",
     "output_type": "stream",
     "text": [
      " 57%|█████▋    | 1347/2380 [8:13:10<8:09:16, 28.42s/it] "
     ]
    },
    {
     "name": "stdout",
     "output_type": "stream",
     "text": [
      "Building 1406 is finished ...\n",
      "Building 1408 is finished ...\n",
      "Building 1405 is finished ...\n"
     ]
    },
    {
     "name": "stderr",
     "output_type": "stream",
     "text": [
      " 57%|█████▋    | 1348/2380 [8:13:40<8:17:49, 28.94s/it]"
     ]
    },
    {
     "name": "stdout",
     "output_type": "stream",
     "text": [
      "Building 1407 is finished ...\n"
     ]
    },
    {
     "name": "stderr",
     "output_type": "stream",
     "text": [
      " 57%|█████▋    | 1350/2380 [8:14:20<7:29:12, 26.17s/it]"
     ]
    },
    {
     "name": "stdout",
     "output_type": "stream",
     "text": [
      "Building 1410 is finished ...\n",
      "Building 1409 is finished ...\n"
     ]
    },
    {
     "name": "stderr",
     "output_type": "stream",
     "text": [
      " 57%|█████▋    | 1352/2380 [8:15:16<7:38:14, 26.75s/it]"
     ]
    },
    {
     "name": "stdout",
     "output_type": "stream",
     "text": [
      "Building 1411 is finished ...\n"
     ]
    },
    {
     "name": "stderr",
     "output_type": "stream",
     "text": [
      " 57%|█████▋    | 1354/2380 [8:15:22<5:36:28, 19.68s/it]"
     ]
    },
    {
     "name": "stdout",
     "output_type": "stream",
     "text": [
      "Building 1412 is finished ...\n"
     ]
    },
    {
     "name": "stderr",
     "output_type": "stream",
     "text": [
      " 57%|█████▋    | 1355/2380 [8:16:09<7:56:35, 27.90s/it]"
     ]
    },
    {
     "name": "stdout",
     "output_type": "stream",
     "text": [
      "Building 1415 is finished ...\n",
      "Building 1413 is finished ...\n"
     ]
    },
    {
     "name": "stderr",
     "output_type": "stream",
     "text": [
      " 57%|█████▋    | 1356/2380 [8:16:36<7:48:15, 27.44s/it]"
     ]
    },
    {
     "name": "stdout",
     "output_type": "stream",
     "text": [
      "Building 1414 is finished ...\n"
     ]
    },
    {
     "name": "stderr",
     "output_type": "stream",
     "text": [
      " 57%|█████▋    | 1357/2380 [8:16:42<5:58:12, 21.01s/it]"
     ]
    },
    {
     "name": "stdout",
     "output_type": "stream",
     "text": [
      "Building 1416 is finished ...\n"
     ]
    },
    {
     "name": "stderr",
     "output_type": "stream",
     "text": [
      " 57%|█████▋    | 1359/2380 [8:16:46<4:20:44, 15.32s/it]"
     ]
    },
    {
     "name": "stdout",
     "output_type": "stream",
     "text": [
      "Building 1418 is finished ...\n",
      "Building 1417 is finished ...\n"
     ]
    },
    {
     "name": "stderr",
     "output_type": "stream",
     "text": [
      " 57%|█████▋    | 1360/2380 [8:17:22<6:09:00, 21.71s/it]"
     ]
    },
    {
     "name": "stdout",
     "output_type": "stream",
     "text": [
      "Building 1420 is finished ...\n",
      "Building 1419 is finished ...\n"
     ]
    },
    {
     "name": "stderr",
     "output_type": "stream",
     "text": [
      " 57%|█████▋    | 1362/2380 [8:17:43<5:10:13, 18.28s/it]"
     ]
    },
    {
     "name": "stdout",
     "output_type": "stream",
     "text": [
      "Building 1421 is finished ...\n"
     ]
    },
    {
     "name": "stderr",
     "output_type": "stream",
     "text": [
      " 57%|█████▋    | 1364/2380 [8:17:59<4:16:30, 15.15s/it]"
     ]
    },
    {
     "name": "stdout",
     "output_type": "stream",
     "text": [
      "Building 1423 is finished ...\n",
      "Building 1422 is finished ...\n"
     ]
    },
    {
     "name": "stderr",
     "output_type": "stream",
     "text": [
      " 57%|█████▋    | 1365/2380 [8:18:38<6:16:27, 22.25s/it]"
     ]
    },
    {
     "name": "stdout",
     "output_type": "stream",
     "text": [
      "Building 1424 is finished ...\n"
     ]
    },
    {
     "name": "stderr",
     "output_type": "stream",
     "text": [
      " 57%|█████▋    | 1367/2380 [8:18:59<5:16:41, 18.76s/it]"
     ]
    },
    {
     "name": "stdout",
     "output_type": "stream",
     "text": [
      "Building 1425 is finished ...\n"
     ]
    },
    {
     "name": "stderr",
     "output_type": "stream",
     "text": [
      " 57%|█████▋    | 1368/2380 [8:19:08<4:26:29, 15.80s/it]"
     ]
    },
    {
     "name": "stdout",
     "output_type": "stream",
     "text": [
      "Building 1428 is finished ...\n",
      "Building 1426 is finished ...\n"
     ]
    },
    {
     "name": "stderr",
     "output_type": "stream",
     "text": [
      " 58%|█████▊    | 1369/2380 [8:20:22<9:22:18, 33.37s/it]"
     ]
    },
    {
     "name": "stdout",
     "output_type": "stream",
     "text": [
      "Building 1430 is finished ...\n",
      "Building 1427 is finished ...\n"
     ]
    },
    {
     "name": "stderr",
     "output_type": "stream",
     "text": [
      " 58%|█████▊    | 1370/2380 [8:20:31<7:19:22, 26.10s/it]"
     ]
    },
    {
     "name": "stdout",
     "output_type": "stream",
     "text": [
      "Building 1429 is finished ...\n"
     ]
    },
    {
     "name": "stderr",
     "output_type": "stream",
     "text": [
      " 58%|█████▊    | 1372/2380 [8:21:34<7:46:00, 27.74s/it]"
     ]
    },
    {
     "name": "stdout",
     "output_type": "stream",
     "text": [
      "Building 1431 is finished ...\n"
     ]
    },
    {
     "name": "stderr",
     "output_type": "stream",
     "text": [
      " 58%|█████▊    | 1374/2380 [8:22:12<7:00:28, 25.08s/it]"
     ]
    },
    {
     "name": "stdout",
     "output_type": "stream",
     "text": [
      "Building 1432 is finished ...\n"
     ]
    },
    {
     "name": "stderr",
     "output_type": "stream",
     "text": [
      " 58%|█████▊    | 1375/2380 [8:22:28<6:13:33, 22.30s/it]"
     ]
    },
    {
     "name": "stdout",
     "output_type": "stream",
     "text": [
      "Building 1434 is finished ...\n",
      "Building 1436 is finished ...\n",
      "Building 1433 is finished ...\n"
     ]
    },
    {
     "name": "stderr",
     "output_type": "stream",
     "text": [
      " 58%|█████▊    | 1376/2380 [8:23:50<11:14:34, 40.31s/it]"
     ]
    },
    {
     "name": "stdout",
     "output_type": "stream",
     "text": [
      "Building 1435 is finished ...\n"
     ]
    },
    {
     "name": "stderr",
     "output_type": "stream",
     "text": [
      " 58%|█████▊    | 1378/2380 [8:24:54<10:32:09, 37.85s/it]"
     ]
    },
    {
     "name": "stdout",
     "output_type": "stream",
     "text": [
      "Building 1438 is finished ...\n",
      "Building 1440 is finished ...\n",
      "Building 1437 is finished ...\n"
     ]
    },
    {
     "name": "stderr",
     "output_type": "stream",
     "text": [
      " 58%|█████▊    | 1380/2380 [8:25:39<9:13:02, 33.18s/it] "
     ]
    },
    {
     "name": "stdout",
     "output_type": "stream",
     "text": [
      "Building 1439 is finished ...\n"
     ]
    },
    {
     "name": "stderr",
     "output_type": "stream",
     "text": [
      " 58%|█████▊    | 1382/2380 [8:26:01<7:21:38, 26.55s/it]"
     ]
    },
    {
     "name": "stdout",
     "output_type": "stream",
     "text": [
      "Building 1443 is finished ...\n",
      "Building 1441 is finished ...\n"
     ]
    },
    {
     "name": "stderr",
     "output_type": "stream",
     "text": [
      " 58%|█████▊    | 1384/2380 [8:26:51<7:12:54, 26.08s/it]"
     ]
    },
    {
     "name": "stdout",
     "output_type": "stream",
     "text": [
      "Building 1442 is finished ...\n"
     ]
    },
    {
     "name": "stderr",
     "output_type": "stream",
     "text": [
      " 58%|█████▊    | 1385/2380 [8:26:56<5:27:32, 19.75s/it]"
     ]
    },
    {
     "name": "stdout",
     "output_type": "stream",
     "text": [
      "Building 1447 is finished ...\n",
      "Building 1444 is finished ...\n"
     ]
    },
    {
     "name": "stderr",
     "output_type": "stream",
     "text": [
      " 58%|█████▊    | 1387/2380 [8:28:38<8:01:34, 29.10s/it]"
     ]
    },
    {
     "name": "stdout",
     "output_type": "stream",
     "text": [
      "Building 1445 is finished ...\n"
     ]
    },
    {
     "name": "stderr",
     "output_type": "stream",
     "text": [
      " 58%|█████▊    | 1388/2380 [8:28:47<6:22:01, 23.11s/it]"
     ]
    },
    {
     "name": "stdout",
     "output_type": "stream",
     "text": [
      "Building 1446 is finished ...\n"
     ]
    },
    {
     "name": "stderr",
     "output_type": "stream",
     "text": [
      " 58%|█████▊    | 1389/2380 [8:28:50<4:41:12, 17.03s/it]"
     ]
    },
    {
     "name": "stdout",
     "output_type": "stream",
     "text": [
      "Building 1448 is finished ...\n"
     ]
    },
    {
     "name": "stderr",
     "output_type": "stream",
     "text": [
      " 58%|█████▊    | 1391/2380 [8:28:58<3:36:07, 13.11s/it]"
     ]
    },
    {
     "name": "stdout",
     "output_type": "stream",
     "text": [
      "Building 1449 is finished ...\n"
     ]
    },
    {
     "name": "stderr",
     "output_type": "stream",
     "text": [
      " 58%|█████▊    | 1392/2380 [8:29:00<2:41:56,  9.83s/it]"
     ]
    },
    {
     "name": "stdout",
     "output_type": "stream",
     "text": [
      "Building 1451 is finished ...\n",
      "Building 1452 is finished ...\n",
      "Building 1453 is finished ...\n",
      "Building 1454 is finished ...\n",
      "Building 1450 is finished ...\n"
     ]
    },
    {
     "name": "stderr",
     "output_type": "stream",
     "text": [
      " 59%|█████▊    | 1393/2380 [8:30:06<7:21:19, 26.83s/it]"
     ]
    },
    {
     "name": "stdout",
     "output_type": "stream",
     "text": [
      "Building 1455 is finished ...\n"
     ]
    },
    {
     "name": "stderr",
     "output_type": "stream",
     "text": [
      " 59%|█████▊    | 1398/2380 [8:30:57<5:56:33, 21.79s/it]"
     ]
    },
    {
     "name": "stdout",
     "output_type": "stream",
     "text": [
      "Building 1457 is finished ...\n",
      "Building 1461 is finished ...\n",
      "Building 1459 is finished ...\n",
      "Building 1460 is finished ...\n",
      "Building 1462 is finished ...\n",
      "Building 1458 is finished ...\n",
      "Building 1456 is finished ...\n"
     ]
    },
    {
     "name": "stderr",
     "output_type": "stream",
     "text": [
      " 59%|█████▉    | 1399/2380 [8:32:59<14:09:24, 51.95s/it]"
     ]
    },
    {
     "name": "stdout",
     "output_type": "stream",
     "text": [
      "Building 1463 is finished ...\n"
     ]
    },
    {
     "name": "stderr",
     "output_type": "stream",
     "text": [
      " 59%|█████▉    | 1406/2380 [8:33:00<9:50:46, 36.39s/it] "
     ]
    },
    {
     "name": "stdout",
     "output_type": "stream",
     "text": [
      "Building 1464 is finished ...\n"
     ]
    },
    {
     "name": "stderr",
     "output_type": "stream",
     "text": [
      " 59%|█████▉    | 1407/2380 [8:33:01<7:01:22, 25.98s/it]"
     ]
    },
    {
     "name": "stdout",
     "output_type": "stream",
     "text": [
      "Building 1465 is finished ...\n"
     ]
    },
    {
     "name": "stderr",
     "output_type": "stream",
     "text": [
      " 59%|█████▉    | 1408/2380 [8:33:35<7:37:53, 28.27s/it]"
     ]
    },
    {
     "name": "stdout",
     "output_type": "stream",
     "text": [
      "Building 1466 is finished ...\n"
     ]
    },
    {
     "name": "stderr",
     "output_type": "stream",
     "text": [
      " 59%|█████▉    | 1409/2380 [8:34:15<8:33:37, 31.74s/it]"
     ]
    },
    {
     "name": "stdout",
     "output_type": "stream",
     "text": [
      "Building 1467 is finished ...\n"
     ]
    },
    {
     "name": "stderr",
     "output_type": "stream",
     "text": [
      " 59%|█████▉    | 1410/2380 [8:34:36<7:42:42, 28.62s/it]"
     ]
    },
    {
     "name": "stdout",
     "output_type": "stream",
     "text": [
      "Building 1469 is finished ...\n"
     ]
    },
    {
     "name": "stderr",
     "output_type": "stream",
     "text": [
      " 59%|█████▉    | 1411/2380 [8:35:14<8:27:48, 31.44s/it]"
     ]
    },
    {
     "name": "stdout",
     "output_type": "stream",
     "text": [
      "Building 1471 is finished ...\n",
      "Building 1472 is finished ...\n",
      "Building 1470 is finished ...\n"
     ]
    },
    {
     "name": "stderr",
     "output_type": "stream",
     "text": [
      " 59%|█████▉    | 1412/2380 [8:36:10<10:23:54, 38.67s/it]"
     ]
    },
    {
     "name": "stdout",
     "output_type": "stream",
     "text": [
      "Building 1473 is finished ...\n"
     ]
    },
    {
     "name": "stderr",
     "output_type": "stream",
     "text": [
      " 59%|█████▉    | 1415/2380 [8:36:46<8:14:41, 30.76s/it] "
     ]
    },
    {
     "name": "stdout",
     "output_type": "stream",
     "text": [
      "Building 1474 is finished ...\n"
     ]
    },
    {
     "name": "stderr",
     "output_type": "stream",
     "text": [
      " 59%|█████▉    | 1416/2380 [8:36:57<6:35:16, 24.60s/it]"
     ]
    },
    {
     "name": "stdout",
     "output_type": "stream",
     "text": [
      "Building 1476 is finished ...\n"
     ]
    },
    {
     "name": "stderr",
     "output_type": "stream",
     "text": [
      " 60%|█████▉    | 1417/2380 [8:38:37<12:40:43, 47.40s/it]"
     ]
    },
    {
     "name": "stdout",
     "output_type": "stream",
     "text": [
      "Building 1477 is finished ...\n"
     ]
    },
    {
     "name": "stderr",
     "output_type": "stream",
     "text": [
      " 60%|█████▉    | 1418/2380 [8:38:45<9:31:02, 35.62s/it] "
     ]
    },
    {
     "name": "stdout",
     "output_type": "stream",
     "text": [
      "Building 1478 is finished ...\n"
     ]
    },
    {
     "name": "stderr",
     "output_type": "stream",
     "text": [
      " 60%|█████▉    | 1419/2380 [8:38:49<6:55:15, 25.93s/it]"
     ]
    },
    {
     "name": "stdout",
     "output_type": "stream",
     "text": [
      "Building 1480 is finished ...\n",
      "Building 1486 is finished ...\n",
      "Building 1488 is finished ...\n",
      "Building 1482 is finished ...\n",
      "Building 1481 is finished ...\n",
      "Building 1487 is finished ...\n",
      "Building 1479 is finished ...\n"
     ]
    },
    {
     "name": "stderr",
     "output_type": "stream",
     "text": [
      " 60%|█████▉    | 1420/2380 [8:42:09<20:50:00, 78.13s/it]"
     ]
    },
    {
     "name": "stdout",
     "output_type": "stream",
     "text": [
      "Building 1490 is finished ...\n",
      "Building 1491 is finished ...\n",
      "Building 1493 is finished ...\n",
      "Building 1489 is finished ...\n"
     ]
    },
    {
     "name": "stderr",
     "output_type": "stream",
     "text": [
      " 60%|█████▉    | 1427/2380 [8:43:18<15:16:04, 57.68s/it]"
     ]
    },
    {
     "name": "stdout",
     "output_type": "stream",
     "text": [
      "Building 1498 is finished ...\n",
      "Building 1494 is finished ...\n",
      "Building 1497 is finished ...\n",
      "Building 1499 is finished ...\n",
      "Building 1501 is finished ...\n",
      "Building 1500 is finished ...\n",
      "Building 1496 is finished ...\n",
      "Building 1492 is finished ...\n"
     ]
    },
    {
     "name": "stderr",
     "output_type": "stream",
     "text": [
      " 60%|██████    | 1430/2380 [8:45:06<13:29:09, 51.10s/it]"
     ]
    },
    {
     "name": "stdout",
     "output_type": "stream",
     "text": [
      "Building 1503 is finished ...\n",
      "Building 1504 is finished ...\n",
      "Building 1502 is finished ...\n",
      "Building 1495 is finished ...\n"
     ]
    },
    {
     "name": "stderr",
     "output_type": "stream",
     "text": [
      " 60%|██████    | 1433/2380 [8:46:24<11:28:31, 43.62s/it]"
     ]
    },
    {
     "name": "stdout",
     "output_type": "stream",
     "text": [
      "Building 1506 is finished ...\n",
      "Building 1505 is finished ...\n"
     ]
    },
    {
     "name": "stderr",
     "output_type": "stream",
     "text": [
      " 61%|██████    | 1443/2380 [8:46:52<8:10:03, 31.38s/it] "
     ]
    },
    {
     "name": "stdout",
     "output_type": "stream",
     "text": [
      "Building 1508 is finished ...\n",
      "Building 1509 is finished ...\n",
      "Building 1507 is finished ...\n"
     ]
    },
    {
     "name": "stderr",
     "output_type": "stream",
     "text": [
      " 61%|██████    | 1445/2380 [8:47:46<7:48:10, 30.04s/it]"
     ]
    },
    {
     "name": "stdout",
     "output_type": "stream",
     "text": [
      "Building 1510 is finished ...\n"
     ]
    },
    {
     "name": "stderr",
     "output_type": "stream",
     "text": [
      " 61%|██████    | 1448/2380 [8:47:52<5:35:14, 21.58s/it]"
     ]
    },
    {
     "name": "stdout",
     "output_type": "stream",
     "text": [
      "Building 1512 is finished ...\n",
      "Building 1513 is finished ...\n",
      "Building 1511 is finished ...\n"
     ]
    },
    {
     "name": "stderr",
     "output_type": "stream",
     "text": [
      " 61%|██████    | 1449/2380 [8:49:37<12:05:51, 46.78s/it]"
     ]
    },
    {
     "name": "stdout",
     "output_type": "stream",
     "text": [
      "Building 1514 is finished ...\n"
     ]
    },
    {
     "name": "stderr",
     "output_type": "stream",
     "text": [
      " 61%|██████    | 1452/2380 [8:50:14<9:22:52, 36.39s/it] "
     ]
    },
    {
     "name": "stdout",
     "output_type": "stream",
     "text": [
      "Building 1517 is finished ...\n",
      "Building 1515 is finished ...\n"
     ]
    },
    {
     "name": "stderr",
     "output_type": "stream",
     "text": [
      " 61%|██████    | 1453/2380 [8:51:21<11:43:46, 45.55s/it]"
     ]
    },
    {
     "name": "stdout",
     "output_type": "stream",
     "text": [
      "Building 1519 is finished ...\n",
      "Building 1518 is finished ...\n",
      "Building 1516 is finished ...\n"
     ]
    },
    {
     "name": "stderr",
     "output_type": "stream",
     "text": [
      " 61%|██████    | 1454/2380 [8:52:29<13:28:07, 52.36s/it]"
     ]
    },
    {
     "name": "stdout",
     "output_type": "stream",
     "text": [
      "Building 1522 is finished ...\n",
      "Building 1520 is finished ...\n"
     ]
    },
    {
     "name": "stderr",
     "output_type": "stream",
     "text": [
      " 61%|██████▏   | 1458/2380 [8:53:26<10:28:41, 40.91s/it]"
     ]
    },
    {
     "name": "stdout",
     "output_type": "stream",
     "text": [
      "Building 1524 is finished ...\n",
      "Building 1521 is finished ...\n"
     ]
    },
    {
     "name": "stderr",
     "output_type": "stream",
     "text": [
      " 61%|██████▏   | 1459/2380 [8:54:20<11:28:19, 44.84s/it]"
     ]
    },
    {
     "name": "stdout",
     "output_type": "stream",
     "text": [
      "Building 1523 is finished ...\n"
     ]
    },
    {
     "name": "stderr",
     "output_type": "stream",
     "text": [
      " 61%|██████▏   | 1461/2380 [8:54:20<8:02:29, 31.50s/it] "
     ]
    },
    {
     "name": "stdout",
     "output_type": "stream",
     "text": [
      "Building 1525 is finished ...\n"
     ]
    },
    {
     "name": "stderr",
     "output_type": "stream",
     "text": [
      " 61%|██████▏   | 1463/2380 [8:55:04<7:16:53, 28.59s/it]"
     ]
    },
    {
     "name": "stdout",
     "output_type": "stream",
     "text": [
      "Building 1526 is finished ...\n"
     ]
    },
    {
     "name": "stderr",
     "output_type": "stream",
     "text": [
      " 62%|██████▏   | 1464/2380 [8:55:10<5:32:58, 21.81s/it]"
     ]
    },
    {
     "name": "stdout",
     "output_type": "stream",
     "text": [
      "Building 1527 is finished ...\n"
     ]
    },
    {
     "name": "stderr",
     "output_type": "stream",
     "text": [
      " 62%|██████▏   | 1465/2380 [8:55:33<5:39:40, 22.27s/it]"
     ]
    },
    {
     "name": "stdout",
     "output_type": "stream",
     "text": [
      "Building 1528 is finished ...\n"
     ]
    },
    {
     "name": "stderr",
     "output_type": "stream",
     "text": [
      " 62%|██████▏   | 1466/2380 [8:55:36<4:10:12, 16.42s/it]"
     ]
    },
    {
     "name": "stdout",
     "output_type": "stream",
     "text": [
      "Building 1532 is finished ...\n",
      "Building 1530 is finished ...\n",
      "Building 1529 is finished ...\n"
     ]
    },
    {
     "name": "stderr",
     "output_type": "stream",
     "text": [
      " 62%|██████▏   | 1467/2380 [8:56:37<7:34:22, 29.86s/it]"
     ]
    },
    {
     "name": "stdout",
     "output_type": "stream",
     "text": [
      "Building 1531 is finished ...\n"
     ]
    },
    {
     "name": "stderr",
     "output_type": "stream",
     "text": [
      " 62%|██████▏   | 1469/2380 [8:56:45<5:35:42, 22.11s/it]"
     ]
    },
    {
     "name": "stdout",
     "output_type": "stream",
     "text": [
      "Building 1533 is finished ...\n"
     ]
    },
    {
     "name": "stderr",
     "output_type": "stream",
     "text": [
      " 62%|██████▏   | 1471/2380 [8:57:17<5:05:49, 20.19s/it]"
     ]
    },
    {
     "name": "stdout",
     "output_type": "stream",
     "text": [
      "Building 1534 is finished ...\n"
     ]
    },
    {
     "name": "stderr",
     "output_type": "stream",
     "text": [
      " 62%|██████▏   | 1472/2380 [8:57:37<5:06:47, 20.27s/it]"
     ]
    },
    {
     "name": "stdout",
     "output_type": "stream",
     "text": [
      "Building 1536 is finished ...\n",
      "Building 1535 is finished ...\n"
     ]
    },
    {
     "name": "stderr",
     "output_type": "stream",
     "text": [
      " 62%|██████▏   | 1473/2380 [8:58:08<5:55:25, 23.51s/it]"
     ]
    },
    {
     "name": "stdout",
     "output_type": "stream",
     "text": [
      "Building 1542 is finished ...\n",
      "Building 1537 is finished ...\n"
     ]
    },
    {
     "name": "stderr",
     "output_type": "stream",
     "text": [
      " 62%|██████▏   | 1475/2380 [8:59:29<7:09:46, 28.49s/it]"
     ]
    },
    {
     "name": "stdout",
     "output_type": "stream",
     "text": [
      "Building 1539 is finished ...\n",
      "Building 1540 is finished ...\n",
      "Building 1544 is finished ...\n",
      "Building 1541 is finished ...\n",
      "Building 1538 is finished ...\n"
     ]
    },
    {
     "name": "stderr",
     "output_type": "stream",
     "text": [
      " 62%|██████▏   | 1476/2380 [9:00:31<9:43:06, 38.70s/it]"
     ]
    },
    {
     "name": "stdout",
     "output_type": "stream",
     "text": [
      "Building 1543 is finished ...\n"
     ]
    },
    {
     "name": "stderr",
     "output_type": "stream",
     "text": [
      " 62%|██████▏   | 1481/2380 [9:00:36<6:50:37, 27.40s/it]"
     ]
    },
    {
     "name": "stdout",
     "output_type": "stream",
     "text": [
      "Building 1545 is finished ...\n"
     ]
    },
    {
     "name": "stderr",
     "output_type": "stream",
     "text": [
      " 62%|██████▏   | 1483/2380 [9:01:02<5:43:58, 23.01s/it]"
     ]
    },
    {
     "name": "stdout",
     "output_type": "stream",
     "text": [
      "Building 1546 is finished ...\n"
     ]
    },
    {
     "name": "stderr",
     "output_type": "stream",
     "text": [
      " 62%|██████▏   | 1484/2380 [9:01:31<6:12:17, 24.93s/it]"
     ]
    },
    {
     "name": "stdout",
     "output_type": "stream",
     "text": [
      "Building 1552 is finished ...\n",
      "Building 1547 is finished ...\n"
     ]
    },
    {
     "name": "stderr",
     "output_type": "stream",
     "text": [
      " 62%|██████▏   | 1485/2380 [9:03:24<12:44:01, 51.22s/it]"
     ]
    },
    {
     "name": "stdout",
     "output_type": "stream",
     "text": [
      "Building 1548 is finished ...\n"
     ]
    },
    {
     "name": "stderr",
     "output_type": "stream",
     "text": [
      " 62%|██████▏   | 1486/2380 [9:03:36<9:49:33, 39.57s/it] "
     ]
    },
    {
     "name": "stdout",
     "output_type": "stream",
     "text": [
      "Building 1553 is finished ...\n",
      "Building 1550 is finished ...\n"
     ]
    },
    {
     "name": "stderr",
     "output_type": "stream",
     "text": [
      " 62%|██████▏   | 1487/2380 [9:04:56<12:49:17, 51.69s/it]"
     ]
    },
    {
     "name": "stdout",
     "output_type": "stream",
     "text": [
      "Building 1554 is finished ...\n",
      "Building 1555 is finished ...\n",
      "Building 1551 is finished ...\n"
     ]
    },
    {
     "name": "stderr",
     "output_type": "stream",
     "text": [
      " 63%|██████▎   | 1488/2380 [9:05:50<12:55:54, 52.19s/it]"
     ]
    },
    {
     "name": "stdout",
     "output_type": "stream",
     "text": [
      "Building 1558 is finished ...\n",
      "Building 1557 is finished ...\n",
      "Building 1559 is finished ...\n",
      "Building 1556 is finished ...\n"
     ]
    },
    {
     "name": "stderr",
     "output_type": "stream",
     "text": [
      " 63%|██████▎   | 1493/2380 [9:07:16<10:16:39, 41.71s/it]"
     ]
    },
    {
     "name": "stdout",
     "output_type": "stream",
     "text": [
      "Building 1561 is finished ...\n",
      "Building 1560 is finished ...\n"
     ]
    },
    {
     "name": "stderr",
     "output_type": "stream",
     "text": [
      " 63%|██████▎   | 1497/2380 [9:07:26<7:20:30, 29.93s/it] "
     ]
    },
    {
     "name": "stdout",
     "output_type": "stream",
     "text": [
      "Building 1562 is finished ...\n"
     ]
    },
    {
     "name": "stderr",
     "output_type": "stream",
     "text": [
      " 63%|██████▎   | 1499/2380 [9:07:58<6:19:09, 25.82s/it]"
     ]
    },
    {
     "name": "stdout",
     "output_type": "stream",
     "text": [
      "Building 1565 is finished ...\n",
      "Building 1566 is finished ...\n",
      "Building 1564 is finished ...\n",
      "Building 1567 is finished ...\n",
      "Building 1568 is finished ...\n",
      "Building 1569 is finished ...\n",
      "Building 1563 is finished ...\n"
     ]
    },
    {
     "name": "stderr",
     "output_type": "stream",
     "text": [
      " 63%|██████▎   | 1500/2380 [9:10:35<15:55:22, 65.14s/it]"
     ]
    },
    {
     "name": "stdout",
     "output_type": "stream",
     "text": [
      "Building 1572 is finished ...\n",
      "Building 1571 is finished ...\n",
      "Building 1574 is finished ...\n",
      "Building 1573 is finished ...\n",
      "Building 1576 is finished ...\n",
      "Building 1578 is finished ...\n",
      "Building 1575 is finished ...\n",
      "Building 1579 is finished ...\n",
      "Building 1577 is finished ...\n",
      "Building 1581 is finished ...\n",
      "Building 1582 is finished ...\n",
      "Building 1580 is finished ...\n",
      "Building 1570 is finished ...\n"
     ]
    },
    {
     "name": "stderr",
     "output_type": "stream",
     "text": [
      " 63%|██████▎   | 1507/2380 [9:15:10<13:54:43, 57.37s/it]"
     ]
    },
    {
     "name": "stdout",
     "output_type": "stream",
     "text": [
      "Building 1584 is finished ...\n",
      "Building 1586 is finished ...\n",
      "Building 1587 is finished ...\n",
      "Building 1588 is finished ...\n",
      "Building 1590 is finished ...\n",
      "Building 1583 is finished ...\n"
     ]
    },
    {
     "name": "stderr",
     "output_type": "stream",
     "text": [
      " 64%|██████▍   | 1520/2380 [9:17:37<10:24:21, 43.56s/it]"
     ]
    },
    {
     "name": "stdout",
     "output_type": "stream",
     "text": [
      "Building 1591 is finished ...\n",
      "Building 1594 is finished ...\n",
      "Building 1593 is finished ...\n",
      "Building 1592 is finished ...\n",
      "Building 1585 is finished ...\n"
     ]
    },
    {
     "name": "stderr",
     "output_type": "stream",
     "text": [
      " 64%|██████▍   | 1522/2380 [9:19:30<11:17:50, 47.40s/it]"
     ]
    },
    {
     "name": "stdout",
     "output_type": "stream",
     "text": [
      "Building 1595 is finished ...\n",
      "Building 1596 is finished ...\n",
      "Building 1597 is finished ...\n",
      "Building 1589 is finished ...\n"
     ]
    },
    {
     "name": "stderr",
     "output_type": "stream",
     "text": [
      " 64%|██████▍   | 1526/2380 [9:20:51<9:18:38, 39.25s/it] "
     ]
    },
    {
     "name": "stdout",
     "output_type": "stream",
     "text": [
      "Building 1599 is finished ...\n",
      "Building 1601 is finished ...\n",
      "Building 1598 is finished ...\n"
     ]
    },
    {
     "name": "stderr",
     "output_type": "stream",
     "text": [
      " 64%|██████▍   | 1535/2380 [9:22:13<7:05:26, 30.21s/it]"
     ]
    },
    {
     "name": "stdout",
     "output_type": "stream",
     "text": [
      "Building 1603 is finished ...\n",
      "Building 1602 is finished ...\n",
      "Building 1600 is finished ...\n"
     ]
    },
    {
     "name": "stderr",
     "output_type": "stream",
     "text": [
      " 65%|██████▍   | 1537/2380 [9:22:39<5:51:26, 25.01s/it]"
     ]
    },
    {
     "name": "stdout",
     "output_type": "stream",
     "text": [
      "Building 1605 is finished ...\n",
      "Building 1604 is finished ...\n"
     ]
    },
    {
     "name": "stderr",
     "output_type": "stream",
     "text": [
      " 65%|██████▍   | 1541/2380 [9:23:16<4:43:58, 20.31s/it]"
     ]
    },
    {
     "name": "stdout",
     "output_type": "stream",
     "text": [
      "Building 1606 is finished ...\n"
     ]
    },
    {
     "name": "stderr",
     "output_type": "stream",
     "text": [
      " 65%|██████▍   | 1543/2380 [9:23:51<4:31:11, 19.44s/it]"
     ]
    },
    {
     "name": "stdout",
     "output_type": "stream",
     "text": [
      "Building 1608 is finished ...\n",
      "Building 1611 is finished ...\n",
      "Building 1607 is finished ...\n"
     ]
    },
    {
     "name": "stderr",
     "output_type": "stream",
     "text": [
      " 65%|██████▍   | 1544/2380 [9:25:17<9:09:08, 39.41s/it]"
     ]
    },
    {
     "name": "stdout",
     "output_type": "stream",
     "text": [
      "Building 1609 is finished ...\n"
     ]
    },
    {
     "name": "stderr",
     "output_type": "stream",
     "text": [
      " 65%|██████▍   | 1546/2380 [9:25:20<6:30:40, 28.11s/it]"
     ]
    },
    {
     "name": "stdout",
     "output_type": "stream",
     "text": [
      "Building 1613 is finished ...\n",
      "Building 1610 is finished ...\n"
     ]
    },
    {
     "name": "stderr",
     "output_type": "stream",
     "text": [
      " 65%|██████▌   | 1547/2380 [9:25:31<5:18:32, 22.94s/it]"
     ]
    },
    {
     "name": "stdout",
     "output_type": "stream",
     "text": [
      "Building 1612 is finished ...\n"
     ]
    },
    {
     "name": "stderr",
     "output_type": "stream",
     "text": [
      " 65%|██████▌   | 1549/2380 [9:25:58<4:39:28, 20.18s/it]"
     ]
    },
    {
     "name": "stdout",
     "output_type": "stream",
     "text": [
      "Building 1616 is finished ...\n",
      "Building 1614 is finished ...\n"
     ]
    },
    {
     "name": "stderr",
     "output_type": "stream",
     "text": [
      " 65%|██████▌   | 1551/2380 [9:27:16<5:54:59, 25.69s/it]"
     ]
    },
    {
     "name": "stdout",
     "output_type": "stream",
     "text": [
      "Building 1615 is finished ...\n"
     ]
    },
    {
     "name": "stderr",
     "output_type": "stream",
     "text": [
      " 65%|██████▌   | 1552/2380 [9:27:20<4:28:06, 19.43s/it]"
     ]
    },
    {
     "name": "stdout",
     "output_type": "stream",
     "text": [
      "Building 1618 is finished ...\n",
      "Building 1620 is finished ...\n",
      "Building 1617 is finished ...\n"
     ]
    },
    {
     "name": "stderr",
     "output_type": "stream",
     "text": [
      " 65%|██████▌   | 1554/2380 [9:28:36<5:44:04, 24.99s/it]"
     ]
    },
    {
     "name": "stdout",
     "output_type": "stream",
     "text": [
      "Building 1619 is finished ...\n"
     ]
    },
    {
     "name": "stderr",
     "output_type": "stream",
     "text": [
      " 65%|██████▌   | 1556/2380 [9:29:31<5:53:12, 25.72s/it]"
     ]
    },
    {
     "name": "stdout",
     "output_type": "stream",
     "text": [
      "Building 1621 is finished ...\n"
     ]
    },
    {
     "name": "stderr",
     "output_type": "stream",
     "text": [
      " 65%|██████▌   | 1558/2380 [9:29:50<4:44:22, 20.76s/it]"
     ]
    },
    {
     "name": "stdout",
     "output_type": "stream",
     "text": [
      "Building 1622 is finished ...\n"
     ]
    },
    {
     "name": "stderr",
     "output_type": "stream",
     "text": [
      " 66%|██████▌   | 1559/2380 [9:29:58<3:52:57, 17.02s/it]"
     ]
    },
    {
     "name": "stdout",
     "output_type": "stream",
     "text": [
      "Building 1623 is finished ...\n"
     ]
    },
    {
     "name": "stderr",
     "output_type": "stream",
     "text": [
      " 66%|██████▌   | 1560/2380 [9:30:23<4:25:55, 19.46s/it]"
     ]
    },
    {
     "name": "stdout",
     "output_type": "stream",
     "text": [
      "Building 1624 is finished ...\n"
     ]
    },
    {
     "name": "stderr",
     "output_type": "stream",
     "text": [
      " 66%|██████▌   | 1561/2380 [9:30:48<4:46:44, 21.01s/it]"
     ]
    },
    {
     "name": "stdout",
     "output_type": "stream",
     "text": [
      "Building 1626 is finished ...\n",
      "Building 1627 is finished ...\n",
      "Building 1628 is finished ...\n",
      "Building 1625 is finished ...\n"
     ]
    },
    {
     "name": "stderr",
     "output_type": "stream",
     "text": [
      " 66%|██████▌   | 1562/2380 [9:32:03<8:28:02, 37.26s/it]"
     ]
    },
    {
     "name": "stdout",
     "output_type": "stream",
     "text": [
      "Building 1629 is finished ...\n"
     ]
    },
    {
     "name": "stderr",
     "output_type": "stream",
     "text": [
      " 66%|██████▌   | 1566/2380 [9:32:30<6:21:22, 28.11s/it]"
     ]
    },
    {
     "name": "stdout",
     "output_type": "stream",
     "text": [
      "Building 1631 is finished ...\n",
      "Building 1630 is finished ...\n"
     ]
    },
    {
     "name": "stderr",
     "output_type": "stream",
     "text": [
      " 66%|██████▌   | 1567/2380 [9:33:34<8:46:16, 38.84s/it]"
     ]
    },
    {
     "name": "stdout",
     "output_type": "stream",
     "text": [
      "Building 1632 is finished ...\n"
     ]
    },
    {
     "name": "stderr",
     "output_type": "stream",
     "text": [
      " 66%|██████▌   | 1569/2380 [9:33:34<6:09:06, 27.31s/it]"
     ]
    },
    {
     "name": "stdout",
     "output_type": "stream",
     "text": [
      "Building 1634 is finished ...\n",
      "Building 1635 is finished ...\n",
      "Building 1636 is finished ...\n",
      "Building 1633 is finished ...\n"
     ]
    },
    {
     "name": "stderr",
     "output_type": "stream",
     "text": [
      " 66%|██████▌   | 1570/2380 [9:34:51<9:27:45, 42.06s/it]"
     ]
    },
    {
     "name": "stdout",
     "output_type": "stream",
     "text": [
      "Building 1639 is finished ...\n",
      "Building 1638 is finished ...\n",
      "Building 1640 is finished ...\n",
      "Building 1637 is finished ...\n"
     ]
    },
    {
     "name": "stderr",
     "output_type": "stream",
     "text": [
      " 66%|██████▌   | 1574/2380 [9:36:22<8:07:09, 36.26s/it]"
     ]
    },
    {
     "name": "stdout",
     "output_type": "stream",
     "text": [
      "Building 1641 is finished ...\n"
     ]
    },
    {
     "name": "stderr",
     "output_type": "stream",
     "text": [
      " 66%|██████▋   | 1578/2380 [9:37:03<6:20:50, 28.49s/it]"
     ]
    },
    {
     "name": "stdout",
     "output_type": "stream",
     "text": [
      "Building 1644 is finished ...\n",
      "Building 1642 is finished ...\n"
     ]
    },
    {
     "name": "stderr",
     "output_type": "stream",
     "text": [
      " 66%|██████▋   | 1579/2380 [9:37:29<6:06:49, 27.48s/it]"
     ]
    },
    {
     "name": "stdout",
     "output_type": "stream",
     "text": [
      "Building 1643 is finished ...\n"
     ]
    },
    {
     "name": "stderr",
     "output_type": "stream",
     "text": [
      " 66%|██████▋   | 1580/2380 [9:37:32<4:28:43, 20.15s/it]"
     ]
    },
    {
     "name": "stdout",
     "output_type": "stream",
     "text": [
      "Building 1645 is finished ...\n"
     ]
    },
    {
     "name": "stderr",
     "output_type": "stream",
     "text": [
      " 66%|██████▋   | 1582/2380 [9:37:55<3:53:44, 17.57s/it]"
     ]
    },
    {
     "name": "stdout",
     "output_type": "stream",
     "text": [
      "Building 1646 is finished ...\n"
     ]
    },
    {
     "name": "stderr",
     "output_type": "stream",
     "text": [
      " 67%|██████▋   | 1583/2380 [9:38:36<5:26:45, 24.60s/it]"
     ]
    },
    {
     "name": "stdout",
     "output_type": "stream",
     "text": [
      "Building 1648 is finished ...\n",
      "Building 1647 is finished ...\n"
     ]
    },
    {
     "name": "stderr",
     "output_type": "stream",
     "text": [
      " 67%|██████▋   | 1584/2380 [9:39:37<7:52:01, 35.58s/it]"
     ]
    },
    {
     "name": "stdout",
     "output_type": "stream",
     "text": [
      "Building 1650 is finished ...\n",
      "Building 1651 is finished ...\n",
      "Building 1652 is finished ...\n",
      "Building 1649 is finished ...\n"
     ]
    },
    {
     "name": "stderr",
     "output_type": "stream",
     "text": [
      " 67%|██████▋   | 1586/2380 [9:41:11<8:36:31, 39.03s/it]"
     ]
    },
    {
     "name": "stdout",
     "output_type": "stream",
     "text": [
      "Building 1653 is finished ...\n"
     ]
    },
    {
     "name": "stderr",
     "output_type": "stream",
     "text": [
      " 67%|██████▋   | 1590/2380 [9:41:24<6:12:14, 28.27s/it]"
     ]
    },
    {
     "name": "stdout",
     "output_type": "stream",
     "text": [
      "Building 1654 is finished ...\n"
     ]
    },
    {
     "name": "stderr",
     "output_type": "stream",
     "text": [
      " 67%|██████▋   | 1591/2380 [9:41:28<4:37:31, 21.10s/it]"
     ]
    },
    {
     "name": "stdout",
     "output_type": "stream",
     "text": [
      "Building 1655 is finished ...\n"
     ]
    },
    {
     "name": "stderr",
     "output_type": "stream",
     "text": [
      " 67%|██████▋   | 1592/2380 [9:41:50<4:40:22, 21.35s/it]"
     ]
    },
    {
     "name": "stdout",
     "output_type": "stream",
     "text": [
      "Building 1656 is finished ...\n"
     ]
    },
    {
     "name": "stderr",
     "output_type": "stream",
     "text": [
      " 67%|██████▋   | 1593/2380 [9:41:52<3:25:21, 15.66s/it]"
     ]
    },
    {
     "name": "stdout",
     "output_type": "stream",
     "text": [
      "Building 1657 is finished ...\n"
     ]
    },
    {
     "name": "stderr",
     "output_type": "stream",
     "text": [
      " 67%|██████▋   | 1594/2380 [9:42:25<4:30:42, 20.67s/it]"
     ]
    },
    {
     "name": "stdout",
     "output_type": "stream",
     "text": [
      "Building 1659 is finished ...\n",
      "Building 1660 is finished ...\n",
      "Building 1658 is finished ...\n"
     ]
    },
    {
     "name": "stderr",
     "output_type": "stream",
     "text": [
      " 67%|██████▋   | 1595/2380 [9:44:19<10:36:12, 48.63s/it]"
     ]
    },
    {
     "name": "stdout",
     "output_type": "stream",
     "text": [
      "Building 1662 is finished ...\n",
      "Building 1661 is finished ...\n"
     ]
    },
    {
     "name": "stderr",
     "output_type": "stream",
     "text": [
      " 67%|██████▋   | 1598/2380 [9:44:59<8:16:52, 38.12s/it] "
     ]
    },
    {
     "name": "stdout",
     "output_type": "stream",
     "text": [
      "Building 1666 is finished ...\n",
      "Building 1664 is finished ...\n",
      "Building 1663 is finished ...\n"
     ]
    },
    {
     "name": "stderr",
     "output_type": "stream",
     "text": [
      " 67%|██████▋   | 1600/2380 [9:45:49<7:23:11, 34.09s/it]"
     ]
    },
    {
     "name": "stdout",
     "output_type": "stream",
     "text": [
      "Building 1667 is finished ...\n",
      "Building 1665 is finished ...\n"
     ]
    },
    {
     "name": "stderr",
     "output_type": "stream",
     "text": [
      " 67%|██████▋   | 1602/2380 [9:46:14<5:59:00, 27.69s/it]"
     ]
    },
    {
     "name": "stdout",
     "output_type": "stream",
     "text": [
      "Building 1668 is finished ...\n"
     ]
    },
    {
     "name": "stderr",
     "output_type": "stream",
     "text": [
      " 67%|██████▋   | 1605/2380 [9:46:33<4:34:28, 21.25s/it]"
     ]
    },
    {
     "name": "stdout",
     "output_type": "stream",
     "text": [
      "Building 1669 is finished ...\n"
     ]
    },
    {
     "name": "stderr",
     "output_type": "stream",
     "text": [
      " 67%|██████▋   | 1606/2380 [9:47:32<6:58:44, 32.46s/it]"
     ]
    },
    {
     "name": "stdout",
     "output_type": "stream",
     "text": [
      "Building 1671 is finished ...\n",
      "Building 1674 is finished ...\n",
      "Building 1672 is finished ...\n",
      "Building 1670 is finished ...\n"
     ]
    },
    {
     "name": "stderr",
     "output_type": "stream",
     "text": [
      " 68%|██████▊   | 1607/2380 [9:48:41<9:21:38, 43.59s/it]"
     ]
    },
    {
     "name": "stdout",
     "output_type": "stream",
     "text": [
      "Building 1673 is finished ...\n"
     ]
    },
    {
     "name": "stderr",
     "output_type": "stream",
     "text": [
      " 68%|██████▊   | 1610/2380 [9:48:57<6:51:51, 32.09s/it]"
     ]
    },
    {
     "name": "stdout",
     "output_type": "stream",
     "text": [
      "Building 1676 is finished ...\n",
      "Building 1675 is finished ...\n"
     ]
    },
    {
     "name": "stderr",
     "output_type": "stream",
     "text": [
      " 68%|██████▊   | 1612/2380 [9:49:07<5:07:10, 24.00s/it]"
     ]
    },
    {
     "name": "stdout",
     "output_type": "stream",
     "text": [
      "Building 1677 is finished ...\n"
     ]
    },
    {
     "name": "stderr",
     "output_type": "stream",
     "text": [
      " 68%|██████▊   | 1614/2380 [9:49:37<4:31:52, 21.30s/it]"
     ]
    },
    {
     "name": "stdout",
     "output_type": "stream",
     "text": [
      "Building 1678 is finished ...\n"
     ]
    },
    {
     "name": "stderr",
     "output_type": "stream",
     "text": [
      " 68%|██████▊   | 1615/2380 [9:50:03<4:48:12, 22.60s/it]"
     ]
    },
    {
     "name": "stdout",
     "output_type": "stream",
     "text": [
      "Building 1681 is finished ...\n",
      "Building 1679 is finished ...\n"
     ]
    },
    {
     "name": "stderr",
     "output_type": "stream",
     "text": [
      " 68%|██████▊   | 1616/2380 [9:50:45<6:02:39, 28.48s/it]"
     ]
    },
    {
     "name": "stdout",
     "output_type": "stream",
     "text": [
      "Building 1682 is finished ...\n",
      "Building 1683 is finished ...\n",
      "Building 1680 is finished ...\n"
     ]
    },
    {
     "name": "stderr",
     "output_type": "stream",
     "text": [
      " 68%|██████▊   | 1617/2380 [9:52:23<10:27:04, 49.31s/it]"
     ]
    },
    {
     "name": "stdout",
     "output_type": "stream",
     "text": [
      "Building 1684 is finished ...\n"
     ]
    },
    {
     "name": "stderr",
     "output_type": "stream",
     "text": [
      " 68%|██████▊   | 1621/2380 [9:52:43<7:35:46, 36.03s/it] "
     ]
    },
    {
     "name": "stdout",
     "output_type": "stream",
     "text": [
      "Building 1685 is finished ...\n"
     ]
    },
    {
     "name": "stderr",
     "output_type": "stream",
     "text": [
      " 68%|██████▊   | 1622/2380 [9:52:45<5:26:43, 25.86s/it]"
     ]
    },
    {
     "name": "stdout",
     "output_type": "stream",
     "text": [
      "Building 1686 is finished ...\n"
     ]
    },
    {
     "name": "stderr",
     "output_type": "stream",
     "text": [
      " 68%|██████▊   | 1623/2380 [9:53:11<5:27:38, 25.97s/it]"
     ]
    },
    {
     "name": "stdout",
     "output_type": "stream",
     "text": [
      "Building 1689 is finished ...\n",
      "Building 1688 is finished ...\n",
      "Building 1691 is finished ...\n",
      "Building 1687 is finished ...\n"
     ]
    },
    {
     "name": "stderr",
     "output_type": "stream",
     "text": [
      " 68%|██████▊   | 1624/2380 [9:54:56<10:23:43, 49.50s/it]"
     ]
    },
    {
     "name": "stdout",
     "output_type": "stream",
     "text": [
      "Building 1693 is finished ...\n",
      "Building 1690 is finished ...\n"
     ]
    },
    {
     "name": "stderr",
     "output_type": "stream",
     "text": [
      " 68%|██████▊   | 1627/2380 [9:55:24<7:50:25, 37.48s/it] "
     ]
    },
    {
     "name": "stdout",
     "output_type": "stream",
     "text": [
      "Building 1692 is finished ...\n"
     ]
    },
    {
     "name": "stderr",
     "output_type": "stream",
     "text": [
      " 68%|██████▊   | 1629/2380 [9:55:28<5:35:52, 26.83s/it]"
     ]
    },
    {
     "name": "stdout",
     "output_type": "stream",
     "text": [
      "Building 1694 is finished ...\n"
     ]
    },
    {
     "name": "stderr",
     "output_type": "stream",
     "text": [
      " 69%|██████▊   | 1631/2380 [9:55:39<4:14:25, 20.38s/it]"
     ]
    },
    {
     "name": "stdout",
     "output_type": "stream",
     "text": [
      "Building 1697 is finished ...\n",
      "Building 1698 is finished ...\n",
      "Building 1696 is finished ...\n",
      "Building 1695 is finished ...\n"
     ]
    },
    {
     "name": "stderr",
     "output_type": "stream",
     "text": [
      " 69%|██████▊   | 1632/2380 [9:57:23<9:26:16, 45.42s/it]"
     ]
    },
    {
     "name": "stdout",
     "output_type": "stream",
     "text": [
      "Building 1699 is finished ...\n"
     ]
    },
    {
     "name": "stderr",
     "output_type": "stream",
     "text": [
      " 69%|██████▊   | 1636/2380 [9:57:31<6:42:12, 32.44s/it]"
     ]
    },
    {
     "name": "stdout",
     "output_type": "stream",
     "text": [
      "Building 1701 is finished ...\n",
      "Building 1700 is finished ...\n"
     ]
    },
    {
     "name": "stderr",
     "output_type": "stream",
     "text": [
      " 69%|██████▉   | 1637/2380 [9:58:42<9:05:52, 44.08s/it]"
     ]
    },
    {
     "name": "stdout",
     "output_type": "stream",
     "text": [
      "Building 1703 is finished ...\n",
      "Building 1702 is finished ...\n"
     ]
    },
    {
     "name": "stderr",
     "output_type": "stream",
     "text": [
      " 69%|██████▉   | 1639/2380 [9:59:17<7:25:25, 36.07s/it]"
     ]
    },
    {
     "name": "stdout",
     "output_type": "stream",
     "text": [
      "Building 1705 is finished ...\n",
      "Building 1707 is finished ...\n",
      "Building 1704 is finished ...\n"
     ]
    },
    {
     "name": "stderr",
     "output_type": "stream",
     "text": [
      " 69%|██████▉   | 1641/2380 [10:00:26<7:17:40, 35.53s/it]"
     ]
    }
   ],
   "source": [
    "#cpu = int(cpu_count()/3)\n",
    "start_time = time.time()\n",
    "cpu = 32\n",
    "\n",
    "p = Pool(cpu)\n",
    "predictions = list(tqdm(p.imap(run_prophet, iter_idx), total=len(iter_idx)))\n",
    "p.close()\n",
    "p.join()\n",
    "\n",
    "print(\"--- %s seconds ---\" % (time.time() - start_time))"
   ]
  },
  {
   "cell_type": "code",
   "execution_count": null,
   "metadata": {},
   "outputs": [],
   "source": [
    "final_submit = pd.concat(predictions, axis = 0).reset_index(drop = True)"
   ]
  },
  {
   "cell_type": "code",
   "execution_count": null,
   "metadata": {},
   "outputs": [],
   "source": [
    "final_submit = final_submit.sort_values(by=['row_id'])"
   ]
  },
  {
   "cell_type": "code",
   "execution_count": null,
   "metadata": {},
   "outputs": [],
   "source": [
    "final_submit.to_csv(\"submission_prophet.csv\", index = False)"
   ]
  },
  {
   "cell_type": "code",
   "execution_count": 28,
   "metadata": {},
   "outputs": [
    {
     "name": "stdout",
     "output_type": "stream",
     "text": [
      "100%|██████████████████████████████████████| 1.07G/1.07G [00:22<00:00, 50.7MB/s]\n",
      "Successfully submitted to ASHRAE - Great Energy Predictor III"
     ]
    }
   ],
   "source": [
    "!kaggle competitions submit -c ashrae-energy-prediction -f submission_prophet.csv -m \"Prophet with whether data and seasonality\""
   ]
  },
  {
   "cell_type": "code",
   "execution_count": 27,
   "metadata": {},
   "outputs": [
    {
     "data": {
      "text/html": [
       "<div>\n",
       "<style scoped>\n",
       "    .dataframe tbody tr th:only-of-type {\n",
       "        vertical-align: middle;\n",
       "    }\n",
       "\n",
       "    .dataframe tbody tr th {\n",
       "        vertical-align: top;\n",
       "    }\n",
       "\n",
       "    .dataframe thead th {\n",
       "        text-align: right;\n",
       "    }\n",
       "</style>\n",
       "<table border=\"1\" class=\"dataframe\">\n",
       "  <thead>\n",
       "    <tr style=\"text-align: right;\">\n",
       "      <th></th>\n",
       "      <th>row_id</th>\n",
       "      <th>meter_reading</th>\n",
       "    </tr>\n",
       "  </thead>\n",
       "  <tbody>\n",
       "    <tr>\n",
       "      <td>0</td>\n",
       "      <td>0</td>\n",
       "      <td>155.096</td>\n",
       "    </tr>\n",
       "    <tr>\n",
       "      <td>17520</td>\n",
       "      <td>1</td>\n",
       "      <td>87.233</td>\n",
       "    </tr>\n",
       "    <tr>\n",
       "      <td>35040</td>\n",
       "      <td>2</td>\n",
       "      <td>-0.940</td>\n",
       "    </tr>\n",
       "    <tr>\n",
       "      <td>52560</td>\n",
       "      <td>3</td>\n",
       "      <td>251.647</td>\n",
       "    </tr>\n",
       "    <tr>\n",
       "      <td>70080</td>\n",
       "      <td>4</td>\n",
       "      <td>1223.351</td>\n",
       "    </tr>\n",
       "    <tr>\n",
       "      <td>...</td>\n",
       "      <td>...</td>\n",
       "      <td>...</td>\n",
       "    </tr>\n",
       "    <tr>\n",
       "      <td>40243439</td>\n",
       "      <td>41697595</td>\n",
       "      <td>-20.326</td>\n",
       "    </tr>\n",
       "    <tr>\n",
       "      <td>40260959</td>\n",
       "      <td>41697596</td>\n",
       "      <td>16.497</td>\n",
       "    </tr>\n",
       "    <tr>\n",
       "      <td>40278479</td>\n",
       "      <td>41697597</td>\n",
       "      <td>-35.076</td>\n",
       "    </tr>\n",
       "    <tr>\n",
       "      <td>40295999</td>\n",
       "      <td>41697598</td>\n",
       "      <td>-347.733</td>\n",
       "    </tr>\n",
       "    <tr>\n",
       "      <td>40313519</td>\n",
       "      <td>41697599</td>\n",
       "      <td>3.885</td>\n",
       "    </tr>\n",
       "  </tbody>\n",
       "</table>\n",
       "<p>41697600 rows × 2 columns</p>\n",
       "</div>"
      ],
      "text/plain": [
       "            row_id  meter_reading\n",
       "0                0        155.096\n",
       "17520            1         87.233\n",
       "35040            2         -0.940\n",
       "52560            3        251.647\n",
       "70080            4       1223.351\n",
       "...            ...            ...\n",
       "40243439  41697595        -20.326\n",
       "40260959  41697596         16.497\n",
       "40278479  41697597        -35.076\n",
       "40295999  41697598       -347.733\n",
       "40313519  41697599          3.885\n",
       "\n",
       "[41697600 rows x 2 columns]"
      ]
     },
     "execution_count": 27,
     "metadata": {},
     "output_type": "execute_result"
    }
   ],
   "source": [
    "final_submit"
   ]
  },
  {
   "cell_type": "code",
   "execution_count": null,
   "metadata": {},
   "outputs": [],
   "source": [
    "########## Experiment ###############"
   ]
  },
  {
   "cell_type": "code",
   "execution_count": 306,
   "metadata": {},
   "outputs": [
    {
     "data": {
      "application/vnd.jupyter.widget-view+json": {
       "model_id": "fb38f60f0fe947e9ad9ea940178de3f5",
       "version_major": 2,
       "version_minor": 0
      },
      "text/plain": [
       "HBox(children=(IntProgress(value=0, max=2), HTML(value='')))"
      ]
     },
     "metadata": {},
     "output_type": "display_data"
    },
    {
     "name": "stdout",
     "output_type": "stream",
     "text": [
      "--- 129.63623976707458 seconds ---\n"
     ]
    }
   ],
   "source": [
    "### Loop to run on all buildings and meters ###\n",
    "start_time = time.time()\n",
    "dict_scores = {}\n",
    "submit_pred = []\n",
    "build_idx = df_train[\"building_id\"].unique()\n",
    "for i in tqdm_notebook(test_build_idx):\n",
    "    scores = []\n",
    "    df_train_build = df_train[df_train[\"building_id\"] == i]\n",
    "    df_test_build = df_test[df_test[\"building_id\"] == i]\n",
    "\n",
    "    #print(f'building {i} is being trained ...')\n",
    "    for j in df_train_build[\"meter\"].unique():\n",
    "        #print(f'Jumping to {j} meter ...')\n",
    "        \n",
    "        df_train_build_meter = df_train_build[df_train_build[\"meter\"] == j][[\"timestamp\", \"meter_reading\", \n",
    "                                                                             \"air_temperature\", \n",
    "                                                                             \"dew_temperature\", \n",
    "                                                                             \"sea_level_pressure\",\n",
    "                                                                             \"wind_direction\", \n",
    "                                                                             \"wind_speed\"]].reset_index(drop=True)\n",
    "        df_test_build_meter = df_test_build[df_test_build[\"meter\"] == j][[\"row_id\",\"timestamp\",\n",
    "                                                                         \"air_temperature\", \n",
    "                                                                         \"dew_temperature\", \n",
    "                                                                         \"sea_level_pressure\",\n",
    "                                                                         \"wind_direction\", \n",
    "                                                                         \"wind_speed\"]]\n",
    "        \n",
    "        df_train_build_meter.columns = [\"ds\", \"y\", \"air_temperature\", \"dew_temperature\",\n",
    "                                                                    \"sea_level_pressure\",\n",
    "                                                                    \"wind_direction\", \n",
    "                                                                    \"wind_speed\"]\n",
    "        df_test_build_meter.columns = [\"row_id\", \"ds\", \"air_temperature\", \"dew_temperature\", \n",
    "                                                                          \"sea_level_pressure\",\n",
    "                                                                          \"wind_direction\", \n",
    "                                                                          \"wind_speed\"]\n",
    "\n",
    "        z = Prophet(interval_width=0.95, daily_seasonality=True, weekly_seasonality=True,\n",
    "           seasonality_mode = 'multiplicative')\n",
    "        z.add_regressor('air_temperature')\n",
    "        z.add_regressor('dew_temperature')\n",
    "        z.add_regressor('sea_level_pressure')\n",
    "        z.add_regressor('wind_direction')\n",
    "        z.add_regressor('wind_speed')\n",
    "        z.add_seasonality(name='hourly', period=24, fourier_order=2)\n",
    "        z.add_seasonality(name='monthly', period=30.5, fourier_order=5)\n",
    "        z.fit(df_train_build_meter)\n",
    "        \n",
    "        submit = z.predict(df_test_build_meter[[\"ds\", \"air_temperature\", \n",
    "                               \"dew_temperature\", \n",
    "                               \"sea_level_pressure\",\n",
    "                               \"wind_direction\", \n",
    "                               \"wind_speed\"\n",
    "                              ]])\n",
    "        \n",
    "        #submit_pred = fit_model.predict(X_test)\n",
    "        submit= pd.DataFrame(submit[\"yhat\"])\n",
    "        submit.columns = ['meter_reading']\n",
    "        submit = pd.concat([df_test_build_meter['row_id'].reset_index(drop=True), submit], axis = 1)\n",
    "        submit_pred.append(submit)\n",
    "\n",
    "print(\"--- %s seconds ---\" % (time.time() - start_time))"
   ]
  },
  {
   "cell_type": "code",
   "execution_count": 321,
   "metadata": {},
   "outputs": [],
   "source": [
    "final_submit = pd.concat(submit_pred, axis = 0).reset_index(drop = True)"
   ]
  },
  {
   "cell_type": "code",
   "execution_count": 322,
   "metadata": {},
   "outputs": [
    {
     "data": {
      "text/plain": [
       "0"
      ]
     },
     "execution_count": 322,
     "metadata": {},
     "output_type": "execute_result"
    }
   ],
   "source": [
    "final_submit['meter_reading'].isnull().sum()"
   ]
  },
  {
   "cell_type": "code",
   "execution_count": 323,
   "metadata": {},
   "outputs": [
    {
     "data": {
      "text/html": [
       "<div>\n",
       "<style scoped>\n",
       "    .dataframe tbody tr th:only-of-type {\n",
       "        vertical-align: middle;\n",
       "    }\n",
       "\n",
       "    .dataframe tbody tr th {\n",
       "        vertical-align: top;\n",
       "    }\n",
       "\n",
       "    .dataframe thead th {\n",
       "        text-align: right;\n",
       "    }\n",
       "</style>\n",
       "<table border=\"1\" class=\"dataframe\">\n",
       "  <thead>\n",
       "    <tr style=\"text-align: right;\">\n",
       "      <th></th>\n",
       "      <th>row_id</th>\n",
       "      <th>meter_reading</th>\n",
       "    </tr>\n",
       "  </thead>\n",
       "  <tbody>\n",
       "    <tr>\n",
       "      <td>0</td>\n",
       "      <td>0</td>\n",
       "      <td>155.096</td>\n",
       "    </tr>\n",
       "    <tr>\n",
       "      <td>1</td>\n",
       "      <td>129</td>\n",
       "      <td>157.546</td>\n",
       "    </tr>\n",
       "    <tr>\n",
       "      <td>2</td>\n",
       "      <td>258</td>\n",
       "      <td>155.900</td>\n",
       "    </tr>\n",
       "    <tr>\n",
       "      <td>3</td>\n",
       "      <td>387</td>\n",
       "      <td>157.603</td>\n",
       "    </tr>\n",
       "    <tr>\n",
       "      <td>4</td>\n",
       "      <td>516</td>\n",
       "      <td>156.628</td>\n",
       "    </tr>\n",
       "    <tr>\n",
       "      <td>...</td>\n",
       "      <td>...</td>\n",
       "      <td>...</td>\n",
       "    </tr>\n",
       "    <tr>\n",
       "      <td>35035</td>\n",
       "      <td>2259436</td>\n",
       "      <td>33.147</td>\n",
       "    </tr>\n",
       "    <tr>\n",
       "      <td>35036</td>\n",
       "      <td>2259565</td>\n",
       "      <td>31.234</td>\n",
       "    </tr>\n",
       "    <tr>\n",
       "      <td>35037</td>\n",
       "      <td>2259694</td>\n",
       "      <td>31.262</td>\n",
       "    </tr>\n",
       "    <tr>\n",
       "      <td>35038</td>\n",
       "      <td>2259823</td>\n",
       "      <td>31.239</td>\n",
       "    </tr>\n",
       "    <tr>\n",
       "      <td>35039</td>\n",
       "      <td>2259952</td>\n",
       "      <td>30.814</td>\n",
       "    </tr>\n",
       "  </tbody>\n",
       "</table>\n",
       "<p>35040 rows × 2 columns</p>\n",
       "</div>"
      ],
      "text/plain": [
       "        row_id  meter_reading\n",
       "0            0        155.096\n",
       "1          129        157.546\n",
       "2          258        155.900\n",
       "3          387        157.603\n",
       "4          516        156.628\n",
       "...        ...            ...\n",
       "35035  2259436         33.147\n",
       "35036  2259565         31.234\n",
       "35037  2259694         31.262\n",
       "35038  2259823         31.239\n",
       "35039  2259952         30.814\n",
       "\n",
       "[35040 rows x 2 columns]"
      ]
     },
     "execution_count": 323,
     "metadata": {},
     "output_type": "execute_result"
    }
   ],
   "source": [
    "final_submit"
   ]
  },
  {
   "cell_type": "code",
   "execution_count": null,
   "metadata": {},
   "outputs": [],
   "source": []
  }
 ],
 "metadata": {
  "kernelspec": {
   "display_name": "Python 3",
   "language": "python",
   "name": "python3"
  },
  "language_info": {
   "codemirror_mode": {
    "name": "ipython",
    "version": 3
   },
   "file_extension": ".py",
   "mimetype": "text/x-python",
   "name": "python",
   "nbconvert_exporter": "python",
   "pygments_lexer": "ipython3",
   "version": "3.7.3"
  }
 },
 "nbformat": 4,
 "nbformat_minor": 2
}
