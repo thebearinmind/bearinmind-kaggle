{
 "cells": [
  {
   "cell_type": "code",
   "execution_count": 1,
   "metadata": {},
   "outputs": [
    {
     "name": "stderr",
     "output_type": "stream",
     "text": [
      "Using TensorFlow backend.\n"
     ]
    }
   ],
   "source": [
    "import sys\n",
    "sys.path.insert(0, '/home/jovyan/work/Molecular_Properties/model-pipeline/src')\n",
    "import pandas as pd\n",
    "import warnings\n",
    "import numpy as np\n",
    "from sklearn.preprocessing import LabelEncoder, OneHotEncoder\n",
    "#from model_construction import prepare_data_split, run_model, show_varimp\n",
    "from bearinmind_pipeline.data_preprocessing import dataPreprocessing as dp\n",
    "#from bearinmind_pipeline.model_construction import modelBuilder as mb\n",
    "import bearinmind_pipeline.model_construction as mc\n",
    "#from bearinmind_pipeline import data_preprocessing, model_construction, results_blend\n",
    "import gc\n",
    "from sklearn.metrics import roc_auc_score\n",
    "import matplotlib.pyplot as plt\n",
    "import seaborn as sns\n",
    "import xgboost as xgb\n",
    "import os\n",
    "import lightgbm as lgb\n",
    "from imblearn.over_sampling import SMOTE\n",
    "from fbprophet import Prophet\n",
    "warnings.simplefilter(action='ignore', category=FutureWarning)\n",
    "pd.set_option('display.max_columns', 500)\n",
    "pd.set_option('display.float_format', lambda x: '%.3f' % x)\n",
    "np.set_printoptions(suppress=True)\n",
    "from multiprocessing import Pool, cpu_count\n",
    "import time\n"
   ]
  },
  {
   "cell_type": "code",
   "execution_count": 2,
   "metadata": {},
   "outputs": [],
   "source": [
    "import datetime\n",
    "from tqdm import tqdm_notebook, tqdm "
   ]
  },
  {
   "cell_type": "code",
   "execution_count": 3,
   "metadata": {},
   "outputs": [],
   "source": [
    "df_train = pd.read_csv('data/train.csv')\n",
    "df_test = pd.read_csv('data/test.csv')\n",
    "mapping = pd.read_csv('data/building_metadata.csv')\n",
    "weather_train = pd.read_csv('data/weather_train.csv')\n",
    "weather_test = pd.read_csv('data/weather_test.csv')"
   ]
  },
  {
   "cell_type": "code",
   "execution_count": 4,
   "metadata": {},
   "outputs": [],
   "source": [
    "df_train = df_train.merge(mapping, how = \"left\", on = \"building_id\")"
   ]
  },
  {
   "cell_type": "code",
   "execution_count": 5,
   "metadata": {},
   "outputs": [],
   "source": [
    "df_test = df_test.merge(mapping, how = \"left\", on = \"building_id\")"
   ]
  },
  {
   "cell_type": "code",
   "execution_count": 6,
   "metadata": {},
   "outputs": [],
   "source": [
    "df_train = df_train.merge(weather_train, how = \"left\", on = [\"site_id\", \"timestamp\"])\n",
    "df_test = df_test.merge(weather_test, how = \"left\", on =  [\"site_id\", \"timestamp\"])"
   ]
  },
  {
   "cell_type": "code",
   "execution_count": 7,
   "metadata": {},
   "outputs": [],
   "source": [
    "def rmsle(y, yhat):\n",
    "    score = np.sqrt(np.mean(np.power(np.log(yhat+1)-np.log(y.reset_index(drop=True)+1), 2)))\n",
    "    return(score)"
   ]
  },
  {
   "cell_type": "code",
   "execution_count": 8,
   "metadata": {},
   "outputs": [],
   "source": [
    "df_train[\"timestamp\"] = pd.to_datetime(df_train[\"timestamp\"])"
   ]
  },
  {
   "cell_type": "code",
   "execution_count": null,
   "metadata": {},
   "outputs": [],
   "source": [
    "df_test[\"timestamp\"] = pd.to_datetime(df_test[\"timestamp\"])"
   ]
  },
  {
   "cell_type": "code",
   "execution_count": null,
   "metadata": {},
   "outputs": [],
   "source": [
    "df_train[\"air_temperature\"] = df_train[\"air_temperature\"].fillna(df_train[\"air_temperature\"].mean())\n",
    "df_test[\"air_temperature\"] = df_test[\"air_temperature\"].fillna(df_test[\"air_temperature\"].mean())\n",
    "df_train[\"dew_temperature\"] = df_train[\"dew_temperature\"].fillna(df_train[\"dew_temperature\"].mean())\n",
    "df_test[\"dew_temperature\"] = df_test[\"dew_temperature\"].fillna(df_test[\"dew_temperature\"].mean())\n",
    "df_train[\"sea_level_pressure\"] = df_train[\"sea_level_pressure\"].fillna(df_train[\"sea_level_pressure\"].mean())\n",
    "df_test[\"sea_level_pressure\"] = df_test[\"sea_level_pressure\"].fillna(df_test[\"sea_level_pressure\"].mean())\n",
    "df_train[\"wind_direction\"] = df_train[\"wind_direction\"].fillna(df_train[\"wind_direction\"].mean())\n",
    "df_test[\"wind_direction\"] = df_test[\"wind_direction\"].fillna(df_test[\"wind_direction\"].mean())\n",
    "df_train[\"wind_speed\"] = df_train[\"wind_speed\"].fillna(df_train[\"wind_speed\"].mean())\n",
    "df_test[\"wind_speed\"] = df_test[\"wind_speed\"].fillna(df_test[\"wind_speed\"].mean())"
   ]
  },
  {
   "cell_type": "code",
   "execution_count": null,
   "metadata": {},
   "outputs": [],
   "source": [
    "def run_prophet(build_idx):\n",
    "    #for i in build_idx:\n",
    "        scores = []\n",
    "        df_train_build = df_train[df_train[\"building_id\"] == build_idx]\n",
    "        df_test_build = df_test[df_test[\"building_id\"] == build_idx]\n",
    "\n",
    "        #print(f'building {i} is being trained ...')\n",
    "        \n",
    "        \n",
    "        for j in df_train_build[\"meter\"].unique():\n",
    "            #print(f'Jumping to {j} meter ...')\n",
    "\n",
    "            df_train_build_meter = df_train_build[df_train_build[\"meter\"] == j][[\"timestamp\", \"meter_reading\", \n",
    "                                                                                 \"air_temperature\", \n",
    "                                                                                 \"dew_temperature\", \n",
    "                                                                                 \"sea_level_pressure\",\n",
    "                                                                                 \"wind_direction\", \n",
    "                                                                                 \"wind_speed\"]].reset_index(drop=True)\n",
    "            df_test_build_meter = df_test_build[df_test_build[\"meter\"] == j][[\"row_id\",\"timestamp\",\n",
    "                                                                             \"air_temperature\", \n",
    "                                                                             \"dew_temperature\", \n",
    "                                                                             \"sea_level_pressure\",\n",
    "                                                                             \"wind_direction\", \n",
    "                                                                             \"wind_speed\"]]\n",
    "\n",
    "            df_train_build_meter.columns = [\"ds\", \"y\", \"air_temperature\", \"dew_temperature\",\n",
    "                                                                        \"sea_level_pressure\",\n",
    "                                                                        \"wind_direction\", \n",
    "                                                                        \"wind_speed\"]\n",
    "            df_test_build_meter.columns = [\"row_id\", \"ds\", \"air_temperature\", \"dew_temperature\", \n",
    "                                                                              \"sea_level_pressure\",\n",
    "                                                                              \"wind_direction\", \n",
    "                                                                              \"wind_speed\"]\n",
    "\n",
    "            z = Prophet(interval_width=0.95, daily_seasonality=True, weekly_seasonality=True,\n",
    "               seasonality_mode = 'multiplicative')\n",
    "            z.add_regressor('air_temperature')\n",
    "            z.add_regressor('dew_temperature')\n",
    "            z.add_regressor('sea_level_pressure')\n",
    "            z.add_regressor('wind_direction')\n",
    "            z.add_regressor('wind_speed')\n",
    "            z.add_seasonality(name='hourly', period=24, fourier_order=2)\n",
    "            z.add_seasonality(name='monthly', period=30.5, fourier_order=5)\n",
    "            z.fit(df_train_build_meter)\n",
    "\n",
    "            submit = z.predict(df_test_build_meter[[\"ds\", \"air_temperature\", \n",
    "                                   \"dew_temperature\", \n",
    "                                   \"sea_level_pressure\",\n",
    "                                   \"wind_direction\", \n",
    "                                   \"wind_speed\"\n",
    "                                  ]])\n",
    "\n",
    "            #submit_pred = fit_model.predict(X_test)\n",
    "            submit= pd.DataFrame(submit[\"yhat\"])\n",
    "            submit.columns = ['meter_reading']\n",
    "            submit = pd.concat([df_test_build_meter['row_id'].reset_index(drop=True), submit], axis = 1)\n",
    "            #submit_pred.append(submit)\n",
    "            \n",
    "            #gc.collect()\n",
    "            \n",
    "            print(f'Building {build_idx} is finished ...')\n",
    "            \n",
    "            del df_train_build_meter\n",
    "            del df_test_build_meter\n",
    "\n",
    "            return(submit)"
   ]
  },
  {
   "cell_type": "code",
   "execution_count": null,
   "metadata": {},
   "outputs": [],
   "source": [
    "dict_scores = {}\n",
    "submit_pred = []\n",
    "#test_build_idx = range(15)\n",
    "build_idx = list(df_train[\"building_id\"].unique())"
   ]
  },
  {
   "cell_type": "code",
   "execution_count": null,
   "metadata": {},
   "outputs": [
    {
     "data": {
      "text/plain": [
       "51"
      ]
     },
     "execution_count": 13,
     "metadata": {},
     "output_type": "execute_result"
    }
   ],
   "source": [
    "gc.collect()"
   ]
  },
  {
   "cell_type": "code",
   "execution_count": null,
   "metadata": {},
   "outputs": [
    {
     "name": "stderr",
     "output_type": "stream",
     "text": [
      "  0%|          | 0/1449 [00:00<?, ?it/s]"
     ]
    }
   ],
   "source": [
    "#cpu = int(cpu_count()/3)\n",
    "start_time = time.time()\n",
    "cpu = 40\n",
    "\n",
    "p = Pool(cpu)\n",
    "predictions = list(tqdm(p.imap(run_prophet, build_idx), total=len(build_idx)))\n",
    "p.close()\n",
    "p.join()\n",
    "\n",
    "print(\"--- %s seconds ---\" % (time.time() - start_time))"
   ]
  },
  {
   "cell_type": "code",
   "execution_count": null,
   "metadata": {},
   "outputs": [],
   "source": [
    "list(predictions)"
   ]
  },
  {
   "cell_type": "code",
   "execution_count": null,
   "metadata": {},
   "outputs": [],
   "source": [
    "final_submit = pd.concat(predictions, axis = 0).reset_index(drop = True)"
   ]
  },
  {
   "cell_type": "code",
   "execution_count": 325,
   "metadata": {},
   "outputs": [
    {
     "data": {
      "text/html": [
       "<div>\n",
       "<style scoped>\n",
       "    .dataframe tbody tr th:only-of-type {\n",
       "        vertical-align: middle;\n",
       "    }\n",
       "\n",
       "    .dataframe tbody tr th {\n",
       "        vertical-align: top;\n",
       "    }\n",
       "\n",
       "    .dataframe thead th {\n",
       "        text-align: right;\n",
       "    }\n",
       "</style>\n",
       "<table border=\"1\" class=\"dataframe\">\n",
       "  <thead>\n",
       "    <tr style=\"text-align: right;\">\n",
       "      <th></th>\n",
       "      <th>row_id</th>\n",
       "      <th>meter_reading</th>\n",
       "    </tr>\n",
       "  </thead>\n",
       "  <tbody>\n",
       "    <tr>\n",
       "      <td>0</td>\n",
       "      <td>0</td>\n",
       "      <td>155.096</td>\n",
       "    </tr>\n",
       "    <tr>\n",
       "      <td>1</td>\n",
       "      <td>129</td>\n",
       "      <td>157.546</td>\n",
       "    </tr>\n",
       "    <tr>\n",
       "      <td>2</td>\n",
       "      <td>258</td>\n",
       "      <td>155.900</td>\n",
       "    </tr>\n",
       "    <tr>\n",
       "      <td>3</td>\n",
       "      <td>387</td>\n",
       "      <td>157.603</td>\n",
       "    </tr>\n",
       "    <tr>\n",
       "      <td>4</td>\n",
       "      <td>516</td>\n",
       "      <td>156.628</td>\n",
       "    </tr>\n",
       "    <tr>\n",
       "      <td>...</td>\n",
       "      <td>...</td>\n",
       "      <td>...</td>\n",
       "    </tr>\n",
       "    <tr>\n",
       "      <td>35035</td>\n",
       "      <td>2259435</td>\n",
       "      <td>-204.551</td>\n",
       "    </tr>\n",
       "    <tr>\n",
       "      <td>35036</td>\n",
       "      <td>2259564</td>\n",
       "      <td>-203.025</td>\n",
       "    </tr>\n",
       "    <tr>\n",
       "      <td>35037</td>\n",
       "      <td>2259693</td>\n",
       "      <td>-205.838</td>\n",
       "    </tr>\n",
       "    <tr>\n",
       "      <td>35038</td>\n",
       "      <td>2259822</td>\n",
       "      <td>-204.293</td>\n",
       "    </tr>\n",
       "    <tr>\n",
       "      <td>35039</td>\n",
       "      <td>2259951</td>\n",
       "      <td>-203.524</td>\n",
       "    </tr>\n",
       "  </tbody>\n",
       "</table>\n",
       "<p>35040 rows × 2 columns</p>\n",
       "</div>"
      ],
      "text/plain": [
       "        row_id  meter_reading\n",
       "0            0        155.096\n",
       "1          129        157.546\n",
       "2          258        155.900\n",
       "3          387        157.603\n",
       "4          516        156.628\n",
       "...        ...            ...\n",
       "35035  2259435       -204.551\n",
       "35036  2259564       -203.025\n",
       "35037  2259693       -205.838\n",
       "35038  2259822       -204.293\n",
       "35039  2259951       -203.524\n",
       "\n",
       "[35040 rows x 2 columns]"
      ]
     },
     "execution_count": 325,
     "metadata": {},
     "output_type": "execute_result"
    }
   ],
   "source": [
    "final_submit.to_csv(\"submission_prophet.csv\", index = False)"
   ]
  },
  {
   "cell_type": "code",
   "execution_count": null,
   "metadata": {},
   "outputs": [],
   "source": [
    "########## Experiment ###############"
   ]
  },
  {
   "cell_type": "code",
   "execution_count": 306,
   "metadata": {},
   "outputs": [
    {
     "data": {
      "application/vnd.jupyter.widget-view+json": {
       "model_id": "fb38f60f0fe947e9ad9ea940178de3f5",
       "version_major": 2,
       "version_minor": 0
      },
      "text/plain": [
       "HBox(children=(IntProgress(value=0, max=2), HTML(value='')))"
      ]
     },
     "metadata": {},
     "output_type": "display_data"
    },
    {
     "name": "stdout",
     "output_type": "stream",
     "text": [
      "--- 129.63623976707458 seconds ---\n"
     ]
    }
   ],
   "source": [
    "### Loop to run on all buildings and meters ###\n",
    "start_time = time.time()\n",
    "dict_scores = {}\n",
    "submit_pred = []\n",
    "build_idx = df_train[\"building_id\"].unique()\n",
    "for i in tqdm_notebook(test_build_idx):\n",
    "    scores = []\n",
    "    df_train_build = df_train[df_train[\"building_id\"] == i]\n",
    "    df_test_build = df_test[df_test[\"building_id\"] == i]\n",
    "\n",
    "    #print(f'building {i} is being trained ...')\n",
    "    for j in df_train_build[\"meter\"].unique():\n",
    "        #print(f'Jumping to {j} meter ...')\n",
    "        \n",
    "        df_train_build_meter = df_train_build[df_train_build[\"meter\"] == j][[\"timestamp\", \"meter_reading\", \n",
    "                                                                             \"air_temperature\", \n",
    "                                                                             \"dew_temperature\", \n",
    "                                                                             \"sea_level_pressure\",\n",
    "                                                                             \"wind_direction\", \n",
    "                                                                             \"wind_speed\"]].reset_index(drop=True)\n",
    "        df_test_build_meter = df_test_build[df_test_build[\"meter\"] == j][[\"row_id\",\"timestamp\",\n",
    "                                                                         \"air_temperature\", \n",
    "                                                                         \"dew_temperature\", \n",
    "                                                                         \"sea_level_pressure\",\n",
    "                                                                         \"wind_direction\", \n",
    "                                                                         \"wind_speed\"]]\n",
    "        \n",
    "        df_train_build_meter.columns = [\"ds\", \"y\", \"air_temperature\", \"dew_temperature\",\n",
    "                                                                    \"sea_level_pressure\",\n",
    "                                                                    \"wind_direction\", \n",
    "                                                                    \"wind_speed\"]\n",
    "        df_test_build_meter.columns = [\"row_id\", \"ds\", \"air_temperature\", \"dew_temperature\", \n",
    "                                                                          \"sea_level_pressure\",\n",
    "                                                                          \"wind_direction\", \n",
    "                                                                          \"wind_speed\"]\n",
    "\n",
    "        z = Prophet(interval_width=0.95, daily_seasonality=True, weekly_seasonality=True,\n",
    "           seasonality_mode = 'multiplicative')\n",
    "        z.add_regressor('air_temperature')\n",
    "        z.add_regressor('dew_temperature')\n",
    "        z.add_regressor('sea_level_pressure')\n",
    "        z.add_regressor('wind_direction')\n",
    "        z.add_regressor('wind_speed')\n",
    "        z.add_seasonality(name='hourly', period=24, fourier_order=2)\n",
    "        z.add_seasonality(name='monthly', period=30.5, fourier_order=5)\n",
    "        z.fit(df_train_build_meter)\n",
    "        \n",
    "        submit = z.predict(df_test_build_meter[[\"ds\", \"air_temperature\", \n",
    "                               \"dew_temperature\", \n",
    "                               \"sea_level_pressure\",\n",
    "                               \"wind_direction\", \n",
    "                               \"wind_speed\"\n",
    "                              ]])\n",
    "        \n",
    "        #submit_pred = fit_model.predict(X_test)\n",
    "        submit= pd.DataFrame(submit[\"yhat\"])\n",
    "        submit.columns = ['meter_reading']\n",
    "        submit = pd.concat([df_test_build_meter['row_id'].reset_index(drop=True), submit], axis = 1)\n",
    "        submit_pred.append(submit)\n",
    "\n",
    "print(\"--- %s seconds ---\" % (time.time() - start_time))"
   ]
  },
  {
   "cell_type": "code",
   "execution_count": 321,
   "metadata": {},
   "outputs": [],
   "source": [
    "final_submit = pd.concat(submit_pred, axis = 0).reset_index(drop = True)"
   ]
  },
  {
   "cell_type": "code",
   "execution_count": 322,
   "metadata": {},
   "outputs": [
    {
     "data": {
      "text/plain": [
       "0"
      ]
     },
     "execution_count": 322,
     "metadata": {},
     "output_type": "execute_result"
    }
   ],
   "source": [
    "final_submit['meter_reading'].isnull().sum()"
   ]
  },
  {
   "cell_type": "code",
   "execution_count": 323,
   "metadata": {},
   "outputs": [
    {
     "data": {
      "text/html": [
       "<div>\n",
       "<style scoped>\n",
       "    .dataframe tbody tr th:only-of-type {\n",
       "        vertical-align: middle;\n",
       "    }\n",
       "\n",
       "    .dataframe tbody tr th {\n",
       "        vertical-align: top;\n",
       "    }\n",
       "\n",
       "    .dataframe thead th {\n",
       "        text-align: right;\n",
       "    }\n",
       "</style>\n",
       "<table border=\"1\" class=\"dataframe\">\n",
       "  <thead>\n",
       "    <tr style=\"text-align: right;\">\n",
       "      <th></th>\n",
       "      <th>row_id</th>\n",
       "      <th>meter_reading</th>\n",
       "    </tr>\n",
       "  </thead>\n",
       "  <tbody>\n",
       "    <tr>\n",
       "      <td>0</td>\n",
       "      <td>0</td>\n",
       "      <td>155.096</td>\n",
       "    </tr>\n",
       "    <tr>\n",
       "      <td>1</td>\n",
       "      <td>129</td>\n",
       "      <td>157.546</td>\n",
       "    </tr>\n",
       "    <tr>\n",
       "      <td>2</td>\n",
       "      <td>258</td>\n",
       "      <td>155.900</td>\n",
       "    </tr>\n",
       "    <tr>\n",
       "      <td>3</td>\n",
       "      <td>387</td>\n",
       "      <td>157.603</td>\n",
       "    </tr>\n",
       "    <tr>\n",
       "      <td>4</td>\n",
       "      <td>516</td>\n",
       "      <td>156.628</td>\n",
       "    </tr>\n",
       "    <tr>\n",
       "      <td>...</td>\n",
       "      <td>...</td>\n",
       "      <td>...</td>\n",
       "    </tr>\n",
       "    <tr>\n",
       "      <td>35035</td>\n",
       "      <td>2259436</td>\n",
       "      <td>33.147</td>\n",
       "    </tr>\n",
       "    <tr>\n",
       "      <td>35036</td>\n",
       "      <td>2259565</td>\n",
       "      <td>31.234</td>\n",
       "    </tr>\n",
       "    <tr>\n",
       "      <td>35037</td>\n",
       "      <td>2259694</td>\n",
       "      <td>31.262</td>\n",
       "    </tr>\n",
       "    <tr>\n",
       "      <td>35038</td>\n",
       "      <td>2259823</td>\n",
       "      <td>31.239</td>\n",
       "    </tr>\n",
       "    <tr>\n",
       "      <td>35039</td>\n",
       "      <td>2259952</td>\n",
       "      <td>30.814</td>\n",
       "    </tr>\n",
       "  </tbody>\n",
       "</table>\n",
       "<p>35040 rows × 2 columns</p>\n",
       "</div>"
      ],
      "text/plain": [
       "        row_id  meter_reading\n",
       "0            0        155.096\n",
       "1          129        157.546\n",
       "2          258        155.900\n",
       "3          387        157.603\n",
       "4          516        156.628\n",
       "...        ...            ...\n",
       "35035  2259436         33.147\n",
       "35036  2259565         31.234\n",
       "35037  2259694         31.262\n",
       "35038  2259823         31.239\n",
       "35039  2259952         30.814\n",
       "\n",
       "[35040 rows x 2 columns]"
      ]
     },
     "execution_count": 323,
     "metadata": {},
     "output_type": "execute_result"
    }
   ],
   "source": [
    "final_submit"
   ]
  },
  {
   "cell_type": "code",
   "execution_count": null,
   "metadata": {},
   "outputs": [],
   "source": []
  }
 ],
 "metadata": {
  "kernelspec": {
   "display_name": "Python 3",
   "language": "python",
   "name": "python3"
  },
  "language_info": {
   "codemirror_mode": {
    "name": "ipython",
    "version": 3
   },
   "file_extension": ".py",
   "mimetype": "text/x-python",
   "name": "python",
   "nbconvert_exporter": "python",
   "pygments_lexer": "ipython3",
   "version": "3.7.3"
  }
 },
 "nbformat": 4,
 "nbformat_minor": 2
}
