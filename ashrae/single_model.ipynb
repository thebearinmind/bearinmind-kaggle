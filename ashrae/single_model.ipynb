{
 "cells": [
  {
   "cell_type": "code",
   "execution_count": 5,
   "metadata": {},
   "outputs": [
    {
     "name": "stderr",
     "output_type": "stream",
     "text": [
      "Using TensorFlow backend.\n"
     ]
    }
   ],
   "source": [
    "import sys\n",
    "#sys.path.insert(0, '/home/jovyan/work/Molecular_Properties/model-pipeline/src')\n",
    "import pandas as pd\n",
    "import warnings\n",
    "import numpy as np\n",
    "from sklearn.preprocessing import LabelEncoder, OneHotEncoder\n",
    "#from model_construction import prepare_data_split, run_model, show_varimp\n",
    "from bearinmind_pipeline.data_preprocessing import dataPreprocessing as dp\n",
    "#from bearinmind_pipeline.model_construction import modelBuilder as mb\n",
    "import bearinmind_pipeline.model_construction as mc\n",
    "from numpy import inf\n",
    "from sklearn.metrics import mean_squared_error\n",
    "from math import sqrt\n",
    "import gc\n",
    "from tqdm import tqdm_notebook, tqdm \n",
    "import matplotlib.pyplot as plt\n",
    "import datetime\n",
    "import json\n",
    "from scipy import stats\n",
    "import holidays\n",
    "pd.set_option('display.max_columns', 500)\n",
    "pd.set_option('display.float_format', lambda x: '%.3f' % x)"
   ]
  },
  {
   "cell_type": "code",
   "execution_count": 199,
   "metadata": {},
   "outputs": [],
   "source": [
    "df_train = pd.read_csv('./data/train.csv')\n",
    "df_test = pd.read_csv('./data/test.csv')\n",
    "mapping = pd.read_csv('./data/building_metadata.csv')"
   ]
  },
  {
   "cell_type": "code",
   "execution_count": 200,
   "metadata": {},
   "outputs": [],
   "source": [
    "weather_train = pd.read_csv('./data/weather_train.csv')\n",
    "weather_test = pd.read_csv('./data/weather_test.csv')"
   ]
  },
  {
   "cell_type": "code",
   "execution_count": 201,
   "metadata": {},
   "outputs": [],
   "source": [
    "### Add Holidays ###\n",
    "def get_holidays(df):\n",
    "    en_holidays = holidays.England()\n",
    "    ir_holidays = holidays.Ireland()\n",
    "    ca_holidays = holidays.Canada()\n",
    "    us_holidays = holidays.UnitedStates()\n",
    "    en_idx = df.query('site_id == 1 or site_id == 5').index\n",
    "    ir_idx = df.query('site_id == 12').index\n",
    "    ca_idx = df.query('site_id == 7 or site_id == 11').index\n",
    "    us_idx = df.query('site_id == 0 or site_id == 2 or site_id == 3 or site_id == 4 or site_id == 6 or site_id == 8 or site_id == 9 or site_id == 10 or site_id == 13 or site_id == 14 or site_id == 15').index\n",
    "    df['IsHoliday'] = 0\n",
    "    df.loc[en_idx, 'IsHoliday'] = df.loc[en_idx, 'timestamp'].apply(lambda x: en_holidays.get(x, default=0))\n",
    "    df.loc[ir_idx, 'IsHoliday'] = df.loc[ir_idx, 'timestamp'].apply(lambda x: ir_holidays.get(x, default=0))\n",
    "    df.loc[ca_idx, 'IsHoliday'] = df.loc[ca_idx, 'timestamp'].apply(lambda x: ca_holidays.get(x, default=0))\n",
    "    df.loc[us_idx, 'IsHoliday'] = df.loc[us_idx, 'timestamp'].apply(lambda x: us_holidays.get(x, default=0))\n",
    "    holiday_idx = df['IsHoliday'] != 0\n",
    "    df.loc[holiday_idx, 'IsHoliday'] = 1\n",
    "    df['IsHoliday'] = df['IsHoliday'].astype(np.uint8)\n",
    "    \n",
    "    return df"
   ]
  },
  {
   "cell_type": "code",
   "execution_count": 202,
   "metadata": {},
   "outputs": [],
   "source": [
    "weather_train = get_holidays(weather_train)\n",
    "weather_test = get_holidays(weather_test)"
   ]
  },
  {
   "cell_type": "code",
   "execution_count": 203,
   "metadata": {},
   "outputs": [],
   "source": [
    "timediff = {0:4,1:0,2:7,3:4,4:7,5:0,6:4,7:4,8:4,9:5,10:7,11:4,12:0,13:5,14:4,15:4}\n",
    "weather_train['timediff']= weather_train['site_id'].map(timediff)\n",
    "weather_test['timediff']= weather_test['site_id'].map(timediff)\n",
    "\n",
    "weather_train['timediff'] = weather_train['timediff'].apply(lambda x: datetime.timedelta(hours=x))\n",
    "weather_test['timediff'] = weather_test['timediff'].apply(lambda x: datetime.timedelta(hours=x))\n",
    "\n",
    "weather_train['timestamp'] = pd.to_datetime(weather_train['timestamp']) \n",
    "weather_test['timestamp'] = pd.to_datetime(weather_test['timestamp'])\n",
    "\n",
    "weather_train['timestamp'] = weather_train['timestamp'] - weather_train['timediff']\n",
    "weather_test['timestamp'] = weather_test['timestamp'] - weather_test['timediff']"
   ]
  },
  {
   "cell_type": "code",
   "execution_count": 204,
   "metadata": {},
   "outputs": [
    {
     "data": {
      "text/html": [
       "<div>\n",
       "<style scoped>\n",
       "    .dataframe tbody tr th:only-of-type {\n",
       "        vertical-align: middle;\n",
       "    }\n",
       "\n",
       "    .dataframe tbody tr th {\n",
       "        vertical-align: top;\n",
       "    }\n",
       "\n",
       "    .dataframe thead th {\n",
       "        text-align: right;\n",
       "    }\n",
       "</style>\n",
       "<table border=\"1\" class=\"dataframe\">\n",
       "  <thead>\n",
       "    <tr style=\"text-align: right;\">\n",
       "      <th></th>\n",
       "      <th>site_id</th>\n",
       "      <th>timestamp</th>\n",
       "      <th>air_temperature</th>\n",
       "      <th>cloud_coverage</th>\n",
       "      <th>dew_temperature</th>\n",
       "      <th>precip_depth_1_hr</th>\n",
       "      <th>sea_level_pressure</th>\n",
       "      <th>wind_direction</th>\n",
       "      <th>wind_speed</th>\n",
       "      <th>IsHoliday</th>\n",
       "      <th>timediff</th>\n",
       "    </tr>\n",
       "  </thead>\n",
       "  <tbody>\n",
       "    <tr>\n",
       "      <td>0</td>\n",
       "      <td>0</td>\n",
       "      <td>2015-12-31 20:00:00</td>\n",
       "      <td>25.000</td>\n",
       "      <td>6.000</td>\n",
       "      <td>20.000</td>\n",
       "      <td>nan</td>\n",
       "      <td>1019.700</td>\n",
       "      <td>0.000</td>\n",
       "      <td>0.000</td>\n",
       "      <td>1</td>\n",
       "      <td>04:00:00</td>\n",
       "    </tr>\n",
       "    <tr>\n",
       "      <td>1</td>\n",
       "      <td>0</td>\n",
       "      <td>2015-12-31 21:00:00</td>\n",
       "      <td>24.400</td>\n",
       "      <td>nan</td>\n",
       "      <td>21.100</td>\n",
       "      <td>-1.000</td>\n",
       "      <td>1020.200</td>\n",
       "      <td>70.000</td>\n",
       "      <td>1.500</td>\n",
       "      <td>1</td>\n",
       "      <td>04:00:00</td>\n",
       "    </tr>\n",
       "    <tr>\n",
       "      <td>2</td>\n",
       "      <td>0</td>\n",
       "      <td>2015-12-31 22:00:00</td>\n",
       "      <td>22.800</td>\n",
       "      <td>2.000</td>\n",
       "      <td>21.100</td>\n",
       "      <td>0.000</td>\n",
       "      <td>1020.200</td>\n",
       "      <td>0.000</td>\n",
       "      <td>0.000</td>\n",
       "      <td>1</td>\n",
       "      <td>04:00:00</td>\n",
       "    </tr>\n",
       "    <tr>\n",
       "      <td>3</td>\n",
       "      <td>0</td>\n",
       "      <td>2015-12-31 23:00:00</td>\n",
       "      <td>21.100</td>\n",
       "      <td>2.000</td>\n",
       "      <td>20.600</td>\n",
       "      <td>0.000</td>\n",
       "      <td>1020.100</td>\n",
       "      <td>0.000</td>\n",
       "      <td>0.000</td>\n",
       "      <td>1</td>\n",
       "      <td>04:00:00</td>\n",
       "    </tr>\n",
       "    <tr>\n",
       "      <td>4</td>\n",
       "      <td>0</td>\n",
       "      <td>2016-01-01 00:00:00</td>\n",
       "      <td>20.000</td>\n",
       "      <td>2.000</td>\n",
       "      <td>20.000</td>\n",
       "      <td>-1.000</td>\n",
       "      <td>1020.000</td>\n",
       "      <td>250.000</td>\n",
       "      <td>2.600</td>\n",
       "      <td>1</td>\n",
       "      <td>04:00:00</td>\n",
       "    </tr>\n",
       "  </tbody>\n",
       "</table>\n",
       "</div>"
      ],
      "text/plain": [
       "   site_id           timestamp  air_temperature  cloud_coverage  \\\n",
       "0        0 2015-12-31 20:00:00           25.000           6.000   \n",
       "1        0 2015-12-31 21:00:00           24.400             nan   \n",
       "2        0 2015-12-31 22:00:00           22.800           2.000   \n",
       "3        0 2015-12-31 23:00:00           21.100           2.000   \n",
       "4        0 2016-01-01 00:00:00           20.000           2.000   \n",
       "\n",
       "   dew_temperature  precip_depth_1_hr  sea_level_pressure  wind_direction  \\\n",
       "0           20.000                nan            1019.700           0.000   \n",
       "1           21.100             -1.000            1020.200          70.000   \n",
       "2           21.100              0.000            1020.200           0.000   \n",
       "3           20.600              0.000            1020.100           0.000   \n",
       "4           20.000             -1.000            1020.000         250.000   \n",
       "\n",
       "   wind_speed  IsHoliday timediff  \n",
       "0       0.000          1 04:00:00  \n",
       "1       1.500          1 04:00:00  \n",
       "2       0.000          1 04:00:00  \n",
       "3       0.000          1 04:00:00  \n",
       "4       2.600          1 04:00:00  "
      ]
     },
     "execution_count": 204,
     "metadata": {},
     "output_type": "execute_result"
    }
   ],
   "source": [
    "weather_train.head()"
   ]
  },
  {
   "cell_type": "code",
   "execution_count": 205,
   "metadata": {},
   "outputs": [],
   "source": [
    "df_train = df_train.merge(mapping, how = \"left\", on = \"building_id\")\n",
    "df_test = df_test.merge(mapping, how = \"left\", on = \"building_id\")"
   ]
  },
  {
   "cell_type": "code",
   "execution_count": 207,
   "metadata": {},
   "outputs": [],
   "source": [
    "df_train['timestamp'] = pd.to_datetime(df_train['timestamp'])\n",
    "df_test['timestamp'] = pd.to_datetime(df_test['timestamp'])"
   ]
  },
  {
   "cell_type": "code",
   "execution_count": 208,
   "metadata": {},
   "outputs": [],
   "source": [
    "df_train = df_train.merge(weather_train, how = \"left\", on = [\"site_id\", \"timestamp\"])\n",
    "df_test = df_test.merge(weather_test, how = \"left\", on =  [\"site_id\", \"timestamp\"])"
   ]
  },
  {
   "cell_type": "code",
   "execution_count": 157,
   "metadata": {},
   "outputs": [],
   "source": [
    "del weather_train \n",
    "del weather_test"
   ]
  },
  {
   "cell_type": "code",
   "execution_count": 211,
   "metadata": {},
   "outputs": [],
   "source": [
    "df_train = df_train.drop(['timediff'], axis = 1)\n",
    "df_test = df_test.drop(['timediff'], axis = 1)"
   ]
  },
  {
   "cell_type": "code",
   "execution_count": 213,
   "metadata": {},
   "outputs": [],
   "source": [
    "def rmsle(y, yhat):\n",
    "    score = np.sqrt(np.mean(np.power(np.log(yhat+1)-np.log(y.reset_index(drop=True)+1), 2)))\n",
    "    return(score)"
   ]
  },
  {
   "cell_type": "code",
   "execution_count": 123,
   "metadata": {},
   "outputs": [],
   "source": [
    "# Check one building\n",
    "df_train_build = df_train[(df_train['building_id'] == 46) & (df_train['meter'] == 0)]"
   ]
  },
  {
   "cell_type": "code",
   "execution_count": 214,
   "metadata": {},
   "outputs": [],
   "source": [
    "### Intrapolate cloud coverage\n",
    "df_train['cloud_coverage'] = df_train.groupby(['building_id', 'meter'])['cloud_coverage'].apply(lambda x : x.interpolate(method = \"spline\", order = 1,limit_direction = \"both\", limit = 1000))\n",
    "df_test['cloud_coverage'] = df_test.groupby(['building_id', 'meter'])['cloud_coverage'].apply(lambda x : x.interpolate(method = \"spline\", order = 1, limit_direction = \"both\", limit = 1000))"
   ]
  },
  {
   "cell_type": "code",
   "execution_count": null,
   "metadata": {},
   "outputs": [],
   "source": [
    "### Intrapolate air temperature\n",
    "df_train['air_temperature'] = df_train.groupby(['building_id', 'meter'])['air_temperature'].apply(lambda x : x.interpolate(method = \"spline\", order = 1, limit_direction = \"both\"))\n",
    "df_test['air_temperature'] = df_test.groupby(['building_id', 'meter'])['air_temperature'].apply(lambda x : x.interpolate(method = \"spline\", order = 1, limit_direction = \"both\"))"
   ]
  },
  {
   "cell_type": "code",
   "execution_count": null,
   "metadata": {},
   "outputs": [],
   "source": [
    "df_train.head()"
   ]
  },
  {
   "cell_type": "code",
   "execution_count": null,
   "metadata": {},
   "outputs": [],
   "source": [
    "#### Take a Sample ####\n",
    "#df_train = df_train.sample(n=int(df_train.shape[0]*0.1), random_state=1)\n",
    "#df_test = df_test.sample(n=int(df_test.shape[0]*0.1), random_state=1)"
   ]
  },
  {
   "cell_type": "code",
   "execution_count": null,
   "metadata": {},
   "outputs": [],
   "source": [
    "#df_train[\"Month\"] = pd.to_datetime(df_train[\"timestamp\"]).dt.month\n",
    "#df_test[\"Month\"] = pd.to_datetime(df_test[\"timestamp\"]).dt.month"
   ]
  },
  {
   "cell_type": "code",
   "execution_count": null,
   "metadata": {},
   "outputs": [],
   "source": [
    "df_train[\"Day\"] = pd.to_datetime(df_train[\"timestamp\"]).dt.day\n",
    "df_test[\"Day\"] = pd.to_datetime(df_test[\"timestamp\"]).dt.day"
   ]
  },
  {
   "cell_type": "code",
   "execution_count": null,
   "metadata": {},
   "outputs": [],
   "source": [
    "df_train[\"Hour\"] = pd.to_datetime(df_train[\"timestamp\"]).dt.hour\n",
    "df_test[\"Hour\"] = pd.to_datetime(df_test[\"timestamp\"]).dt.hour"
   ]
  },
  {
   "cell_type": "code",
   "execution_count": null,
   "metadata": {},
   "outputs": [],
   "source": [
    "#df_train.to_csv(\"df_train.csv\", index = False)\n",
    "#df_test.to_csv(\"df_test.csv\", index = False)"
   ]
  },
  {
   "cell_type": "code",
   "execution_count": null,
   "metadata": {},
   "outputs": [],
   "source": [
    "#df_train = pd.read_csv('./df_train.csv')\n",
    "#df_test = pd.read_csv('./df_test.csv')"
   ]
  },
  {
   "cell_type": "code",
   "execution_count": null,
   "metadata": {},
   "outputs": [],
   "source": [
    "plt.plot(pd.to_datetime(df_train[(df_train['building_id']==0) & (df_train['meter']==0)]['timestamp']).dt.date, df_train[(df_train['building_id']==0) & (df_train['meter']==0)]['precip_depth_1_hr'])"
   ]
  },
  {
   "cell_type": "code",
   "execution_count": null,
   "metadata": {},
   "outputs": [],
   "source": [
    "df_train['precip_depth_1_hr'] = df_train.groupby(['building_id', 'meter'])['precip_depth_1_hr'].apply(lambda x : x.interpolate(method = \"linear\", order = 1, limit_direction = \"both\"))\n",
    "df_test['precip_depth_1_hr'] = df_test.groupby(['building_id', 'meter'])['precip_depth_1_hr'].apply(lambda x : x.interpolate(method = \"linear\", order = 1, limit_direction = \"both\"))"
   ]
  },
  {
   "cell_type": "code",
   "execution_count": null,
   "metadata": {},
   "outputs": [],
   "source": [
    "df_train['sea_level_pressure'] = df_train.groupby(['building_id', 'meter'])['sea_level_pressure'].apply(lambda x : x.interpolate(method = \"linear\", order = 1, limit_direction = \"both\"))\n",
    "df_test['sea_level_pressure'] = df_test.groupby(['building_id', 'meter'])['sea_level_pressure'].apply(lambda x : x.interpolate(method = \"linear\", order = 1, limit_direction = \"both\"))"
   ]
  },
  {
   "cell_type": "code",
   "execution_count": null,
   "metadata": {},
   "outputs": [],
   "source": [
    "df_train['wind_direction'] = df_train.groupby(['building_id', 'meter'])['wind_direction'].apply(lambda x : x.interpolate(method = \"linear\", order = 1, limit_direction = \"both\"))\n",
    "df_test['wind_direction'] = df_test.groupby(['building_id', 'meter'])['wind_direction'].apply(lambda x : x.interpolate(method = \"linear\", order = 1, limit_direction = \"both\"))"
   ]
  },
  {
   "cell_type": "code",
   "execution_count": null,
   "metadata": {},
   "outputs": [],
   "source": [
    "df_train['wind_speed'] = df_train.groupby(['building_id', 'meter'])['wind_speed'].apply(lambda x : x.interpolate(method = \"linear\", order = 1, limit_direction = \"both\"))\n",
    "df_test['wind_speed'] = df_test.groupby(['building_id', 'meter'])['wind_speed'].apply(lambda x : x.interpolate(method = \"linear\", order = 1, limit_direction = \"both\"))"
   ]
  },
  {
   "cell_type": "code",
   "execution_count": null,
   "metadata": {},
   "outputs": [],
   "source": [
    "df_train['dew_temperature'] = df_train.groupby(['building_id', 'meter'])['dew_temperature'].apply(lambda x : x.interpolate(method = \"linear\", order = 1, limit_direction = \"both\"))\n",
    "df_test['dew_temperature'] = df_test.groupby(['building_id', 'meter'])['dew_temperature'].apply(lambda x : x.interpolate(method = \"linear\", order = 1, limit_direction = \"both\"))"
   ]
  },
  {
   "cell_type": "code",
   "execution_count": null,
   "metadata": {},
   "outputs": [],
   "source": [
    "df_train[\"DayOfWeek\"] = pd.to_datetime(df_train[\"timestamp\"]).dt.dayofweek\n",
    "df_test[\"DayOfWeek\"] = pd.to_datetime(df_test[\"timestamp\"]).dt.dayofweek"
   ]
  },
  {
   "cell_type": "code",
   "execution_count": null,
   "metadata": {},
   "outputs": [],
   "source": [
    "df_train.head()"
   ]
  },
  {
   "cell_type": "code",
   "execution_count": null,
   "metadata": {},
   "outputs": [],
   "source": [
    "#df_train = dp.create_stats_features(df_train, 'dew_temperature', ['site_id', 'Month'])\n",
    "#df_test = dp.create_stats_features(df_test, 'dew_temperature', ['site_id', 'Month'])"
   ]
  },
  {
   "cell_type": "code",
   "execution_count": null,
   "metadata": {},
   "outputs": [],
   "source": [
    "#df_train[\"air_temperature_log\"] = np.log(df_train['air_temperature'])\n",
    "#df_test[\"air_temperature_log\"] = np.log(df_test['air_temperature'])"
   ]
  },
  {
   "cell_type": "code",
   "execution_count": null,
   "metadata": {},
   "outputs": [],
   "source": [
    "#df_train[\"Age\"] = pd.to_datetime(df_train[\"timestamp\"]).dt.year - df_train[\"year_built\"]\n",
    "#df_test[\"Age\"] = pd.to_datetime(df_test[\"timestamp\"]).dt.year - df_test[\"year_built\"]"
   ]
  },
  {
   "cell_type": "code",
   "execution_count": null,
   "metadata": {},
   "outputs": [],
   "source": [
    "### Clean Electricity ###\n",
    "df_train = df_train[~((df_train['site_id'] == 0) & (df_train['meter'] == 0) & (pd.to_datetime(df_train['timestamp']) < pd.to_datetime('2016-05-20 18:00:00')))]"
   ]
  },
  {
   "cell_type": "code",
   "execution_count": null,
   "metadata": {},
   "outputs": [],
   "source": [
    "df_train = df_train[~((df_train['building_id'] == 799) & (df_train['meter'] == 0) & (pd.to_datetime(df_train['timestamp']) < pd.to_datetime('2016-06-01 12:00:00')))]\n",
    "df_train = df_train[~((df_train['building_id'] == 802) & (df_train['meter'] == 0) & (pd.to_datetime(df_train['timestamp']) < pd.to_datetime('2016-08-23 08:00:00')))]\n",
    "df_train = df_train[~((df_train['building_id'] == 803) & (df_train['meter'] == 0) & (pd.to_datetime(df_train['timestamp']) > pd.to_datetime('2016-09-24 20:00:00')))]"
   ]
  },
  {
   "cell_type": "code",
   "execution_count": 237,
   "metadata": {},
   "outputs": [],
   "source": [
    "df_train.to_csv(\"df_train.csv.gz\", index = False, compression = 'gzip')\n",
    "df_test.to_csv(\"df_test.csv.gz\", index = False, compression = 'gzip')"
   ]
  },
  {
   "cell_type": "code",
   "execution_count": 159,
   "metadata": {},
   "outputs": [],
   "source": [
    "df_train = pd.read_csv('./df_train.csv.gz', compression = 'gzip')\n",
    "df_test = pd.read_csv('./df_test.csv.gz', compression = 'gzip')"
   ]
  },
  {
   "cell_type": "code",
   "execution_count": 160,
   "metadata": {},
   "outputs": [],
   "source": [
    "### Lags for cloud coverage and air temperature\n",
    "#for i in range(12):\n",
    "#    df_train[f'cloud_coverage_lag{i+1}'] = df_train.groupby(['building_id', 'meter'])['cloud_coverage'].shift(i+1)\n",
    "#    df_test[f'cloud_coverage_lag{i+1}'] = df_test.groupby(['building_id', 'meter'])['cloud_coverage'].shift(i+1)\n",
    "#    df_train[f'air_temperature_lag{i+1}'] = df_train.groupby(['building_id', 'meter'])['air_temperature'].shift(i+1)\n",
    "#    df_test[f'air_temperature_lag{i+1}'] = df_test.groupby(['building_id', 'meter'])['air_temperature'].shift(i+1)"
   ]
  },
  {
   "cell_type": "code",
   "execution_count": 161,
   "metadata": {},
   "outputs": [],
   "source": [
    "### Drop zero values in Electricity ###\n",
    "df_train = df_train.drop(df_train[(df_train['meter'] == 0) \n",
    "                       & (df_train['meter_reading'] == 0.0)].index)"
   ]
  },
  {
   "cell_type": "code",
   "execution_count": 162,
   "metadata": {},
   "outputs": [],
   "source": [
    "### Log of Square fit plus year build ###\n",
    "#df_train['year_built'] = df_train['year_built'] - 1900\n",
    "#df_train['square_feet'] = np.log(df_train['square_feet'])\n",
    "#df_test['year_built'] = df_test['year_built'] - 1900\n",
    "#df_test['square_feet'] = np.log(df_test['square_feet'])"
   ]
  },
  {
   "cell_type": "code",
   "execution_count": 163,
   "metadata": {},
   "outputs": [],
   "source": [
    "def roll_diff(x):\n",
    "    return x[-1] - x[0]"
   ]
  },
  {
   "cell_type": "code",
   "execution_count": 164,
   "metadata": {},
   "outputs": [],
   "source": [
    "def check_constants(grp):\n",
    "    grp['is_constant_meter'] = grp['meter_reading'].rolling(2).apply(roll_diff)\n",
    "    return grp"
   ]
  },
  {
   "cell_type": "code",
   "execution_count": 165,
   "metadata": {},
   "outputs": [
    {
     "name": "stderr",
     "output_type": "stream",
     "text": [
      "/opt/conda/lib/python3.7/site-packages/ipykernel_launcher.py:2: FutureWarning: Currently, 'apply' passes the values as ndarrays to the applied function. In the future, this will change to passing it as Series objects. You need to specify 'raw=True' to keep the current behaviour, and you can pass 'raw=False' to silence this warning\n",
      "  \n"
     ]
    }
   ],
   "source": [
    "# calculate rolling diff for constant detection\n",
    "df_train = df_train.groupby(['building_id', 'meter'], as_index = False).apply(lambda x: check_constants(x))"
   ]
  },
  {
   "cell_type": "code",
   "execution_count": 166,
   "metadata": {},
   "outputs": [
    {
     "data": {
      "text/plain": [
       "(19682552, 21)"
      ]
     },
     "execution_count": 166,
     "metadata": {},
     "output_type": "execute_result"
    }
   ],
   "source": [
    "df_train.shape"
   ]
  },
  {
   "cell_type": "code",
   "execution_count": 167,
   "metadata": {},
   "outputs": [],
   "source": [
    "# convert constant meter readings to nan\n",
    "df_train.loc[df_train['is_constant_meter'] == 0.0, 'meter_reading'] = np.nan"
   ]
  },
  {
   "cell_type": "code",
   "execution_count": 168,
   "metadata": {},
   "outputs": [
    {
     "data": {
      "text/plain": [
       "2805009"
      ]
     },
     "execution_count": 168,
     "metadata": {},
     "output_type": "execute_result"
    }
   ],
   "source": [
    "df_train['meter_reading'].isnull().sum()"
   ]
  },
  {
   "cell_type": "code",
   "execution_count": null,
   "metadata": {},
   "outputs": [],
   "source": [
    "test = df_train.copy()"
   ]
  },
  {
   "cell_type": "code",
   "execution_count": null,
   "metadata": {},
   "outputs": [],
   "source": [
    "# Intrapolate nan values of meter reading \n",
    "test['meter_reading'] = test.groupby(['building_id', 'meter'])['meter_reading'].apply(lambda x : x.interpolate(method = \"spline\", order = 2, limit_direction = \"both\"))"
   ]
  },
  {
   "cell_type": "code",
   "execution_count": null,
   "metadata": {},
   "outputs": [],
   "source": [
    "test['meter_reading'].isnull().sum()"
   ]
  },
  {
   "cell_type": "code",
   "execution_count": null,
   "metadata": {},
   "outputs": [],
   "source": [
    "test_viz = df_train[(df_train['meter'] ==  1) & (df_train['building_id'] == 7)] "
   ]
  },
  {
   "cell_type": "code",
   "execution_count": null,
   "metadata": {},
   "outputs": [],
   "source": [
    "plt.figure(figsize=(20,20))\n",
    "plt.plot(pd.to_datetime(test_viz[\"timestamp\"]).dt.date, test_viz['meter_reading'])"
   ]
  },
  {
   "cell_type": "code",
   "execution_count": 146,
   "metadata": {},
   "outputs": [],
   "source": [
    "################ Manual check of singe buildings ##################\n",
    "df_train_elec = df_train[(df_train['site_id'] == 0) & (df_train['meter'] == 1)] \n",
    "df_train_elec_test = df_train_elec[df_train_elec['building_id'] == 753]"
   ]
  },
  {
   "cell_type": "code",
   "execution_count": 147,
   "metadata": {},
   "outputs": [
    {
     "data": {
      "text/html": [
       "<div>\n",
       "<style scoped>\n",
       "    .dataframe tbody tr th:only-of-type {\n",
       "        vertical-align: middle;\n",
       "    }\n",
       "\n",
       "    .dataframe tbody tr th {\n",
       "        vertical-align: top;\n",
       "    }\n",
       "\n",
       "    .dataframe thead th {\n",
       "        text-align: right;\n",
       "    }\n",
       "</style>\n",
       "<table border=\"1\" class=\"dataframe\">\n",
       "  <thead>\n",
       "    <tr style=\"text-align: right;\">\n",
       "      <th></th>\n",
       "      <th>building_id</th>\n",
       "      <th>meter</th>\n",
       "      <th>timestamp</th>\n",
       "      <th>meter_reading</th>\n",
       "      <th>site_id</th>\n",
       "      <th>primary_use</th>\n",
       "      <th>square_feet</th>\n",
       "      <th>year_built</th>\n",
       "      <th>floor_count</th>\n",
       "      <th>air_temperature</th>\n",
       "      <th>cloud_coverage</th>\n",
       "      <th>dew_temperature</th>\n",
       "      <th>precip_depth_1_hr</th>\n",
       "      <th>sea_level_pressure</th>\n",
       "      <th>wind_direction</th>\n",
       "      <th>wind_speed</th>\n",
       "      <th>IsHoliday</th>\n",
       "      <th>Day</th>\n",
       "      <th>Hour</th>\n",
       "      <th>DayOfWeek</th>\n",
       "      <th>is_constant_meter</th>\n",
       "    </tr>\n",
       "  </thead>\n",
       "  <tbody>\n",
       "    <tr>\n",
       "      <td>3022992</td>\n",
       "      <td>7</td>\n",
       "      <td>1</td>\n",
       "      <td>2016-02-29 09:00:00</td>\n",
       "      <td>1857.260</td>\n",
       "      <td>0</td>\n",
       "      <td>Education</td>\n",
       "      <td>121074</td>\n",
       "      <td>1989.000</td>\n",
       "      <td>nan</td>\n",
       "      <td>13.300</td>\n",
       "      <td>9.635</td>\n",
       "      <td>11.100</td>\n",
       "      <td>0.000</td>\n",
       "      <td>1023.100</td>\n",
       "      <td>0.000</td>\n",
       "      <td>0.000</td>\n",
       "      <td>0.000</td>\n",
       "      <td>29</td>\n",
       "      <td>9</td>\n",
       "      <td>0</td>\n",
       "      <td>nan</td>\n",
       "    </tr>\n",
       "    <tr>\n",
       "      <td>3022993</td>\n",
       "      <td>9</td>\n",
       "      <td>1</td>\n",
       "      <td>2016-02-29 09:00:00</td>\n",
       "      <td>590.945</td>\n",
       "      <td>0</td>\n",
       "      <td>Office</td>\n",
       "      <td>27000</td>\n",
       "      <td>2010.000</td>\n",
       "      <td>nan</td>\n",
       "      <td>13.300</td>\n",
       "      <td>9.347</td>\n",
       "      <td>11.100</td>\n",
       "      <td>0.000</td>\n",
       "      <td>1023.100</td>\n",
       "      <td>0.000</td>\n",
       "      <td>0.000</td>\n",
       "      <td>0.000</td>\n",
       "      <td>29</td>\n",
       "      <td>9</td>\n",
       "      <td>0</td>\n",
       "      <td>nan</td>\n",
       "    </tr>\n",
       "    <tr>\n",
       "      <td>3022994</td>\n",
       "      <td>13</td>\n",
       "      <td>1</td>\n",
       "      <td>2016-02-29 09:00:00</td>\n",
       "      <td>1224.100</td>\n",
       "      <td>0</td>\n",
       "      <td>Education</td>\n",
       "      <td>99380</td>\n",
       "      <td>2000.000</td>\n",
       "      <td>nan</td>\n",
       "      <td>13.300</td>\n",
       "      <td>7.035</td>\n",
       "      <td>11.100</td>\n",
       "      <td>0.000</td>\n",
       "      <td>1023.100</td>\n",
       "      <td>0.000</td>\n",
       "      <td>0.000</td>\n",
       "      <td>0.000</td>\n",
       "      <td>29</td>\n",
       "      <td>9</td>\n",
       "      <td>0</td>\n",
       "      <td>nan</td>\n",
       "    </tr>\n",
       "    <tr>\n",
       "      <td>3022995</td>\n",
       "      <td>14</td>\n",
       "      <td>1</td>\n",
       "      <td>2016-02-29 09:00:00</td>\n",
       "      <td>1435.150</td>\n",
       "      <td>0</td>\n",
       "      <td>Education</td>\n",
       "      <td>86250</td>\n",
       "      <td>2013.000</td>\n",
       "      <td>nan</td>\n",
       "      <td>13.300</td>\n",
       "      <td>9.731</td>\n",
       "      <td>11.100</td>\n",
       "      <td>0.000</td>\n",
       "      <td>1023.100</td>\n",
       "      <td>0.000</td>\n",
       "      <td>0.000</td>\n",
       "      <td>0.000</td>\n",
       "      <td>29</td>\n",
       "      <td>9</td>\n",
       "      <td>0</td>\n",
       "      <td>nan</td>\n",
       "    </tr>\n",
       "    <tr>\n",
       "      <td>3022996</td>\n",
       "      <td>15</td>\n",
       "      <td>1</td>\n",
       "      <td>2016-02-29 09:00:00</td>\n",
       "      <td>422.104</td>\n",
       "      <td>0</td>\n",
       "      <td>Office</td>\n",
       "      <td>83957</td>\n",
       "      <td>1974.000</td>\n",
       "      <td>nan</td>\n",
       "      <td>13.300</td>\n",
       "      <td>9.731</td>\n",
       "      <td>11.100</td>\n",
       "      <td>0.000</td>\n",
       "      <td>1023.100</td>\n",
       "      <td>0.000</td>\n",
       "      <td>0.000</td>\n",
       "      <td>0.000</td>\n",
       "      <td>29</td>\n",
       "      <td>9</td>\n",
       "      <td>0</td>\n",
       "      <td>nan</td>\n",
       "    </tr>\n",
       "  </tbody>\n",
       "</table>\n",
       "</div>"
      ],
      "text/plain": [
       "         building_id  meter            timestamp  meter_reading  site_id  \\\n",
       "3022992            7      1  2016-02-29 09:00:00       1857.260        0   \n",
       "3022993            9      1  2016-02-29 09:00:00        590.945        0   \n",
       "3022994           13      1  2016-02-29 09:00:00       1224.100        0   \n",
       "3022995           14      1  2016-02-29 09:00:00       1435.150        0   \n",
       "3022996           15      1  2016-02-29 09:00:00        422.104        0   \n",
       "\n",
       "        primary_use  square_feet  year_built  floor_count  air_temperature  \\\n",
       "3022992   Education       121074    1989.000          nan           13.300   \n",
       "3022993      Office        27000    2010.000          nan           13.300   \n",
       "3022994   Education        99380    2000.000          nan           13.300   \n",
       "3022995   Education        86250    2013.000          nan           13.300   \n",
       "3022996      Office        83957    1974.000          nan           13.300   \n",
       "\n",
       "         cloud_coverage  dew_temperature  precip_depth_1_hr  \\\n",
       "3022992           9.635           11.100              0.000   \n",
       "3022993           9.347           11.100              0.000   \n",
       "3022994           7.035           11.100              0.000   \n",
       "3022995           9.731           11.100              0.000   \n",
       "3022996           9.731           11.100              0.000   \n",
       "\n",
       "         sea_level_pressure  wind_direction  wind_speed  IsHoliday  Day  Hour  \\\n",
       "3022992            1023.100           0.000       0.000      0.000   29     9   \n",
       "3022993            1023.100           0.000       0.000      0.000   29     9   \n",
       "3022994            1023.100           0.000       0.000      0.000   29     9   \n",
       "3022995            1023.100           0.000       0.000      0.000   29     9   \n",
       "3022996            1023.100           0.000       0.000      0.000   29     9   \n",
       "\n",
       "         DayOfWeek  is_constant_meter  \n",
       "3022992          0                nan  \n",
       "3022993          0                nan  \n",
       "3022994          0                nan  \n",
       "3022995          0                nan  \n",
       "3022996          0                nan  "
      ]
     },
     "execution_count": 147,
     "metadata": {},
     "output_type": "execute_result"
    }
   ],
   "source": [
    "df_train_elec.head()"
   ]
  },
  {
   "cell_type": "code",
   "execution_count": 148,
   "metadata": {},
   "outputs": [
    {
     "data": {
      "text/plain": [
       "[<matplotlib.lines.Line2D at 0x7f8c02757470>]"
      ]
     },
     "execution_count": 148,
     "metadata": {},
     "output_type": "execute_result"
    },
    {
     "data": {
      "image/png": "[encoded data removed]",
      "text/plain": [
       "<Figure size 432x288 with 1 Axes>"
      ]
     },
     "metadata": {
      "needs_background": "light"
     },
     "output_type": "display_data"
    }
   ],
   "source": [
    "z = np.abs(stats.zscore(df_train_elec['meter_reading']))\n",
    "#pd.Series(z).describe()\n",
    "plt.plot(z)"
   ]
  },
  {
   "cell_type": "code",
   "execution_count": 149,
   "metadata": {},
   "outputs": [
    {
     "data": {
      "text/plain": [
       "array([  7,   9,  13,  14,  15,  29,  30,  31,  43,  50,  55,  60,  75,\n",
       "        76,  78,  82,  91,  92,  95,  96,  97, 103,  28,  98])"
      ]
     },
     "execution_count": 149,
     "metadata": {},
     "output_type": "execute_result"
    }
   ],
   "source": [
    "df_train_elec['building_id'].unique()"
   ]
  },
  {
   "cell_type": "code",
   "execution_count": 150,
   "metadata": {},
   "outputs": [],
   "source": [
    "#test = df_train_elec.groupby('building_id', as_index=False).apply(lambda x: x[(np.abs(stats.zscore(x['meter_reading'])) < 5)])\n",
    "#df_train_elec_test[(np.abs(stats.zscore(df_train_elec_test['meter_reading'])) < 5)]\n",
    "#test.shape"
   ]
  },
  {
   "cell_type": "code",
   "execution_count": 151,
   "metadata": {},
   "outputs": [],
   "source": [
    "df_train_elec = df_train[(df_train['meter'] ==  1) & (df_train['building_id'] == 7)] "
   ]
  },
  {
   "cell_type": "code",
   "execution_count": 152,
   "metadata": {},
   "outputs": [],
   "source": [
    "#df_train_elec[pd.to_datetime(df_train_elec['timestamp']) > pd.to_datetime('2016-09-24 20:00:00')]"
   ]
  },
  {
   "cell_type": "code",
   "execution_count": 153,
   "metadata": {},
   "outputs": [],
   "source": [
    "#df_train_elec['building_id'].nunique()"
   ]
  },
  {
   "cell_type": "code",
   "execution_count": 154,
   "metadata": {},
   "outputs": [
    {
     "data": {
      "text/plain": [
       "[<matplotlib.lines.Line2D at 0x7f8c076b3198>]"
      ]
     },
     "execution_count": 154,
     "metadata": {},
     "output_type": "execute_result"
    },
    {
     "data": {
      "image/png": "[encoded data removed]",
      "text/plain": [
       "<Figure size 432x288 with 1 Axes>"
      ]
     },
     "metadata": {
      "needs_background": "light"
     },
     "output_type": "display_data"
    }
   ],
   "source": [
    "z = np.abs(stats.zscore(df_train_elec['meter_reading']))\n",
    "#pd.Series(z).describe()\n",
    "plt.plot(z)"
   ]
  },
  {
   "cell_type": "code",
   "execution_count": 155,
   "metadata": {},
   "outputs": [],
   "source": [
    "#df_train_elec[pd.to_datetime(df_train_elec['timestamp']) > pd.to_datetime('2016-05-20 17:00:00')].head(30) "
   ]
  },
  {
   "cell_type": "code",
   "execution_count": 156,
   "metadata": {},
   "outputs": [
    {
     "name": "stderr",
     "output_type": "stream",
     "text": [
      "/opt/conda/lib/python3.7/site-packages/ipykernel_launcher.py:1: FutureWarning: Currently, 'apply' passes the values as ndarrays to the applied function. In the future, this will change to passing it as Series objects. You need to specify 'raw=True' to keep the current behaviour, and you can pass 'raw=False' to silence this warning\n",
      "  \"\"\"Entry point for launching an IPython kernel.\n"
     ]
    },
    {
     "data": {
      "text/plain": [
       "[<matplotlib.lines.Line2D at 0x7f8bfd6d8f60>]"
      ]
     },
     "execution_count": 156,
     "metadata": {},
     "output_type": "execute_result"
    },
    {
     "data": {
      "image/png": "[encoded data removed]",
      "text/plain": [
       "<Figure size 432x288 with 1 Axes>"
      ]
     },
     "metadata": {
      "needs_background": "light"
     },
     "output_type": "display_data"
    }
   ],
   "source": [
    "plt.plot(df_train_elec['meter_reading'].rolling(2).apply(roll_diff))"
   ]
  },
  {
   "cell_type": "code",
   "execution_count": 157,
   "metadata": {},
   "outputs": [
    {
     "data": {
      "text/plain": [
       "0"
      ]
     },
     "execution_count": 157,
     "metadata": {},
     "output_type": "execute_result"
    }
   ],
   "source": [
    "df_train_elec['meter_reading'].isna().sum()"
   ]
  },
  {
   "cell_type": "code",
   "execution_count": 158,
   "metadata": {},
   "outputs": [
    {
     "data": {
      "text/plain": [
       "[<matplotlib.lines.Line2D at 0x7f8c0c555198>]"
      ]
     },
     "execution_count": 158,
     "metadata": {},
     "output_type": "execute_result"
    },
    {
     "data": {
      "image/png": "[encoded data removed]",
      "text/plain": [
       "<Figure size 1440x1440 with 1 Axes>"
      ]
     },
     "metadata": {
      "needs_background": "light"
     },
     "output_type": "display_data"
    }
   ],
   "source": [
    "plt.figure(figsize=(20,20))\n",
    "plt.plot(pd.to_datetime(df_train_elec[\"timestamp\"]).dt.date, df_train_elec['meter_reading'])"
   ]
  },
  {
   "cell_type": "code",
   "execution_count": null,
   "metadata": {},
   "outputs": [],
   "source": []
  },
  {
   "cell_type": "code",
   "execution_count": 879,
   "metadata": {},
   "outputs": [],
   "source": [
    "#df_train = df_train[df_train[\"meter_reading\"] != 0.0]"
   ]
  },
  {
   "cell_type": "code",
   "execution_count": 880,
   "metadata": {},
   "outputs": [],
   "source": [
    "#encode_cols = [\"primary_use\"]"
   ]
  },
  {
   "cell_type": "code",
   "execution_count": 881,
   "metadata": {},
   "outputs": [],
   "source": [
    "#data = dp.encode_categorical(df_train, df_test, encode_cols) "
   ]
  },
  {
   "cell_type": "code",
   "execution_count": 882,
   "metadata": {},
   "outputs": [],
   "source": [
    "#mb = mc.modelBuilder('regression', 'LGBM')"
   ]
  },
  {
   "cell_type": "code",
   "execution_count": 883,
   "metadata": {},
   "outputs": [],
   "source": [
    "#data = mb.prepare_data_split(df_train =  data['df_train'], df_test = data['df_test'], \n",
    "#                             target = 'meter_reading', rem_cols = ['timestamp'], \n",
    "#                             useVarImp = False, varimp_threshold = 100)"
   ]
  },
  {
   "cell_type": "code",
   "execution_count": 884,
   "metadata": {},
   "outputs": [],
   "source": [
    "#data['X_test'] = data['X_test'].drop([\"row_id\"],  axis=1)"
   ]
  },
  {
   "cell_type": "code",
   "execution_count": 101,
   "metadata": {},
   "outputs": [
    {
     "name": "stderr",
     "output_type": "stream",
     "text": [
      "/opt/conda/lib/python3.7/site-packages/pandas/core/series.py:853: RuntimeWarning: divide by zero encountered in log\n",
      "  result = getattr(ufunc, method)(*inputs, **kwargs)\n"
     ]
    }
   ],
   "source": [
    "#data['Y'] = np.log(data['Y'])"
   ]
  },
  {
   "cell_type": "code",
   "execution_count": 102,
   "metadata": {},
   "outputs": [],
   "source": [
    "#data['Y'][data['Y'] == -inf] = 0"
   ]
  },
  {
   "cell_type": "code",
   "execution_count": 1,
   "metadata": {},
   "outputs": [
    {
     "ename": "NameError",
     "evalue": "name 'data' is not defined",
     "output_type": "error",
     "traceback": [
      "\u001b[0;31m---------------------------------------------------------------------------\u001b[0m",
      "\u001b[0;31mNameError\u001b[0m                                 Traceback (most recent call last)",
      "\u001b[0;32m<ipython-input-1-13fb984d5f71>\u001b[0m in \u001b[0;36m<module>\u001b[0;34m\u001b[0m\n\u001b[0;32m----> 1\u001b[0;31m \u001b[0mdata\u001b[0m\u001b[0;34m[\u001b[0m\u001b[0;34m'Y'\u001b[0m\u001b[0;34m]\u001b[0m\u001b[0;34m.\u001b[0m\u001b[0mdescribe\u001b[0m\u001b[0;34m(\u001b[0m\u001b[0;34m)\u001b[0m\u001b[0;34m\u001b[0m\u001b[0;34m\u001b[0m\u001b[0m\n\u001b[0m",
      "\u001b[0;31mNameError\u001b[0m: name 'data' is not defined"
     ]
    }
   ],
   "source": [
    "#data['Y'].describe()"
   ]
  },
  {
   "cell_type": "code",
   "execution_count": 5,
   "metadata": {},
   "outputs": [],
   "source": [
    "def rmse(y, yhat):\n",
    "    score = sqrt(mean_squared_error(y, yhat))\n",
    "    return(score)"
   ]
  },
  {
   "cell_type": "code",
   "execution_count": 30,
   "metadata": {},
   "outputs": [],
   "source": [
    "# LGBM\n",
    "params = {\n",
    "    'boosting_type':'gbdt',\n",
    "    'n_estimators':500,\n",
    "    'num_leaves':64, \n",
    "    'objective':'regression_l2', \n",
    "    'colsample_bytree': 1.0, \n",
    "    'learning_rate': 0.1,\n",
    "    'max_bin':255, \n",
    "    'max_depth':9, \n",
    "    'metric':'rmse', \n",
    "    'min_child_samples':10,\n",
    "    'min_child_weight':5, \n",
    "    'min_split_gain':0.0,\n",
    "    'random_state':1234,\n",
    "    'lambda_l2': 1.5,\n",
    "    'verbose' : 2,\n",
    "    #'reg_alpha':0.0,\n",
    "    #'reg_lambda':0.0, \n",
    "    #'silent':True, \n",
    "    'subsample':1.0\n",
    "    #,\n",
    "    #'early_stopping_round' : 100\n",
    "}"
   ]
  },
  {
   "cell_type": "code",
   "execution_count": 10,
   "metadata": {},
   "outputs": [],
   "source": [
    "### CatBoost params\n",
    "params = {\n",
    "    'iterations':500,\n",
    "    'learning_rate' : 0.3,\n",
    "    'depth' : 9,\n",
    "    'loss_function' : 'RMSE',\n",
    "    'verbose' : 2,\n",
    "    'eval_metric': 'RMSE',\n",
    "}"
   ]
  },
  {
   "cell_type": "code",
   "execution_count": 11,
   "metadata": {},
   "outputs": [],
   "source": [
    "#gc.collect()"
   ]
  },
  {
   "cell_type": "code",
   "execution_count": 12,
   "metadata": {},
   "outputs": [],
   "source": [
    "#df_train_build = df_train[(df_train['building_id'] == 46) & (df_train['meter'] == 0)]"
   ]
  },
  {
   "cell_type": "code",
   "execution_count": 13,
   "metadata": {},
   "outputs": [],
   "source": [
    "#df_train_build.head(20)"
   ]
  },
  {
   "cell_type": "code",
   "execution_count": 14,
   "metadata": {},
   "outputs": [],
   "source": [
    "#submit = mb.run_model(data, n_folds = 5, metric_func = rmse, get_probab = False, \n",
    "#                      save_varimp = True, params = params, oversmp = False, cv_shuffle=False)"
   ]
  },
  {
   "cell_type": "code",
   "execution_count": 15,
   "metadata": {},
   "outputs": [
    {
     "data": {
      "application/vnd.jupyter.widget-view+json": {
       "model_id": "60556fb97bd0451798dd13a891cda087",
       "version_major": 2,
       "version_minor": 0
      },
      "text/plain": [
       "HBox(children=(IntProgress(value=0, max=16), HTML(value='')))"
      ]
     },
     "metadata": {},
     "output_type": "display_data"
    },
    {
     "name": "stdout",
     "output_type": "stream",
     "text": [
      "training site_id 1\n",
      "training meter 0\n",
      "colums primary_use is being encoded\n",
      "18 features have been chosen for modeling\n",
      "Fold: 0\n",
      "The valuation metric for the fold 0 is 0.9420162486385163\n",
      "Fold: 1\n",
      "The valuation metric for the fold 1 is 0.797262334582619\n",
      "Fold: 2\n",
      "The valuation metric for the fold 2 is 1.155281405051027\n",
      "The average score accross the folds is 0.964853329424054\n",
      "training meter 3\n",
      "colums primary_use is being encoded\n"
     ]
    },
    {
     "name": "stderr",
     "output_type": "stream",
     "text": [
      "/opt/conda/lib/python3.7/site-packages/bearinmind_pipeline/data_preprocessing.py:60: SettingWithCopyWarning: \n",
      "A value is trying to be set on a copy of a slice from a DataFrame.\n",
      "Try using .loc[row_indexer,col_indexer] = value instead\n",
      "\n",
      "See the caveats in the documentation: http://pandas.pydata.org/pandas-docs/stable/user_guide/indexing.html#returning-a-view-versus-a-copy\n",
      "  df_test[f] = lbl.transform(list(df_test[f].values))\n",
      "/opt/conda/lib/python3.7/site-packages/pandas/core/series.py:853: RuntimeWarning: divide by zero encountered in log\n",
      "  result = getattr(ufunc, method)(*inputs, **kwargs)\n"
     ]
    },
    {
     "name": "stdout",
     "output_type": "stream",
     "text": [
      "18 features have been chosen for modeling\n",
      "Fold: 0\n",
      "The valuation metric for the fold 0 is 1.844298919396906\n",
      "Fold: 1\n",
      "The valuation metric for the fold 1 is 1.793701948571765\n",
      "Fold: 2\n",
      "The valuation metric for the fold 2 is 2.024955267796284\n",
      "The average score accross the folds is 1.887652045254985\n",
      "training site_id 2\n",
      "training meter 0\n",
      "colums primary_use is being encoded\n"
     ]
    },
    {
     "name": "stderr",
     "output_type": "stream",
     "text": [
      "/opt/conda/lib/python3.7/site-packages/bearinmind_pipeline/data_preprocessing.py:60: SettingWithCopyWarning: \n",
      "A value is trying to be set on a copy of a slice from a DataFrame.\n",
      "Try using .loc[row_indexer,col_indexer] = value instead\n",
      "\n",
      "See the caveats in the documentation: http://pandas.pydata.org/pandas-docs/stable/user_guide/indexing.html#returning-a-view-versus-a-copy\n",
      "  df_test[f] = lbl.transform(list(df_test[f].values))\n"
     ]
    },
    {
     "name": "stdout",
     "output_type": "stream",
     "text": [
      "18 features have been chosen for modeling\n",
      "Fold: 0\n",
      "The valuation metric for the fold 0 is 0.5273558495494841\n",
      "Fold: 1\n",
      "The valuation metric for the fold 1 is 0.3583603172573492\n",
      "Fold: 2\n",
      "The valuation metric for the fold 2 is 0.41430999381306527\n",
      "The average score accross the folds is 0.4333420535399662\n",
      "training meter 1\n",
      "colums primary_use is being encoded\n"
     ]
    },
    {
     "name": "stderr",
     "output_type": "stream",
     "text": [
      "/opt/conda/lib/python3.7/site-packages/bearinmind_pipeline/data_preprocessing.py:60: SettingWithCopyWarning: \n",
      "A value is trying to be set on a copy of a slice from a DataFrame.\n",
      "Try using .loc[row_indexer,col_indexer] = value instead\n",
      "\n",
      "See the caveats in the documentation: http://pandas.pydata.org/pandas-docs/stable/user_guide/indexing.html#returning-a-view-versus-a-copy\n",
      "  df_test[f] = lbl.transform(list(df_test[f].values))\n"
     ]
    },
    {
     "name": "stdout",
     "output_type": "stream",
     "text": [
      "18 features have been chosen for modeling\n",
      "Fold: 0\n"
     ]
    },
    {
     "name": "stderr",
     "output_type": "stream",
     "text": [
      "/opt/conda/lib/python3.7/site-packages/pandas/core/series.py:853: RuntimeWarning: divide by zero encountered in log\n",
      "  result = getattr(ufunc, method)(*inputs, **kwargs)\n"
     ]
    },
    {
     "name": "stdout",
     "output_type": "stream",
     "text": [
      "The valuation metric for the fold 0 is 1.4141310594543426\n",
      "Fold: 1\n",
      "The valuation metric for the fold 1 is 1.2663727810894252\n",
      "Fold: 2\n",
      "The valuation metric for the fold 2 is 1.3549482770016879\n",
      "The average score accross the folds is 1.345150705848485\n",
      "training meter 3\n",
      "colums primary_use is being encoded\n"
     ]
    },
    {
     "name": "stderr",
     "output_type": "stream",
     "text": [
      "/opt/conda/lib/python3.7/site-packages/bearinmind_pipeline/data_preprocessing.py:60: SettingWithCopyWarning: \n",
      "A value is trying to be set on a copy of a slice from a DataFrame.\n",
      "Try using .loc[row_indexer,col_indexer] = value instead\n",
      "\n",
      "See the caveats in the documentation: http://pandas.pydata.org/pandas-docs/stable/user_guide/indexing.html#returning-a-view-versus-a-copy\n",
      "  df_test[f] = lbl.transform(list(df_test[f].values))\n",
      "/opt/conda/lib/python3.7/site-packages/pandas/core/series.py:853: RuntimeWarning: divide by zero encountered in log\n",
      "  result = getattr(ufunc, method)(*inputs, **kwargs)\n"
     ]
    },
    {
     "name": "stdout",
     "output_type": "stream",
     "text": [
      "18 features have been chosen for modeling\n",
      "Fold: 0\n",
      "The valuation metric for the fold 0 is 1.2442378250932782\n",
      "Fold: 1\n",
      "The valuation metric for the fold 1 is 0.8460830169919841\n",
      "Fold: 2\n",
      "The valuation metric for the fold 2 is 1.1518343143724465\n",
      "The average score accross the folds is 1.0807183854859028\n",
      "training site_id 3\n",
      "training meter 0\n",
      "colums primary_use is being encoded\n",
      "18 features have been chosen for modeling\n",
      "Fold: 0\n",
      "The valuation metric for the fold 0 is 0.5738108830977213\n",
      "Fold: 1\n",
      "The valuation metric for the fold 1 is 0.444200198023505\n",
      "Fold: 2\n",
      "The valuation metric for the fold 2 is 0.5252271826061716\n",
      "The average score accross the folds is 0.5144127545757994\n",
      "training site_id 4\n",
      "training meter 0\n",
      "colums primary_use is being encoded\n",
      "18 features have been chosen for modeling\n",
      "Fold: 0\n",
      "The valuation metric for the fold 0 is 0.25391358645272977\n",
      "Fold: 1\n",
      "The valuation metric for the fold 1 is 0.28429377379589377\n",
      "Fold: 2\n",
      "The valuation metric for the fold 2 is 0.27133093895784755\n",
      "The average score accross the folds is 0.26984609973549034\n",
      "training site_id 5\n",
      "training meter 0\n",
      "colums primary_use is being encoded\n",
      "18 features have been chosen for modeling\n",
      "Fold: 0\n",
      "The valuation metric for the fold 0 is 1.0604424045606133\n",
      "Fold: 1\n",
      "The valuation metric for the fold 1 is 1.0893579853380249\n",
      "Fold: 2\n",
      "The valuation metric for the fold 2 is 1.0594406670045051\n",
      "The average score accross the folds is 1.0697470189677143\n",
      "training site_id 6\n",
      "training meter 0\n",
      "colums primary_use is being encoded\n"
     ]
    },
    {
     "name": "stderr",
     "output_type": "stream",
     "text": [
      "/opt/conda/lib/python3.7/site-packages/bearinmind_pipeline/data_preprocessing.py:60: SettingWithCopyWarning: \n",
      "A value is trying to be set on a copy of a slice from a DataFrame.\n",
      "Try using .loc[row_indexer,col_indexer] = value instead\n",
      "\n",
      "See the caveats in the documentation: http://pandas.pydata.org/pandas-docs/stable/user_guide/indexing.html#returning-a-view-versus-a-copy\n",
      "  df_test[f] = lbl.transform(list(df_test[f].values))\n"
     ]
    },
    {
     "name": "stdout",
     "output_type": "stream",
     "text": [
      "18 features have been chosen for modeling\n",
      "Fold: 0\n",
      "The valuation metric for the fold 0 is 0.34366353752027745\n",
      "Fold: 1\n",
      "The valuation metric for the fold 1 is 0.3820665725359372\n",
      "Fold: 2\n",
      "The valuation metric for the fold 2 is 0.38342245816381443\n",
      "The average score accross the folds is 0.36971752274000963\n",
      "training meter 2\n",
      "colums primary_use is being encoded\n"
     ]
    },
    {
     "name": "stderr",
     "output_type": "stream",
     "text": [
      "/opt/conda/lib/python3.7/site-packages/bearinmind_pipeline/data_preprocessing.py:60: SettingWithCopyWarning: \n",
      "A value is trying to be set on a copy of a slice from a DataFrame.\n",
      "Try using .loc[row_indexer,col_indexer] = value instead\n",
      "\n",
      "See the caveats in the documentation: http://pandas.pydata.org/pandas-docs/stable/user_guide/indexing.html#returning-a-view-versus-a-copy\n",
      "  df_test[f] = lbl.transform(list(df_test[f].values))\n",
      "/opt/conda/lib/python3.7/site-packages/pandas/core/series.py:853: RuntimeWarning: divide by zero encountered in log\n",
      "  result = getattr(ufunc, method)(*inputs, **kwargs)\n"
     ]
    },
    {
     "name": "stdout",
     "output_type": "stream",
     "text": [
      "18 features have been chosen for modeling\n",
      "Fold: 0\n",
      "The valuation metric for the fold 0 is 2.1976818292716396\n",
      "Fold: 1\n",
      "The valuation metric for the fold 1 is 1.3811996656295842\n",
      "Fold: 2\n",
      "The valuation metric for the fold 2 is 2.0632725298031587\n",
      "The average score accross the folds is 1.880718008234794\n",
      "training meter 1\n",
      "colums primary_use is being encoded\n"
     ]
    },
    {
     "name": "stderr",
     "output_type": "stream",
     "text": [
      "/opt/conda/lib/python3.7/site-packages/bearinmind_pipeline/data_preprocessing.py:60: SettingWithCopyWarning: \n",
      "A value is trying to be set on a copy of a slice from a DataFrame.\n",
      "Try using .loc[row_indexer,col_indexer] = value instead\n",
      "\n",
      "See the caveats in the documentation: http://pandas.pydata.org/pandas-docs/stable/user_guide/indexing.html#returning-a-view-versus-a-copy\n",
      "  df_test[f] = lbl.transform(list(df_test[f].values))\n",
      "/opt/conda/lib/python3.7/site-packages/pandas/core/series.py:853: RuntimeWarning: divide by zero encountered in log\n",
      "  result = getattr(ufunc, method)(*inputs, **kwargs)\n"
     ]
    },
    {
     "name": "stdout",
     "output_type": "stream",
     "text": [
      "18 features have been chosen for modeling\n",
      "Fold: 0\n",
      "The valuation metric for the fold 0 is 1.6519970926848884\n",
      "Fold: 1\n",
      "The valuation metric for the fold 1 is 1.9740902008132477\n",
      "Fold: 2\n",
      "The valuation metric for the fold 2 is 1.8921355798063137\n",
      "The average score accross the folds is 1.8394076244348165\n",
      "training site_id 7\n",
      "training meter 1\n",
      "colums primary_use is being encoded\n"
     ]
    },
    {
     "name": "stderr",
     "output_type": "stream",
     "text": [
      "/opt/conda/lib/python3.7/site-packages/bearinmind_pipeline/data_preprocessing.py:60: SettingWithCopyWarning: \n",
      "A value is trying to be set on a copy of a slice from a DataFrame.\n",
      "Try using .loc[row_indexer,col_indexer] = value instead\n",
      "\n",
      "See the caveats in the documentation: http://pandas.pydata.org/pandas-docs/stable/user_guide/indexing.html#returning-a-view-versus-a-copy\n",
      "  df_test[f] = lbl.transform(list(df_test[f].values))\n",
      "/opt/conda/lib/python3.7/site-packages/pandas/core/series.py:853: RuntimeWarning: divide by zero encountered in log\n",
      "  result = getattr(ufunc, method)(*inputs, **kwargs)\n"
     ]
    },
    {
     "name": "stdout",
     "output_type": "stream",
     "text": [
      "18 features have been chosen for modeling\n",
      "Fold: 0\n",
      "The valuation metric for the fold 0 is 1.3048530585491562\n",
      "Fold: 1\n",
      "The valuation metric for the fold 1 is 1.6571502201841706\n",
      "Fold: 2\n",
      "The valuation metric for the fold 2 is 1.6415929543581804\n",
      "The average score accross the folds is 1.5345320776971692\n",
      "training meter 2\n",
      "colums primary_use is being encoded\n"
     ]
    },
    {
     "name": "stderr",
     "output_type": "stream",
     "text": [
      "/opt/conda/lib/python3.7/site-packages/bearinmind_pipeline/data_preprocessing.py:60: SettingWithCopyWarning: \n",
      "A value is trying to be set on a copy of a slice from a DataFrame.\n",
      "Try using .loc[row_indexer,col_indexer] = value instead\n",
      "\n",
      "See the caveats in the documentation: http://pandas.pydata.org/pandas-docs/stable/user_guide/indexing.html#returning-a-view-versus-a-copy\n",
      "  df_test[f] = lbl.transform(list(df_test[f].values))\n",
      "/opt/conda/lib/python3.7/site-packages/pandas/core/series.py:853: RuntimeWarning: divide by zero encountered in log\n",
      "  result = getattr(ufunc, method)(*inputs, **kwargs)\n"
     ]
    },
    {
     "name": "stdout",
     "output_type": "stream",
     "text": [
      "18 features have been chosen for modeling\n",
      "Fold: 0\n",
      "The valuation metric for the fold 0 is 1.6656318098796385\n",
      "Fold: 1\n",
      "The valuation metric for the fold 1 is 1.6115008014933594\n",
      "Fold: 2\n",
      "The valuation metric for the fold 2 is 1.8625672580560044\n",
      "The average score accross the folds is 1.7132332898096674\n",
      "training meter 0\n",
      "colums primary_use is being encoded\n"
     ]
    },
    {
     "name": "stderr",
     "output_type": "stream",
     "text": [
      "/opt/conda/lib/python3.7/site-packages/bearinmind_pipeline/data_preprocessing.py:60: SettingWithCopyWarning: \n",
      "A value is trying to be set on a copy of a slice from a DataFrame.\n",
      "Try using .loc[row_indexer,col_indexer] = value instead\n",
      "\n",
      "See the caveats in the documentation: http://pandas.pydata.org/pandas-docs/stable/user_guide/indexing.html#returning-a-view-versus-a-copy\n",
      "  df_test[f] = lbl.transform(list(df_test[f].values))\n"
     ]
    },
    {
     "name": "stdout",
     "output_type": "stream",
     "text": [
      "18 features have been chosen for modeling\n",
      "Fold: 0\n",
      "The valuation metric for the fold 0 is 0.3564430341189027\n",
      "Fold: 1\n",
      "The valuation metric for the fold 1 is 0.8161905551417997\n",
      "Fold: 2\n",
      "The valuation metric for the fold 2 is 2.044491543154157\n",
      "The average score accross the folds is 1.0723750441382867\n",
      "training meter 3\n",
      "colums primary_use is being encoded\n",
      "18 features have been chosen for modeling\n",
      "Fold: 0\n"
     ]
    },
    {
     "name": "stderr",
     "output_type": "stream",
     "text": [
      "/opt/conda/lib/python3.7/site-packages/bearinmind_pipeline/data_preprocessing.py:60: SettingWithCopyWarning: \n",
      "A value is trying to be set on a copy of a slice from a DataFrame.\n",
      "Try using .loc[row_indexer,col_indexer] = value instead\n",
      "\n",
      "See the caveats in the documentation: http://pandas.pydata.org/pandas-docs/stable/user_guide/indexing.html#returning-a-view-versus-a-copy\n",
      "  df_test[f] = lbl.transform(list(df_test[f].values))\n",
      "/opt/conda/lib/python3.7/site-packages/pandas/core/series.py:853: RuntimeWarning: divide by zero encountered in log\n",
      "  result = getattr(ufunc, method)(*inputs, **kwargs)\n"
     ]
    },
    {
     "name": "stdout",
     "output_type": "stream",
     "text": [
      "The valuation metric for the fold 0 is 1.4765164168619829\n",
      "Fold: 1\n",
      "The valuation metric for the fold 1 is 2.656086450974191\n",
      "Fold: 2\n",
      "The valuation metric for the fold 2 is 2.137383725754394\n",
      "The average score accross the folds is 2.089995531196856\n",
      "training site_id 8\n",
      "training meter 0\n",
      "colums primary_use is being encoded\n",
      "18 features have been chosen for modeling\n",
      "Fold: 0\n",
      "The valuation metric for the fold 0 is 0.7533487148412764\n",
      "Fold: 1\n",
      "The valuation metric for the fold 1 is 0.7231438769657753\n",
      "Fold: 2\n",
      "The valuation metric for the fold 2 is 0.6969229812209625\n",
      "The average score accross the folds is 0.7244718576760047\n",
      "training site_id 9\n",
      "training meter 1\n",
      "colums primary_use is being encoded\n"
     ]
    },
    {
     "name": "stderr",
     "output_type": "stream",
     "text": [
      "/opt/conda/lib/python3.7/site-packages/bearinmind_pipeline/data_preprocessing.py:60: SettingWithCopyWarning: \n",
      "A value is trying to be set on a copy of a slice from a DataFrame.\n",
      "Try using .loc[row_indexer,col_indexer] = value instead\n",
      "\n",
      "See the caveats in the documentation: http://pandas.pydata.org/pandas-docs/stable/user_guide/indexing.html#returning-a-view-versus-a-copy\n",
      "  df_test[f] = lbl.transform(list(df_test[f].values))\n"
     ]
    },
    {
     "name": "stdout",
     "output_type": "stream",
     "text": [
      "18 features have been chosen for modeling\n",
      "Fold: 0\n"
     ]
    },
    {
     "name": "stderr",
     "output_type": "stream",
     "text": [
      "/opt/conda/lib/python3.7/site-packages/pandas/core/series.py:853: RuntimeWarning: divide by zero encountered in log\n",
      "  result = getattr(ufunc, method)(*inputs, **kwargs)\n"
     ]
    },
    {
     "name": "stdout",
     "output_type": "stream",
     "text": [
      "The valuation metric for the fold 0 is 1.376988986182352\n",
      "Fold: 1\n",
      "The valuation metric for the fold 1 is 1.4532214910665793\n",
      "Fold: 2\n",
      "The valuation metric for the fold 2 is 1.5637234409089853\n",
      "The average score accross the folds is 1.4646446393859722\n",
      "training meter 2\n",
      "colums primary_use is being encoded\n"
     ]
    },
    {
     "name": "stderr",
     "output_type": "stream",
     "text": [
      "/opt/conda/lib/python3.7/site-packages/bearinmind_pipeline/data_preprocessing.py:60: SettingWithCopyWarning: \n",
      "A value is trying to be set on a copy of a slice from a DataFrame.\n",
      "Try using .loc[row_indexer,col_indexer] = value instead\n",
      "\n",
      "See the caveats in the documentation: http://pandas.pydata.org/pandas-docs/stable/user_guide/indexing.html#returning-a-view-versus-a-copy\n",
      "  df_test[f] = lbl.transform(list(df_test[f].values))\n"
     ]
    },
    {
     "name": "stdout",
     "output_type": "stream",
     "text": [
      "18 features have been chosen for modeling\n",
      "Fold: 0\n"
     ]
    },
    {
     "name": "stderr",
     "output_type": "stream",
     "text": [
      "/opt/conda/lib/python3.7/site-packages/pandas/core/series.py:853: RuntimeWarning: divide by zero encountered in log\n",
      "  result = getattr(ufunc, method)(*inputs, **kwargs)\n"
     ]
    },
    {
     "name": "stdout",
     "output_type": "stream",
     "text": [
      "The valuation metric for the fold 0 is 1.5681867145571322\n",
      "Fold: 1\n",
      "The valuation metric for the fold 1 is 1.4753101139586378\n",
      "Fold: 2\n",
      "The valuation metric for the fold 2 is 1.5355838285511636\n",
      "The average score accross the folds is 1.5263602190223111\n",
      "training meter 0\n",
      "colums primary_use is being encoded\n"
     ]
    },
    {
     "name": "stderr",
     "output_type": "stream",
     "text": [
      "/opt/conda/lib/python3.7/site-packages/bearinmind_pipeline/data_preprocessing.py:60: SettingWithCopyWarning: \n",
      "A value is trying to be set on a copy of a slice from a DataFrame.\n",
      "Try using .loc[row_indexer,col_indexer] = value instead\n",
      "\n",
      "See the caveats in the documentation: http://pandas.pydata.org/pandas-docs/stable/user_guide/indexing.html#returning-a-view-versus-a-copy\n",
      "  df_test[f] = lbl.transform(list(df_test[f].values))\n"
     ]
    },
    {
     "name": "stdout",
     "output_type": "stream",
     "text": [
      "18 features have been chosen for modeling\n",
      "Fold: 0\n",
      "The valuation metric for the fold 0 is 0.27559743870313075\n",
      "Fold: 1\n",
      "The valuation metric for the fold 1 is 0.22699136614458268\n",
      "Fold: 2\n",
      "The valuation metric for the fold 2 is 0.2755536461250329\n",
      "The average score accross the folds is 0.2593808169909155\n",
      "training site_id 10\n",
      "training meter 0\n",
      "colums primary_use is being encoded\n"
     ]
    },
    {
     "name": "stderr",
     "output_type": "stream",
     "text": [
      "/opt/conda/lib/python3.7/site-packages/bearinmind_pipeline/data_preprocessing.py:60: SettingWithCopyWarning: \n",
      "A value is trying to be set on a copy of a slice from a DataFrame.\n",
      "Try using .loc[row_indexer,col_indexer] = value instead\n",
      "\n",
      "See the caveats in the documentation: http://pandas.pydata.org/pandas-docs/stable/user_guide/indexing.html#returning-a-view-versus-a-copy\n",
      "  df_test[f] = lbl.transform(list(df_test[f].values))\n"
     ]
    },
    {
     "name": "stdout",
     "output_type": "stream",
     "text": [
      "18 features have been chosen for modeling\n",
      "Fold: 0\n",
      "The valuation metric for the fold 0 is 0.49735220282707987\n",
      "Fold: 1\n",
      "The valuation metric for the fold 1 is 0.43523223182813986\n",
      "Fold: 2\n",
      "The valuation metric for the fold 2 is 0.5177342864335555\n",
      "The average score accross the folds is 0.4834395736962584\n",
      "training meter 1\n",
      "colums primary_use is being encoded\n"
     ]
    },
    {
     "name": "stderr",
     "output_type": "stream",
     "text": [
      "/opt/conda/lib/python3.7/site-packages/bearinmind_pipeline/data_preprocessing.py:60: SettingWithCopyWarning: \n",
      "A value is trying to be set on a copy of a slice from a DataFrame.\n",
      "Try using .loc[row_indexer,col_indexer] = value instead\n",
      "\n",
      "See the caveats in the documentation: http://pandas.pydata.org/pandas-docs/stable/user_guide/indexing.html#returning-a-view-versus-a-copy\n",
      "  df_test[f] = lbl.transform(list(df_test[f].values))\n",
      "/opt/conda/lib/python3.7/site-packages/pandas/core/series.py:853: RuntimeWarning: divide by zero encountered in log\n",
      "  result = getattr(ufunc, method)(*inputs, **kwargs)\n"
     ]
    },
    {
     "name": "stdout",
     "output_type": "stream",
     "text": [
      "18 features have been chosen for modeling\n",
      "Fold: 0\n",
      "The valuation metric for the fold 0 is 2.1316401653595576\n",
      "Fold: 1\n",
      "The valuation metric for the fold 1 is 1.740764250030281\n",
      "Fold: 2\n",
      "The valuation metric for the fold 2 is 1.9823775558802887\n",
      "The average score accross the folds is 1.951593990423376\n",
      "training meter 3\n",
      "colums primary_use is being encoded\n"
     ]
    },
    {
     "name": "stderr",
     "output_type": "stream",
     "text": [
      "/opt/conda/lib/python3.7/site-packages/bearinmind_pipeline/data_preprocessing.py:60: SettingWithCopyWarning: \n",
      "A value is trying to be set on a copy of a slice from a DataFrame.\n",
      "Try using .loc[row_indexer,col_indexer] = value instead\n",
      "\n",
      "See the caveats in the documentation: http://pandas.pydata.org/pandas-docs/stable/user_guide/indexing.html#returning-a-view-versus-a-copy\n",
      "  df_test[f] = lbl.transform(list(df_test[f].values))\n",
      "/opt/conda/lib/python3.7/site-packages/pandas/core/series.py:853: RuntimeWarning: divide by zero encountered in log\n",
      "  result = getattr(ufunc, method)(*inputs, **kwargs)\n"
     ]
    },
    {
     "name": "stdout",
     "output_type": "stream",
     "text": [
      "18 features have been chosen for modeling\n",
      "Fold: 0\n",
      "The valuation metric for the fold 0 is 2.2895070809116254\n",
      "Fold: 1\n",
      "The valuation metric for the fold 1 is 2.187270858286707\n",
      "Fold: 2\n",
      "The valuation metric for the fold 2 is 2.324665480793803\n",
      "The average score accross the folds is 2.267147806664045\n",
      "training site_id 11\n",
      "training meter 0\n",
      "colums primary_use is being encoded\n"
     ]
    },
    {
     "name": "stderr",
     "output_type": "stream",
     "text": [
      "/opt/conda/lib/python3.7/site-packages/bearinmind_pipeline/data_preprocessing.py:60: SettingWithCopyWarning: \n",
      "A value is trying to be set on a copy of a slice from a DataFrame.\n",
      "Try using .loc[row_indexer,col_indexer] = value instead\n",
      "\n",
      "See the caveats in the documentation: http://pandas.pydata.org/pandas-docs/stable/user_guide/indexing.html#returning-a-view-versus-a-copy\n",
      "  df_test[f] = lbl.transform(list(df_test[f].values))\n"
     ]
    },
    {
     "name": "stdout",
     "output_type": "stream",
     "text": [
      "18 features have been chosen for modeling\n",
      "Fold: 0\n",
      "The valuation metric for the fold 0 is 0.22348313950659668\n",
      "Fold: 1\n",
      "The valuation metric for the fold 1 is 0.3955571775521258\n",
      "Fold: 2\n",
      "The valuation metric for the fold 2 is 0.27720943067561876\n",
      "The average score accross the folds is 0.2987499159114471\n",
      "training meter 3\n",
      "colums primary_use is being encoded\n",
      "18 features have been chosen for modeling\n",
      "Fold: 0\n"
     ]
    },
    {
     "name": "stderr",
     "output_type": "stream",
     "text": [
      "/opt/conda/lib/python3.7/site-packages/bearinmind_pipeline/data_preprocessing.py:60: SettingWithCopyWarning: \n",
      "A value is trying to be set on a copy of a slice from a DataFrame.\n",
      "Try using .loc[row_indexer,col_indexer] = value instead\n",
      "\n",
      "See the caveats in the documentation: http://pandas.pydata.org/pandas-docs/stable/user_guide/indexing.html#returning-a-view-versus-a-copy\n",
      "  df_test[f] = lbl.transform(list(df_test[f].values))\n",
      "/opt/conda/lib/python3.7/site-packages/pandas/core/series.py:853: RuntimeWarning: divide by zero encountered in log\n",
      "  result = getattr(ufunc, method)(*inputs, **kwargs)\n"
     ]
    },
    {
     "name": "stdout",
     "output_type": "stream",
     "text": [
      "The valuation metric for the fold 0 is 0.817292363333711\n",
      "Fold: 1\n",
      "The valuation metric for the fold 1 is 1.387107062984704\n",
      "Fold: 2\n",
      "The valuation metric for the fold 2 is 1.1849382873499688\n",
      "The average score accross the folds is 1.129779237889461\n",
      "training meter 1\n",
      "colums primary_use is being encoded\n",
      "18 features have been chosen for modeling\n",
      "Fold: 0\n"
     ]
    },
    {
     "name": "stderr",
     "output_type": "stream",
     "text": [
      "/opt/conda/lib/python3.7/site-packages/bearinmind_pipeline/data_preprocessing.py:60: SettingWithCopyWarning: \n",
      "A value is trying to be set on a copy of a slice from a DataFrame.\n",
      "Try using .loc[row_indexer,col_indexer] = value instead\n",
      "\n",
      "See the caveats in the documentation: http://pandas.pydata.org/pandas-docs/stable/user_guide/indexing.html#returning-a-view-versus-a-copy\n",
      "  df_test[f] = lbl.transform(list(df_test[f].values))\n",
      "/opt/conda/lib/python3.7/site-packages/pandas/core/series.py:853: RuntimeWarning: divide by zero encountered in log\n",
      "  result = getattr(ufunc, method)(*inputs, **kwargs)\n"
     ]
    },
    {
     "name": "stdout",
     "output_type": "stream",
     "text": [
      "The valuation metric for the fold 0 is 0.46143706529638356\n",
      "Fold: 1\n",
      "The valuation metric for the fold 1 is 1.8347595176348683\n",
      "Fold: 2\n",
      "The valuation metric for the fold 2 is 1.2110018018750137\n",
      "The average score accross the folds is 1.1690661282687553\n",
      "training site_id 12\n",
      "training meter 0\n",
      "colums primary_use is being encoded\n",
      "18 features have been chosen for modeling\n",
      "Fold: 0\n",
      "The valuation metric for the fold 0 is 0.3155973758346314\n",
      "Fold: 1\n",
      "The valuation metric for the fold 1 is 0.34533372695927794\n",
      "Fold: 2\n",
      "The valuation metric for the fold 2 is 0.3240615405860692\n",
      "The average score accross the folds is 0.3283308811266595\n",
      "training site_id 13\n",
      "training meter 0\n",
      "colums primary_use is being encoded\n"
     ]
    },
    {
     "name": "stderr",
     "output_type": "stream",
     "text": [
      "/opt/conda/lib/python3.7/site-packages/bearinmind_pipeline/data_preprocessing.py:60: SettingWithCopyWarning: \n",
      "A value is trying to be set on a copy of a slice from a DataFrame.\n",
      "Try using .loc[row_indexer,col_indexer] = value instead\n",
      "\n",
      "See the caveats in the documentation: http://pandas.pydata.org/pandas-docs/stable/user_guide/indexing.html#returning-a-view-versus-a-copy\n",
      "  df_test[f] = lbl.transform(list(df_test[f].values))\n"
     ]
    },
    {
     "name": "stdout",
     "output_type": "stream",
     "text": [
      "18 features have been chosen for modeling\n",
      "Fold: 0\n",
      "The valuation metric for the fold 0 is 0.3374083418849017\n",
      "Fold: 1\n",
      "The valuation metric for the fold 1 is 0.3749803836446295\n",
      "Fold: 2\n",
      "The valuation metric for the fold 2 is 0.3746272571038546\n",
      "The average score accross the folds is 0.36233866087779526\n",
      "training meter 1\n",
      "colums primary_use is being encoded\n"
     ]
    },
    {
     "name": "stderr",
     "output_type": "stream",
     "text": [
      "/opt/conda/lib/python3.7/site-packages/bearinmind_pipeline/data_preprocessing.py:60: SettingWithCopyWarning: \n",
      "A value is trying to be set on a copy of a slice from a DataFrame.\n",
      "Try using .loc[row_indexer,col_indexer] = value instead\n",
      "\n",
      "See the caveats in the documentation: http://pandas.pydata.org/pandas-docs/stable/user_guide/indexing.html#returning-a-view-versus-a-copy\n",
      "  df_test[f] = lbl.transform(list(df_test[f].values))\n"
     ]
    },
    {
     "name": "stdout",
     "output_type": "stream",
     "text": [
      "18 features have been chosen for modeling\n",
      "Fold: 0\n"
     ]
    },
    {
     "name": "stderr",
     "output_type": "stream",
     "text": [
      "/opt/conda/lib/python3.7/site-packages/pandas/core/series.py:853: RuntimeWarning: divide by zero encountered in log\n",
      "  result = getattr(ufunc, method)(*inputs, **kwargs)\n"
     ]
    },
    {
     "name": "stdout",
     "output_type": "stream",
     "text": [
      "The valuation metric for the fold 0 is 1.1962946469172604\n",
      "Fold: 1\n",
      "The valuation metric for the fold 1 is 1.0615239324826233\n",
      "Fold: 2\n",
      "The valuation metric for the fold 2 is 1.1422961878747588\n",
      "The average score accross the folds is 1.1333715890915477\n",
      "training meter 2\n",
      "colums primary_use is being encoded\n"
     ]
    },
    {
     "name": "stderr",
     "output_type": "stream",
     "text": [
      "/opt/conda/lib/python3.7/site-packages/bearinmind_pipeline/data_preprocessing.py:60: SettingWithCopyWarning: \n",
      "A value is trying to be set on a copy of a slice from a DataFrame.\n",
      "Try using .loc[row_indexer,col_indexer] = value instead\n",
      "\n",
      "See the caveats in the documentation: http://pandas.pydata.org/pandas-docs/stable/user_guide/indexing.html#returning-a-view-versus-a-copy\n",
      "  df_test[f] = lbl.transform(list(df_test[f].values))\n"
     ]
    },
    {
     "name": "stdout",
     "output_type": "stream",
     "text": [
      "18 features have been chosen for modeling\n",
      "Fold: 0\n"
     ]
    },
    {
     "name": "stderr",
     "output_type": "stream",
     "text": [
      "/opt/conda/lib/python3.7/site-packages/pandas/core/series.py:853: RuntimeWarning: divide by zero encountered in log\n",
      "  result = getattr(ufunc, method)(*inputs, **kwargs)\n"
     ]
    },
    {
     "name": "stdout",
     "output_type": "stream",
     "text": [
      "The valuation metric for the fold 0 is 1.686434120566444\n",
      "Fold: 1\n",
      "The valuation metric for the fold 1 is 1.801411735636096\n",
      "Fold: 2\n",
      "The valuation metric for the fold 2 is 1.7646560849039359\n",
      "The average score accross the folds is 1.7508339803688253\n",
      "training site_id 14\n",
      "training meter 0\n",
      "colums primary_use is being encoded\n"
     ]
    },
    {
     "name": "stderr",
     "output_type": "stream",
     "text": [
      "/opt/conda/lib/python3.7/site-packages/bearinmind_pipeline/data_preprocessing.py:60: SettingWithCopyWarning: \n",
      "A value is trying to be set on a copy of a slice from a DataFrame.\n",
      "Try using .loc[row_indexer,col_indexer] = value instead\n",
      "\n",
      "See the caveats in the documentation: http://pandas.pydata.org/pandas-docs/stable/user_guide/indexing.html#returning-a-view-versus-a-copy\n",
      "  df_test[f] = lbl.transform(list(df_test[f].values))\n"
     ]
    },
    {
     "name": "stdout",
     "output_type": "stream",
     "text": [
      "18 features have been chosen for modeling\n",
      "Fold: 0\n",
      "The valuation metric for the fold 0 is 0.3441197580497938\n",
      "Fold: 1\n",
      "The valuation metric for the fold 1 is 0.29783122465716605\n",
      "Fold: 2\n",
      "The valuation metric for the fold 2 is 0.32801547479118776\n",
      "The average score accross the folds is 0.3233221524993825\n",
      "training meter 1\n",
      "colums primary_use is being encoded\n"
     ]
    },
    {
     "name": "stderr",
     "output_type": "stream",
     "text": [
      "/opt/conda/lib/python3.7/site-packages/bearinmind_pipeline/data_preprocessing.py:60: SettingWithCopyWarning: \n",
      "A value is trying to be set on a copy of a slice from a DataFrame.\n",
      "Try using .loc[row_indexer,col_indexer] = value instead\n",
      "\n",
      "See the caveats in the documentation: http://pandas.pydata.org/pandas-docs/stable/user_guide/indexing.html#returning-a-view-versus-a-copy\n",
      "  df_test[f] = lbl.transform(list(df_test[f].values))\n",
      "/opt/conda/lib/python3.7/site-packages/pandas/core/series.py:853: RuntimeWarning: divide by zero encountered in log\n",
      "  result = getattr(ufunc, method)(*inputs, **kwargs)\n"
     ]
    },
    {
     "name": "stdout",
     "output_type": "stream",
     "text": [
      "18 features have been chosen for modeling\n",
      "Fold: 0\n",
      "The valuation metric for the fold 0 is 1.9582762564438059\n",
      "Fold: 1\n",
      "The valuation metric for the fold 1 is 1.8127253587450904\n",
      "Fold: 2\n",
      "The valuation metric for the fold 2 is 2.0694645177278437\n",
      "The average score accross the folds is 1.94682204430558\n",
      "training meter 3\n",
      "colums primary_use is being encoded\n"
     ]
    },
    {
     "name": "stderr",
     "output_type": "stream",
     "text": [
      "/opt/conda/lib/python3.7/site-packages/bearinmind_pipeline/data_preprocessing.py:60: SettingWithCopyWarning: \n",
      "A value is trying to be set on a copy of a slice from a DataFrame.\n",
      "Try using .loc[row_indexer,col_indexer] = value instead\n",
      "\n",
      "See the caveats in the documentation: http://pandas.pydata.org/pandas-docs/stable/user_guide/indexing.html#returning-a-view-versus-a-copy\n",
      "  df_test[f] = lbl.transform(list(df_test[f].values))\n",
      "/opt/conda/lib/python3.7/site-packages/pandas/core/series.py:853: RuntimeWarning: divide by zero encountered in log\n",
      "  result = getattr(ufunc, method)(*inputs, **kwargs)\n"
     ]
    },
    {
     "name": "stdout",
     "output_type": "stream",
     "text": [
      "18 features have been chosen for modeling\n",
      "Fold: 0\n",
      "The valuation metric for the fold 0 is 2.279888382037137\n",
      "Fold: 1\n",
      "The valuation metric for the fold 1 is 1.7674930169562024\n",
      "Fold: 2\n",
      "The valuation metric for the fold 2 is 2.221976317311003\n",
      "The average score accross the folds is 2.089785905434781\n",
      "training meter 2\n",
      "colums primary_use is being encoded\n"
     ]
    },
    {
     "name": "stderr",
     "output_type": "stream",
     "text": [
      "/opt/conda/lib/python3.7/site-packages/bearinmind_pipeline/data_preprocessing.py:60: SettingWithCopyWarning: \n",
      "A value is trying to be set on a copy of a slice from a DataFrame.\n",
      "Try using .loc[row_indexer,col_indexer] = value instead\n",
      "\n",
      "See the caveats in the documentation: http://pandas.pydata.org/pandas-docs/stable/user_guide/indexing.html#returning-a-view-versus-a-copy\n",
      "  df_test[f] = lbl.transform(list(df_test[f].values))\n",
      "/opt/conda/lib/python3.7/site-packages/pandas/core/series.py:853: RuntimeWarning: divide by zero encountered in log\n",
      "  result = getattr(ufunc, method)(*inputs, **kwargs)\n"
     ]
    },
    {
     "name": "stdout",
     "output_type": "stream",
     "text": [
      "18 features have been chosen for modeling\n",
      "Fold: 0\n",
      "The valuation metric for the fold 0 is 2.0266182242233093\n",
      "Fold: 1\n",
      "The valuation metric for the fold 1 is 1.5732785077277576\n",
      "Fold: 2\n",
      "The valuation metric for the fold 2 is 2.221548476688578\n",
      "The average score accross the folds is 1.940481736213215\n",
      "training site_id 15\n",
      "training meter 3\n",
      "colums primary_use is being encoded\n",
      "18 features have been chosen for modeling\n",
      "Fold: 0\n"
     ]
    },
    {
     "name": "stderr",
     "output_type": "stream",
     "text": [
      "/opt/conda/lib/python3.7/site-packages/bearinmind_pipeline/data_preprocessing.py:60: SettingWithCopyWarning: \n",
      "A value is trying to be set on a copy of a slice from a DataFrame.\n",
      "Try using .loc[row_indexer,col_indexer] = value instead\n",
      "\n",
      "See the caveats in the documentation: http://pandas.pydata.org/pandas-docs/stable/user_guide/indexing.html#returning-a-view-versus-a-copy\n",
      "  df_test[f] = lbl.transform(list(df_test[f].values))\n",
      "/opt/conda/lib/python3.7/site-packages/pandas/core/series.py:853: RuntimeWarning: divide by zero encountered in log\n",
      "  result = getattr(ufunc, method)(*inputs, **kwargs)\n"
     ]
    },
    {
     "name": "stdout",
     "output_type": "stream",
     "text": [
      "The valuation metric for the fold 0 is 0.7420624107999052\n",
      "Fold: 1\n",
      "The valuation metric for the fold 1 is 0.745725284772246\n",
      "Fold: 2\n",
      "The valuation metric for the fold 2 is 0.7068588437283534\n",
      "The average score accross the folds is 0.7315488464335015\n",
      "training meter 0\n",
      "colums primary_use is being encoded\n"
     ]
    },
    {
     "name": "stderr",
     "output_type": "stream",
     "text": [
      "/opt/conda/lib/python3.7/site-packages/bearinmind_pipeline/data_preprocessing.py:60: SettingWithCopyWarning: \n",
      "A value is trying to be set on a copy of a slice from a DataFrame.\n",
      "Try using .loc[row_indexer,col_indexer] = value instead\n",
      "\n",
      "See the caveats in the documentation: http://pandas.pydata.org/pandas-docs/stable/user_guide/indexing.html#returning-a-view-versus-a-copy\n",
      "  df_test[f] = lbl.transform(list(df_test[f].values))\n"
     ]
    },
    {
     "name": "stdout",
     "output_type": "stream",
     "text": [
      "18 features have been chosen for modeling\n",
      "Fold: 0\n",
      "The valuation metric for the fold 0 is 0.28460153527231946\n",
      "Fold: 1\n",
      "The valuation metric for the fold 1 is 0.2953157920498362\n",
      "Fold: 2\n",
      "The valuation metric for the fold 2 is 0.27565944559383104\n",
      "The average score accross the folds is 0.28519225763866224\n",
      "training meter 1\n",
      "colums primary_use is being encoded\n"
     ]
    },
    {
     "name": "stderr",
     "output_type": "stream",
     "text": [
      "/opt/conda/lib/python3.7/site-packages/bearinmind_pipeline/data_preprocessing.py:60: SettingWithCopyWarning: \n",
      "A value is trying to be set on a copy of a slice from a DataFrame.\n",
      "Try using .loc[row_indexer,col_indexer] = value instead\n",
      "\n",
      "See the caveats in the documentation: http://pandas.pydata.org/pandas-docs/stable/user_guide/indexing.html#returning-a-view-versus-a-copy\n",
      "  df_test[f] = lbl.transform(list(df_test[f].values))\n",
      "/opt/conda/lib/python3.7/site-packages/pandas/core/series.py:853: RuntimeWarning: divide by zero encountered in log\n",
      "  result = getattr(ufunc, method)(*inputs, **kwargs)\n"
     ]
    },
    {
     "name": "stdout",
     "output_type": "stream",
     "text": [
      "18 features have been chosen for modeling\n",
      "Fold: 0\n",
      "The valuation metric for the fold 0 is 0.715475550114852\n",
      "Fold: 1\n",
      "The valuation metric for the fold 1 is 0.6348392606442992\n",
      "Fold: 2\n",
      "The valuation metric for the fold 2 is 0.6855353345140172\n",
      "The average score accross the folds is 0.6786167150910561\n",
      "training meter 2\n",
      "colums primary_use is being encoded\n"
     ]
    },
    {
     "name": "stderr",
     "output_type": "stream",
     "text": [
      "/opt/conda/lib/python3.7/site-packages/bearinmind_pipeline/data_preprocessing.py:60: SettingWithCopyWarning: \n",
      "A value is trying to be set on a copy of a slice from a DataFrame.\n",
      "Try using .loc[row_indexer,col_indexer] = value instead\n",
      "\n",
      "See the caveats in the documentation: http://pandas.pydata.org/pandas-docs/stable/user_guide/indexing.html#returning-a-view-versus-a-copy\n",
      "  df_test[f] = lbl.transform(list(df_test[f].values))\n",
      "/opt/conda/lib/python3.7/site-packages/pandas/core/series.py:853: RuntimeWarning: divide by zero encountered in log\n",
      "  result = getattr(ufunc, method)(*inputs, **kwargs)\n"
     ]
    },
    {
     "name": "stdout",
     "output_type": "stream",
     "text": [
      "18 features have been chosen for modeling\n",
      "Fold: 0\n",
      "The valuation metric for the fold 0 is 1.1010121397474275\n",
      "Fold: 1\n",
      "The valuation metric for the fold 1 is 1.2316372427997773\n",
      "Fold: 2\n",
      "The valuation metric for the fold 2 is 0.9225884513058671\n",
      "The average score accross the folds is 1.0850792779510239\n",
      "training site_id 0\n",
      "training meter 1\n",
      "colums primary_use is being encoded\n"
     ]
    },
    {
     "name": "stderr",
     "output_type": "stream",
     "text": [
      "/opt/conda/lib/python3.7/site-packages/bearinmind_pipeline/data_preprocessing.py:60: SettingWithCopyWarning: \n",
      "A value is trying to be set on a copy of a slice from a DataFrame.\n",
      "Try using .loc[row_indexer,col_indexer] = value instead\n",
      "\n",
      "See the caveats in the documentation: http://pandas.pydata.org/pandas-docs/stable/user_guide/indexing.html#returning-a-view-versus-a-copy\n",
      "  df_test[f] = lbl.transform(list(df_test[f].values))\n",
      "/opt/conda/lib/python3.7/site-packages/pandas/core/series.py:853: RuntimeWarning: divide by zero encountered in log\n",
      "  result = getattr(ufunc, method)(*inputs, **kwargs)\n"
     ]
    },
    {
     "name": "stdout",
     "output_type": "stream",
     "text": [
      "18 features have been chosen for modeling\n",
      "Fold: 0\n",
      "The valuation metric for the fold 0 is 2.249569724641385\n",
      "Fold: 1\n",
      "The valuation metric for the fold 1 is 1.9852794419867386\n",
      "Fold: 2\n",
      "The valuation metric for the fold 2 is 2.4339690124133035\n",
      "The average score accross the folds is 2.222939393013809\n",
      "training meter 0\n",
      "colums primary_use is being encoded\n"
     ]
    },
    {
     "name": "stderr",
     "output_type": "stream",
     "text": [
      "/opt/conda/lib/python3.7/site-packages/bearinmind_pipeline/data_preprocessing.py:60: SettingWithCopyWarning: \n",
      "A value is trying to be set on a copy of a slice from a DataFrame.\n",
      "Try using .loc[row_indexer,col_indexer] = value instead\n",
      "\n",
      "See the caveats in the documentation: http://pandas.pydata.org/pandas-docs/stable/user_guide/indexing.html#returning-a-view-versus-a-copy\n",
      "  df_test[f] = lbl.transform(list(df_test[f].values))\n"
     ]
    },
    {
     "name": "stdout",
     "output_type": "stream",
     "text": [
      "18 features have been chosen for modeling\n",
      "Fold: 0\n",
      "The valuation metric for the fold 0 is 0.3232090392417942\n",
      "Fold: 1\n",
      "The valuation metric for the fold 1 is 0.30728480212628795\n",
      "Fold: 2\n",
      "The valuation metric for the fold 2 is 0.4116312299336106\n",
      "The average score accross the folds is 0.3473750237672309\n",
      "\n"
     ]
    }
   ],
   "source": [
    "### Per site and meter type ###\n",
    "perf_dict = {}\n",
    "final_sub_lst = []\n",
    "encode_cols = [\"primary_use\"]\n",
    "mb = mc.modelBuilder('regression', 'CatBoost')\n",
    "for i in tqdm_notebook(df_train['site_id'].unique()):\n",
    "#for i in tqdm_notebook(range(7, 8, 1)):\n",
    "    print(f'training site_id {i}')\n",
    "    \n",
    "    df_train_site = df_train[df_train['site_id'] == i]\n",
    "    df_test_site = df_test[df_test['site_id'] == i]\n",
    "    \n",
    "    for j in df_train_site['meter'].unique():\n",
    "        \n",
    "        print(f'training meter {j}')\n",
    "        df_train_metr = df_train_site[df_train_site['meter'] == j]\n",
    "        df_test_metr = df_test_site[df_test_site['meter'] == j]\n",
    "\n",
    "        df_train_metr = df_train_metr[(np.abs(stats.zscore(df_train_metr['meter_reading'])) < 5)]\n",
    "        #df_train_metr = df_train_metr.groupby('building_id', as_index=False).apply(lambda x: x[(np.abs(stats.zscore(x['meter_reading'])) < 5)])\n",
    "        #df_train_metr = df_train_metr.groupby('building_id', as_index=False).apply(lambda x: x[x['meter_reading'] < x['meter_reading'].quantile(0.99)])\n",
    "        \n",
    "        data = dp.encode_categorical(df_train_metr, df_test_metr, encode_cols)\n",
    "        data = mb.prepare_data_split(df_train =  data['df_train'], df_test = data['df_test'], \n",
    "                                 target = 'meter_reading', rem_cols = ['timestamp'], \n",
    "                                 useVarImp = False, varimp_threshold = 100)\n",
    "        data['X_test'] = data['X_test'].drop([\"row_id\"],  axis=1)\n",
    "        data['Y'] = np.log(data['Y'])\n",
    "        data['Y'][data['Y'] == -inf] = 0\n",
    "        submit = mb.run_model(data, n_folds = 3, metric_func = rmse, get_probab = False, \n",
    "                          save_varimp = False, params = params, oversmp = False, cv_shuffle=False)\n",
    "        submit['FinalPrediction'] = np.exp(submit['FinalPrediction'])\n",
    "        final_submit = pd.concat([df_test_metr['row_id'].reset_index(drop=True), pd.DataFrame(submit['FinalPrediction'], columns = [\"meter_reading\"])], axis = 1)\n",
    "\n",
    "        perf_dict[f'site_id: {i} and meter: {j}'] = submit['AverageScore']\n",
    "        final_sub_lst.append(final_submit)\n",
    "    "
   ]
  },
  {
   "cell_type": "code",
   "execution_count": null,
   "metadata": {},
   "outputs": [],
   "source": [
    "### Per meter type ###\n",
    "#perf_dict = {}\n",
    "#final_sub_lst = []\n",
    "#encode_cols = [\"primary_use\"]\n",
    "#mb = mc.modelBuilder('regression', 'LGBM')\n",
    "#for i in tqdm_notebook(df_train['site_id'].unique()):\n",
    "#for i in tqdm_notebook(range(2)):\n",
    "#    print(f'training site_id {i}')\n",
    "#    \n",
    "#    df_train_site = df_train[df_train['site_id'] == i]\n",
    "#    df_test_site = df_test[df_test['site_id'] == i]\n",
    "\n",
    "#    data = dp.encode_categorical(df_train_site, df_test_site, encode_cols)\n",
    "#    data = mb.prepare_data_split(df_train =  data['df_train'], df_test = data['df_test'], \n",
    "#                                 target = 'meter_reading', rem_cols = ['timestamp'], \n",
    "#                                 useVarImp = False, varimp_threshold = 100)\n",
    "#    data['X_test'] = data['X_test'].drop([\"row_id\"],  axis=1)\n",
    "#    data['Y'] = np.log(data['Y'])\n",
    "#    data['Y'][data['Y'] == -inf] = 0\n",
    "#    submit = mb.run_model(data, n_folds = 5, metric_func = rmse, get_probab = False, \n",
    "#                          save_varimp = False, params = params, oversmp = False, cv_shuffle=False)\n",
    "#    submit['FinalPrediction'] = np.exp(submit['FinalPrediction'])\n",
    "#    final_submit = pd.concat([df_test_metr['row_id'].reset_index(drop=True), pd.DataFrame(submit['FinalPrediction'], columns = [\"meter_reading\"])], axis = 1)\n",
    "\n",
    "#    perf_dict[f'site_id: {i} and meter: {j}'] = submit['AverageScore']\n",
    "#    final_sub_lst.append(final_submit)\n",
    "    "
   ]
  },
  {
   "cell_type": "code",
   "execution_count": 16,
   "metadata": {},
   "outputs": [
    {
     "data": {
      "text/plain": [
       "1.1427275420724514"
      ]
     },
     "execution_count": 16,
     "metadata": {},
     "output_type": "execute_result"
    }
   ],
   "source": [
    "np.array(list(perf_dict.values())).mean()"
   ]
  },
  {
   "cell_type": "code",
   "execution_count": 17,
   "metadata": {},
   "outputs": [
    {
     "data": {
      "text/plain": [
       "{'site_id: 1 and meter: 0': 0.964853329424054,\n",
       " 'site_id: 1 and meter: 3': 1.887652045254985,\n",
       " 'site_id: 2 and meter: 0': 0.4333420535399662,\n",
       " 'site_id: 2 and meter: 1': 1.345150705848485,\n",
       " 'site_id: 2 and meter: 3': 1.0807183854859028,\n",
       " 'site_id: 3 and meter: 0': 0.5144127545757994,\n",
       " 'site_id: 4 and meter: 0': 0.26984609973549034,\n",
       " 'site_id: 5 and meter: 0': 1.0697470189677143,\n",
       " 'site_id: 6 and meter: 0': 0.36971752274000963,\n",
       " 'site_id: 6 and meter: 2': 1.880718008234794,\n",
       " 'site_id: 6 and meter: 1': 1.8394076244348165,\n",
       " 'site_id: 7 and meter: 1': 1.5345320776971692,\n",
       " 'site_id: 7 and meter: 2': 1.7132332898096674,\n",
       " 'site_id: 7 and meter: 0': 1.0723750441382867,\n",
       " 'site_id: 7 and meter: 3': 2.089995531196856,\n",
       " 'site_id: 8 and meter: 0': 0.7244718576760047,\n",
       " 'site_id: 9 and meter: 1': 1.4646446393859722,\n",
       " 'site_id: 9 and meter: 2': 1.5263602190223111,\n",
       " 'site_id: 9 and meter: 0': 0.2593808169909155,\n",
       " 'site_id: 10 and meter: 0': 0.4834395736962584,\n",
       " 'site_id: 10 and meter: 1': 1.951593990423376,\n",
       " 'site_id: 10 and meter: 3': 2.267147806664045,\n",
       " 'site_id: 11 and meter: 0': 0.2987499159114471,\n",
       " 'site_id: 11 and meter: 3': 1.129779237889461,\n",
       " 'site_id: 11 and meter: 1': 1.1690661282687553,\n",
       " 'site_id: 12 and meter: 0': 0.3283308811266595,\n",
       " 'site_id: 13 and meter: 0': 0.36233866087779526,\n",
       " 'site_id: 13 and meter: 1': 1.1333715890915477,\n",
       " 'site_id: 13 and meter: 2': 1.7508339803688253,\n",
       " 'site_id: 14 and meter: 0': 0.3233221524993825,\n",
       " 'site_id: 14 and meter: 1': 1.94682204430558,\n",
       " 'site_id: 14 and meter: 3': 2.089785905434781,\n",
       " 'site_id: 14 and meter: 2': 1.940481736213215,\n",
       " 'site_id: 15 and meter: 3': 0.7315488464335015,\n",
       " 'site_id: 15 and meter: 0': 0.28519225763866224,\n",
       " 'site_id: 15 and meter: 1': 0.6786167150910561,\n",
       " 'site_id: 15 and meter: 2': 1.0850792779510239,\n",
       " 'site_id: 0 and meter: 1': 2.222939393013809,\n",
       " 'site_id: 0 and meter: 0': 0.3473750237672309}"
      ]
     },
     "execution_count": 17,
     "metadata": {},
     "output_type": "execute_result"
    }
   ],
   "source": [
    "perf_dict"
   ]
  },
  {
   "cell_type": "code",
   "execution_count": 18,
   "metadata": {},
   "outputs": [],
   "source": [
    "with open('rmse_siteid_meter_no_zeros_elect_catboost.txt', 'w') as file:\n",
    "     file.write(json.dumps(perf_dict))"
   ]
  },
  {
   "cell_type": "code",
   "execution_count": 19,
   "metadata": {},
   "outputs": [],
   "source": [
    "sub = pd.concat(final_sub_lst, axis = 0).reset_index(drop = True)\n",
    "sub.to_csv(\"submit_lightgbm_by_site_3fold_catboost.csv.gz\", index = False, compression='gzip')"
   ]
  },
  {
   "cell_type": "code",
   "execution_count": null,
   "metadata": {},
   "outputs": [],
   "source": [
    "#submit['FinalPrediction'] = np.exp(submit['FinalPrediction'])"
   ]
  },
  {
   "cell_type": "code",
   "execution_count": null,
   "metadata": {},
   "outputs": [],
   "source": [
    "#submit['FinalPrediction']"
   ]
  },
  {
   "cell_type": "code",
   "execution_count": null,
   "metadata": {},
   "outputs": [],
   "source": [
    "#submit"
   ]
  },
  {
   "cell_type": "code",
   "execution_count": null,
   "metadata": {},
   "outputs": [],
   "source": [
    "#final_submit = pd.concat([df_test['row_id'], pd.DataFrame(submit['FinalPrediction'], columns = [\"meter_reading\"])], axis = 1)"
   ]
  },
  {
   "cell_type": "code",
   "execution_count": null,
   "metadata": {},
   "outputs": [],
   "source": [
    "#final_submit[\"meter_reading\"].describe()"
   ]
  },
  {
   "cell_type": "code",
   "execution_count": null,
   "metadata": {},
   "outputs": [],
   "source": [
    "#final_submit.to_csv(\"submit_lightgbm_default.csv.gz\", index = False, compression='gzip')"
   ]
  },
  {
   "cell_type": "code",
   "execution_count": 2,
   "metadata": {},
   "outputs": [
    {
     "name": "stdout",
     "output_type": "stream",
     "text": [
      "Warning: Your Kaggle API key is readable by other users on this system! To fix this, you can run 'chmod 600 /home/jovyan/.kaggle/kaggle.json'\n",
      "100%|████████████████████████████████████████| 475M/475M [00:10<00:00, 45.6MB/s]\n",
      "Successfully submitted to ASHRAE - Great Energy Predictor III"
     ]
    }
   ],
   "source": [
    "!kaggle competitions submit -c ashrae-energy-prediction -f submit_lightgbm_by_site_3fold_catboost.csv.gz -m \"remove 0s from electricity + learning rate 0.1 + 3 folds+catboost\""
   ]
  },
  {
   "cell_type": "code",
   "execution_count": null,
   "metadata": {},
   "outputs": [],
   "source": []
  }
 ],
 "metadata": {
  "kernelspec": {
   "display_name": "Python 3",
   "language": "python",
   "name": "python3"
  },
  "language_info": {
   "codemirror_mode": {
    "name": "ipython",
    "version": 3
   },
   "file_extension": ".py",
   "mimetype": "text/x-python",
   "name": "python",
   "nbconvert_exporter": "python",
   "pygments_lexer": "ipython3",
   "version": "3.7.3"
  }
 },
 "nbformat": 4,
 "nbformat_minor": 2
}
