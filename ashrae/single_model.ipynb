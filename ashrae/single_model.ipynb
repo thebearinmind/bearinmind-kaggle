{
 "cells": [
  {
   "cell_type": "code",
   "execution_count": 567,
   "metadata": {},
   "outputs": [],
   "source": [
    "import sys\n",
    "#sys.path.insert(0, '/home/jovyan/work/Molecular_Properties/model-pipeline/src')\n",
    "import pandas as pd\n",
    "import warnings\n",
    "import numpy as np\n",
    "from sklearn.preprocessing import LabelEncoder, OneHotEncoder\n",
    "#from model_construction import prepare_data_split, run_model, show_varimp\n",
    "from bearinmind_pipeline.data_preprocessing import dataPreprocessing as dp\n",
    "#from bearinmind_pipeline.model_construction import modelBuilder as mb\n",
    "import bearinmind_pipeline.model_construction as mc\n",
    "from numpy import inf\n",
    "from sklearn.metrics import mean_squared_error\n",
    "from math import sqrt\n",
    "import gc\n",
    "from tqdm import tqdm_notebook, tqdm \n",
    "import matplotlib.pyplot as plt\n",
    "import datetime\n",
    "import json\n",
    "from scipy import stats"
   ]
  },
  {
   "cell_type": "code",
   "execution_count": 57,
   "metadata": {},
   "outputs": [],
   "source": [
    "df_train = pd.read_csv('./data/train.csv')\n",
    "df_test = pd.read_csv('./data/test.csv')\n",
    "mapping = pd.read_csv('./data/building_metadata.csv')\n",
    "weather_train = pd.read_csv('./data/weather_train.csv')\n",
    "weather_test = pd.read_csv('./data/weather_test.csv')"
   ]
  },
  {
   "cell_type": "code",
   "execution_count": 58,
   "metadata": {},
   "outputs": [],
   "source": [
    "df_train = df_train.merge(mapping, how = \"left\", on = \"building_id\")\n",
    "df_test = df_test.merge(mapping, how = \"left\", on = \"building_id\")"
   ]
  },
  {
   "cell_type": "code",
   "execution_count": 59,
   "metadata": {},
   "outputs": [],
   "source": [
    "df_train = df_train.merge(weather_train, how = \"left\", on = [\"site_id\", \"timestamp\"])\n",
    "df_test = df_test.merge(weather_test, how = \"left\", on =  [\"site_id\", \"timestamp\"])"
   ]
  },
  {
   "cell_type": "code",
   "execution_count": 60,
   "metadata": {},
   "outputs": [],
   "source": [
    "del weather_train \n",
    "del weather_test"
   ]
  },
  {
   "cell_type": "code",
   "execution_count": 61,
   "metadata": {},
   "outputs": [
    {
     "data": {
      "text/html": [
       "<div>\n",
       "<style scoped>\n",
       "    .dataframe tbody tr th:only-of-type {\n",
       "        vertical-align: middle;\n",
       "    }\n",
       "\n",
       "    .dataframe tbody tr th {\n",
       "        vertical-align: top;\n",
       "    }\n",
       "\n",
       "    .dataframe thead th {\n",
       "        text-align: right;\n",
       "    }\n",
       "</style>\n",
       "<table border=\"1\" class=\"dataframe\">\n",
       "  <thead>\n",
       "    <tr style=\"text-align: right;\">\n",
       "      <th></th>\n",
       "      <th>building_id</th>\n",
       "      <th>meter</th>\n",
       "      <th>timestamp</th>\n",
       "      <th>meter_reading</th>\n",
       "      <th>site_id</th>\n",
       "      <th>primary_use</th>\n",
       "      <th>square_feet</th>\n",
       "      <th>year_built</th>\n",
       "      <th>floor_count</th>\n",
       "      <th>air_temperature</th>\n",
       "      <th>cloud_coverage</th>\n",
       "      <th>dew_temperature</th>\n",
       "      <th>precip_depth_1_hr</th>\n",
       "      <th>sea_level_pressure</th>\n",
       "      <th>wind_direction</th>\n",
       "      <th>wind_speed</th>\n",
       "    </tr>\n",
       "  </thead>\n",
       "  <tbody>\n",
       "    <tr>\n",
       "      <td>0</td>\n",
       "      <td>0</td>\n",
       "      <td>0</td>\n",
       "      <td>2016-01-01 00:00:00</td>\n",
       "      <td>0.0</td>\n",
       "      <td>0</td>\n",
       "      <td>Education</td>\n",
       "      <td>7432</td>\n",
       "      <td>2008.0</td>\n",
       "      <td>NaN</td>\n",
       "      <td>25.0</td>\n",
       "      <td>6.0</td>\n",
       "      <td>20.0</td>\n",
       "      <td>NaN</td>\n",
       "      <td>1019.7</td>\n",
       "      <td>0.0</td>\n",
       "      <td>0.0</td>\n",
       "    </tr>\n",
       "    <tr>\n",
       "      <td>1</td>\n",
       "      <td>1</td>\n",
       "      <td>0</td>\n",
       "      <td>2016-01-01 00:00:00</td>\n",
       "      <td>0.0</td>\n",
       "      <td>0</td>\n",
       "      <td>Education</td>\n",
       "      <td>2720</td>\n",
       "      <td>2004.0</td>\n",
       "      <td>NaN</td>\n",
       "      <td>25.0</td>\n",
       "      <td>6.0</td>\n",
       "      <td>20.0</td>\n",
       "      <td>NaN</td>\n",
       "      <td>1019.7</td>\n",
       "      <td>0.0</td>\n",
       "      <td>0.0</td>\n",
       "    </tr>\n",
       "    <tr>\n",
       "      <td>2</td>\n",
       "      <td>2</td>\n",
       "      <td>0</td>\n",
       "      <td>2016-01-01 00:00:00</td>\n",
       "      <td>0.0</td>\n",
       "      <td>0</td>\n",
       "      <td>Education</td>\n",
       "      <td>5376</td>\n",
       "      <td>1991.0</td>\n",
       "      <td>NaN</td>\n",
       "      <td>25.0</td>\n",
       "      <td>6.0</td>\n",
       "      <td>20.0</td>\n",
       "      <td>NaN</td>\n",
       "      <td>1019.7</td>\n",
       "      <td>0.0</td>\n",
       "      <td>0.0</td>\n",
       "    </tr>\n",
       "    <tr>\n",
       "      <td>3</td>\n",
       "      <td>3</td>\n",
       "      <td>0</td>\n",
       "      <td>2016-01-01 00:00:00</td>\n",
       "      <td>0.0</td>\n",
       "      <td>0</td>\n",
       "      <td>Education</td>\n",
       "      <td>23685</td>\n",
       "      <td>2002.0</td>\n",
       "      <td>NaN</td>\n",
       "      <td>25.0</td>\n",
       "      <td>6.0</td>\n",
       "      <td>20.0</td>\n",
       "      <td>NaN</td>\n",
       "      <td>1019.7</td>\n",
       "      <td>0.0</td>\n",
       "      <td>0.0</td>\n",
       "    </tr>\n",
       "    <tr>\n",
       "      <td>4</td>\n",
       "      <td>4</td>\n",
       "      <td>0</td>\n",
       "      <td>2016-01-01 00:00:00</td>\n",
       "      <td>0.0</td>\n",
       "      <td>0</td>\n",
       "      <td>Education</td>\n",
       "      <td>116607</td>\n",
       "      <td>1975.0</td>\n",
       "      <td>NaN</td>\n",
       "      <td>25.0</td>\n",
       "      <td>6.0</td>\n",
       "      <td>20.0</td>\n",
       "      <td>NaN</td>\n",
       "      <td>1019.7</td>\n",
       "      <td>0.0</td>\n",
       "      <td>0.0</td>\n",
       "    </tr>\n",
       "  </tbody>\n",
       "</table>\n",
       "</div>"
      ],
      "text/plain": [
       "   building_id  meter            timestamp  meter_reading  site_id  \\\n",
       "0            0      0  2016-01-01 00:00:00            0.0        0   \n",
       "1            1      0  2016-01-01 00:00:00            0.0        0   \n",
       "2            2      0  2016-01-01 00:00:00            0.0        0   \n",
       "3            3      0  2016-01-01 00:00:00            0.0        0   \n",
       "4            4      0  2016-01-01 00:00:00            0.0        0   \n",
       "\n",
       "  primary_use  square_feet  year_built  floor_count  air_temperature  \\\n",
       "0   Education         7432      2008.0          NaN             25.0   \n",
       "1   Education         2720      2004.0          NaN             25.0   \n",
       "2   Education         5376      1991.0          NaN             25.0   \n",
       "3   Education        23685      2002.0          NaN             25.0   \n",
       "4   Education       116607      1975.0          NaN             25.0   \n",
       "\n",
       "   cloud_coverage  dew_temperature  precip_depth_1_hr  sea_level_pressure  \\\n",
       "0             6.0             20.0                NaN              1019.7   \n",
       "1             6.0             20.0                NaN              1019.7   \n",
       "2             6.0             20.0                NaN              1019.7   \n",
       "3             6.0             20.0                NaN              1019.7   \n",
       "4             6.0             20.0                NaN              1019.7   \n",
       "\n",
       "   wind_direction  wind_speed  \n",
       "0             0.0         0.0  \n",
       "1             0.0         0.0  \n",
       "2             0.0         0.0  \n",
       "3             0.0         0.0  \n",
       "4             0.0         0.0  "
      ]
     },
     "execution_count": 61,
     "metadata": {},
     "output_type": "execute_result"
    }
   ],
   "source": [
    "df_train.head()"
   ]
  },
  {
   "cell_type": "code",
   "execution_count": 80,
   "metadata": {},
   "outputs": [],
   "source": [
    "def rmsle(y, yhat):\n",
    "    score = np.sqrt(np.mean(np.power(np.log(yhat+1)-np.log(y.reset_index(drop=True)+1), 2)))\n",
    "    return(score)"
   ]
  },
  {
   "cell_type": "code",
   "execution_count": 64,
   "metadata": {},
   "outputs": [
    {
     "data": {
      "text/html": [
       "<div>\n",
       "<style scoped>\n",
       "    .dataframe tbody tr th:only-of-type {\n",
       "        vertical-align: middle;\n",
       "    }\n",
       "\n",
       "    .dataframe tbody tr th {\n",
       "        vertical-align: top;\n",
       "    }\n",
       "\n",
       "    .dataframe thead th {\n",
       "        text-align: right;\n",
       "    }\n",
       "</style>\n",
       "<table border=\"1\" class=\"dataframe\">\n",
       "  <thead>\n",
       "    <tr style=\"text-align: right;\">\n",
       "      <th></th>\n",
       "      <th>building_id</th>\n",
       "      <th>meter</th>\n",
       "      <th>meter_reading</th>\n",
       "      <th>site_id</th>\n",
       "      <th>square_feet</th>\n",
       "      <th>year_built</th>\n",
       "      <th>floor_count</th>\n",
       "      <th>air_temperature</th>\n",
       "      <th>cloud_coverage</th>\n",
       "      <th>dew_temperature</th>\n",
       "      <th>precip_depth_1_hr</th>\n",
       "      <th>sea_level_pressure</th>\n",
       "      <th>wind_direction</th>\n",
       "      <th>wind_speed</th>\n",
       "    </tr>\n",
       "  </thead>\n",
       "  <tbody>\n",
       "    <tr>\n",
       "      <td>count</td>\n",
       "      <td>2.021610e+07</td>\n",
       "      <td>2.021610e+07</td>\n",
       "      <td>2.021610e+07</td>\n",
       "      <td>2.021610e+07</td>\n",
       "      <td>2.021610e+07</td>\n",
       "      <td>8.088455e+06</td>\n",
       "      <td>3.506933e+06</td>\n",
       "      <td>2.011944e+07</td>\n",
       "      <td>1.139074e+07</td>\n",
       "      <td>2.011596e+07</td>\n",
       "      <td>1.646708e+07</td>\n",
       "      <td>1.898443e+07</td>\n",
       "      <td>1.876705e+07</td>\n",
       "      <td>2.007242e+07</td>\n",
       "    </tr>\n",
       "    <tr>\n",
       "      <td>mean</td>\n",
       "      <td>7.992780e+02</td>\n",
       "      <td>6.624412e-01</td>\n",
       "      <td>2.117121e+03</td>\n",
       "      <td>7.992232e+00</td>\n",
       "      <td>1.077830e+05</td>\n",
       "      <td>1.968277e+03</td>\n",
       "      <td>4.184848e+00</td>\n",
       "      <td>1.598795e+01</td>\n",
       "      <td>1.900423e+00</td>\n",
       "      <td>7.747429e+00</td>\n",
       "      <td>7.964155e-01</td>\n",
       "      <td>1.016085e+03</td>\n",
       "      <td>1.730151e+02</td>\n",
       "      <td>3.377525e+00</td>\n",
       "    </tr>\n",
       "    <tr>\n",
       "      <td>std</td>\n",
       "      <td>4.269133e+02</td>\n",
       "      <td>9.309921e-01</td>\n",
       "      <td>1.532356e+05</td>\n",
       "      <td>5.099060e+00</td>\n",
       "      <td>1.171424e+05</td>\n",
       "      <td>3.020815e+01</td>\n",
       "      <td>4.008277e+00</td>\n",
       "      <td>1.094729e+01</td>\n",
       "      <td>2.402909e+00</td>\n",
       "      <td>1.017867e+01</td>\n",
       "      <td>7.468997e+00</td>\n",
       "      <td>7.060539e+00</td>\n",
       "      <td>1.140574e+02</td>\n",
       "      <td>2.265694e+00</td>\n",
       "    </tr>\n",
       "    <tr>\n",
       "      <td>min</td>\n",
       "      <td>0.000000e+00</td>\n",
       "      <td>0.000000e+00</td>\n",
       "      <td>0.000000e+00</td>\n",
       "      <td>0.000000e+00</td>\n",
       "      <td>2.830000e+02</td>\n",
       "      <td>1.900000e+03</td>\n",
       "      <td>1.000000e+00</td>\n",
       "      <td>-2.890000e+01</td>\n",
       "      <td>0.000000e+00</td>\n",
       "      <td>-3.500000e+01</td>\n",
       "      <td>-1.000000e+00</td>\n",
       "      <td>9.682000e+02</td>\n",
       "      <td>0.000000e+00</td>\n",
       "      <td>0.000000e+00</td>\n",
       "    </tr>\n",
       "    <tr>\n",
       "      <td>25%</td>\n",
       "      <td>3.930000e+02</td>\n",
       "      <td>0.000000e+00</td>\n",
       "      <td>1.830000e+01</td>\n",
       "      <td>3.000000e+00</td>\n",
       "      <td>3.252700e+04</td>\n",
       "      <td>1.951000e+03</td>\n",
       "      <td>1.000000e+00</td>\n",
       "      <td>8.600000e+00</td>\n",
       "      <td>0.000000e+00</td>\n",
       "      <td>0.000000e+00</td>\n",
       "      <td>0.000000e+00</td>\n",
       "      <td>1.011600e+03</td>\n",
       "      <td>7.000000e+01</td>\n",
       "      <td>2.100000e+00</td>\n",
       "    </tr>\n",
       "    <tr>\n",
       "      <td>50%</td>\n",
       "      <td>8.950000e+02</td>\n",
       "      <td>0.000000e+00</td>\n",
       "      <td>7.877500e+01</td>\n",
       "      <td>9.000000e+00</td>\n",
       "      <td>7.270900e+04</td>\n",
       "      <td>1.969000e+03</td>\n",
       "      <td>3.000000e+00</td>\n",
       "      <td>1.670000e+01</td>\n",
       "      <td>0.000000e+00</td>\n",
       "      <td>8.900000e+00</td>\n",
       "      <td>0.000000e+00</td>\n",
       "      <td>1.016000e+03</td>\n",
       "      <td>1.800000e+02</td>\n",
       "      <td>3.100000e+00</td>\n",
       "    </tr>\n",
       "    <tr>\n",
       "      <td>75%</td>\n",
       "      <td>1.179000e+03</td>\n",
       "      <td>1.000000e+00</td>\n",
       "      <td>2.679840e+02</td>\n",
       "      <td>1.300000e+01</td>\n",
       "      <td>1.391130e+05</td>\n",
       "      <td>1.993000e+03</td>\n",
       "      <td>6.000000e+00</td>\n",
       "      <td>2.410000e+01</td>\n",
       "      <td>4.000000e+00</td>\n",
       "      <td>1.610000e+01</td>\n",
       "      <td>0.000000e+00</td>\n",
       "      <td>1.020500e+03</td>\n",
       "      <td>2.800000e+02</td>\n",
       "      <td>4.600000e+00</td>\n",
       "    </tr>\n",
       "    <tr>\n",
       "      <td>max</td>\n",
       "      <td>1.448000e+03</td>\n",
       "      <td>3.000000e+00</td>\n",
       "      <td>2.190470e+07</td>\n",
       "      <td>1.500000e+01</td>\n",
       "      <td>8.750000e+05</td>\n",
       "      <td>2.017000e+03</td>\n",
       "      <td>2.600000e+01</td>\n",
       "      <td>4.720000e+01</td>\n",
       "      <td>9.000000e+00</td>\n",
       "      <td>2.610000e+01</td>\n",
       "      <td>3.430000e+02</td>\n",
       "      <td>1.045500e+03</td>\n",
       "      <td>3.600000e+02</td>\n",
       "      <td>1.900000e+01</td>\n",
       "    </tr>\n",
       "  </tbody>\n",
       "</table>\n",
       "</div>"
      ],
      "text/plain": [
       "        building_id         meter  meter_reading       site_id   square_feet  \\\n",
       "count  2.021610e+07  2.021610e+07   2.021610e+07  2.021610e+07  2.021610e+07   \n",
       "mean   7.992780e+02  6.624412e-01   2.117121e+03  7.992232e+00  1.077830e+05   \n",
       "std    4.269133e+02  9.309921e-01   1.532356e+05  5.099060e+00  1.171424e+05   \n",
       "min    0.000000e+00  0.000000e+00   0.000000e+00  0.000000e+00  2.830000e+02   \n",
       "25%    3.930000e+02  0.000000e+00   1.830000e+01  3.000000e+00  3.252700e+04   \n",
       "50%    8.950000e+02  0.000000e+00   7.877500e+01  9.000000e+00  7.270900e+04   \n",
       "75%    1.179000e+03  1.000000e+00   2.679840e+02  1.300000e+01  1.391130e+05   \n",
       "max    1.448000e+03  3.000000e+00   2.190470e+07  1.500000e+01  8.750000e+05   \n",
       "\n",
       "         year_built   floor_count  air_temperature  cloud_coverage  \\\n",
       "count  8.088455e+06  3.506933e+06     2.011944e+07    1.139074e+07   \n",
       "mean   1.968277e+03  4.184848e+00     1.598795e+01    1.900423e+00   \n",
       "std    3.020815e+01  4.008277e+00     1.094729e+01    2.402909e+00   \n",
       "min    1.900000e+03  1.000000e+00    -2.890000e+01    0.000000e+00   \n",
       "25%    1.951000e+03  1.000000e+00     8.600000e+00    0.000000e+00   \n",
       "50%    1.969000e+03  3.000000e+00     1.670000e+01    0.000000e+00   \n",
       "75%    1.993000e+03  6.000000e+00     2.410000e+01    4.000000e+00   \n",
       "max    2.017000e+03  2.600000e+01     4.720000e+01    9.000000e+00   \n",
       "\n",
       "       dew_temperature  precip_depth_1_hr  sea_level_pressure  wind_direction  \\\n",
       "count     2.011596e+07       1.646708e+07        1.898443e+07    1.876705e+07   \n",
       "mean      7.747429e+00       7.964155e-01        1.016085e+03    1.730151e+02   \n",
       "std       1.017867e+01       7.468997e+00        7.060539e+00    1.140574e+02   \n",
       "min      -3.500000e+01      -1.000000e+00        9.682000e+02    0.000000e+00   \n",
       "25%       0.000000e+00       0.000000e+00        1.011600e+03    7.000000e+01   \n",
       "50%       8.900000e+00       0.000000e+00        1.016000e+03    1.800000e+02   \n",
       "75%       1.610000e+01       0.000000e+00        1.020500e+03    2.800000e+02   \n",
       "max       2.610000e+01       3.430000e+02        1.045500e+03    3.600000e+02   \n",
       "\n",
       "         wind_speed  \n",
       "count  2.007242e+07  \n",
       "mean   3.377525e+00  \n",
       "std    2.265694e+00  \n",
       "min    0.000000e+00  \n",
       "25%    2.100000e+00  \n",
       "50%    3.100000e+00  \n",
       "75%    4.600000e+00  \n",
       "max    1.900000e+01  "
      ]
     },
     "execution_count": 64,
     "metadata": {},
     "output_type": "execute_result"
    }
   ],
   "source": [
    "df_train.describe()"
   ]
  },
  {
   "cell_type": "code",
   "execution_count": 65,
   "metadata": {},
   "outputs": [],
   "source": [
    "# Check one building\n",
    "df_train_build = df_train[(df_train['building_id'] == 46) & (df_train['meter'] == 0)]"
   ]
  },
  {
   "cell_type": "code",
   "execution_count": null,
   "metadata": {},
   "outputs": [],
   "source": [
    "df_train_build.head(20)"
   ]
  },
  {
   "cell_type": "code",
   "execution_count": 67,
   "metadata": {},
   "outputs": [],
   "source": [
    "### Intrapolate cloud coverage\n",
    "df_train['cloud_coverage'] = df_train.groupby(['building_id', 'meter'])['cloud_coverage'].apply(lambda x : x.interpolate(method = \"spline\", order = 1, limit_direction = \"both\"))\n",
    "df_test['cloud_coverage'] = df_test.groupby(['building_id', 'meter'])['cloud_coverage'].apply(lambda x : x.interpolate(method = \"spline\", order = 1, limit_direction = \"both\"))"
   ]
  },
  {
   "cell_type": "code",
   "execution_count": 68,
   "metadata": {},
   "outputs": [],
   "source": [
    "### Intrapolate air temperature\n",
    "df_train['air_temperature'] = df_train.groupby(['building_id', 'meter'])['air_temperature'].apply(lambda x : x.interpolate(method = \"spline\", order = 1, limit_direction = \"both\"))\n",
    "df_test['air_temperature'] = df_test.groupby(['building_id', 'meter'])['air_temperature'].apply(lambda x : x.interpolate(method = \"spline\", order = 1, limit_direction = \"both\"))"
   ]
  },
  {
   "cell_type": "code",
   "execution_count": 62,
   "metadata": {},
   "outputs": [],
   "source": [
    "### Lags for cloud coverage and air temperature\n",
    "for i in range(5):\n",
    "    df_train[f'cloud_coverage_lag{i+1}'] = df_train.groupby(['building_id', 'meter'])['cloud_coverage'].shift(i+1)\n",
    "    df_test[f'cloud_coverage_lag{i+1}'] = df_test.groupby(['building_id', 'meter'])['cloud_coverage'].shift(i+1)\n",
    "    df_train[f'air_temperature_lag{i+1}'] = df_train.groupby(['building_id', 'meter'])['air_temperature'].shift(i+1)\n",
    "    df_test[f'air_temperature_lag{i+1}'] = df_test.groupby(['building_id', 'meter'])['air_temperature'].shift(i+1)"
   ]
  },
  {
   "cell_type": "code",
   "execution_count": null,
   "metadata": {},
   "outputs": [],
   "source": [
    "df_train.dtypes"
   ]
  },
  {
   "cell_type": "code",
   "execution_count": 15,
   "metadata": {},
   "outputs": [],
   "source": [
    "#### Take a Sample ####\n",
    "#df_train = df_train.sample(n=int(df_train.shape[0]*0.1), random_state=1)\n",
    "#df_test = df_test.sample(n=int(df_test.shape[0]*0.1), random_state=1)"
   ]
  },
  {
   "cell_type": "code",
   "execution_count": 16,
   "metadata": {},
   "outputs": [],
   "source": [
    "#df_train[\"Month\"] = pd.to_datetime(df_train[\"timestamp\"]).dt.month\n",
    "#df_test[\"Month\"] = pd.to_datetime(df_test[\"timestamp\"]).dt.month"
   ]
  },
  {
   "cell_type": "code",
   "execution_count": 69,
   "metadata": {},
   "outputs": [],
   "source": [
    "df_train[\"Day\"] = pd.to_datetime(df_train[\"timestamp\"]).dt.day\n",
    "df_test[\"Day\"] = pd.to_datetime(df_test[\"timestamp\"]).dt.day"
   ]
  },
  {
   "cell_type": "code",
   "execution_count": 70,
   "metadata": {},
   "outputs": [],
   "source": [
    "df_train[\"Hour\"] = pd.to_datetime(df_train[\"timestamp\"]).dt.hour\n",
    "df_test[\"Hour\"] = pd.to_datetime(df_test[\"timestamp\"]).dt.hour"
   ]
  },
  {
   "cell_type": "code",
   "execution_count": 87,
   "metadata": {},
   "outputs": [],
   "source": [
    "df_train.to_csv(\"df_train.csv\", index = False)\n",
    "df_test.to_csv(\"df_test.csv\", index = False)"
   ]
  },
  {
   "cell_type": "code",
   "execution_count": 84,
   "metadata": {},
   "outputs": [],
   "source": [
    "df_train = pd.read_csv('./df_train.csv')\n",
    "df_test = pd.read_csv('./df_test.csv')"
   ]
  },
  {
   "cell_type": "code",
   "execution_count": 85,
   "metadata": {},
   "outputs": [],
   "source": [
    "df_train[\"DayOfWeek\"] = pd.to_datetime(df_train[\"timestamp\"]).dt.dayofweek\n",
    "df_test[\"DayOfWeek\"] = pd.to_datetime(df_test[\"timestamp\"]).dt.dayofweek"
   ]
  },
  {
   "cell_type": "code",
   "execution_count": 19,
   "metadata": {},
   "outputs": [],
   "source": [
    "#df_train = dp.create_stats_features(df_train, 'dew_temperature', ['site_id', 'Month'])\n",
    "#df_test = dp.create_stats_features(df_test, 'dew_temperature', ['site_id', 'Month'])"
   ]
  },
  {
   "cell_type": "code",
   "execution_count": 20,
   "metadata": {},
   "outputs": [],
   "source": [
    "#df_train[\"air_temperature_log\"] = np.log(df_train['air_temperature'])\n",
    "#df_test[\"air_temperature_log\"] = np.log(df_test['air_temperature'])"
   ]
  },
  {
   "cell_type": "code",
   "execution_count": 21,
   "metadata": {},
   "outputs": [],
   "source": [
    "#df_train[\"Age\"] = pd.to_datetime(df_train[\"timestamp\"]).dt.year - df_train[\"year_built\"]\n",
    "#df_test[\"Age\"] = pd.to_datetime(df_test[\"timestamp\"]).dt.year - df_test[\"year_built\"]"
   ]
  },
  {
   "cell_type": "code",
   "execution_count": 710,
   "metadata": {},
   "outputs": [],
   "source": [
    "### Clean Electricity ###\n",
    "df_train = df_train[~((df_train['site_id'] == 0) & (df_train['meter'] == 0) & (pd.to_datetime(df_train['timestamp']) < pd.to_datetime('2016-05-20 18:00:00')))]"
   ]
  },
  {
   "cell_type": "code",
   "execution_count": 719,
   "metadata": {},
   "outputs": [],
   "source": [
    "df_train_elec = df_train[(df_train['site_id'] == 6) & (df_train['meter'] == 1)] \n",
    "df_train_elec_test = df_train_elec[df_train_elec['building_id'] == 753]"
   ]
  },
  {
   "cell_type": "code",
   "execution_count": 732,
   "metadata": {},
   "outputs": [
    {
     "data": {
      "text/plain": [
       "(8732, 19)"
      ]
     },
     "execution_count": 732,
     "metadata": {},
     "output_type": "execute_result"
    }
   ],
   "source": [
    "#test = df_train_elec.groupby('building_id', as_index=True)['meter_reading'].apply(lambda x: x[x < x.quantile(0.99)]).reset_index().drop(['level_1'], axis = 1)\n",
    "df_train_elec_test[(np.abs(stats.zscore(df_train_elec_test['meter_reading'])) < 5)]"
   ]
  },
  {
   "cell_type": "code",
   "execution_count": 716,
   "metadata": {},
   "outputs": [],
   "source": [
    "df_train_elec = df_train[(df_train['meter'] == 1) & (df_train['building_id'] == 753)] "
   ]
  },
  {
   "cell_type": "code",
   "execution_count": 718,
   "metadata": {},
   "outputs": [
    {
     "data": {
      "text/plain": [
       "[<matplotlib.lines.Line2D at 0x7f1e6095fba8>]"
      ]
     },
     "execution_count": 718,
     "metadata": {},
     "output_type": "execute_result"
    },
    {
     "data": {
      "image/png": "[encoded data removed]",
      "text/plain": [
       "<Figure size 432x288 with 1 Axes>"
      ]
     },
     "metadata": {
      "needs_background": "light"
     },
     "output_type": "display_data"
    }
   ],
   "source": [
    "z = np.abs(stats.zscore(df_train_elec['meter_reading']))\n",
    "plt.plot(z)"
   ]
  },
  {
   "cell_type": "code",
   "execution_count": 586,
   "metadata": {},
   "outputs": [],
   "source": [
    "#df_train_elec.head()"
   ]
  },
  {
   "cell_type": "code",
   "execution_count": 587,
   "metadata": {},
   "outputs": [],
   "source": [
    "#df_train_elec[pd.to_datetime(df_train_elec['timestamp']) > pd.to_datetime('2016-05-20 17:00:00')].head(30) "
   ]
  },
  {
   "cell_type": "code",
   "execution_count": 711,
   "metadata": {},
   "outputs": [
    {
     "data": {
      "text/plain": [
       "[<matplotlib.lines.Line2D at 0x7f1e61223080>]"
      ]
     },
     "execution_count": 711,
     "metadata": {},
     "output_type": "execute_result"
    },
    {
     "data": {
      "image/png": "[encoded data removed]",
      "text/plain": [
       "<Figure size 1440x1440 with 1 Axes>"
      ]
     },
     "metadata": {
      "needs_background": "light"
     },
     "output_type": "display_data"
    }
   ],
   "source": [
    "plt.figure(figsize=(20,20))\n",
    "plt.plot(pd.to_datetime(df_train_elec[\"timestamp\"]).dt.date, df_train_elec['meter_reading'])"
   ]
  },
  {
   "cell_type": "code",
   "execution_count": 230,
   "metadata": {},
   "outputs": [],
   "source": [
    "#df_train = df_train[df_train[\"meter_reading\"] != 0.0]"
   ]
  },
  {
   "cell_type": "code",
   "execution_count": 10,
   "metadata": {},
   "outputs": [],
   "source": [
    "#encode_cols = [\"primary_use\"]"
   ]
  },
  {
   "cell_type": "code",
   "execution_count": 11,
   "metadata": {},
   "outputs": [
    {
     "name": "stdout",
     "output_type": "stream",
     "text": [
      "colums primary_use is being encoded\n"
     ]
    }
   ],
   "source": [
    "#data = dp.encode_categorical(df_train, df_test, encode_cols) "
   ]
  },
  {
   "cell_type": "code",
   "execution_count": 12,
   "metadata": {},
   "outputs": [],
   "source": [
    "#mb = mc.modelBuilder('regression', 'LGBM')"
   ]
  },
  {
   "cell_type": "code",
   "execution_count": 99,
   "metadata": {},
   "outputs": [
    {
     "name": "stdout",
     "output_type": "stream",
     "text": [
      "17 features have been chosen for modeling\n"
     ]
    }
   ],
   "source": [
    "#data = mb.prepare_data_split(df_train =  data['df_train'], df_test = data['df_test'], \n",
    "#                             target = 'meter_reading', rem_cols = ['timestamp'], \n",
    "#                             useVarImp = False, varimp_threshold = 100)"
   ]
  },
  {
   "cell_type": "code",
   "execution_count": 100,
   "metadata": {},
   "outputs": [],
   "source": [
    "#data['X_test'] = data['X_test'].drop([\"row_id\"],  axis=1)"
   ]
  },
  {
   "cell_type": "code",
   "execution_count": 101,
   "metadata": {},
   "outputs": [
    {
     "name": "stderr",
     "output_type": "stream",
     "text": [
      "/opt/conda/lib/python3.7/site-packages/pandas/core/series.py:853: RuntimeWarning: divide by zero encountered in log\n",
      "  result = getattr(ufunc, method)(*inputs, **kwargs)\n"
     ]
    }
   ],
   "source": [
    "#data['Y'] = np.log(data['Y'])"
   ]
  },
  {
   "cell_type": "code",
   "execution_count": 102,
   "metadata": {},
   "outputs": [],
   "source": [
    "#data['Y'][data['Y'] == -inf] = 0"
   ]
  },
  {
   "cell_type": "code",
   "execution_count": 1,
   "metadata": {},
   "outputs": [
    {
     "ename": "NameError",
     "evalue": "name 'data' is not defined",
     "output_type": "error",
     "traceback": [
      "\u001b[0;31m---------------------------------------------------------------------------\u001b[0m",
      "\u001b[0;31mNameError\u001b[0m                                 Traceback (most recent call last)",
      "\u001b[0;32m<ipython-input-1-13fb984d5f71>\u001b[0m in \u001b[0;36m<module>\u001b[0;34m\u001b[0m\n\u001b[0;32m----> 1\u001b[0;31m \u001b[0mdata\u001b[0m\u001b[0;34m[\u001b[0m\u001b[0;34m'Y'\u001b[0m\u001b[0;34m]\u001b[0m\u001b[0;34m.\u001b[0m\u001b[0mdescribe\u001b[0m\u001b[0;34m(\u001b[0m\u001b[0;34m)\u001b[0m\u001b[0;34m\u001b[0m\u001b[0;34m\u001b[0m\u001b[0m\n\u001b[0m",
      "\u001b[0;31mNameError\u001b[0m: name 'data' is not defined"
     ]
    }
   ],
   "source": [
    "#data['Y'].describe()"
   ]
  },
  {
   "cell_type": "code",
   "execution_count": 522,
   "metadata": {},
   "outputs": [],
   "source": [
    "def rmse(y, yhat):\n",
    "    score = sqrt(mean_squared_error(y, yhat))\n",
    "    return(score)"
   ]
  },
  {
   "cell_type": "code",
   "execution_count": 733,
   "metadata": {},
   "outputs": [],
   "source": [
    "# LGBM\n",
    "params = {\n",
    "    'boosting_type':'gbdt',\n",
    "    'n_estimators':500,\n",
    "    'num_leaves':64, \n",
    "    'objective':'regression_l2', \n",
    "    'colsample_bytree': 1.0, \n",
    "    'learning_rate': 0.3,\n",
    "    'max_bin':255, \n",
    "    'max_depth':9, \n",
    "    'metric':'rmse', \n",
    "    'min_child_samples':10,\n",
    "    'min_child_weight':5, \n",
    "    'min_split_gain':0.0,\n",
    "    'random_state':1234,\n",
    "    'lambda_l2': 1.5,\n",
    "    'verbose' : 2,\n",
    "    #'reg_alpha':0.0,\n",
    "    #'reg_lambda':0.0, \n",
    "    #'silent':True, \n",
    "    'subsample':1.0\n",
    "    #,\n",
    "    #'early_stopping_round' : 100\n",
    "}"
   ]
  },
  {
   "cell_type": "code",
   "execution_count": 66,
   "metadata": {},
   "outputs": [],
   "source": [
    "#gc.collect()"
   ]
  },
  {
   "cell_type": "code",
   "execution_count": 67,
   "metadata": {},
   "outputs": [],
   "source": [
    "#df_train_build = df_train[(df_train['building_id'] == 46) & (df_train['meter'] == 0)]"
   ]
  },
  {
   "cell_type": "code",
   "execution_count": 68,
   "metadata": {},
   "outputs": [],
   "source": [
    "#df_train_build.head(20)"
   ]
  },
  {
   "cell_type": "code",
   "execution_count": 69,
   "metadata": {},
   "outputs": [],
   "source": [
    "#submit = mb.run_model(data, n_folds = 5, metric_func = rmse, get_probab = False, \n",
    "#                      save_varimp = True, params = params, oversmp = False, cv_shuffle=False)"
   ]
  },
  {
   "cell_type": "code",
   "execution_count": 737,
   "metadata": {},
   "outputs": [
    {
     "data": {
      "application/vnd.jupyter.widget-view+json": {
       "model_id": "4d872946ff2545869da0bc1e0a8d0a4f",
       "version_major": 2,
       "version_minor": 0
      },
      "text/plain": [
       "HBox(children=(IntProgress(value=0, max=16), HTML(value='')))"
      ]
     },
     "metadata": {},
     "output_type": "display_data"
    },
    {
     "name": "stdout",
     "output_type": "stream",
     "text": [
      "training site_id 1\n",
      "training meter 0\n",
      "colums primary_use is being encoded\n"
     ]
    },
    {
     "name": "stderr",
     "output_type": "stream",
     "text": [
      "/opt/conda/lib/python3.7/site-packages/bearinmind_pipeline/data_preprocessing.py:60: SettingWithCopyWarning: \n",
      "A value is trying to be set on a copy of a slice from a DataFrame.\n",
      "Try using .loc[row_indexer,col_indexer] = value instead\n",
      "\n",
      "See the caveats in the documentation: http://pandas.pydata.org/pandas-docs/stable/user_guide/indexing.html#returning-a-view-versus-a-copy\n",
      "  df_test[f] = lbl.transform(list(df_test[f].values))\n",
      "/opt/conda/lib/python3.7/site-packages/pandas/core/series.py:853: RuntimeWarning: divide by zero encountered in log\n",
      "  result = getattr(ufunc, method)(*inputs, **kwargs)\n"
     ]
    },
    {
     "name": "stdout",
     "output_type": "stream",
     "text": [
      "17 features have been chosen for modeling\n",
      "Fold: 0\n",
      "The valuation metric for the fold 0 is 0.5502269106064527\n",
      "Fold: 1\n",
      "The valuation metric for the fold 1 is 0.6122029515963936\n",
      "Fold: 2\n",
      "The valuation metric for the fold 2 is 0.812811715185831\n",
      "Fold: 3\n",
      "The valuation metric for the fold 3 is 0.466182228003455\n",
      "Fold: 4\n",
      "The valuation metric for the fold 4 is 1.4481409518579804\n",
      "The average score accross the folds is 0.7779129514500226\n",
      "training meter 3\n",
      "colums primary_use is being encoded\n"
     ]
    },
    {
     "name": "stderr",
     "output_type": "stream",
     "text": [
      "/opt/conda/lib/python3.7/site-packages/bearinmind_pipeline/data_preprocessing.py:60: SettingWithCopyWarning: \n",
      "A value is trying to be set on a copy of a slice from a DataFrame.\n",
      "Try using .loc[row_indexer,col_indexer] = value instead\n",
      "\n",
      "See the caveats in the documentation: http://pandas.pydata.org/pandas-docs/stable/user_guide/indexing.html#returning-a-view-versus-a-copy\n",
      "  df_test[f] = lbl.transform(list(df_test[f].values))\n",
      "/opt/conda/lib/python3.7/site-packages/pandas/core/series.py:853: RuntimeWarning: divide by zero encountered in log\n",
      "  result = getattr(ufunc, method)(*inputs, **kwargs)\n"
     ]
    },
    {
     "name": "stdout",
     "output_type": "stream",
     "text": [
      "17 features have been chosen for modeling\n",
      "Fold: 0\n",
      "The valuation metric for the fold 0 is 1.4388279993360569\n",
      "Fold: 1\n",
      "The valuation metric for the fold 1 is 1.4701752864388342\n",
      "Fold: 2\n",
      "The valuation metric for the fold 2 is 1.6502518928982914\n",
      "Fold: 3\n",
      "The valuation metric for the fold 3 is 1.7639552985142188\n",
      "Fold: 4\n",
      "The valuation metric for the fold 4 is 2.272485406366511\n",
      "The average score accross the folds is 1.7191391767107824\n",
      "training site_id 2\n",
      "training meter 0\n",
      "colums primary_use is being encoded\n"
     ]
    },
    {
     "name": "stderr",
     "output_type": "stream",
     "text": [
      "/opt/conda/lib/python3.7/site-packages/bearinmind_pipeline/data_preprocessing.py:60: SettingWithCopyWarning: \n",
      "A value is trying to be set on a copy of a slice from a DataFrame.\n",
      "Try using .loc[row_indexer,col_indexer] = value instead\n",
      "\n",
      "See the caveats in the documentation: http://pandas.pydata.org/pandas-docs/stable/user_guide/indexing.html#returning-a-view-versus-a-copy\n",
      "  df_test[f] = lbl.transform(list(df_test[f].values))\n"
     ]
    },
    {
     "name": "stdout",
     "output_type": "stream",
     "text": [
      "17 features have been chosen for modeling\n"
     ]
    },
    {
     "name": "stderr",
     "output_type": "stream",
     "text": [
      "/opt/conda/lib/python3.7/site-packages/pandas/core/series.py:853: RuntimeWarning: divide by zero encountered in log\n",
      "  result = getattr(ufunc, method)(*inputs, **kwargs)\n"
     ]
    },
    {
     "name": "stdout",
     "output_type": "stream",
     "text": [
      "Fold: 0\n",
      "The valuation metric for the fold 0 is 0.5670523282878857\n",
      "Fold: 1\n",
      "The valuation metric for the fold 1 is 0.480314083216345\n",
      "Fold: 2\n",
      "The valuation metric for the fold 2 is 0.5747377154650617\n",
      "Fold: 3\n",
      "The valuation metric for the fold 3 is 0.5009661798667692\n",
      "Fold: 4\n",
      "The valuation metric for the fold 4 is 0.6505947895808412\n",
      "The average score accross the folds is 0.5547330192833806\n",
      "training meter 1\n",
      "colums primary_use is being encoded\n"
     ]
    },
    {
     "name": "stderr",
     "output_type": "stream",
     "text": [
      "/opt/conda/lib/python3.7/site-packages/bearinmind_pipeline/data_preprocessing.py:60: SettingWithCopyWarning: \n",
      "A value is trying to be set on a copy of a slice from a DataFrame.\n",
      "Try using .loc[row_indexer,col_indexer] = value instead\n",
      "\n",
      "See the caveats in the documentation: http://pandas.pydata.org/pandas-docs/stable/user_guide/indexing.html#returning-a-view-versus-a-copy\n",
      "  df_test[f] = lbl.transform(list(df_test[f].values))\n"
     ]
    },
    {
     "name": "stdout",
     "output_type": "stream",
     "text": [
      "17 features have been chosen for modeling\n"
     ]
    },
    {
     "name": "stderr",
     "output_type": "stream",
     "text": [
      "/opt/conda/lib/python3.7/site-packages/pandas/core/series.py:853: RuntimeWarning: divide by zero encountered in log\n",
      "  result = getattr(ufunc, method)(*inputs, **kwargs)\n"
     ]
    },
    {
     "name": "stdout",
     "output_type": "stream",
     "text": [
      "Fold: 0\n",
      "The valuation metric for the fold 0 is 1.464288520157907\n",
      "Fold: 1\n",
      "The valuation metric for the fold 1 is 1.1453938643218706\n",
      "Fold: 2\n",
      "The valuation metric for the fold 2 is 1.1440542728197518\n",
      "Fold: 3\n",
      "The valuation metric for the fold 3 is 1.1507443379914584\n",
      "Fold: 4\n",
      "The valuation metric for the fold 4 is 1.412499607015665\n",
      "The average score accross the folds is 1.2633961204613304\n",
      "training meter 3\n",
      "colums primary_use is being encoded\n"
     ]
    },
    {
     "name": "stderr",
     "output_type": "stream",
     "text": [
      "/opt/conda/lib/python3.7/site-packages/bearinmind_pipeline/data_preprocessing.py:60: SettingWithCopyWarning: \n",
      "A value is trying to be set on a copy of a slice from a DataFrame.\n",
      "Try using .loc[row_indexer,col_indexer] = value instead\n",
      "\n",
      "See the caveats in the documentation: http://pandas.pydata.org/pandas-docs/stable/user_guide/indexing.html#returning-a-view-versus-a-copy\n",
      "  df_test[f] = lbl.transform(list(df_test[f].values))\n",
      "/opt/conda/lib/python3.7/site-packages/pandas/core/series.py:853: RuntimeWarning: divide by zero encountered in log\n",
      "  result = getattr(ufunc, method)(*inputs, **kwargs)\n"
     ]
    },
    {
     "name": "stdout",
     "output_type": "stream",
     "text": [
      "17 features have been chosen for modeling\n",
      "Fold: 0\n",
      "The valuation metric for the fold 0 is 1.3540926122512738\n",
      "Fold: 1\n",
      "The valuation metric for the fold 1 is 0.9715449821389003\n",
      "Fold: 2\n",
      "The valuation metric for the fold 2 is 0.77581911570824\n",
      "Fold: 3\n",
      "The valuation metric for the fold 3 is 0.8849947860642178\n",
      "Fold: 4\n",
      "The valuation metric for the fold 4 is 1.2417783122954509\n",
      "The average score accross the folds is 1.0456459616916165\n",
      "training site_id 3\n",
      "training meter 0\n",
      "colums primary_use is being encoded\n",
      "17 features have been chosen for modeling\n"
     ]
    },
    {
     "name": "stderr",
     "output_type": "stream",
     "text": [
      "/opt/conda/lib/python3.7/site-packages/pandas/core/series.py:853: RuntimeWarning: divide by zero encountered in log\n",
      "  result = getattr(ufunc, method)(*inputs, **kwargs)\n"
     ]
    },
    {
     "name": "stdout",
     "output_type": "stream",
     "text": [
      "Fold: 0\n",
      "The valuation metric for the fold 0 is 0.5685067906686276\n",
      "Fold: 1\n",
      "The valuation metric for the fold 1 is 0.5071124186902388\n",
      "Fold: 2\n",
      "The valuation metric for the fold 2 is 0.44231922589528067\n",
      "Fold: 3\n",
      "The valuation metric for the fold 3 is 0.4348504081324336\n",
      "Fold: 4\n",
      "The valuation metric for the fold 4 is 0.5624524508300426\n",
      "The average score accross the folds is 0.5030482588433246\n",
      "training site_id 4\n",
      "training meter 0\n",
      "colums primary_use is being encoded\n",
      "17 features have been chosen for modeling\n"
     ]
    },
    {
     "name": "stderr",
     "output_type": "stream",
     "text": [
      "/opt/conda/lib/python3.7/site-packages/pandas/core/series.py:853: RuntimeWarning: divide by zero encountered in log\n",
      "  result = getattr(ufunc, method)(*inputs, **kwargs)\n"
     ]
    },
    {
     "name": "stdout",
     "output_type": "stream",
     "text": [
      "Fold: 0\n",
      "The valuation metric for the fold 0 is 0.27160870240281637\n",
      "Fold: 1\n",
      "The valuation metric for the fold 1 is 0.24143963653196793\n",
      "Fold: 2\n",
      "The valuation metric for the fold 2 is 0.29767628814249225\n",
      "Fold: 3\n",
      "The valuation metric for the fold 3 is 0.22634949786280978\n",
      "Fold: 4\n",
      "The valuation metric for the fold 4 is 0.2871353810908724\n",
      "The average score accross the folds is 0.2648419012061917\n",
      "training site_id 5\n",
      "training meter 0\n",
      "colums primary_use is being encoded\n",
      "17 features have been chosen for modeling\n",
      "Fold: 0\n"
     ]
    },
    {
     "name": "stderr",
     "output_type": "stream",
     "text": [
      "/opt/conda/lib/python3.7/site-packages/pandas/core/series.py:853: RuntimeWarning: divide by zero encountered in log\n",
      "  result = getattr(ufunc, method)(*inputs, **kwargs)\n"
     ]
    },
    {
     "name": "stdout",
     "output_type": "stream",
     "text": [
      "The valuation metric for the fold 0 is 0.9689468119033553\n",
      "Fold: 1\n",
      "The valuation metric for the fold 1 is 0.9150797205657402\n",
      "Fold: 2\n",
      "The valuation metric for the fold 2 is 0.9986201112741622\n",
      "Fold: 3\n",
      "The valuation metric for the fold 3 is 0.9761290942682146\n",
      "Fold: 4\n",
      "The valuation metric for the fold 4 is 1.1250886877565913\n",
      "The average score accross the folds is 0.9967728851536126\n",
      "training site_id 6\n",
      "training meter 0\n",
      "colums primary_use is being encoded\n"
     ]
    },
    {
     "name": "stderr",
     "output_type": "stream",
     "text": [
      "/opt/conda/lib/python3.7/site-packages/bearinmind_pipeline/data_preprocessing.py:60: SettingWithCopyWarning: \n",
      "A value is trying to be set on a copy of a slice from a DataFrame.\n",
      "Try using .loc[row_indexer,col_indexer] = value instead\n",
      "\n",
      "See the caveats in the documentation: http://pandas.pydata.org/pandas-docs/stable/user_guide/indexing.html#returning-a-view-versus-a-copy\n",
      "  df_test[f] = lbl.transform(list(df_test[f].values))\n",
      "/opt/conda/lib/python3.7/site-packages/pandas/core/series.py:853: RuntimeWarning: divide by zero encountered in log\n",
      "  result = getattr(ufunc, method)(*inputs, **kwargs)\n"
     ]
    },
    {
     "name": "stdout",
     "output_type": "stream",
     "text": [
      "17 features have been chosen for modeling\n",
      "Fold: 0\n",
      "The valuation metric for the fold 0 is 0.3199650221422316\n",
      "Fold: 1\n",
      "The valuation metric for the fold 1 is 0.26963446252111295\n",
      "Fold: 2\n",
      "The valuation metric for the fold 2 is 0.30897316361020644\n",
      "Fold: 3\n",
      "The valuation metric for the fold 3 is 0.33140545760323037\n",
      "Fold: 4\n",
      "The valuation metric for the fold 4 is 0.3686316372749935\n",
      "The average score accross the folds is 0.31972194863035497\n",
      "training meter 2\n",
      "colums primary_use is being encoded\n"
     ]
    },
    {
     "name": "stderr",
     "output_type": "stream",
     "text": [
      "/opt/conda/lib/python3.7/site-packages/bearinmind_pipeline/data_preprocessing.py:60: SettingWithCopyWarning: \n",
      "A value is trying to be set on a copy of a slice from a DataFrame.\n",
      "Try using .loc[row_indexer,col_indexer] = value instead\n",
      "\n",
      "See the caveats in the documentation: http://pandas.pydata.org/pandas-docs/stable/user_guide/indexing.html#returning-a-view-versus-a-copy\n",
      "  df_test[f] = lbl.transform(list(df_test[f].values))\n",
      "/opt/conda/lib/python3.7/site-packages/pandas/core/series.py:853: RuntimeWarning: divide by zero encountered in log\n",
      "  result = getattr(ufunc, method)(*inputs, **kwargs)\n"
     ]
    },
    {
     "name": "stdout",
     "output_type": "stream",
     "text": [
      "17 features have been chosen for modeling\n",
      "Fold: 0\n",
      "The valuation metric for the fold 0 is 2.535073729197186\n",
      "Fold: 1\n",
      "The valuation metric for the fold 1 is 1.7433884916075215\n",
      "Fold: 2\n",
      "The valuation metric for the fold 2 is 1.2374942288318873\n",
      "Fold: 3\n",
      "The valuation metric for the fold 3 is 1.5843223118691347\n",
      "Fold: 4\n",
      "The valuation metric for the fold 4 is 2.1353746468611967\n",
      "The average score accross the folds is 1.847130681673385\n",
      "training meter 1\n",
      "colums primary_use is being encoded\n"
     ]
    },
    {
     "name": "stderr",
     "output_type": "stream",
     "text": [
      "/opt/conda/lib/python3.7/site-packages/bearinmind_pipeline/data_preprocessing.py:60: SettingWithCopyWarning: \n",
      "A value is trying to be set on a copy of a slice from a DataFrame.\n",
      "Try using .loc[row_indexer,col_indexer] = value instead\n",
      "\n",
      "See the caveats in the documentation: http://pandas.pydata.org/pandas-docs/stable/user_guide/indexing.html#returning-a-view-versus-a-copy\n",
      "  df_test[f] = lbl.transform(list(df_test[f].values))\n",
      "/opt/conda/lib/python3.7/site-packages/pandas/core/series.py:853: RuntimeWarning: divide by zero encountered in log\n",
      "  result = getattr(ufunc, method)(*inputs, **kwargs)\n"
     ]
    },
    {
     "name": "stdout",
     "output_type": "stream",
     "text": [
      "17 features have been chosen for modeling\n",
      "Fold: 0\n",
      "The valuation metric for the fold 0 is 1.5537591340153085\n",
      "Fold: 1\n",
      "The valuation metric for the fold 1 is 1.6842357407523592\n",
      "Fold: 2\n",
      "The valuation metric for the fold 2 is 1.3545061072859061\n",
      "Fold: 3\n",
      "The valuation metric for the fold 3 is 1.9292960717891032\n",
      "Fold: 4\n",
      "The valuation metric for the fold 4 is 1.725961246504206\n",
      "The average score accross the folds is 1.6495516600693765\n",
      "training site_id 7\n",
      "training meter 1\n",
      "colums primary_use is being encoded\n",
      "17 features have been chosen for modeling\n"
     ]
    },
    {
     "name": "stderr",
     "output_type": "stream",
     "text": [
      "/opt/conda/lib/python3.7/site-packages/bearinmind_pipeline/data_preprocessing.py:60: SettingWithCopyWarning: \n",
      "A value is trying to be set on a copy of a slice from a DataFrame.\n",
      "Try using .loc[row_indexer,col_indexer] = value instead\n",
      "\n",
      "See the caveats in the documentation: http://pandas.pydata.org/pandas-docs/stable/user_guide/indexing.html#returning-a-view-versus-a-copy\n",
      "  df_test[f] = lbl.transform(list(df_test[f].values))\n",
      "/opt/conda/lib/python3.7/site-packages/pandas/core/series.py:853: RuntimeWarning: divide by zero encountered in log\n",
      "  result = getattr(ufunc, method)(*inputs, **kwargs)\n"
     ]
    },
    {
     "name": "stdout",
     "output_type": "stream",
     "text": [
      "Fold: 0\n",
      "The valuation metric for the fold 0 is 1.1280284688648539\n",
      "Fold: 1\n",
      "The valuation metric for the fold 1 is 1.7181459559774277\n",
      "Fold: 2\n",
      "The valuation metric for the fold 2 is 1.6477922137268415\n",
      "Fold: 3\n",
      "The valuation metric for the fold 3 is 1.8600069017406844\n",
      "Fold: 4\n",
      "The valuation metric for the fold 4 is 1.4270832157409088\n",
      "The average score accross the folds is 1.5562113512101434\n",
      "training meter 2\n",
      "colums primary_use is being encoded\n"
     ]
    },
    {
     "name": "stderr",
     "output_type": "stream",
     "text": [
      "/opt/conda/lib/python3.7/site-packages/bearinmind_pipeline/data_preprocessing.py:60: SettingWithCopyWarning: \n",
      "A value is trying to be set on a copy of a slice from a DataFrame.\n",
      "Try using .loc[row_indexer,col_indexer] = value instead\n",
      "\n",
      "See the caveats in the documentation: http://pandas.pydata.org/pandas-docs/stable/user_guide/indexing.html#returning-a-view-versus-a-copy\n",
      "  df_test[f] = lbl.transform(list(df_test[f].values))\n",
      "/opt/conda/lib/python3.7/site-packages/pandas/core/series.py:853: RuntimeWarning: divide by zero encountered in log\n",
      "  result = getattr(ufunc, method)(*inputs, **kwargs)\n"
     ]
    },
    {
     "name": "stdout",
     "output_type": "stream",
     "text": [
      "17 features have been chosen for modeling\n",
      "Fold: 0\n",
      "The valuation metric for the fold 0 is 1.4718999863652633\n",
      "Fold: 1\n",
      "The valuation metric for the fold 1 is 2.1442567964573667\n",
      "Fold: 2\n",
      "The valuation metric for the fold 2 is 1.6280298744418173\n",
      "Fold: 3\n",
      "The valuation metric for the fold 3 is 1.9192351110927297\n",
      "Fold: 4\n",
      "The valuation metric for the fold 4 is 1.833258268373717\n",
      "The average score accross the folds is 1.7993360073461786\n",
      "training meter 0\n",
      "colums primary_use is being encoded\n"
     ]
    },
    {
     "name": "stderr",
     "output_type": "stream",
     "text": [
      "/opt/conda/lib/python3.7/site-packages/bearinmind_pipeline/data_preprocessing.py:60: SettingWithCopyWarning: \n",
      "A value is trying to be set on a copy of a slice from a DataFrame.\n",
      "Try using .loc[row_indexer,col_indexer] = value instead\n",
      "\n",
      "See the caveats in the documentation: http://pandas.pydata.org/pandas-docs/stable/user_guide/indexing.html#returning-a-view-versus-a-copy\n",
      "  df_test[f] = lbl.transform(list(df_test[f].values))\n",
      "/opt/conda/lib/python3.7/site-packages/pandas/core/series.py:853: RuntimeWarning: divide by zero encountered in log\n",
      "  result = getattr(ufunc, method)(*inputs, **kwargs)\n"
     ]
    },
    {
     "name": "stdout",
     "output_type": "stream",
     "text": [
      "17 features have been chosen for modeling\n",
      "Fold: 0\n",
      "The valuation metric for the fold 0 is 3.1318762334981223\n",
      "Fold: 1\n",
      "The valuation metric for the fold 1 is 2.756420258485205\n",
      "Fold: 2\n",
      "The valuation metric for the fold 2 is 2.0952076364696084\n",
      "Fold: 3\n",
      "The valuation metric for the fold 3 is 2.4394226985968657\n",
      "Fold: 4\n",
      "The valuation metric for the fold 4 is 3.6596425912034594\n",
      "The average score accross the folds is 2.8165138836506523\n",
      "training meter 3\n",
      "colums primary_use is being encoded\n",
      "17 features have been chosen for modeling\n",
      "Fold: 0\n"
     ]
    },
    {
     "name": "stderr",
     "output_type": "stream",
     "text": [
      "/opt/conda/lib/python3.7/site-packages/bearinmind_pipeline/data_preprocessing.py:60: SettingWithCopyWarning: \n",
      "A value is trying to be set on a copy of a slice from a DataFrame.\n",
      "Try using .loc[row_indexer,col_indexer] = value instead\n",
      "\n",
      "See the caveats in the documentation: http://pandas.pydata.org/pandas-docs/stable/user_guide/indexing.html#returning-a-view-versus-a-copy\n",
      "  df_test[f] = lbl.transform(list(df_test[f].values))\n",
      "/opt/conda/lib/python3.7/site-packages/pandas/core/series.py:853: RuntimeWarning: divide by zero encountered in log\n",
      "  result = getattr(ufunc, method)(*inputs, **kwargs)\n"
     ]
    },
    {
     "name": "stdout",
     "output_type": "stream",
     "text": [
      "The valuation metric for the fold 0 is 0.6890365819651088\n",
      "Fold: 1\n",
      "The valuation metric for the fold 1 is 2.7543065561480637\n",
      "Fold: 2\n",
      "The valuation metric for the fold 2 is 2.6632751786293634\n",
      "Fold: 3\n",
      "The valuation metric for the fold 3 is 2.728775524517004\n",
      "Fold: 4\n",
      "The valuation metric for the fold 4 is 1.7783804974472661\n",
      "The average score accross the folds is 2.122754867741361\n",
      "training site_id 8\n",
      "training meter 0\n",
      "colums primary_use is being encoded\n",
      "17 features have been chosen for modeling\n",
      "Fold: 0\n"
     ]
    },
    {
     "name": "stderr",
     "output_type": "stream",
     "text": [
      "/opt/conda/lib/python3.7/site-packages/pandas/core/series.py:853: RuntimeWarning: divide by zero encountered in log\n",
      "  result = getattr(ufunc, method)(*inputs, **kwargs)\n"
     ]
    },
    {
     "name": "stdout",
     "output_type": "stream",
     "text": [
      "The valuation metric for the fold 0 is 0.7436116467241424\n",
      "Fold: 1\n",
      "The valuation metric for the fold 1 is 0.7204699440351978\n",
      "Fold: 2\n",
      "The valuation metric for the fold 2 is 0.7383265004157774\n",
      "Fold: 3\n",
      "The valuation metric for the fold 3 is 0.7296969992278408\n",
      "Fold: 4\n",
      "The valuation metric for the fold 4 is 0.7590099890269844\n",
      "The average score accross the folds is 0.7382230158859887\n",
      "training site_id 9\n",
      "training meter 0\n",
      "colums primary_use is being encoded\n"
     ]
    },
    {
     "name": "stderr",
     "output_type": "stream",
     "text": [
      "/opt/conda/lib/python3.7/site-packages/bearinmind_pipeline/data_preprocessing.py:60: SettingWithCopyWarning: \n",
      "A value is trying to be set on a copy of a slice from a DataFrame.\n",
      "Try using .loc[row_indexer,col_indexer] = value instead\n",
      "\n",
      "See the caveats in the documentation: http://pandas.pydata.org/pandas-docs/stable/user_guide/indexing.html#returning-a-view-versus-a-copy\n",
      "  df_test[f] = lbl.transform(list(df_test[f].values))\n"
     ]
    },
    {
     "name": "stdout",
     "output_type": "stream",
     "text": [
      "17 features have been chosen for modeling\n"
     ]
    },
    {
     "name": "stderr",
     "output_type": "stream",
     "text": [
      "/opt/conda/lib/python3.7/site-packages/pandas/core/series.py:853: RuntimeWarning: divide by zero encountered in log\n",
      "  result = getattr(ufunc, method)(*inputs, **kwargs)\n"
     ]
    },
    {
     "name": "stdout",
     "output_type": "stream",
     "text": [
      "Fold: 0\n",
      "The valuation metric for the fold 0 is 1.2077582711316892\n",
      "Fold: 1\n",
      "The valuation metric for the fold 1 is 0.9100685369837885\n",
      "Fold: 2\n",
      "The valuation metric for the fold 2 is 1.3162368294521511\n",
      "Fold: 3\n",
      "The valuation metric for the fold 3 is 1.178605064489692\n",
      "Fold: 4\n",
      "The valuation metric for the fold 4 is 0.8959714662368929\n",
      "The average score accross the folds is 1.1017280336588429\n",
      "training meter 1\n",
      "colums primary_use is being encoded\n"
     ]
    },
    {
     "name": "stderr",
     "output_type": "stream",
     "text": [
      "/opt/conda/lib/python3.7/site-packages/bearinmind_pipeline/data_preprocessing.py:60: SettingWithCopyWarning: \n",
      "A value is trying to be set on a copy of a slice from a DataFrame.\n",
      "Try using .loc[row_indexer,col_indexer] = value instead\n",
      "\n",
      "See the caveats in the documentation: http://pandas.pydata.org/pandas-docs/stable/user_guide/indexing.html#returning-a-view-versus-a-copy\n",
      "  df_test[f] = lbl.transform(list(df_test[f].values))\n"
     ]
    },
    {
     "name": "stdout",
     "output_type": "stream",
     "text": [
      "17 features have been chosen for modeling\n"
     ]
    },
    {
     "name": "stderr",
     "output_type": "stream",
     "text": [
      "/opt/conda/lib/python3.7/site-packages/pandas/core/series.py:853: RuntimeWarning: divide by zero encountered in log\n",
      "  result = getattr(ufunc, method)(*inputs, **kwargs)\n"
     ]
    },
    {
     "name": "stdout",
     "output_type": "stream",
     "text": [
      "Fold: 0\n",
      "The valuation metric for the fold 0 is 1.4010852795282347\n",
      "Fold: 1\n",
      "The valuation metric for the fold 1 is 1.312623178158527\n",
      "Fold: 2\n",
      "The valuation metric for the fold 2 is 1.6735692540557816\n",
      "Fold: 3\n",
      "The valuation metric for the fold 3 is 1.4678775759365466\n",
      "Fold: 4\n",
      "The valuation metric for the fold 4 is 1.2889419222260186\n",
      "The average score accross the folds is 1.4288194419810216\n",
      "training meter 2\n",
      "colums primary_use is being encoded\n"
     ]
    },
    {
     "name": "stderr",
     "output_type": "stream",
     "text": [
      "/opt/conda/lib/python3.7/site-packages/bearinmind_pipeline/data_preprocessing.py:60: SettingWithCopyWarning: \n",
      "A value is trying to be set on a copy of a slice from a DataFrame.\n",
      "Try using .loc[row_indexer,col_indexer] = value instead\n",
      "\n",
      "See the caveats in the documentation: http://pandas.pydata.org/pandas-docs/stable/user_guide/indexing.html#returning-a-view-versus-a-copy\n",
      "  df_test[f] = lbl.transform(list(df_test[f].values))\n"
     ]
    },
    {
     "name": "stdout",
     "output_type": "stream",
     "text": [
      "17 features have been chosen for modeling\n",
      "Fold: 0\n"
     ]
    },
    {
     "name": "stderr",
     "output_type": "stream",
     "text": [
      "/opt/conda/lib/python3.7/site-packages/pandas/core/series.py:853: RuntimeWarning: divide by zero encountered in log\n",
      "  result = getattr(ufunc, method)(*inputs, **kwargs)\n"
     ]
    },
    {
     "name": "stdout",
     "output_type": "stream",
     "text": [
      "The valuation metric for the fold 0 is 1.513578066722856\n",
      "Fold: 1\n",
      "The valuation metric for the fold 1 is 1.3741059032503185\n",
      "Fold: 2\n",
      "The valuation metric for the fold 2 is 1.6489072683639416\n",
      "Fold: 3\n",
      "The valuation metric for the fold 3 is 1.5508770544851902\n",
      "Fold: 4\n",
      "The valuation metric for the fold 4 is 1.3816645066768265\n",
      "The average score accross the folds is 1.4938265598998268\n",
      "training site_id 10\n",
      "training meter 0\n",
      "colums primary_use is being encoded\n"
     ]
    },
    {
     "name": "stderr",
     "output_type": "stream",
     "text": [
      "/opt/conda/lib/python3.7/site-packages/bearinmind_pipeline/data_preprocessing.py:60: SettingWithCopyWarning: \n",
      "A value is trying to be set on a copy of a slice from a DataFrame.\n",
      "Try using .loc[row_indexer,col_indexer] = value instead\n",
      "\n",
      "See the caveats in the documentation: http://pandas.pydata.org/pandas-docs/stable/user_guide/indexing.html#returning-a-view-versus-a-copy\n",
      "  df_test[f] = lbl.transform(list(df_test[f].values))\n",
      "/opt/conda/lib/python3.7/site-packages/pandas/core/series.py:853: RuntimeWarning: divide by zero encountered in log\n",
      "  result = getattr(ufunc, method)(*inputs, **kwargs)\n"
     ]
    },
    {
     "name": "stdout",
     "output_type": "stream",
     "text": [
      "17 features have been chosen for modeling\n",
      "Fold: 0\n",
      "The valuation metric for the fold 0 is 0.4463015978096239\n",
      "Fold: 1\n",
      "The valuation metric for the fold 1 is 0.4390065447796008\n",
      "Fold: 2\n",
      "The valuation metric for the fold 2 is 0.4546511583970337\n",
      "Fold: 3\n",
      "The valuation metric for the fold 3 is 0.41491922479874305\n",
      "Fold: 4\n",
      "The valuation metric for the fold 4 is 0.579728917919631\n",
      "The average score accross the folds is 0.4669214887409264\n",
      "training meter 1\n",
      "colums primary_use is being encoded\n",
      "17 features have been chosen for modeling\n",
      "Fold: 0\n"
     ]
    },
    {
     "name": "stderr",
     "output_type": "stream",
     "text": [
      "/opt/conda/lib/python3.7/site-packages/bearinmind_pipeline/data_preprocessing.py:60: SettingWithCopyWarning: \n",
      "A value is trying to be set on a copy of a slice from a DataFrame.\n",
      "Try using .loc[row_indexer,col_indexer] = value instead\n",
      "\n",
      "See the caveats in the documentation: http://pandas.pydata.org/pandas-docs/stable/user_guide/indexing.html#returning-a-view-versus-a-copy\n",
      "  df_test[f] = lbl.transform(list(df_test[f].values))\n",
      "/opt/conda/lib/python3.7/site-packages/pandas/core/series.py:853: RuntimeWarning: divide by zero encountered in log\n",
      "  result = getattr(ufunc, method)(*inputs, **kwargs)\n"
     ]
    },
    {
     "name": "stdout",
     "output_type": "stream",
     "text": [
      "The valuation metric for the fold 0 is 1.98823472014587\n",
      "Fold: 1\n",
      "The valuation metric for the fold 1 is 1.9886781947055854\n",
      "Fold: 2\n",
      "The valuation metric for the fold 2 is 1.652336032101733\n",
      "Fold: 3\n",
      "The valuation metric for the fold 3 is 1.7150030459232102\n",
      "Fold: 4\n",
      "The valuation metric for the fold 4 is 2.0534415235906187\n",
      "The average score accross the folds is 1.8795387032934034\n",
      "training meter 3\n",
      "colums primary_use is being encoded\n",
      "17 features have been chosen for modeling\n"
     ]
    },
    {
     "name": "stderr",
     "output_type": "stream",
     "text": [
      "/opt/conda/lib/python3.7/site-packages/bearinmind_pipeline/data_preprocessing.py:60: SettingWithCopyWarning: \n",
      "A value is trying to be set on a copy of a slice from a DataFrame.\n",
      "Try using .loc[row_indexer,col_indexer] = value instead\n",
      "\n",
      "See the caveats in the documentation: http://pandas.pydata.org/pandas-docs/stable/user_guide/indexing.html#returning-a-view-versus-a-copy\n",
      "  df_test[f] = lbl.transform(list(df_test[f].values))\n",
      "/opt/conda/lib/python3.7/site-packages/pandas/core/series.py:853: RuntimeWarning: divide by zero encountered in log\n",
      "  result = getattr(ufunc, method)(*inputs, **kwargs)\n"
     ]
    },
    {
     "name": "stdout",
     "output_type": "stream",
     "text": [
      "Fold: 0\n",
      "The valuation metric for the fold 0 is 2.2955235515067787\n",
      "Fold: 1\n",
      "The valuation metric for the fold 1 is 2.194913520870213\n",
      "Fold: 2\n",
      "The valuation metric for the fold 2 is 1.9666084480313286\n",
      "Fold: 3\n",
      "The valuation metric for the fold 3 is 1.9946484340299548\n",
      "Fold: 4\n",
      "The valuation metric for the fold 4 is 2.3611667626713357\n",
      "The average score accross the folds is 2.1625721434219223\n",
      "training site_id 11\n",
      "training meter 0\n",
      "colums primary_use is being encoded\n"
     ]
    },
    {
     "name": "stderr",
     "output_type": "stream",
     "text": [
      "/opt/conda/lib/python3.7/site-packages/bearinmind_pipeline/data_preprocessing.py:60: SettingWithCopyWarning: \n",
      "A value is trying to be set on a copy of a slice from a DataFrame.\n",
      "Try using .loc[row_indexer,col_indexer] = value instead\n",
      "\n",
      "See the caveats in the documentation: http://pandas.pydata.org/pandas-docs/stable/user_guide/indexing.html#returning-a-view-versus-a-copy\n",
      "  df_test[f] = lbl.transform(list(df_test[f].values))\n"
     ]
    },
    {
     "name": "stdout",
     "output_type": "stream",
     "text": [
      "17 features have been chosen for modeling\n",
      "Fold: 0\n",
      "The valuation metric for the fold 0 is 0.14652937454659715\n",
      "Fold: 1\n",
      "The valuation metric for the fold 1 is 0.2516946736409143\n",
      "Fold: 2\n",
      "The valuation metric for the fold 2 is 0.25711861554937526\n",
      "Fold: 3\n",
      "The valuation metric for the fold 3 is 0.25283580915075626\n",
      "Fold: 4\n",
      "The valuation metric for the fold 4 is 0.1447445729664416\n",
      "The average score accross the folds is 0.21058460917081692\n",
      "training meter 3\n",
      "colums primary_use is being encoded\n",
      "17 features have been chosen for modeling\n",
      "Fold: 0\n"
     ]
    },
    {
     "name": "stderr",
     "output_type": "stream",
     "text": [
      "/opt/conda/lib/python3.7/site-packages/bearinmind_pipeline/data_preprocessing.py:60: SettingWithCopyWarning: \n",
      "A value is trying to be set on a copy of a slice from a DataFrame.\n",
      "Try using .loc[row_indexer,col_indexer] = value instead\n",
      "\n",
      "See the caveats in the documentation: http://pandas.pydata.org/pandas-docs/stable/user_guide/indexing.html#returning-a-view-versus-a-copy\n",
      "  df_test[f] = lbl.transform(list(df_test[f].values))\n",
      "/opt/conda/lib/python3.7/site-packages/pandas/core/series.py:853: RuntimeWarning: divide by zero encountered in log\n",
      "  result = getattr(ufunc, method)(*inputs, **kwargs)\n"
     ]
    },
    {
     "name": "stdout",
     "output_type": "stream",
     "text": [
      "The valuation metric for the fold 0 is 0.5844257282827356\n",
      "Fold: 1\n",
      "The valuation metric for the fold 1 is 1.3348621718004408\n",
      "Fold: 2\n",
      "The valuation metric for the fold 2 is 1.532252055339859\n",
      "Fold: 3\n",
      "The valuation metric for the fold 3 is 1.6152117882349466\n",
      "Fold: 4\n",
      "The valuation metric for the fold 4 is 0.9281405366910904\n",
      "The average score accross the folds is 1.1989784560698145\n",
      "training meter 1\n",
      "colums primary_use is being encoded\n",
      "17 features have been chosen for modeling\n",
      "Fold: 0\n"
     ]
    },
    {
     "name": "stderr",
     "output_type": "stream",
     "text": [
      "/opt/conda/lib/python3.7/site-packages/bearinmind_pipeline/data_preprocessing.py:60: SettingWithCopyWarning: \n",
      "A value is trying to be set on a copy of a slice from a DataFrame.\n",
      "Try using .loc[row_indexer,col_indexer] = value instead\n",
      "\n",
      "See the caveats in the documentation: http://pandas.pydata.org/pandas-docs/stable/user_guide/indexing.html#returning-a-view-versus-a-copy\n",
      "  df_test[f] = lbl.transform(list(df_test[f].values))\n",
      "/opt/conda/lib/python3.7/site-packages/pandas/core/series.py:853: RuntimeWarning: divide by zero encountered in log\n",
      "  result = getattr(ufunc, method)(*inputs, **kwargs)\n"
     ]
    },
    {
     "name": "stdout",
     "output_type": "stream",
     "text": [
      "The valuation metric for the fold 0 is 0.229507713544927\n",
      "Fold: 1\n",
      "The valuation metric for the fold 1 is 1.1961996848620917\n",
      "Fold: 2\n",
      "The valuation metric for the fold 2 is 2.318297168551377\n",
      "Fold: 3\n",
      "The valuation metric for the fold 3 is 2.0459600227980217\n",
      "Fold: 4\n",
      "The valuation metric for the fold 4 is 0.5863691159151991\n",
      "The average score accross the folds is 1.2752667411343233\n",
      "training site_id 12\n",
      "training meter 0\n",
      "colums primary_use is being encoded\n",
      "17 features have been chosen for modeling\n",
      "Fold: 0\n"
     ]
    },
    {
     "name": "stderr",
     "output_type": "stream",
     "text": [
      "/opt/conda/lib/python3.7/site-packages/pandas/core/series.py:853: RuntimeWarning: divide by zero encountered in log\n",
      "  result = getattr(ufunc, method)(*inputs, **kwargs)\n"
     ]
    },
    {
     "name": "stdout",
     "output_type": "stream",
     "text": [
      "The valuation metric for the fold 0 is 0.5072132260010712\n",
      "Fold: 1\n",
      "The valuation metric for the fold 1 is 0.3903962510560809\n",
      "Fold: 2\n",
      "The valuation metric for the fold 2 is 0.408543307746177\n",
      "Fold: 3\n",
      "The valuation metric for the fold 3 is 0.34648006136321374\n",
      "Fold: 4\n",
      "The valuation metric for the fold 4 is 0.4512089485907458\n",
      "The average score accross the folds is 0.4207683589514577\n",
      "training site_id 13\n",
      "training meter 0\n",
      "colums primary_use is being encoded\n"
     ]
    },
    {
     "name": "stderr",
     "output_type": "stream",
     "text": [
      "/opt/conda/lib/python3.7/site-packages/bearinmind_pipeline/data_preprocessing.py:60: SettingWithCopyWarning: \n",
      "A value is trying to be set on a copy of a slice from a DataFrame.\n",
      "Try using .loc[row_indexer,col_indexer] = value instead\n",
      "\n",
      "See the caveats in the documentation: http://pandas.pydata.org/pandas-docs/stable/user_guide/indexing.html#returning-a-view-versus-a-copy\n",
      "  df_test[f] = lbl.transform(list(df_test[f].values))\n"
     ]
    },
    {
     "name": "stdout",
     "output_type": "stream",
     "text": [
      "17 features have been chosen for modeling\n"
     ]
    },
    {
     "name": "stderr",
     "output_type": "stream",
     "text": [
      "/opt/conda/lib/python3.7/site-packages/pandas/core/series.py:853: RuntimeWarning: divide by zero encountered in log\n",
      "  result = getattr(ufunc, method)(*inputs, **kwargs)\n"
     ]
    },
    {
     "name": "stdout",
     "output_type": "stream",
     "text": [
      "Fold: 0\n",
      "The valuation metric for the fold 0 is 0.61244229520579\n",
      "Fold: 1\n",
      "The valuation metric for the fold 1 is 0.502547804111905\n",
      "Fold: 2\n",
      "The valuation metric for the fold 2 is 0.6863054601869726\n",
      "Fold: 3\n",
      "The valuation metric for the fold 3 is 0.644911921016501\n",
      "Fold: 4\n",
      "The valuation metric for the fold 4 is 0.6429733244356197\n",
      "The average score accross the folds is 0.6178361609913576\n",
      "training meter 1\n",
      "colums primary_use is being encoded\n"
     ]
    },
    {
     "name": "stderr",
     "output_type": "stream",
     "text": [
      "/opt/conda/lib/python3.7/site-packages/bearinmind_pipeline/data_preprocessing.py:60: SettingWithCopyWarning: \n",
      "A value is trying to be set on a copy of a slice from a DataFrame.\n",
      "Try using .loc[row_indexer,col_indexer] = value instead\n",
      "\n",
      "See the caveats in the documentation: http://pandas.pydata.org/pandas-docs/stable/user_guide/indexing.html#returning-a-view-versus-a-copy\n",
      "  df_test[f] = lbl.transform(list(df_test[f].values))\n"
     ]
    },
    {
     "name": "stdout",
     "output_type": "stream",
     "text": [
      "17 features have been chosen for modeling\n"
     ]
    },
    {
     "name": "stderr",
     "output_type": "stream",
     "text": [
      "/opt/conda/lib/python3.7/site-packages/pandas/core/series.py:853: RuntimeWarning: divide by zero encountered in log\n",
      "  result = getattr(ufunc, method)(*inputs, **kwargs)\n"
     ]
    },
    {
     "name": "stdout",
     "output_type": "stream",
     "text": [
      "Fold: 0\n",
      "The valuation metric for the fold 0 is 1.0101178185416306\n",
      "Fold: 1\n",
      "The valuation metric for the fold 1 is 1.2173309742302243\n",
      "Fold: 2\n",
      "The valuation metric for the fold 2 is 0.9210347585332138\n",
      "Fold: 3\n",
      "The valuation metric for the fold 3 is 0.9860815198648345\n",
      "Fold: 4\n",
      "The valuation metric for the fold 4 is 1.175256996959372\n",
      "The average score accross the folds is 1.061964413625855\n",
      "training meter 2\n",
      "colums primary_use is being encoded\n"
     ]
    },
    {
     "name": "stderr",
     "output_type": "stream",
     "text": [
      "/opt/conda/lib/python3.7/site-packages/bearinmind_pipeline/data_preprocessing.py:60: SettingWithCopyWarning: \n",
      "A value is trying to be set on a copy of a slice from a DataFrame.\n",
      "Try using .loc[row_indexer,col_indexer] = value instead\n",
      "\n",
      "See the caveats in the documentation: http://pandas.pydata.org/pandas-docs/stable/user_guide/indexing.html#returning-a-view-versus-a-copy\n",
      "  df_test[f] = lbl.transform(list(df_test[f].values))\n"
     ]
    },
    {
     "name": "stdout",
     "output_type": "stream",
     "text": [
      "17 features have been chosen for modeling\n",
      "Fold: 0\n"
     ]
    },
    {
     "name": "stderr",
     "output_type": "stream",
     "text": [
      "/opt/conda/lib/python3.7/site-packages/pandas/core/series.py:853: RuntimeWarning: divide by zero encountered in log\n",
      "  result = getattr(ufunc, method)(*inputs, **kwargs)\n"
     ]
    },
    {
     "name": "stdout",
     "output_type": "stream",
     "text": [
      "The valuation metric for the fold 0 is 1.5183588523188578\n",
      "Fold: 1\n",
      "The valuation metric for the fold 1 is 1.639447310702691\n",
      "Fold: 2\n",
      "The valuation metric for the fold 2 is 1.6822906924965881\n",
      "Fold: 3\n",
      "The valuation metric for the fold 3 is 1.7494439955359884\n",
      "Fold: 4\n",
      "The valuation metric for the fold 4 is 1.627238009773617\n",
      "The average score accross the folds is 1.6433557721655485\n",
      "training site_id 14\n",
      "training meter 0\n",
      "colums primary_use is being encoded\n"
     ]
    },
    {
     "name": "stderr",
     "output_type": "stream",
     "text": [
      "/opt/conda/lib/python3.7/site-packages/bearinmind_pipeline/data_preprocessing.py:60: SettingWithCopyWarning: \n",
      "A value is trying to be set on a copy of a slice from a DataFrame.\n",
      "Try using .loc[row_indexer,col_indexer] = value instead\n",
      "\n",
      "See the caveats in the documentation: http://pandas.pydata.org/pandas-docs/stable/user_guide/indexing.html#returning-a-view-versus-a-copy\n",
      "  df_test[f] = lbl.transform(list(df_test[f].values))\n"
     ]
    },
    {
     "name": "stdout",
     "output_type": "stream",
     "text": [
      "17 features have been chosen for modeling\n"
     ]
    },
    {
     "name": "stderr",
     "output_type": "stream",
     "text": [
      "/opt/conda/lib/python3.7/site-packages/pandas/core/series.py:853: RuntimeWarning: divide by zero encountered in log\n",
      "  result = getattr(ufunc, method)(*inputs, **kwargs)\n"
     ]
    },
    {
     "name": "stdout",
     "output_type": "stream",
     "text": [
      "Fold: 0\n",
      "The valuation metric for the fold 0 is 0.9697765208689401\n",
      "Fold: 1\n",
      "The valuation metric for the fold 1 is 0.8996913260176718\n",
      "Fold: 2\n",
      "The valuation metric for the fold 2 is 1.143391034297096\n",
      "Fold: 3\n",
      "The valuation metric for the fold 3 is 1.6017334816905033\n",
      "Fold: 4\n",
      "The valuation metric for the fold 4 is 1.0766332405508863\n",
      "The average score accross the folds is 1.1382451206850193\n",
      "training meter 1\n",
      "colums primary_use is being encoded\n"
     ]
    },
    {
     "name": "stderr",
     "output_type": "stream",
     "text": [
      "/opt/conda/lib/python3.7/site-packages/bearinmind_pipeline/data_preprocessing.py:60: SettingWithCopyWarning: \n",
      "A value is trying to be set on a copy of a slice from a DataFrame.\n",
      "Try using .loc[row_indexer,col_indexer] = value instead\n",
      "\n",
      "See the caveats in the documentation: http://pandas.pydata.org/pandas-docs/stable/user_guide/indexing.html#returning-a-view-versus-a-copy\n",
      "  df_test[f] = lbl.transform(list(df_test[f].values))\n"
     ]
    },
    {
     "name": "stdout",
     "output_type": "stream",
     "text": [
      "17 features have been chosen for modeling\n",
      "Fold: 0\n"
     ]
    },
    {
     "name": "stderr",
     "output_type": "stream",
     "text": [
      "/opt/conda/lib/python3.7/site-packages/pandas/core/series.py:853: RuntimeWarning: divide by zero encountered in log\n",
      "  result = getattr(ufunc, method)(*inputs, **kwargs)\n"
     ]
    },
    {
     "name": "stdout",
     "output_type": "stream",
     "text": [
      "The valuation metric for the fold 0 is 1.9573037210731166\n",
      "Fold: 1\n",
      "The valuation metric for the fold 1 is 1.7619179333233812\n",
      "Fold: 2\n",
      "The valuation metric for the fold 2 is 1.5940556820471652\n",
      "Fold: 3\n",
      "The valuation metric for the fold 3 is 2.2270807460431774\n",
      "Fold: 4\n",
      "The valuation metric for the fold 4 is 1.8795204598694697\n",
      "The average score accross the folds is 1.883975708471262\n",
      "training meter 3\n",
      "colums primary_use is being encoded\n"
     ]
    },
    {
     "name": "stderr",
     "output_type": "stream",
     "text": [
      "/opt/conda/lib/python3.7/site-packages/bearinmind_pipeline/data_preprocessing.py:60: SettingWithCopyWarning: \n",
      "A value is trying to be set on a copy of a slice from a DataFrame.\n",
      "Try using .loc[row_indexer,col_indexer] = value instead\n",
      "\n",
      "See the caveats in the documentation: http://pandas.pydata.org/pandas-docs/stable/user_guide/indexing.html#returning-a-view-versus-a-copy\n",
      "  df_test[f] = lbl.transform(list(df_test[f].values))\n",
      "/opt/conda/lib/python3.7/site-packages/pandas/core/series.py:853: RuntimeWarning: divide by zero encountered in log\n",
      "  result = getattr(ufunc, method)(*inputs, **kwargs)\n"
     ]
    },
    {
     "name": "stdout",
     "output_type": "stream",
     "text": [
      "17 features have been chosen for modeling\n",
      "Fold: 0\n",
      "The valuation metric for the fold 0 is 2.058343167280141\n",
      "Fold: 1\n",
      "The valuation metric for the fold 1 is 2.211955863497183\n",
      "Fold: 2\n",
      "The valuation metric for the fold 2 is 1.5856901923474447\n",
      "Fold: 3\n",
      "The valuation metric for the fold 3 is 2.0323995783556508\n",
      "Fold: 4\n",
      "The valuation metric for the fold 4 is 2.2916568799630834\n",
      "The average score accross the folds is 2.0360091362887007\n",
      "training meter 2\n",
      "colums primary_use is being encoded\n"
     ]
    },
    {
     "name": "stderr",
     "output_type": "stream",
     "text": [
      "/opt/conda/lib/python3.7/site-packages/bearinmind_pipeline/data_preprocessing.py:60: SettingWithCopyWarning: \n",
      "A value is trying to be set on a copy of a slice from a DataFrame.\n",
      "Try using .loc[row_indexer,col_indexer] = value instead\n",
      "\n",
      "See the caveats in the documentation: http://pandas.pydata.org/pandas-docs/stable/user_guide/indexing.html#returning-a-view-versus-a-copy\n",
      "  df_test[f] = lbl.transform(list(df_test[f].values))\n",
      "/opt/conda/lib/python3.7/site-packages/pandas/core/series.py:853: RuntimeWarning: divide by zero encountered in log\n",
      "  result = getattr(ufunc, method)(*inputs, **kwargs)\n"
     ]
    },
    {
     "name": "stdout",
     "output_type": "stream",
     "text": [
      "17 features have been chosen for modeling\n",
      "Fold: 0\n",
      "The valuation metric for the fold 0 is 1.808446817809504\n",
      "Fold: 1\n",
      "The valuation metric for the fold 1 is 1.7878117506881992\n",
      "Fold: 2\n",
      "The valuation metric for the fold 2 is 1.4553944240636998\n",
      "Fold: 3\n",
      "The valuation metric for the fold 3 is 2.200339270696874\n",
      "Fold: 4\n",
      "The valuation metric for the fold 4 is 2.0832424210976153\n",
      "The average score accross the folds is 1.8670469368711786\n",
      "training site_id 15\n",
      "training meter 3\n",
      "colums primary_use is being encoded\n",
      "17 features have been chosen for modeling\n",
      "Fold: 0\n"
     ]
    },
    {
     "name": "stderr",
     "output_type": "stream",
     "text": [
      "/opt/conda/lib/python3.7/site-packages/bearinmind_pipeline/data_preprocessing.py:60: SettingWithCopyWarning: \n",
      "A value is trying to be set on a copy of a slice from a DataFrame.\n",
      "Try using .loc[row_indexer,col_indexer] = value instead\n",
      "\n",
      "See the caveats in the documentation: http://pandas.pydata.org/pandas-docs/stable/user_guide/indexing.html#returning-a-view-versus-a-copy\n",
      "  df_test[f] = lbl.transform(list(df_test[f].values))\n",
      "/opt/conda/lib/python3.7/site-packages/pandas/core/series.py:853: RuntimeWarning: divide by zero encountered in log\n",
      "  result = getattr(ufunc, method)(*inputs, **kwargs)\n"
     ]
    },
    {
     "name": "stdout",
     "output_type": "stream",
     "text": [
      "The valuation metric for the fold 0 is 0.7376857937396557\n",
      "Fold: 1\n",
      "The valuation metric for the fold 1 is 0.9596428976448683\n",
      "Fold: 2\n",
      "The valuation metric for the fold 2 is 0.6848076842645219\n",
      "Fold: 3\n",
      "The valuation metric for the fold 3 is 0.5790524570356061\n",
      "Fold: 4\n",
      "The valuation metric for the fold 4 is 0.7432635075506158\n",
      "The average score accross the folds is 0.7408904680470536\n",
      "training meter 0\n",
      "colums primary_use is being encoded\n"
     ]
    },
    {
     "name": "stderr",
     "output_type": "stream",
     "text": [
      "/opt/conda/lib/python3.7/site-packages/bearinmind_pipeline/data_preprocessing.py:60: SettingWithCopyWarning: \n",
      "A value is trying to be set on a copy of a slice from a DataFrame.\n",
      "Try using .loc[row_indexer,col_indexer] = value instead\n",
      "\n",
      "See the caveats in the documentation: http://pandas.pydata.org/pandas-docs/stable/user_guide/indexing.html#returning-a-view-versus-a-copy\n",
      "  df_test[f] = lbl.transform(list(df_test[f].values))\n"
     ]
    },
    {
     "name": "stdout",
     "output_type": "stream",
     "text": [
      "17 features have been chosen for modeling\n",
      "Fold: 0\n"
     ]
    },
    {
     "name": "stderr",
     "output_type": "stream",
     "text": [
      "/opt/conda/lib/python3.7/site-packages/pandas/core/series.py:853: RuntimeWarning: divide by zero encountered in log\n",
      "  result = getattr(ufunc, method)(*inputs, **kwargs)\n"
     ]
    },
    {
     "name": "stdout",
     "output_type": "stream",
     "text": [
      "The valuation metric for the fold 0 is 0.3308522834699694\n",
      "Fold: 1\n",
      "The valuation metric for the fold 1 is 0.42517821962710173\n",
      "Fold: 2\n",
      "The valuation metric for the fold 2 is 0.3548694638569179\n",
      "Fold: 3\n",
      "The valuation metric for the fold 3 is 0.38420495902353474\n",
      "Fold: 4\n",
      "The valuation metric for the fold 4 is 0.3324001065631156\n",
      "The average score accross the folds is 0.3655010065081279\n",
      "training meter 1\n",
      "colums primary_use is being encoded\n"
     ]
    },
    {
     "name": "stderr",
     "output_type": "stream",
     "text": [
      "/opt/conda/lib/python3.7/site-packages/bearinmind_pipeline/data_preprocessing.py:60: SettingWithCopyWarning: \n",
      "A value is trying to be set on a copy of a slice from a DataFrame.\n",
      "Try using .loc[row_indexer,col_indexer] = value instead\n",
      "\n",
      "See the caveats in the documentation: http://pandas.pydata.org/pandas-docs/stable/user_guide/indexing.html#returning-a-view-versus-a-copy\n",
      "  df_test[f] = lbl.transform(list(df_test[f].values))\n",
      "/opt/conda/lib/python3.7/site-packages/pandas/core/series.py:853: RuntimeWarning: divide by zero encountered in log\n",
      "  result = getattr(ufunc, method)(*inputs, **kwargs)\n"
     ]
    },
    {
     "name": "stdout",
     "output_type": "stream",
     "text": [
      "17 features have been chosen for modeling\n",
      "Fold: 0\n",
      "The valuation metric for the fold 0 is 0.8186927450359174\n",
      "Fold: 1\n",
      "The valuation metric for the fold 1 is 0.6798274814039771\n",
      "Fold: 2\n",
      "The valuation metric for the fold 2 is 0.5589669231036022\n",
      "Fold: 3\n",
      "The valuation metric for the fold 3 is 0.6646957658128614\n",
      "Fold: 4\n",
      "The valuation metric for the fold 4 is 0.7393567956448162\n",
      "The average score accross the folds is 0.6923079422002348\n",
      "training meter 2\n",
      "colums primary_use is being encoded\n"
     ]
    },
    {
     "name": "stderr",
     "output_type": "stream",
     "text": [
      "/opt/conda/lib/python3.7/site-packages/bearinmind_pipeline/data_preprocessing.py:60: SettingWithCopyWarning: \n",
      "A value is trying to be set on a copy of a slice from a DataFrame.\n",
      "Try using .loc[row_indexer,col_indexer] = value instead\n",
      "\n",
      "See the caveats in the documentation: http://pandas.pydata.org/pandas-docs/stable/user_guide/indexing.html#returning-a-view-versus-a-copy\n",
      "  df_test[f] = lbl.transform(list(df_test[f].values))\n"
     ]
    },
    {
     "name": "stdout",
     "output_type": "stream",
     "text": [
      "17 features have been chosen for modeling\n",
      "Fold: 0\n"
     ]
    },
    {
     "name": "stderr",
     "output_type": "stream",
     "text": [
      "/opt/conda/lib/python3.7/site-packages/pandas/core/series.py:853: RuntimeWarning: divide by zero encountered in log\n",
      "  result = getattr(ufunc, method)(*inputs, **kwargs)\n"
     ]
    },
    {
     "name": "stdout",
     "output_type": "stream",
     "text": [
      "The valuation metric for the fold 0 is 0.793485399137897\n",
      "Fold: 1\n",
      "The valuation metric for the fold 1 is 1.3585666580161224\n",
      "Fold: 2\n",
      "The valuation metric for the fold 2 is 1.233567468711426\n",
      "Fold: 3\n",
      "The valuation metric for the fold 3 is 1.0791656684194835\n",
      "Fold: 4\n",
      "The valuation metric for the fold 4 is 0.7952002343329835\n",
      "The average score accross the folds is 1.0519970857235825\n",
      "training site_id 0\n",
      "training meter 1\n",
      "colums primary_use is being encoded\n"
     ]
    },
    {
     "name": "stderr",
     "output_type": "stream",
     "text": [
      "/opt/conda/lib/python3.7/site-packages/bearinmind_pipeline/data_preprocessing.py:60: SettingWithCopyWarning: \n",
      "A value is trying to be set on a copy of a slice from a DataFrame.\n",
      "Try using .loc[row_indexer,col_indexer] = value instead\n",
      "\n",
      "See the caveats in the documentation: http://pandas.pydata.org/pandas-docs/stable/user_guide/indexing.html#returning-a-view-versus-a-copy\n",
      "  df_test[f] = lbl.transform(list(df_test[f].values))\n",
      "/opt/conda/lib/python3.7/site-packages/pandas/core/series.py:853: RuntimeWarning: divide by zero encountered in log\n",
      "  result = getattr(ufunc, method)(*inputs, **kwargs)\n"
     ]
    },
    {
     "name": "stdout",
     "output_type": "stream",
     "text": [
      "17 features have been chosen for modeling\n",
      "Fold: 0\n",
      "The valuation metric for the fold 0 is 2.180215030277842\n",
      "Fold: 1\n",
      "The valuation metric for the fold 1 is 1.9412146772799104\n",
      "Fold: 2\n",
      "The valuation metric for the fold 2 is 2.0055261937186377\n",
      "Fold: 3\n",
      "The valuation metric for the fold 3 is 1.5994389991251179\n",
      "Fold: 4\n",
      "The valuation metric for the fold 4 is 2.5155413928967945\n",
      "The average score accross the folds is 2.0483872586596603\n",
      "training meter 0\n",
      "colums primary_use is being encoded\n"
     ]
    },
    {
     "name": "stderr",
     "output_type": "stream",
     "text": [
      "/opt/conda/lib/python3.7/site-packages/bearinmind_pipeline/data_preprocessing.py:60: SettingWithCopyWarning: \n",
      "A value is trying to be set on a copy of a slice from a DataFrame.\n",
      "Try using .loc[row_indexer,col_indexer] = value instead\n",
      "\n",
      "See the caveats in the documentation: http://pandas.pydata.org/pandas-docs/stable/user_guide/indexing.html#returning-a-view-versus-a-copy\n",
      "  df_test[f] = lbl.transform(list(df_test[f].values))\n"
     ]
    },
    {
     "name": "stdout",
     "output_type": "stream",
     "text": [
      "17 features have been chosen for modeling\n",
      "Fold: 0\n"
     ]
    },
    {
     "name": "stderr",
     "output_type": "stream",
     "text": [
      "/opt/conda/lib/python3.7/site-packages/pandas/core/series.py:853: RuntimeWarning: divide by zero encountered in log\n",
      "  result = getattr(ufunc, method)(*inputs, **kwargs)\n"
     ]
    },
    {
     "name": "stdout",
     "output_type": "stream",
     "text": [
      "The valuation metric for the fold 0 is 0.4677628898325545\n",
      "Fold: 1\n",
      "The valuation metric for the fold 1 is 0.37473863074181074\n",
      "Fold: 2\n",
      "The valuation metric for the fold 2 is 0.5266831983761961\n",
      "Fold: 3\n",
      "The valuation metric for the fold 3 is 0.3492368621090065\n",
      "Fold: 4\n",
      "The valuation metric for the fold 4 is 0.42168760807340416\n",
      "The average score accross the folds is 0.4280218378265944\n"
     ]
    }
   ],
   "source": [
    "### Per site and meter type ###\n",
    "perf_dict = {}\n",
    "final_sub_lst = []\n",
    "encode_cols = [\"primary_use\"]\n",
    "mb = mc.modelBuilder('regression', 'LGBM')\n",
    "for i in tqdm_notebook(df_train['site_id'].unique()):\n",
    "#for i in tqdm_notebook(range(6, 7, 1)):\n",
    "    print(f'training site_id {i}')\n",
    "    \n",
    "    df_train_site = df_train[df_train['site_id'] == i]\n",
    "    df_test_site = df_test[df_test['site_id'] == i]\n",
    "    \n",
    "    for j in df_train_site['meter'].unique():\n",
    "        \n",
    "        print(f'training meter {j}')\n",
    "        df_train_metr = df_train_site[df_train_site['meter'] == j]\n",
    "        df_test_metr = df_test_site[df_test_site['meter'] == j]\n",
    "\n",
    "        df_train_metr = df_train_metr[(np.abs(stats.zscore(df_train_metr['meter_reading'])) < 5)]\n",
    "        \n",
    "        data = dp.encode_categorical(df_train_metr, df_test_metr, encode_cols)\n",
    "        data = mb.prepare_data_split(df_train =  data['df_train'], df_test = data['df_test'], \n",
    "                                 target = 'meter_reading', rem_cols = ['timestamp'], \n",
    "                                 useVarImp = False, varimp_threshold = 100)\n",
    "        data['X_test'] = data['X_test'].drop([\"row_id\"],  axis=1)\n",
    "        data['Y'] = np.log(data['Y'])\n",
    "        data['Y'][data['Y'] == -inf] = 0\n",
    "        submit = mb.run_model(data, n_folds = 5, metric_func = rmse, get_probab = False, \n",
    "                          save_varimp = False, params = params, oversmp = False, cv_shuffle=False)\n",
    "        submit['FinalPrediction'] = np.exp(submit['FinalPrediction'])\n",
    "        final_submit = pd.concat([df_test_metr['row_id'].reset_index(drop=True), pd.DataFrame(submit['FinalPrediction'], columns = [\"meter_reading\"])], axis = 1)\n",
    "\n",
    "        perf_dict[f'site_id: {i} and meter: {j}'] = submit['AverageScore']\n",
    "        final_sub_lst.append(final_submit)\n",
    "    "
   ]
  },
  {
   "cell_type": "code",
   "execution_count": null,
   "metadata": {},
   "outputs": [],
   "source": [
    "### Per meter type ###\n",
    "#perf_dict = {}\n",
    "#final_sub_lst = []\n",
    "#encode_cols = [\"primary_use\"]\n",
    "#mb = mc.modelBuilder('regression', 'LGBM')\n",
    "#for i in tqdm_notebook(df_train['site_id'].unique()):\n",
    "#for i in tqdm_notebook(range(2)):\n",
    "#    print(f'training site_id {i}')\n",
    "#    \n",
    "#    df_train_site = df_train[df_train['site_id'] == i]\n",
    "#    df_test_site = df_test[df_test['site_id'] == i]\n",
    "\n",
    "#    data = dp.encode_categorical(df_train_site, df_test_site, encode_cols)\n",
    "#    data = mb.prepare_data_split(df_train =  data['df_train'], df_test = data['df_test'], \n",
    "#                                 target = 'meter_reading', rem_cols = ['timestamp'], \n",
    "#                                 useVarImp = False, varimp_threshold = 100)\n",
    "#    data['X_test'] = data['X_test'].drop([\"row_id\"],  axis=1)\n",
    "#    data['Y'] = np.log(data['Y'])\n",
    "#    data['Y'][data['Y'] == -inf] = 0\n",
    "#    submit = mb.run_model(data, n_folds = 5, metric_func = rmse, get_probab = False, \n",
    "#                          save_varimp = False, params = params, oversmp = False, cv_shuffle=False)\n",
    "#    submit['FinalPrediction'] = np.exp(submit['FinalPrediction'])\n",
    "#    final_submit = pd.concat([df_test_metr['row_id'].reset_index(drop=True), pd.DataFrame(submit['FinalPrediction'], columns = [\"meter_reading\"])], axis = 1)\n",
    "\n",
    "#    perf_dict[f'site_id: {i} and meter: {j}'] = submit['AverageScore']\n",
    "#    final_sub_lst.append(final_submit)\n",
    "    "
   ]
  },
  {
   "cell_type": "code",
   "execution_count": 738,
   "metadata": {},
   "outputs": [
    {
     "data": {
      "text/plain": [
       "1.2099865916767751"
      ]
     },
     "execution_count": 738,
     "metadata": {},
     "output_type": "execute_result"
    }
   ],
   "source": [
    "np.array(list(perf_dict.values())).mean()"
   ]
  },
  {
   "cell_type": "code",
   "execution_count": 528,
   "metadata": {},
   "outputs": [
    {
     "data": {
      "text/plain": [
       "{'site_id: 1 and meter: 0': 0.7772745975174196,\n",
       " 'site_id: 1 and meter: 3': 1.7566231417522868,\n",
       " 'site_id: 2 and meter: 0': 0.5498569859928144,\n",
       " 'site_id: 2 and meter: 1': 1.2602776865952978,\n",
       " 'site_id: 2 and meter: 3': 1.0432356800658729,\n",
       " 'site_id: 3 and meter: 0': 0.5023883467597378,\n",
       " 'site_id: 4 and meter: 0': 0.2662346982413344,\n",
       " 'site_id: 5 and meter: 0': 1.0032721927832717,\n",
       " 'site_id: 6 and meter: 0': 0.3197219966677264,\n",
       " 'site_id: 6 and meter: 2': 1.853774159980322,\n",
       " 'site_id: 6 and meter: 1': 2.01367338563869,\n",
       " 'site_id: 7 and meter: 1': 1.5658771048278652,\n",
       " 'site_id: 7 and meter: 2': 1.813250695419057,\n",
       " 'site_id: 7 and meter: 0': 2.8673841061558623,\n",
       " 'site_id: 7 and meter: 3': 2.122754867741361,\n",
       " 'site_id: 8 and meter: 0': 0.7357556907448682,\n",
       " 'site_id: 9 and meter: 0': 1.108999238915599,\n",
       " 'site_id: 9 and meter: 1': 1.477414960525183,\n",
       " 'site_id: 9 and meter: 2': 1.4933988604887012,\n",
       " 'site_id: 10 and meter: 0': 0.4736744638811034,\n",
       " 'site_id: 10 and meter: 1': 1.8879581492873334,\n",
       " 'site_id: 10 and meter: 3': 2.3195600798349316,\n",
       " 'site_id: 11 and meter: 0': 0.21058460917081692,\n",
       " 'site_id: 11 and meter: 3': 1.2000950640443802,\n",
       " 'site_id: 11 and meter: 1': 1.2711781706826017,\n",
       " 'site_id: 12 and meter: 0': 0.4243093341492276,\n",
       " 'site_id: 13 and meter: 0': 0.6151316575756852,\n",
       " 'site_id: 13 and meter: 1': 1.0851631002051114,\n",
       " 'site_id: 13 and meter: 2': 1.7081554014519926,\n",
       " 'site_id: 14 and meter: 0': 1.133697410465558,\n",
       " 'site_id: 14 and meter: 1': 1.876546481433301,\n",
       " 'site_id: 14 and meter: 3': 2.0297830555618304,\n",
       " 'site_id: 14 and meter: 2': 1.8729314170642883,\n",
       " 'site_id: 15 and meter: 3': 0.7454582064541009,\n",
       " 'site_id: 15 and meter: 0': 0.36562462887905045,\n",
       " 'site_id: 15 and meter: 1': 0.6914975416474305,\n",
       " 'site_id: 15 and meter: 2': 1.0509317625389474,\n",
       " 'site_id: 0 and meter: 1': 2.0541627498365527,\n",
       " 'site_id: 0 and meter: 0': 0.4263311255819125}"
      ]
     },
     "execution_count": 528,
     "metadata": {},
     "output_type": "execute_result"
    }
   ],
   "source": [
    "perf_dict"
   ]
  },
  {
   "cell_type": "code",
   "execution_count": 739,
   "metadata": {},
   "outputs": [],
   "source": [
    "with open('rmse_siteid_meter_no_outliers.txt', 'w') as file:\n",
    "     file.write(json.dumps(perf_dict))"
   ]
  },
  {
   "cell_type": "code",
   "execution_count": 740,
   "metadata": {},
   "outputs": [],
   "source": [
    "sub = pd.concat(final_sub_lst, axis = 0).reset_index(drop = True)"
   ]
  },
  {
   "cell_type": "code",
   "execution_count": 741,
   "metadata": {},
   "outputs": [
    {
     "data": {
      "text/plain": [
       "(41697600, 2)"
      ]
     },
     "execution_count": 741,
     "metadata": {},
     "output_type": "execute_result"
    }
   ],
   "source": [
    "sub.shape"
   ]
  },
  {
   "cell_type": "code",
   "execution_count": 742,
   "metadata": {},
   "outputs": [],
   "source": [
    "sub.to_csv(\"submit_lightgbm_by_site.csv.gz\", index = False, compression='gzip')"
   ]
  },
  {
   "cell_type": "code",
   "execution_count": null,
   "metadata": {},
   "outputs": [],
   "source": [
    "#submit['FinalPrediction'] = np.exp(submit['FinalPrediction'])"
   ]
  },
  {
   "cell_type": "code",
   "execution_count": null,
   "metadata": {},
   "outputs": [],
   "source": [
    "#submit['FinalPrediction']"
   ]
  },
  {
   "cell_type": "code",
   "execution_count": null,
   "metadata": {},
   "outputs": [],
   "source": [
    "#submit"
   ]
  },
  {
   "cell_type": "code",
   "execution_count": null,
   "metadata": {},
   "outputs": [],
   "source": [
    "#final_submit = pd.concat([df_test['row_id'], pd.DataFrame(submit['FinalPrediction'], columns = [\"meter_reading\"])], axis = 1)"
   ]
  },
  {
   "cell_type": "code",
   "execution_count": null,
   "metadata": {},
   "outputs": [],
   "source": [
    "#final_submit[\"meter_reading\"].describe()"
   ]
  },
  {
   "cell_type": "code",
   "execution_count": null,
   "metadata": {},
   "outputs": [],
   "source": [
    "#final_submit.to_csv(\"submit_lightgbm_default.csv.gz\", index = False, compression='gzip')"
   ]
  },
  {
   "cell_type": "code",
   "execution_count": 743,
   "metadata": {},
   "outputs": [
    {
     "name": "stdout",
     "output_type": "stream",
     "text": [
      "Warning: Your Kaggle API key is readable by other users on this system! To fix this, you can run 'chmod 600 /home/jovyan/.kaggle/kaggle.json'\n",
      "100%|████████████████████████████████████████| 475M/475M [00:09<00:00, 50.0MB/s]\n",
      "Successfully submitted to ASHRAE - Great Energy Predictor III"
     ]
    }
   ],
   "source": [
    "!kaggle competitions submit -c ashrae-energy-prediction -f submit_lightgbm_by_site.csv.gz -m \"separate model for site id and meter removing outliers\""
   ]
  },
  {
   "cell_type": "code",
   "execution_count": null,
   "metadata": {},
   "outputs": [],
   "source": []
  }
 ],
 "metadata": {
  "kernelspec": {
   "display_name": "Python 3",
   "language": "python",
   "name": "python3"
  },
  "language_info": {
   "codemirror_mode": {
    "name": "ipython",
    "version": 3
   },
   "file_extension": ".py",
   "mimetype": "text/x-python",
   "name": "python",
   "nbconvert_exporter": "python",
   "pygments_lexer": "ipython3",
   "version": "3.7.3"
  }
 },
 "nbformat": 4,
 "nbformat_minor": 2
}
