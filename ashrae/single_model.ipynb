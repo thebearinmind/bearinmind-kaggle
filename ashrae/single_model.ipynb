{
 "cells": [
  {
   "cell_type": "code",
   "execution_count": 416,
   "metadata": {},
   "outputs": [],
   "source": [
    "import sys\n",
    "#sys.path.insert(0, '/home/jovyan/work/Molecular_Properties/model-pipeline/src')\n",
    "import pandas as pd\n",
    "import warnings\n",
    "import numpy as np\n",
    "from sklearn.preprocessing import LabelEncoder, OneHotEncoder\n",
    "#from model_construction import prepare_data_split, run_model, show_varimp\n",
    "from bearinmind_pipeline.data_preprocessing import dataPreprocessing as dp\n",
    "#from bearinmind_pipeline.model_construction import modelBuilder as mb\n",
    "import bearinmind_pipeline.model_construction as mc\n",
    "from numpy import inf\n",
    "from sklearn.metrics import mean_squared_error\n",
    "from math import sqrt\n",
    "import gc\n",
    "from tqdm import tqdm_notebook, tqdm \n",
    "import matplotlib.pyplot as plt\n",
    "import datetime\n",
    "import json\n",
    "from scipy import stats\n",
    "import holidays\n",
    "from fbprophet import Prophet\n",
    "from fbprophet.diagnostics import cross_validation\n",
    "from fbprophet.diagnostics import performance_metrics\n",
    "pd.set_option('display.max_columns', 500)\n",
    "pd.set_option('display.float_format', lambda x: '%.3f' % x)"
   ]
  },
  {
   "cell_type": "code",
   "execution_count": 199,
   "metadata": {},
   "outputs": [],
   "source": [
    "df_train = pd.read_csv('./data/train.csv')\n",
    "df_test = pd.read_csv('./data/test.csv')\n",
    "mapping = pd.read_csv('./data/building_metadata.csv')"
   ]
  },
  {
   "cell_type": "code",
   "execution_count": 200,
   "metadata": {},
   "outputs": [],
   "source": [
    "weather_train = pd.read_csv('./data/weather_train.csv')\n",
    "weather_test = pd.read_csv('./data/weather_test.csv')"
   ]
  },
  {
   "cell_type": "code",
   "execution_count": 201,
   "metadata": {},
   "outputs": [],
   "source": [
    "### Add Holidays ###\n",
    "def get_holidays(df):\n",
    "    en_holidays = holidays.England()\n",
    "    ir_holidays = holidays.Ireland()\n",
    "    ca_holidays = holidays.Canada()\n",
    "    us_holidays = holidays.UnitedStates()\n",
    "    en_idx = df.query('site_id == 1 or site_id == 5').index\n",
    "    ir_idx = df.query('site_id == 12').index\n",
    "    ca_idx = df.query('site_id == 7 or site_id == 11').index\n",
    "    us_idx = df.query('site_id == 0 or site_id == 2 or site_id == 3 or site_id == 4 or site_id == 6 or site_id == 8 or site_id == 9 or site_id == 10 or site_id == 13 or site_id == 14 or site_id == 15').index\n",
    "    df['IsHoliday'] = 0\n",
    "    df.loc[en_idx, 'IsHoliday'] = df.loc[en_idx, 'timestamp'].apply(lambda x: en_holidays.get(x, default=0))\n",
    "    df.loc[ir_idx, 'IsHoliday'] = df.loc[ir_idx, 'timestamp'].apply(lambda x: ir_holidays.get(x, default=0))\n",
    "    df.loc[ca_idx, 'IsHoliday'] = df.loc[ca_idx, 'timestamp'].apply(lambda x: ca_holidays.get(x, default=0))\n",
    "    df.loc[us_idx, 'IsHoliday'] = df.loc[us_idx, 'timestamp'].apply(lambda x: us_holidays.get(x, default=0))\n",
    "    holiday_idx = df['IsHoliday'] != 0\n",
    "    df.loc[holiday_idx, 'IsHoliday'] = 1\n",
    "    df['IsHoliday'] = df['IsHoliday'].astype(np.uint8)\n",
    "    \n",
    "    return df"
   ]
  },
  {
   "cell_type": "code",
   "execution_count": 202,
   "metadata": {},
   "outputs": [],
   "source": [
    "weather_train = get_holidays(weather_train)\n",
    "weather_test = get_holidays(weather_test)"
   ]
  },
  {
   "cell_type": "code",
   "execution_count": 203,
   "metadata": {},
   "outputs": [],
   "source": [
    "timediff = {0:4,1:0,2:7,3:4,4:7,5:0,6:4,7:4,8:4,9:5,10:7,11:4,12:0,13:5,14:4,15:4}\n",
    "weather_train['timediff']= weather_train['site_id'].map(timediff)\n",
    "weather_test['timediff']= weather_test['site_id'].map(timediff)\n",
    "\n",
    "weather_train['timediff'] = weather_train['timediff'].apply(lambda x: datetime.timedelta(hours=x))\n",
    "weather_test['timediff'] = weather_test['timediff'].apply(lambda x: datetime.timedelta(hours=x))\n",
    "\n",
    "weather_train['timestamp'] = pd.to_datetime(weather_train['timestamp']) \n",
    "weather_test['timestamp'] = pd.to_datetime(weather_test['timestamp'])\n",
    "\n",
    "weather_train['timestamp'] = weather_train['timestamp'] - weather_train['timediff']\n",
    "weather_test['timestamp'] = weather_test['timestamp'] - weather_test['timediff']"
   ]
  },
  {
   "cell_type": "code",
   "execution_count": 204,
   "metadata": {},
   "outputs": [
    {
     "data": {
      "text/html": [
       "<div>\n",
       "<style scoped>\n",
       "    .dataframe tbody tr th:only-of-type {\n",
       "        vertical-align: middle;\n",
       "    }\n",
       "\n",
       "    .dataframe tbody tr th {\n",
       "        vertical-align: top;\n",
       "    }\n",
       "\n",
       "    .dataframe thead th {\n",
       "        text-align: right;\n",
       "    }\n",
       "</style>\n",
       "<table border=\"1\" class=\"dataframe\">\n",
       "  <thead>\n",
       "    <tr style=\"text-align: right;\">\n",
       "      <th></th>\n",
       "      <th>site_id</th>\n",
       "      <th>timestamp</th>\n",
       "      <th>air_temperature</th>\n",
       "      <th>cloud_coverage</th>\n",
       "      <th>dew_temperature</th>\n",
       "      <th>precip_depth_1_hr</th>\n",
       "      <th>sea_level_pressure</th>\n",
       "      <th>wind_direction</th>\n",
       "      <th>wind_speed</th>\n",
       "      <th>IsHoliday</th>\n",
       "      <th>timediff</th>\n",
       "    </tr>\n",
       "  </thead>\n",
       "  <tbody>\n",
       "    <tr>\n",
       "      <td>0</td>\n",
       "      <td>0</td>\n",
       "      <td>2015-12-31 20:00:00</td>\n",
       "      <td>25.000</td>\n",
       "      <td>6.000</td>\n",
       "      <td>20.000</td>\n",
       "      <td>nan</td>\n",
       "      <td>1019.700</td>\n",
       "      <td>0.000</td>\n",
       "      <td>0.000</td>\n",
       "      <td>1</td>\n",
       "      <td>04:00:00</td>\n",
       "    </tr>\n",
       "    <tr>\n",
       "      <td>1</td>\n",
       "      <td>0</td>\n",
       "      <td>2015-12-31 21:00:00</td>\n",
       "      <td>24.400</td>\n",
       "      <td>nan</td>\n",
       "      <td>21.100</td>\n",
       "      <td>-1.000</td>\n",
       "      <td>1020.200</td>\n",
       "      <td>70.000</td>\n",
       "      <td>1.500</td>\n",
       "      <td>1</td>\n",
       "      <td>04:00:00</td>\n",
       "    </tr>\n",
       "    <tr>\n",
       "      <td>2</td>\n",
       "      <td>0</td>\n",
       "      <td>2015-12-31 22:00:00</td>\n",
       "      <td>22.800</td>\n",
       "      <td>2.000</td>\n",
       "      <td>21.100</td>\n",
       "      <td>0.000</td>\n",
       "      <td>1020.200</td>\n",
       "      <td>0.000</td>\n",
       "      <td>0.000</td>\n",
       "      <td>1</td>\n",
       "      <td>04:00:00</td>\n",
       "    </tr>\n",
       "    <tr>\n",
       "      <td>3</td>\n",
       "      <td>0</td>\n",
       "      <td>2015-12-31 23:00:00</td>\n",
       "      <td>21.100</td>\n",
       "      <td>2.000</td>\n",
       "      <td>20.600</td>\n",
       "      <td>0.000</td>\n",
       "      <td>1020.100</td>\n",
       "      <td>0.000</td>\n",
       "      <td>0.000</td>\n",
       "      <td>1</td>\n",
       "      <td>04:00:00</td>\n",
       "    </tr>\n",
       "    <tr>\n",
       "      <td>4</td>\n",
       "      <td>0</td>\n",
       "      <td>2016-01-01 00:00:00</td>\n",
       "      <td>20.000</td>\n",
       "      <td>2.000</td>\n",
       "      <td>20.000</td>\n",
       "      <td>-1.000</td>\n",
       "      <td>1020.000</td>\n",
       "      <td>250.000</td>\n",
       "      <td>2.600</td>\n",
       "      <td>1</td>\n",
       "      <td>04:00:00</td>\n",
       "    </tr>\n",
       "  </tbody>\n",
       "</table>\n",
       "</div>"
      ],
      "text/plain": [
       "   site_id           timestamp  air_temperature  cloud_coverage  \\\n",
       "0        0 2015-12-31 20:00:00           25.000           6.000   \n",
       "1        0 2015-12-31 21:00:00           24.400             nan   \n",
       "2        0 2015-12-31 22:00:00           22.800           2.000   \n",
       "3        0 2015-12-31 23:00:00           21.100           2.000   \n",
       "4        0 2016-01-01 00:00:00           20.000           2.000   \n",
       "\n",
       "   dew_temperature  precip_depth_1_hr  sea_level_pressure  wind_direction  \\\n",
       "0           20.000                nan            1019.700           0.000   \n",
       "1           21.100             -1.000            1020.200          70.000   \n",
       "2           21.100              0.000            1020.200           0.000   \n",
       "3           20.600              0.000            1020.100           0.000   \n",
       "4           20.000             -1.000            1020.000         250.000   \n",
       "\n",
       "   wind_speed  IsHoliday timediff  \n",
       "0       0.000          1 04:00:00  \n",
       "1       1.500          1 04:00:00  \n",
       "2       0.000          1 04:00:00  \n",
       "3       0.000          1 04:00:00  \n",
       "4       2.600          1 04:00:00  "
      ]
     },
     "execution_count": 204,
     "metadata": {},
     "output_type": "execute_result"
    }
   ],
   "source": [
    "weather_train.head()"
   ]
  },
  {
   "cell_type": "code",
   "execution_count": 205,
   "metadata": {},
   "outputs": [],
   "source": [
    "df_train = df_train.merge(mapping, how = \"left\", on = \"building_id\")\n",
    "df_test = df_test.merge(mapping, how = \"left\", on = \"building_id\")"
   ]
  },
  {
   "cell_type": "code",
   "execution_count": 207,
   "metadata": {},
   "outputs": [],
   "source": [
    "df_train['timestamp'] = pd.to_datetime(df_train['timestamp'])\n",
    "df_test['timestamp'] = pd.to_datetime(df_test['timestamp'])"
   ]
  },
  {
   "cell_type": "code",
   "execution_count": 208,
   "metadata": {},
   "outputs": [],
   "source": [
    "df_train = df_train.merge(weather_train, how = \"left\", on = [\"site_id\", \"timestamp\"])\n",
    "df_test = df_test.merge(weather_test, how = \"left\", on =  [\"site_id\", \"timestamp\"])"
   ]
  },
  {
   "cell_type": "code",
   "execution_count": 157,
   "metadata": {},
   "outputs": [],
   "source": [
    "del weather_train \n",
    "del weather_test"
   ]
  },
  {
   "cell_type": "code",
   "execution_count": 211,
   "metadata": {},
   "outputs": [],
   "source": [
    "df_train = df_train.drop(['timediff'], axis = 1)\n",
    "df_test = df_test.drop(['timediff'], axis = 1)"
   ]
  },
  {
   "cell_type": "code",
   "execution_count": 476,
   "metadata": {},
   "outputs": [],
   "source": [
    "def rmsle(y, yhat):\n",
    "    score = np.sqrt(np.mean(np.power(np.log(yhat+1)-np.log(y.reset_index(drop=True)+1), 2)))\n",
    "    return(score)"
   ]
  },
  {
   "cell_type": "code",
   "execution_count": 123,
   "metadata": {},
   "outputs": [],
   "source": [
    "# Check one building\n",
    "df_train_build = df_train[(df_train['building_id'] == 46) & (df_train['meter'] == 0)]"
   ]
  },
  {
   "cell_type": "code",
   "execution_count": 214,
   "metadata": {},
   "outputs": [],
   "source": [
    "### Intrapolate cloud coverage\n",
    "df_train['cloud_coverage'] = df_train.groupby(['building_id', 'meter'])['cloud_coverage'].apply(lambda x : x.interpolate(method = \"spline\", order = 1,limit_direction = \"both\", limit = 1000))\n",
    "df_test['cloud_coverage'] = df_test.groupby(['building_id', 'meter'])['cloud_coverage'].apply(lambda x : x.interpolate(method = \"spline\", order = 1, limit_direction = \"both\", limit = 1000))"
   ]
  },
  {
   "cell_type": "code",
   "execution_count": null,
   "metadata": {},
   "outputs": [],
   "source": [
    "### Intrapolate air temperature\n",
    "df_train['air_temperature'] = df_train.groupby(['building_id', 'meter'])['air_temperature'].apply(lambda x : x.interpolate(method = \"spline\", order = 1, limit_direction = \"both\"))\n",
    "df_test['air_temperature'] = df_test.groupby(['building_id', 'meter'])['air_temperature'].apply(lambda x : x.interpolate(method = \"spline\", order = 1, limit_direction = \"both\"))"
   ]
  },
  {
   "cell_type": "code",
   "execution_count": null,
   "metadata": {},
   "outputs": [],
   "source": [
    "df_train.head()"
   ]
  },
  {
   "cell_type": "code",
   "execution_count": null,
   "metadata": {},
   "outputs": [],
   "source": [
    "#### Take a Sample ####\n",
    "#df_train = df_train.sample(n=int(df_train.shape[0]*0.1), random_state=1)\n",
    "#df_test = df_test.sample(n=int(df_test.shape[0]*0.1), random_state=1)"
   ]
  },
  {
   "cell_type": "code",
   "execution_count": null,
   "metadata": {},
   "outputs": [],
   "source": [
    "#df_train[\"Month\"] = pd.to_datetime(df_train[\"timestamp\"]).dt.month\n",
    "#df_test[\"Month\"] = pd.to_datetime(df_test[\"timestamp\"]).dt.month"
   ]
  },
  {
   "cell_type": "code",
   "execution_count": null,
   "metadata": {},
   "outputs": [],
   "source": [
    "df_train[\"Day\"] = pd.to_datetime(df_train[\"timestamp\"]).dt.day\n",
    "df_test[\"Day\"] = pd.to_datetime(df_test[\"timestamp\"]).dt.day"
   ]
  },
  {
   "cell_type": "code",
   "execution_count": null,
   "metadata": {},
   "outputs": [],
   "source": [
    "df_train[\"Hour\"] = pd.to_datetime(df_train[\"timestamp\"]).dt.hour\n",
    "df_test[\"Hour\"] = pd.to_datetime(df_test[\"timestamp\"]).dt.hour"
   ]
  },
  {
   "cell_type": "code",
   "execution_count": null,
   "metadata": {},
   "outputs": [],
   "source": [
    "#df_train.to_csv(\"df_train.csv\", index = False)\n",
    "#df_test.to_csv(\"df_test.csv\", index = False)"
   ]
  },
  {
   "cell_type": "code",
   "execution_count": null,
   "metadata": {},
   "outputs": [],
   "source": [
    "#df_train = pd.read_csv('./df_train.csv')\n",
    "#df_test = pd.read_csv('./df_test.csv')"
   ]
  },
  {
   "cell_type": "code",
   "execution_count": null,
   "metadata": {},
   "outputs": [],
   "source": [
    "plt.plot(pd.to_datetime(df_train[(df_train['building_id']==0) & (df_train['meter']==0)]['timestamp']).dt.date, df_train[(df_train['building_id']==0) & (df_train['meter']==0)]['precip_depth_1_hr'])"
   ]
  },
  {
   "cell_type": "code",
   "execution_count": null,
   "metadata": {},
   "outputs": [],
   "source": [
    "df_train['precip_depth_1_hr'] = df_train.groupby(['building_id', 'meter'])['precip_depth_1_hr'].apply(lambda x : x.interpolate(method = \"linear\", order = 1, limit_direction = \"both\"))\n",
    "df_test['precip_depth_1_hr'] = df_test.groupby(['building_id', 'meter'])['precip_depth_1_hr'].apply(lambda x : x.interpolate(method = \"linear\", order = 1, limit_direction = \"both\"))"
   ]
  },
  {
   "cell_type": "code",
   "execution_count": null,
   "metadata": {},
   "outputs": [],
   "source": [
    "df_train['sea_level_pressure'] = df_train.groupby(['building_id', 'meter'])['sea_level_pressure'].apply(lambda x : x.interpolate(method = \"linear\", order = 1, limit_direction = \"both\"))\n",
    "df_test['sea_level_pressure'] = df_test.groupby(['building_id', 'meter'])['sea_level_pressure'].apply(lambda x : x.interpolate(method = \"linear\", order = 1, limit_direction = \"both\"))"
   ]
  },
  {
   "cell_type": "code",
   "execution_count": null,
   "metadata": {},
   "outputs": [],
   "source": [
    "df_train['wind_direction'] = df_train.groupby(['building_id', 'meter'])['wind_direction'].apply(lambda x : x.interpolate(method = \"linear\", order = 1, limit_direction = \"both\"))\n",
    "df_test['wind_direction'] = df_test.groupby(['building_id', 'meter'])['wind_direction'].apply(lambda x : x.interpolate(method = \"linear\", order = 1, limit_direction = \"both\"))"
   ]
  },
  {
   "cell_type": "code",
   "execution_count": null,
   "metadata": {},
   "outputs": [],
   "source": [
    "df_train['wind_speed'] = df_train.groupby(['building_id', 'meter'])['wind_speed'].apply(lambda x : x.interpolate(method = \"linear\", order = 1, limit_direction = \"both\"))\n",
    "df_test['wind_speed'] = df_test.groupby(['building_id', 'meter'])['wind_speed'].apply(lambda x : x.interpolate(method = \"linear\", order = 1, limit_direction = \"both\"))"
   ]
  },
  {
   "cell_type": "code",
   "execution_count": null,
   "metadata": {},
   "outputs": [],
   "source": [
    "df_train['dew_temperature'] = df_train.groupby(['building_id', 'meter'])['dew_temperature'].apply(lambda x : x.interpolate(method = \"linear\", order = 1, limit_direction = \"both\"))\n",
    "df_test['dew_temperature'] = df_test.groupby(['building_id', 'meter'])['dew_temperature'].apply(lambda x : x.interpolate(method = \"linear\", order = 1, limit_direction = \"both\"))"
   ]
  },
  {
   "cell_type": "code",
   "execution_count": null,
   "metadata": {},
   "outputs": [],
   "source": [
    "df_train[\"DayOfWeek\"] = pd.to_datetime(df_train[\"timestamp\"]).dt.dayofweek\n",
    "df_test[\"DayOfWeek\"] = pd.to_datetime(df_test[\"timestamp\"]).dt.dayofweek"
   ]
  },
  {
   "cell_type": "code",
   "execution_count": null,
   "metadata": {},
   "outputs": [],
   "source": [
    "df_train.head()"
   ]
  },
  {
   "cell_type": "code",
   "execution_count": null,
   "metadata": {},
   "outputs": [],
   "source": [
    "#df_train = dp.create_stats_features(df_train, 'dew_temperature', ['site_id', 'Month'])\n",
    "#df_test = dp.create_stats_features(df_test, 'dew_temperature', ['site_id', 'Month'])"
   ]
  },
  {
   "cell_type": "code",
   "execution_count": null,
   "metadata": {},
   "outputs": [],
   "source": [
    "#df_train[\"air_temperature_log\"] = np.log(df_train['air_temperature'])\n",
    "#df_test[\"air_temperature_log\"] = np.log(df_test['air_temperature'])"
   ]
  },
  {
   "cell_type": "code",
   "execution_count": null,
   "metadata": {},
   "outputs": [],
   "source": [
    "#df_train[\"Age\"] = pd.to_datetime(df_train[\"timestamp\"]).dt.year - df_train[\"year_built\"]\n",
    "#df_test[\"Age\"] = pd.to_datetime(df_test[\"timestamp\"]).dt.year - df_test[\"year_built\"]"
   ]
  },
  {
   "cell_type": "code",
   "execution_count": null,
   "metadata": {},
   "outputs": [],
   "source": [
    "### Clean Electricity ###\n",
    "df_train = df_train[~((df_train['site_id'] == 0) & (df_train['meter'] == 0) & (pd.to_datetime(df_train['timestamp']) < pd.to_datetime('2016-05-20 18:00:00')))]"
   ]
  },
  {
   "cell_type": "code",
   "execution_count": null,
   "metadata": {},
   "outputs": [],
   "source": [
    "df_train = df_train[~((df_train['building_id'] == 799) & (df_train['meter'] == 0) & (pd.to_datetime(df_train['timestamp']) < pd.to_datetime('2016-06-01 12:00:00')))]\n",
    "df_train = df_train[~((df_train['building_id'] == 802) & (df_train['meter'] == 0) & (pd.to_datetime(df_train['timestamp']) < pd.to_datetime('2016-08-23 08:00:00')))]\n",
    "df_train = df_train[~((df_train['building_id'] == 803) & (df_train['meter'] == 0) & (pd.to_datetime(df_train['timestamp']) > pd.to_datetime('2016-09-24 20:00:00')))]"
   ]
  },
  {
   "cell_type": "code",
   "execution_count": 237,
   "metadata": {},
   "outputs": [],
   "source": [
    "df_train.to_csv(\"df_train.csv.gz\", index = False, compression = 'gzip')\n",
    "df_test.to_csv(\"df_test.csv.gz\", index = False, compression = 'gzip')"
   ]
  },
  {
   "cell_type": "code",
   "execution_count": 617,
   "metadata": {},
   "outputs": [],
   "source": [
    "df_train = pd.read_csv('./df_train.csv.gz', compression = 'gzip')\n",
    "df_test = pd.read_csv('./df_test.csv.gz', compression = 'gzip')"
   ]
  },
  {
   "cell_type": "code",
   "execution_count": 293,
   "metadata": {},
   "outputs": [],
   "source": [
    "### Lags for cloud coverage and air temperature\n",
    "#for i in range(12):\n",
    "#    df_train[f'cloud_coverage_lag{i+1}'] = df_train.groupby(['building_id', 'meter'])['cloud_coverage'].shift(i+1)\n",
    "#    df_test[f'cloud_coverage_lag{i+1}'] = df_test.groupby(['building_id', 'meter'])['cloud_coverage'].shift(i+1)\n",
    "#    df_train[f'air_temperature_lag{i+1}'] = df_train.groupby(['building_id', 'meter'])['air_temperature'].shift(i+1)\n",
    "#    df_test[f'air_temperature_lag{i+1}'] = df_test.groupby(['building_id', 'meter'])['air_temperature'].shift(i+1)"
   ]
  },
  {
   "cell_type": "code",
   "execution_count": 618,
   "metadata": {},
   "outputs": [],
   "source": [
    "### Drop zero values in Electricity ###\n",
    "df_train = df_train.drop(df_train[(df_train['meter'] == 0) \n",
    "                       & (df_train['meter_reading'] == 0.0)].index)"
   ]
  },
  {
   "cell_type": "code",
   "execution_count": 693,
   "metadata": {},
   "outputs": [],
   "source": [
    "### calculate relative humididty ###\n",
    "df_train['relative_humidity'] = 100-5*(df_train['air_temperature'] - df_train['dew_temperature'])\n",
    "df_test['relative_humidity'] = 100-5*(df_test['air_temperature'] - df_test['dew_temperature'])"
   ]
  },
  {
   "cell_type": "code",
   "execution_count": 708,
   "metadata": {},
   "outputs": [],
   "source": [
    "def create_add_features(df):\n",
    "    df['air_density_dry'] = df['sea_level_pressure']/(287.058 * df['air_temperature'])\n",
    "    df['vapor_pressure_water_satur'] = 6.102*10**((7.5*df['air_temperature'])/(df['air_temperature']+237.8))\n",
    "    df['vapor_pressure_water'] =  df['relative_humidity']*df['vapor_pressure_water_satur']\n",
    "    df['partial_press_dry'] = df['sea_level_pressure']-df['vapor_pressure_water'] \n",
    "    df['air_density_humid'] = (df['partial_press_dry']*0.0289654+df['vapor_pressure_water'] *0.018016)/8.314*df['air_temperature']\n",
    "    \n",
    "    return df"
   ]
  },
  {
   "cell_type": "code",
   "execution_count": 709,
   "metadata": {},
   "outputs": [],
   "source": [
    "df_train = create_add_features(df_train)\n",
    "df_test = create_add_features(df_test)"
   ]
  },
  {
   "cell_type": "code",
   "execution_count": 295,
   "metadata": {},
   "outputs": [],
   "source": [
    "### Log of Square fit plus year build ###\n",
    "#df_train['year_built'] = df_train['year_built'] - 1900\n",
    "#df_train['square_feet'] = np.log(df_train['square_feet'])\n",
    "#df_test['year_built'] = df_test['year_built'] - 1900\n",
    "#df_test['square_feet'] = np.log(df_test['square_feet'])"
   ]
  },
  {
   "cell_type": "code",
   "execution_count": 500,
   "metadata": {},
   "outputs": [],
   "source": [
    "def roll_diff(x):\n",
    "    return x[0] - x[-1]"
   ]
  },
  {
   "cell_type": "code",
   "execution_count": 501,
   "metadata": {},
   "outputs": [],
   "source": [
    "def check_constants(grp):\n",
    "    grp['is_constant_meter'] = grp['meter_reading'].rolling(6).apply(roll_diff)\n",
    "    return grp"
   ]
  },
  {
   "cell_type": "code",
   "execution_count": 502,
   "metadata": {},
   "outputs": [
    {
     "name": "stderr",
     "output_type": "stream",
     "text": [
      "/opt/conda/lib/python3.7/site-packages/ipykernel_launcher.py:2: FutureWarning:\n",
      "\n",
      "Currently, 'apply' passes the values as ndarrays to the applied function. In the future, this will change to passing it as Series objects. You need to specify 'raw=True' to keep the current behaviour, and you can pass 'raw=False' to silence this warning\n",
      "\n"
     ]
    }
   ],
   "source": [
    "# calculate rolling diff for constant detection\n",
    "#df_train = df_train.groupby(['building_id', 'meter'], as_index = False).apply(lambda x: check_constants(x))"
   ]
  },
  {
   "cell_type": "code",
   "execution_count": 503,
   "metadata": {},
   "outputs": [
    {
     "data": {
      "text/plain": [
       "(19682552, 21)"
      ]
     },
     "execution_count": 503,
     "metadata": {},
     "output_type": "execute_result"
    }
   ],
   "source": [
    "df_train.shape"
   ]
  },
  {
   "cell_type": "code",
   "execution_count": 504,
   "metadata": {},
   "outputs": [],
   "source": [
    "# convert constant meter readings to nan\n",
    "#df_train.loc[df_train['is_constant_meter'] == 0.0, 'meter_reading'] = np.nan\n",
    "#df_train = df_train[df_train['is_constant_meter'] != 0.0]"
   ]
  },
  {
   "cell_type": "code",
   "execution_count": 351,
   "metadata": {},
   "outputs": [
    {
     "data": {
      "text/plain": [
       "2255180"
      ]
     },
     "execution_count": 351,
     "metadata": {},
     "output_type": "execute_result"
    }
   ],
   "source": [
    "#df_train['meter_reading'].isnull().sum()\n",
    "#df_train.shape"
   ]
  },
  {
   "cell_type": "code",
   "execution_count": 439,
   "metadata": {},
   "outputs": [],
   "source": [
    "#def replace_na_with_prophet(df):\n",
    "#    \n",
    "#    test_prof = df[['timestamp', 'meter_reading', 'air_temperature']]\n",
    "#    test_prof.columns = [\"ds\", \"y\", \"air_temperature\"]\n",
    "#    z = Prophet(interval_width=0.95, daily_seasonality=True, weekly_seasonality=True,\n",
    "#           seasonality_mode = 'multiplicative')\n",
    "#    z.add_regressor('air_temperature')\n",
    "#    z.fit(test_prof)\n",
    "#    forecast = z.predict(test_prof)\n",
    "#    df = df.reset_index(drop = True)\n",
    "#    df['meter_reading'] = forecast['yhat']\n",
    "    \n",
    "#    #print(f'Itheration {i} is finished')\n",
    "    \n",
    "#    return(df)"
   ]
  },
  {
   "cell_type": "code",
   "execution_count": 429,
   "metadata": {},
   "outputs": [],
   "source": [
    "#test_prft = df_train[(df_train['site_id'] == 0) & (df_train['meter'] == 1)]"
   ]
  },
  {
   "cell_type": "code",
   "execution_count": null,
   "metadata": {},
   "outputs": [],
   "source": [
    "# Replace constants with prophet\n",
    "#%time df_train = df_train.groupby(['building_id', 'meter'], as_index=False).apply(lambda x: replace_na_with_prophet(x))"
   ]
  },
  {
   "cell_type": "code",
   "execution_count": null,
   "metadata": {},
   "outputs": [],
   "source": [
    "#df_train = df_train.reset_index(drop = True)"
   ]
  },
  {
   "cell_type": "code",
   "execution_count": null,
   "metadata": {},
   "outputs": [],
   "source": [
    "#df_train.to_csv(\"df_train_prophet_for_constants.csv.gz\", index = False, compression = 'gzip')"
   ]
  },
  {
   "cell_type": "code",
   "execution_count": 637,
   "metadata": {},
   "outputs": [
    {
     "data": {
      "text/plain": [
       "array([106, 109, 112, 113, 114, 117, 119, 121, 138, 139, 144, 145])"
      ]
     },
     "execution_count": 637,
     "metadata": {},
     "output_type": "execute_result"
    }
   ],
   "source": [
    "df_train[(df_train['site_id'] == 1) & (df_train['meter'] == 3)]['building_id'].unique()"
   ]
  },
  {
   "cell_type": "code",
   "execution_count": 303,
   "metadata": {},
   "outputs": [],
   "source": [
    "# Intrapolate nan values of meter reading \n",
    "#test['meter_reading'] = test.groupby(['building_id', 'meter'])['meter_reading'].apply(lambda x : x.interpolate(method = \"piecewise_polynomial\", order = 5, limit_direction = \"both\"))\n",
    "#def rolling_interpol(df):\n",
    "#    roll_wind = df['meter_reading'].isnull().sum()\n",
    "#    if roll_wind == 0:\n",
    "#        pass\n",
    "#    else:\n",
    "#        df['meter_reading'] = df.meter_reading.fillna(df.meter_reading.rolling(roll_wind, min_periods=1).mean())\n",
    "#    return df"
   ]
  },
  {
   "cell_type": "code",
   "execution_count": 304,
   "metadata": {},
   "outputs": [],
   "source": [
    "#df_train = df_train.groupby(['building_id', 'meter']).apply(lambda x : rolling_interpol(x))"
   ]
  },
  {
   "cell_type": "code",
   "execution_count": 354,
   "metadata": {},
   "outputs": [],
   "source": [
    "#df_train['meter_reading'] = df_train.groupby(['building_id', 'meter'])['meter_reading'].apply(lambda x : x.interpolate(method = \"linear\", order = 1, limit_direction = \"both\"))"
   ]
  },
  {
   "cell_type": "code",
   "execution_count": 620,
   "metadata": {},
   "outputs": [
    {
     "data": {
      "text/plain": [
       "(0, 20)"
      ]
     },
     "execution_count": 620,
     "metadata": {},
     "output_type": "execute_result"
    }
   ],
   "source": [
    "df_train[df_train['meter_reading'].isnull()].shape"
   ]
  },
  {
   "cell_type": "code",
   "execution_count": 648,
   "metadata": {},
   "outputs": [],
   "source": [
    "test = df_train[(df_train['meter'] ==  3) & (df_train['building_id'] == 138)] "
   ]
  },
  {
   "cell_type": "code",
   "execution_count": 639,
   "metadata": {},
   "outputs": [],
   "source": [
    "#test_prof = test[['timestamp', 'meter_reading', 'air_temperature', 'cloud_coverage', 'wind_direction',\n",
    "#                 'sea_level_pressure']]\n",
    "#test_prof.columns = [\"ds\", \"y\", \"air_temperature\", \"cloud_coverage\", \"wind_direction\", \"sea_level_pressure\"]\n",
    "\n",
    "#### Testing Prophet ####\n",
    "\n",
    "#z = Prophet(interval_width=0.95, daily_seasonality=True, weekly_seasonality=True,\n",
    "#           seasonality_mode = 'multiplicative')\n",
    "#z.add_seasonality(name='monthly', period=30.5, fourier_order=5)\n",
    "#z.add_regressor('wind_direction')\n",
    "#z.add_regressor('air_temperature')\n",
    "#z.add_regressor('cloud_coverage')\n",
    "#z.add_regressor('sea_level_pressure')\n",
    "#z.fit(test_prof)\n",
    "#forecast = z.predict(test_prof)"
   ]
  },
  {
   "cell_type": "code",
   "execution_count": 640,
   "metadata": {},
   "outputs": [],
   "source": [
    "#rmsle(test_prof['y'],forecast['yhat'])"
   ]
  },
  {
   "cell_type": "code",
   "execution_count": 641,
   "metadata": {},
   "outputs": [],
   "source": [
    "#plt.figure(figsize=(15,15))\n",
    "#plt.plot(pd.to_datetime(forecast[\"ds\"]).dt.date, forecast['yhat'])"
   ]
  },
  {
   "cell_type": "code",
   "execution_count": 642,
   "metadata": {},
   "outputs": [],
   "source": [
    "#test = test.reset_index(drop = True)\n",
    "#test['meter_reading'] = forecast['yhat']"
   ]
  },
  {
   "cell_type": "code",
   "execution_count": 686,
   "metadata": {},
   "outputs": [],
   "source": [
    "test = df_train.copy()"
   ]
  },
  {
   "cell_type": "code",
   "execution_count": 673,
   "metadata": {},
   "outputs": [],
   "source": [
    "#x = test['wind_direction'].value_counts()"
   ]
  },
  {
   "cell_type": "code",
   "execution_count": 696,
   "metadata": {},
   "outputs": [
    {
     "data": {
      "text/html": [
       "<div>\n",
       "<style scoped>\n",
       "    .dataframe tbody tr th:only-of-type {\n",
       "        vertical-align: middle;\n",
       "    }\n",
       "\n",
       "    .dataframe tbody tr th {\n",
       "        vertical-align: top;\n",
       "    }\n",
       "\n",
       "    .dataframe thead th {\n",
       "        text-align: right;\n",
       "    }\n",
       "</style>\n",
       "<table border=\"1\" class=\"dataframe\">\n",
       "  <thead>\n",
       "    <tr style=\"text-align: right;\">\n",
       "      <th></th>\n",
       "      <th>building_id</th>\n",
       "      <th>meter</th>\n",
       "      <th>timestamp</th>\n",
       "      <th>meter_reading</th>\n",
       "      <th>site_id</th>\n",
       "      <th>primary_use</th>\n",
       "      <th>square_feet</th>\n",
       "      <th>year_built</th>\n",
       "      <th>floor_count</th>\n",
       "      <th>air_temperature</th>\n",
       "      <th>cloud_coverage</th>\n",
       "      <th>dew_temperature</th>\n",
       "      <th>precip_depth_1_hr</th>\n",
       "      <th>sea_level_pressure</th>\n",
       "      <th>wind_direction</th>\n",
       "      <th>wind_speed</th>\n",
       "      <th>IsHoliday</th>\n",
       "      <th>Day</th>\n",
       "      <th>Hour</th>\n",
       "      <th>DayOfWeek</th>\n",
       "      <th>relative_humidity</th>\n",
       "    </tr>\n",
       "  </thead>\n",
       "  <tbody>\n",
       "    <tr>\n",
       "      <td>0</td>\n",
       "      <td>105</td>\n",
       "      <td>0</td>\n",
       "      <td>2016-01-01 00:00:00</td>\n",
       "      <td>23.304</td>\n",
       "      <td>1</td>\n",
       "      <td>Education</td>\n",
       "      <td>50623</td>\n",
       "      <td>nan</td>\n",
       "      <td>5.000</td>\n",
       "      <td>3.800</td>\n",
       "      <td>-0.130</td>\n",
       "      <td>2.400</td>\n",
       "      <td>nan</td>\n",
       "      <td>1020.900</td>\n",
       "      <td>240.000</td>\n",
       "      <td>3.100</td>\n",
       "      <td>1.000</td>\n",
       "      <td>1</td>\n",
       "      <td>0</td>\n",
       "      <td>4</td>\n",
       "      <td>93.000</td>\n",
       "    </tr>\n",
       "    <tr>\n",
       "      <td>1</td>\n",
       "      <td>106</td>\n",
       "      <td>0</td>\n",
       "      <td>2016-01-01 00:00:00</td>\n",
       "      <td>0.375</td>\n",
       "      <td>1</td>\n",
       "      <td>Education</td>\n",
       "      <td>5374</td>\n",
       "      <td>nan</td>\n",
       "      <td>4.000</td>\n",
       "      <td>3.800</td>\n",
       "      <td>-0.130</td>\n",
       "      <td>2.400</td>\n",
       "      <td>nan</td>\n",
       "      <td>1020.900</td>\n",
       "      <td>240.000</td>\n",
       "      <td>3.100</td>\n",
       "      <td>1.000</td>\n",
       "      <td>1</td>\n",
       "      <td>0</td>\n",
       "      <td>4</td>\n",
       "      <td>93.000</td>\n",
       "    </tr>\n",
       "    <tr>\n",
       "      <td>2</td>\n",
       "      <td>106</td>\n",
       "      <td>3</td>\n",
       "      <td>2016-01-01 00:00:00</td>\n",
       "      <td>0.000</td>\n",
       "      <td>1</td>\n",
       "      <td>Education</td>\n",
       "      <td>5374</td>\n",
       "      <td>nan</td>\n",
       "      <td>4.000</td>\n",
       "      <td>3.800</td>\n",
       "      <td>-0.130</td>\n",
       "      <td>2.400</td>\n",
       "      <td>nan</td>\n",
       "      <td>1020.900</td>\n",
       "      <td>240.000</td>\n",
       "      <td>3.100</td>\n",
       "      <td>1.000</td>\n",
       "      <td>1</td>\n",
       "      <td>0</td>\n",
       "      <td>4</td>\n",
       "      <td>93.000</td>\n",
       "    </tr>\n",
       "    <tr>\n",
       "      <td>3</td>\n",
       "      <td>107</td>\n",
       "      <td>0</td>\n",
       "      <td>2016-01-01 00:00:00</td>\n",
       "      <td>175.184</td>\n",
       "      <td>1</td>\n",
       "      <td>Education</td>\n",
       "      <td>97532</td>\n",
       "      <td>2005.000</td>\n",
       "      <td>10.000</td>\n",
       "      <td>3.800</td>\n",
       "      <td>-0.130</td>\n",
       "      <td>2.400</td>\n",
       "      <td>nan</td>\n",
       "      <td>1020.900</td>\n",
       "      <td>240.000</td>\n",
       "      <td>3.100</td>\n",
       "      <td>1.000</td>\n",
       "      <td>1</td>\n",
       "      <td>0</td>\n",
       "      <td>4</td>\n",
       "      <td>93.000</td>\n",
       "    </tr>\n",
       "    <tr>\n",
       "      <td>4</td>\n",
       "      <td>108</td>\n",
       "      <td>0</td>\n",
       "      <td>2016-01-01 00:00:00</td>\n",
       "      <td>91.265</td>\n",
       "      <td>1</td>\n",
       "      <td>Education</td>\n",
       "      <td>81580</td>\n",
       "      <td>1913.000</td>\n",
       "      <td>5.000</td>\n",
       "      <td>3.800</td>\n",
       "      <td>-0.130</td>\n",
       "      <td>2.400</td>\n",
       "      <td>nan</td>\n",
       "      <td>1020.900</td>\n",
       "      <td>240.000</td>\n",
       "      <td>3.100</td>\n",
       "      <td>1.000</td>\n",
       "      <td>1</td>\n",
       "      <td>0</td>\n",
       "      <td>4</td>\n",
       "      <td>93.000</td>\n",
       "    </tr>\n",
       "  </tbody>\n",
       "</table>\n",
       "</div>"
      ],
      "text/plain": [
       "   building_id  meter            timestamp  meter_reading  site_id  \\\n",
       "0          105      0  2016-01-01 00:00:00         23.304        1   \n",
       "1          106      0  2016-01-01 00:00:00          0.375        1   \n",
       "2          106      3  2016-01-01 00:00:00          0.000        1   \n",
       "3          107      0  2016-01-01 00:00:00        175.184        1   \n",
       "4          108      0  2016-01-01 00:00:00         91.265        1   \n",
       "\n",
       "  primary_use  square_feet  year_built  floor_count  air_temperature  \\\n",
       "0   Education        50623         nan        5.000            3.800   \n",
       "1   Education         5374         nan        4.000            3.800   \n",
       "2   Education         5374         nan        4.000            3.800   \n",
       "3   Education        97532    2005.000       10.000            3.800   \n",
       "4   Education        81580    1913.000        5.000            3.800   \n",
       "\n",
       "   cloud_coverage  dew_temperature  precip_depth_1_hr  sea_level_pressure  \\\n",
       "0          -0.130            2.400                nan            1020.900   \n",
       "1          -0.130            2.400                nan            1020.900   \n",
       "2          -0.130            2.400                nan            1020.900   \n",
       "3          -0.130            2.400                nan            1020.900   \n",
       "4          -0.130            2.400                nan            1020.900   \n",
       "\n",
       "   wind_direction  wind_speed  IsHoliday  Day  Hour  DayOfWeek  \\\n",
       "0         240.000       3.100      1.000    1     0          4   \n",
       "1         240.000       3.100      1.000    1     0          4   \n",
       "2         240.000       3.100      1.000    1     0          4   \n",
       "3         240.000       3.100      1.000    1     0          4   \n",
       "4         240.000       3.100      1.000    1     0          4   \n",
       "\n",
       "   relative_humidity  \n",
       "0             93.000  \n",
       "1             93.000  \n",
       "2             93.000  \n",
       "3             93.000  \n",
       "4             93.000  "
      ]
     },
     "execution_count": 696,
     "metadata": {},
     "output_type": "execute_result"
    }
   ],
   "source": [
    "test.head()"
   ]
  },
  {
   "cell_type": "code",
   "execution_count": 683,
   "metadata": {},
   "outputs": [],
   "source": [
    "test = dp.create_stats_features(test, ['air_temperature'], ['site_id', 'Hour'])"
   ]
  },
  {
   "cell_type": "code",
   "execution_count": 688,
   "metadata": {},
   "outputs": [],
   "source": [
    "test['relative_humidity'] = 100-5*(test['air_temperature'] - test['dew_temperature'])\n",
    "test['air_density_dry'] = test['sea_level_pressure']/(287.058 * test['air_temperature'])\n",
    "test['vapor_pressure_water_satur'] = 6.102*10**((7.5*test['air_temperature'])/(test['air_temperature']+237.8))\n",
    "test['vapor_pressure_water'] =  test['relative_humidity']*test['vapor_pressure_water_satur']\n",
    "test['partial_press_dry'] = test['sea_level_pressure']-test['vapor_pressure_water'] \n",
    "test['air_density_humid'] = (test['partial_press_dry']*0.0289654+test['vapor_pressure_water'] *0.018016)/8.314*test['air_temperature']"
   ]
  },
  {
   "cell_type": "code",
   "execution_count": 706,
   "metadata": {},
   "outputs": [
    {
     "data": {
      "text/html": [
       "<div>\n",
       "<style scoped>\n",
       "    .dataframe tbody tr th:only-of-type {\n",
       "        vertical-align: middle;\n",
       "    }\n",
       "\n",
       "    .dataframe tbody tr th {\n",
       "        vertical-align: top;\n",
       "    }\n",
       "\n",
       "    .dataframe thead th {\n",
       "        text-align: right;\n",
       "    }\n",
       "</style>\n",
       "<table border=\"1\" class=\"dataframe\">\n",
       "  <thead>\n",
       "    <tr style=\"text-align: right;\">\n",
       "      <th></th>\n",
       "      <th>building_id</th>\n",
       "      <th>meter</th>\n",
       "      <th>meter_reading</th>\n",
       "      <th>site_id</th>\n",
       "      <th>square_feet</th>\n",
       "      <th>year_built</th>\n",
       "      <th>floor_count</th>\n",
       "      <th>air_temperature</th>\n",
       "      <th>cloud_coverage</th>\n",
       "      <th>dew_temperature</th>\n",
       "      <th>precip_depth_1_hr</th>\n",
       "      <th>sea_level_pressure</th>\n",
       "      <th>wind_direction</th>\n",
       "      <th>wind_speed</th>\n",
       "      <th>IsHoliday</th>\n",
       "      <th>Day</th>\n",
       "      <th>Hour</th>\n",
       "      <th>DayOfWeek</th>\n",
       "      <th>relative_humidity</th>\n",
       "      <th>air_density_dry</th>\n",
       "      <th>vapor_pressure_water</th>\n",
       "      <th>vapor_pressure_water_satur</th>\n",
       "      <th>partial_press_dry</th>\n",
       "      <th>air_density_humid</th>\n",
       "    </tr>\n",
       "  </thead>\n",
       "  <tbody>\n",
       "    <tr>\n",
       "      <td>building_id</td>\n",
       "      <td>1.000</td>\n",
       "      <td>0.211</td>\n",
       "      <td>0.009</td>\n",
       "      <td>0.980</td>\n",
       "      <td>0.086</td>\n",
       "      <td>-0.214</td>\n",
       "      <td>-0.364</td>\n",
       "      <td>-0.316</td>\n",
       "      <td>-0.155</td>\n",
       "      <td>-0.101</td>\n",
       "      <td>0.055</td>\n",
       "      <td>0.085</td>\n",
       "      <td>0.048</td>\n",
       "      <td>0.009</td>\n",
       "      <td>0.001</td>\n",
       "      <td>-0.003</td>\n",
       "      <td>-0.000</td>\n",
       "      <td>-0.000</td>\n",
       "      <td>0.326</td>\n",
       "      <td>0.003</td>\n",
       "      <td>0.175</td>\n",
       "      <td>-0.313</td>\n",
       "      <td>-0.177</td>\n",
       "      <td>-0.326</td>\n",
       "    </tr>\n",
       "    <tr>\n",
       "      <td>meter</td>\n",
       "      <td>0.211</td>\n",
       "      <td>1.000</td>\n",
       "      <td>0.018</td>\n",
       "      <td>0.244</td>\n",
       "      <td>0.133</td>\n",
       "      <td>0.020</td>\n",
       "      <td>0.185</td>\n",
       "      <td>-0.007</td>\n",
       "      <td>-0.142</td>\n",
       "      <td>-0.074</td>\n",
       "      <td>0.019</td>\n",
       "      <td>-0.049</td>\n",
       "      <td>-0.024</td>\n",
       "      <td>-0.081</td>\n",
       "      <td>0.001</td>\n",
       "      <td>-0.002</td>\n",
       "      <td>0.000</td>\n",
       "      <td>-0.000</td>\n",
       "      <td>-0.091</td>\n",
       "      <td>-0.002</td>\n",
       "      <td>-0.085</td>\n",
       "      <td>0.018</td>\n",
       "      <td>0.082</td>\n",
       "      <td>0.047</td>\n",
       "    </tr>\n",
       "    <tr>\n",
       "      <td>meter_reading</td>\n",
       "      <td>0.009</td>\n",
       "      <td>0.018</td>\n",
       "      <td>1.000</td>\n",
       "      <td>0.012</td>\n",
       "      <td>0.025</td>\n",
       "      <td>0.132</td>\n",
       "      <td>0.136</td>\n",
       "      <td>-0.004</td>\n",
       "      <td>0.011</td>\n",
       "      <td>-0.003</td>\n",
       "      <td>-0.000</td>\n",
       "      <td>-0.004</td>\n",
       "      <td>0.000</td>\n",
       "      <td>0.006</td>\n",
       "      <td>-0.001</td>\n",
       "      <td>-0.000</td>\n",
       "      <td>0.001</td>\n",
       "      <td>-0.001</td>\n",
       "      <td>0.001</td>\n",
       "      <td>0.000</td>\n",
       "      <td>-0.001</td>\n",
       "      <td>-0.005</td>\n",
       "      <td>0.001</td>\n",
       "      <td>-0.002</td>\n",
       "    </tr>\n",
       "    <tr>\n",
       "      <td>site_id</td>\n",
       "      <td>0.980</td>\n",
       "      <td>0.244</td>\n",
       "      <td>0.012</td>\n",
       "      <td>1.000</td>\n",
       "      <td>0.090</td>\n",
       "      <td>-0.182</td>\n",
       "      <td>-0.351</td>\n",
       "      <td>-0.308</td>\n",
       "      <td>-0.121</td>\n",
       "      <td>-0.127</td>\n",
       "      <td>0.051</td>\n",
       "      <td>0.062</td>\n",
       "      <td>0.051</td>\n",
       "      <td>0.016</td>\n",
       "      <td>0.001</td>\n",
       "      <td>-0.003</td>\n",
       "      <td>-0.000</td>\n",
       "      <td>-0.000</td>\n",
       "      <td>0.278</td>\n",
       "      <td>0.003</td>\n",
       "      <td>0.131</td>\n",
       "      <td>-0.293</td>\n",
       "      <td>-0.135</td>\n",
       "      <td>-0.294</td>\n",
       "    </tr>\n",
       "    <tr>\n",
       "      <td>square_feet</td>\n",
       "      <td>0.086</td>\n",
       "      <td>0.133</td>\n",
       "      <td>0.025</td>\n",
       "      <td>0.090</td>\n",
       "      <td>1.000</td>\n",
       "      <td>0.146</td>\n",
       "      <td>0.573</td>\n",
       "      <td>-0.015</td>\n",
       "      <td>-0.002</td>\n",
       "      <td>-0.022</td>\n",
       "      <td>0.040</td>\n",
       "      <td>-0.019</td>\n",
       "      <td>-0.017</td>\n",
       "      <td>-0.035</td>\n",
       "      <td>-0.000</td>\n",
       "      <td>-0.001</td>\n",
       "      <td>0.000</td>\n",
       "      <td>0.000</td>\n",
       "      <td>-0.008</td>\n",
       "      <td>-0.004</td>\n",
       "      <td>-0.004</td>\n",
       "      <td>0.001</td>\n",
       "      <td>0.002</td>\n",
       "      <td>-0.017</td>\n",
       "    </tr>\n",
       "    <tr>\n",
       "      <td>year_built</td>\n",
       "      <td>-0.214</td>\n",
       "      <td>0.020</td>\n",
       "      <td>0.132</td>\n",
       "      <td>-0.182</td>\n",
       "      <td>0.146</td>\n",
       "      <td>1.000</td>\n",
       "      <td>0.135</td>\n",
       "      <td>0.170</td>\n",
       "      <td>0.083</td>\n",
       "      <td>0.100</td>\n",
       "      <td>-0.022</td>\n",
       "      <td>-0.032</td>\n",
       "      <td>-0.063</td>\n",
       "      <td>-0.048</td>\n",
       "      <td>0.002</td>\n",
       "      <td>0.004</td>\n",
       "      <td>0.000</td>\n",
       "      <td>-0.000</td>\n",
       "      <td>-0.100</td>\n",
       "      <td>-0.005</td>\n",
       "      <td>-0.003</td>\n",
       "      <td>0.166</td>\n",
       "      <td>-0.002</td>\n",
       "      <td>0.063</td>\n",
       "    </tr>\n",
       "    <tr>\n",
       "      <td>floor_count</td>\n",
       "      <td>-0.364</td>\n",
       "      <td>0.185</td>\n",
       "      <td>0.136</td>\n",
       "      <td>-0.351</td>\n",
       "      <td>0.573</td>\n",
       "      <td>0.135</td>\n",
       "      <td>1.000</td>\n",
       "      <td>-0.177</td>\n",
       "      <td>-0.212</td>\n",
       "      <td>-0.164</td>\n",
       "      <td>0.153</td>\n",
       "      <td>-0.045</td>\n",
       "      <td>0.072</td>\n",
       "      <td>-0.019</td>\n",
       "      <td>-0.002</td>\n",
       "      <td>-0.002</td>\n",
       "      <td>-0.000</td>\n",
       "      <td>0.001</td>\n",
       "      <td>0.046</td>\n",
       "      <td>0.013</td>\n",
       "      <td>-0.112</td>\n",
       "      <td>-0.183</td>\n",
       "      <td>0.117</td>\n",
       "      <td>-0.078</td>\n",
       "    </tr>\n",
       "    <tr>\n",
       "      <td>air_temperature</td>\n",
       "      <td>-0.316</td>\n",
       "      <td>-0.007</td>\n",
       "      <td>-0.004</td>\n",
       "      <td>-0.308</td>\n",
       "      <td>-0.015</td>\n",
       "      <td>0.170</td>\n",
       "      <td>-0.177</td>\n",
       "      <td>1.000</td>\n",
       "      <td>-0.010</td>\n",
       "      <td>0.751</td>\n",
       "      <td>0.017</td>\n",
       "      <td>-0.314</td>\n",
       "      <td>-0.099</td>\n",
       "      <td>-0.086</td>\n",
       "      <td>-0.055</td>\n",
       "      <td>0.026</td>\n",
       "      <td>0.156</td>\n",
       "      <td>-0.006</td>\n",
       "      <td>-0.445</td>\n",
       "      <td>-0.007</td>\n",
       "      <td>0.096</td>\n",
       "      <td>0.933</td>\n",
       "      <td>-0.096</td>\n",
       "      <td>0.509</td>\n",
       "    </tr>\n",
       "    <tr>\n",
       "      <td>cloud_coverage</td>\n",
       "      <td>-0.155</td>\n",
       "      <td>-0.142</td>\n",
       "      <td>0.011</td>\n",
       "      <td>-0.121</td>\n",
       "      <td>-0.002</td>\n",
       "      <td>0.083</td>\n",
       "      <td>-0.212</td>\n",
       "      <td>-0.010</td>\n",
       "      <td>1.000</td>\n",
       "      <td>0.064</td>\n",
       "      <td>0.050</td>\n",
       "      <td>-0.113</td>\n",
       "      <td>0.013</td>\n",
       "      <td>0.193</td>\n",
       "      <td>-0.005</td>\n",
       "      <td>0.006</td>\n",
       "      <td>0.040</td>\n",
       "      <td>-0.000</td>\n",
       "      <td>0.100</td>\n",
       "      <td>-0.002</td>\n",
       "      <td>0.070</td>\n",
       "      <td>0.006</td>\n",
       "      <td>-0.076</td>\n",
       "      <td>-0.063</td>\n",
       "    </tr>\n",
       "    <tr>\n",
       "      <td>dew_temperature</td>\n",
       "      <td>-0.101</td>\n",
       "      <td>-0.074</td>\n",
       "      <td>-0.003</td>\n",
       "      <td>-0.127</td>\n",
       "      <td>-0.022</td>\n",
       "      <td>0.100</td>\n",
       "      <td>-0.164</td>\n",
       "      <td>0.751</td>\n",
       "      <td>0.064</td>\n",
       "      <td>1.000</td>\n",
       "      <td>0.089</td>\n",
       "      <td>-0.222</td>\n",
       "      <td>-0.173</td>\n",
       "      <td>-0.144</td>\n",
       "      <td>-0.043</td>\n",
       "      <td>0.026</td>\n",
       "      <td>-0.008</td>\n",
       "      <td>-0.005</td>\n",
       "      <td>0.257</td>\n",
       "      <td>0.007</td>\n",
       "      <td>0.643</td>\n",
       "      <td>0.609</td>\n",
       "      <td>-0.643</td>\n",
       "      <td>-0.033</td>\n",
       "    </tr>\n",
       "    <tr>\n",
       "      <td>precip_depth_1_hr</td>\n",
       "      <td>0.055</td>\n",
       "      <td>0.019</td>\n",
       "      <td>-0.000</td>\n",
       "      <td>0.051</td>\n",
       "      <td>0.040</td>\n",
       "      <td>-0.022</td>\n",
       "      <td>0.153</td>\n",
       "      <td>0.017</td>\n",
       "      <td>0.050</td>\n",
       "      <td>0.089</td>\n",
       "      <td>1.000</td>\n",
       "      <td>-0.052</td>\n",
       "      <td>0.002</td>\n",
       "      <td>0.023</td>\n",
       "      <td>0.000</td>\n",
       "      <td>-0.000</td>\n",
       "      <td>0.006</td>\n",
       "      <td>0.000</td>\n",
       "      <td>0.097</td>\n",
       "      <td>0.005</td>\n",
       "      <td>0.081</td>\n",
       "      <td>-0.004</td>\n",
       "      <td>-0.081</td>\n",
       "      <td>-0.039</td>\n",
       "    </tr>\n",
       "    <tr>\n",
       "      <td>sea_level_pressure</td>\n",
       "      <td>0.085</td>\n",
       "      <td>-0.049</td>\n",
       "      <td>-0.004</td>\n",
       "      <td>0.062</td>\n",
       "      <td>-0.019</td>\n",
       "      <td>-0.032</td>\n",
       "      <td>-0.045</td>\n",
       "      <td>-0.314</td>\n",
       "      <td>-0.113</td>\n",
       "      <td>-0.222</td>\n",
       "      <td>-0.052</td>\n",
       "      <td>1.000</td>\n",
       "      <td>-0.099</td>\n",
       "      <td>-0.208</td>\n",
       "      <td>0.081</td>\n",
       "      <td>0.002</td>\n",
       "      <td>-0.038</td>\n",
       "      <td>0.001</td>\n",
       "      <td>0.158</td>\n",
       "      <td>-0.002</td>\n",
       "      <td>0.079</td>\n",
       "      <td>-0.310</td>\n",
       "      <td>-0.073</td>\n",
       "      <td>-0.264</td>\n",
       "    </tr>\n",
       "    <tr>\n",
       "      <td>wind_direction</td>\n",
       "      <td>0.048</td>\n",
       "      <td>-0.024</td>\n",
       "      <td>0.000</td>\n",
       "      <td>0.051</td>\n",
       "      <td>-0.017</td>\n",
       "      <td>-0.063</td>\n",
       "      <td>0.072</td>\n",
       "      <td>-0.099</td>\n",
       "      <td>0.013</td>\n",
       "      <td>-0.173</td>\n",
       "      <td>0.002</td>\n",
       "      <td>-0.099</td>\n",
       "      <td>1.000</td>\n",
       "      <td>0.427</td>\n",
       "      <td>-0.000</td>\n",
       "      <td>-0.020</td>\n",
       "      <td>0.079</td>\n",
       "      <td>0.008</td>\n",
       "      <td>-0.090</td>\n",
       "      <td>0.000</td>\n",
       "      <td>-0.139</td>\n",
       "      <td>-0.057</td>\n",
       "      <td>0.144</td>\n",
       "      <td>0.049</td>\n",
       "    </tr>\n",
       "    <tr>\n",
       "      <td>wind_speed</td>\n",
       "      <td>0.009</td>\n",
       "      <td>-0.081</td>\n",
       "      <td>0.006</td>\n",
       "      <td>0.016</td>\n",
       "      <td>-0.035</td>\n",
       "      <td>-0.048</td>\n",
       "      <td>-0.019</td>\n",
       "      <td>-0.086</td>\n",
       "      <td>0.193</td>\n",
       "      <td>-0.144</td>\n",
       "      <td>0.023</td>\n",
       "      <td>-0.208</td>\n",
       "      <td>0.427</td>\n",
       "      <td>1.000</td>\n",
       "      <td>-0.003</td>\n",
       "      <td>-0.008</td>\n",
       "      <td>0.145</td>\n",
       "      <td>0.005</td>\n",
       "      <td>-0.070</td>\n",
       "      <td>-0.005</td>\n",
       "      <td>-0.097</td>\n",
       "      <td>-0.058</td>\n",
       "      <td>0.102</td>\n",
       "      <td>0.020</td>\n",
       "    </tr>\n",
       "    <tr>\n",
       "      <td>IsHoliday</td>\n",
       "      <td>0.001</td>\n",
       "      <td>0.001</td>\n",
       "      <td>-0.001</td>\n",
       "      <td>0.001</td>\n",
       "      <td>-0.000</td>\n",
       "      <td>0.002</td>\n",
       "      <td>-0.002</td>\n",
       "      <td>-0.055</td>\n",
       "      <td>-0.005</td>\n",
       "      <td>-0.043</td>\n",
       "      <td>0.000</td>\n",
       "      <td>0.081</td>\n",
       "      <td>-0.000</td>\n",
       "      <td>-0.003</td>\n",
       "      <td>1.000</td>\n",
       "      <td>0.005</td>\n",
       "      <td>-0.004</td>\n",
       "      <td>-0.069</td>\n",
       "      <td>0.021</td>\n",
       "      <td>0.014</td>\n",
       "      <td>-0.016</td>\n",
       "      <td>-0.046</td>\n",
       "      <td>0.017</td>\n",
       "      <td>-0.018</td>\n",
       "    </tr>\n",
       "    <tr>\n",
       "      <td>Day</td>\n",
       "      <td>-0.003</td>\n",
       "      <td>-0.002</td>\n",
       "      <td>-0.000</td>\n",
       "      <td>-0.003</td>\n",
       "      <td>-0.001</td>\n",
       "      <td>0.004</td>\n",
       "      <td>-0.002</td>\n",
       "      <td>0.026</td>\n",
       "      <td>0.006</td>\n",
       "      <td>0.026</td>\n",
       "      <td>-0.000</td>\n",
       "      <td>0.002</td>\n",
       "      <td>-0.020</td>\n",
       "      <td>-0.008</td>\n",
       "      <td>0.005</td>\n",
       "      <td>1.000</td>\n",
       "      <td>0.001</td>\n",
       "      <td>0.004</td>\n",
       "      <td>-0.002</td>\n",
       "      <td>0.003</td>\n",
       "      <td>0.014</td>\n",
       "      <td>0.021</td>\n",
       "      <td>-0.015</td>\n",
       "      <td>0.001</td>\n",
       "    </tr>\n",
       "    <tr>\n",
       "      <td>Hour</td>\n",
       "      <td>-0.000</td>\n",
       "      <td>0.000</td>\n",
       "      <td>0.001</td>\n",
       "      <td>-0.000</td>\n",
       "      <td>0.000</td>\n",
       "      <td>0.000</td>\n",
       "      <td>-0.000</td>\n",
       "      <td>0.156</td>\n",
       "      <td>0.040</td>\n",
       "      <td>-0.008</td>\n",
       "      <td>0.006</td>\n",
       "      <td>-0.038</td>\n",
       "      <td>0.079</td>\n",
       "      <td>0.145</td>\n",
       "      <td>-0.004</td>\n",
       "      <td>0.001</td>\n",
       "      <td>1.000</td>\n",
       "      <td>-0.000</td>\n",
       "      <td>-0.239</td>\n",
       "      <td>0.001</td>\n",
       "      <td>-0.108</td>\n",
       "      <td>0.179</td>\n",
       "      <td>0.111</td>\n",
       "      <td>0.153</td>\n",
       "    </tr>\n",
       "    <tr>\n",
       "      <td>DayOfWeek</td>\n",
       "      <td>-0.000</td>\n",
       "      <td>-0.000</td>\n",
       "      <td>-0.001</td>\n",
       "      <td>-0.000</td>\n",
       "      <td>0.000</td>\n",
       "      <td>-0.000</td>\n",
       "      <td>0.001</td>\n",
       "      <td>-0.006</td>\n",
       "      <td>-0.000</td>\n",
       "      <td>-0.005</td>\n",
       "      <td>0.000</td>\n",
       "      <td>0.001</td>\n",
       "      <td>0.008</td>\n",
       "      <td>0.005</td>\n",
       "      <td>-0.069</td>\n",
       "      <td>0.004</td>\n",
       "      <td>-0.000</td>\n",
       "      <td>1.000</td>\n",
       "      <td>0.002</td>\n",
       "      <td>0.008</td>\n",
       "      <td>-0.007</td>\n",
       "      <td>-0.005</td>\n",
       "      <td>0.007</td>\n",
       "      <td>0.004</td>\n",
       "    </tr>\n",
       "    <tr>\n",
       "      <td>relative_humidity</td>\n",
       "      <td>0.326</td>\n",
       "      <td>-0.091</td>\n",
       "      <td>0.001</td>\n",
       "      <td>0.278</td>\n",
       "      <td>-0.008</td>\n",
       "      <td>-0.100</td>\n",
       "      <td>0.046</td>\n",
       "      <td>-0.445</td>\n",
       "      <td>0.100</td>\n",
       "      <td>0.257</td>\n",
       "      <td>0.097</td>\n",
       "      <td>0.158</td>\n",
       "      <td>-0.090</td>\n",
       "      <td>-0.070</td>\n",
       "      <td>0.021</td>\n",
       "      <td>-0.002</td>\n",
       "      <td>-0.239</td>\n",
       "      <td>0.002</td>\n",
       "      <td>1.000</td>\n",
       "      <td>0.019</td>\n",
       "      <td>0.732</td>\n",
       "      <td>-0.540</td>\n",
       "      <td>-0.738</td>\n",
       "      <td>-0.795</td>\n",
       "    </tr>\n",
       "    <tr>\n",
       "      <td>air_density_dry</td>\n",
       "      <td>0.003</td>\n",
       "      <td>-0.002</td>\n",
       "      <td>0.000</td>\n",
       "      <td>0.003</td>\n",
       "      <td>-0.004</td>\n",
       "      <td>-0.005</td>\n",
       "      <td>0.013</td>\n",
       "      <td>-0.007</td>\n",
       "      <td>-0.002</td>\n",
       "      <td>0.007</td>\n",
       "      <td>0.005</td>\n",
       "      <td>-0.002</td>\n",
       "      <td>0.000</td>\n",
       "      <td>-0.005</td>\n",
       "      <td>0.014</td>\n",
       "      <td>0.003</td>\n",
       "      <td>0.001</td>\n",
       "      <td>0.008</td>\n",
       "      <td>0.019</td>\n",
       "      <td>1.000</td>\n",
       "      <td>0.003</td>\n",
       "      <td>-0.030</td>\n",
       "      <td>-0.003</td>\n",
       "      <td>0.001</td>\n",
       "    </tr>\n",
       "    <tr>\n",
       "      <td>vapor_pressure_water</td>\n",
       "      <td>0.175</td>\n",
       "      <td>-0.085</td>\n",
       "      <td>-0.001</td>\n",
       "      <td>0.131</td>\n",
       "      <td>-0.004</td>\n",
       "      <td>-0.003</td>\n",
       "      <td>-0.112</td>\n",
       "      <td>0.096</td>\n",
       "      <td>0.070</td>\n",
       "      <td>0.643</td>\n",
       "      <td>0.081</td>\n",
       "      <td>0.079</td>\n",
       "      <td>-0.139</td>\n",
       "      <td>-0.097</td>\n",
       "      <td>-0.016</td>\n",
       "      <td>0.014</td>\n",
       "      <td>-0.108</td>\n",
       "      <td>-0.007</td>\n",
       "      <td>0.732</td>\n",
       "      <td>0.003</td>\n",
       "      <td>1.000</td>\n",
       "      <td>-0.082</td>\n",
       "      <td>-1.000</td>\n",
       "      <td>-0.783</td>\n",
       "    </tr>\n",
       "    <tr>\n",
       "      <td>vapor_pressure_water_satur</td>\n",
       "      <td>-0.313</td>\n",
       "      <td>0.018</td>\n",
       "      <td>-0.005</td>\n",
       "      <td>-0.293</td>\n",
       "      <td>0.001</td>\n",
       "      <td>0.166</td>\n",
       "      <td>-0.183</td>\n",
       "      <td>0.933</td>\n",
       "      <td>0.006</td>\n",
       "      <td>0.609</td>\n",
       "      <td>-0.004</td>\n",
       "      <td>-0.310</td>\n",
       "      <td>-0.057</td>\n",
       "      <td>-0.058</td>\n",
       "      <td>-0.046</td>\n",
       "      <td>0.021</td>\n",
       "      <td>0.179</td>\n",
       "      <td>-0.005</td>\n",
       "      <td>-0.540</td>\n",
       "      <td>-0.030</td>\n",
       "      <td>-0.082</td>\n",
       "      <td>1.000</td>\n",
       "      <td>0.081</td>\n",
       "      <td>0.609</td>\n",
       "    </tr>\n",
       "    <tr>\n",
       "      <td>partial_press_dry</td>\n",
       "      <td>-0.177</td>\n",
       "      <td>0.082</td>\n",
       "      <td>0.001</td>\n",
       "      <td>-0.135</td>\n",
       "      <td>0.002</td>\n",
       "      <td>-0.002</td>\n",
       "      <td>0.117</td>\n",
       "      <td>-0.096</td>\n",
       "      <td>-0.076</td>\n",
       "      <td>-0.643</td>\n",
       "      <td>-0.081</td>\n",
       "      <td>-0.073</td>\n",
       "      <td>0.144</td>\n",
       "      <td>0.102</td>\n",
       "      <td>0.017</td>\n",
       "      <td>-0.015</td>\n",
       "      <td>0.111</td>\n",
       "      <td>0.007</td>\n",
       "      <td>-0.738</td>\n",
       "      <td>-0.003</td>\n",
       "      <td>-1.000</td>\n",
       "      <td>0.081</td>\n",
       "      <td>1.000</td>\n",
       "      <td>0.781</td>\n",
       "    </tr>\n",
       "    <tr>\n",
       "      <td>air_density_humid</td>\n",
       "      <td>-0.326</td>\n",
       "      <td>0.047</td>\n",
       "      <td>-0.002</td>\n",
       "      <td>-0.294</td>\n",
       "      <td>-0.017</td>\n",
       "      <td>0.063</td>\n",
       "      <td>-0.078</td>\n",
       "      <td>0.509</td>\n",
       "      <td>-0.063</td>\n",
       "      <td>-0.033</td>\n",
       "      <td>-0.039</td>\n",
       "      <td>-0.264</td>\n",
       "      <td>0.049</td>\n",
       "      <td>0.020</td>\n",
       "      <td>-0.018</td>\n",
       "      <td>0.001</td>\n",
       "      <td>0.153</td>\n",
       "      <td>0.004</td>\n",
       "      <td>-0.795</td>\n",
       "      <td>0.001</td>\n",
       "      <td>-0.783</td>\n",
       "      <td>0.609</td>\n",
       "      <td>0.781</td>\n",
       "      <td>1.000</td>\n",
       "    </tr>\n",
       "  </tbody>\n",
       "</table>\n",
       "</div>"
      ],
      "text/plain": [
       "                            building_id  meter  meter_reading  site_id  \\\n",
       "building_id                       1.000  0.211          0.009    0.980   \n",
       "meter                             0.211  1.000          0.018    0.244   \n",
       "meter_reading                     0.009  0.018          1.000    0.012   \n",
       "site_id                           0.980  0.244          0.012    1.000   \n",
       "square_feet                       0.086  0.133          0.025    0.090   \n",
       "year_built                       -0.214  0.020          0.132   -0.182   \n",
       "floor_count                      -0.364  0.185          0.136   -0.351   \n",
       "air_temperature                  -0.316 -0.007         -0.004   -0.308   \n",
       "cloud_coverage                   -0.155 -0.142          0.011   -0.121   \n",
       "dew_temperature                  -0.101 -0.074         -0.003   -0.127   \n",
       "precip_depth_1_hr                 0.055  0.019         -0.000    0.051   \n",
       "sea_level_pressure                0.085 -0.049         -0.004    0.062   \n",
       "wind_direction                    0.048 -0.024          0.000    0.051   \n",
       "wind_speed                        0.009 -0.081          0.006    0.016   \n",
       "IsHoliday                         0.001  0.001         -0.001    0.001   \n",
       "Day                              -0.003 -0.002         -0.000   -0.003   \n",
       "Hour                             -0.000  0.000          0.001   -0.000   \n",
       "DayOfWeek                        -0.000 -0.000         -0.001   -0.000   \n",
       "relative_humidity                 0.326 -0.091          0.001    0.278   \n",
       "air_density_dry                   0.003 -0.002          0.000    0.003   \n",
       "vapor_pressure_water              0.175 -0.085         -0.001    0.131   \n",
       "vapor_pressure_water_satur       -0.313  0.018         -0.005   -0.293   \n",
       "partial_press_dry                -0.177  0.082          0.001   -0.135   \n",
       "air_density_humid                -0.326  0.047         -0.002   -0.294   \n",
       "\n",
       "                            square_feet  year_built  floor_count  \\\n",
       "building_id                       0.086      -0.214       -0.364   \n",
       "meter                             0.133       0.020        0.185   \n",
       "meter_reading                     0.025       0.132        0.136   \n",
       "site_id                           0.090      -0.182       -0.351   \n",
       "square_feet                       1.000       0.146        0.573   \n",
       "year_built                        0.146       1.000        0.135   \n",
       "floor_count                       0.573       0.135        1.000   \n",
       "air_temperature                  -0.015       0.170       -0.177   \n",
       "cloud_coverage                   -0.002       0.083       -0.212   \n",
       "dew_temperature                  -0.022       0.100       -0.164   \n",
       "precip_depth_1_hr                 0.040      -0.022        0.153   \n",
       "sea_level_pressure               -0.019      -0.032       -0.045   \n",
       "wind_direction                   -0.017      -0.063        0.072   \n",
       "wind_speed                       -0.035      -0.048       -0.019   \n",
       "IsHoliday                        -0.000       0.002       -0.002   \n",
       "Day                              -0.001       0.004       -0.002   \n",
       "Hour                              0.000       0.000       -0.000   \n",
       "DayOfWeek                         0.000      -0.000        0.001   \n",
       "relative_humidity                -0.008      -0.100        0.046   \n",
       "air_density_dry                  -0.004      -0.005        0.013   \n",
       "vapor_pressure_water             -0.004      -0.003       -0.112   \n",
       "vapor_pressure_water_satur        0.001       0.166       -0.183   \n",
       "partial_press_dry                 0.002      -0.002        0.117   \n",
       "air_density_humid                -0.017       0.063       -0.078   \n",
       "\n",
       "                            air_temperature  cloud_coverage  dew_temperature  \\\n",
       "building_id                          -0.316          -0.155           -0.101   \n",
       "meter                                -0.007          -0.142           -0.074   \n",
       "meter_reading                        -0.004           0.011           -0.003   \n",
       "site_id                              -0.308          -0.121           -0.127   \n",
       "square_feet                          -0.015          -0.002           -0.022   \n",
       "year_built                            0.170           0.083            0.100   \n",
       "floor_count                          -0.177          -0.212           -0.164   \n",
       "air_temperature                       1.000          -0.010            0.751   \n",
       "cloud_coverage                       -0.010           1.000            0.064   \n",
       "dew_temperature                       0.751           0.064            1.000   \n",
       "precip_depth_1_hr                     0.017           0.050            0.089   \n",
       "sea_level_pressure                   -0.314          -0.113           -0.222   \n",
       "wind_direction                       -0.099           0.013           -0.173   \n",
       "wind_speed                           -0.086           0.193           -0.144   \n",
       "IsHoliday                            -0.055          -0.005           -0.043   \n",
       "Day                                   0.026           0.006            0.026   \n",
       "Hour                                  0.156           0.040           -0.008   \n",
       "DayOfWeek                            -0.006          -0.000           -0.005   \n",
       "relative_humidity                    -0.445           0.100            0.257   \n",
       "air_density_dry                      -0.007          -0.002            0.007   \n",
       "vapor_pressure_water                  0.096           0.070            0.643   \n",
       "vapor_pressure_water_satur            0.933           0.006            0.609   \n",
       "partial_press_dry                    -0.096          -0.076           -0.643   \n",
       "air_density_humid                     0.509          -0.063           -0.033   \n",
       "\n",
       "                            precip_depth_1_hr  sea_level_pressure  \\\n",
       "building_id                             0.055               0.085   \n",
       "meter                                   0.019              -0.049   \n",
       "meter_reading                          -0.000              -0.004   \n",
       "site_id                                 0.051               0.062   \n",
       "square_feet                             0.040              -0.019   \n",
       "year_built                             -0.022              -0.032   \n",
       "floor_count                             0.153              -0.045   \n",
       "air_temperature                         0.017              -0.314   \n",
       "cloud_coverage                          0.050              -0.113   \n",
       "dew_temperature                         0.089              -0.222   \n",
       "precip_depth_1_hr                       1.000              -0.052   \n",
       "sea_level_pressure                     -0.052               1.000   \n",
       "wind_direction                          0.002              -0.099   \n",
       "wind_speed                              0.023              -0.208   \n",
       "IsHoliday                               0.000               0.081   \n",
       "Day                                    -0.000               0.002   \n",
       "Hour                                    0.006              -0.038   \n",
       "DayOfWeek                               0.000               0.001   \n",
       "relative_humidity                       0.097               0.158   \n",
       "air_density_dry                         0.005              -0.002   \n",
       "vapor_pressure_water                    0.081               0.079   \n",
       "vapor_pressure_water_satur             -0.004              -0.310   \n",
       "partial_press_dry                      -0.081              -0.073   \n",
       "air_density_humid                      -0.039              -0.264   \n",
       "\n",
       "                            wind_direction  wind_speed  IsHoliday    Day  \\\n",
       "building_id                          0.048       0.009      0.001 -0.003   \n",
       "meter                               -0.024      -0.081      0.001 -0.002   \n",
       "meter_reading                        0.000       0.006     -0.001 -0.000   \n",
       "site_id                              0.051       0.016      0.001 -0.003   \n",
       "square_feet                         -0.017      -0.035     -0.000 -0.001   \n",
       "year_built                          -0.063      -0.048      0.002  0.004   \n",
       "floor_count                          0.072      -0.019     -0.002 -0.002   \n",
       "air_temperature                     -0.099      -0.086     -0.055  0.026   \n",
       "cloud_coverage                       0.013       0.193     -0.005  0.006   \n",
       "dew_temperature                     -0.173      -0.144     -0.043  0.026   \n",
       "precip_depth_1_hr                    0.002       0.023      0.000 -0.000   \n",
       "sea_level_pressure                  -0.099      -0.208      0.081  0.002   \n",
       "wind_direction                       1.000       0.427     -0.000 -0.020   \n",
       "wind_speed                           0.427       1.000     -0.003 -0.008   \n",
       "IsHoliday                           -0.000      -0.003      1.000  0.005   \n",
       "Day                                 -0.020      -0.008      0.005  1.000   \n",
       "Hour                                 0.079       0.145     -0.004  0.001   \n",
       "DayOfWeek                            0.008       0.005     -0.069  0.004   \n",
       "relative_humidity                   -0.090      -0.070      0.021 -0.002   \n",
       "air_density_dry                      0.000      -0.005      0.014  0.003   \n",
       "vapor_pressure_water                -0.139      -0.097     -0.016  0.014   \n",
       "vapor_pressure_water_satur          -0.057      -0.058     -0.046  0.021   \n",
       "partial_press_dry                    0.144       0.102      0.017 -0.015   \n",
       "air_density_humid                    0.049       0.020     -0.018  0.001   \n",
       "\n",
       "                             Hour  DayOfWeek  relative_humidity  \\\n",
       "building_id                -0.000     -0.000              0.326   \n",
       "meter                       0.000     -0.000             -0.091   \n",
       "meter_reading               0.001     -0.001              0.001   \n",
       "site_id                    -0.000     -0.000              0.278   \n",
       "square_feet                 0.000      0.000             -0.008   \n",
       "year_built                  0.000     -0.000             -0.100   \n",
       "floor_count                -0.000      0.001              0.046   \n",
       "air_temperature             0.156     -0.006             -0.445   \n",
       "cloud_coverage              0.040     -0.000              0.100   \n",
       "dew_temperature            -0.008     -0.005              0.257   \n",
       "precip_depth_1_hr           0.006      0.000              0.097   \n",
       "sea_level_pressure         -0.038      0.001              0.158   \n",
       "wind_direction              0.079      0.008             -0.090   \n",
       "wind_speed                  0.145      0.005             -0.070   \n",
       "IsHoliday                  -0.004     -0.069              0.021   \n",
       "Day                         0.001      0.004             -0.002   \n",
       "Hour                        1.000     -0.000             -0.239   \n",
       "DayOfWeek                  -0.000      1.000              0.002   \n",
       "relative_humidity          -0.239      0.002              1.000   \n",
       "air_density_dry             0.001      0.008              0.019   \n",
       "vapor_pressure_water       -0.108     -0.007              0.732   \n",
       "vapor_pressure_water_satur  0.179     -0.005             -0.540   \n",
       "partial_press_dry           0.111      0.007             -0.738   \n",
       "air_density_humid           0.153      0.004             -0.795   \n",
       "\n",
       "                            air_density_dry  vapor_pressure_water  \\\n",
       "building_id                           0.003                 0.175   \n",
       "meter                                -0.002                -0.085   \n",
       "meter_reading                         0.000                -0.001   \n",
       "site_id                               0.003                 0.131   \n",
       "square_feet                          -0.004                -0.004   \n",
       "year_built                           -0.005                -0.003   \n",
       "floor_count                           0.013                -0.112   \n",
       "air_temperature                      -0.007                 0.096   \n",
       "cloud_coverage                       -0.002                 0.070   \n",
       "dew_temperature                       0.007                 0.643   \n",
       "precip_depth_1_hr                     0.005                 0.081   \n",
       "sea_level_pressure                   -0.002                 0.079   \n",
       "wind_direction                        0.000                -0.139   \n",
       "wind_speed                           -0.005                -0.097   \n",
       "IsHoliday                             0.014                -0.016   \n",
       "Day                                   0.003                 0.014   \n",
       "Hour                                  0.001                -0.108   \n",
       "DayOfWeek                             0.008                -0.007   \n",
       "relative_humidity                     0.019                 0.732   \n",
       "air_density_dry                       1.000                 0.003   \n",
       "vapor_pressure_water                  0.003                 1.000   \n",
       "vapor_pressure_water_satur           -0.030                -0.082   \n",
       "partial_press_dry                    -0.003                -1.000   \n",
       "air_density_humid                     0.001                -0.783   \n",
       "\n",
       "                            vapor_pressure_water_satur  partial_press_dry  \\\n",
       "building_id                                     -0.313             -0.177   \n",
       "meter                                            0.018              0.082   \n",
       "meter_reading                                   -0.005              0.001   \n",
       "site_id                                         -0.293             -0.135   \n",
       "square_feet                                      0.001              0.002   \n",
       "year_built                                       0.166             -0.002   \n",
       "floor_count                                     -0.183              0.117   \n",
       "air_temperature                                  0.933             -0.096   \n",
       "cloud_coverage                                   0.006             -0.076   \n",
       "dew_temperature                                  0.609             -0.643   \n",
       "precip_depth_1_hr                               -0.004             -0.081   \n",
       "sea_level_pressure                              -0.310             -0.073   \n",
       "wind_direction                                  -0.057              0.144   \n",
       "wind_speed                                      -0.058              0.102   \n",
       "IsHoliday                                       -0.046              0.017   \n",
       "Day                                              0.021             -0.015   \n",
       "Hour                                             0.179              0.111   \n",
       "DayOfWeek                                       -0.005              0.007   \n",
       "relative_humidity                               -0.540             -0.738   \n",
       "air_density_dry                                 -0.030             -0.003   \n",
       "vapor_pressure_water                            -0.082             -1.000   \n",
       "vapor_pressure_water_satur                       1.000              0.081   \n",
       "partial_press_dry                                0.081              1.000   \n",
       "air_density_humid                                0.609              0.781   \n",
       "\n",
       "                            air_density_humid  \n",
       "building_id                            -0.326  \n",
       "meter                                   0.047  \n",
       "meter_reading                          -0.002  \n",
       "site_id                                -0.294  \n",
       "square_feet                            -0.017  \n",
       "year_built                              0.063  \n",
       "floor_count                            -0.078  \n",
       "air_temperature                         0.509  \n",
       "cloud_coverage                         -0.063  \n",
       "dew_temperature                        -0.033  \n",
       "precip_depth_1_hr                      -0.039  \n",
       "sea_level_pressure                     -0.264  \n",
       "wind_direction                          0.049  \n",
       "wind_speed                              0.020  \n",
       "IsHoliday                              -0.018  \n",
       "Day                                     0.001  \n",
       "Hour                                    0.153  \n",
       "DayOfWeek                               0.004  \n",
       "relative_humidity                      -0.795  \n",
       "air_density_dry                         0.001  \n",
       "vapor_pressure_water                   -0.783  \n",
       "vapor_pressure_water_satur              0.609  \n",
       "partial_press_dry                       0.781  \n",
       "air_density_humid                       1.000  "
      ]
     },
     "execution_count": 706,
     "metadata": {},
     "output_type": "execute_result"
    }
   ],
   "source": [
    "test.corr()"
   ]
  },
  {
   "cell_type": "code",
   "execution_count": 644,
   "metadata": {},
   "outputs": [
    {
     "data": {
      "text/plain": [
       "[<matplotlib.lines.Line2D at 0x7f51b2bd3c50>]"
      ]
     },
     "execution_count": 644,
     "metadata": {},
     "output_type": "execute_result"
    },
    {
     "data": {
      "image/png": "[encoded data removed]",
      "text/plain": [
       "<Figure size 1080x1080 with 1 Axes>"
      ]
     },
     "metadata": {
      "needs_background": "light"
     },
     "output_type": "display_data"
    }
   ],
   "source": [
    "plt.figure(figsize=(15,15))\n",
    "plt.plot(pd.to_datetime(test[\"timestamp\"]).dt.date, test['meter_reading'])"
   ]
  },
  {
   "cell_type": "code",
   "execution_count": 235,
   "metadata": {},
   "outputs": [
    {
     "name": "stderr",
     "output_type": "stream",
     "text": [
      "/opt/conda/lib/python3.7/site-packages/ipykernel_launcher.py:2: SettingWithCopyWarning: \n",
      "A value is trying to be set on a copy of a slice from a DataFrame.\n",
      "Try using .loc[row_indexer,col_indexer] = value instead\n",
      "\n",
      "See the caveats in the documentation: http://pandas.pydata.org/pandas-docs/stable/user_guide/indexing.html#returning-a-view-versus-a-copy\n",
      "  \n"
     ]
    },
    {
     "data": {
      "text/plain": [
       "0"
      ]
     },
     "execution_count": 235,
     "metadata": {},
     "output_type": "execute_result"
    }
   ],
   "source": [
    "### Testing Prophet ###\n",
    "#test_ts = test[['timestamp', 'meter_reading']]\n",
    "#test_ts['timestamp'] = pd.to_datetime(test_ts[\"timestamp\"])\n",
    "#test_ts = test_ts.set_index('timestamp')\n",
    "#test_ts = test_ts.meter_reading.fillna(test_ts.meter_reading.rolling(969,min_periods=1).mean())\n",
    "#test_ts.isnull().sum()"
   ]
  },
  {
   "cell_type": "code",
   "execution_count": null,
   "metadata": {},
   "outputs": [],
   "source": [
    "#test_ts.plot(style=['k--', 'bo-', 'r*'], figsize=(20, 10))"
   ]
  },
  {
   "cell_type": "code",
   "execution_count": 172,
   "metadata": {},
   "outputs": [],
   "source": [
    "################ Manual check of singe buildings ##################\n",
    "df_train_elec = df_train[(df_train['site_id'] == 0) & (df_train['meter'] == 1)] \n",
    "df_train_elec_test = df_train_elec[df_train_elec['building_id'] == 753]"
   ]
  },
  {
   "cell_type": "code",
   "execution_count": 173,
   "metadata": {},
   "outputs": [
    {
     "data": {
      "text/html": [
       "<div>\n",
       "<style scoped>\n",
       "    .dataframe tbody tr th:only-of-type {\n",
       "        vertical-align: middle;\n",
       "    }\n",
       "\n",
       "    .dataframe tbody tr th {\n",
       "        vertical-align: top;\n",
       "    }\n",
       "\n",
       "    .dataframe thead th {\n",
       "        text-align: right;\n",
       "    }\n",
       "</style>\n",
       "<table border=\"1\" class=\"dataframe\">\n",
       "  <thead>\n",
       "    <tr style=\"text-align: right;\">\n",
       "      <th></th>\n",
       "      <th>building_id</th>\n",
       "      <th>meter</th>\n",
       "      <th>timestamp</th>\n",
       "      <th>meter_reading</th>\n",
       "      <th>site_id</th>\n",
       "      <th>primary_use</th>\n",
       "      <th>square_feet</th>\n",
       "      <th>year_built</th>\n",
       "      <th>floor_count</th>\n",
       "      <th>air_temperature</th>\n",
       "      <th>cloud_coverage</th>\n",
       "      <th>dew_temperature</th>\n",
       "      <th>precip_depth_1_hr</th>\n",
       "      <th>sea_level_pressure</th>\n",
       "      <th>wind_direction</th>\n",
       "      <th>wind_speed</th>\n",
       "      <th>IsHoliday</th>\n",
       "      <th>Day</th>\n",
       "      <th>Hour</th>\n",
       "      <th>DayOfWeek</th>\n",
       "      <th>is_constant_meter</th>\n",
       "    </tr>\n",
       "  </thead>\n",
       "  <tbody>\n",
       "    <tr>\n",
       "      <td>3022992</td>\n",
       "      <td>7</td>\n",
       "      <td>1</td>\n",
       "      <td>2016-02-29 09:00:00</td>\n",
       "      <td>1857.260</td>\n",
       "      <td>0</td>\n",
       "      <td>Education</td>\n",
       "      <td>121074</td>\n",
       "      <td>1989.000</td>\n",
       "      <td>nan</td>\n",
       "      <td>13.300</td>\n",
       "      <td>9.635</td>\n",
       "      <td>11.100</td>\n",
       "      <td>0.000</td>\n",
       "      <td>1023.100</td>\n",
       "      <td>0.000</td>\n",
       "      <td>0.000</td>\n",
       "      <td>0.000</td>\n",
       "      <td>29</td>\n",
       "      <td>9</td>\n",
       "      <td>0</td>\n",
       "      <td>nan</td>\n",
       "    </tr>\n",
       "    <tr>\n",
       "      <td>3022993</td>\n",
       "      <td>9</td>\n",
       "      <td>1</td>\n",
       "      <td>2016-02-29 09:00:00</td>\n",
       "      <td>590.945</td>\n",
       "      <td>0</td>\n",
       "      <td>Office</td>\n",
       "      <td>27000</td>\n",
       "      <td>2010.000</td>\n",
       "      <td>nan</td>\n",
       "      <td>13.300</td>\n",
       "      <td>9.347</td>\n",
       "      <td>11.100</td>\n",
       "      <td>0.000</td>\n",
       "      <td>1023.100</td>\n",
       "      <td>0.000</td>\n",
       "      <td>0.000</td>\n",
       "      <td>0.000</td>\n",
       "      <td>29</td>\n",
       "      <td>9</td>\n",
       "      <td>0</td>\n",
       "      <td>nan</td>\n",
       "    </tr>\n",
       "    <tr>\n",
       "      <td>3022994</td>\n",
       "      <td>13</td>\n",
       "      <td>1</td>\n",
       "      <td>2016-02-29 09:00:00</td>\n",
       "      <td>1224.100</td>\n",
       "      <td>0</td>\n",
       "      <td>Education</td>\n",
       "      <td>99380</td>\n",
       "      <td>2000.000</td>\n",
       "      <td>nan</td>\n",
       "      <td>13.300</td>\n",
       "      <td>7.035</td>\n",
       "      <td>11.100</td>\n",
       "      <td>0.000</td>\n",
       "      <td>1023.100</td>\n",
       "      <td>0.000</td>\n",
       "      <td>0.000</td>\n",
       "      <td>0.000</td>\n",
       "      <td>29</td>\n",
       "      <td>9</td>\n",
       "      <td>0</td>\n",
       "      <td>nan</td>\n",
       "    </tr>\n",
       "    <tr>\n",
       "      <td>3022995</td>\n",
       "      <td>14</td>\n",
       "      <td>1</td>\n",
       "      <td>2016-02-29 09:00:00</td>\n",
       "      <td>1435.150</td>\n",
       "      <td>0</td>\n",
       "      <td>Education</td>\n",
       "      <td>86250</td>\n",
       "      <td>2013.000</td>\n",
       "      <td>nan</td>\n",
       "      <td>13.300</td>\n",
       "      <td>9.731</td>\n",
       "      <td>11.100</td>\n",
       "      <td>0.000</td>\n",
       "      <td>1023.100</td>\n",
       "      <td>0.000</td>\n",
       "      <td>0.000</td>\n",
       "      <td>0.000</td>\n",
       "      <td>29</td>\n",
       "      <td>9</td>\n",
       "      <td>0</td>\n",
       "      <td>nan</td>\n",
       "    </tr>\n",
       "    <tr>\n",
       "      <td>3022996</td>\n",
       "      <td>15</td>\n",
       "      <td>1</td>\n",
       "      <td>2016-02-29 09:00:00</td>\n",
       "      <td>422.104</td>\n",
       "      <td>0</td>\n",
       "      <td>Office</td>\n",
       "      <td>83957</td>\n",
       "      <td>1974.000</td>\n",
       "      <td>nan</td>\n",
       "      <td>13.300</td>\n",
       "      <td>9.731</td>\n",
       "      <td>11.100</td>\n",
       "      <td>0.000</td>\n",
       "      <td>1023.100</td>\n",
       "      <td>0.000</td>\n",
       "      <td>0.000</td>\n",
       "      <td>0.000</td>\n",
       "      <td>29</td>\n",
       "      <td>9</td>\n",
       "      <td>0</td>\n",
       "      <td>nan</td>\n",
       "    </tr>\n",
       "  </tbody>\n",
       "</table>\n",
       "</div>"
      ],
      "text/plain": [
       "         building_id  meter            timestamp  meter_reading  site_id  \\\n",
       "3022992            7      1  2016-02-29 09:00:00       1857.260        0   \n",
       "3022993            9      1  2016-02-29 09:00:00        590.945        0   \n",
       "3022994           13      1  2016-02-29 09:00:00       1224.100        0   \n",
       "3022995           14      1  2016-02-29 09:00:00       1435.150        0   \n",
       "3022996           15      1  2016-02-29 09:00:00        422.104        0   \n",
       "\n",
       "        primary_use  square_feet  year_built  floor_count  air_temperature  \\\n",
       "3022992   Education       121074    1989.000          nan           13.300   \n",
       "3022993      Office        27000    2010.000          nan           13.300   \n",
       "3022994   Education        99380    2000.000          nan           13.300   \n",
       "3022995   Education        86250    2013.000          nan           13.300   \n",
       "3022996      Office        83957    1974.000          nan           13.300   \n",
       "\n",
       "         cloud_coverage  dew_temperature  precip_depth_1_hr  \\\n",
       "3022992           9.635           11.100              0.000   \n",
       "3022993           9.347           11.100              0.000   \n",
       "3022994           7.035           11.100              0.000   \n",
       "3022995           9.731           11.100              0.000   \n",
       "3022996           9.731           11.100              0.000   \n",
       "\n",
       "         sea_level_pressure  wind_direction  wind_speed  IsHoliday  Day  Hour  \\\n",
       "3022992            1023.100           0.000       0.000      0.000   29     9   \n",
       "3022993            1023.100           0.000       0.000      0.000   29     9   \n",
       "3022994            1023.100           0.000       0.000      0.000   29     9   \n",
       "3022995            1023.100           0.000       0.000      0.000   29     9   \n",
       "3022996            1023.100           0.000       0.000      0.000   29     9   \n",
       "\n",
       "         DayOfWeek  is_constant_meter  \n",
       "3022992          0                nan  \n",
       "3022993          0                nan  \n",
       "3022994          0                nan  \n",
       "3022995          0                nan  \n",
       "3022996          0                nan  "
      ]
     },
     "execution_count": 173,
     "metadata": {},
     "output_type": "execute_result"
    }
   ],
   "source": [
    "df_train_elec.head()"
   ]
  },
  {
   "cell_type": "code",
   "execution_count": 148,
   "metadata": {},
   "outputs": [
    {
     "data": {
      "text/plain": [
       "[<matplotlib.lines.Line2D at 0x7f8c02757470>]"
      ]
     },
     "execution_count": 148,
     "metadata": {},
     "output_type": "execute_result"
    },
    {
     "data": {
      "image/png": "[encoded data removed]",
      "text/plain": [
       "<Figure size 432x288 with 1 Axes>"
      ]
     },
     "metadata": {
      "needs_background": "light"
     },
     "output_type": "display_data"
    }
   ],
   "source": [
    "#z = np.abs(stats.zscore(df_train_elec['meter_reading']))\n",
    "#pd.Series(z).describe()\n",
    "#plt.plot(z)"
   ]
  },
  {
   "cell_type": "code",
   "execution_count": 149,
   "metadata": {},
   "outputs": [
    {
     "data": {
      "text/plain": [
       "array([  7,   9,  13,  14,  15,  29,  30,  31,  43,  50,  55,  60,  75,\n",
       "        76,  78,  82,  91,  92,  95,  96,  97, 103,  28,  98])"
      ]
     },
     "execution_count": 149,
     "metadata": {},
     "output_type": "execute_result"
    }
   ],
   "source": [
    "#df_train_elec['building_id'].unique()"
   ]
  },
  {
   "cell_type": "code",
   "execution_count": 150,
   "metadata": {},
   "outputs": [],
   "source": [
    "#test = df_train_elec.groupby('building_id', as_index=False).apply(lambda x: x[(np.abs(stats.zscore(x['meter_reading'])) < 5)])\n",
    "#df_train_elec_test[(np.abs(stats.zscore(df_train_elec_test['meter_reading'])) < 5)]\n",
    "#test.shape"
   ]
  },
  {
   "cell_type": "code",
   "execution_count": 203,
   "metadata": {},
   "outputs": [],
   "source": [
    "#df_train_elec = df_train[(df_train['meter'] ==  1) & (df_train['building_id'] == 7)] "
   ]
  },
  {
   "cell_type": "code",
   "execution_count": 152,
   "metadata": {},
   "outputs": [],
   "source": [
    "#df_train_elec[pd.to_datetime(df_train_elec['timestamp']) > pd.to_datetime('2016-09-24 20:00:00')]"
   ]
  },
  {
   "cell_type": "code",
   "execution_count": 154,
   "metadata": {},
   "outputs": [
    {
     "data": {
      "text/plain": [
       "[<matplotlib.lines.Line2D at 0x7f8c076b3198>]"
      ]
     },
     "execution_count": 154,
     "metadata": {},
     "output_type": "execute_result"
    },
    {
     "data": {
      "image/png": "[encoded data removed]",
      "text/plain": [
       "<Figure size 432x288 with 1 Axes>"
      ]
     },
     "metadata": {
      "needs_background": "light"
     },
     "output_type": "display_data"
    }
   ],
   "source": [
    "#z = np.abs(stats.zscore(df_train_elec['meter_reading']))\n",
    "#pd.Series(z).describe()\n",
    "#plt.plot(z)"
   ]
  },
  {
   "cell_type": "code",
   "execution_count": 155,
   "metadata": {},
   "outputs": [],
   "source": [
    "#df_train_elec[pd.to_datetime(df_train_elec['timestamp']) > pd.to_datetime('2016-05-20 17:00:00')].head(30) "
   ]
  },
  {
   "cell_type": "code",
   "execution_count": 204,
   "metadata": {},
   "outputs": [
    {
     "name": "stderr",
     "output_type": "stream",
     "text": [
      "/opt/conda/lib/python3.7/site-packages/ipykernel_launcher.py:1: FutureWarning: Currently, 'apply' passes the values as ndarrays to the applied function. In the future, this will change to passing it as Series objects. You need to specify 'raw=True' to keep the current behaviour, and you can pass 'raw=False' to silence this warning\n",
      "  \"\"\"Entry point for launching an IPython kernel.\n"
     ]
    },
    {
     "data": {
      "text/plain": [
       "[<matplotlib.lines.Line2D at 0x7f5379304ba8>]"
      ]
     },
     "execution_count": 204,
     "metadata": {},
     "output_type": "execute_result"
    },
    {
     "data": {
      "image/png": "[encoded data removed]",
      "text/plain": [
       "<Figure size 432x288 with 1 Axes>"
      ]
     },
     "metadata": {
      "needs_background": "light"
     },
     "output_type": "display_data"
    }
   ],
   "source": [
    "#plt.plot(df_train_elec['meter_reading'].rolling(2).apply(roll_diff))"
   ]
  },
  {
   "cell_type": "code",
   "execution_count": 205,
   "metadata": {},
   "outputs": [
    {
     "data": {
      "text/plain": [
       "[<matplotlib.lines.Line2D at 0x7f53796b2b70>]"
      ]
     },
     "execution_count": 205,
     "metadata": {},
     "output_type": "execute_result"
    },
    {
     "data": {
      "image/png": "[encoded data removed]",
      "text/plain": [
       "<Figure size 1440x1440 with 1 Axes>"
      ]
     },
     "metadata": {
      "needs_background": "light"
     },
     "output_type": "display_data"
    }
   ],
   "source": [
    "plt.figure(figsize=(20,20))\n",
    "plt.plot(pd.to_datetime(df_train_elec[\"timestamp\"]).dt.date, df_train_elec['meter_reading'])"
   ]
  },
  {
   "cell_type": "code",
   "execution_count": null,
   "metadata": {},
   "outputs": [],
   "source": []
  },
  {
   "cell_type": "code",
   "execution_count": 879,
   "metadata": {},
   "outputs": [],
   "source": [
    "#df_train = df_train[df_train[\"meter_reading\"] != 0.0]"
   ]
  },
  {
   "cell_type": "code",
   "execution_count": 880,
   "metadata": {},
   "outputs": [],
   "source": [
    "#encode_cols = [\"primary_use\"]"
   ]
  },
  {
   "cell_type": "code",
   "execution_count": 881,
   "metadata": {},
   "outputs": [],
   "source": [
    "#data = dp.encode_categorical(df_train, df_test, encode_cols) "
   ]
  },
  {
   "cell_type": "code",
   "execution_count": 882,
   "metadata": {},
   "outputs": [],
   "source": [
    "#mb = mc.modelBuilder('regression', 'LGBM')"
   ]
  },
  {
   "cell_type": "code",
   "execution_count": 883,
   "metadata": {},
   "outputs": [],
   "source": [
    "#data = mb.prepare_data_split(df_train =  data['df_train'], df_test = data['df_test'], \n",
    "#                             target = 'meter_reading', rem_cols = ['timestamp'], \n",
    "#                             useVarImp = False, varimp_threshold = 100)"
   ]
  },
  {
   "cell_type": "code",
   "execution_count": 884,
   "metadata": {},
   "outputs": [],
   "source": [
    "#data['X_test'] = data['X_test'].drop([\"row_id\"],  axis=1)"
   ]
  },
  {
   "cell_type": "code",
   "execution_count": null,
   "metadata": {},
   "outputs": [],
   "source": [
    "#data['Y'] = np.log(data['Y'])"
   ]
  },
  {
   "cell_type": "code",
   "execution_count": 102,
   "metadata": {},
   "outputs": [],
   "source": [
    "#data['Y'][data['Y'] == -inf] = 0"
   ]
  },
  {
   "cell_type": "code",
   "execution_count": null,
   "metadata": {},
   "outputs": [],
   "source": [
    "#data['Y'].describe()"
   ]
  },
  {
   "cell_type": "code",
   "execution_count": 447,
   "metadata": {},
   "outputs": [],
   "source": [
    "def rmse(y, yhat):\n",
    "    score = sqrt(mean_squared_error(y, yhat))\n",
    "    return(score)"
   ]
  },
  {
   "cell_type": "code",
   "execution_count": 694,
   "metadata": {},
   "outputs": [],
   "source": [
    "# LGBM\n",
    "params = {\n",
    "    'boosting_type':'gbdt',\n",
    "    'n_estimators':500,\n",
    "    'num_leaves':64, \n",
    "    'objective':'regression_l2', \n",
    "    'colsample_bytree': 1.0, \n",
    "    'learning_rate': 0.1,\n",
    "    'max_bin':255, \n",
    "    'max_depth':9, \n",
    "    'metric':'rmse', \n",
    "    'min_child_samples':10,\n",
    "    'min_child_weight':5, \n",
    "    'min_split_gain':0.0,\n",
    "    'random_state':1234,\n",
    "    'lambda_l2': 1.5,\n",
    "    'verbose' : 2,\n",
    "    #'reg_alpha':0.0,\n",
    "    #'reg_lambda':0.0, \n",
    "    #'silent':True, \n",
    "    'subsample':1.0\n",
    "    #,\n",
    "    #'early_stopping_round' : 100\n",
    "}"
   ]
  },
  {
   "cell_type": "code",
   "execution_count": 10,
   "metadata": {},
   "outputs": [],
   "source": [
    "### CatBoost params\n",
    "params = {\n",
    "    'iterations':500,\n",
    "    'learning_rate' : 0.3,\n",
    "    'depth' : 9,\n",
    "    'loss_function' : 'RMSE',\n",
    "    'verbose' : 2,\n",
    "    'eval_metric': 'RMSE',\n",
    "}"
   ]
  },
  {
   "cell_type": "code",
   "execution_count": 11,
   "metadata": {},
   "outputs": [],
   "source": [
    "#gc.collect()"
   ]
  },
  {
   "cell_type": "code",
   "execution_count": 12,
   "metadata": {},
   "outputs": [],
   "source": [
    "#df_train_build = df_train[(df_train['building_id'] == 46) & (df_train['meter'] == 0)]"
   ]
  },
  {
   "cell_type": "code",
   "execution_count": 13,
   "metadata": {},
   "outputs": [],
   "source": [
    "#df_train_build.head(20)"
   ]
  },
  {
   "cell_type": "code",
   "execution_count": 14,
   "metadata": {},
   "outputs": [],
   "source": [
    "#submit = mb.run_model(data, n_folds = 5, metric_func = rmse, get_probab = False, \n",
    "#                      save_varimp = True, params = params, oversmp = False, cv_shuffle=False)"
   ]
  },
  {
   "cell_type": "code",
   "execution_count": 692,
   "metadata": {},
   "outputs": [
    {
     "ename": "KeyError",
     "evalue": "\"['is_constant_meter'] not found in axis\"",
     "output_type": "error",
     "traceback": [
      "\u001b[0;31m---------------------------------------------------------------------------\u001b[0m",
      "\u001b[0;31mKeyError\u001b[0m                                  Traceback (most recent call last)",
      "\u001b[0;32m<ipython-input-692-86102201faef>\u001b[0m in \u001b[0;36m<module>\u001b[0;34m\u001b[0m\n\u001b[0;32m----> 1\u001b[0;31m \u001b[0mdf_train\u001b[0m \u001b[0;34m=\u001b[0m \u001b[0mdf_train\u001b[0m\u001b[0;34m.\u001b[0m\u001b[0mdrop\u001b[0m\u001b[0;34m(\u001b[0m\u001b[0;34m[\u001b[0m\u001b[0;34m'is_constant_meter'\u001b[0m\u001b[0;34m]\u001b[0m\u001b[0;34m,\u001b[0m \u001b[0maxis\u001b[0m \u001b[0;34m=\u001b[0m \u001b[0;36m1\u001b[0m\u001b[0;34m)\u001b[0m\u001b[0;34m\u001b[0m\u001b[0;34m\u001b[0m\u001b[0m\n\u001b[0m",
      "\u001b[0;32m/opt/conda/lib/python3.7/site-packages/pandas/core/frame.py\u001b[0m in \u001b[0;36mdrop\u001b[0;34m(self, labels, axis, index, columns, level, inplace, errors)\u001b[0m\n\u001b[1;32m   4100\u001b[0m             \u001b[0mlevel\u001b[0m\u001b[0;34m=\u001b[0m\u001b[0mlevel\u001b[0m\u001b[0;34m,\u001b[0m\u001b[0;34m\u001b[0m\u001b[0;34m\u001b[0m\u001b[0m\n\u001b[1;32m   4101\u001b[0m             \u001b[0minplace\u001b[0m\u001b[0;34m=\u001b[0m\u001b[0minplace\u001b[0m\u001b[0;34m,\u001b[0m\u001b[0;34m\u001b[0m\u001b[0;34m\u001b[0m\u001b[0m\n\u001b[0;32m-> 4102\u001b[0;31m             \u001b[0merrors\u001b[0m\u001b[0;34m=\u001b[0m\u001b[0merrors\u001b[0m\u001b[0;34m,\u001b[0m\u001b[0;34m\u001b[0m\u001b[0;34m\u001b[0m\u001b[0m\n\u001b[0m\u001b[1;32m   4103\u001b[0m         )\n\u001b[1;32m   4104\u001b[0m \u001b[0;34m\u001b[0m\u001b[0m\n",
      "\u001b[0;32m/opt/conda/lib/python3.7/site-packages/pandas/core/generic.py\u001b[0m in \u001b[0;36mdrop\u001b[0;34m(self, labels, axis, index, columns, level, inplace, errors)\u001b[0m\n\u001b[1;32m   3912\u001b[0m         \u001b[0;32mfor\u001b[0m \u001b[0maxis\u001b[0m\u001b[0;34m,\u001b[0m \u001b[0mlabels\u001b[0m \u001b[0;32min\u001b[0m \u001b[0maxes\u001b[0m\u001b[0;34m.\u001b[0m\u001b[0mitems\u001b[0m\u001b[0;34m(\u001b[0m\u001b[0;34m)\u001b[0m\u001b[0;34m:\u001b[0m\u001b[0;34m\u001b[0m\u001b[0;34m\u001b[0m\u001b[0m\n\u001b[1;32m   3913\u001b[0m             \u001b[0;32mif\u001b[0m \u001b[0mlabels\u001b[0m \u001b[0;32mis\u001b[0m \u001b[0;32mnot\u001b[0m \u001b[0;32mNone\u001b[0m\u001b[0;34m:\u001b[0m\u001b[0;34m\u001b[0m\u001b[0;34m\u001b[0m\u001b[0m\n\u001b[0;32m-> 3914\u001b[0;31m                 \u001b[0mobj\u001b[0m \u001b[0;34m=\u001b[0m \u001b[0mobj\u001b[0m\u001b[0;34m.\u001b[0m\u001b[0m_drop_axis\u001b[0m\u001b[0;34m(\u001b[0m\u001b[0mlabels\u001b[0m\u001b[0;34m,\u001b[0m \u001b[0maxis\u001b[0m\u001b[0;34m,\u001b[0m \u001b[0mlevel\u001b[0m\u001b[0;34m=\u001b[0m\u001b[0mlevel\u001b[0m\u001b[0;34m,\u001b[0m \u001b[0merrors\u001b[0m\u001b[0;34m=\u001b[0m\u001b[0merrors\u001b[0m\u001b[0;34m)\u001b[0m\u001b[0;34m\u001b[0m\u001b[0;34m\u001b[0m\u001b[0m\n\u001b[0m\u001b[1;32m   3915\u001b[0m \u001b[0;34m\u001b[0m\u001b[0m\n\u001b[1;32m   3916\u001b[0m         \u001b[0;32mif\u001b[0m \u001b[0minplace\u001b[0m\u001b[0;34m:\u001b[0m\u001b[0;34m\u001b[0m\u001b[0;34m\u001b[0m\u001b[0m\n",
      "\u001b[0;32m/opt/conda/lib/python3.7/site-packages/pandas/core/generic.py\u001b[0m in \u001b[0;36m_drop_axis\u001b[0;34m(self, labels, axis, level, errors)\u001b[0m\n\u001b[1;32m   3944\u001b[0m                 \u001b[0mnew_axis\u001b[0m \u001b[0;34m=\u001b[0m \u001b[0maxis\u001b[0m\u001b[0;34m.\u001b[0m\u001b[0mdrop\u001b[0m\u001b[0;34m(\u001b[0m\u001b[0mlabels\u001b[0m\u001b[0;34m,\u001b[0m \u001b[0mlevel\u001b[0m\u001b[0;34m=\u001b[0m\u001b[0mlevel\u001b[0m\u001b[0;34m,\u001b[0m \u001b[0merrors\u001b[0m\u001b[0;34m=\u001b[0m\u001b[0merrors\u001b[0m\u001b[0;34m)\u001b[0m\u001b[0;34m\u001b[0m\u001b[0;34m\u001b[0m\u001b[0m\n\u001b[1;32m   3945\u001b[0m             \u001b[0;32melse\u001b[0m\u001b[0;34m:\u001b[0m\u001b[0;34m\u001b[0m\u001b[0;34m\u001b[0m\u001b[0m\n\u001b[0;32m-> 3946\u001b[0;31m                 \u001b[0mnew_axis\u001b[0m \u001b[0;34m=\u001b[0m \u001b[0maxis\u001b[0m\u001b[0;34m.\u001b[0m\u001b[0mdrop\u001b[0m\u001b[0;34m(\u001b[0m\u001b[0mlabels\u001b[0m\u001b[0;34m,\u001b[0m \u001b[0merrors\u001b[0m\u001b[0;34m=\u001b[0m\u001b[0merrors\u001b[0m\u001b[0;34m)\u001b[0m\u001b[0;34m\u001b[0m\u001b[0;34m\u001b[0m\u001b[0m\n\u001b[0m\u001b[1;32m   3947\u001b[0m             \u001b[0mresult\u001b[0m \u001b[0;34m=\u001b[0m \u001b[0mself\u001b[0m\u001b[0;34m.\u001b[0m\u001b[0mreindex\u001b[0m\u001b[0;34m(\u001b[0m\u001b[0;34m**\u001b[0m\u001b[0;34m{\u001b[0m\u001b[0maxis_name\u001b[0m\u001b[0;34m:\u001b[0m \u001b[0mnew_axis\u001b[0m\u001b[0;34m}\u001b[0m\u001b[0;34m)\u001b[0m\u001b[0;34m\u001b[0m\u001b[0;34m\u001b[0m\u001b[0m\n\u001b[1;32m   3948\u001b[0m \u001b[0;34m\u001b[0m\u001b[0m\n",
      "\u001b[0;32m/opt/conda/lib/python3.7/site-packages/pandas/core/indexes/base.py\u001b[0m in \u001b[0;36mdrop\u001b[0;34m(self, labels, errors)\u001b[0m\n\u001b[1;32m   5338\u001b[0m         \u001b[0;32mif\u001b[0m \u001b[0mmask\u001b[0m\u001b[0;34m.\u001b[0m\u001b[0many\u001b[0m\u001b[0;34m(\u001b[0m\u001b[0;34m)\u001b[0m\u001b[0;34m:\u001b[0m\u001b[0;34m\u001b[0m\u001b[0;34m\u001b[0m\u001b[0m\n\u001b[1;32m   5339\u001b[0m             \u001b[0;32mif\u001b[0m \u001b[0merrors\u001b[0m \u001b[0;34m!=\u001b[0m \u001b[0;34m\"ignore\"\u001b[0m\u001b[0;34m:\u001b[0m\u001b[0;34m\u001b[0m\u001b[0;34m\u001b[0m\u001b[0m\n\u001b[0;32m-> 5340\u001b[0;31m                 \u001b[0;32mraise\u001b[0m \u001b[0mKeyError\u001b[0m\u001b[0;34m(\u001b[0m\u001b[0;34m\"{} not found in axis\"\u001b[0m\u001b[0;34m.\u001b[0m\u001b[0mformat\u001b[0m\u001b[0;34m(\u001b[0m\u001b[0mlabels\u001b[0m\u001b[0;34m[\u001b[0m\u001b[0mmask\u001b[0m\u001b[0;34m]\u001b[0m\u001b[0;34m)\u001b[0m\u001b[0;34m)\u001b[0m\u001b[0;34m\u001b[0m\u001b[0;34m\u001b[0m\u001b[0m\n\u001b[0m\u001b[1;32m   5341\u001b[0m             \u001b[0mindexer\u001b[0m \u001b[0;34m=\u001b[0m \u001b[0mindexer\u001b[0m\u001b[0;34m[\u001b[0m\u001b[0;34m~\u001b[0m\u001b[0mmask\u001b[0m\u001b[0;34m]\u001b[0m\u001b[0;34m\u001b[0m\u001b[0;34m\u001b[0m\u001b[0m\n\u001b[1;32m   5342\u001b[0m         \u001b[0;32mreturn\u001b[0m \u001b[0mself\u001b[0m\u001b[0;34m.\u001b[0m\u001b[0mdelete\u001b[0m\u001b[0;34m(\u001b[0m\u001b[0mindexer\u001b[0m\u001b[0;34m)\u001b[0m\u001b[0;34m\u001b[0m\u001b[0;34m\u001b[0m\u001b[0m\n",
      "\u001b[0;31mKeyError\u001b[0m: \"['is_constant_meter'] not found in axis\""
     ]
    }
   ],
   "source": [
    "df_train = df_train.drop(['is_constant_meter'], axis = 1)"
   ]
  },
  {
   "cell_type": "code",
   "execution_count": 456,
   "metadata": {},
   "outputs": [],
   "source": [
    "df_train[df_train['meter_reading'] < 0]['meter_reading'] = 0 "
   ]
  },
  {
   "cell_type": "code",
   "execution_count": null,
   "metadata": {},
   "outputs": [],
   "source": [
    "#### Replace Constants with Prophet ####\n",
    "df_train_final = pd.read_csv('./df_train_prophet_for_constants.csv', compression = 'gzip')\n",
    "df_train_prophet = df_train_final[['timestamp', 'building_id', 'meter', 'meter_reading']]\n",
    "df_train_prophet.columns = ['timestamp', 'building_id', 'meter', 'meter_reading_prophet']\n",
    "df_train = df_train.merge(df_train_prophet, on = ['timestamp', 'building_id', 'meter'])\n",
    "df_train.meter_reading.fillna(df_train.meter_reading_prophet, inplace=True)\n",
    "df_train = df_train.drop(['meter_reading_prophet','is_constant_meter'], axis = 1)"
   ]
  },
  {
   "cell_type": "code",
   "execution_count": 710,
   "metadata": {},
   "outputs": [
    {
     "data": {
      "application/vnd.jupyter.widget-view+json": {
       "model_id": "0f21a56ac83241349d84f01daa53e224",
       "version_major": 2,
       "version_minor": 0
      },
      "text/plain": [
       "HBox(children=(IntProgress(value=0, max=16), HTML(value='')))"
      ]
     },
     "metadata": {},
     "output_type": "display_data"
    },
    {
     "name": "stdout",
     "output_type": "stream",
     "text": [
      "training site_id 1\n",
      "training meter 0\n",
      "colums primary_use is being encoded\n"
     ]
    },
    {
     "name": "stderr",
     "output_type": "stream",
     "text": [
      "/opt/conda/lib/python3.7/site-packages/bearinmind_pipeline/data_preprocessing.py:60: SettingWithCopyWarning:\n",
      "\n",
      "\n",
      "A value is trying to be set on a copy of a slice from a DataFrame.\n",
      "Try using .loc[row_indexer,col_indexer] = value instead\n",
      "\n",
      "See the caveats in the documentation: http://pandas.pydata.org/pandas-docs/stable/user_guide/indexing.html#returning-a-view-versus-a-copy\n",
      "\n"
     ]
    },
    {
     "name": "stdout",
     "output_type": "stream",
     "text": [
      "24 features have been chosen for modeling\n",
      "Fold: 0\n",
      "The valuation metric for the fold 0 is 0.8326047180713008\n",
      "Fold: 1\n",
      "The valuation metric for the fold 1 is 0.7921175107209715\n",
      "Fold: 2\n",
      "The valuation metric for the fold 2 is 1.2063673095934413\n",
      "The average score accross the folds is 0.9436965127952378\n",
      "training meter 3\n",
      "colums primary_use is being encoded\n"
     ]
    },
    {
     "name": "stderr",
     "output_type": "stream",
     "text": [
      "/opt/conda/lib/python3.7/site-packages/bearinmind_pipeline/data_preprocessing.py:60: SettingWithCopyWarning:\n",
      "\n",
      "\n",
      "A value is trying to be set on a copy of a slice from a DataFrame.\n",
      "Try using .loc[row_indexer,col_indexer] = value instead\n",
      "\n",
      "See the caveats in the documentation: http://pandas.pydata.org/pandas-docs/stable/user_guide/indexing.html#returning-a-view-versus-a-copy\n",
      "\n",
      "/opt/conda/lib/python3.7/site-packages/pandas/core/series.py:853: RuntimeWarning:\n",
      "\n",
      "divide by zero encountered in log\n",
      "\n"
     ]
    },
    {
     "name": "stdout",
     "output_type": "stream",
     "text": [
      "24 features have been chosen for modeling\n",
      "Fold: 0\n",
      "The valuation metric for the fold 0 is 1.6236768100306627\n",
      "Fold: 1\n",
      "The valuation metric for the fold 1 is 1.797666749460673\n",
      "Fold: 2\n",
      "The valuation metric for the fold 2 is 1.8394623736122868\n",
      "The average score accross the folds is 1.7536019777012075\n",
      "training site_id 2\n",
      "training meter 0\n",
      "colums primary_use is being encoded\n"
     ]
    },
    {
     "name": "stderr",
     "output_type": "stream",
     "text": [
      "/opt/conda/lib/python3.7/site-packages/bearinmind_pipeline/data_preprocessing.py:60: SettingWithCopyWarning:\n",
      "\n",
      "\n",
      "A value is trying to be set on a copy of a slice from a DataFrame.\n",
      "Try using .loc[row_indexer,col_indexer] = value instead\n",
      "\n",
      "See the caveats in the documentation: http://pandas.pydata.org/pandas-docs/stable/user_guide/indexing.html#returning-a-view-versus-a-copy\n",
      "\n"
     ]
    },
    {
     "name": "stdout",
     "output_type": "stream",
     "text": [
      "24 features have been chosen for modeling\n",
      "Fold: 0\n",
      "The valuation metric for the fold 0 is 0.5135022604851452\n",
      "Fold: 1\n",
      "The valuation metric for the fold 1 is 0.352731338642081\n",
      "Fold: 2\n",
      "The valuation metric for the fold 2 is 0.40482026709309327\n",
      "The average score accross the folds is 0.4236846220734399\n",
      "training meter 1\n",
      "colums primary_use is being encoded\n"
     ]
    },
    {
     "name": "stderr",
     "output_type": "stream",
     "text": [
      "/opt/conda/lib/python3.7/site-packages/bearinmind_pipeline/data_preprocessing.py:60: SettingWithCopyWarning:\n",
      "\n",
      "\n",
      "A value is trying to be set on a copy of a slice from a DataFrame.\n",
      "Try using .loc[row_indexer,col_indexer] = value instead\n",
      "\n",
      "See the caveats in the documentation: http://pandas.pydata.org/pandas-docs/stable/user_guide/indexing.html#returning-a-view-versus-a-copy\n",
      "\n"
     ]
    },
    {
     "name": "stdout",
     "output_type": "stream",
     "text": [
      "24 features have been chosen for modeling\n"
     ]
    },
    {
     "name": "stderr",
     "output_type": "stream",
     "text": [
      "/opt/conda/lib/python3.7/site-packages/pandas/core/series.py:853: RuntimeWarning:\n",
      "\n",
      "divide by zero encountered in log\n",
      "\n"
     ]
    },
    {
     "name": "stdout",
     "output_type": "stream",
     "text": [
      "Fold: 0\n",
      "The valuation metric for the fold 0 is 1.3877721614656489\n",
      "Fold: 1\n",
      "The valuation metric for the fold 1 is 1.2430045347785024\n",
      "Fold: 2\n",
      "The valuation metric for the fold 2 is 1.3281306050046116\n",
      "The average score accross the folds is 1.3196357670829209\n",
      "training meter 3\n",
      "colums primary_use is being encoded\n"
     ]
    },
    {
     "name": "stderr",
     "output_type": "stream",
     "text": [
      "/opt/conda/lib/python3.7/site-packages/bearinmind_pipeline/data_preprocessing.py:60: SettingWithCopyWarning:\n",
      "\n",
      "\n",
      "A value is trying to be set on a copy of a slice from a DataFrame.\n",
      "Try using .loc[row_indexer,col_indexer] = value instead\n",
      "\n",
      "See the caveats in the documentation: http://pandas.pydata.org/pandas-docs/stable/user_guide/indexing.html#returning-a-view-versus-a-copy\n",
      "\n"
     ]
    },
    {
     "name": "stdout",
     "output_type": "stream",
     "text": [
      "24 features have been chosen for modeling\n",
      "Fold: 0\n"
     ]
    },
    {
     "name": "stderr",
     "output_type": "stream",
     "text": [
      "/opt/conda/lib/python3.7/site-packages/pandas/core/series.py:853: RuntimeWarning:\n",
      "\n",
      "divide by zero encountered in log\n",
      "\n"
     ]
    },
    {
     "name": "stdout",
     "output_type": "stream",
     "text": [
      "The valuation metric for the fold 0 is 1.224923531727544\n",
      "Fold: 1\n",
      "The valuation metric for the fold 1 is 0.8138957929555094\n",
      "Fold: 2\n",
      "The valuation metric for the fold 2 is 1.1410395135813955\n",
      "The average score accross the folds is 1.0599529460881498\n",
      "training site_id 3\n",
      "training meter 0\n",
      "colums primary_use is being encoded\n",
      "24 features have been chosen for modeling\n",
      "Fold: 0\n",
      "The valuation metric for the fold 0 is 0.56074853089407\n",
      "Fold: 1\n",
      "The valuation metric for the fold 1 is 0.42895072982989824\n",
      "Fold: 2\n",
      "The valuation metric for the fold 2 is 0.5237996507292901\n",
      "The average score accross the folds is 0.5044996371510861\n",
      "training site_id 4\n",
      "training meter 0\n",
      "colums primary_use is being encoded\n",
      "24 features have been chosen for modeling\n",
      "Fold: 0\n",
      "The valuation metric for the fold 0 is 0.24247908564574186\n",
      "Fold: 1\n",
      "The valuation metric for the fold 1 is 0.2793464272688806\n",
      "Fold: 2\n",
      "The valuation metric for the fold 2 is 0.26815887535917854\n",
      "The average score accross the folds is 0.2633281294246003\n",
      "training site_id 5\n",
      "training meter 0\n",
      "colums primary_use is being encoded\n",
      "24 features have been chosen for modeling\n",
      "Fold: 0\n",
      "The valuation metric for the fold 0 is 1.0330750458065823\n",
      "Fold: 1\n",
      "The valuation metric for the fold 1 is 1.0190323868270497\n",
      "Fold: 2\n",
      "The valuation metric for the fold 2 is 1.0498729725491645\n",
      "The average score accross the folds is 1.0339934683942655\n",
      "training site_id 6\n",
      "training meter 0\n",
      "colums primary_use is being encoded\n"
     ]
    },
    {
     "name": "stderr",
     "output_type": "stream",
     "text": [
      "/opt/conda/lib/python3.7/site-packages/bearinmind_pipeline/data_preprocessing.py:60: SettingWithCopyWarning:\n",
      "\n",
      "\n",
      "A value is trying to be set on a copy of a slice from a DataFrame.\n",
      "Try using .loc[row_indexer,col_indexer] = value instead\n",
      "\n",
      "See the caveats in the documentation: http://pandas.pydata.org/pandas-docs/stable/user_guide/indexing.html#returning-a-view-versus-a-copy\n",
      "\n"
     ]
    },
    {
     "name": "stdout",
     "output_type": "stream",
     "text": [
      "24 features have been chosen for modeling\n",
      "Fold: 0\n",
      "The valuation metric for the fold 0 is 0.335487440970925\n",
      "Fold: 1\n",
      "The valuation metric for the fold 1 is 0.36724134049370194\n",
      "Fold: 2\n",
      "The valuation metric for the fold 2 is 0.38054415965507576\n",
      "The average score accross the folds is 0.3610909803732342\n",
      "training meter 2\n",
      "colums primary_use is being encoded\n"
     ]
    },
    {
     "name": "stderr",
     "output_type": "stream",
     "text": [
      "/opt/conda/lib/python3.7/site-packages/bearinmind_pipeline/data_preprocessing.py:60: SettingWithCopyWarning:\n",
      "\n",
      "\n",
      "A value is trying to be set on a copy of a slice from a DataFrame.\n",
      "Try using .loc[row_indexer,col_indexer] = value instead\n",
      "\n",
      "See the caveats in the documentation: http://pandas.pydata.org/pandas-docs/stable/user_guide/indexing.html#returning-a-view-versus-a-copy\n",
      "\n",
      "/opt/conda/lib/python3.7/site-packages/pandas/core/series.py:853: RuntimeWarning:\n",
      "\n",
      "divide by zero encountered in log\n",
      "\n"
     ]
    },
    {
     "name": "stdout",
     "output_type": "stream",
     "text": [
      "24 features have been chosen for modeling\n",
      "Fold: 0\n",
      "The valuation metric for the fold 0 is 2.140675335877884\n",
      "Fold: 1\n",
      "The valuation metric for the fold 1 is 1.3131345533545293\n",
      "Fold: 2\n",
      "The valuation metric for the fold 2 is 2.356181661960851\n",
      "The average score accross the folds is 1.936663850397755\n",
      "training meter 1\n",
      "colums primary_use is being encoded\n"
     ]
    },
    {
     "name": "stderr",
     "output_type": "stream",
     "text": [
      "/opt/conda/lib/python3.7/site-packages/bearinmind_pipeline/data_preprocessing.py:60: SettingWithCopyWarning:\n",
      "\n",
      "\n",
      "A value is trying to be set on a copy of a slice from a DataFrame.\n",
      "Try using .loc[row_indexer,col_indexer] = value instead\n",
      "\n",
      "See the caveats in the documentation: http://pandas.pydata.org/pandas-docs/stable/user_guide/indexing.html#returning-a-view-versus-a-copy\n",
      "\n",
      "/opt/conda/lib/python3.7/site-packages/pandas/core/series.py:853: RuntimeWarning:\n",
      "\n",
      "divide by zero encountered in log\n",
      "\n"
     ]
    },
    {
     "name": "stdout",
     "output_type": "stream",
     "text": [
      "24 features have been chosen for modeling\n",
      "Fold: 0\n",
      "The valuation metric for the fold 0 is 1.6015751385854875\n",
      "Fold: 1\n",
      "The valuation metric for the fold 1 is 2.0089004450557812\n",
      "Fold: 2\n",
      "The valuation metric for the fold 2 is 1.8780300301149957\n",
      "The average score accross the folds is 1.829501871252088\n",
      "training site_id 7\n",
      "training meter 1\n",
      "colums primary_use is being encoded\n"
     ]
    },
    {
     "name": "stderr",
     "output_type": "stream",
     "text": [
      "/opt/conda/lib/python3.7/site-packages/bearinmind_pipeline/data_preprocessing.py:60: SettingWithCopyWarning:\n",
      "\n",
      "\n",
      "A value is trying to be set on a copy of a slice from a DataFrame.\n",
      "Try using .loc[row_indexer,col_indexer] = value instead\n",
      "\n",
      "See the caveats in the documentation: http://pandas.pydata.org/pandas-docs/stable/user_guide/indexing.html#returning-a-view-versus-a-copy\n",
      "\n",
      "/opt/conda/lib/python3.7/site-packages/pandas/core/series.py:853: RuntimeWarning:\n",
      "\n",
      "divide by zero encountered in log\n",
      "\n"
     ]
    },
    {
     "name": "stdout",
     "output_type": "stream",
     "text": [
      "24 features have been chosen for modeling\n",
      "Fold: 0\n",
      "The valuation metric for the fold 0 is 1.2444167408945368\n",
      "Fold: 1\n",
      "The valuation metric for the fold 1 is 1.5526659446286484\n",
      "Fold: 2\n",
      "The valuation metric for the fold 2 is 1.6262698434847036\n",
      "The average score accross the folds is 1.4744508430026297\n",
      "training meter 2\n",
      "colums primary_use is being encoded\n"
     ]
    },
    {
     "name": "stderr",
     "output_type": "stream",
     "text": [
      "/opt/conda/lib/python3.7/site-packages/bearinmind_pipeline/data_preprocessing.py:60: SettingWithCopyWarning:\n",
      "\n",
      "\n",
      "A value is trying to be set on a copy of a slice from a DataFrame.\n",
      "Try using .loc[row_indexer,col_indexer] = value instead\n",
      "\n",
      "See the caveats in the documentation: http://pandas.pydata.org/pandas-docs/stable/user_guide/indexing.html#returning-a-view-versus-a-copy\n",
      "\n",
      "/opt/conda/lib/python3.7/site-packages/pandas/core/series.py:853: RuntimeWarning:\n",
      "\n",
      "divide by zero encountered in log\n",
      "\n"
     ]
    },
    {
     "name": "stdout",
     "output_type": "stream",
     "text": [
      "24 features have been chosen for modeling\n",
      "Fold: 0\n",
      "The valuation metric for the fold 0 is 1.5214260297108146\n",
      "Fold: 1\n",
      "The valuation metric for the fold 1 is 1.535544459231291\n",
      "Fold: 2\n",
      "The valuation metric for the fold 2 is 1.8353136910119516\n",
      "The average score accross the folds is 1.630761393318019\n",
      "training meter 0\n",
      "colums primary_use is being encoded\n"
     ]
    },
    {
     "name": "stderr",
     "output_type": "stream",
     "text": [
      "/opt/conda/lib/python3.7/site-packages/bearinmind_pipeline/data_preprocessing.py:60: SettingWithCopyWarning:\n",
      "\n",
      "\n",
      "A value is trying to be set on a copy of a slice from a DataFrame.\n",
      "Try using .loc[row_indexer,col_indexer] = value instead\n",
      "\n",
      "See the caveats in the documentation: http://pandas.pydata.org/pandas-docs/stable/user_guide/indexing.html#returning-a-view-versus-a-copy\n",
      "\n"
     ]
    },
    {
     "name": "stdout",
     "output_type": "stream",
     "text": [
      "24 features have been chosen for modeling\n",
      "Fold: 0\n",
      "The valuation metric for the fold 0 is 0.16255285158138838\n",
      "Fold: 1\n",
      "The valuation metric for the fold 1 is 0.8271283386214976\n",
      "Fold: 2\n",
      "The valuation metric for the fold 2 is 2.1808712605676077\n",
      "The average score accross the folds is 1.0568508169234978\n",
      "training meter 3\n",
      "colums primary_use is being encoded\n",
      "24 features have been chosen for modeling\n",
      "Fold: 0\n"
     ]
    },
    {
     "name": "stderr",
     "output_type": "stream",
     "text": [
      "/opt/conda/lib/python3.7/site-packages/bearinmind_pipeline/data_preprocessing.py:60: SettingWithCopyWarning:\n",
      "\n",
      "\n",
      "A value is trying to be set on a copy of a slice from a DataFrame.\n",
      "Try using .loc[row_indexer,col_indexer] = value instead\n",
      "\n",
      "See the caveats in the documentation: http://pandas.pydata.org/pandas-docs/stable/user_guide/indexing.html#returning-a-view-versus-a-copy\n",
      "\n",
      "/opt/conda/lib/python3.7/site-packages/pandas/core/series.py:853: RuntimeWarning:\n",
      "\n",
      "divide by zero encountered in log\n",
      "\n"
     ]
    },
    {
     "name": "stdout",
     "output_type": "stream",
     "text": [
      "The valuation metric for the fold 0 is 1.3992761374353917\n",
      "Fold: 1\n",
      "The valuation metric for the fold 1 is 2.5912038483125484\n",
      "Fold: 2\n",
      "The valuation metric for the fold 2 is 2.1119781907473993\n",
      "The average score accross the folds is 2.0341527254984464\n",
      "training site_id 8\n",
      "training meter 0\n",
      "colums primary_use is being encoded\n",
      "24 features have been chosen for modeling\n",
      "Fold: 0\n",
      "The valuation metric for the fold 0 is 0.7724733398430782\n",
      "Fold: 1\n",
      "The valuation metric for the fold 1 is 0.7080454527428398\n",
      "Fold: 2\n",
      "The valuation metric for the fold 2 is 0.6797390814153486\n",
      "The average score accross the folds is 0.7200859580004222\n",
      "training site_id 9\n",
      "training meter 1\n",
      "colums primary_use is being encoded\n"
     ]
    },
    {
     "name": "stderr",
     "output_type": "stream",
     "text": [
      "/opt/conda/lib/python3.7/site-packages/bearinmind_pipeline/data_preprocessing.py:60: SettingWithCopyWarning:\n",
      "\n",
      "\n",
      "A value is trying to be set on a copy of a slice from a DataFrame.\n",
      "Try using .loc[row_indexer,col_indexer] = value instead\n",
      "\n",
      "See the caveats in the documentation: http://pandas.pydata.org/pandas-docs/stable/user_guide/indexing.html#returning-a-view-versus-a-copy\n",
      "\n"
     ]
    },
    {
     "name": "stdout",
     "output_type": "stream",
     "text": [
      "24 features have been chosen for modeling\n"
     ]
    },
    {
     "name": "stderr",
     "output_type": "stream",
     "text": [
      "/opt/conda/lib/python3.7/site-packages/pandas/core/series.py:853: RuntimeWarning:\n",
      "\n",
      "divide by zero encountered in log\n",
      "\n"
     ]
    },
    {
     "name": "stdout",
     "output_type": "stream",
     "text": [
      "Fold: 0\n",
      "The valuation metric for the fold 0 is 1.3550988931515289\n",
      "Fold: 1\n",
      "The valuation metric for the fold 1 is 1.395240217931881\n",
      "Fold: 2\n",
      "The valuation metric for the fold 2 is 1.47161746490992\n",
      "The average score accross the folds is 1.4073188586644434\n",
      "training meter 2\n",
      "colums primary_use is being encoded\n"
     ]
    },
    {
     "name": "stderr",
     "output_type": "stream",
     "text": [
      "/opt/conda/lib/python3.7/site-packages/bearinmind_pipeline/data_preprocessing.py:60: SettingWithCopyWarning:\n",
      "\n",
      "\n",
      "A value is trying to be set on a copy of a slice from a DataFrame.\n",
      "Try using .loc[row_indexer,col_indexer] = value instead\n",
      "\n",
      "See the caveats in the documentation: http://pandas.pydata.org/pandas-docs/stable/user_guide/indexing.html#returning-a-view-versus-a-copy\n",
      "\n"
     ]
    },
    {
     "name": "stdout",
     "output_type": "stream",
     "text": [
      "24 features have been chosen for modeling\n"
     ]
    },
    {
     "name": "stderr",
     "output_type": "stream",
     "text": [
      "/opt/conda/lib/python3.7/site-packages/pandas/core/series.py:853: RuntimeWarning:\n",
      "\n",
      "divide by zero encountered in log\n",
      "\n"
     ]
    },
    {
     "name": "stdout",
     "output_type": "stream",
     "text": [
      "Fold: 0\n",
      "The valuation metric for the fold 0 is 1.5416867873999096\n",
      "Fold: 1\n",
      "The valuation metric for the fold 1 is 1.4584200543278643\n",
      "Fold: 2\n",
      "The valuation metric for the fold 2 is 1.4891787370215888\n",
      "The average score accross the folds is 1.4964285262497876\n",
      "training meter 0\n",
      "colums primary_use is being encoded\n"
     ]
    },
    {
     "name": "stderr",
     "output_type": "stream",
     "text": [
      "/opt/conda/lib/python3.7/site-packages/bearinmind_pipeline/data_preprocessing.py:60: SettingWithCopyWarning:\n",
      "\n",
      "\n",
      "A value is trying to be set on a copy of a slice from a DataFrame.\n",
      "Try using .loc[row_indexer,col_indexer] = value instead\n",
      "\n",
      "See the caveats in the documentation: http://pandas.pydata.org/pandas-docs/stable/user_guide/indexing.html#returning-a-view-versus-a-copy\n",
      "\n"
     ]
    },
    {
     "name": "stdout",
     "output_type": "stream",
     "text": [
      "24 features have been chosen for modeling\n",
      "Fold: 0\n",
      "The valuation metric for the fold 0 is 0.2703813857839293\n",
      "Fold: 1\n",
      "The valuation metric for the fold 1 is 0.20535103443645597\n",
      "Fold: 2\n",
      "The valuation metric for the fold 2 is 0.2530401466701469\n",
      "The average score accross the folds is 0.24292418896351073\n",
      "training site_id 10\n",
      "training meter 0\n",
      "colums primary_use is being encoded\n"
     ]
    },
    {
     "name": "stderr",
     "output_type": "stream",
     "text": [
      "/opt/conda/lib/python3.7/site-packages/bearinmind_pipeline/data_preprocessing.py:60: SettingWithCopyWarning:\n",
      "\n",
      "\n",
      "A value is trying to be set on a copy of a slice from a DataFrame.\n",
      "Try using .loc[row_indexer,col_indexer] = value instead\n",
      "\n",
      "See the caveats in the documentation: http://pandas.pydata.org/pandas-docs/stable/user_guide/indexing.html#returning-a-view-versus-a-copy\n",
      "\n"
     ]
    },
    {
     "name": "stdout",
     "output_type": "stream",
     "text": [
      "24 features have been chosen for modeling\n",
      "Fold: 0\n",
      "The valuation metric for the fold 0 is 0.43933474563281644\n",
      "Fold: 1\n",
      "The valuation metric for the fold 1 is 0.420314247924727\n",
      "Fold: 2\n",
      "The valuation metric for the fold 2 is 0.5011411751062546\n",
      "The average score accross the folds is 0.4535967228879327\n",
      "training meter 1\n",
      "colums primary_use is being encoded\n"
     ]
    },
    {
     "name": "stderr",
     "output_type": "stream",
     "text": [
      "/opt/conda/lib/python3.7/site-packages/bearinmind_pipeline/data_preprocessing.py:60: SettingWithCopyWarning:\n",
      "\n",
      "\n",
      "A value is trying to be set on a copy of a slice from a DataFrame.\n",
      "Try using .loc[row_indexer,col_indexer] = value instead\n",
      "\n",
      "See the caveats in the documentation: http://pandas.pydata.org/pandas-docs/stable/user_guide/indexing.html#returning-a-view-versus-a-copy\n",
      "\n",
      "/opt/conda/lib/python3.7/site-packages/pandas/core/series.py:853: RuntimeWarning:\n",
      "\n",
      "divide by zero encountered in log\n",
      "\n"
     ]
    },
    {
     "name": "stdout",
     "output_type": "stream",
     "text": [
      "24 features have been chosen for modeling\n",
      "Fold: 0\n",
      "The valuation metric for the fold 0 is 2.098975148079018\n",
      "Fold: 1\n",
      "The valuation metric for the fold 1 is 1.6752521600518844\n",
      "Fold: 2\n",
      "The valuation metric for the fold 2 is 1.9378145106574842\n",
      "The average score accross the folds is 1.904013939596129\n",
      "training meter 3\n",
      "colums primary_use is being encoded\n"
     ]
    },
    {
     "name": "stderr",
     "output_type": "stream",
     "text": [
      "/opt/conda/lib/python3.7/site-packages/bearinmind_pipeline/data_preprocessing.py:60: SettingWithCopyWarning:\n",
      "\n",
      "\n",
      "A value is trying to be set on a copy of a slice from a DataFrame.\n",
      "Try using .loc[row_indexer,col_indexer] = value instead\n",
      "\n",
      "See the caveats in the documentation: http://pandas.pydata.org/pandas-docs/stable/user_guide/indexing.html#returning-a-view-versus-a-copy\n",
      "\n",
      "/opt/conda/lib/python3.7/site-packages/pandas/core/series.py:853: RuntimeWarning:\n",
      "\n",
      "divide by zero encountered in log\n",
      "\n"
     ]
    },
    {
     "name": "stdout",
     "output_type": "stream",
     "text": [
      "24 features have been chosen for modeling\n",
      "Fold: 0\n",
      "The valuation metric for the fold 0 is 2.184177314591487\n",
      "Fold: 1\n",
      "The valuation metric for the fold 1 is 2.048200492877797\n",
      "Fold: 2\n",
      "The valuation metric for the fold 2 is 2.2727623724857366\n",
      "The average score accross the folds is 2.1683800599850067\n",
      "training site_id 11\n",
      "training meter 0\n",
      "colums primary_use is being encoded\n"
     ]
    },
    {
     "name": "stderr",
     "output_type": "stream",
     "text": [
      "/opt/conda/lib/python3.7/site-packages/bearinmind_pipeline/data_preprocessing.py:60: SettingWithCopyWarning:\n",
      "\n",
      "\n",
      "A value is trying to be set on a copy of a slice from a DataFrame.\n",
      "Try using .loc[row_indexer,col_indexer] = value instead\n",
      "\n",
      "See the caveats in the documentation: http://pandas.pydata.org/pandas-docs/stable/user_guide/indexing.html#returning-a-view-versus-a-copy\n",
      "\n"
     ]
    },
    {
     "name": "stdout",
     "output_type": "stream",
     "text": [
      "24 features have been chosen for modeling\n",
      "Fold: 0\n",
      "The valuation metric for the fold 0 is 0.14372628963718256\n",
      "Fold: 1\n",
      "The valuation metric for the fold 1 is 0.22216829104759325\n",
      "Fold: 2\n",
      "The valuation metric for the fold 2 is 0.19359736436822192\n",
      "The average score accross the folds is 0.1864973150176659\n",
      "training meter 3\n",
      "colums primary_use is being encoded\n",
      "24 features have been chosen for modeling\n",
      "Fold: 0\n"
     ]
    },
    {
     "name": "stderr",
     "output_type": "stream",
     "text": [
      "/opt/conda/lib/python3.7/site-packages/bearinmind_pipeline/data_preprocessing.py:60: SettingWithCopyWarning:\n",
      "\n",
      "\n",
      "A value is trying to be set on a copy of a slice from a DataFrame.\n",
      "Try using .loc[row_indexer,col_indexer] = value instead\n",
      "\n",
      "See the caveats in the documentation: http://pandas.pydata.org/pandas-docs/stable/user_guide/indexing.html#returning-a-view-versus-a-copy\n",
      "\n",
      "/opt/conda/lib/python3.7/site-packages/pandas/core/series.py:853: RuntimeWarning:\n",
      "\n",
      "divide by zero encountered in log\n",
      "\n"
     ]
    },
    {
     "name": "stdout",
     "output_type": "stream",
     "text": [
      "The valuation metric for the fold 0 is 0.7766069652061496\n",
      "Fold: 1\n",
      "The valuation metric for the fold 1 is 1.3910745463696716\n",
      "Fold: 2\n",
      "The valuation metric for the fold 2 is 1.1828627764265252\n",
      "The average score accross the folds is 1.1168480960007823\n",
      "training meter 1\n",
      "colums primary_use is being encoded\n",
      "24 features have been chosen for modeling\n",
      "Fold: 0\n"
     ]
    },
    {
     "name": "stderr",
     "output_type": "stream",
     "text": [
      "/opt/conda/lib/python3.7/site-packages/bearinmind_pipeline/data_preprocessing.py:60: SettingWithCopyWarning:\n",
      "\n",
      "\n",
      "A value is trying to be set on a copy of a slice from a DataFrame.\n",
      "Try using .loc[row_indexer,col_indexer] = value instead\n",
      "\n",
      "See the caveats in the documentation: http://pandas.pydata.org/pandas-docs/stable/user_guide/indexing.html#returning-a-view-versus-a-copy\n",
      "\n",
      "/opt/conda/lib/python3.7/site-packages/pandas/core/series.py:853: RuntimeWarning:\n",
      "\n",
      "divide by zero encountered in log\n",
      "\n"
     ]
    },
    {
     "name": "stdout",
     "output_type": "stream",
     "text": [
      "The valuation metric for the fold 0 is 0.4904369139838464\n",
      "Fold: 1\n",
      "The valuation metric for the fold 1 is 1.9511168733869155\n",
      "Fold: 2\n",
      "The valuation metric for the fold 2 is 1.227646362543395\n",
      "The average score accross the folds is 1.2230667166380522\n",
      "training site_id 12\n",
      "training meter 0\n",
      "colums primary_use is being encoded\n",
      "24 features have been chosen for modeling\n",
      "Fold: 0\n",
      "The valuation metric for the fold 0 is 0.3025550721099166\n",
      "Fold: 1\n",
      "The valuation metric for the fold 1 is 0.33280720803102704\n",
      "Fold: 2\n",
      "The valuation metric for the fold 2 is 0.3131290430566361\n",
      "The average score accross the folds is 0.31616377439919324\n",
      "training site_id 13\n",
      "training meter 0\n",
      "colums primary_use is being encoded\n"
     ]
    },
    {
     "name": "stderr",
     "output_type": "stream",
     "text": [
      "/opt/conda/lib/python3.7/site-packages/bearinmind_pipeline/data_preprocessing.py:60: SettingWithCopyWarning:\n",
      "\n",
      "\n",
      "A value is trying to be set on a copy of a slice from a DataFrame.\n",
      "Try using .loc[row_indexer,col_indexer] = value instead\n",
      "\n",
      "See the caveats in the documentation: http://pandas.pydata.org/pandas-docs/stable/user_guide/indexing.html#returning-a-view-versus-a-copy\n",
      "\n"
     ]
    },
    {
     "name": "stdout",
     "output_type": "stream",
     "text": [
      "24 features have been chosen for modeling\n",
      "Fold: 0\n",
      "The valuation metric for the fold 0 is 0.330331755297885\n",
      "Fold: 1\n",
      "The valuation metric for the fold 1 is 0.3656597392144313\n",
      "Fold: 2\n",
      "The valuation metric for the fold 2 is 0.37278285712407266\n",
      "The average score accross the folds is 0.3562581172121296\n",
      "training meter 1\n",
      "colums primary_use is being encoded\n"
     ]
    },
    {
     "name": "stderr",
     "output_type": "stream",
     "text": [
      "/opt/conda/lib/python3.7/site-packages/bearinmind_pipeline/data_preprocessing.py:60: SettingWithCopyWarning:\n",
      "\n",
      "\n",
      "A value is trying to be set on a copy of a slice from a DataFrame.\n",
      "Try using .loc[row_indexer,col_indexer] = value instead\n",
      "\n",
      "See the caveats in the documentation: http://pandas.pydata.org/pandas-docs/stable/user_guide/indexing.html#returning-a-view-versus-a-copy\n",
      "\n"
     ]
    },
    {
     "name": "stdout",
     "output_type": "stream",
     "text": [
      "24 features have been chosen for modeling\n"
     ]
    },
    {
     "name": "stderr",
     "output_type": "stream",
     "text": [
      "/opt/conda/lib/python3.7/site-packages/pandas/core/series.py:853: RuntimeWarning:\n",
      "\n",
      "divide by zero encountered in log\n",
      "\n"
     ]
    },
    {
     "name": "stdout",
     "output_type": "stream",
     "text": [
      "Fold: 0\n",
      "The valuation metric for the fold 0 is 1.181234203964493\n",
      "Fold: 1\n",
      "The valuation metric for the fold 1 is 0.9995623459047144\n",
      "Fold: 2\n",
      "The valuation metric for the fold 2 is 1.1283181391908996\n",
      "The average score accross the folds is 1.1030382296867023\n",
      "training meter 2\n",
      "colums primary_use is being encoded\n"
     ]
    },
    {
     "name": "stderr",
     "output_type": "stream",
     "text": [
      "/opt/conda/lib/python3.7/site-packages/bearinmind_pipeline/data_preprocessing.py:60: SettingWithCopyWarning:\n",
      "\n",
      "\n",
      "A value is trying to be set on a copy of a slice from a DataFrame.\n",
      "Try using .loc[row_indexer,col_indexer] = value instead\n",
      "\n",
      "See the caveats in the documentation: http://pandas.pydata.org/pandas-docs/stable/user_guide/indexing.html#returning-a-view-versus-a-copy\n",
      "\n"
     ]
    },
    {
     "name": "stdout",
     "output_type": "stream",
     "text": [
      "24 features have been chosen for modeling\n"
     ]
    },
    {
     "name": "stderr",
     "output_type": "stream",
     "text": [
      "/opt/conda/lib/python3.7/site-packages/pandas/core/series.py:853: RuntimeWarning:\n",
      "\n",
      "divide by zero encountered in log\n",
      "\n"
     ]
    },
    {
     "name": "stdout",
     "output_type": "stream",
     "text": [
      "Fold: 0\n",
      "The valuation metric for the fold 0 is 1.6643686858003737\n",
      "Fold: 1\n",
      "The valuation metric for the fold 2 is 2.0191635377609747\n",
      "The average score accross the folds is 1.8908069105868925\n",
      "training meter 3\n",
      "colums primary_use is being encoded\n"
     ]
    },
    {
     "name": "stderr",
     "output_type": "stream",
     "text": [
      "/opt/conda/lib/python3.7/site-packages/bearinmind_pipeline/data_preprocessing.py:60: SettingWithCopyWarning:\n",
      "\n",
      "\n",
      "A value is trying to be set on a copy of a slice from a DataFrame.\n",
      "Try using .loc[row_indexer,col_indexer] = value instead\n",
      "\n",
      "See the caveats in the documentation: http://pandas.pydata.org/pandas-docs/stable/user_guide/indexing.html#returning-a-view-versus-a-copy\n",
      "\n"
     ]
    },
    {
     "name": "stdout",
     "output_type": "stream",
     "text": [
      "24 features have been chosen for modeling\n",
      "Fold: 0\n"
     ]
    },
    {
     "name": "stderr",
     "output_type": "stream",
     "text": [
      "/opt/conda/lib/python3.7/site-packages/pandas/core/series.py:853: RuntimeWarning:\n",
      "\n",
      "divide by zero encountered in log\n",
      "\n"
     ]
    },
    {
     "name": "stdout",
     "output_type": "stream",
     "text": [
      "The valuation metric for the fold 0 is 2.2061987725355263\n",
      "Fold: 1\n",
      "The valuation metric for the fold 1 is 1.6887844425830454\n",
      "Fold: 2\n",
      "The valuation metric for the fold 2 is 2.1877483649709295\n",
      "The average score accross the folds is 2.0275771933631668\n",
      "training meter 2\n",
      "colums primary_use is being encoded\n"
     ]
    },
    {
     "name": "stderr",
     "output_type": "stream",
     "text": [
      "/opt/conda/lib/python3.7/site-packages/bearinmind_pipeline/data_preprocessing.py:60: SettingWithCopyWarning:\n",
      "\n",
      "\n",
      "A value is trying to be set on a copy of a slice from a DataFrame.\n",
      "Try using .loc[row_indexer,col_indexer] = value instead\n",
      "\n",
      "See the caveats in the documentation: http://pandas.pydata.org/pandas-docs/stable/user_guide/indexing.html#returning-a-view-versus-a-copy\n",
      "\n"
     ]
    },
    {
     "name": "stdout",
     "output_type": "stream",
     "text": [
      "24 features have been chosen for modeling\n",
      "Fold: 0\n"
     ]
    },
    {
     "name": "stderr",
     "output_type": "stream",
     "text": [
      "/opt/conda/lib/python3.7/site-packages/pandas/core/series.py:853: RuntimeWarning:\n",
      "\n",
      "divide by zero encountered in log\n",
      "\n"
     ]
    },
    {
     "name": "stdout",
     "output_type": "stream",
     "text": [
      "The valuation metric for the fold 0 is 1.9655967035207922\n",
      "Fold: 1\n",
      "The valuation metric for the fold 1 is 1.4853667755510183\n",
      "Fold: 2\n",
      "The valuation metric for the fold 2 is 2.215750724623694\n",
      "The average score accross the folds is 1.888904734565168\n",
      "training site_id 15\n",
      "training meter 3\n",
      "colums primary_use is being encoded\n",
      "24 features have been chosen for modeling\n",
      "Fold: 0\n"
     ]
    },
    {
     "name": "stderr",
     "output_type": "stream",
     "text": [
      "/opt/conda/lib/python3.7/site-packages/bearinmind_pipeline/data_preprocessing.py:60: SettingWithCopyWarning:\n",
      "\n",
      "\n",
      "A value is trying to be set on a copy of a slice from a DataFrame.\n",
      "Try using .loc[row_indexer,col_indexer] = value instead\n",
      "\n",
      "See the caveats in the documentation: http://pandas.pydata.org/pandas-docs/stable/user_guide/indexing.html#returning-a-view-versus-a-copy\n",
      "\n",
      "/opt/conda/lib/python3.7/site-packages/pandas/core/series.py:853: RuntimeWarning:\n",
      "\n",
      "divide by zero encountered in log\n",
      "\n"
     ]
    },
    {
     "name": "stdout",
     "output_type": "stream",
     "text": [
      "The valuation metric for the fold 0 is 0.6597021694818689\n",
      "Fold: 1\n",
      "The valuation metric for the fold 1 is 0.719373904009933\n",
      "Fold: 2\n",
      "The valuation metric for the fold 2 is 0.6722226140648272\n",
      "The average score accross the folds is 0.683766229185543\n",
      "training meter 0\n",
      "colums primary_use is being encoded\n"
     ]
    },
    {
     "name": "stderr",
     "output_type": "stream",
     "text": [
      "/opt/conda/lib/python3.7/site-packages/bearinmind_pipeline/data_preprocessing.py:60: SettingWithCopyWarning:\n",
      "\n",
      "\n",
      "A value is trying to be set on a copy of a slice from a DataFrame.\n",
      "Try using .loc[row_indexer,col_indexer] = value instead\n",
      "\n",
      "See the caveats in the documentation: http://pandas.pydata.org/pandas-docs/stable/user_guide/indexing.html#returning-a-view-versus-a-copy\n",
      "\n"
     ]
    },
    {
     "name": "stdout",
     "output_type": "stream",
     "text": [
      "24 features have been chosen for modeling\n",
      "Fold: 0\n",
      "The valuation metric for the fold 0 is 0.2806084115103511\n",
      "Fold: 1\n",
      "The valuation metric for the fold 1 is 0.2849509567048901\n",
      "Fold: 2\n",
      "The valuation metric for the fold 2 is 0.32014718181022767\n",
      "The average score accross the folds is 0.2952355166751563\n",
      "training meter 1\n",
      "colums primary_use is being encoded\n"
     ]
    },
    {
     "name": "stderr",
     "output_type": "stream",
     "text": [
      "/opt/conda/lib/python3.7/site-packages/bearinmind_pipeline/data_preprocessing.py:60: SettingWithCopyWarning:\n",
      "\n",
      "\n",
      "A value is trying to be set on a copy of a slice from a DataFrame.\n",
      "Try using .loc[row_indexer,col_indexer] = value instead\n",
      "\n",
      "See the caveats in the documentation: http://pandas.pydata.org/pandas-docs/stable/user_guide/indexing.html#returning-a-view-versus-a-copy\n",
      "\n"
     ]
    },
    {
     "name": "stdout",
     "output_type": "stream",
     "text": [
      "24 features have been chosen for modeling\n",
      "Fold: 0\n"
     ]
    },
    {
     "name": "stderr",
     "output_type": "stream",
     "text": [
      "/opt/conda/lib/python3.7/site-packages/pandas/core/series.py:853: RuntimeWarning:\n",
      "\n",
      "divide by zero encountered in log\n",
      "\n"
     ]
    },
    {
     "name": "stdout",
     "output_type": "stream",
     "text": [
      "The valuation metric for the fold 0 is 0.7003809064593672\n",
      "Fold: 1\n",
      "The valuation metric for the fold 1 is 0.600528595955481\n",
      "Fold: 2\n",
      "The valuation metric for the fold 2 is 0.6595819152525573\n",
      "The average score accross the folds is 0.6534971392224685\n",
      "training meter 2\n",
      "colums primary_use is being encoded\n"
     ]
    },
    {
     "name": "stderr",
     "output_type": "stream",
     "text": [
      "/opt/conda/lib/python3.7/site-packages/bearinmind_pipeline/data_preprocessing.py:60: SettingWithCopyWarning:\n",
      "\n",
      "\n",
      "A value is trying to be set on a copy of a slice from a DataFrame.\n",
      "Try using .loc[row_indexer,col_indexer] = value instead\n",
      "\n",
      "See the caveats in the documentation: http://pandas.pydata.org/pandas-docs/stable/user_guide/indexing.html#returning-a-view-versus-a-copy\n",
      "\n"
     ]
    },
    {
     "name": "stdout",
     "output_type": "stream",
     "text": [
      "24 features have been chosen for modeling\n",
      "Fold: 0\n"
     ]
    },
    {
     "name": "stderr",
     "output_type": "stream",
     "text": [
      "/opt/conda/lib/python3.7/site-packages/pandas/core/series.py:853: RuntimeWarning:\n",
      "\n",
      "divide by zero encountered in log\n",
      "\n"
     ]
    },
    {
     "name": "stdout",
     "output_type": "stream",
     "text": [
      "The valuation metric for the fold 0 is 1.0833108884535747\n",
      "Fold: 1\n",
      "The valuation metric for the fold 1 is 1.2945630325628041\n",
      "Fold: 2\n",
      "The valuation metric for the fold 2 is 0.8744480066922706\n",
      "The average score accross the folds is 1.0841073092362166\n",
      "training site_id 0\n",
      "training meter 1\n",
      "colums primary_use is being encoded\n"
     ]
    },
    {
     "name": "stderr",
     "output_type": "stream",
     "text": [
      "/opt/conda/lib/python3.7/site-packages/bearinmind_pipeline/data_preprocessing.py:60: SettingWithCopyWarning:\n",
      "\n",
      "\n",
      "A value is trying to be set on a copy of a slice from a DataFrame.\n",
      "Try using .loc[row_indexer,col_indexer] = value instead\n",
      "\n",
      "See the caveats in the documentation: http://pandas.pydata.org/pandas-docs/stable/user_guide/indexing.html#returning-a-view-versus-a-copy\n",
      "\n",
      "/opt/conda/lib/python3.7/site-packages/pandas/core/series.py:853: RuntimeWarning:\n",
      "\n",
      "divide by zero encountered in log\n",
      "\n"
     ]
    },
    {
     "name": "stdout",
     "output_type": "stream",
     "text": [
      "24 features have been chosen for modeling\n",
      "Fold: 0\n",
      "The valuation metric for the fold 0 is 2.2069148929405737\n",
      "Fold: 1\n",
      "The valuation metric for the fold 1 is 1.9047363638086106\n",
      "Fold: 2\n",
      "The valuation metric for the fold 2 is 2.4276372053698663\n",
      "The average score accross the folds is 2.1797628207063497\n",
      "training meter 0\n",
      "colums primary_use is being encoded\n"
     ]
    },
    {
     "name": "stderr",
     "output_type": "stream",
     "text": [
      "/opt/conda/lib/python3.7/site-packages/bearinmind_pipeline/data_preprocessing.py:60: SettingWithCopyWarning:\n",
      "\n",
      "\n",
      "A value is trying to be set on a copy of a slice from a DataFrame.\n",
      "Try using .loc[row_indexer,col_indexer] = value instead\n",
      "\n",
      "See the caveats in the documentation: http://pandas.pydata.org/pandas-docs/stable/user_guide/indexing.html#returning-a-view-versus-a-copy\n",
      "\n"
     ]
    },
    {
     "name": "stdout",
     "output_type": "stream",
     "text": [
      "24 features have been chosen for modeling\n",
      "Fold: 0\n",
      "The valuation metric for the fold 0 is 0.31911558079951696\n",
      "Fold: 1\n",
      "The valuation metric for the fold 1 is 0.2912764743832644\n",
      "Fold: 2\n",
      "The valuation metric for the fold 2 is 0.408249324977809\n",
      "The average score accross the folds is 0.3395471267201968\n"
     ]
    }
   ],
   "source": [
    "### Per site and meter type ###\n",
    "perf_dict = {}\n",
    "final_sub_lst = []\n",
    "encode_cols = [\"primary_use\"]\n",
    "mb = mc.modelBuilder('regression', 'LGBM')\n",
    "for i in tqdm_notebook(df_train['site_id'].unique()):\n",
    "#for i in tqdm_notebook(range(7, 8, 1)):\n",
    "    print(f'training site_id {i}')\n",
    "    \n",
    "    df_train_site = df_train[df_train['site_id'] == i]\n",
    "    df_test_site = df_test[df_test['site_id'] == i]\n",
    "    \n",
    "    for j in df_train_site['meter'].unique():\n",
    "        \n",
    "        print(f'training meter {j}')\n",
    "        df_train_metr = df_train_site[df_train_site['meter'] == j]\n",
    "        df_test_metr = df_test_site[df_test_site['meter'] == j]\n",
    "\n",
    "        df_train_metr = df_train_metr[(np.abs(stats.zscore(df_train_metr['meter_reading'])) < 5)]\n",
    "        #df_train_metr = df_train_metr.groupby('building_id', as_index=False).apply(lambda x: x[(np.abs(stats.zscore(x['meter_reading'])) < 5)])\n",
    "        #df_train_metr = df_train_metr.groupby('building_id', as_index=False).apply(lambda x: x[x['meter_reading'] < x['meter_reading'].quantile(0.99)])\n",
    "        \n",
    "        data = dp.encode_categorical(df_train_metr, df_test_metr, encode_cols)\n",
    "        data = mb.prepare_data_split(df_train =  data['df_train'], df_test = data['df_test'], \n",
    "                                 target = 'meter_reading', rem_cols = ['timestamp'], \n",
    "                                 useVarImp = False, varimp_threshold = 100)\n",
    "        data['X_test'] = data['X_test'].drop([\"row_id\"],  axis=1)\n",
    "        data['Y'] = np.log(data['Y'])\n",
    "        data['Y'][data['Y'] == -inf] = 0\n",
    "        submit = mb.run_model(data, n_folds = 3, metric_func = rmse, get_probab = False, \n",
    "                          save_varimp = False, params = params, oversmp = False, cv_shuffle=False)\n",
    "        submit['FinalPrediction'] = np.exp(submit['FinalPrediction'])\n",
    "        final_submit = pd.concat([df_test_metr['row_id'].reset_index(drop=True), pd.DataFrame(submit['FinalPrediction'], columns = [\"meter_reading\"])], axis = 1)\n",
    "\n",
    "        perf_dict[f'site_id: {i} and meter: {j}'] = submit['AverageScore']\n",
    "        final_sub_lst.append(final_submit)\n",
    "    "
   ]
  },
  {
   "cell_type": "code",
   "execution_count": null,
   "metadata": {},
   "outputs": [],
   "source": [
    "### Per meter type ###\n",
    "#perf_dict = {}\n",
    "#final_sub_lst = []\n",
    "#encode_cols = [\"primary_use\"]\n",
    "#mb = mc.modelBuilder('regression', 'LGBM')\n",
    "#for i in tqdm_notebook(df_train['site_id'].unique()):\n",
    "#for i in tqdm_notebook(range(2)):\n",
    "#    print(f'training site_id {i}')\n",
    "#    \n",
    "#    df_train_site = df_train[df_train['site_id'] == i]\n",
    "#    df_test_site = df_test[df_test['site_id'] == i]\n",
    "\n",
    "#    data = dp.encode_categorical(df_train_site, df_test_site, encode_cols)\n",
    "#    data = mb.prepare_data_split(df_train =  data['df_train'], df_test = data['df_test'], \n",
    "#                                 target = 'meter_reading', rem_cols = ['timestamp'], \n",
    "#                                 useVarImp = False, varimp_threshold = 100)\n",
    "#    data['X_test'] = data['X_test'].drop([\"row_id\"],  axis=1)\n",
    "#    data['Y'] = np.log(data['Y'])\n",
    "#    data['Y'][data['Y'] == -inf] = 0\n",
    "#    submit = mb.run_model(data, n_folds = 5, metric_func = rmse, get_probab = False, \n",
    "#                          save_varimp = False, params = params, oversmp = False, cv_shuffle=False)\n",
    "#    submit['FinalPrediction'] = np.exp(submit['FinalPrediction'])\n",
    "#    final_submit = pd.concat([df_test_metr['row_id'].reset_index(drop=True), pd.DataFrame(submit['FinalPrediction'], columns = [\"meter_reading\"])], axis = 1)\n",
    "\n",
    "#    perf_dict[f'site_id: {i} and meter: {j}'] = submit['AverageScore']\n",
    "#    final_sub_lst.append(final_submit)\n",
    "    "
   ]
  },
  {
   "cell_type": "code",
   "execution_count": 711,
   "metadata": {},
   "outputs": [
    {
     "data": {
      "text/plain": [
       "1.1126944256948046"
      ]
     },
     "execution_count": 711,
     "metadata": {},
     "output_type": "execute_result"
    }
   ],
   "source": [
    "np.array(list(perf_dict.values())).mean()"
   ]
  },
  {
   "cell_type": "code",
   "execution_count": 712,
   "metadata": {},
   "outputs": [
    {
     "data": {
      "text/plain": [
       "{'site_id: 1 and meter: 0': 0.9436965127952378,\n",
       " 'site_id: 1 and meter: 3': 1.7536019777012075,\n",
       " 'site_id: 2 and meter: 0': 0.4236846220734399,\n",
       " 'site_id: 2 and meter: 1': 1.3196357670829209,\n",
       " 'site_id: 2 and meter: 3': 1.0599529460881498,\n",
       " 'site_id: 3 and meter: 0': 0.5044996371510861,\n",
       " 'site_id: 4 and meter: 0': 0.2633281294246003,\n",
       " 'site_id: 5 and meter: 0': 1.0339934683942655,\n",
       " 'site_id: 6 and meter: 0': 0.3610909803732342,\n",
       " 'site_id: 6 and meter: 2': 1.936663850397755,\n",
       " 'site_id: 6 and meter: 1': 1.829501871252088,\n",
       " 'site_id: 7 and meter: 1': 1.4744508430026297,\n",
       " 'site_id: 7 and meter: 2': 1.630761393318019,\n",
       " 'site_id: 7 and meter: 0': 1.0568508169234978,\n",
       " 'site_id: 7 and meter: 3': 2.0341527254984464,\n",
       " 'site_id: 8 and meter: 0': 0.7200859580004222,\n",
       " 'site_id: 9 and meter: 1': 1.4073188586644434,\n",
       " 'site_id: 9 and meter: 2': 1.4964285262497876,\n",
       " 'site_id: 9 and meter: 0': 0.24292418896351073,\n",
       " 'site_id: 10 and meter: 0': 0.4535967228879327,\n",
       " 'site_id: 10 and meter: 1': 1.904013939596129,\n",
       " 'site_id: 10 and meter: 3': 2.1683800599850067,\n",
       " 'site_id: 11 and meter: 0': 0.1864973150176659,\n",
       " 'site_id: 11 and meter: 3': 1.1168480960007823,\n",
       " 'site_id: 11 and meter: 1': 1.2230667166380522,\n",
       " 'site_id: 12 and meter: 0': 0.31616377439919324,\n",
       " 'site_id: 13 and meter: 0': 0.3562581172121296,\n",
       " 'site_id: 13 and meter: 1': 1.1030382296867023,\n",
       " 'site_id: 13 and meter: 2': 1.7156134362578943,\n",
       " 'site_id: 14 and meter: 0': 0.31577814079998784,\n",
       " 'site_id: 14 and meter: 1': 1.8908069105868925,\n",
       " 'site_id: 14 and meter: 3': 2.0275771933631668,\n",
       " 'site_id: 14 and meter: 2': 1.888904734565168,\n",
       " 'site_id: 15 and meter: 3': 0.683766229185543,\n",
       " 'site_id: 15 and meter: 0': 0.2952355166751563,\n",
       " 'site_id: 15 and meter: 1': 0.6534971392224685,\n",
       " 'site_id: 15 and meter: 2': 1.0841073092362166,\n",
       " 'site_id: 0 and meter: 1': 2.1797628207063497,\n",
       " 'site_id: 0 and meter: 0': 0.3395471267201968}"
      ]
     },
     "execution_count": 712,
     "metadata": {},
     "output_type": "execute_result"
    }
   ],
   "source": [
    "perf_dict"
   ]
  },
  {
   "cell_type": "code",
   "execution_count": 495,
   "metadata": {},
   "outputs": [],
   "source": [
    "with open('rmse_siteid_meter_no_zeros_prophet_const.txt', 'w') as file:\n",
    "     file.write(json.dumps(perf_dict))"
   ]
  },
  {
   "cell_type": "code",
   "execution_count": 496,
   "metadata": {},
   "outputs": [],
   "source": [
    "sub = pd.concat(final_sub_lst, axis = 0).reset_index(drop = True)\n",
    "sub.to_csv(\"submit_lightgbm_by_site_3fold_prophet_const.csv.gz\", index = False, compression='gzip')"
   ]
  },
  {
   "cell_type": "code",
   "execution_count": null,
   "metadata": {},
   "outputs": [],
   "source": [
    "#submit['FinalPrediction'] = np.exp(submit['FinalPrediction'])"
   ]
  },
  {
   "cell_type": "code",
   "execution_count": null,
   "metadata": {},
   "outputs": [],
   "source": [
    "#submit['FinalPrediction']"
   ]
  },
  {
   "cell_type": "code",
   "execution_count": null,
   "metadata": {},
   "outputs": [],
   "source": [
    "#submit"
   ]
  },
  {
   "cell_type": "code",
   "execution_count": null,
   "metadata": {},
   "outputs": [],
   "source": [
    "#final_submit = pd.concat([df_test['row_id'], pd.DataFrame(submit['FinalPrediction'], columns = [\"meter_reading\"])], axis = 1)"
   ]
  },
  {
   "cell_type": "code",
   "execution_count": null,
   "metadata": {},
   "outputs": [],
   "source": [
    "#final_submit[\"meter_reading\"].describe()"
   ]
  },
  {
   "cell_type": "code",
   "execution_count": null,
   "metadata": {},
   "outputs": [],
   "source": [
    "#final_submit.to_csv(\"submit_lightgbm_default.csv.gz\", index = False, compression='gzip')"
   ]
  },
  {
   "cell_type": "code",
   "execution_count": 497,
   "metadata": {},
   "outputs": [
    {
     "name": "stdout",
     "output_type": "stream",
     "text": [
      "Warning: Your Kaggle API key is readable by other users on this system! To fix this, you can run 'chmod 600 /home/jovyan/.kaggle/kaggle.json'\n",
      "100%|████████████████████████████████████████| 475M/475M [00:09<00:00, 50.2MB/s]\n",
      "Successfully submitted to ASHRAE - Great Energy Predictor III"
     ]
    }
   ],
   "source": [
    "!kaggle competitions submit -c ashrae-energy-prediction -f submit_lightgbm_by_site_3fold_prophet_const.csv.gz -m \"lightgbm replace constant with prophet 3 folds\""
   ]
  },
  {
   "cell_type": "code",
   "execution_count": null,
   "metadata": {},
   "outputs": [],
   "source": []
  }
 ],
 "metadata": {
  "kernelspec": {
   "display_name": "Python 3",
   "language": "python",
   "name": "python3"
  },
  "language_info": {
   "codemirror_mode": {
    "name": "ipython",
    "version": 3
   },
   "file_extension": ".py",
   "mimetype": "text/x-python",
   "name": "python",
   "nbconvert_exporter": "python",
   "pygments_lexer": "ipython3",
   "version": "3.7.3"
  }
 },
 "nbformat": 4,
 "nbformat_minor": 2
}
