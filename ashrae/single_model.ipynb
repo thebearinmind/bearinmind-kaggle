{
 "cells": [
  {
   "cell_type": "code",
   "execution_count": 1,
   "metadata": {},
   "outputs": [
    {
     "name": "stderr",
     "output_type": "stream",
     "text": [
      "Using TensorFlow backend.\n",
      "/opt/conda/lib/python3.7/site-packages/tensorflow/python/framework/dtypes.py:516: FutureWarning: Passing (type, 1) or '1type' as a synonym of type is deprecated; in a future version of numpy, it will be understood as (type, (1,)) / '(1,)type'.\n",
      "  _np_qint8 = np.dtype([(\"qint8\", np.int8, 1)])\n",
      "/opt/conda/lib/python3.7/site-packages/tensorflow/python/framework/dtypes.py:517: FutureWarning: Passing (type, 1) or '1type' as a synonym of type is deprecated; in a future version of numpy, it will be understood as (type, (1,)) / '(1,)type'.\n",
      "  _np_quint8 = np.dtype([(\"quint8\", np.uint8, 1)])\n",
      "/opt/conda/lib/python3.7/site-packages/tensorflow/python/framework/dtypes.py:518: FutureWarning: Passing (type, 1) or '1type' as a synonym of type is deprecated; in a future version of numpy, it will be understood as (type, (1,)) / '(1,)type'.\n",
      "  _np_qint16 = np.dtype([(\"qint16\", np.int16, 1)])\n",
      "/opt/conda/lib/python3.7/site-packages/tensorflow/python/framework/dtypes.py:519: FutureWarning: Passing (type, 1) or '1type' as a synonym of type is deprecated; in a future version of numpy, it will be understood as (type, (1,)) / '(1,)type'.\n",
      "  _np_quint16 = np.dtype([(\"quint16\", np.uint16, 1)])\n",
      "/opt/conda/lib/python3.7/site-packages/tensorflow/python/framework/dtypes.py:520: FutureWarning: Passing (type, 1) or '1type' as a synonym of type is deprecated; in a future version of numpy, it will be understood as (type, (1,)) / '(1,)type'.\n",
      "  _np_qint32 = np.dtype([(\"qint32\", np.int32, 1)])\n",
      "/opt/conda/lib/python3.7/site-packages/tensorflow/python/framework/dtypes.py:525: FutureWarning: Passing (type, 1) or '1type' as a synonym of type is deprecated; in a future version of numpy, it will be understood as (type, (1,)) / '(1,)type'.\n",
      "  np_resource = np.dtype([(\"resource\", np.ubyte, 1)])\n",
      "/opt/conda/lib/python3.7/site-packages/tensorboard/compat/tensorflow_stub/dtypes.py:541: FutureWarning: Passing (type, 1) or '1type' as a synonym of type is deprecated; in a future version of numpy, it will be understood as (type, (1,)) / '(1,)type'.\n",
      "  _np_qint8 = np.dtype([(\"qint8\", np.int8, 1)])\n",
      "/opt/conda/lib/python3.7/site-packages/tensorboard/compat/tensorflow_stub/dtypes.py:542: FutureWarning: Passing (type, 1) or '1type' as a synonym of type is deprecated; in a future version of numpy, it will be understood as (type, (1,)) / '(1,)type'.\n",
      "  _np_quint8 = np.dtype([(\"quint8\", np.uint8, 1)])\n",
      "/opt/conda/lib/python3.7/site-packages/tensorboard/compat/tensorflow_stub/dtypes.py:543: FutureWarning: Passing (type, 1) or '1type' as a synonym of type is deprecated; in a future version of numpy, it will be understood as (type, (1,)) / '(1,)type'.\n",
      "  _np_qint16 = np.dtype([(\"qint16\", np.int16, 1)])\n",
      "/opt/conda/lib/python3.7/site-packages/tensorboard/compat/tensorflow_stub/dtypes.py:544: FutureWarning: Passing (type, 1) or '1type' as a synonym of type is deprecated; in a future version of numpy, it will be understood as (type, (1,)) / '(1,)type'.\n",
      "  _np_quint16 = np.dtype([(\"quint16\", np.uint16, 1)])\n",
      "/opt/conda/lib/python3.7/site-packages/tensorboard/compat/tensorflow_stub/dtypes.py:545: FutureWarning: Passing (type, 1) or '1type' as a synonym of type is deprecated; in a future version of numpy, it will be understood as (type, (1,)) / '(1,)type'.\n",
      "  _np_qint32 = np.dtype([(\"qint32\", np.int32, 1)])\n",
      "/opt/conda/lib/python3.7/site-packages/tensorboard/compat/tensorflow_stub/dtypes.py:550: FutureWarning: Passing (type, 1) or '1type' as a synonym of type is deprecated; in a future version of numpy, it will be understood as (type, (1,)) / '(1,)type'.\n",
      "  np_resource = np.dtype([(\"resource\", np.ubyte, 1)])\n"
     ]
    }
   ],
   "source": [
    "import sys\n",
    "#sys.path.insert(0, '/home/jovyan/work/Molecular_Properties/model-pipeline/src')\n",
    "import pandas as pd\n",
    "import warnings\n",
    "import numpy as np\n",
    "from sklearn.preprocessing import LabelEncoder, OneHotEncoder\n",
    "#from model_construction import prepare_data_split, run_model, show_varimp\n",
    "from bearinmind_pipeline.data_preprocessing import dataPreprocessing as dp\n",
    "#from bearinmind_pipeline.model_construction import modelBuilder as mb\n",
    "import bearinmind_pipeline.model_construction as mc\n",
    "from numpy import inf\n",
    "from sklearn.metrics import mean_squared_error\n",
    "from math import sqrt\n",
    "import gc\n",
    "from tqdm import tqdm_notebook, tqdm \n",
    "import matplotlib.pyplot as plt\n",
    "import datetime\n",
    "import json\n",
    "from scipy import stats\n",
    "import holidays\n",
    "from fbprophet import Prophet\n",
    "from fbprophet.diagnostics import cross_validation\n",
    "from fbprophet.diagnostics import performance_metrics\n",
    "import seaborn as sns\n",
    "pd.set_option('display.max_columns', 500)\n",
    "pd.set_option('display.float_format', lambda x: '%.3f' % x)"
   ]
  },
  {
   "cell_type": "code",
   "execution_count": 199,
   "metadata": {},
   "outputs": [],
   "source": [
    "df_train = pd.read_csv('./data/train.csv')\n",
    "df_test = pd.read_csv('./data/test.csv')\n",
    "mapping = pd.read_csv('./data/building_metadata.csv')"
   ]
  },
  {
   "cell_type": "code",
   "execution_count": 200,
   "metadata": {},
   "outputs": [],
   "source": [
    "weather_train = pd.read_csv('./data/weather_train.csv')\n",
    "weather_test = pd.read_csv('./data/weather_test.csv')"
   ]
  },
  {
   "cell_type": "code",
   "execution_count": 201,
   "metadata": {},
   "outputs": [],
   "source": [
    "### Add Holidays ###\n",
    "def get_holidays(df):\n",
    "    en_holidays = holidays.England()\n",
    "    ir_holidays = holidays.Ireland()\n",
    "    ca_holidays = holidays.Canada()\n",
    "    us_holidays = holidays.UnitedStates()\n",
    "    en_idx = df.query('site_id == 1 or site_id == 5').index\n",
    "    ir_idx = df.query('site_id == 12').index\n",
    "    ca_idx = df.query('site_id == 7 or site_id == 11').index\n",
    "    us_idx = df.query('site_id == 0 or site_id == 2 or site_id == 3 or site_id == 4 or site_id == 6 or site_id == 8 or site_id == 9 or site_id == 10 or site_id == 13 or site_id == 14 or site_id == 15').index\n",
    "    df['IsHoliday'] = 0\n",
    "    df.loc[en_idx, 'IsHoliday'] = df.loc[en_idx, 'timestamp'].apply(lambda x: en_holidays.get(x, default=0))\n",
    "    df.loc[ir_idx, 'IsHoliday'] = df.loc[ir_idx, 'timestamp'].apply(lambda x: ir_holidays.get(x, default=0))\n",
    "    df.loc[ca_idx, 'IsHoliday'] = df.loc[ca_idx, 'timestamp'].apply(lambda x: ca_holidays.get(x, default=0))\n",
    "    df.loc[us_idx, 'IsHoliday'] = df.loc[us_idx, 'timestamp'].apply(lambda x: us_holidays.get(x, default=0))\n",
    "    holiday_idx = df['IsHoliday'] != 0\n",
    "    df.loc[holiday_idx, 'IsHoliday'] = 1\n",
    "    df['IsHoliday'] = df['IsHoliday'].astype(np.uint8)\n",
    "    \n",
    "    return df"
   ]
  },
  {
   "cell_type": "code",
   "execution_count": 202,
   "metadata": {},
   "outputs": [],
   "source": [
    "weather_train = get_holidays(weather_train)\n",
    "weather_test = get_holidays(weather_test)"
   ]
  },
  {
   "cell_type": "code",
   "execution_count": 203,
   "metadata": {},
   "outputs": [],
   "source": [
    "timediff = {0:4,1:0,2:7,3:4,4:7,5:0,6:4,7:4,8:4,9:5,10:7,11:4,12:0,13:5,14:4,15:4}\n",
    "weather_train['timediff']= weather_train['site_id'].map(timediff)\n",
    "weather_test['timediff']= weather_test['site_id'].map(timediff)\n",
    "\n",
    "weather_train['timediff'] = weather_train['timediff'].apply(lambda x: datetime.timedelta(hours=x))\n",
    "weather_test['timediff'] = weather_test['timediff'].apply(lambda x: datetime.timedelta(hours=x))\n",
    "\n",
    "weather_train['timestamp'] = pd.to_datetime(weather_train['timestamp']) \n",
    "weather_test['timestamp'] = pd.to_datetime(weather_test['timestamp'])\n",
    "\n",
    "weather_train['timestamp'] = weather_train['timestamp'] - weather_train['timediff']\n",
    "weather_test['timestamp'] = weather_test['timestamp'] - weather_test['timediff']"
   ]
  },
  {
   "cell_type": "code",
   "execution_count": 204,
   "metadata": {},
   "outputs": [
    {
     "data": {
      "text/html": [
       "<div>\n",
       "<style scoped>\n",
       "    .dataframe tbody tr th:only-of-type {\n",
       "        vertical-align: middle;\n",
       "    }\n",
       "\n",
       "    .dataframe tbody tr th {\n",
       "        vertical-align: top;\n",
       "    }\n",
       "\n",
       "    .dataframe thead th {\n",
       "        text-align: right;\n",
       "    }\n",
       "</style>\n",
       "<table border=\"1\" class=\"dataframe\">\n",
       "  <thead>\n",
       "    <tr style=\"text-align: right;\">\n",
       "      <th></th>\n",
       "      <th>site_id</th>\n",
       "      <th>timestamp</th>\n",
       "      <th>air_temperature</th>\n",
       "      <th>cloud_coverage</th>\n",
       "      <th>dew_temperature</th>\n",
       "      <th>precip_depth_1_hr</th>\n",
       "      <th>sea_level_pressure</th>\n",
       "      <th>wind_direction</th>\n",
       "      <th>wind_speed</th>\n",
       "      <th>IsHoliday</th>\n",
       "      <th>timediff</th>\n",
       "    </tr>\n",
       "  </thead>\n",
       "  <tbody>\n",
       "    <tr>\n",
       "      <td>0</td>\n",
       "      <td>0</td>\n",
       "      <td>2015-12-31 20:00:00</td>\n",
       "      <td>25.000</td>\n",
       "      <td>6.000</td>\n",
       "      <td>20.000</td>\n",
       "      <td>nan</td>\n",
       "      <td>1019.700</td>\n",
       "      <td>0.000</td>\n",
       "      <td>0.000</td>\n",
       "      <td>1</td>\n",
       "      <td>04:00:00</td>\n",
       "    </tr>\n",
       "    <tr>\n",
       "      <td>1</td>\n",
       "      <td>0</td>\n",
       "      <td>2015-12-31 21:00:00</td>\n",
       "      <td>24.400</td>\n",
       "      <td>nan</td>\n",
       "      <td>21.100</td>\n",
       "      <td>-1.000</td>\n",
       "      <td>1020.200</td>\n",
       "      <td>70.000</td>\n",
       "      <td>1.500</td>\n",
       "      <td>1</td>\n",
       "      <td>04:00:00</td>\n",
       "    </tr>\n",
       "    <tr>\n",
       "      <td>2</td>\n",
       "      <td>0</td>\n",
       "      <td>2015-12-31 22:00:00</td>\n",
       "      <td>22.800</td>\n",
       "      <td>2.000</td>\n",
       "      <td>21.100</td>\n",
       "      <td>0.000</td>\n",
       "      <td>1020.200</td>\n",
       "      <td>0.000</td>\n",
       "      <td>0.000</td>\n",
       "      <td>1</td>\n",
       "      <td>04:00:00</td>\n",
       "    </tr>\n",
       "    <tr>\n",
       "      <td>3</td>\n",
       "      <td>0</td>\n",
       "      <td>2015-12-31 23:00:00</td>\n",
       "      <td>21.100</td>\n",
       "      <td>2.000</td>\n",
       "      <td>20.600</td>\n",
       "      <td>0.000</td>\n",
       "      <td>1020.100</td>\n",
       "      <td>0.000</td>\n",
       "      <td>0.000</td>\n",
       "      <td>1</td>\n",
       "      <td>04:00:00</td>\n",
       "    </tr>\n",
       "    <tr>\n",
       "      <td>4</td>\n",
       "      <td>0</td>\n",
       "      <td>2016-01-01 00:00:00</td>\n",
       "      <td>20.000</td>\n",
       "      <td>2.000</td>\n",
       "      <td>20.000</td>\n",
       "      <td>-1.000</td>\n",
       "      <td>1020.000</td>\n",
       "      <td>250.000</td>\n",
       "      <td>2.600</td>\n",
       "      <td>1</td>\n",
       "      <td>04:00:00</td>\n",
       "    </tr>\n",
       "  </tbody>\n",
       "</table>\n",
       "</div>"
      ],
      "text/plain": [
       "   site_id           timestamp  air_temperature  cloud_coverage  \\\n",
       "0        0 2015-12-31 20:00:00           25.000           6.000   \n",
       "1        0 2015-12-31 21:00:00           24.400             nan   \n",
       "2        0 2015-12-31 22:00:00           22.800           2.000   \n",
       "3        0 2015-12-31 23:00:00           21.100           2.000   \n",
       "4        0 2016-01-01 00:00:00           20.000           2.000   \n",
       "\n",
       "   dew_temperature  precip_depth_1_hr  sea_level_pressure  wind_direction  \\\n",
       "0           20.000                nan            1019.700           0.000   \n",
       "1           21.100             -1.000            1020.200          70.000   \n",
       "2           21.100              0.000            1020.200           0.000   \n",
       "3           20.600              0.000            1020.100           0.000   \n",
       "4           20.000             -1.000            1020.000         250.000   \n",
       "\n",
       "   wind_speed  IsHoliday timediff  \n",
       "0       0.000          1 04:00:00  \n",
       "1       1.500          1 04:00:00  \n",
       "2       0.000          1 04:00:00  \n",
       "3       0.000          1 04:00:00  \n",
       "4       2.600          1 04:00:00  "
      ]
     },
     "execution_count": 204,
     "metadata": {},
     "output_type": "execute_result"
    }
   ],
   "source": [
    "weather_train.head()"
   ]
  },
  {
   "cell_type": "code",
   "execution_count": 205,
   "metadata": {},
   "outputs": [],
   "source": [
    "df_train = df_train.merge(mapping, how = \"left\", on = \"building_id\")\n",
    "df_test = df_test.merge(mapping, how = \"left\", on = \"building_id\")"
   ]
  },
  {
   "cell_type": "code",
   "execution_count": 207,
   "metadata": {},
   "outputs": [],
   "source": [
    "df_train['timestamp'] = pd.to_datetime(df_train['timestamp'])\n",
    "df_test['timestamp'] = pd.to_datetime(df_test['timestamp'])"
   ]
  },
  {
   "cell_type": "code",
   "execution_count": 208,
   "metadata": {},
   "outputs": [],
   "source": [
    "df_train = df_train.merge(weather_train, how = \"left\", on = [\"site_id\", \"timestamp\"])\n",
    "df_test = df_test.merge(weather_test, how = \"left\", on =  [\"site_id\", \"timestamp\"])"
   ]
  },
  {
   "cell_type": "code",
   "execution_count": 157,
   "metadata": {},
   "outputs": [],
   "source": [
    "del weather_train \n",
    "del weather_test"
   ]
  },
  {
   "cell_type": "code",
   "execution_count": 211,
   "metadata": {},
   "outputs": [],
   "source": [
    "df_train = df_train.drop(['timediff'], axis = 1)\n",
    "df_test = df_test.drop(['timediff'], axis = 1)"
   ]
  },
  {
   "cell_type": "code",
   "execution_count": 476,
   "metadata": {},
   "outputs": [],
   "source": [
    "def rmsle(y, yhat):\n",
    "    score = np.sqrt(np.mean(np.power(np.log(yhat+1)-np.log(y.reset_index(drop=True)+1), 2)))\n",
    "    return(score)"
   ]
  },
  {
   "cell_type": "code",
   "execution_count": 123,
   "metadata": {},
   "outputs": [],
   "source": [
    "# Check one building\n",
    "df_train_build = df_train[(df_train['building_id'] == 46) & (df_train['meter'] == 0)]"
   ]
  },
  {
   "cell_type": "code",
   "execution_count": 214,
   "metadata": {},
   "outputs": [],
   "source": [
    "### Intrapolate cloud coverage\n",
    "df_train['cloud_coverage'] = df_train.groupby(['building_id', 'meter'])['cloud_coverage'].apply(lambda x : x.interpolate(method = \"spline\", order = 1,limit_direction = \"both\", limit = 1000))\n",
    "df_test['cloud_coverage'] = df_test.groupby(['building_id', 'meter'])['cloud_coverage'].apply(lambda x : x.interpolate(method = \"spline\", order = 1, limit_direction = \"both\", limit = 1000))"
   ]
  },
  {
   "cell_type": "code",
   "execution_count": null,
   "metadata": {},
   "outputs": [],
   "source": [
    "### Intrapolate air temperature\n",
    "df_train['air_temperature'] = df_train.groupby(['building_id', 'meter'])['air_temperature'].apply(lambda x : x.interpolate(method = \"spline\", order = 1, limit_direction = \"both\"))\n",
    "df_test['air_temperature'] = df_test.groupby(['building_id', 'meter'])['air_temperature'].apply(lambda x : x.interpolate(method = \"spline\", order = 1, limit_direction = \"both\"))"
   ]
  },
  {
   "cell_type": "code",
   "execution_count": null,
   "metadata": {},
   "outputs": [],
   "source": [
    "df_train.head()"
   ]
  },
  {
   "cell_type": "code",
   "execution_count": null,
   "metadata": {},
   "outputs": [],
   "source": [
    "#### Take a Sample ####\n",
    "#df_train = df_train.sample(n=int(df_train.shape[0]*0.1), random_state=1)\n",
    "#df_test = df_test.sample(n=int(df_test.shape[0]*0.1), random_state=1)"
   ]
  },
  {
   "cell_type": "code",
   "execution_count": null,
   "metadata": {},
   "outputs": [],
   "source": [
    "#df_train[\"Month\"] = pd.to_datetime(df_train[\"timestamp\"]).dt.month\n",
    "#df_test[\"Month\"] = pd.to_datetime(df_test[\"timestamp\"]).dt.month"
   ]
  },
  {
   "cell_type": "code",
   "execution_count": null,
   "metadata": {},
   "outputs": [],
   "source": [
    "df_train[\"Day\"] = pd.to_datetime(df_train[\"timestamp\"]).dt.day\n",
    "df_test[\"Day\"] = pd.to_datetime(df_test[\"timestamp\"]).dt.day"
   ]
  },
  {
   "cell_type": "code",
   "execution_count": null,
   "metadata": {},
   "outputs": [],
   "source": [
    "df_train[\"Hour\"] = pd.to_datetime(df_train[\"timestamp\"]).dt.hour\n",
    "df_test[\"Hour\"] = pd.to_datetime(df_test[\"timestamp\"]).dt.hour"
   ]
  },
  {
   "cell_type": "code",
   "execution_count": null,
   "metadata": {},
   "outputs": [],
   "source": [
    "#df_train.to_csv(\"df_train.csv\", index = False)\n",
    "#df_test.to_csv(\"df_test.csv\", index = False)"
   ]
  },
  {
   "cell_type": "code",
   "execution_count": null,
   "metadata": {},
   "outputs": [],
   "source": [
    "#df_train = pd.read_csv('./df_train.csv')\n",
    "#df_test = pd.read_csv('./df_test.csv')"
   ]
  },
  {
   "cell_type": "code",
   "execution_count": null,
   "metadata": {},
   "outputs": [],
   "source": [
    "plt.plot(pd.to_datetime(df_train[(df_train['building_id']==0) & (df_train['meter']==0)]['timestamp']).dt.date, df_train[(df_train['building_id']==0) & (df_train['meter']==0)]['precip_depth_1_hr'])"
   ]
  },
  {
   "cell_type": "code",
   "execution_count": null,
   "metadata": {},
   "outputs": [],
   "source": [
    "df_train['precip_depth_1_hr'] = df_train.groupby(['building_id', 'meter'])['precip_depth_1_hr'].apply(lambda x : x.interpolate(method = \"linear\", order = 1, limit_direction = \"both\"))\n",
    "df_test['precip_depth_1_hr'] = df_test.groupby(['building_id', 'meter'])['precip_depth_1_hr'].apply(lambda x : x.interpolate(method = \"linear\", order = 1, limit_direction = \"both\"))"
   ]
  },
  {
   "cell_type": "code",
   "execution_count": null,
   "metadata": {},
   "outputs": [],
   "source": [
    "df_train['sea_level_pressure'] = df_train.groupby(['building_id', 'meter'])['sea_level_pressure'].apply(lambda x : x.interpolate(method = \"linear\", order = 1, limit_direction = \"both\"))\n",
    "df_test['sea_level_pressure'] = df_test.groupby(['building_id', 'meter'])['sea_level_pressure'].apply(lambda x : x.interpolate(method = \"linear\", order = 1, limit_direction = \"both\"))"
   ]
  },
  {
   "cell_type": "code",
   "execution_count": null,
   "metadata": {},
   "outputs": [],
   "source": [
    "df_train['wind_direction'] = df_train.groupby(['building_id', 'meter'])['wind_direction'].apply(lambda x : x.interpolate(method = \"linear\", order = 1, limit_direction = \"both\"))\n",
    "df_test['wind_direction'] = df_test.groupby(['building_id', 'meter'])['wind_direction'].apply(lambda x : x.interpolate(method = \"linear\", order = 1, limit_direction = \"both\"))"
   ]
  },
  {
   "cell_type": "code",
   "execution_count": null,
   "metadata": {},
   "outputs": [],
   "source": [
    "df_train['wind_speed'] = df_train.groupby(['building_id', 'meter'])['wind_speed'].apply(lambda x : x.interpolate(method = \"linear\", order = 1, limit_direction = \"both\"))\n",
    "df_test['wind_speed'] = df_test.groupby(['building_id', 'meter'])['wind_speed'].apply(lambda x : x.interpolate(method = \"linear\", order = 1, limit_direction = \"both\"))"
   ]
  },
  {
   "cell_type": "code",
   "execution_count": null,
   "metadata": {},
   "outputs": [],
   "source": [
    "df_train['dew_temperature'] = df_train.groupby(['building_id', 'meter'])['dew_temperature'].apply(lambda x : x.interpolate(method = \"linear\", order = 1, limit_direction = \"both\"))\n",
    "df_test['dew_temperature'] = df_test.groupby(['building_id', 'meter'])['dew_temperature'].apply(lambda x : x.interpolate(method = \"linear\", order = 1, limit_direction = \"both\"))"
   ]
  },
  {
   "cell_type": "code",
   "execution_count": null,
   "metadata": {},
   "outputs": [],
   "source": [
    "df_train[\"DayOfWeek\"] = pd.to_datetime(df_train[\"timestamp\"]).dt.dayofweek\n",
    "df_test[\"DayOfWeek\"] = pd.to_datetime(df_test[\"timestamp\"]).dt.dayofweek"
   ]
  },
  {
   "cell_type": "code",
   "execution_count": null,
   "metadata": {},
   "outputs": [],
   "source": [
    "df_train.head()"
   ]
  },
  {
   "cell_type": "code",
   "execution_count": null,
   "metadata": {},
   "outputs": [],
   "source": [
    "#df_train = dp.create_stats_features(df_train, 'dew_temperature', ['site_id', 'Month'])\n",
    "#df_test = dp.create_stats_features(df_test, 'dew_temperature', ['site_id', 'Month'])"
   ]
  },
  {
   "cell_type": "code",
   "execution_count": null,
   "metadata": {},
   "outputs": [],
   "source": [
    "#df_train[\"air_temperature_log\"] = np.log(df_train['air_temperature'])\n",
    "#df_test[\"air_temperature_log\"] = np.log(df_test['air_temperature'])"
   ]
  },
  {
   "cell_type": "code",
   "execution_count": null,
   "metadata": {},
   "outputs": [],
   "source": [
    "#df_train[\"Age\"] = pd.to_datetime(df_train[\"timestamp\"]).dt.year - df_train[\"year_built\"]\n",
    "#df_test[\"Age\"] = pd.to_datetime(df_test[\"timestamp\"]).dt.year - df_test[\"year_built\"]"
   ]
  },
  {
   "cell_type": "code",
   "execution_count": null,
   "metadata": {},
   "outputs": [],
   "source": [
    "### Clean Electricity ###\n",
    "df_train = df_train[~((df_train['site_id'] == 0) & (df_train['meter'] == 0) & (pd.to_datetime(df_train['timestamp']) < pd.to_datetime('2016-05-20 18:00:00')))]"
   ]
  },
  {
   "cell_type": "code",
   "execution_count": null,
   "metadata": {},
   "outputs": [],
   "source": [
    "df_train = df_train[~((df_train['building_id'] == 799) & (df_train['meter'] == 0) & (pd.to_datetime(df_train['timestamp']) < pd.to_datetime('2016-06-01 12:00:00')))]\n",
    "df_train = df_train[~((df_train['building_id'] == 802) & (df_train['meter'] == 0) & (pd.to_datetime(df_train['timestamp']) < pd.to_datetime('2016-08-23 08:00:00')))]\n",
    "df_train = df_train[~((df_train['building_id'] == 803) & (df_train['meter'] == 0) & (pd.to_datetime(df_train['timestamp']) > pd.to_datetime('2016-09-24 20:00:00')))]"
   ]
  },
  {
   "cell_type": "code",
   "execution_count": 237,
   "metadata": {},
   "outputs": [],
   "source": [
    "df_train.to_csv(\"df_train.csv.gz\", index = False, compression = 'gzip')\n",
    "df_test.to_csv(\"df_test.csv.gz\", index = False, compression = 'gzip')"
   ]
  },
  {
   "cell_type": "code",
   "execution_count": 2,
   "metadata": {},
   "outputs": [],
   "source": [
    "df_train = pd.read_csv('./df_train.csv.gz', compression = 'gzip')\n",
    "df_test = pd.read_csv('./df_test.csv.gz', compression = 'gzip')"
   ]
  },
  {
   "cell_type": "code",
   "execution_count": 399,
   "metadata": {},
   "outputs": [],
   "source": [
    "### Lags for cloud coverage and air temperature\n",
    "#for i in range(12):\n",
    "#    df_train[f'cloud_coverage_lag{i+1}'] = df_train.groupby(['building_id', 'meter'])['cloud_coverage'].shift(i+1)\n",
    "#    df_test[f'cloud_coverage_lag{i+1}'] = df_test.groupby(['building_id', 'meter'])['cloud_coverage'].shift(i+1)\n",
    "#    df_train[f'air_temperature_lag{i+1}'] = df_train.groupby(['building_id', 'meter'])['air_temperature'].shift(i+1)\n",
    "#    df_test[f'air_temperature_lag{i+1}'] = df_test.groupby(['building_id', 'meter'])['air_temperature'].shift(i+1)"
   ]
  },
  {
   "cell_type": "code",
   "execution_count": 3,
   "metadata": {},
   "outputs": [],
   "source": [
    "### Drop zero values in Electricity ###\n",
    "df_train = df_train.drop(df_train[(df_train['meter'] == 0) \n",
    "                       & (df_train['meter_reading'] == 0.0)].index)"
   ]
  },
  {
   "cell_type": "code",
   "execution_count": 26,
   "metadata": {},
   "outputs": [],
   "source": [
    "def create_add_features(df):\n",
    "    df['relative_humidity'] = 100-5*(df['air_temperature'] - df['dew_temperature'])\n",
    "    df['air_density_dry'] = df['sea_level_pressure']/(287.058 * df['air_temperature'])\n",
    "    df['vapor_pressure_water_satur'] = 6.102*10**((7.5*df['air_temperature'])/(df['air_temperature']+237.8))\n",
    "    df['vapor_pressure_water'] =  df['relative_humidity']*df['vapor_pressure_water_satur']\n",
    "    df['partial_press_dry'] = df['sea_level_pressure']-df['vapor_pressure_water'] \n",
    "    df['air_density_humid'] = (df['partial_press_dry']*0.0289654+df['vapor_pressure_water'] *0.018016)/8.314*df['air_temperature']\n",
    "    \n",
    "    return df"
   ]
  },
  {
   "cell_type": "code",
   "execution_count": 5,
   "metadata": {},
   "outputs": [],
   "source": [
    "df_train = create_add_features(df_train)"
   ]
  },
  {
   "cell_type": "code",
   "execution_count": 6,
   "metadata": {},
   "outputs": [],
   "source": [
    "df_train = df_train[~((df_train['building_id'] == 106) & (df_train['meter'] == 0) & (pd.to_datetime(df_train['timestamp']) < pd.to_datetime('2016-11-01 08:00:00')))]\n",
    "df_train = df_train[~((df_train['building_id'] == 112) & (df_train['meter'] == 0) & (pd.to_datetime(df_train['timestamp']) < pd.to_datetime('2016-11-01 08:00:00')))]\n",
    "df_train = df_train[~((df_train['building_id'] == 144) & (df_train['meter'] == 0) & \n",
    "                      (pd.to_datetime(df_train['timestamp']) > pd.to_datetime('2016-03-08 13:00:00')) & \n",
    "                     (pd.to_datetime(df_train['timestamp']) < pd.to_datetime('2016-10-11 16:00:00')))]\n",
    "df_train = df_train[~((df_train['building_id'] == 107) & (df_train['meter'] == 0) & \n",
    "                      ((pd.to_datetime(df_train['timestamp']) < pd.to_datetime('2016-07-06 12:00:00')) | \n",
    "                     (pd.to_datetime(df_train['timestamp']) > pd.to_datetime('2016-11-10 02:00:00'))))]"
   ]
  },
  {
   "cell_type": "code",
   "execution_count": 7,
   "metadata": {},
   "outputs": [],
   "source": [
    "df_train = df_train[~((df_train['building_id'] == 740) & (df_train['meter'] == 0))] "
   ]
  },
  {
   "cell_type": "code",
   "execution_count": 8,
   "metadata": {},
   "outputs": [],
   "source": [
    "df_train = df_train[~((df_train['building_id'] == 1241) & (df_train['meter'] == 3) & (pd.to_datetime(df_train['timestamp']) > pd.to_datetime('2016-05-22 14:00:00')))]"
   ]
  },
  {
   "cell_type": "code",
   "execution_count": 9,
   "metadata": {},
   "outputs": [],
   "source": [
    "df_train = df_train[~((df_train['building_id'] == 60) & (df_train['meter'] == 1) & (df_train['meter_reading'] > 5000))] "
   ]
  },
  {
   "cell_type": "code",
   "execution_count": 10,
   "metadata": {},
   "outputs": [],
   "source": [
    "df_train = df_train[~((df_train['building_id'] == 103) & (df_train['meter'] == 1) & (df_train['meter_reading'] > 5000))] "
   ]
  },
  {
   "cell_type": "code",
   "execution_count": 11,
   "metadata": {},
   "outputs": [],
   "source": [
    "df_train = df_train[~((df_train['building_id'] == 799) & (df_train['meter'] == 0) & (pd.to_datetime(df_train['timestamp']) < pd.to_datetime('2016-11-03 13:00:00')))]"
   ]
  },
  {
   "cell_type": "code",
   "execution_count": 12,
   "metadata": {},
   "outputs": [],
   "source": [
    "df_train = df_train[~((df_train['building_id'] == 751) & (df_train['meter'] == 2) & (pd.to_datetime(df_train['timestamp']) < pd.to_datetime('2016-02-03 07:00:00')))]"
   ]
  },
  {
   "cell_type": "code",
   "execution_count": 13,
   "metadata": {},
   "outputs": [],
   "source": [
    "df_train = df_train[~((df_train['building_id'] == 758) & (df_train['meter'] == 2) & (pd.to_datetime(df_train['timestamp']) > pd.to_datetime('2016-03-07 12:00:00')))]"
   ]
  },
  {
   "cell_type": "code",
   "execution_count": 14,
   "metadata": {},
   "outputs": [],
   "source": [
    "df_train = df_train[~((df_train['building_id'] == 783) & (df_train['meter'] == 2) & (pd.to_datetime(df_train['timestamp']) < pd.to_datetime('2016-12-09 14:00:00')))]  "
   ]
  },
  {
   "cell_type": "code",
   "execution_count": 15,
   "metadata": {},
   "outputs": [],
   "source": [
    "df_train = df_train[~((df_train['building_id'] == 1238) & (df_train['meter'] == 2) & \n",
    "                      ((pd.to_datetime(df_train['timestamp']) > pd.to_datetime('2016-01-20 14:00:00')) & \n",
    "                     (pd.to_datetime(df_train['timestamp']) < pd.to_datetime('2016-05-26 20:00:00'))))]"
   ]
  },
  {
   "cell_type": "code",
   "execution_count": 16,
   "metadata": {},
   "outputs": [],
   "source": [
    "df_train = df_train[~((df_train['building_id'] == 1250) & (df_train['meter'] == 2) & (pd.to_datetime(df_train['timestamp']) < pd.to_datetime('2016-12-21 16:00:00')))]  "
   ]
  },
  {
   "cell_type": "code",
   "execution_count": 17,
   "metadata": {},
   "outputs": [],
   "source": [
    "df_train = df_train[~((df_train['building_id'] == 1303) & (df_train['meter'] == 2) & \n",
    "                      ((pd.to_datetime(df_train['timestamp']) > pd.to_datetime('2016-01-15 12:00:00')) & \n",
    "                     (pd.to_datetime(df_train['timestamp']) < pd.to_datetime('2016-06-06 19:00:00'))))]       "
   ]
  },
  {
   "cell_type": "code",
   "execution_count": 18,
   "metadata": {},
   "outputs": [],
   "source": [
    "df_train = df_train[~((df_train['building_id'] == 1072) & (df_train['meter'] == 2) & (pd.to_datetime(df_train['timestamp']) < pd.to_datetime('2016-07-25 13:00:00')))]  "
   ]
  },
  {
   "cell_type": "code",
   "execution_count": 19,
   "metadata": {},
   "outputs": [],
   "source": [
    "df_train = df_train[~((df_train['building_id'] == 1176) & (df_train['meter'] == 2) & (pd.to_datetime(df_train['timestamp']) < pd.to_datetime('2016-02-10 16:00:00')))]   "
   ]
  },
  {
   "cell_type": "code",
   "execution_count": 20,
   "metadata": {},
   "outputs": [],
   "source": [
    "df_train = df_train[~((df_train['building_id'] == 1189) & (df_train['meter'] == 2) & (pd.to_datetime(df_train['timestamp']) < pd.to_datetime('2016-02-10 16:00:00')))]   "
   ]
  },
  {
   "cell_type": "code",
   "execution_count": 21,
   "metadata": {},
   "outputs": [],
   "source": [
    "df_train = df_train[~((df_train['building_id'] == 188) & (df_train['meter'] == 1) & \n",
    "                      ((pd.to_datetime(df_train['timestamp']) > pd.to_datetime('2016-09-09 15:00:00')) & \n",
    "                     (pd.to_datetime(df_train['timestamp']) < pd.to_datetime('2016-11-07 13:00:00'))))]  "
   ]
  },
  {
   "cell_type": "code",
   "execution_count": 22,
   "metadata": {},
   "outputs": [],
   "source": [
    "df_train = df_train[~((df_train['building_id'] == 190) & (df_train['meter'] == 1) & (pd.to_datetime(df_train['timestamp']) < pd.to_datetime('2016-02-08 10:00:00')))]   "
   ]
  },
  {
   "cell_type": "code",
   "execution_count": 23,
   "metadata": {},
   "outputs": [],
   "source": [
    "df_train = df_train[~((df_train['building_id'] == 207) & (df_train['meter'] == 1) & \n",
    "                      ((pd.to_datetime(df_train['timestamp']) > pd.to_datetime('2016-07-02 20:00:00')) & \n",
    "                     (pd.to_datetime(df_train['timestamp']) < pd.to_datetime('2016-08-25 12:00:00'))))]  "
   ]
  },
  {
   "cell_type": "code",
   "execution_count": 24,
   "metadata": {},
   "outputs": [],
   "source": [
    "df_train = df_train[~((df_train['building_id'] == 236) & (df_train['meter'] == 1) & \n",
    "                      ((pd.to_datetime(df_train['timestamp']) > pd.to_datetime('2016-01-23 12:00:00')) & \n",
    "                     (pd.to_datetime(df_train['timestamp']) < pd.to_datetime('2016-03-21 13:00:00'))))] "
   ]
  },
  {
   "cell_type": "code",
   "execution_count": 25,
   "metadata": {},
   "outputs": [],
   "source": [
    "df_train = df_train[~((df_train['building_id'] == 264) & (df_train['meter'] == 1) & (pd.to_datetime(df_train['timestamp']) < pd.to_datetime('2016-02-08 11:00:00')))]          "
   ]
  },
  {
   "cell_type": "code",
   "execution_count": 26,
   "metadata": {},
   "outputs": [],
   "source": [
    "df_train = df_train[~((df_train['building_id'] == 260) & (df_train['meter'] == 1) & \n",
    "                      ((pd.to_datetime(df_train['timestamp']) > pd.to_datetime('2016-05-10 21:00:00')) & \n",
    "                     (pd.to_datetime(df_train['timestamp']) < pd.to_datetime('2016-08-17 11:00:00'))))] "
   ]
  },
  {
   "cell_type": "code",
   "execution_count": 27,
   "metadata": {},
   "outputs": [],
   "source": [
    "df_train = df_train[~((df_train['building_id'] == 260) & (df_train['meter'] == 1) & \n",
    "                      ((pd.to_datetime(df_train['timestamp']) > pd.to_datetime('2016-08-28 02:00:00')) & \n",
    "                     (pd.to_datetime(df_train['timestamp']) < pd.to_datetime('2016-10-31 13:00:00'))))] "
   ]
  },
  {
   "cell_type": "code",
   "execution_count": 28,
   "metadata": {},
   "outputs": [],
   "source": [
    "df_train = df_train[~((df_train['building_id'] == 895) & (df_train['meter'] == 2) & \n",
    "                      ((pd.to_datetime(df_train['timestamp']) > pd.to_datetime('2016-01-12 10:00:00')) & \n",
    "                     (pd.to_datetime(df_train['timestamp']) < pd.to_datetime('2016-04-28 16:00:00'))))]         "
   ]
  },
  {
   "cell_type": "code",
   "execution_count": 29,
   "metadata": {},
   "outputs": [],
   "source": [
    "df_train = df_train[~((df_train['building_id'] == 932) & (df_train['meter'] == 2) & \n",
    "                      ((pd.to_datetime(df_train['timestamp']) > pd.to_datetime('2016-02-04 08:00:00')) & \n",
    "                     (pd.to_datetime(df_train['timestamp']) < pd.to_datetime('2016-04-28 10:00:00'))))] "
   ]
  },
  {
   "cell_type": "code",
   "execution_count": 30,
   "metadata": {},
   "outputs": [],
   "source": [
    "df_train = df_train[~((df_train['building_id'] == 954) & (df_train['meter'] == 2) & (pd.to_datetime(df_train['timestamp']) < pd.to_datetime('2016-08-08 11:00:00')))]   "
   ]
  },
  {
   "cell_type": "code",
   "execution_count": 31,
   "metadata": {},
   "outputs": [],
   "source": [
    "df_train = df_train[~((df_train['building_id'] == 972) & (df_train['meter'] == 2) & \n",
    "                      ((pd.to_datetime(df_train['timestamp']) > pd.to_datetime('2016-03-01 09:00:00')) & \n",
    "                     (pd.to_datetime(df_train['timestamp']) < pd.to_datetime('2016-06-22 12:00:00'))))] "
   ]
  },
  {
   "cell_type": "code",
   "execution_count": 32,
   "metadata": {},
   "outputs": [],
   "source": [
    "df_train = df_train[~((df_train['building_id'] == 1223) & (df_train['meter'] == 1) & \n",
    "                      ((pd.to_datetime(df_train['timestamp']) > pd.to_datetime('2016-03-30 19:00:00')) & \n",
    "                     (pd.to_datetime(df_train['timestamp']) < pd.to_datetime('2016-07-08 11:00:00'))))] "
   ]
  },
  {
   "cell_type": "code",
   "execution_count": 33,
   "metadata": {},
   "outputs": [],
   "source": [
    "df_train = df_train[~((df_train['building_id'] == 1230) & (df_train['meter'] == 1) & \n",
    "                      ((pd.to_datetime(df_train['timestamp']) > pd.to_datetime('2016-08-22 08:00:00')) & \n",
    "                     (pd.to_datetime(df_train['timestamp']) < pd.to_datetime('2016-10-05 18:00:00'))))] "
   ]
  },
  {
   "cell_type": "code",
   "execution_count": 34,
   "metadata": {},
   "outputs": [],
   "source": [
    "df_train = df_train[~((df_train['building_id'] == 1232) & (df_train['meter'] == 1) & \n",
    "                      ((pd.to_datetime(df_train['timestamp']) > pd.to_datetime('2016-06-23 09:00:00')) & \n",
    "                     (pd.to_datetime(df_train['timestamp']) < pd.to_datetime('2016-08-31 19:00:00'))))] "
   ]
  },
  {
   "cell_type": "code",
   "execution_count": 35,
   "metadata": {},
   "outputs": [],
   "source": [
    "df_train = df_train[~((df_train['building_id'] == 1246) & (df_train['meter'] == 1) & (pd.to_datetime(df_train['timestamp']) < pd.to_datetime('2016-03-02 19:00:00')))]   "
   ]
  },
  {
   "cell_type": "code",
   "execution_count": 36,
   "metadata": {},
   "outputs": [],
   "source": [
    "df_train = df_train[~((df_train['building_id'] == 1288) & (df_train['meter'] == 1) & \n",
    "                      ((pd.to_datetime(df_train['timestamp']) > pd.to_datetime('2016-07-07 15:00:00')) & \n",
    "                     (pd.to_datetime(df_train['timestamp']) < pd.to_datetime('2016-08-10 18:00:00'))))] "
   ]
  },
  {
   "cell_type": "code",
   "execution_count": 37,
   "metadata": {},
   "outputs": [],
   "source": [
    "df_train = df_train[~((df_train['building_id'] == 693) & (df_train['meter'] == 0) & \n",
    "                      ((pd.to_datetime(df_train['timestamp']) > pd.to_datetime('2016-09-07 00:00:00')) & \n",
    "                     (pd.to_datetime(df_train['timestamp']) < pd.to_datetime('2016-11-23 00:00:00'))))] "
   ]
  },
  {
   "cell_type": "code",
   "execution_count": 38,
   "metadata": {},
   "outputs": [],
   "source": [
    "df_train = df_train[~((df_train['building_id'] == 693) & (df_train['meter'] == 0) & \n",
    "                      ((pd.to_datetime(df_train['timestamp']) > pd.to_datetime('2016-05-16 00:00:00')) & \n",
    "                     (pd.to_datetime(df_train['timestamp']) < pd.to_datetime('2016-07-12 00:00:00'))))] "
   ]
  },
  {
   "cell_type": "code",
   "execution_count": 39,
   "metadata": {},
   "outputs": [],
   "source": [
    "df_train = df_train[~((df_train['building_id'] == 723) & (df_train['meter'] == 0) & \n",
    "                      ((pd.to_datetime(df_train['timestamp']) > pd.to_datetime('2016-10-06 00:00:00')) & \n",
    "                     (pd.to_datetime(df_train['timestamp']) < pd.to_datetime('2016-11-22 00:00:00'))))] "
   ]
  },
  {
   "cell_type": "code",
   "execution_count": 40,
   "metadata": {},
   "outputs": [],
   "source": [
    "df_train = df_train[~((df_train['building_id'] == 1130) & (df_train['meter'] == 1) & (pd.to_datetime(df_train['timestamp']) < pd.to_datetime('2016-09-30 13:00:00')))]          "
   ]
  },
  {
   "cell_type": "code",
   "execution_count": 41,
   "metadata": {},
   "outputs": [],
   "source": [
    "df_train = df_train[~((df_train['building_id'] == 1160) & (df_train['meter'] == 1) & (pd.to_datetime(df_train['timestamp']) < pd.to_datetime('2016-10-14 10:00:00')))]          "
   ]
  },
  {
   "cell_type": "code",
   "execution_count": 42,
   "metadata": {},
   "outputs": [],
   "source": [
    "df_train = df_train[~((df_train['building_id'] == 1227) & (df_train['meter'] == 3) & (pd.to_datetime(df_train['timestamp']) < pd.to_datetime('2016-02-26 15:00:00')))]          "
   ]
  },
  {
   "cell_type": "code",
   "execution_count": 43,
   "metadata": {},
   "outputs": [],
   "source": [
    "df_train = df_train[~((df_train['building_id'] == 1244) & (df_train['meter'] == 3) & \n",
    "                      ((pd.to_datetime(df_train['timestamp']) > pd.to_datetime('2016-04-04 21:00:00')) & \n",
    "                     (pd.to_datetime(df_train['timestamp']) < pd.to_datetime('2016-05-06 18:00:00'))))] "
   ]
  },
  {
   "cell_type": "code",
   "execution_count": 44,
   "metadata": {},
   "outputs": [],
   "source": [
    "df_train = df_train[~((df_train['building_id'] == 1246) & (df_train['meter'] == 3) & (pd.to_datetime(df_train['timestamp']) < pd.to_datetime('2016-03-02 19:00:00')))]          "
   ]
  },
  {
   "cell_type": "code",
   "execution_count": 45,
   "metadata": {},
   "outputs": [],
   "source": [
    "df_train = df_train[~((df_train['building_id'] == 769) & (df_train['meter'] == 1) & (pd.to_datetime(df_train['timestamp']) > pd.to_datetime('2016-07-19 09:00:00')))]          "
   ]
  },
  {
   "cell_type": "code",
   "execution_count": 46,
   "metadata": {},
   "outputs": [],
   "source": [
    "df_train = df_train[~((df_train['building_id'] == 954) & (df_train['meter'] == 1) & (pd.to_datetime(df_train['timestamp']) < pd.to_datetime('2016-08-08 11:00:00')))]          "
   ]
  },
  {
   "cell_type": "code",
   "execution_count": 67,
   "metadata": {},
   "outputs": [],
   "source": [
    "df_train.to_csv(\"df_train.csv.gz\", index = False, compression = 'gzip')"
   ]
  },
  {
   "cell_type": "code",
   "execution_count": 2,
   "metadata": {},
   "outputs": [],
   "source": [
    "df_train = pd.read_csv('./df_train.csv.gz', compression = 'gzip')\n",
    "df_test = pd.read_csv('./df_test.csv.gz', compression = 'gzip')"
   ]
  },
  {
   "cell_type": "code",
   "execution_count": 3,
   "metadata": {},
   "outputs": [],
   "source": [
    "df_train = df_train[~((df_train['building_id'] == 1349) & (df_train['meter'] == 1) & (pd.to_datetime(df_train['timestamp']) < pd.to_datetime('2016-04-26 14:00:00')))]          "
   ]
  },
  {
   "cell_type": "code",
   "execution_count": 4,
   "metadata": {},
   "outputs": [],
   "source": [
    "df_train = df_train[~((df_train['building_id'] == 1382) & \n",
    "                      (df_train['meter'] == 1) & ((pd.to_datetime(df_train['timestamp']) == pd.to_datetime('2016-01-01 05:00:00')) | \n",
    "                                                  (pd.to_datetime(df_train['timestamp']) == pd.to_datetime('2016-01-01 14:00:00')) | \n",
    "                                                  (pd.to_datetime(df_train['timestamp']) == pd.to_datetime('2016-01-11 08:00:00'))\n",
    "                                                  ))]                 "
   ]
  },
  {
   "cell_type": "code",
   "execution_count": 27,
   "metadata": {},
   "outputs": [],
   "source": [
    "df_test = create_add_features(df_test)"
   ]
  },
  {
   "cell_type": "code",
   "execution_count": null,
   "metadata": {},
   "outputs": [],
   "source": [
    "### May be remove\n",
    "for i in [753, 765, 771, 777, 787, 745, 750, 755, 769, 770, 776]:\n",
    "    df_train.loc[(df_train['building_id'] == i) & \n",
    "                 (df_train['meter'] == 1)] = df_train[(df_train['building_id'] == i) & \n",
    "                                                      (df_train['meter'] == 1)][(np.abs(stats.zscore(df_train[(df_train['building_id'] == i) & \n",
    "                                                                                                              (df_train['meter'] == 1)]['meter_reading'])) < 6)]"
   ]
  },
  {
   "cell_type": "code",
   "execution_count": 24,
   "metadata": {},
   "outputs": [],
   "source": [
    "df_train.loc[(df_train['building_id'] == 762) & \n",
    "                 (df_train['meter'] == 2)] = df_train[(df_train['building_id'] == 762) & \n",
    "                                                      (df_train['meter'] == 2)][(np.abs(stats.zscore(df_train[(df_train['building_id'] == 762) & \n",
    "                                                                                                              (df_train['meter'] == 2)]['meter_reading'])) < 10)]"
   ]
  },
  {
   "cell_type": "code",
   "execution_count": 25,
   "metadata": {},
   "outputs": [],
   "source": [
    "df_train.loc[(df_train['building_id'] == 776) & \n",
    "                 (df_train['meter'] == 2)] = df_train[(df_train['building_id'] == 776) & \n",
    "                                                      (df_train['meter'] == 2)][(np.abs(stats.zscore(df_train[(df_train['building_id'] == 776) & \n",
    "                                                                                                              (df_train['meter'] == 2)]['meter_reading'])) < 20)]"
   ]
  },
  {
   "cell_type": "code",
   "execution_count": 47,
   "metadata": {},
   "outputs": [],
   "source": [
    "df_train = df_train[~((df_train['building_id'] == 770) & (df_train['meter'] == 2) & \n",
    "                      ((pd.to_datetime(df_train['timestamp']) > pd.to_datetime('2016-01-08 11:00:00')) & \n",
    "                     (pd.to_datetime(df_train['timestamp']) < pd.to_datetime('2016-02-03 14:00:00'))))] "
   ]
  },
  {
   "cell_type": "code",
   "execution_count": 261,
   "metadata": {},
   "outputs": [],
   "source": [
    "### Might cause overfit !!! ###\n",
    "#def create_season(df):\n",
    "#    df['Season'] = pd.to_datetime(df['timestamp']).apply(lambda dt: (dt.month%12 + 3)//3)\n",
    "#    return(df)"
   ]
  },
  {
   "cell_type": "code",
   "execution_count": 262,
   "metadata": {},
   "outputs": [],
   "source": [
    "#df_train = create_season(df_train)\n",
    "#df_test = create_season(df_test)"
   ]
  },
  {
   "cell_type": "code",
   "execution_count": 265,
   "metadata": {},
   "outputs": [
    {
     "data": {
      "text/plain": [
       "3    10510080\n",
       "2    10510080\n",
       "4    10395840\n",
       "1    10281600\n",
       "Name: Season, dtype: int64"
      ]
     },
     "execution_count": 265,
     "metadata": {},
     "output_type": "execute_result"
    }
   ],
   "source": [
    "#df_test['Season'].value_counts()"
   ]
  },
  {
   "cell_type": "code",
   "execution_count": 223,
   "metadata": {},
   "outputs": [],
   "source": [
    "#def filter_outliers(df):\n",
    "#    if ((df.building_id.isin([753, 765, 771, 777, 787, 745, 750, 755, 769, 770, 776])).all() & (df.meter == 1).all()):\n",
    "#        df_outl = df[(np.abs(stats.zscore(df['meter_reading'])) < 6)]\n",
    "#    else:\n",
    "#        df_outl = df\n",
    "#    return(df_outl)"
   ]
  },
  {
   "cell_type": "code",
   "execution_count": 227,
   "metadata": {},
   "outputs": [],
   "source": [
    "#df_train = df_train.groupby(['building_id', 'meter'], as_index=False).apply(lambda x: filter_outliers(x))"
   ]
  },
  {
   "cell_type": "code",
   "execution_count": 105,
   "metadata": {},
   "outputs": [],
   "source": [
    "### Log of Square fit plus year build ###\n",
    "#df_train['year_built'] = df_train['year_built'] - 1900\n",
    "#df_train['square_feet'] = np.log(df_train['square_feet'])\n",
    "#df_test['year_built'] = df_test['year_built'] - 1900\n",
    "#df_test['square_feet'] = np.log(df_test['square_feet'])"
   ]
  },
  {
   "cell_type": "code",
   "execution_count": 106,
   "metadata": {},
   "outputs": [],
   "source": [
    "def roll_diff(x):\n",
    "    return x[0] - x[-1]"
   ]
  },
  {
   "cell_type": "code",
   "execution_count": 107,
   "metadata": {},
   "outputs": [],
   "source": [
    "def check_constants(grp):\n",
    "    grp['is_constant_meter'] = grp['meter_reading'].rolling(6).apply(roll_diff)\n",
    "    return grp"
   ]
  },
  {
   "cell_type": "code",
   "execution_count": 108,
   "metadata": {},
   "outputs": [],
   "source": [
    "# calculate rolling diff for constant detection\n",
    "#df_train = df_train.groupby(['building_id', 'meter'], as_index = False).apply(lambda x: check_constants(x))"
   ]
  },
  {
   "cell_type": "code",
   "execution_count": 503,
   "metadata": {},
   "outputs": [
    {
     "data": {
      "text/plain": [
       "(19682552, 21)"
      ]
     },
     "execution_count": 503,
     "metadata": {},
     "output_type": "execute_result"
    }
   ],
   "source": [
    "df_train.shape"
   ]
  },
  {
   "cell_type": "code",
   "execution_count": 504,
   "metadata": {},
   "outputs": [],
   "source": [
    "# convert constant meter readings to nan\n",
    "#df_train.loc[df_train['is_constant_meter'] == 0.0, 'meter_reading'] = np.nan\n",
    "#df_train = df_train[df_train['is_constant_meter'] != 0.0]"
   ]
  },
  {
   "cell_type": "code",
   "execution_count": 351,
   "metadata": {},
   "outputs": [
    {
     "data": {
      "text/plain": [
       "2255180"
      ]
     },
     "execution_count": 351,
     "metadata": {},
     "output_type": "execute_result"
    }
   ],
   "source": [
    "#df_train['meter_reading'].isnull().sum()\n",
    "#df_train.shape"
   ]
  },
  {
   "cell_type": "code",
   "execution_count": 439,
   "metadata": {},
   "outputs": [],
   "source": [
    "#def replace_na_with_prophet(df):\n",
    "#    \n",
    "#    test_prof = df[['timestamp', 'meter_reading', 'air_temperature']]\n",
    "#    test_prof.columns = [\"ds\", \"y\", \"air_temperature\"]\n",
    "#    z = Prophet(interval_width=0.95, daily_seasonality=True, weekly_seasonality=True,\n",
    "#           seasonality_mode = 'multiplicative')\n",
    "#    z.add_regressor('air_temperature')\n",
    "#    z.fit(test_prof)\n",
    "#    forecast = z.predict(test_prof)\n",
    "#    df = df.reset_index(drop = True)\n",
    "#    df['meter_reading'] = forecast['yhat']\n",
    "    \n",
    "#    #print(f'Itheration {i} is finished')\n",
    "    \n",
    "#    return(df)"
   ]
  },
  {
   "cell_type": "code",
   "execution_count": 429,
   "metadata": {},
   "outputs": [],
   "source": [
    "#test_prft = df_train[(df_train['site_id'] == 0) & (df_train['meter'] == 1)]"
   ]
  },
  {
   "cell_type": "code",
   "execution_count": null,
   "metadata": {},
   "outputs": [],
   "source": [
    "# Replace constants with prophet\n",
    "#%time df_train = df_train.groupby(['building_id', 'meter'], as_index=False).apply(lambda x: replace_na_with_prophet(x))"
   ]
  },
  {
   "cell_type": "code",
   "execution_count": null,
   "metadata": {},
   "outputs": [],
   "source": [
    "#df_train = df_train.reset_index(drop = True)"
   ]
  },
  {
   "cell_type": "code",
   "execution_count": null,
   "metadata": {},
   "outputs": [],
   "source": [
    "#df_train.to_csv(\"df_train_prophet_for_constants.csv.gz\", index = False, compression = 'gzip')"
   ]
  },
  {
   "cell_type": "code",
   "execution_count": 75,
   "metadata": {},
   "outputs": [
    {
     "data": {
      "text/plain": [
       "array([1073, 1075, 1076, 1078, 1079, 1080, 1085, 1086, 1088, 1089, 1090,\n",
       "       1091, 1092, 1093, 1094, 1097, 1098, 1099, 1100, 1102, 1104, 1105,\n",
       "       1106, 1107, 1108, 1109, 1111, 1112, 1116, 1117, 1119, 1121, 1124,\n",
       "       1126, 1129, 1133, 1139, 1140, 1143, 1145, 1147, 1148, 1149, 1150,\n",
       "       1151, 1152, 1154, 1155, 1156, 1157, 1158, 1159, 1162, 1163, 1164,\n",
       "       1167, 1168, 1169, 1171, 1172, 1174, 1178, 1180, 1184, 1185, 1186,\n",
       "       1187, 1191, 1192, 1197, 1198, 1200, 1203, 1204, 1206, 1207, 1209,\n",
       "       1210, 1211, 1212, 1214, 1218, 1219, 1220, 1077, 1176, 1189, 1072])"
      ]
     },
     "execution_count": 75,
     "metadata": {},
     "output_type": "execute_result"
    }
   ],
   "source": [
    "df_train[(df_train['site_id'] == 13) & (df_train['meter'] == 2)]['building_id'].unique()"
   ]
  },
  {
   "cell_type": "code",
   "execution_count": 303,
   "metadata": {},
   "outputs": [],
   "source": [
    "# Intrapolate nan values of meter reading \n",
    "#test['meter_reading'] = test.groupby(['building_id', 'meter'])['meter_reading'].apply(lambda x : x.interpolate(method = \"piecewise_polynomial\", order = 5, limit_direction = \"both\"))\n",
    "#def rolling_interpol(df):\n",
    "#    roll_wind = df['meter_reading'].isnull().sum()\n",
    "#    if roll_wind == 0:\n",
    "#        pass\n",
    "#    else:\n",
    "#        df['meter_reading'] = df.meter_reading.fillna(df.meter_reading.rolling(roll_wind, min_periods=1).mean())\n",
    "#    return df"
   ]
  },
  {
   "cell_type": "code",
   "execution_count": 304,
   "metadata": {},
   "outputs": [],
   "source": [
    "#df_train = df_train.groupby(['building_id', 'meter']).apply(lambda x : rolling_interpol(x))"
   ]
  },
  {
   "cell_type": "code",
   "execution_count": 354,
   "metadata": {},
   "outputs": [],
   "source": [
    "#df_train['meter_reading'] = df_train.groupby(['building_id', 'meter'])['meter_reading'].apply(lambda x : x.interpolate(method = \"linear\", order = 1, limit_direction = \"both\"))"
   ]
  },
  {
   "cell_type": "code",
   "execution_count": 620,
   "metadata": {},
   "outputs": [
    {
     "data": {
      "text/plain": [
       "(0, 20)"
      ]
     },
     "execution_count": 620,
     "metadata": {},
     "output_type": "execute_result"
    }
   ],
   "source": [
    "df_train[df_train['meter_reading'].isnull()].shape"
   ]
  },
  {
   "cell_type": "code",
   "execution_count": 6,
   "metadata": {},
   "outputs": [],
   "source": [
    "test = df_train[(df_train['meter'] == 2) & (df_train['site_id'] == 6)] "
   ]
  },
  {
   "cell_type": "code",
   "execution_count": null,
   "metadata": {},
   "outputs": [],
   "source": [
    "for i in test['building_id'].unique():\n",
    "    test_plot = test[test['building_id'] == i] \n",
    "    plt.figure(figsize=(15,15))\n",
    "    plt.plot(pd.to_datetime(test_plot[\"timestamp\"]).dt.date, test_plot['meter_reading'])\n",
    "    plt.title(f'building_id: {i}')"
   ]
  },
  {
   "cell_type": "markdown",
   "metadata": {},
   "source": [
    "# "
   ]
  },
  {
   "cell_type": "code",
   "execution_count": 639,
   "metadata": {},
   "outputs": [],
   "source": [
    "#test_prof = test[['timestamp', 'meter_reading', 'air_temperature', 'cloud_coverage', 'wind_direction',\n",
    "#                 'sea_level_pressure']]\n",
    "#test_prof.columns = [\"ds\", \"y\", \"air_temperature\", \"cloud_coverage\", \"wind_direction\", \"sea_level_pressure\"]\n",
    "\n",
    "#### Testing Prophet ####\n",
    "\n",
    "#z = Prophet(interval_width=0.95, daily_seasonality=True, weekly_seasonality=True,\n",
    "#           seasonality_mode = 'multiplicative')\n",
    "#z.add_seasonality(name='monthly', period=30.5, fourier_order=5)\n",
    "#z.add_regressor('wind_direction')\n",
    "#z.add_regressor('air_temperature')\n",
    "#z.add_regressor('cloud_coverage')\n",
    "#z.add_regressor('sea_level_pressure')\n",
    "#z.fit(test_prof)\n",
    "#forecast = z.predict(test_prof)"
   ]
  },
  {
   "cell_type": "code",
   "execution_count": 640,
   "metadata": {},
   "outputs": [],
   "source": [
    "#rmsle(test_prof['y'],forecast['yhat'])"
   ]
  },
  {
   "cell_type": "code",
   "execution_count": 641,
   "metadata": {},
   "outputs": [],
   "source": [
    "#plt.figure(figsize=(15,15))\n",
    "#plt.plot(pd.to_datetime(forecast[\"ds\"]).dt.date, forecast['yhat'])"
   ]
  },
  {
   "cell_type": "code",
   "execution_count": 642,
   "metadata": {},
   "outputs": [],
   "source": [
    "#test = test.reset_index(drop = True)\n",
    "#test['meter_reading'] = forecast['yhat']"
   ]
  },
  {
   "cell_type": "code",
   "execution_count": 48,
   "metadata": {},
   "outputs": [],
   "source": [
    "test = df_train[(df_train['building_id'] == 770) & (df_train['meter'] == 2)]"
   ]
  },
  {
   "cell_type": "code",
   "execution_count": 9,
   "metadata": {},
   "outputs": [
    {
     "data": {
      "text/html": [
       "<div>\n",
       "<style scoped>\n",
       "    .dataframe tbody tr th:only-of-type {\n",
       "        vertical-align: middle;\n",
       "    }\n",
       "\n",
       "    .dataframe tbody tr th {\n",
       "        vertical-align: top;\n",
       "    }\n",
       "\n",
       "    .dataframe thead th {\n",
       "        text-align: right;\n",
       "    }\n",
       "</style>\n",
       "<table border=\"1\" class=\"dataframe\">\n",
       "  <thead>\n",
       "    <tr style=\"text-align: right;\">\n",
       "      <th></th>\n",
       "      <th>building_id</th>\n",
       "      <th>meter</th>\n",
       "      <th>timestamp</th>\n",
       "      <th>meter_reading</th>\n",
       "      <th>site_id</th>\n",
       "      <th>primary_use</th>\n",
       "      <th>square_feet</th>\n",
       "      <th>year_built</th>\n",
       "      <th>floor_count</th>\n",
       "      <th>air_temperature</th>\n",
       "      <th>cloud_coverage</th>\n",
       "      <th>dew_temperature</th>\n",
       "      <th>precip_depth_1_hr</th>\n",
       "      <th>sea_level_pressure</th>\n",
       "      <th>wind_direction</th>\n",
       "      <th>wind_speed</th>\n",
       "      <th>IsHoliday</th>\n",
       "      <th>Day</th>\n",
       "      <th>Hour</th>\n",
       "      <th>DayOfWeek</th>\n",
       "      <th>relative_humidity</th>\n",
       "      <th>air_density_dry</th>\n",
       "      <th>vapor_pressure_water_satur</th>\n",
       "      <th>vapor_pressure_water</th>\n",
       "      <th>partial_press_dry</th>\n",
       "      <th>air_density_humid</th>\n",
       "    </tr>\n",
       "  </thead>\n",
       "  <tbody>\n",
       "    <tr>\n",
       "      <td>805</td>\n",
       "      <td>762</td>\n",
       "      <td>2</td>\n",
       "      <td>2016-01-01 00:00:00</td>\n",
       "      <td>0.000</td>\n",
       "      <td>6</td>\n",
       "      <td>Education</td>\n",
       "      <td>53651</td>\n",
       "      <td>nan</td>\n",
       "      <td>nan</td>\n",
       "      <td>7.800</td>\n",
       "      <td>2.000</td>\n",
       "      <td>3.900</td>\n",
       "      <td>0.000</td>\n",
       "      <td>1020.600</td>\n",
       "      <td>50.000</td>\n",
       "      <td>2.100</td>\n",
       "      <td>1.000</td>\n",
       "      <td>1</td>\n",
       "      <td>0</td>\n",
       "      <td>4</td>\n",
       "      <td>80.500</td>\n",
       "      <td>0.456</td>\n",
       "      <td>10.560</td>\n",
       "      <td>850.081</td>\n",
       "      <td>170.519</td>\n",
       "      <td>19.002</td>\n",
       "    </tr>\n",
       "    <tr>\n",
       "      <td>2851</td>\n",
       "      <td>762</td>\n",
       "      <td>2</td>\n",
       "      <td>2016-01-01 01:00:00</td>\n",
       "      <td>0.000</td>\n",
       "      <td>6</td>\n",
       "      <td>Education</td>\n",
       "      <td>53651</td>\n",
       "      <td>nan</td>\n",
       "      <td>nan</td>\n",
       "      <td>7.200</td>\n",
       "      <td>0.000</td>\n",
       "      <td>2.200</td>\n",
       "      <td>0.000</td>\n",
       "      <td>1020.000</td>\n",
       "      <td>60.000</td>\n",
       "      <td>1.500</td>\n",
       "      <td>1.000</td>\n",
       "      <td>1</td>\n",
       "      <td>1</td>\n",
       "      <td>4</td>\n",
       "      <td>75.000</td>\n",
       "      <td>0.494</td>\n",
       "      <td>10.136</td>\n",
       "      <td>760.224</td>\n",
       "      <td>259.776</td>\n",
       "      <td>18.377</td>\n",
       "    </tr>\n",
       "    <tr>\n",
       "      <td>5006</td>\n",
       "      <td>762</td>\n",
       "      <td>2</td>\n",
       "      <td>2016-01-01 02:00:00</td>\n",
       "      <td>0.000</td>\n",
       "      <td>6</td>\n",
       "      <td>Education</td>\n",
       "      <td>53651</td>\n",
       "      <td>nan</td>\n",
       "      <td>nan</td>\n",
       "      <td>6.700</td>\n",
       "      <td>0.000</td>\n",
       "      <td>2.200</td>\n",
       "      <td>0.000</td>\n",
       "      <td>1020.000</td>\n",
       "      <td>0.000</td>\n",
       "      <td>0.000</td>\n",
       "      <td>1.000</td>\n",
       "      <td>1</td>\n",
       "      <td>2</td>\n",
       "      <td>4</td>\n",
       "      <td>77.500</td>\n",
       "      <td>0.530</td>\n",
       "      <td>9.795</td>\n",
       "      <td>759.094</td>\n",
       "      <td>260.906</td>\n",
       "      <td>17.111</td>\n",
       "    </tr>\n",
       "    <tr>\n",
       "      <td>7164</td>\n",
       "      <td>762</td>\n",
       "      <td>2</td>\n",
       "      <td>2016-01-01 03:00:00</td>\n",
       "      <td>0.000</td>\n",
       "      <td>6</td>\n",
       "      <td>Education</td>\n",
       "      <td>53651</td>\n",
       "      <td>nan</td>\n",
       "      <td>nan</td>\n",
       "      <td>6.100</td>\n",
       "      <td>0.000</td>\n",
       "      <td>2.200</td>\n",
       "      <td>0.000</td>\n",
       "      <td>1020.400</td>\n",
       "      <td>0.000</td>\n",
       "      <td>0.000</td>\n",
       "      <td>1.000</td>\n",
       "      <td>1</td>\n",
       "      <td>3</td>\n",
       "      <td>4</td>\n",
       "      <td>80.500</td>\n",
       "      <td>0.583</td>\n",
       "      <td>9.398</td>\n",
       "      <td>756.563</td>\n",
       "      <td>263.837</td>\n",
       "      <td>15.608</td>\n",
       "    </tr>\n",
       "    <tr>\n",
       "      <td>9319</td>\n",
       "      <td>762</td>\n",
       "      <td>2</td>\n",
       "      <td>2016-01-01 04:00:00</td>\n",
       "      <td>0.000</td>\n",
       "      <td>6</td>\n",
       "      <td>Education</td>\n",
       "      <td>53651</td>\n",
       "      <td>nan</td>\n",
       "      <td>nan</td>\n",
       "      <td>5.600</td>\n",
       "      <td>0.000</td>\n",
       "      <td>2.200</td>\n",
       "      <td>0.000</td>\n",
       "      <td>1020.100</td>\n",
       "      <td>40.000</td>\n",
       "      <td>1.500</td>\n",
       "      <td>1.000</td>\n",
       "      <td>1</td>\n",
       "      <td>4</td>\n",
       "      <td>4</td>\n",
       "      <td>83.000</td>\n",
       "      <td>0.635</td>\n",
       "      <td>9.079</td>\n",
       "      <td>753.539</td>\n",
       "      <td>266.561</td>\n",
       "      <td>14.345</td>\n",
       "    </tr>\n",
       "  </tbody>\n",
       "</table>\n",
       "</div>"
      ],
      "text/plain": [
       "      building_id  meter            timestamp  meter_reading  site_id  \\\n",
       "805           762      2  2016-01-01 00:00:00          0.000        6   \n",
       "2851          762      2  2016-01-01 01:00:00          0.000        6   \n",
       "5006          762      2  2016-01-01 02:00:00          0.000        6   \n",
       "7164          762      2  2016-01-01 03:00:00          0.000        6   \n",
       "9319          762      2  2016-01-01 04:00:00          0.000        6   \n",
       "\n",
       "     primary_use  square_feet  year_built  floor_count  air_temperature  \\\n",
       "805    Education        53651         nan          nan            7.800   \n",
       "2851   Education        53651         nan          nan            7.200   \n",
       "5006   Education        53651         nan          nan            6.700   \n",
       "7164   Education        53651         nan          nan            6.100   \n",
       "9319   Education        53651         nan          nan            5.600   \n",
       "\n",
       "      cloud_coverage  dew_temperature  precip_depth_1_hr  sea_level_pressure  \\\n",
       "805            2.000            3.900              0.000            1020.600   \n",
       "2851           0.000            2.200              0.000            1020.000   \n",
       "5006           0.000            2.200              0.000            1020.000   \n",
       "7164           0.000            2.200              0.000            1020.400   \n",
       "9319           0.000            2.200              0.000            1020.100   \n",
       "\n",
       "      wind_direction  wind_speed  IsHoliday  Day  Hour  DayOfWeek  \\\n",
       "805           50.000       2.100      1.000    1     0          4   \n",
       "2851          60.000       1.500      1.000    1     1          4   \n",
       "5006           0.000       0.000      1.000    1     2          4   \n",
       "7164           0.000       0.000      1.000    1     3          4   \n",
       "9319          40.000       1.500      1.000    1     4          4   \n",
       "\n",
       "      relative_humidity  air_density_dry  vapor_pressure_water_satur  \\\n",
       "805              80.500            0.456                      10.560   \n",
       "2851             75.000            0.494                      10.136   \n",
       "5006             77.500            0.530                       9.795   \n",
       "7164             80.500            0.583                       9.398   \n",
       "9319             83.000            0.635                       9.079   \n",
       "\n",
       "      vapor_pressure_water  partial_press_dry  air_density_humid  \n",
       "805                850.081            170.519             19.002  \n",
       "2851               760.224            259.776             18.377  \n",
       "5006               759.094            260.906             17.111  \n",
       "7164               756.563            263.837             15.608  \n",
       "9319               753.539            266.561             14.345  "
      ]
     },
     "execution_count": 9,
     "metadata": {},
     "output_type": "execute_result"
    }
   ],
   "source": [
    "test.head()"
   ]
  },
  {
   "cell_type": "code",
   "execution_count": 135,
   "metadata": {},
   "outputs": [],
   "source": [
    "#x = test['wind_direction'].value_counts()"
   ]
  },
  {
   "cell_type": "code",
   "execution_count": 46,
   "metadata": {},
   "outputs": [
    {
     "data": {
      "text/html": [
       "<div>\n",
       "<style scoped>\n",
       "    .dataframe tbody tr th:only-of-type {\n",
       "        vertical-align: middle;\n",
       "    }\n",
       "\n",
       "    .dataframe tbody tr th {\n",
       "        vertical-align: top;\n",
       "    }\n",
       "\n",
       "    .dataframe thead th {\n",
       "        text-align: right;\n",
       "    }\n",
       "</style>\n",
       "<table border=\"1\" class=\"dataframe\">\n",
       "  <thead>\n",
       "    <tr style=\"text-align: right;\">\n",
       "      <th></th>\n",
       "      <th>building_id</th>\n",
       "      <th>meter</th>\n",
       "      <th>timestamp</th>\n",
       "      <th>meter_reading</th>\n",
       "      <th>site_id</th>\n",
       "      <th>primary_use</th>\n",
       "      <th>square_feet</th>\n",
       "      <th>year_built</th>\n",
       "      <th>floor_count</th>\n",
       "      <th>air_temperature</th>\n",
       "      <th>cloud_coverage</th>\n",
       "      <th>dew_temperature</th>\n",
       "      <th>precip_depth_1_hr</th>\n",
       "      <th>sea_level_pressure</th>\n",
       "      <th>wind_direction</th>\n",
       "      <th>wind_speed</th>\n",
       "      <th>IsHoliday</th>\n",
       "      <th>Day</th>\n",
       "      <th>Hour</th>\n",
       "      <th>DayOfWeek</th>\n",
       "      <th>relative_humidity</th>\n",
       "      <th>air_density_dry</th>\n",
       "      <th>vapor_pressure_water_satur</th>\n",
       "      <th>vapor_pressure_water</th>\n",
       "      <th>partial_press_dry</th>\n",
       "      <th>air_density_humid</th>\n",
       "    </tr>\n",
       "  </thead>\n",
       "  <tbody>\n",
       "    <tr>\n",
       "      <td>1716655</td>\n",
       "      <td>770.000</td>\n",
       "      <td>2.000</td>\n",
       "      <td>2016-02-03 06:00:00</td>\n",
       "      <td>0.000</td>\n",
       "      <td>6.000</td>\n",
       "      <td>Education</td>\n",
       "      <td>80325.000</td>\n",
       "      <td>nan</td>\n",
       "      <td>nan</td>\n",
       "      <td>5.000</td>\n",
       "      <td>6.582</td>\n",
       "      <td>3.900</td>\n",
       "      <td>8.000</td>\n",
       "      <td>1019.400</td>\n",
       "      <td>20.000</td>\n",
       "      <td>2.100</td>\n",
       "      <td>0.000</td>\n",
       "      <td>3.000</td>\n",
       "      <td>6.000</td>\n",
       "      <td>2.000</td>\n",
       "      <td>94.500</td>\n",
       "      <td>0.710</td>\n",
       "      <td>8.708</td>\n",
       "      <td>822.910</td>\n",
       "      <td>196.490</td>\n",
       "      <td>12.339</td>\n",
       "    </tr>\n",
       "    <tr>\n",
       "      <td>1718806</td>\n",
       "      <td>770.000</td>\n",
       "      <td>2.000</td>\n",
       "      <td>2016-02-03 07:00:00</td>\n",
       "      <td>0.000</td>\n",
       "      <td>6.000</td>\n",
       "      <td>Education</td>\n",
       "      <td>80325.000</td>\n",
       "      <td>nan</td>\n",
       "      <td>nan</td>\n",
       "      <td>5.000</td>\n",
       "      <td>6.729</td>\n",
       "      <td>4.400</td>\n",
       "      <td>10.000</td>\n",
       "      <td>1018.900</td>\n",
       "      <td>0.000</td>\n",
       "      <td>0.000</td>\n",
       "      <td>0.000</td>\n",
       "      <td>3.000</td>\n",
       "      <td>7.000</td>\n",
       "      <td>2.000</td>\n",
       "      <td>97.000</td>\n",
       "      <td>0.710</td>\n",
       "      <td>8.708</td>\n",
       "      <td>844.680</td>\n",
       "      <td>174.220</td>\n",
       "      <td>12.187</td>\n",
       "    </tr>\n",
       "    <tr>\n",
       "      <td>1733717</td>\n",
       "      <td>770.000</td>\n",
       "      <td>2.000</td>\n",
       "      <td>2016-02-03 14:00:00</td>\n",
       "      <td>398.364</td>\n",
       "      <td>6.000</td>\n",
       "      <td>Education</td>\n",
       "      <td>80325.000</td>\n",
       "      <td>nan</td>\n",
       "      <td>nan</td>\n",
       "      <td>8.300</td>\n",
       "      <td>7.751</td>\n",
       "      <td>8.300</td>\n",
       "      <td>53.000</td>\n",
       "      <td>1015.400</td>\n",
       "      <td>0.000</td>\n",
       "      <td>0.000</td>\n",
       "      <td>0.000</td>\n",
       "      <td>3.000</td>\n",
       "      <td>14.000</td>\n",
       "      <td>2.000</td>\n",
       "      <td>100.000</td>\n",
       "      <td>0.426</td>\n",
       "      <td>10.925</td>\n",
       "      <td>1092.492</td>\n",
       "      <td>-77.092</td>\n",
       "      <td>17.420</td>\n",
       "    </tr>\n",
       "    <tr>\n",
       "      <td>1735879</td>\n",
       "      <td>770.000</td>\n",
       "      <td>2.000</td>\n",
       "      <td>2016-02-03 15:00:00</td>\n",
       "      <td>255.566</td>\n",
       "      <td>6.000</td>\n",
       "      <td>Education</td>\n",
       "      <td>80325.000</td>\n",
       "      <td>nan</td>\n",
       "      <td>nan</td>\n",
       "      <td>10.000</td>\n",
       "      <td>7.898</td>\n",
       "      <td>8.300</td>\n",
       "      <td>5.000</td>\n",
       "      <td>1011.900</td>\n",
       "      <td>240.000</td>\n",
       "      <td>2.100</td>\n",
       "      <td>0.000</td>\n",
       "      <td>3.000</td>\n",
       "      <td>15.000</td>\n",
       "      <td>2.000</td>\n",
       "      <td>91.500</td>\n",
       "      <td>0.353</td>\n",
       "      <td>12.250</td>\n",
       "      <td>1120.874</td>\n",
       "      <td>-108.974</td>\n",
       "      <td>20.492</td>\n",
       "    </tr>\n",
       "    <tr>\n",
       "      <td>1738046</td>\n",
       "      <td>770.000</td>\n",
       "      <td>2.000</td>\n",
       "      <td>2016-02-03 16:00:00</td>\n",
       "      <td>147.751</td>\n",
       "      <td>6.000</td>\n",
       "      <td>Education</td>\n",
       "      <td>80325.000</td>\n",
       "      <td>nan</td>\n",
       "      <td>nan</td>\n",
       "      <td>10.600</td>\n",
       "      <td>8.045</td>\n",
       "      <td>9.400</td>\n",
       "      <td>10.000</td>\n",
       "      <td>1010.500</td>\n",
       "      <td>200.000</td>\n",
       "      <td>2.100</td>\n",
       "      <td>0.000</td>\n",
       "      <td>3.000</td>\n",
       "      <td>16.000</td>\n",
       "      <td>2.000</td>\n",
       "      <td>94.000</td>\n",
       "      <td>0.332</td>\n",
       "      <td>12.750</td>\n",
       "      <td>1198.529</td>\n",
       "      <td>-188.029</td>\n",
       "      <td>20.586</td>\n",
       "    </tr>\n",
       "    <tr>\n",
       "      <td>...</td>\n",
       "      <td>...</td>\n",
       "      <td>...</td>\n",
       "      <td>...</td>\n",
       "      <td>...</td>\n",
       "      <td>...</td>\n",
       "      <td>...</td>\n",
       "      <td>...</td>\n",
       "      <td>...</td>\n",
       "      <td>...</td>\n",
       "      <td>...</td>\n",
       "      <td>...</td>\n",
       "      <td>...</td>\n",
       "      <td>...</td>\n",
       "      <td>...</td>\n",
       "      <td>...</td>\n",
       "      <td>...</td>\n",
       "      <td>...</td>\n",
       "      <td>...</td>\n",
       "      <td>...</td>\n",
       "      <td>...</td>\n",
       "      <td>...</td>\n",
       "      <td>...</td>\n",
       "      <td>...</td>\n",
       "      <td>...</td>\n",
       "      <td>...</td>\n",
       "      <td>...</td>\n",
       "    </tr>\n",
       "    <tr>\n",
       "      <td>19536283</td>\n",
       "      <td>770.000</td>\n",
       "      <td>2.000</td>\n",
       "      <td>2016-12-31 19:00:00</td>\n",
       "      <td>344.785</td>\n",
       "      <td>6.000</td>\n",
       "      <td>Education</td>\n",
       "      <td>80325.000</td>\n",
       "      <td>nan</td>\n",
       "      <td>nan</td>\n",
       "      <td>7.200</td>\n",
       "      <td>-0.868</td>\n",
       "      <td>-7.200</td>\n",
       "      <td>0.000</td>\n",
       "      <td>1016.000</td>\n",
       "      <td>200.000</td>\n",
       "      <td>6.700</td>\n",
       "      <td>0.000</td>\n",
       "      <td>31.000</td>\n",
       "      <td>19.000</td>\n",
       "      <td>5.000</td>\n",
       "      <td>28.000</td>\n",
       "      <td>0.492</td>\n",
       "      <td>10.136</td>\n",
       "      <td>283.817</td>\n",
       "      <td>732.183</td>\n",
       "      <td>22.794</td>\n",
       "    </tr>\n",
       "    <tr>\n",
       "      <td>19538627</td>\n",
       "      <td>770.000</td>\n",
       "      <td>2.000</td>\n",
       "      <td>2016-12-31 20:00:00</td>\n",
       "      <td>312.507</td>\n",
       "      <td>6.000</td>\n",
       "      <td>Education</td>\n",
       "      <td>80325.000</td>\n",
       "      <td>nan</td>\n",
       "      <td>nan</td>\n",
       "      <td>7.743</td>\n",
       "      <td>-0.942</td>\n",
       "      <td>-7.200</td>\n",
       "      <td>0.000</td>\n",
       "      <td>1016.000</td>\n",
       "      <td>200.000</td>\n",
       "      <td>6.700</td>\n",
       "      <td>nan</td>\n",
       "      <td>31.000</td>\n",
       "      <td>20.000</td>\n",
       "      <td>5.000</td>\n",
       "      <td>25.284</td>\n",
       "      <td>0.457</td>\n",
       "      <td>10.519</td>\n",
       "      <td>265.969</td>\n",
       "      <td>750.031</td>\n",
       "      <td>24.696</td>\n",
       "    </tr>\n",
       "    <tr>\n",
       "      <td>19540974</td>\n",
       "      <td>770.000</td>\n",
       "      <td>2.000</td>\n",
       "      <td>2016-12-31 21:00:00</td>\n",
       "      <td>286.658</td>\n",
       "      <td>6.000</td>\n",
       "      <td>Education</td>\n",
       "      <td>80325.000</td>\n",
       "      <td>nan</td>\n",
       "      <td>nan</td>\n",
       "      <td>7.511</td>\n",
       "      <td>-1.017</td>\n",
       "      <td>-7.200</td>\n",
       "      <td>0.000</td>\n",
       "      <td>1016.000</td>\n",
       "      <td>200.000</td>\n",
       "      <td>6.700</td>\n",
       "      <td>nan</td>\n",
       "      <td>31.000</td>\n",
       "      <td>21.000</td>\n",
       "      <td>5.000</td>\n",
       "      <td>26.444</td>\n",
       "      <td>0.471</td>\n",
       "      <td>10.354</td>\n",
       "      <td>273.807</td>\n",
       "      <td>742.193</td>\n",
       "      <td>23.878</td>\n",
       "    </tr>\n",
       "    <tr>\n",
       "      <td>19543322</td>\n",
       "      <td>770.000</td>\n",
       "      <td>2.000</td>\n",
       "      <td>2016-12-31 22:00:00</td>\n",
       "      <td>151.559</td>\n",
       "      <td>6.000</td>\n",
       "      <td>Education</td>\n",
       "      <td>80325.000</td>\n",
       "      <td>nan</td>\n",
       "      <td>nan</td>\n",
       "      <td>7.279</td>\n",
       "      <td>-1.092</td>\n",
       "      <td>-7.200</td>\n",
       "      <td>0.000</td>\n",
       "      <td>1016.000</td>\n",
       "      <td>200.000</td>\n",
       "      <td>6.700</td>\n",
       "      <td>nan</td>\n",
       "      <td>31.000</td>\n",
       "      <td>22.000</td>\n",
       "      <td>5.000</td>\n",
       "      <td>27.605</td>\n",
       "      <td>0.486</td>\n",
       "      <td>10.191</td>\n",
       "      <td>281.326</td>\n",
       "      <td>734.674</td>\n",
       "      <td>23.069</td>\n",
       "    </tr>\n",
       "    <tr>\n",
       "      <td>19545670</td>\n",
       "      <td>770.000</td>\n",
       "      <td>2.000</td>\n",
       "      <td>2016-12-31 23:00:00</td>\n",
       "      <td>32.646</td>\n",
       "      <td>6.000</td>\n",
       "      <td>Education</td>\n",
       "      <td>80325.000</td>\n",
       "      <td>nan</td>\n",
       "      <td>nan</td>\n",
       "      <td>7.047</td>\n",
       "      <td>-1.167</td>\n",
       "      <td>-7.200</td>\n",
       "      <td>0.000</td>\n",
       "      <td>1016.000</td>\n",
       "      <td>200.000</td>\n",
       "      <td>6.700</td>\n",
       "      <td>nan</td>\n",
       "      <td>31.000</td>\n",
       "      <td>23.000</td>\n",
       "      <td>5.000</td>\n",
       "      <td>28.765</td>\n",
       "      <td>0.502</td>\n",
       "      <td>10.031</td>\n",
       "      <td>288.532</td>\n",
       "      <td>727.468</td>\n",
       "      <td>22.266</td>\n",
       "    </tr>\n",
       "  </tbody>\n",
       "</table>\n",
       "<p>7979 rows × 26 columns</p>\n",
       "</div>"
      ],
      "text/plain": [
       "          building_id  meter            timestamp  meter_reading  site_id  \\\n",
       "1716655       770.000  2.000  2016-02-03 06:00:00          0.000    6.000   \n",
       "1718806       770.000  2.000  2016-02-03 07:00:00          0.000    6.000   \n",
       "1733717       770.000  2.000  2016-02-03 14:00:00        398.364    6.000   \n",
       "1735879       770.000  2.000  2016-02-03 15:00:00        255.566    6.000   \n",
       "1738046       770.000  2.000  2016-02-03 16:00:00        147.751    6.000   \n",
       "...               ...    ...                  ...            ...      ...   \n",
       "19536283      770.000  2.000  2016-12-31 19:00:00        344.785    6.000   \n",
       "19538627      770.000  2.000  2016-12-31 20:00:00        312.507    6.000   \n",
       "19540974      770.000  2.000  2016-12-31 21:00:00        286.658    6.000   \n",
       "19543322      770.000  2.000  2016-12-31 22:00:00        151.559    6.000   \n",
       "19545670      770.000  2.000  2016-12-31 23:00:00         32.646    6.000   \n",
       "\n",
       "         primary_use  square_feet  year_built  floor_count  air_temperature  \\\n",
       "1716655    Education    80325.000         nan          nan            5.000   \n",
       "1718806    Education    80325.000         nan          nan            5.000   \n",
       "1733717    Education    80325.000         nan          nan            8.300   \n",
       "1735879    Education    80325.000         nan          nan           10.000   \n",
       "1738046    Education    80325.000         nan          nan           10.600   \n",
       "...              ...          ...         ...          ...              ...   \n",
       "19536283   Education    80325.000         nan          nan            7.200   \n",
       "19538627   Education    80325.000         nan          nan            7.743   \n",
       "19540974   Education    80325.000         nan          nan            7.511   \n",
       "19543322   Education    80325.000         nan          nan            7.279   \n",
       "19545670   Education    80325.000         nan          nan            7.047   \n",
       "\n",
       "          cloud_coverage  dew_temperature  precip_depth_1_hr  \\\n",
       "1716655            6.582            3.900              8.000   \n",
       "1718806            6.729            4.400             10.000   \n",
       "1733717            7.751            8.300             53.000   \n",
       "1735879            7.898            8.300              5.000   \n",
       "1738046            8.045            9.400             10.000   \n",
       "...                  ...              ...                ...   \n",
       "19536283          -0.868           -7.200              0.000   \n",
       "19538627          -0.942           -7.200              0.000   \n",
       "19540974          -1.017           -7.200              0.000   \n",
       "19543322          -1.092           -7.200              0.000   \n",
       "19545670          -1.167           -7.200              0.000   \n",
       "\n",
       "          sea_level_pressure  wind_direction  wind_speed  IsHoliday    Day  \\\n",
       "1716655             1019.400          20.000       2.100      0.000  3.000   \n",
       "1718806             1018.900           0.000       0.000      0.000  3.000   \n",
       "1733717             1015.400           0.000       0.000      0.000  3.000   \n",
       "1735879             1011.900         240.000       2.100      0.000  3.000   \n",
       "1738046             1010.500         200.000       2.100      0.000  3.000   \n",
       "...                      ...             ...         ...        ...    ...   \n",
       "19536283            1016.000         200.000       6.700      0.000 31.000   \n",
       "19538627            1016.000         200.000       6.700        nan 31.000   \n",
       "19540974            1016.000         200.000       6.700        nan 31.000   \n",
       "19543322            1016.000         200.000       6.700        nan 31.000   \n",
       "19545670            1016.000         200.000       6.700        nan 31.000   \n",
       "\n",
       "           Hour  DayOfWeek  relative_humidity  air_density_dry  \\\n",
       "1716655   6.000      2.000             94.500            0.710   \n",
       "1718806   7.000      2.000             97.000            0.710   \n",
       "1733717  14.000      2.000            100.000            0.426   \n",
       "1735879  15.000      2.000             91.500            0.353   \n",
       "1738046  16.000      2.000             94.000            0.332   \n",
       "...         ...        ...                ...              ...   \n",
       "19536283 19.000      5.000             28.000            0.492   \n",
       "19538627 20.000      5.000             25.284            0.457   \n",
       "19540974 21.000      5.000             26.444            0.471   \n",
       "19543322 22.000      5.000             27.605            0.486   \n",
       "19545670 23.000      5.000             28.765            0.502   \n",
       "\n",
       "          vapor_pressure_water_satur  vapor_pressure_water  partial_press_dry  \\\n",
       "1716655                        8.708               822.910            196.490   \n",
       "1718806                        8.708               844.680            174.220   \n",
       "1733717                       10.925              1092.492            -77.092   \n",
       "1735879                       12.250              1120.874           -108.974   \n",
       "1738046                       12.750              1198.529           -188.029   \n",
       "...                              ...                   ...                ...   \n",
       "19536283                      10.136               283.817            732.183   \n",
       "19538627                      10.519               265.969            750.031   \n",
       "19540974                      10.354               273.807            742.193   \n",
       "19543322                      10.191               281.326            734.674   \n",
       "19545670                      10.031               288.532            727.468   \n",
       "\n",
       "          air_density_humid  \n",
       "1716655              12.339  \n",
       "1718806              12.187  \n",
       "1733717              17.420  \n",
       "1735879              20.492  \n",
       "1738046              20.586  \n",
       "...                     ...  \n",
       "19536283             22.794  \n",
       "19538627             24.696  \n",
       "19540974             23.878  \n",
       "19543322             23.069  \n",
       "19545670             22.266  \n",
       "\n",
       "[7979 rows x 26 columns]"
      ]
     },
     "execution_count": 46,
     "metadata": {},
     "output_type": "execute_result"
    }
   ],
   "source": [
    "test[pd.to_datetime(test['timestamp']) > pd.to_datetime('2016-02-03 05:00:00')]"
   ]
  },
  {
   "cell_type": "code",
   "execution_count": 101,
   "metadata": {},
   "outputs": [],
   "source": [
    "test = test[test['meter_reading'] < 5000]"
   ]
  },
  {
   "cell_type": "code",
   "execution_count": 102,
   "metadata": {},
   "outputs": [
    {
     "data": {
      "text/plain": [
       "count   6677.000\n",
       "mean     301.236\n",
       "std      265.740\n",
       "min        0.000\n",
       "25%      131.501\n",
       "50%      217.693\n",
       "75%      461.387\n",
       "max     2948.080\n",
       "Name: meter_reading, dtype: float64"
      ]
     },
     "execution_count": 102,
     "metadata": {},
     "output_type": "execute_result"
    }
   ],
   "source": [
    "test['meter_reading'].describe()"
   ]
  },
  {
   "cell_type": "code",
   "execution_count": 103,
   "metadata": {},
   "outputs": [],
   "source": [
    "#test = dp.create_stats_features(test, ['air_temperature'], ['site_id', 'Hour'])"
   ]
  },
  {
   "cell_type": "code",
   "execution_count": 104,
   "metadata": {},
   "outputs": [],
   "source": [
    "#test['relative_humidity'] = 100-5*(test['air_temperature'] - test['dew_temperature'])\n",
    "#test['air_density_dry'] = test['sea_level_pressure']/(287.058 * test['air_temperature'])\n",
    "#test['vapor_pressure_water_satur'] = 6.102*10**((7.5*test['air_temperature'])/(test['air_temperature']+237.8))\n",
    "#test['vapor_pressure_water'] =  test['relative_humidity']*test['vapor_pressure_water_satur']\n",
    "#test['partial_press_dry'] = test['sea_level_pressure']-test['vapor_pressure_water'] \n",
    "#test['air_density_humid'] = (test['partial_press_dry']*0.0289654+test['vapor_pressure_water'] *0.018016)/8.314*test['air_temperature']"
   ]
  },
  {
   "cell_type": "code",
   "execution_count": 105,
   "metadata": {},
   "outputs": [
    {
     "data": {
      "text/html": [
       "<div>\n",
       "<style scoped>\n",
       "    .dataframe tbody tr th:only-of-type {\n",
       "        vertical-align: middle;\n",
       "    }\n",
       "\n",
       "    .dataframe tbody tr th {\n",
       "        vertical-align: top;\n",
       "    }\n",
       "\n",
       "    .dataframe thead th {\n",
       "        text-align: right;\n",
       "    }\n",
       "</style>\n",
       "<table border=\"1\" class=\"dataframe\">\n",
       "  <thead>\n",
       "    <tr style=\"text-align: right;\">\n",
       "      <th></th>\n",
       "      <th>building_id</th>\n",
       "      <th>meter</th>\n",
       "      <th>meter_reading</th>\n",
       "      <th>site_id</th>\n",
       "      <th>square_feet</th>\n",
       "      <th>year_built</th>\n",
       "      <th>floor_count</th>\n",
       "      <th>air_temperature</th>\n",
       "      <th>cloud_coverage</th>\n",
       "      <th>dew_temperature</th>\n",
       "      <th>precip_depth_1_hr</th>\n",
       "      <th>sea_level_pressure</th>\n",
       "      <th>wind_direction</th>\n",
       "      <th>wind_speed</th>\n",
       "      <th>IsHoliday</th>\n",
       "      <th>Day</th>\n",
       "      <th>Hour</th>\n",
       "      <th>DayOfWeek</th>\n",
       "      <th>relative_humidity</th>\n",
       "      <th>air_density_dry</th>\n",
       "      <th>vapor_pressure_water_satur</th>\n",
       "      <th>vapor_pressure_water</th>\n",
       "      <th>partial_press_dry</th>\n",
       "      <th>air_density_humid</th>\n",
       "    </tr>\n",
       "  </thead>\n",
       "  <tbody>\n",
       "    <tr>\n",
       "      <td>building_id</td>\n",
       "      <td>nan</td>\n",
       "      <td>nan</td>\n",
       "      <td>nan</td>\n",
       "      <td>nan</td>\n",
       "      <td>nan</td>\n",
       "      <td>nan</td>\n",
       "      <td>nan</td>\n",
       "      <td>nan</td>\n",
       "      <td>nan</td>\n",
       "      <td>nan</td>\n",
       "      <td>nan</td>\n",
       "      <td>nan</td>\n",
       "      <td>nan</td>\n",
       "      <td>nan</td>\n",
       "      <td>nan</td>\n",
       "      <td>nan</td>\n",
       "      <td>nan</td>\n",
       "      <td>nan</td>\n",
       "      <td>nan</td>\n",
       "      <td>nan</td>\n",
       "      <td>nan</td>\n",
       "      <td>nan</td>\n",
       "      <td>nan</td>\n",
       "      <td>nan</td>\n",
       "    </tr>\n",
       "    <tr>\n",
       "      <td>meter</td>\n",
       "      <td>nan</td>\n",
       "      <td>nan</td>\n",
       "      <td>nan</td>\n",
       "      <td>nan</td>\n",
       "      <td>nan</td>\n",
       "      <td>nan</td>\n",
       "      <td>nan</td>\n",
       "      <td>nan</td>\n",
       "      <td>nan</td>\n",
       "      <td>nan</td>\n",
       "      <td>nan</td>\n",
       "      <td>nan</td>\n",
       "      <td>nan</td>\n",
       "      <td>nan</td>\n",
       "      <td>nan</td>\n",
       "      <td>nan</td>\n",
       "      <td>nan</td>\n",
       "      <td>nan</td>\n",
       "      <td>nan</td>\n",
       "      <td>nan</td>\n",
       "      <td>nan</td>\n",
       "      <td>nan</td>\n",
       "      <td>nan</td>\n",
       "      <td>nan</td>\n",
       "    </tr>\n",
       "    <tr>\n",
       "      <td>meter_reading</td>\n",
       "      <td>nan</td>\n",
       "      <td>nan</td>\n",
       "      <td>1.000</td>\n",
       "      <td>nan</td>\n",
       "      <td>nan</td>\n",
       "      <td>nan</td>\n",
       "      <td>nan</td>\n",
       "      <td>0.649</td>\n",
       "      <td>0.230</td>\n",
       "      <td>0.654</td>\n",
       "      <td>0.228</td>\n",
       "      <td>-0.087</td>\n",
       "      <td>-0.062</td>\n",
       "      <td>-0.144</td>\n",
       "      <td>-0.030</td>\n",
       "      <td>0.034</td>\n",
       "      <td>0.118</td>\n",
       "      <td>0.011</td>\n",
       "      <td>-0.144</td>\n",
       "      <td>0.026</td>\n",
       "      <td>0.669</td>\n",
       "      <td>0.630</td>\n",
       "      <td>-0.630</td>\n",
       "      <td>0.362</td>\n",
       "    </tr>\n",
       "    <tr>\n",
       "      <td>site_id</td>\n",
       "      <td>nan</td>\n",
       "      <td>nan</td>\n",
       "      <td>nan</td>\n",
       "      <td>nan</td>\n",
       "      <td>nan</td>\n",
       "      <td>nan</td>\n",
       "      <td>nan</td>\n",
       "      <td>nan</td>\n",
       "      <td>nan</td>\n",
       "      <td>nan</td>\n",
       "      <td>nan</td>\n",
       "      <td>nan</td>\n",
       "      <td>nan</td>\n",
       "      <td>nan</td>\n",
       "      <td>nan</td>\n",
       "      <td>nan</td>\n",
       "      <td>nan</td>\n",
       "      <td>nan</td>\n",
       "      <td>nan</td>\n",
       "      <td>nan</td>\n",
       "      <td>nan</td>\n",
       "      <td>nan</td>\n",
       "      <td>nan</td>\n",
       "      <td>nan</td>\n",
       "    </tr>\n",
       "    <tr>\n",
       "      <td>square_feet</td>\n",
       "      <td>nan</td>\n",
       "      <td>nan</td>\n",
       "      <td>nan</td>\n",
       "      <td>nan</td>\n",
       "      <td>nan</td>\n",
       "      <td>nan</td>\n",
       "      <td>nan</td>\n",
       "      <td>nan</td>\n",
       "      <td>nan</td>\n",
       "      <td>nan</td>\n",
       "      <td>nan</td>\n",
       "      <td>nan</td>\n",
       "      <td>nan</td>\n",
       "      <td>nan</td>\n",
       "      <td>nan</td>\n",
       "      <td>nan</td>\n",
       "      <td>nan</td>\n",
       "      <td>nan</td>\n",
       "      <td>nan</td>\n",
       "      <td>nan</td>\n",
       "      <td>nan</td>\n",
       "      <td>nan</td>\n",
       "      <td>nan</td>\n",
       "      <td>nan</td>\n",
       "    </tr>\n",
       "    <tr>\n",
       "      <td>year_built</td>\n",
       "      <td>nan</td>\n",
       "      <td>nan</td>\n",
       "      <td>nan</td>\n",
       "      <td>nan</td>\n",
       "      <td>nan</td>\n",
       "      <td>nan</td>\n",
       "      <td>nan</td>\n",
       "      <td>nan</td>\n",
       "      <td>nan</td>\n",
       "      <td>nan</td>\n",
       "      <td>nan</td>\n",
       "      <td>nan</td>\n",
       "      <td>nan</td>\n",
       "      <td>nan</td>\n",
       "      <td>nan</td>\n",
       "      <td>nan</td>\n",
       "      <td>nan</td>\n",
       "      <td>nan</td>\n",
       "      <td>nan</td>\n",
       "      <td>nan</td>\n",
       "      <td>nan</td>\n",
       "      <td>nan</td>\n",
       "      <td>nan</td>\n",
       "      <td>nan</td>\n",
       "    </tr>\n",
       "    <tr>\n",
       "      <td>floor_count</td>\n",
       "      <td>nan</td>\n",
       "      <td>nan</td>\n",
       "      <td>nan</td>\n",
       "      <td>nan</td>\n",
       "      <td>nan</td>\n",
       "      <td>nan</td>\n",
       "      <td>nan</td>\n",
       "      <td>nan</td>\n",
       "      <td>nan</td>\n",
       "      <td>nan</td>\n",
       "      <td>nan</td>\n",
       "      <td>nan</td>\n",
       "      <td>nan</td>\n",
       "      <td>nan</td>\n",
       "      <td>nan</td>\n",
       "      <td>nan</td>\n",
       "      <td>nan</td>\n",
       "      <td>nan</td>\n",
       "      <td>nan</td>\n",
       "      <td>nan</td>\n",
       "      <td>nan</td>\n",
       "      <td>nan</td>\n",
       "      <td>nan</td>\n",
       "      <td>nan</td>\n",
       "    </tr>\n",
       "    <tr>\n",
       "      <td>air_temperature</td>\n",
       "      <td>nan</td>\n",
       "      <td>nan</td>\n",
       "      <td>0.649</td>\n",
       "      <td>nan</td>\n",
       "      <td>nan</td>\n",
       "      <td>nan</td>\n",
       "      <td>nan</td>\n",
       "      <td>1.000</td>\n",
       "      <td>0.116</td>\n",
       "      <td>0.909</td>\n",
       "      <td>0.269</td>\n",
       "      <td>-0.206</td>\n",
       "      <td>-0.011</td>\n",
       "      <td>-0.108</td>\n",
       "      <td>-0.038</td>\n",
       "      <td>0.041</td>\n",
       "      <td>0.163</td>\n",
       "      <td>0.014</td>\n",
       "      <td>-0.436</td>\n",
       "      <td>0.059</td>\n",
       "      <td>0.955</td>\n",
       "      <td>0.760</td>\n",
       "      <td>-0.761</td>\n",
       "      <td>0.801</td>\n",
       "    </tr>\n",
       "    <tr>\n",
       "      <td>cloud_coverage</td>\n",
       "      <td>nan</td>\n",
       "      <td>nan</td>\n",
       "      <td>0.230</td>\n",
       "      <td>nan</td>\n",
       "      <td>nan</td>\n",
       "      <td>nan</td>\n",
       "      <td>nan</td>\n",
       "      <td>0.116</td>\n",
       "      <td>1.000</td>\n",
       "      <td>0.123</td>\n",
       "      <td>0.036</td>\n",
       "      <td>-0.192</td>\n",
       "      <td>0.230</td>\n",
       "      <td>0.142</td>\n",
       "      <td>-0.026</td>\n",
       "      <td>-0.184</td>\n",
       "      <td>0.090</td>\n",
       "      <td>0.054</td>\n",
       "      <td>-0.014</td>\n",
       "      <td>-0.024</td>\n",
       "      <td>0.145</td>\n",
       "      <td>0.140</td>\n",
       "      <td>-0.142</td>\n",
       "      <td>0.015</td>\n",
       "    </tr>\n",
       "    <tr>\n",
       "      <td>dew_temperature</td>\n",
       "      <td>nan</td>\n",
       "      <td>nan</td>\n",
       "      <td>0.654</td>\n",
       "      <td>nan</td>\n",
       "      <td>nan</td>\n",
       "      <td>nan</td>\n",
       "      <td>nan</td>\n",
       "      <td>0.909</td>\n",
       "      <td>0.123</td>\n",
       "      <td>1.000</td>\n",
       "      <td>0.297</td>\n",
       "      <td>-0.223</td>\n",
       "      <td>-0.124</td>\n",
       "      <td>-0.219</td>\n",
       "      <td>-0.038</td>\n",
       "      <td>0.024</td>\n",
       "      <td>0.032</td>\n",
       "      <td>0.037</td>\n",
       "      <td>-0.022</td>\n",
       "      <td>0.060</td>\n",
       "      <td>0.824</td>\n",
       "      <td>0.925</td>\n",
       "      <td>-0.925</td>\n",
       "      <td>0.595</td>\n",
       "    </tr>\n",
       "    <tr>\n",
       "      <td>precip_depth_1_hr</td>\n",
       "      <td>nan</td>\n",
       "      <td>nan</td>\n",
       "      <td>0.228</td>\n",
       "      <td>nan</td>\n",
       "      <td>nan</td>\n",
       "      <td>nan</td>\n",
       "      <td>nan</td>\n",
       "      <td>0.269</td>\n",
       "      <td>0.036</td>\n",
       "      <td>0.297</td>\n",
       "      <td>1.000</td>\n",
       "      <td>-0.022</td>\n",
       "      <td>-0.045</td>\n",
       "      <td>-0.049</td>\n",
       "      <td>0.011</td>\n",
       "      <td>-0.029</td>\n",
       "      <td>-0.016</td>\n",
       "      <td>0.040</td>\n",
       "      <td>-0.004</td>\n",
       "      <td>0.020</td>\n",
       "      <td>0.279</td>\n",
       "      <td>0.303</td>\n",
       "      <td>-0.303</td>\n",
       "      <td>0.119</td>\n",
       "    </tr>\n",
       "    <tr>\n",
       "      <td>sea_level_pressure</td>\n",
       "      <td>nan</td>\n",
       "      <td>nan</td>\n",
       "      <td>-0.087</td>\n",
       "      <td>nan</td>\n",
       "      <td>nan</td>\n",
       "      <td>nan</td>\n",
       "      <td>nan</td>\n",
       "      <td>-0.206</td>\n",
       "      <td>-0.192</td>\n",
       "      <td>-0.223</td>\n",
       "      <td>-0.022</td>\n",
       "      <td>1.000</td>\n",
       "      <td>-0.151</td>\n",
       "      <td>-0.254</td>\n",
       "      <td>0.147</td>\n",
       "      <td>0.040</td>\n",
       "      <td>-0.014</td>\n",
       "      <td>-0.051</td>\n",
       "      <td>0.013</td>\n",
       "      <td>-0.003</td>\n",
       "      <td>-0.169</td>\n",
       "      <td>-0.199</td>\n",
       "      <td>0.209</td>\n",
       "      <td>-0.143</td>\n",
       "    </tr>\n",
       "    <tr>\n",
       "      <td>wind_direction</td>\n",
       "      <td>nan</td>\n",
       "      <td>nan</td>\n",
       "      <td>-0.062</td>\n",
       "      <td>nan</td>\n",
       "      <td>nan</td>\n",
       "      <td>nan</td>\n",
       "      <td>nan</td>\n",
       "      <td>-0.011</td>\n",
       "      <td>0.230</td>\n",
       "      <td>-0.124</td>\n",
       "      <td>-0.045</td>\n",
       "      <td>-0.151</td>\n",
       "      <td>1.000</td>\n",
       "      <td>0.555</td>\n",
       "      <td>0.021</td>\n",
       "      <td>-0.043</td>\n",
       "      <td>0.158</td>\n",
       "      <td>0.067</td>\n",
       "      <td>-0.242</td>\n",
       "      <td>-0.011</td>\n",
       "      <td>0.026</td>\n",
       "      <td>-0.158</td>\n",
       "      <td>0.156</td>\n",
       "      <td>0.061</td>\n",
       "    </tr>\n",
       "    <tr>\n",
       "      <td>wind_speed</td>\n",
       "      <td>nan</td>\n",
       "      <td>nan</td>\n",
       "      <td>-0.144</td>\n",
       "      <td>nan</td>\n",
       "      <td>nan</td>\n",
       "      <td>nan</td>\n",
       "      <td>nan</td>\n",
       "      <td>-0.108</td>\n",
       "      <td>0.142</td>\n",
       "      <td>-0.219</td>\n",
       "      <td>-0.049</td>\n",
       "      <td>-0.254</td>\n",
       "      <td>0.555</td>\n",
       "      <td>1.000</td>\n",
       "      <td>0.029</td>\n",
       "      <td>0.001</td>\n",
       "      <td>0.098</td>\n",
       "      <td>0.029</td>\n",
       "      <td>-0.214</td>\n",
       "      <td>-0.011</td>\n",
       "      <td>-0.078</td>\n",
       "      <td>-0.232</td>\n",
       "      <td>0.228</td>\n",
       "      <td>-0.018</td>\n",
       "    </tr>\n",
       "    <tr>\n",
       "      <td>IsHoliday</td>\n",
       "      <td>nan</td>\n",
       "      <td>nan</td>\n",
       "      <td>-0.030</td>\n",
       "      <td>nan</td>\n",
       "      <td>nan</td>\n",
       "      <td>nan</td>\n",
       "      <td>nan</td>\n",
       "      <td>-0.038</td>\n",
       "      <td>-0.026</td>\n",
       "      <td>-0.038</td>\n",
       "      <td>0.011</td>\n",
       "      <td>0.147</td>\n",
       "      <td>0.021</td>\n",
       "      <td>0.029</td>\n",
       "      <td>1.000</td>\n",
       "      <td>0.010</td>\n",
       "      <td>-0.006</td>\n",
       "      <td>-0.067</td>\n",
       "      <td>0.008</td>\n",
       "      <td>0.017</td>\n",
       "      <td>-0.036</td>\n",
       "      <td>-0.051</td>\n",
       "      <td>0.053</td>\n",
       "      <td>-0.006</td>\n",
       "    </tr>\n",
       "    <tr>\n",
       "      <td>Day</td>\n",
       "      <td>nan</td>\n",
       "      <td>nan</td>\n",
       "      <td>0.034</td>\n",
       "      <td>nan</td>\n",
       "      <td>nan</td>\n",
       "      <td>nan</td>\n",
       "      <td>nan</td>\n",
       "      <td>0.041</td>\n",
       "      <td>-0.184</td>\n",
       "      <td>0.024</td>\n",
       "      <td>-0.029</td>\n",
       "      <td>0.040</td>\n",
       "      <td>-0.043</td>\n",
       "      <td>0.001</td>\n",
       "      <td>0.010</td>\n",
       "      <td>1.000</td>\n",
       "      <td>0.010</td>\n",
       "      <td>0.010</td>\n",
       "      <td>-0.046</td>\n",
       "      <td>0.019</td>\n",
       "      <td>0.050</td>\n",
       "      <td>0.012</td>\n",
       "      <td>-0.011</td>\n",
       "      <td>0.040</td>\n",
       "    </tr>\n",
       "    <tr>\n",
       "      <td>Hour</td>\n",
       "      <td>nan</td>\n",
       "      <td>nan</td>\n",
       "      <td>0.118</td>\n",
       "      <td>nan</td>\n",
       "      <td>nan</td>\n",
       "      <td>nan</td>\n",
       "      <td>nan</td>\n",
       "      <td>0.163</td>\n",
       "      <td>0.090</td>\n",
       "      <td>0.032</td>\n",
       "      <td>-0.016</td>\n",
       "      <td>-0.014</td>\n",
       "      <td>0.158</td>\n",
       "      <td>0.098</td>\n",
       "      <td>-0.006</td>\n",
       "      <td>0.010</td>\n",
       "      <td>1.000</td>\n",
       "      <td>-0.005</td>\n",
       "      <td>-0.321</td>\n",
       "      <td>0.009</td>\n",
       "      <td>0.193</td>\n",
       "      <td>-0.007</td>\n",
       "      <td>0.007</td>\n",
       "      <td>0.179</td>\n",
       "    </tr>\n",
       "    <tr>\n",
       "      <td>DayOfWeek</td>\n",
       "      <td>nan</td>\n",
       "      <td>nan</td>\n",
       "      <td>0.011</td>\n",
       "      <td>nan</td>\n",
       "      <td>nan</td>\n",
       "      <td>nan</td>\n",
       "      <td>nan</td>\n",
       "      <td>0.014</td>\n",
       "      <td>0.054</td>\n",
       "      <td>0.037</td>\n",
       "      <td>0.040</td>\n",
       "      <td>-0.051</td>\n",
       "      <td>0.067</td>\n",
       "      <td>0.029</td>\n",
       "      <td>-0.067</td>\n",
       "      <td>0.010</td>\n",
       "      <td>-0.005</td>\n",
       "      <td>1.000</td>\n",
       "      <td>0.047</td>\n",
       "      <td>0.001</td>\n",
       "      <td>0.014</td>\n",
       "      <td>0.041</td>\n",
       "      <td>-0.042</td>\n",
       "      <td>-0.010</td>\n",
       "    </tr>\n",
       "    <tr>\n",
       "      <td>relative_humidity</td>\n",
       "      <td>nan</td>\n",
       "      <td>nan</td>\n",
       "      <td>-0.144</td>\n",
       "      <td>nan</td>\n",
       "      <td>nan</td>\n",
       "      <td>nan</td>\n",
       "      <td>nan</td>\n",
       "      <td>-0.436</td>\n",
       "      <td>-0.014</td>\n",
       "      <td>-0.022</td>\n",
       "      <td>-0.004</td>\n",
       "      <td>0.013</td>\n",
       "      <td>-0.242</td>\n",
       "      <td>-0.214</td>\n",
       "      <td>0.008</td>\n",
       "      <td>-0.046</td>\n",
       "      <td>-0.321</td>\n",
       "      <td>0.047</td>\n",
       "      <td>1.000</td>\n",
       "      <td>-0.013</td>\n",
       "      <td>-0.513</td>\n",
       "      <td>0.174</td>\n",
       "      <td>-0.174</td>\n",
       "      <td>-0.640</td>\n",
       "    </tr>\n",
       "    <tr>\n",
       "      <td>air_density_dry</td>\n",
       "      <td>nan</td>\n",
       "      <td>nan</td>\n",
       "      <td>0.026</td>\n",
       "      <td>nan</td>\n",
       "      <td>nan</td>\n",
       "      <td>nan</td>\n",
       "      <td>nan</td>\n",
       "      <td>0.059</td>\n",
       "      <td>-0.024</td>\n",
       "      <td>0.060</td>\n",
       "      <td>0.020</td>\n",
       "      <td>-0.003</td>\n",
       "      <td>-0.011</td>\n",
       "      <td>-0.011</td>\n",
       "      <td>0.017</td>\n",
       "      <td>0.019</td>\n",
       "      <td>0.009</td>\n",
       "      <td>0.001</td>\n",
       "      <td>-0.013</td>\n",
       "      <td>1.000</td>\n",
       "      <td>0.026</td>\n",
       "      <td>0.035</td>\n",
       "      <td>-0.035</td>\n",
       "      <td>0.083</td>\n",
       "    </tr>\n",
       "    <tr>\n",
       "      <td>vapor_pressure_water_satur</td>\n",
       "      <td>nan</td>\n",
       "      <td>nan</td>\n",
       "      <td>0.669</td>\n",
       "      <td>nan</td>\n",
       "      <td>nan</td>\n",
       "      <td>nan</td>\n",
       "      <td>nan</td>\n",
       "      <td>0.955</td>\n",
       "      <td>0.145</td>\n",
       "      <td>0.824</td>\n",
       "      <td>0.279</td>\n",
       "      <td>-0.169</td>\n",
       "      <td>0.026</td>\n",
       "      <td>-0.078</td>\n",
       "      <td>-0.036</td>\n",
       "      <td>0.050</td>\n",
       "      <td>0.193</td>\n",
       "      <td>0.014</td>\n",
       "      <td>-0.513</td>\n",
       "      <td>0.026</td>\n",
       "      <td>1.000</td>\n",
       "      <td>0.696</td>\n",
       "      <td>-0.697</td>\n",
       "      <td>0.712</td>\n",
       "    </tr>\n",
       "    <tr>\n",
       "      <td>vapor_pressure_water</td>\n",
       "      <td>nan</td>\n",
       "      <td>nan</td>\n",
       "      <td>0.630</td>\n",
       "      <td>nan</td>\n",
       "      <td>nan</td>\n",
       "      <td>nan</td>\n",
       "      <td>nan</td>\n",
       "      <td>0.760</td>\n",
       "      <td>0.140</td>\n",
       "      <td>0.925</td>\n",
       "      <td>0.303</td>\n",
       "      <td>-0.199</td>\n",
       "      <td>-0.158</td>\n",
       "      <td>-0.232</td>\n",
       "      <td>-0.051</td>\n",
       "      <td>0.012</td>\n",
       "      <td>-0.007</td>\n",
       "      <td>0.041</td>\n",
       "      <td>0.174</td>\n",
       "      <td>0.035</td>\n",
       "      <td>0.696</td>\n",
       "      <td>1.000</td>\n",
       "      <td>-1.000</td>\n",
       "      <td>0.274</td>\n",
       "    </tr>\n",
       "    <tr>\n",
       "      <td>partial_press_dry</td>\n",
       "      <td>nan</td>\n",
       "      <td>nan</td>\n",
       "      <td>-0.630</td>\n",
       "      <td>nan</td>\n",
       "      <td>nan</td>\n",
       "      <td>nan</td>\n",
       "      <td>nan</td>\n",
       "      <td>-0.761</td>\n",
       "      <td>-0.142</td>\n",
       "      <td>-0.925</td>\n",
       "      <td>-0.303</td>\n",
       "      <td>0.209</td>\n",
       "      <td>0.156</td>\n",
       "      <td>0.228</td>\n",
       "      <td>0.053</td>\n",
       "      <td>-0.011</td>\n",
       "      <td>0.007</td>\n",
       "      <td>-0.042</td>\n",
       "      <td>-0.174</td>\n",
       "      <td>-0.035</td>\n",
       "      <td>-0.697</td>\n",
       "      <td>-1.000</td>\n",
       "      <td>1.000</td>\n",
       "      <td>-0.275</td>\n",
       "    </tr>\n",
       "    <tr>\n",
       "      <td>air_density_humid</td>\n",
       "      <td>nan</td>\n",
       "      <td>nan</td>\n",
       "      <td>0.362</td>\n",
       "      <td>nan</td>\n",
       "      <td>nan</td>\n",
       "      <td>nan</td>\n",
       "      <td>nan</td>\n",
       "      <td>0.801</td>\n",
       "      <td>0.015</td>\n",
       "      <td>0.595</td>\n",
       "      <td>0.119</td>\n",
       "      <td>-0.143</td>\n",
       "      <td>0.061</td>\n",
       "      <td>-0.018</td>\n",
       "      <td>-0.006</td>\n",
       "      <td>0.040</td>\n",
       "      <td>0.179</td>\n",
       "      <td>-0.010</td>\n",
       "      <td>-0.640</td>\n",
       "      <td>0.083</td>\n",
       "      <td>0.712</td>\n",
       "      <td>0.274</td>\n",
       "      <td>-0.275</td>\n",
       "      <td>1.000</td>\n",
       "    </tr>\n",
       "  </tbody>\n",
       "</table>\n",
       "</div>"
      ],
      "text/plain": [
       "                            building_id  meter  meter_reading  site_id  \\\n",
       "building_id                         nan    nan            nan      nan   \n",
       "meter                               nan    nan            nan      nan   \n",
       "meter_reading                       nan    nan          1.000      nan   \n",
       "site_id                             nan    nan            nan      nan   \n",
       "square_feet                         nan    nan            nan      nan   \n",
       "year_built                          nan    nan            nan      nan   \n",
       "floor_count                         nan    nan            nan      nan   \n",
       "air_temperature                     nan    nan          0.649      nan   \n",
       "cloud_coverage                      nan    nan          0.230      nan   \n",
       "dew_temperature                     nan    nan          0.654      nan   \n",
       "precip_depth_1_hr                   nan    nan          0.228      nan   \n",
       "sea_level_pressure                  nan    nan         -0.087      nan   \n",
       "wind_direction                      nan    nan         -0.062      nan   \n",
       "wind_speed                          nan    nan         -0.144      nan   \n",
       "IsHoliday                           nan    nan         -0.030      nan   \n",
       "Day                                 nan    nan          0.034      nan   \n",
       "Hour                                nan    nan          0.118      nan   \n",
       "DayOfWeek                           nan    nan          0.011      nan   \n",
       "relative_humidity                   nan    nan         -0.144      nan   \n",
       "air_density_dry                     nan    nan          0.026      nan   \n",
       "vapor_pressure_water_satur          nan    nan          0.669      nan   \n",
       "vapor_pressure_water                nan    nan          0.630      nan   \n",
       "partial_press_dry                   nan    nan         -0.630      nan   \n",
       "air_density_humid                   nan    nan          0.362      nan   \n",
       "\n",
       "                            square_feet  year_built  floor_count  \\\n",
       "building_id                         nan         nan          nan   \n",
       "meter                               nan         nan          nan   \n",
       "meter_reading                       nan         nan          nan   \n",
       "site_id                             nan         nan          nan   \n",
       "square_feet                         nan         nan          nan   \n",
       "year_built                          nan         nan          nan   \n",
       "floor_count                         nan         nan          nan   \n",
       "air_temperature                     nan         nan          nan   \n",
       "cloud_coverage                      nan         nan          nan   \n",
       "dew_temperature                     nan         nan          nan   \n",
       "precip_depth_1_hr                   nan         nan          nan   \n",
       "sea_level_pressure                  nan         nan          nan   \n",
       "wind_direction                      nan         nan          nan   \n",
       "wind_speed                          nan         nan          nan   \n",
       "IsHoliday                           nan         nan          nan   \n",
       "Day                                 nan         nan          nan   \n",
       "Hour                                nan         nan          nan   \n",
       "DayOfWeek                           nan         nan          nan   \n",
       "relative_humidity                   nan         nan          nan   \n",
       "air_density_dry                     nan         nan          nan   \n",
       "vapor_pressure_water_satur          nan         nan          nan   \n",
       "vapor_pressure_water                nan         nan          nan   \n",
       "partial_press_dry                   nan         nan          nan   \n",
       "air_density_humid                   nan         nan          nan   \n",
       "\n",
       "                            air_temperature  cloud_coverage  dew_temperature  \\\n",
       "building_id                             nan             nan              nan   \n",
       "meter                                   nan             nan              nan   \n",
       "meter_reading                         0.649           0.230            0.654   \n",
       "site_id                                 nan             nan              nan   \n",
       "square_feet                             nan             nan              nan   \n",
       "year_built                              nan             nan              nan   \n",
       "floor_count                             nan             nan              nan   \n",
       "air_temperature                       1.000           0.116            0.909   \n",
       "cloud_coverage                        0.116           1.000            0.123   \n",
       "dew_temperature                       0.909           0.123            1.000   \n",
       "precip_depth_1_hr                     0.269           0.036            0.297   \n",
       "sea_level_pressure                   -0.206          -0.192           -0.223   \n",
       "wind_direction                       -0.011           0.230           -0.124   \n",
       "wind_speed                           -0.108           0.142           -0.219   \n",
       "IsHoliday                            -0.038          -0.026           -0.038   \n",
       "Day                                   0.041          -0.184            0.024   \n",
       "Hour                                  0.163           0.090            0.032   \n",
       "DayOfWeek                             0.014           0.054            0.037   \n",
       "relative_humidity                    -0.436          -0.014           -0.022   \n",
       "air_density_dry                       0.059          -0.024            0.060   \n",
       "vapor_pressure_water_satur            0.955           0.145            0.824   \n",
       "vapor_pressure_water                  0.760           0.140            0.925   \n",
       "partial_press_dry                    -0.761          -0.142           -0.925   \n",
       "air_density_humid                     0.801           0.015            0.595   \n",
       "\n",
       "                            precip_depth_1_hr  sea_level_pressure  \\\n",
       "building_id                               nan                 nan   \n",
       "meter                                     nan                 nan   \n",
       "meter_reading                           0.228              -0.087   \n",
       "site_id                                   nan                 nan   \n",
       "square_feet                               nan                 nan   \n",
       "year_built                                nan                 nan   \n",
       "floor_count                               nan                 nan   \n",
       "air_temperature                         0.269              -0.206   \n",
       "cloud_coverage                          0.036              -0.192   \n",
       "dew_temperature                         0.297              -0.223   \n",
       "precip_depth_1_hr                       1.000              -0.022   \n",
       "sea_level_pressure                     -0.022               1.000   \n",
       "wind_direction                         -0.045              -0.151   \n",
       "wind_speed                             -0.049              -0.254   \n",
       "IsHoliday                               0.011               0.147   \n",
       "Day                                    -0.029               0.040   \n",
       "Hour                                   -0.016              -0.014   \n",
       "DayOfWeek                               0.040              -0.051   \n",
       "relative_humidity                      -0.004               0.013   \n",
       "air_density_dry                         0.020              -0.003   \n",
       "vapor_pressure_water_satur              0.279              -0.169   \n",
       "vapor_pressure_water                    0.303              -0.199   \n",
       "partial_press_dry                      -0.303               0.209   \n",
       "air_density_humid                       0.119              -0.143   \n",
       "\n",
       "                            wind_direction  wind_speed  IsHoliday    Day  \\\n",
       "building_id                            nan         nan        nan    nan   \n",
       "meter                                  nan         nan        nan    nan   \n",
       "meter_reading                       -0.062      -0.144     -0.030  0.034   \n",
       "site_id                                nan         nan        nan    nan   \n",
       "square_feet                            nan         nan        nan    nan   \n",
       "year_built                             nan         nan        nan    nan   \n",
       "floor_count                            nan         nan        nan    nan   \n",
       "air_temperature                     -0.011      -0.108     -0.038  0.041   \n",
       "cloud_coverage                       0.230       0.142     -0.026 -0.184   \n",
       "dew_temperature                     -0.124      -0.219     -0.038  0.024   \n",
       "precip_depth_1_hr                   -0.045      -0.049      0.011 -0.029   \n",
       "sea_level_pressure                  -0.151      -0.254      0.147  0.040   \n",
       "wind_direction                       1.000       0.555      0.021 -0.043   \n",
       "wind_speed                           0.555       1.000      0.029  0.001   \n",
       "IsHoliday                            0.021       0.029      1.000  0.010   \n",
       "Day                                 -0.043       0.001      0.010  1.000   \n",
       "Hour                                 0.158       0.098     -0.006  0.010   \n",
       "DayOfWeek                            0.067       0.029     -0.067  0.010   \n",
       "relative_humidity                   -0.242      -0.214      0.008 -0.046   \n",
       "air_density_dry                     -0.011      -0.011      0.017  0.019   \n",
       "vapor_pressure_water_satur           0.026      -0.078     -0.036  0.050   \n",
       "vapor_pressure_water                -0.158      -0.232     -0.051  0.012   \n",
       "partial_press_dry                    0.156       0.228      0.053 -0.011   \n",
       "air_density_humid                    0.061      -0.018     -0.006  0.040   \n",
       "\n",
       "                             Hour  DayOfWeek  relative_humidity  \\\n",
       "building_id                   nan        nan                nan   \n",
       "meter                         nan        nan                nan   \n",
       "meter_reading               0.118      0.011             -0.144   \n",
       "site_id                       nan        nan                nan   \n",
       "square_feet                   nan        nan                nan   \n",
       "year_built                    nan        nan                nan   \n",
       "floor_count                   nan        nan                nan   \n",
       "air_temperature             0.163      0.014             -0.436   \n",
       "cloud_coverage              0.090      0.054             -0.014   \n",
       "dew_temperature             0.032      0.037             -0.022   \n",
       "precip_depth_1_hr          -0.016      0.040             -0.004   \n",
       "sea_level_pressure         -0.014     -0.051              0.013   \n",
       "wind_direction              0.158      0.067             -0.242   \n",
       "wind_speed                  0.098      0.029             -0.214   \n",
       "IsHoliday                  -0.006     -0.067              0.008   \n",
       "Day                         0.010      0.010             -0.046   \n",
       "Hour                        1.000     -0.005             -0.321   \n",
       "DayOfWeek                  -0.005      1.000              0.047   \n",
       "relative_humidity          -0.321      0.047              1.000   \n",
       "air_density_dry             0.009      0.001             -0.013   \n",
       "vapor_pressure_water_satur  0.193      0.014             -0.513   \n",
       "vapor_pressure_water       -0.007      0.041              0.174   \n",
       "partial_press_dry           0.007     -0.042             -0.174   \n",
       "air_density_humid           0.179     -0.010             -0.640   \n",
       "\n",
       "                            air_density_dry  vapor_pressure_water_satur  \\\n",
       "building_id                             nan                         nan   \n",
       "meter                                   nan                         nan   \n",
       "meter_reading                         0.026                       0.669   \n",
       "site_id                                 nan                         nan   \n",
       "square_feet                             nan                         nan   \n",
       "year_built                              nan                         nan   \n",
       "floor_count                             nan                         nan   \n",
       "air_temperature                       0.059                       0.955   \n",
       "cloud_coverage                       -0.024                       0.145   \n",
       "dew_temperature                       0.060                       0.824   \n",
       "precip_depth_1_hr                     0.020                       0.279   \n",
       "sea_level_pressure                   -0.003                      -0.169   \n",
       "wind_direction                       -0.011                       0.026   \n",
       "wind_speed                           -0.011                      -0.078   \n",
       "IsHoliday                             0.017                      -0.036   \n",
       "Day                                   0.019                       0.050   \n",
       "Hour                                  0.009                       0.193   \n",
       "DayOfWeek                             0.001                       0.014   \n",
       "relative_humidity                    -0.013                      -0.513   \n",
       "air_density_dry                       1.000                       0.026   \n",
       "vapor_pressure_water_satur            0.026                       1.000   \n",
       "vapor_pressure_water                  0.035                       0.696   \n",
       "partial_press_dry                    -0.035                      -0.697   \n",
       "air_density_humid                     0.083                       0.712   \n",
       "\n",
       "                            vapor_pressure_water  partial_press_dry  \\\n",
       "building_id                                  nan                nan   \n",
       "meter                                        nan                nan   \n",
       "meter_reading                              0.630             -0.630   \n",
       "site_id                                      nan                nan   \n",
       "square_feet                                  nan                nan   \n",
       "year_built                                   nan                nan   \n",
       "floor_count                                  nan                nan   \n",
       "air_temperature                            0.760             -0.761   \n",
       "cloud_coverage                             0.140             -0.142   \n",
       "dew_temperature                            0.925             -0.925   \n",
       "precip_depth_1_hr                          0.303             -0.303   \n",
       "sea_level_pressure                        -0.199              0.209   \n",
       "wind_direction                            -0.158              0.156   \n",
       "wind_speed                                -0.232              0.228   \n",
       "IsHoliday                                 -0.051              0.053   \n",
       "Day                                        0.012             -0.011   \n",
       "Hour                                      -0.007              0.007   \n",
       "DayOfWeek                                  0.041             -0.042   \n",
       "relative_humidity                          0.174             -0.174   \n",
       "air_density_dry                            0.035             -0.035   \n",
       "vapor_pressure_water_satur                 0.696             -0.697   \n",
       "vapor_pressure_water                       1.000             -1.000   \n",
       "partial_press_dry                         -1.000              1.000   \n",
       "air_density_humid                          0.274             -0.275   \n",
       "\n",
       "                            air_density_humid  \n",
       "building_id                               nan  \n",
       "meter                                     nan  \n",
       "meter_reading                           0.362  \n",
       "site_id                                   nan  \n",
       "square_feet                               nan  \n",
       "year_built                                nan  \n",
       "floor_count                               nan  \n",
       "air_temperature                         0.801  \n",
       "cloud_coverage                          0.015  \n",
       "dew_temperature                         0.595  \n",
       "precip_depth_1_hr                       0.119  \n",
       "sea_level_pressure                     -0.143  \n",
       "wind_direction                          0.061  \n",
       "wind_speed                             -0.018  \n",
       "IsHoliday                              -0.006  \n",
       "Day                                     0.040  \n",
       "Hour                                    0.179  \n",
       "DayOfWeek                              -0.010  \n",
       "relative_humidity                      -0.640  \n",
       "air_density_dry                         0.083  \n",
       "vapor_pressure_water_satur              0.712  \n",
       "vapor_pressure_water                    0.274  \n",
       "partial_press_dry                      -0.275  \n",
       "air_density_humid                       1.000  "
      ]
     },
     "execution_count": 105,
     "metadata": {},
     "output_type": "execute_result"
    }
   ],
   "source": [
    "test.corr()"
   ]
  },
  {
   "cell_type": "code",
   "execution_count": 106,
   "metadata": {},
   "outputs": [],
   "source": [
    "#test = test[['timestamp', 'building_id', 'meter']]\n",
    "#test = test.groupby(['building_id'])"
   ]
  },
  {
   "cell_type": "code",
   "execution_count": 107,
   "metadata": {},
   "outputs": [],
   "source": [
    "#g = sns.FacetGrid(test, col=\"building_id\", height=4, aspect=4)\n",
    "#g = g.map(plt.scatter, \"timestamp\", \"meter\", edgecolor=\"w\")"
   ]
  },
  {
   "cell_type": "code",
   "execution_count": 49,
   "metadata": {},
   "outputs": [
    {
     "data": {
      "text/plain": [
       "[<matplotlib.lines.Line2D at 0x7f40d13eb7f0>]"
      ]
     },
     "execution_count": 49,
     "metadata": {},
     "output_type": "execute_result"
    },
    {
     "data": {
      "image/png": "[encoded data removed]",
      "text/plain": [
       "<Figure size 1080x1080 with 1 Axes>"
      ]
     },
     "metadata": {
      "needs_background": "light"
     },
     "output_type": "display_data"
    }
   ],
   "source": [
    "plt.figure(figsize=(15,15))\n",
    "plt.plot(pd.to_datetime(test[\"timestamp\"]).dt.date, test['meter_reading'])"
   ]
  },
  {
   "cell_type": "code",
   "execution_count": 21,
   "metadata": {},
   "outputs": [
    {
     "data": {
      "text/plain": [
       "[<matplotlib.lines.Line2D at 0x7f40d15afda0>]"
      ]
     },
     "execution_count": 21,
     "metadata": {},
     "output_type": "execute_result"
    },
    {
     "data": {
      "image/png": "[encoded data removed]",
      "text/plain": [
       "<Figure size 432x288 with 1 Axes>"
      ]
     },
     "metadata": {
      "needs_background": "light"
     },
     "output_type": "display_data"
    }
   ],
   "source": [
    "z = np.abs(stats.zscore(test['meter_reading']))\n",
    "pd.Series(z).describe()\n",
    "plt.plot(z)"
   ]
  },
  {
   "cell_type": "code",
   "execution_count": 22,
   "metadata": {},
   "outputs": [],
   "source": [
    "test = test[(np.abs(stats.zscore(test['meter_reading'])) < 20)]"
   ]
  },
  {
   "cell_type": "code",
   "execution_count": 23,
   "metadata": {},
   "outputs": [
    {
     "data": {
      "text/plain": [
       "[<matplotlib.lines.Line2D at 0x7f40d1515358>]"
      ]
     },
     "execution_count": 23,
     "metadata": {},
     "output_type": "execute_result"
    },
    {
     "data": {
      "image/png": "[encoded data removed]",
      "text/plain": [
       "<Figure size 432x288 with 1 Axes>"
      ]
     },
     "metadata": {
      "needs_background": "light"
     },
     "output_type": "display_data"
    }
   ],
   "source": [
    "z = np.abs(stats.zscore(test['meter_reading']))\n",
    "pd.Series(z).describe()\n",
    "plt.plot(z)"
   ]
  },
  {
   "cell_type": "code",
   "execution_count": 235,
   "metadata": {},
   "outputs": [
    {
     "name": "stderr",
     "output_type": "stream",
     "text": [
      "/opt/conda/lib/python3.7/site-packages/ipykernel_launcher.py:2: SettingWithCopyWarning: \n",
      "A value is trying to be set on a copy of a slice from a DataFrame.\n",
      "Try using .loc[row_indexer,col_indexer] = value instead\n",
      "\n",
      "See the caveats in the documentation: http://pandas.pydata.org/pandas-docs/stable/user_guide/indexing.html#returning-a-view-versus-a-copy\n",
      "  \n"
     ]
    },
    {
     "data": {
      "text/plain": [
       "0"
      ]
     },
     "execution_count": 235,
     "metadata": {},
     "output_type": "execute_result"
    }
   ],
   "source": [
    "### Testing Prophet ###\n",
    "#test_ts = test[['timestamp', 'meter_reading']]\n",
    "#test_ts['timestamp'] = pd.to_datetime(test_ts[\"timestamp\"])\n",
    "#test_ts = test_ts.set_index('timestamp')\n",
    "#test_ts = test_ts.meter_reading.fillna(test_ts.meter_reading.rolling(969,min_periods=1).mean())\n",
    "#test_ts.isnull().sum()"
   ]
  },
  {
   "cell_type": "code",
   "execution_count": null,
   "metadata": {},
   "outputs": [],
   "source": [
    "#test_ts.plot(style=['k--', 'bo-', 'r*'], figsize=(20, 10))"
   ]
  },
  {
   "cell_type": "code",
   "execution_count": 172,
   "metadata": {},
   "outputs": [],
   "source": [
    "################ Manual check of singe buildings ##################\n",
    "df_train_elec = df_train[(df_train['site_id'] == 14) & (df_train['meter'] == 1)] \n",
    "df_train_elec_test = df_train_elec[df_train_elec['building_id'] == 753]"
   ]
  },
  {
   "cell_type": "code",
   "execution_count": 173,
   "metadata": {},
   "outputs": [
    {
     "data": {
      "text/html": [
       "<div>\n",
       "<style scoped>\n",
       "    .dataframe tbody tr th:only-of-type {\n",
       "        vertical-align: middle;\n",
       "    }\n",
       "\n",
       "    .dataframe tbody tr th {\n",
       "        vertical-align: top;\n",
       "    }\n",
       "\n",
       "    .dataframe thead th {\n",
       "        text-align: right;\n",
       "    }\n",
       "</style>\n",
       "<table border=\"1\" class=\"dataframe\">\n",
       "  <thead>\n",
       "    <tr style=\"text-align: right;\">\n",
       "      <th></th>\n",
       "      <th>building_id</th>\n",
       "      <th>meter</th>\n",
       "      <th>timestamp</th>\n",
       "      <th>meter_reading</th>\n",
       "      <th>site_id</th>\n",
       "      <th>primary_use</th>\n",
       "      <th>square_feet</th>\n",
       "      <th>year_built</th>\n",
       "      <th>floor_count</th>\n",
       "      <th>air_temperature</th>\n",
       "      <th>cloud_coverage</th>\n",
       "      <th>dew_temperature</th>\n",
       "      <th>precip_depth_1_hr</th>\n",
       "      <th>sea_level_pressure</th>\n",
       "      <th>wind_direction</th>\n",
       "      <th>wind_speed</th>\n",
       "      <th>IsHoliday</th>\n",
       "      <th>Day</th>\n",
       "      <th>Hour</th>\n",
       "      <th>DayOfWeek</th>\n",
       "      <th>is_constant_meter</th>\n",
       "    </tr>\n",
       "  </thead>\n",
       "  <tbody>\n",
       "    <tr>\n",
       "      <td>3022992</td>\n",
       "      <td>7</td>\n",
       "      <td>1</td>\n",
       "      <td>2016-02-29 09:00:00</td>\n",
       "      <td>1857.260</td>\n",
       "      <td>0</td>\n",
       "      <td>Education</td>\n",
       "      <td>121074</td>\n",
       "      <td>1989.000</td>\n",
       "      <td>nan</td>\n",
       "      <td>13.300</td>\n",
       "      <td>9.635</td>\n",
       "      <td>11.100</td>\n",
       "      <td>0.000</td>\n",
       "      <td>1023.100</td>\n",
       "      <td>0.000</td>\n",
       "      <td>0.000</td>\n",
       "      <td>0.000</td>\n",
       "      <td>29</td>\n",
       "      <td>9</td>\n",
       "      <td>0</td>\n",
       "      <td>nan</td>\n",
       "    </tr>\n",
       "    <tr>\n",
       "      <td>3022993</td>\n",
       "      <td>9</td>\n",
       "      <td>1</td>\n",
       "      <td>2016-02-29 09:00:00</td>\n",
       "      <td>590.945</td>\n",
       "      <td>0</td>\n",
       "      <td>Office</td>\n",
       "      <td>27000</td>\n",
       "      <td>2010.000</td>\n",
       "      <td>nan</td>\n",
       "      <td>13.300</td>\n",
       "      <td>9.347</td>\n",
       "      <td>11.100</td>\n",
       "      <td>0.000</td>\n",
       "      <td>1023.100</td>\n",
       "      <td>0.000</td>\n",
       "      <td>0.000</td>\n",
       "      <td>0.000</td>\n",
       "      <td>29</td>\n",
       "      <td>9</td>\n",
       "      <td>0</td>\n",
       "      <td>nan</td>\n",
       "    </tr>\n",
       "    <tr>\n",
       "      <td>3022994</td>\n",
       "      <td>13</td>\n",
       "      <td>1</td>\n",
       "      <td>2016-02-29 09:00:00</td>\n",
       "      <td>1224.100</td>\n",
       "      <td>0</td>\n",
       "      <td>Education</td>\n",
       "      <td>99380</td>\n",
       "      <td>2000.000</td>\n",
       "      <td>nan</td>\n",
       "      <td>13.300</td>\n",
       "      <td>7.035</td>\n",
       "      <td>11.100</td>\n",
       "      <td>0.000</td>\n",
       "      <td>1023.100</td>\n",
       "      <td>0.000</td>\n",
       "      <td>0.000</td>\n",
       "      <td>0.000</td>\n",
       "      <td>29</td>\n",
       "      <td>9</td>\n",
       "      <td>0</td>\n",
       "      <td>nan</td>\n",
       "    </tr>\n",
       "    <tr>\n",
       "      <td>3022995</td>\n",
       "      <td>14</td>\n",
       "      <td>1</td>\n",
       "      <td>2016-02-29 09:00:00</td>\n",
       "      <td>1435.150</td>\n",
       "      <td>0</td>\n",
       "      <td>Education</td>\n",
       "      <td>86250</td>\n",
       "      <td>2013.000</td>\n",
       "      <td>nan</td>\n",
       "      <td>13.300</td>\n",
       "      <td>9.731</td>\n",
       "      <td>11.100</td>\n",
       "      <td>0.000</td>\n",
       "      <td>1023.100</td>\n",
       "      <td>0.000</td>\n",
       "      <td>0.000</td>\n",
       "      <td>0.000</td>\n",
       "      <td>29</td>\n",
       "      <td>9</td>\n",
       "      <td>0</td>\n",
       "      <td>nan</td>\n",
       "    </tr>\n",
       "    <tr>\n",
       "      <td>3022996</td>\n",
       "      <td>15</td>\n",
       "      <td>1</td>\n",
       "      <td>2016-02-29 09:00:00</td>\n",
       "      <td>422.104</td>\n",
       "      <td>0</td>\n",
       "      <td>Office</td>\n",
       "      <td>83957</td>\n",
       "      <td>1974.000</td>\n",
       "      <td>nan</td>\n",
       "      <td>13.300</td>\n",
       "      <td>9.731</td>\n",
       "      <td>11.100</td>\n",
       "      <td>0.000</td>\n",
       "      <td>1023.100</td>\n",
       "      <td>0.000</td>\n",
       "      <td>0.000</td>\n",
       "      <td>0.000</td>\n",
       "      <td>29</td>\n",
       "      <td>9</td>\n",
       "      <td>0</td>\n",
       "      <td>nan</td>\n",
       "    </tr>\n",
       "  </tbody>\n",
       "</table>\n",
       "</div>"
      ],
      "text/plain": [
       "         building_id  meter            timestamp  meter_reading  site_id  \\\n",
       "3022992            7      1  2016-02-29 09:00:00       1857.260        0   \n",
       "3022993            9      1  2016-02-29 09:00:00        590.945        0   \n",
       "3022994           13      1  2016-02-29 09:00:00       1224.100        0   \n",
       "3022995           14      1  2016-02-29 09:00:00       1435.150        0   \n",
       "3022996           15      1  2016-02-29 09:00:00        422.104        0   \n",
       "\n",
       "        primary_use  square_feet  year_built  floor_count  air_temperature  \\\n",
       "3022992   Education       121074    1989.000          nan           13.300   \n",
       "3022993      Office        27000    2010.000          nan           13.300   \n",
       "3022994   Education        99380    2000.000          nan           13.300   \n",
       "3022995   Education        86250    2013.000          nan           13.300   \n",
       "3022996      Office        83957    1974.000          nan           13.300   \n",
       "\n",
       "         cloud_coverage  dew_temperature  precip_depth_1_hr  \\\n",
       "3022992           9.635           11.100              0.000   \n",
       "3022993           9.347           11.100              0.000   \n",
       "3022994           7.035           11.100              0.000   \n",
       "3022995           9.731           11.100              0.000   \n",
       "3022996           9.731           11.100              0.000   \n",
       "\n",
       "         sea_level_pressure  wind_direction  wind_speed  IsHoliday  Day  Hour  \\\n",
       "3022992            1023.100           0.000       0.000      0.000   29     9   \n",
       "3022993            1023.100           0.000       0.000      0.000   29     9   \n",
       "3022994            1023.100           0.000       0.000      0.000   29     9   \n",
       "3022995            1023.100           0.000       0.000      0.000   29     9   \n",
       "3022996            1023.100           0.000       0.000      0.000   29     9   \n",
       "\n",
       "         DayOfWeek  is_constant_meter  \n",
       "3022992          0                nan  \n",
       "3022993          0                nan  \n",
       "3022994          0                nan  \n",
       "3022995          0                nan  \n",
       "3022996          0                nan  "
      ]
     },
     "execution_count": 173,
     "metadata": {},
     "output_type": "execute_result"
    }
   ],
   "source": [
    "df_train_elec.head()"
   ]
  },
  {
   "cell_type": "code",
   "execution_count": 148,
   "metadata": {},
   "outputs": [
    {
     "data": {
      "text/plain": [
       "[<matplotlib.lines.Line2D at 0x7f8c02757470>]"
      ]
     },
     "execution_count": 148,
     "metadata": {},
     "output_type": "execute_result"
    },
    {
     "data": {
      "image/png": "[encoded data removed]",
      "text/plain": [
       "<Figure size 432x288 with 1 Axes>"
      ]
     },
     "metadata": {
      "needs_background": "light"
     },
     "output_type": "display_data"
    }
   ],
   "source": [
    "#z = np.abs(stats.zscore(df_train_elec['meter_reading']))\n",
    "#pd.Series(z).describe()\n",
    "#plt.plot(z)"
   ]
  },
  {
   "cell_type": "code",
   "execution_count": 149,
   "metadata": {},
   "outputs": [
    {
     "data": {
      "text/plain": [
       "array([  7,   9,  13,  14,  15,  29,  30,  31,  43,  50,  55,  60,  75,\n",
       "        76,  78,  82,  91,  92,  95,  96,  97, 103,  28,  98])"
      ]
     },
     "execution_count": 149,
     "metadata": {},
     "output_type": "execute_result"
    }
   ],
   "source": [
    "#df_train_elec['building_id'].unique()"
   ]
  },
  {
   "cell_type": "code",
   "execution_count": 150,
   "metadata": {},
   "outputs": [],
   "source": [
    "#test = df_train_elec.groupby('building_id', as_index=False).apply(lambda x: x[(np.abs(stats.zscore(x['meter_reading'])) < 5)])\n",
    "#df_train_elec_test[(np.abs(stats.zscore(df_train_elec_test['meter_reading'])) < 5)]\n",
    "#test.shape"
   ]
  },
  {
   "cell_type": "code",
   "execution_count": 203,
   "metadata": {},
   "outputs": [],
   "source": [
    "#df_train_elec = df_train[(df_train['meter'] ==  1) & (df_train['building_id'] == 7)] "
   ]
  },
  {
   "cell_type": "code",
   "execution_count": 152,
   "metadata": {},
   "outputs": [],
   "source": [
    "#df_train_elec[pd.to_datetime(df_train_elec['timestamp']) > pd.to_datetime('2016-09-24 20:00:00')]"
   ]
  },
  {
   "cell_type": "code",
   "execution_count": 154,
   "metadata": {},
   "outputs": [
    {
     "data": {
      "text/plain": [
       "[<matplotlib.lines.Line2D at 0x7f8c076b3198>]"
      ]
     },
     "execution_count": 154,
     "metadata": {},
     "output_type": "execute_result"
    },
    {
     "data": {
      "image/png": "[encoded data removed]",
      "text/plain": [
       "<Figure size 432x288 with 1 Axes>"
      ]
     },
     "metadata": {
      "needs_background": "light"
     },
     "output_type": "display_data"
    }
   ],
   "source": [
    "#z = np.abs(stats.zscore(df_train_elec['meter_reading']))\n",
    "#pd.Series(z).describe()\n",
    "#plt.plot(z)"
   ]
  },
  {
   "cell_type": "code",
   "execution_count": 155,
   "metadata": {},
   "outputs": [],
   "source": [
    "#df_train_elec[pd.to_datetime(df_train_elec['timestamp']) > pd.to_datetime('2016-05-20 17:00:00')].head(30) "
   ]
  },
  {
   "cell_type": "code",
   "execution_count": 204,
   "metadata": {},
   "outputs": [
    {
     "name": "stderr",
     "output_type": "stream",
     "text": [
      "/opt/conda/lib/python3.7/site-packages/ipykernel_launcher.py:1: FutureWarning: Currently, 'apply' passes the values as ndarrays to the applied function. In the future, this will change to passing it as Series objects. You need to specify 'raw=True' to keep the current behaviour, and you can pass 'raw=False' to silence this warning\n",
      "  \"\"\"Entry point for launching an IPython kernel.\n"
     ]
    },
    {
     "data": {
      "text/plain": [
       "[<matplotlib.lines.Line2D at 0x7f5379304ba8>]"
      ]
     },
     "execution_count": 204,
     "metadata": {},
     "output_type": "execute_result"
    },
    {
     "data": {
      "image/png": "[encoded data removed]",
      "text/plain": [
       "<Figure size 432x288 with 1 Axes>"
      ]
     },
     "metadata": {
      "needs_background": "light"
     },
     "output_type": "display_data"
    }
   ],
   "source": [
    "#plt.plot(df_train_elec['meter_reading'].rolling(2).apply(roll_diff))"
   ]
  },
  {
   "cell_type": "code",
   "execution_count": 205,
   "metadata": {},
   "outputs": [
    {
     "data": {
      "text/plain": [
       "[<matplotlib.lines.Line2D at 0x7f53796b2b70>]"
      ]
     },
     "execution_count": 205,
     "metadata": {},
     "output_type": "execute_result"
    },
    {
     "data": {
      "image/png": "[encoded data removed]",
      "text/plain": [
       "<Figure size 1440x1440 with 1 Axes>"
      ]
     },
     "metadata": {
      "needs_background": "light"
     },
     "output_type": "display_data"
    }
   ],
   "source": [
    "plt.figure(figsize=(20,20))\n",
    "plt.plot(pd.to_datetime(df_train_elec[\"timestamp\"]).dt.date, df_train_elec['meter_reading'])"
   ]
  },
  {
   "cell_type": "code",
   "execution_count": null,
   "metadata": {},
   "outputs": [],
   "source": []
  },
  {
   "cell_type": "code",
   "execution_count": 879,
   "metadata": {},
   "outputs": [],
   "source": [
    "#df_train = df_train[df_train[\"meter_reading\"] != 0.0]"
   ]
  },
  {
   "cell_type": "code",
   "execution_count": 880,
   "metadata": {},
   "outputs": [],
   "source": [
    "#encode_cols = [\"primary_use\"]"
   ]
  },
  {
   "cell_type": "code",
   "execution_count": 881,
   "metadata": {},
   "outputs": [],
   "source": [
    "#data = dp.encode_categorical(df_train, df_test, encode_cols) "
   ]
  },
  {
   "cell_type": "code",
   "execution_count": 882,
   "metadata": {},
   "outputs": [],
   "source": [
    "#mb = mc.modelBuilder('regression', 'LGBM')"
   ]
  },
  {
   "cell_type": "code",
   "execution_count": 883,
   "metadata": {},
   "outputs": [],
   "source": [
    "#data = mb.prepare_data_split(df_train =  data['df_train'], df_test = data['df_test'], \n",
    "#                             target = 'meter_reading', rem_cols = ['timestamp'], \n",
    "#                             useVarImp = False, varimp_threshold = 100)"
   ]
  },
  {
   "cell_type": "code",
   "execution_count": 884,
   "metadata": {},
   "outputs": [],
   "source": [
    "#data['X_test'] = data['X_test'].drop([\"row_id\"],  axis=1)"
   ]
  },
  {
   "cell_type": "code",
   "execution_count": null,
   "metadata": {},
   "outputs": [],
   "source": [
    "#data['Y'] = np.log(data['Y'])"
   ]
  },
  {
   "cell_type": "code",
   "execution_count": 102,
   "metadata": {},
   "outputs": [],
   "source": [
    "#data['Y'][data['Y'] == -inf] = 0"
   ]
  },
  {
   "cell_type": "code",
   "execution_count": null,
   "metadata": {},
   "outputs": [],
   "source": [
    "#data['Y'].describe()"
   ]
  },
  {
   "cell_type": "code",
   "execution_count": 51,
   "metadata": {},
   "outputs": [],
   "source": [
    "def rmse(y, yhat):\n",
    "    score = sqrt(mean_squared_error(y, yhat))\n",
    "    return(score)"
   ]
  },
  {
   "cell_type": "code",
   "execution_count": 76,
   "metadata": {},
   "outputs": [],
   "source": [
    "# LGBM\n",
    "params = {\n",
    "    'boosting_type':'gbdt',\n",
    "    'n_estimators':300,\n",
    "    'num_leaves':32, \n",
    "    'objective':'regression_l2', \n",
    "    'colsample_bytree': 1.0, \n",
    "    'learning_rate': 0.05,\n",
    "    'max_bin':255, \n",
    "    'max_depth':9, \n",
    "    'metric':'rmse', \n",
    "    'min_child_samples':10,\n",
    "    'min_child_weight':5, \n",
    "    'min_split_gain':0.0,\n",
    "    'random_state':1234,\n",
    "    'lambda_l2': 1.5,\n",
    "    'verbose' : 2,\n",
    "    #'reg_alpha':0.0,\n",
    "    #'reg_lambda':0.0, \n",
    "    #'silent':True, \n",
    "    'subsample':1.0\n",
    "    #,\n",
    "    #'early_stopping_round' : 100\n",
    "}"
   ]
  },
  {
   "cell_type": "code",
   "execution_count": 10,
   "metadata": {},
   "outputs": [],
   "source": [
    "### CatBoost params\n",
    "params = {\n",
    "    'iterations':500,\n",
    "    'learning_rate' : 0.3,\n",
    "    'depth' : 9,\n",
    "    'loss_function' : 'RMSE',\n",
    "    'verbose' : 2,\n",
    "    'eval_metric': 'RMSE',\n",
    "}"
   ]
  },
  {
   "cell_type": "code",
   "execution_count": 11,
   "metadata": {},
   "outputs": [],
   "source": [
    "#gc.collect()"
   ]
  },
  {
   "cell_type": "code",
   "execution_count": 12,
   "metadata": {},
   "outputs": [],
   "source": [
    "#df_train_build = df_train[(df_train['building_id'] == 46) & (df_train['meter'] == 0)]"
   ]
  },
  {
   "cell_type": "code",
   "execution_count": 13,
   "metadata": {},
   "outputs": [],
   "source": [
    "#df_train_build.head(20)"
   ]
  },
  {
   "cell_type": "code",
   "execution_count": 14,
   "metadata": {},
   "outputs": [],
   "source": [
    "#submit = mb.run_model(data, n_folds = 5, metric_func = rmse, get_probab = False, \n",
    "#                      save_varimp = True, params = params, oversmp = False, cv_shuffle=False)"
   ]
  },
  {
   "cell_type": "code",
   "execution_count": 247,
   "metadata": {},
   "outputs": [
    {
     "data": {
      "text/plain": [
       "row_id                  int64\n",
       "building_id             int64\n",
       "meter                   int64\n",
       "timestamp              object\n",
       "site_id                 int64\n",
       "primary_use            object\n",
       "square_feet             int64\n",
       "year_built            float64\n",
       "floor_count           float64\n",
       "air_temperature       float64\n",
       "cloud_coverage        float64\n",
       "dew_temperature       float64\n",
       "precip_depth_1_hr     float64\n",
       "sea_level_pressure    float64\n",
       "wind_direction        float64\n",
       "wind_speed            float64\n",
       "IsHoliday             float64\n",
       "Day                     int64\n",
       "Hour                    int64\n",
       "DayOfWeek               int64\n",
       "dtype: object"
      ]
     },
     "execution_count": 247,
     "metadata": {},
     "output_type": "execute_result"
    }
   ],
   "source": [
    "df_test.dtypes"
   ]
  },
  {
   "cell_type": "code",
   "execution_count": null,
   "metadata": {},
   "outputs": [],
   "source": [
    "df_train = df_train.drop(['is_constant_meter'], axis = 1)"
   ]
  },
  {
   "cell_type": "code",
   "execution_count": 456,
   "metadata": {},
   "outputs": [],
   "source": [
    "df_train[df_train['meter_reading'] < 0]['meter_reading'] = 0 "
   ]
  },
  {
   "cell_type": "code",
   "execution_count": null,
   "metadata": {},
   "outputs": [],
   "source": [
    "#### Replace Constants with Prophet ####\n",
    "df_train_final = pd.read_csv('./df_train_prophet_for_constants.csv', compression = 'gzip')\n",
    "df_train_prophet = df_train_final[['timestamp', 'building_id', 'meter', 'meter_reading']]\n",
    "df_train_prophet.columns = ['timestamp', 'building_id', 'meter', 'meter_reading_prophet']\n",
    "df_train = df_train.merge(df_train_prophet, on = ['timestamp', 'building_id', 'meter'])\n",
    "df_train.meter_reading.fillna(df_train.meter_reading_prophet, inplace=True)\n",
    "df_train = df_train.drop(['meter_reading_prophet','is_constant_meter'], axis = 1)"
   ]
  },
  {
   "cell_type": "code",
   "execution_count": 55,
   "metadata": {},
   "outputs": [
    {
     "data": {
      "text/html": [
       "<div>\n",
       "<style scoped>\n",
       "    .dataframe tbody tr th:only-of-type {\n",
       "        vertical-align: middle;\n",
       "    }\n",
       "\n",
       "    .dataframe tbody tr th {\n",
       "        vertical-align: top;\n",
       "    }\n",
       "\n",
       "    .dataframe thead th {\n",
       "        text-align: right;\n",
       "    }\n",
       "</style>\n",
       "<table border=\"1\" class=\"dataframe\">\n",
       "  <thead>\n",
       "    <tr style=\"text-align: right;\">\n",
       "      <th></th>\n",
       "      <th>building_id</th>\n",
       "      <th>meter</th>\n",
       "      <th>meter_reading</th>\n",
       "      <th>site_id</th>\n",
       "      <th>square_feet</th>\n",
       "      <th>year_built</th>\n",
       "      <th>floor_count</th>\n",
       "      <th>air_temperature</th>\n",
       "      <th>cloud_coverage</th>\n",
       "      <th>dew_temperature</th>\n",
       "      <th>precip_depth_1_hr</th>\n",
       "      <th>sea_level_pressure</th>\n",
       "      <th>wind_direction</th>\n",
       "      <th>wind_speed</th>\n",
       "      <th>IsHoliday</th>\n",
       "      <th>Day</th>\n",
       "      <th>Hour</th>\n",
       "      <th>DayOfWeek</th>\n",
       "      <th>relative_humidity</th>\n",
       "      <th>air_density_dry</th>\n",
       "      <th>vapor_pressure_water_satur</th>\n",
       "      <th>vapor_pressure_water</th>\n",
       "      <th>partial_press_dry</th>\n",
       "      <th>air_density_humid</th>\n",
       "    </tr>\n",
       "  </thead>\n",
       "  <tbody>\n",
       "    <tr>\n",
       "      <td>building_id</td>\n",
       "      <td>1.000</td>\n",
       "      <td>0.208</td>\n",
       "      <td>0.009</td>\n",
       "      <td>0.980</td>\n",
       "      <td>0.084</td>\n",
       "      <td>-0.213</td>\n",
       "      <td>-0.370</td>\n",
       "      <td>-0.317</td>\n",
       "      <td>-0.158</td>\n",
       "      <td>-0.101</td>\n",
       "      <td>0.056</td>\n",
       "      <td>0.085</td>\n",
       "      <td>0.049</td>\n",
       "      <td>0.009</td>\n",
       "      <td>0.001</td>\n",
       "      <td>-0.003</td>\n",
       "      <td>-0.000</td>\n",
       "      <td>-0.000</td>\n",
       "      <td>0.327</td>\n",
       "      <td>0.003</td>\n",
       "      <td>-0.314</td>\n",
       "      <td>0.175</td>\n",
       "      <td>-0.177</td>\n",
       "      <td>-0.326</td>\n",
       "    </tr>\n",
       "    <tr>\n",
       "      <td>meter</td>\n",
       "      <td>0.208</td>\n",
       "      <td>1.000</td>\n",
       "      <td>0.018</td>\n",
       "      <td>0.241</td>\n",
       "      <td>0.131</td>\n",
       "      <td>0.021</td>\n",
       "      <td>0.191</td>\n",
       "      <td>-0.007</td>\n",
       "      <td>-0.143</td>\n",
       "      <td>-0.074</td>\n",
       "      <td>0.019</td>\n",
       "      <td>-0.049</td>\n",
       "      <td>-0.024</td>\n",
       "      <td>-0.080</td>\n",
       "      <td>0.001</td>\n",
       "      <td>-0.002</td>\n",
       "      <td>0.000</td>\n",
       "      <td>0.000</td>\n",
       "      <td>-0.091</td>\n",
       "      <td>-0.002</td>\n",
       "      <td>0.018</td>\n",
       "      <td>-0.086</td>\n",
       "      <td>0.083</td>\n",
       "      <td>0.048</td>\n",
       "    </tr>\n",
       "    <tr>\n",
       "      <td>meter_reading</td>\n",
       "      <td>0.009</td>\n",
       "      <td>0.018</td>\n",
       "      <td>1.000</td>\n",
       "      <td>0.012</td>\n",
       "      <td>0.025</td>\n",
       "      <td>0.132</td>\n",
       "      <td>0.133</td>\n",
       "      <td>-0.004</td>\n",
       "      <td>0.011</td>\n",
       "      <td>-0.003</td>\n",
       "      <td>-0.000</td>\n",
       "      <td>-0.004</td>\n",
       "      <td>0.000</td>\n",
       "      <td>0.006</td>\n",
       "      <td>-0.001</td>\n",
       "      <td>-0.000</td>\n",
       "      <td>0.001</td>\n",
       "      <td>-0.001</td>\n",
       "      <td>0.001</td>\n",
       "      <td>0.000</td>\n",
       "      <td>-0.005</td>\n",
       "      <td>-0.001</td>\n",
       "      <td>0.001</td>\n",
       "      <td>-0.002</td>\n",
       "    </tr>\n",
       "    <tr>\n",
       "      <td>site_id</td>\n",
       "      <td>0.980</td>\n",
       "      <td>0.241</td>\n",
       "      <td>0.012</td>\n",
       "      <td>1.000</td>\n",
       "      <td>0.088</td>\n",
       "      <td>-0.181</td>\n",
       "      <td>-0.357</td>\n",
       "      <td>-0.309</td>\n",
       "      <td>-0.124</td>\n",
       "      <td>-0.127</td>\n",
       "      <td>0.052</td>\n",
       "      <td>0.062</td>\n",
       "      <td>0.051</td>\n",
       "      <td>0.017</td>\n",
       "      <td>0.001</td>\n",
       "      <td>-0.003</td>\n",
       "      <td>-0.000</td>\n",
       "      <td>-0.000</td>\n",
       "      <td>0.280</td>\n",
       "      <td>0.003</td>\n",
       "      <td>-0.295</td>\n",
       "      <td>0.131</td>\n",
       "      <td>-0.135</td>\n",
       "      <td>-0.295</td>\n",
       "    </tr>\n",
       "    <tr>\n",
       "      <td>square_feet</td>\n",
       "      <td>0.084</td>\n",
       "      <td>0.131</td>\n",
       "      <td>0.025</td>\n",
       "      <td>0.088</td>\n",
       "      <td>1.000</td>\n",
       "      <td>0.146</td>\n",
       "      <td>0.569</td>\n",
       "      <td>-0.015</td>\n",
       "      <td>-0.003</td>\n",
       "      <td>-0.022</td>\n",
       "      <td>0.039</td>\n",
       "      <td>-0.019</td>\n",
       "      <td>-0.017</td>\n",
       "      <td>-0.034</td>\n",
       "      <td>0.000</td>\n",
       "      <td>-0.001</td>\n",
       "      <td>0.000</td>\n",
       "      <td>0.000</td>\n",
       "      <td>-0.008</td>\n",
       "      <td>-0.004</td>\n",
       "      <td>0.000</td>\n",
       "      <td>-0.005</td>\n",
       "      <td>0.002</td>\n",
       "      <td>-0.017</td>\n",
       "    </tr>\n",
       "    <tr>\n",
       "      <td>year_built</td>\n",
       "      <td>-0.213</td>\n",
       "      <td>0.021</td>\n",
       "      <td>0.132</td>\n",
       "      <td>-0.181</td>\n",
       "      <td>0.146</td>\n",
       "      <td>1.000</td>\n",
       "      <td>0.133</td>\n",
       "      <td>0.171</td>\n",
       "      <td>0.084</td>\n",
       "      <td>0.101</td>\n",
       "      <td>-0.023</td>\n",
       "      <td>-0.031</td>\n",
       "      <td>-0.063</td>\n",
       "      <td>-0.049</td>\n",
       "      <td>0.002</td>\n",
       "      <td>0.004</td>\n",
       "      <td>0.000</td>\n",
       "      <td>-0.000</td>\n",
       "      <td>-0.101</td>\n",
       "      <td>-0.006</td>\n",
       "      <td>0.167</td>\n",
       "      <td>-0.003</td>\n",
       "      <td>-0.002</td>\n",
       "      <td>0.063</td>\n",
       "    </tr>\n",
       "    <tr>\n",
       "      <td>floor_count</td>\n",
       "      <td>-0.370</td>\n",
       "      <td>0.191</td>\n",
       "      <td>0.133</td>\n",
       "      <td>-0.357</td>\n",
       "      <td>0.569</td>\n",
       "      <td>0.133</td>\n",
       "      <td>1.000</td>\n",
       "      <td>-0.182</td>\n",
       "      <td>-0.211</td>\n",
       "      <td>-0.167</td>\n",
       "      <td>0.145</td>\n",
       "      <td>-0.044</td>\n",
       "      <td>0.073</td>\n",
       "      <td>-0.018</td>\n",
       "      <td>-0.002</td>\n",
       "      <td>-0.002</td>\n",
       "      <td>-0.000</td>\n",
       "      <td>0.001</td>\n",
       "      <td>0.048</td>\n",
       "      <td>0.012</td>\n",
       "      <td>-0.187</td>\n",
       "      <td>-0.114</td>\n",
       "      <td>0.120</td>\n",
       "      <td>-0.080</td>\n",
       "    </tr>\n",
       "    <tr>\n",
       "      <td>air_temperature</td>\n",
       "      <td>-0.317</td>\n",
       "      <td>-0.007</td>\n",
       "      <td>-0.004</td>\n",
       "      <td>-0.309</td>\n",
       "      <td>-0.015</td>\n",
       "      <td>0.171</td>\n",
       "      <td>-0.182</td>\n",
       "      <td>1.000</td>\n",
       "      <td>-0.010</td>\n",
       "      <td>0.751</td>\n",
       "      <td>0.017</td>\n",
       "      <td>-0.314</td>\n",
       "      <td>-0.099</td>\n",
       "      <td>-0.086</td>\n",
       "      <td>-0.055</td>\n",
       "      <td>0.026</td>\n",
       "      <td>0.156</td>\n",
       "      <td>-0.006</td>\n",
       "      <td>-0.445</td>\n",
       "      <td>-0.007</td>\n",
       "      <td>0.933</td>\n",
       "      <td>0.096</td>\n",
       "      <td>-0.096</td>\n",
       "      <td>0.509</td>\n",
       "    </tr>\n",
       "    <tr>\n",
       "      <td>cloud_coverage</td>\n",
       "      <td>-0.158</td>\n",
       "      <td>-0.143</td>\n",
       "      <td>0.011</td>\n",
       "      <td>-0.124</td>\n",
       "      <td>-0.003</td>\n",
       "      <td>0.084</td>\n",
       "      <td>-0.211</td>\n",
       "      <td>-0.010</td>\n",
       "      <td>1.000</td>\n",
       "      <td>0.064</td>\n",
       "      <td>0.050</td>\n",
       "      <td>-0.113</td>\n",
       "      <td>0.013</td>\n",
       "      <td>0.193</td>\n",
       "      <td>-0.005</td>\n",
       "      <td>0.006</td>\n",
       "      <td>0.040</td>\n",
       "      <td>-0.000</td>\n",
       "      <td>0.101</td>\n",
       "      <td>-0.001</td>\n",
       "      <td>0.005</td>\n",
       "      <td>0.070</td>\n",
       "      <td>-0.077</td>\n",
       "      <td>-0.063</td>\n",
       "    </tr>\n",
       "    <tr>\n",
       "      <td>dew_temperature</td>\n",
       "      <td>-0.101</td>\n",
       "      <td>-0.074</td>\n",
       "      <td>-0.003</td>\n",
       "      <td>-0.127</td>\n",
       "      <td>-0.022</td>\n",
       "      <td>0.101</td>\n",
       "      <td>-0.167</td>\n",
       "      <td>0.751</td>\n",
       "      <td>0.064</td>\n",
       "      <td>1.000</td>\n",
       "      <td>0.089</td>\n",
       "      <td>-0.222</td>\n",
       "      <td>-0.174</td>\n",
       "      <td>-0.145</td>\n",
       "      <td>-0.043</td>\n",
       "      <td>0.026</td>\n",
       "      <td>-0.008</td>\n",
       "      <td>-0.005</td>\n",
       "      <td>0.257</td>\n",
       "      <td>0.007</td>\n",
       "      <td>0.609</td>\n",
       "      <td>0.643</td>\n",
       "      <td>-0.643</td>\n",
       "      <td>-0.034</td>\n",
       "    </tr>\n",
       "    <tr>\n",
       "      <td>precip_depth_1_hr</td>\n",
       "      <td>0.056</td>\n",
       "      <td>0.019</td>\n",
       "      <td>-0.000</td>\n",
       "      <td>0.052</td>\n",
       "      <td>0.039</td>\n",
       "      <td>-0.023</td>\n",
       "      <td>0.145</td>\n",
       "      <td>0.017</td>\n",
       "      <td>0.050</td>\n",
       "      <td>0.089</td>\n",
       "      <td>1.000</td>\n",
       "      <td>-0.052</td>\n",
       "      <td>0.001</td>\n",
       "      <td>0.023</td>\n",
       "      <td>0.000</td>\n",
       "      <td>-0.000</td>\n",
       "      <td>0.006</td>\n",
       "      <td>0.000</td>\n",
       "      <td>0.097</td>\n",
       "      <td>0.005</td>\n",
       "      <td>-0.004</td>\n",
       "      <td>0.081</td>\n",
       "      <td>-0.081</td>\n",
       "      <td>-0.039</td>\n",
       "    </tr>\n",
       "    <tr>\n",
       "      <td>sea_level_pressure</td>\n",
       "      <td>0.085</td>\n",
       "      <td>-0.049</td>\n",
       "      <td>-0.004</td>\n",
       "      <td>0.062</td>\n",
       "      <td>-0.019</td>\n",
       "      <td>-0.031</td>\n",
       "      <td>-0.044</td>\n",
       "      <td>-0.314</td>\n",
       "      <td>-0.113</td>\n",
       "      <td>-0.222</td>\n",
       "      <td>-0.052</td>\n",
       "      <td>1.000</td>\n",
       "      <td>-0.099</td>\n",
       "      <td>-0.208</td>\n",
       "      <td>0.082</td>\n",
       "      <td>0.002</td>\n",
       "      <td>-0.038</td>\n",
       "      <td>0.001</td>\n",
       "      <td>0.159</td>\n",
       "      <td>-0.002</td>\n",
       "      <td>-0.310</td>\n",
       "      <td>0.079</td>\n",
       "      <td>-0.074</td>\n",
       "      <td>-0.265</td>\n",
       "    </tr>\n",
       "    <tr>\n",
       "      <td>wind_direction</td>\n",
       "      <td>0.049</td>\n",
       "      <td>-0.024</td>\n",
       "      <td>0.000</td>\n",
       "      <td>0.051</td>\n",
       "      <td>-0.017</td>\n",
       "      <td>-0.063</td>\n",
       "      <td>0.073</td>\n",
       "      <td>-0.099</td>\n",
       "      <td>0.013</td>\n",
       "      <td>-0.174</td>\n",
       "      <td>0.001</td>\n",
       "      <td>-0.099</td>\n",
       "      <td>1.000</td>\n",
       "      <td>0.427</td>\n",
       "      <td>-0.000</td>\n",
       "      <td>-0.020</td>\n",
       "      <td>0.079</td>\n",
       "      <td>0.008</td>\n",
       "      <td>-0.091</td>\n",
       "      <td>0.000</td>\n",
       "      <td>-0.057</td>\n",
       "      <td>-0.139</td>\n",
       "      <td>0.144</td>\n",
       "      <td>0.049</td>\n",
       "    </tr>\n",
       "    <tr>\n",
       "      <td>wind_speed</td>\n",
       "      <td>0.009</td>\n",
       "      <td>-0.080</td>\n",
       "      <td>0.006</td>\n",
       "      <td>0.017</td>\n",
       "      <td>-0.034</td>\n",
       "      <td>-0.049</td>\n",
       "      <td>-0.018</td>\n",
       "      <td>-0.086</td>\n",
       "      <td>0.193</td>\n",
       "      <td>-0.145</td>\n",
       "      <td>0.023</td>\n",
       "      <td>-0.208</td>\n",
       "      <td>0.427</td>\n",
       "      <td>1.000</td>\n",
       "      <td>-0.003</td>\n",
       "      <td>-0.008</td>\n",
       "      <td>0.145</td>\n",
       "      <td>0.005</td>\n",
       "      <td>-0.070</td>\n",
       "      <td>-0.005</td>\n",
       "      <td>-0.058</td>\n",
       "      <td>-0.097</td>\n",
       "      <td>0.102</td>\n",
       "      <td>0.020</td>\n",
       "    </tr>\n",
       "    <tr>\n",
       "      <td>IsHoliday</td>\n",
       "      <td>0.001</td>\n",
       "      <td>0.001</td>\n",
       "      <td>-0.001</td>\n",
       "      <td>0.001</td>\n",
       "      <td>0.000</td>\n",
       "      <td>0.002</td>\n",
       "      <td>-0.002</td>\n",
       "      <td>-0.055</td>\n",
       "      <td>-0.005</td>\n",
       "      <td>-0.043</td>\n",
       "      <td>0.000</td>\n",
       "      <td>0.082</td>\n",
       "      <td>-0.000</td>\n",
       "      <td>-0.003</td>\n",
       "      <td>1.000</td>\n",
       "      <td>0.005</td>\n",
       "      <td>-0.004</td>\n",
       "      <td>-0.069</td>\n",
       "      <td>0.021</td>\n",
       "      <td>0.014</td>\n",
       "      <td>-0.046</td>\n",
       "      <td>-0.016</td>\n",
       "      <td>0.016</td>\n",
       "      <td>-0.018</td>\n",
       "    </tr>\n",
       "    <tr>\n",
       "      <td>Day</td>\n",
       "      <td>-0.003</td>\n",
       "      <td>-0.002</td>\n",
       "      <td>-0.000</td>\n",
       "      <td>-0.003</td>\n",
       "      <td>-0.001</td>\n",
       "      <td>0.004</td>\n",
       "      <td>-0.002</td>\n",
       "      <td>0.026</td>\n",
       "      <td>0.006</td>\n",
       "      <td>0.026</td>\n",
       "      <td>-0.000</td>\n",
       "      <td>0.002</td>\n",
       "      <td>-0.020</td>\n",
       "      <td>-0.008</td>\n",
       "      <td>0.005</td>\n",
       "      <td>1.000</td>\n",
       "      <td>0.001</td>\n",
       "      <td>0.004</td>\n",
       "      <td>-0.002</td>\n",
       "      <td>0.003</td>\n",
       "      <td>0.021</td>\n",
       "      <td>0.014</td>\n",
       "      <td>-0.015</td>\n",
       "      <td>0.001</td>\n",
       "    </tr>\n",
       "    <tr>\n",
       "      <td>Hour</td>\n",
       "      <td>-0.000</td>\n",
       "      <td>0.000</td>\n",
       "      <td>0.001</td>\n",
       "      <td>-0.000</td>\n",
       "      <td>0.000</td>\n",
       "      <td>0.000</td>\n",
       "      <td>-0.000</td>\n",
       "      <td>0.156</td>\n",
       "      <td>0.040</td>\n",
       "      <td>-0.008</td>\n",
       "      <td>0.006</td>\n",
       "      <td>-0.038</td>\n",
       "      <td>0.079</td>\n",
       "      <td>0.145</td>\n",
       "      <td>-0.004</td>\n",
       "      <td>0.001</td>\n",
       "      <td>1.000</td>\n",
       "      <td>-0.000</td>\n",
       "      <td>-0.239</td>\n",
       "      <td>0.001</td>\n",
       "      <td>0.179</td>\n",
       "      <td>-0.108</td>\n",
       "      <td>0.111</td>\n",
       "      <td>0.153</td>\n",
       "    </tr>\n",
       "    <tr>\n",
       "      <td>DayOfWeek</td>\n",
       "      <td>-0.000</td>\n",
       "      <td>0.000</td>\n",
       "      <td>-0.001</td>\n",
       "      <td>-0.000</td>\n",
       "      <td>0.000</td>\n",
       "      <td>-0.000</td>\n",
       "      <td>0.001</td>\n",
       "      <td>-0.006</td>\n",
       "      <td>-0.000</td>\n",
       "      <td>-0.005</td>\n",
       "      <td>0.000</td>\n",
       "      <td>0.001</td>\n",
       "      <td>0.008</td>\n",
       "      <td>0.005</td>\n",
       "      <td>-0.069</td>\n",
       "      <td>0.004</td>\n",
       "      <td>-0.000</td>\n",
       "      <td>1.000</td>\n",
       "      <td>0.002</td>\n",
       "      <td>0.007</td>\n",
       "      <td>-0.005</td>\n",
       "      <td>-0.007</td>\n",
       "      <td>0.007</td>\n",
       "      <td>0.004</td>\n",
       "    </tr>\n",
       "    <tr>\n",
       "      <td>relative_humidity</td>\n",
       "      <td>0.327</td>\n",
       "      <td>-0.091</td>\n",
       "      <td>0.001</td>\n",
       "      <td>0.280</td>\n",
       "      <td>-0.008</td>\n",
       "      <td>-0.101</td>\n",
       "      <td>0.048</td>\n",
       "      <td>-0.445</td>\n",
       "      <td>0.101</td>\n",
       "      <td>0.257</td>\n",
       "      <td>0.097</td>\n",
       "      <td>0.159</td>\n",
       "      <td>-0.091</td>\n",
       "      <td>-0.070</td>\n",
       "      <td>0.021</td>\n",
       "      <td>-0.002</td>\n",
       "      <td>-0.239</td>\n",
       "      <td>0.002</td>\n",
       "      <td>1.000</td>\n",
       "      <td>0.019</td>\n",
       "      <td>-0.540</td>\n",
       "      <td>0.732</td>\n",
       "      <td>-0.738</td>\n",
       "      <td>-0.795</td>\n",
       "    </tr>\n",
       "    <tr>\n",
       "      <td>air_density_dry</td>\n",
       "      <td>0.003</td>\n",
       "      <td>-0.002</td>\n",
       "      <td>0.000</td>\n",
       "      <td>0.003</td>\n",
       "      <td>-0.004</td>\n",
       "      <td>-0.006</td>\n",
       "      <td>0.012</td>\n",
       "      <td>-0.007</td>\n",
       "      <td>-0.001</td>\n",
       "      <td>0.007</td>\n",
       "      <td>0.005</td>\n",
       "      <td>-0.002</td>\n",
       "      <td>0.000</td>\n",
       "      <td>-0.005</td>\n",
       "      <td>0.014</td>\n",
       "      <td>0.003</td>\n",
       "      <td>0.001</td>\n",
       "      <td>0.007</td>\n",
       "      <td>0.019</td>\n",
       "      <td>1.000</td>\n",
       "      <td>-0.030</td>\n",
       "      <td>0.003</td>\n",
       "      <td>-0.003</td>\n",
       "      <td>0.001</td>\n",
       "    </tr>\n",
       "    <tr>\n",
       "      <td>vapor_pressure_water_satur</td>\n",
       "      <td>-0.314</td>\n",
       "      <td>0.018</td>\n",
       "      <td>-0.005</td>\n",
       "      <td>-0.295</td>\n",
       "      <td>0.000</td>\n",
       "      <td>0.167</td>\n",
       "      <td>-0.187</td>\n",
       "      <td>0.933</td>\n",
       "      <td>0.005</td>\n",
       "      <td>0.609</td>\n",
       "      <td>-0.004</td>\n",
       "      <td>-0.310</td>\n",
       "      <td>-0.057</td>\n",
       "      <td>-0.058</td>\n",
       "      <td>-0.046</td>\n",
       "      <td>0.021</td>\n",
       "      <td>0.179</td>\n",
       "      <td>-0.005</td>\n",
       "      <td>-0.540</td>\n",
       "      <td>-0.030</td>\n",
       "      <td>1.000</td>\n",
       "      <td>-0.082</td>\n",
       "      <td>0.081</td>\n",
       "      <td>0.609</td>\n",
       "    </tr>\n",
       "    <tr>\n",
       "      <td>vapor_pressure_water</td>\n",
       "      <td>0.175</td>\n",
       "      <td>-0.086</td>\n",
       "      <td>-0.001</td>\n",
       "      <td>0.131</td>\n",
       "      <td>-0.005</td>\n",
       "      <td>-0.003</td>\n",
       "      <td>-0.114</td>\n",
       "      <td>0.096</td>\n",
       "      <td>0.070</td>\n",
       "      <td>0.643</td>\n",
       "      <td>0.081</td>\n",
       "      <td>0.079</td>\n",
       "      <td>-0.139</td>\n",
       "      <td>-0.097</td>\n",
       "      <td>-0.016</td>\n",
       "      <td>0.014</td>\n",
       "      <td>-0.108</td>\n",
       "      <td>-0.007</td>\n",
       "      <td>0.732</td>\n",
       "      <td>0.003</td>\n",
       "      <td>-0.082</td>\n",
       "      <td>1.000</td>\n",
       "      <td>-1.000</td>\n",
       "      <td>-0.783</td>\n",
       "    </tr>\n",
       "    <tr>\n",
       "      <td>partial_press_dry</td>\n",
       "      <td>-0.177</td>\n",
       "      <td>0.083</td>\n",
       "      <td>0.001</td>\n",
       "      <td>-0.135</td>\n",
       "      <td>0.002</td>\n",
       "      <td>-0.002</td>\n",
       "      <td>0.120</td>\n",
       "      <td>-0.096</td>\n",
       "      <td>-0.077</td>\n",
       "      <td>-0.643</td>\n",
       "      <td>-0.081</td>\n",
       "      <td>-0.074</td>\n",
       "      <td>0.144</td>\n",
       "      <td>0.102</td>\n",
       "      <td>0.016</td>\n",
       "      <td>-0.015</td>\n",
       "      <td>0.111</td>\n",
       "      <td>0.007</td>\n",
       "      <td>-0.738</td>\n",
       "      <td>-0.003</td>\n",
       "      <td>0.081</td>\n",
       "      <td>-1.000</td>\n",
       "      <td>1.000</td>\n",
       "      <td>0.782</td>\n",
       "    </tr>\n",
       "    <tr>\n",
       "      <td>air_density_humid</td>\n",
       "      <td>-0.326</td>\n",
       "      <td>0.048</td>\n",
       "      <td>-0.002</td>\n",
       "      <td>-0.295</td>\n",
       "      <td>-0.017</td>\n",
       "      <td>0.063</td>\n",
       "      <td>-0.080</td>\n",
       "      <td>0.509</td>\n",
       "      <td>-0.063</td>\n",
       "      <td>-0.034</td>\n",
       "      <td>-0.039</td>\n",
       "      <td>-0.265</td>\n",
       "      <td>0.049</td>\n",
       "      <td>0.020</td>\n",
       "      <td>-0.018</td>\n",
       "      <td>0.001</td>\n",
       "      <td>0.153</td>\n",
       "      <td>0.004</td>\n",
       "      <td>-0.795</td>\n",
       "      <td>0.001</td>\n",
       "      <td>0.609</td>\n",
       "      <td>-0.783</td>\n",
       "      <td>0.782</td>\n",
       "      <td>1.000</td>\n",
       "    </tr>\n",
       "  </tbody>\n",
       "</table>\n",
       "</div>"
      ],
      "text/plain": [
       "                            building_id  meter  meter_reading  site_id  \\\n",
       "building_id                       1.000  0.208          0.009    0.980   \n",
       "meter                             0.208  1.000          0.018    0.241   \n",
       "meter_reading                     0.009  0.018          1.000    0.012   \n",
       "site_id                           0.980  0.241          0.012    1.000   \n",
       "square_feet                       0.084  0.131          0.025    0.088   \n",
       "year_built                       -0.213  0.021          0.132   -0.181   \n",
       "floor_count                      -0.370  0.191          0.133   -0.357   \n",
       "air_temperature                  -0.317 -0.007         -0.004   -0.309   \n",
       "cloud_coverage                   -0.158 -0.143          0.011   -0.124   \n",
       "dew_temperature                  -0.101 -0.074         -0.003   -0.127   \n",
       "precip_depth_1_hr                 0.056  0.019         -0.000    0.052   \n",
       "sea_level_pressure                0.085 -0.049         -0.004    0.062   \n",
       "wind_direction                    0.049 -0.024          0.000    0.051   \n",
       "wind_speed                        0.009 -0.080          0.006    0.017   \n",
       "IsHoliday                         0.001  0.001         -0.001    0.001   \n",
       "Day                              -0.003 -0.002         -0.000   -0.003   \n",
       "Hour                             -0.000  0.000          0.001   -0.000   \n",
       "DayOfWeek                        -0.000  0.000         -0.001   -0.000   \n",
       "relative_humidity                 0.327 -0.091          0.001    0.280   \n",
       "air_density_dry                   0.003 -0.002          0.000    0.003   \n",
       "vapor_pressure_water_satur       -0.314  0.018         -0.005   -0.295   \n",
       "vapor_pressure_water              0.175 -0.086         -0.001    0.131   \n",
       "partial_press_dry                -0.177  0.083          0.001   -0.135   \n",
       "air_density_humid                -0.326  0.048         -0.002   -0.295   \n",
       "\n",
       "                            square_feet  year_built  floor_count  \\\n",
       "building_id                       0.084      -0.213       -0.370   \n",
       "meter                             0.131       0.021        0.191   \n",
       "meter_reading                     0.025       0.132        0.133   \n",
       "site_id                           0.088      -0.181       -0.357   \n",
       "square_feet                       1.000       0.146        0.569   \n",
       "year_built                        0.146       1.000        0.133   \n",
       "floor_count                       0.569       0.133        1.000   \n",
       "air_temperature                  -0.015       0.171       -0.182   \n",
       "cloud_coverage                   -0.003       0.084       -0.211   \n",
       "dew_temperature                  -0.022       0.101       -0.167   \n",
       "precip_depth_1_hr                 0.039      -0.023        0.145   \n",
       "sea_level_pressure               -0.019      -0.031       -0.044   \n",
       "wind_direction                   -0.017      -0.063        0.073   \n",
       "wind_speed                       -0.034      -0.049       -0.018   \n",
       "IsHoliday                         0.000       0.002       -0.002   \n",
       "Day                              -0.001       0.004       -0.002   \n",
       "Hour                              0.000       0.000       -0.000   \n",
       "DayOfWeek                         0.000      -0.000        0.001   \n",
       "relative_humidity                -0.008      -0.101        0.048   \n",
       "air_density_dry                  -0.004      -0.006        0.012   \n",
       "vapor_pressure_water_satur        0.000       0.167       -0.187   \n",
       "vapor_pressure_water             -0.005      -0.003       -0.114   \n",
       "partial_press_dry                 0.002      -0.002        0.120   \n",
       "air_density_humid                -0.017       0.063       -0.080   \n",
       "\n",
       "                            air_temperature  cloud_coverage  dew_temperature  \\\n",
       "building_id                          -0.317          -0.158           -0.101   \n",
       "meter                                -0.007          -0.143           -0.074   \n",
       "meter_reading                        -0.004           0.011           -0.003   \n",
       "site_id                              -0.309          -0.124           -0.127   \n",
       "square_feet                          -0.015          -0.003           -0.022   \n",
       "year_built                            0.171           0.084            0.101   \n",
       "floor_count                          -0.182          -0.211           -0.167   \n",
       "air_temperature                       1.000          -0.010            0.751   \n",
       "cloud_coverage                       -0.010           1.000            0.064   \n",
       "dew_temperature                       0.751           0.064            1.000   \n",
       "precip_depth_1_hr                     0.017           0.050            0.089   \n",
       "sea_level_pressure                   -0.314          -0.113           -0.222   \n",
       "wind_direction                       -0.099           0.013           -0.174   \n",
       "wind_speed                           -0.086           0.193           -0.145   \n",
       "IsHoliday                            -0.055          -0.005           -0.043   \n",
       "Day                                   0.026           0.006            0.026   \n",
       "Hour                                  0.156           0.040           -0.008   \n",
       "DayOfWeek                            -0.006          -0.000           -0.005   \n",
       "relative_humidity                    -0.445           0.101            0.257   \n",
       "air_density_dry                      -0.007          -0.001            0.007   \n",
       "vapor_pressure_water_satur            0.933           0.005            0.609   \n",
       "vapor_pressure_water                  0.096           0.070            0.643   \n",
       "partial_press_dry                    -0.096          -0.077           -0.643   \n",
       "air_density_humid                     0.509          -0.063           -0.034   \n",
       "\n",
       "                            precip_depth_1_hr  sea_level_pressure  \\\n",
       "building_id                             0.056               0.085   \n",
       "meter                                   0.019              -0.049   \n",
       "meter_reading                          -0.000              -0.004   \n",
       "site_id                                 0.052               0.062   \n",
       "square_feet                             0.039              -0.019   \n",
       "year_built                             -0.023              -0.031   \n",
       "floor_count                             0.145              -0.044   \n",
       "air_temperature                         0.017              -0.314   \n",
       "cloud_coverage                          0.050              -0.113   \n",
       "dew_temperature                         0.089              -0.222   \n",
       "precip_depth_1_hr                       1.000              -0.052   \n",
       "sea_level_pressure                     -0.052               1.000   \n",
       "wind_direction                          0.001              -0.099   \n",
       "wind_speed                              0.023              -0.208   \n",
       "IsHoliday                               0.000               0.082   \n",
       "Day                                    -0.000               0.002   \n",
       "Hour                                    0.006              -0.038   \n",
       "DayOfWeek                               0.000               0.001   \n",
       "relative_humidity                       0.097               0.159   \n",
       "air_density_dry                         0.005              -0.002   \n",
       "vapor_pressure_water_satur             -0.004              -0.310   \n",
       "vapor_pressure_water                    0.081               0.079   \n",
       "partial_press_dry                      -0.081              -0.074   \n",
       "air_density_humid                      -0.039              -0.265   \n",
       "\n",
       "                            wind_direction  wind_speed  IsHoliday    Day  \\\n",
       "building_id                          0.049       0.009      0.001 -0.003   \n",
       "meter                               -0.024      -0.080      0.001 -0.002   \n",
       "meter_reading                        0.000       0.006     -0.001 -0.000   \n",
       "site_id                              0.051       0.017      0.001 -0.003   \n",
       "square_feet                         -0.017      -0.034      0.000 -0.001   \n",
       "year_built                          -0.063      -0.049      0.002  0.004   \n",
       "floor_count                          0.073      -0.018     -0.002 -0.002   \n",
       "air_temperature                     -0.099      -0.086     -0.055  0.026   \n",
       "cloud_coverage                       0.013       0.193     -0.005  0.006   \n",
       "dew_temperature                     -0.174      -0.145     -0.043  0.026   \n",
       "precip_depth_1_hr                    0.001       0.023      0.000 -0.000   \n",
       "sea_level_pressure                  -0.099      -0.208      0.082  0.002   \n",
       "wind_direction                       1.000       0.427     -0.000 -0.020   \n",
       "wind_speed                           0.427       1.000     -0.003 -0.008   \n",
       "IsHoliday                           -0.000      -0.003      1.000  0.005   \n",
       "Day                                 -0.020      -0.008      0.005  1.000   \n",
       "Hour                                 0.079       0.145     -0.004  0.001   \n",
       "DayOfWeek                            0.008       0.005     -0.069  0.004   \n",
       "relative_humidity                   -0.091      -0.070      0.021 -0.002   \n",
       "air_density_dry                      0.000      -0.005      0.014  0.003   \n",
       "vapor_pressure_water_satur          -0.057      -0.058     -0.046  0.021   \n",
       "vapor_pressure_water                -0.139      -0.097     -0.016  0.014   \n",
       "partial_press_dry                    0.144       0.102      0.016 -0.015   \n",
       "air_density_humid                    0.049       0.020     -0.018  0.001   \n",
       "\n",
       "                             Hour  DayOfWeek  relative_humidity  \\\n",
       "building_id                -0.000     -0.000              0.327   \n",
       "meter                       0.000      0.000             -0.091   \n",
       "meter_reading               0.001     -0.001              0.001   \n",
       "site_id                    -0.000     -0.000              0.280   \n",
       "square_feet                 0.000      0.000             -0.008   \n",
       "year_built                  0.000     -0.000             -0.101   \n",
       "floor_count                -0.000      0.001              0.048   \n",
       "air_temperature             0.156     -0.006             -0.445   \n",
       "cloud_coverage              0.040     -0.000              0.101   \n",
       "dew_temperature            -0.008     -0.005              0.257   \n",
       "precip_depth_1_hr           0.006      0.000              0.097   \n",
       "sea_level_pressure         -0.038      0.001              0.159   \n",
       "wind_direction              0.079      0.008             -0.091   \n",
       "wind_speed                  0.145      0.005             -0.070   \n",
       "IsHoliday                  -0.004     -0.069              0.021   \n",
       "Day                         0.001      0.004             -0.002   \n",
       "Hour                        1.000     -0.000             -0.239   \n",
       "DayOfWeek                  -0.000      1.000              0.002   \n",
       "relative_humidity          -0.239      0.002              1.000   \n",
       "air_density_dry             0.001      0.007              0.019   \n",
       "vapor_pressure_water_satur  0.179     -0.005             -0.540   \n",
       "vapor_pressure_water       -0.108     -0.007              0.732   \n",
       "partial_press_dry           0.111      0.007             -0.738   \n",
       "air_density_humid           0.153      0.004             -0.795   \n",
       "\n",
       "                            air_density_dry  vapor_pressure_water_satur  \\\n",
       "building_id                           0.003                      -0.314   \n",
       "meter                                -0.002                       0.018   \n",
       "meter_reading                         0.000                      -0.005   \n",
       "site_id                               0.003                      -0.295   \n",
       "square_feet                          -0.004                       0.000   \n",
       "year_built                           -0.006                       0.167   \n",
       "floor_count                           0.012                      -0.187   \n",
       "air_temperature                      -0.007                       0.933   \n",
       "cloud_coverage                       -0.001                       0.005   \n",
       "dew_temperature                       0.007                       0.609   \n",
       "precip_depth_1_hr                     0.005                      -0.004   \n",
       "sea_level_pressure                   -0.002                      -0.310   \n",
       "wind_direction                        0.000                      -0.057   \n",
       "wind_speed                           -0.005                      -0.058   \n",
       "IsHoliday                             0.014                      -0.046   \n",
       "Day                                   0.003                       0.021   \n",
       "Hour                                  0.001                       0.179   \n",
       "DayOfWeek                             0.007                      -0.005   \n",
       "relative_humidity                     0.019                      -0.540   \n",
       "air_density_dry                       1.000                      -0.030   \n",
       "vapor_pressure_water_satur           -0.030                       1.000   \n",
       "vapor_pressure_water                  0.003                      -0.082   \n",
       "partial_press_dry                    -0.003                       0.081   \n",
       "air_density_humid                     0.001                       0.609   \n",
       "\n",
       "                            vapor_pressure_water  partial_press_dry  \\\n",
       "building_id                                0.175             -0.177   \n",
       "meter                                     -0.086              0.083   \n",
       "meter_reading                             -0.001              0.001   \n",
       "site_id                                    0.131             -0.135   \n",
       "square_feet                               -0.005              0.002   \n",
       "year_built                                -0.003             -0.002   \n",
       "floor_count                               -0.114              0.120   \n",
       "air_temperature                            0.096             -0.096   \n",
       "cloud_coverage                             0.070             -0.077   \n",
       "dew_temperature                            0.643             -0.643   \n",
       "precip_depth_1_hr                          0.081             -0.081   \n",
       "sea_level_pressure                         0.079             -0.074   \n",
       "wind_direction                            -0.139              0.144   \n",
       "wind_speed                                -0.097              0.102   \n",
       "IsHoliday                                 -0.016              0.016   \n",
       "Day                                        0.014             -0.015   \n",
       "Hour                                      -0.108              0.111   \n",
       "DayOfWeek                                 -0.007              0.007   \n",
       "relative_humidity                          0.732             -0.738   \n",
       "air_density_dry                            0.003             -0.003   \n",
       "vapor_pressure_water_satur                -0.082              0.081   \n",
       "vapor_pressure_water                       1.000             -1.000   \n",
       "partial_press_dry                         -1.000              1.000   \n",
       "air_density_humid                         -0.783              0.782   \n",
       "\n",
       "                            air_density_humid  \n",
       "building_id                            -0.326  \n",
       "meter                                   0.048  \n",
       "meter_reading                          -0.002  \n",
       "site_id                                -0.295  \n",
       "square_feet                            -0.017  \n",
       "year_built                              0.063  \n",
       "floor_count                            -0.080  \n",
       "air_temperature                         0.509  \n",
       "cloud_coverage                         -0.063  \n",
       "dew_temperature                        -0.034  \n",
       "precip_depth_1_hr                      -0.039  \n",
       "sea_level_pressure                     -0.265  \n",
       "wind_direction                          0.049  \n",
       "wind_speed                              0.020  \n",
       "IsHoliday                              -0.018  \n",
       "Day                                     0.001  \n",
       "Hour                                    0.153  \n",
       "DayOfWeek                               0.004  \n",
       "relative_humidity                      -0.795  \n",
       "air_density_dry                         0.001  \n",
       "vapor_pressure_water_satur              0.609  \n",
       "vapor_pressure_water                   -0.783  \n",
       "partial_press_dry                       0.782  \n",
       "air_density_humid                       1.000  "
      ]
     },
     "execution_count": 55,
     "metadata": {},
     "output_type": "execute_result"
    }
   ],
   "source": [
    "df_train.corr()"
   ]
  },
  {
   "cell_type": "code",
   "execution_count": 77,
   "metadata": {},
   "outputs": [
    {
     "data": {
      "application/vnd.jupyter.widget-view+json": {
       "model_id": "5c00b3bdf4e14d1896c83c72d0b7f3bd",
       "version_major": 2,
       "version_minor": 0
      },
      "text/plain": [
       "HBox(children=(IntProgress(value=0, max=17), HTML(value='')))"
      ]
     },
     "metadata": {},
     "output_type": "display_data"
    },
    {
     "name": "stdout",
     "output_type": "stream",
     "text": [
      "training site_id 1.0\n",
      "training meter 0.0\n",
      "colums primary_use is being encoded\n"
     ]
    },
    {
     "name": "stderr",
     "output_type": "stream",
     "text": [
      "/opt/conda/lib/python3.7/site-packages/bearinmind_pipeline/data_preprocessing.py:60: SettingWithCopyWarning:\n",
      "\n",
      "\n",
      "A value is trying to be set on a copy of a slice from a DataFrame.\n",
      "Try using .loc[row_indexer,col_indexer] = value instead\n",
      "\n",
      "See the caveats in the documentation: http://pandas.pydata.org/pandas-docs/stable/user_guide/indexing.html#returning-a-view-versus-a-copy\n",
      "\n"
     ]
    },
    {
     "name": "stdout",
     "output_type": "stream",
     "text": [
      "24 features have been chosen for modeling\n",
      "Fold: 0\n",
      "The valuation metric for the fold 0 is 0.25474982393959783\n",
      "Fold: 1\n",
      "The valuation metric for the fold 1 is 0.67256397336865\n",
      "Fold: 2\n",
      "The valuation metric for the fold 2 is 0.4524829967650696\n",
      "The average score accross the folds is 0.4599322646911059\n",
      "training meter 3.0\n",
      "colums primary_use is being encoded\n"
     ]
    },
    {
     "name": "stderr",
     "output_type": "stream",
     "text": [
      "/opt/conda/lib/python3.7/site-packages/bearinmind_pipeline/data_preprocessing.py:60: SettingWithCopyWarning:\n",
      "\n",
      "\n",
      "A value is trying to be set on a copy of a slice from a DataFrame.\n",
      "Try using .loc[row_indexer,col_indexer] = value instead\n",
      "\n",
      "See the caveats in the documentation: http://pandas.pydata.org/pandas-docs/stable/user_guide/indexing.html#returning-a-view-versus-a-copy\n",
      "\n",
      "/opt/conda/lib/python3.7/site-packages/pandas/core/series.py:853: RuntimeWarning:\n",
      "\n",
      "divide by zero encountered in log\n",
      "\n"
     ]
    },
    {
     "name": "stdout",
     "output_type": "stream",
     "text": [
      "24 features have been chosen for modeling\n",
      "Fold: 0\n",
      "The valuation metric for the fold 0 is 1.5092354705375444\n",
      "Fold: 1\n",
      "The valuation metric for the fold 1 is 1.7711069912237014\n",
      "Fold: 2\n",
      "The valuation metric for the fold 2 is 1.8166209522502057\n",
      "The average score accross the folds is 1.6989878046704838\n",
      "training site_id 2.0\n",
      "training meter 0.0\n",
      "colums primary_use is being encoded\n"
     ]
    },
    {
     "name": "stderr",
     "output_type": "stream",
     "text": [
      "/opt/conda/lib/python3.7/site-packages/bearinmind_pipeline/data_preprocessing.py:60: SettingWithCopyWarning:\n",
      "\n",
      "\n",
      "A value is trying to be set on a copy of a slice from a DataFrame.\n",
      "Try using .loc[row_indexer,col_indexer] = value instead\n",
      "\n",
      "See the caveats in the documentation: http://pandas.pydata.org/pandas-docs/stable/user_guide/indexing.html#returning-a-view-versus-a-copy\n",
      "\n"
     ]
    },
    {
     "name": "stdout",
     "output_type": "stream",
     "text": [
      "24 features have been chosen for modeling\n",
      "Fold: 0\n",
      "The valuation metric for the fold 0 is 0.47468366033226345\n",
      "Fold: 1\n",
      "The valuation metric for the fold 1 is 0.376041626820226\n",
      "Fold: 2\n",
      "The valuation metric for the fold 2 is 0.41560908226282306\n",
      "The average score accross the folds is 0.4221114564717709\n",
      "training meter 1.0\n",
      "colums primary_use is being encoded\n"
     ]
    },
    {
     "name": "stderr",
     "output_type": "stream",
     "text": [
      "/opt/conda/lib/python3.7/site-packages/bearinmind_pipeline/data_preprocessing.py:60: SettingWithCopyWarning:\n",
      "\n",
      "\n",
      "A value is trying to be set on a copy of a slice from a DataFrame.\n",
      "Try using .loc[row_indexer,col_indexer] = value instead\n",
      "\n",
      "See the caveats in the documentation: http://pandas.pydata.org/pandas-docs/stable/user_guide/indexing.html#returning-a-view-versus-a-copy\n",
      "\n"
     ]
    },
    {
     "name": "stdout",
     "output_type": "stream",
     "text": [
      "24 features have been chosen for modeling\n",
      "Fold: 0\n"
     ]
    },
    {
     "name": "stderr",
     "output_type": "stream",
     "text": [
      "/opt/conda/lib/python3.7/site-packages/pandas/core/series.py:853: RuntimeWarning:\n",
      "\n",
      "divide by zero encountered in log\n",
      "\n"
     ]
    },
    {
     "name": "stdout",
     "output_type": "stream",
     "text": [
      "The valuation metric for the fold 0 is 1.2719479239967761\n",
      "Fold: 1\n",
      "The valuation metric for the fold 1 is 1.0902515042813288\n",
      "Fold: 2\n",
      "The valuation metric for the fold 2 is 1.2187936007357751\n",
      "The average score accross the folds is 1.1936643430046268\n",
      "training meter 3.0\n",
      "colums primary_use is being encoded\n"
     ]
    },
    {
     "name": "stderr",
     "output_type": "stream",
     "text": [
      "/opt/conda/lib/python3.7/site-packages/bearinmind_pipeline/data_preprocessing.py:60: SettingWithCopyWarning:\n",
      "\n",
      "\n",
      "A value is trying to be set on a copy of a slice from a DataFrame.\n",
      "Try using .loc[row_indexer,col_indexer] = value instead\n",
      "\n",
      "See the caveats in the documentation: http://pandas.pydata.org/pandas-docs/stable/user_guide/indexing.html#returning-a-view-versus-a-copy\n",
      "\n",
      "/opt/conda/lib/python3.7/site-packages/pandas/core/series.py:853: RuntimeWarning:\n",
      "\n",
      "divide by zero encountered in log\n",
      "\n"
     ]
    },
    {
     "name": "stdout",
     "output_type": "stream",
     "text": [
      "24 features have been chosen for modeling\n",
      "Fold: 0\n",
      "The valuation metric for the fold 0 is 1.1819095246110392\n",
      "Fold: 1\n",
      "The valuation metric for the fold 1 is 0.7650329100972295\n",
      "Fold: 2\n",
      "The valuation metric for the fold 2 is 1.1257452815202538\n",
      "The average score accross the folds is 1.0242292387428409\n",
      "training site_id 3.0\n",
      "training meter 0.0\n",
      "colums primary_use is being encoded\n",
      "24 features have been chosen for modeling\n",
      "Fold: 0\n",
      "The valuation metric for the fold 0 is 0.5610572719320926\n",
      "Fold: 1\n",
      "The valuation metric for the fold 1 is 0.4591582121944036\n",
      "Fold: 2\n",
      "The valuation metric for the fold 2 is 0.5411135438124725\n",
      "The average score accross the folds is 0.5204430093129896\n",
      "training site_id 4.0\n",
      "training meter 0.0\n",
      "colums primary_use is being encoded\n",
      "24 features have been chosen for modeling\n",
      "Fold: 0\n",
      "The valuation metric for the fold 0 is 0.2500138831872594\n",
      "Fold: 1\n",
      "The valuation metric for the fold 1 is 0.288180064752829\n",
      "Fold: 2\n",
      "The valuation metric for the fold 2 is 0.2678961549247868\n",
      "The average score accross the folds is 0.2686967009549584\n",
      "training site_id 5.0\n",
      "training meter 0.0\n",
      "colums primary_use is being encoded\n",
      "24 features have been chosen for modeling\n",
      "Fold: 0\n",
      "The valuation metric for the fold 0 is 0.7820036972559832\n",
      "Fold: 1\n",
      "The valuation metric for the fold 1 is 0.7303563420037351\n",
      "Fold: 2\n",
      "The valuation metric for the fold 2 is 0.7246339203866606\n",
      "The average score accross the folds is 0.7456646532154596\n",
      "training site_id 6.0\n",
      "training meter 0.0\n",
      "colums primary_use is being encoded\n"
     ]
    },
    {
     "name": "stderr",
     "output_type": "stream",
     "text": [
      "/opt/conda/lib/python3.7/site-packages/bearinmind_pipeline/data_preprocessing.py:60: SettingWithCopyWarning:\n",
      "\n",
      "\n",
      "A value is trying to be set on a copy of a slice from a DataFrame.\n",
      "Try using .loc[row_indexer,col_indexer] = value instead\n",
      "\n",
      "See the caveats in the documentation: http://pandas.pydata.org/pandas-docs/stable/user_guide/indexing.html#returning-a-view-versus-a-copy\n",
      "\n"
     ]
    },
    {
     "name": "stdout",
     "output_type": "stream",
     "text": [
      "24 features have been chosen for modeling\n",
      "Fold: 0\n",
      "The valuation metric for the fold 0 is 0.32972562522636106\n",
      "Fold: 1\n",
      "The valuation metric for the fold 1 is 0.35642195700382046\n",
      "Fold: 2\n",
      "The valuation metric for the fold 2 is 0.3792693835772046\n",
      "The average score accross the folds is 0.355138988602462\n",
      "training meter 2.0\n",
      "colums primary_use is being encoded\n"
     ]
    },
    {
     "name": "stderr",
     "output_type": "stream",
     "text": [
      "/opt/conda/lib/python3.7/site-packages/bearinmind_pipeline/data_preprocessing.py:60: SettingWithCopyWarning:\n",
      "\n",
      "\n",
      "A value is trying to be set on a copy of a slice from a DataFrame.\n",
      "Try using .loc[row_indexer,col_indexer] = value instead\n",
      "\n",
      "See the caveats in the documentation: http://pandas.pydata.org/pandas-docs/stable/user_guide/indexing.html#returning-a-view-versus-a-copy\n",
      "\n",
      "/opt/conda/lib/python3.7/site-packages/pandas/core/series.py:853: RuntimeWarning:\n",
      "\n",
      "divide by zero encountered in log\n",
      "\n"
     ]
    },
    {
     "name": "stdout",
     "output_type": "stream",
     "text": [
      "24 features have been chosen for modeling\n",
      "Fold: 0\n",
      "The valuation metric for the fold 0 is 1.751514080451298\n",
      "Fold: 1\n",
      "The valuation metric for the fold 1 is 1.3369309657474902\n",
      "Fold: 2\n",
      "The valuation metric for the fold 2 is 1.7103094136789234\n",
      "The average score accross the folds is 1.5995848199592373\n",
      "training meter 1.0\n",
      "colums primary_use is being encoded\n"
     ]
    },
    {
     "name": "stderr",
     "output_type": "stream",
     "text": [
      "/opt/conda/lib/python3.7/site-packages/bearinmind_pipeline/data_preprocessing.py:60: SettingWithCopyWarning:\n",
      "\n",
      "\n",
      "A value is trying to be set on a copy of a slice from a DataFrame.\n",
      "Try using .loc[row_indexer,col_indexer] = value instead\n",
      "\n",
      "See the caveats in the documentation: http://pandas.pydata.org/pandas-docs/stable/user_guide/indexing.html#returning-a-view-versus-a-copy\n",
      "\n",
      "/opt/conda/lib/python3.7/site-packages/pandas/core/series.py:853: RuntimeWarning:\n",
      "\n",
      "divide by zero encountered in log\n",
      "\n"
     ]
    },
    {
     "name": "stdout",
     "output_type": "stream",
     "text": [
      "24 features have been chosen for modeling\n",
      "Fold: 0\n",
      "The valuation metric for the fold 0 is 1.5332628820191414\n",
      "Fold: 1\n",
      "The valuation metric for the fold 1 is 1.645407038195375\n",
      "Fold: 2\n",
      "The valuation metric for the fold 2 is 1.806413693626591\n",
      "The average score accross the folds is 1.6616945379470358\n",
      "training site_id 7.0\n",
      "training meter 1.0\n",
      "colums primary_use is being encoded\n"
     ]
    },
    {
     "name": "stderr",
     "output_type": "stream",
     "text": [
      "/opt/conda/lib/python3.7/site-packages/bearinmind_pipeline/data_preprocessing.py:60: SettingWithCopyWarning:\n",
      "\n",
      "\n",
      "A value is trying to be set on a copy of a slice from a DataFrame.\n",
      "Try using .loc[row_indexer,col_indexer] = value instead\n",
      "\n",
      "See the caveats in the documentation: http://pandas.pydata.org/pandas-docs/stable/user_guide/indexing.html#returning-a-view-versus-a-copy\n",
      "\n",
      "/opt/conda/lib/python3.7/site-packages/pandas/core/series.py:853: RuntimeWarning:\n",
      "\n",
      "divide by zero encountered in log\n",
      "\n"
     ]
    },
    {
     "name": "stdout",
     "output_type": "stream",
     "text": [
      "24 features have been chosen for modeling\n",
      "Fold: 0\n",
      "The valuation metric for the fold 0 is 1.153885316104387\n",
      "Fold: 1\n",
      "The valuation metric for the fold 1 is 1.5036142429890316\n",
      "Fold: 2\n",
      "The valuation metric for the fold 2 is 1.592754004677981\n",
      "The average score accross the folds is 1.4167511879237997\n",
      "training meter 2.0\n",
      "colums primary_use is being encoded\n"
     ]
    },
    {
     "name": "stderr",
     "output_type": "stream",
     "text": [
      "/opt/conda/lib/python3.7/site-packages/bearinmind_pipeline/data_preprocessing.py:60: SettingWithCopyWarning:\n",
      "\n",
      "\n",
      "A value is trying to be set on a copy of a slice from a DataFrame.\n",
      "Try using .loc[row_indexer,col_indexer] = value instead\n",
      "\n",
      "See the caveats in the documentation: http://pandas.pydata.org/pandas-docs/stable/user_guide/indexing.html#returning-a-view-versus-a-copy\n",
      "\n",
      "/opt/conda/lib/python3.7/site-packages/pandas/core/series.py:853: RuntimeWarning:\n",
      "\n",
      "divide by zero encountered in log\n",
      "\n"
     ]
    },
    {
     "name": "stdout",
     "output_type": "stream",
     "text": [
      "24 features have been chosen for modeling\n",
      "Fold: 0\n",
      "The valuation metric for the fold 0 is 1.449560193954717\n",
      "Fold: 1\n",
      "The valuation metric for the fold 1 is 1.4593020949256696\n",
      "Fold: 2\n",
      "The valuation metric for the fold 2 is 1.8032133513671291\n",
      "The average score accross the folds is 1.5706918800825054\n",
      "training meter 0.0\n",
      "colums primary_use is being encoded\n"
     ]
    },
    {
     "name": "stderr",
     "output_type": "stream",
     "text": [
      "/opt/conda/lib/python3.7/site-packages/bearinmind_pipeline/data_preprocessing.py:60: SettingWithCopyWarning:\n",
      "\n",
      "\n",
      "A value is trying to be set on a copy of a slice from a DataFrame.\n",
      "Try using .loc[row_indexer,col_indexer] = value instead\n",
      "\n",
      "See the caveats in the documentation: http://pandas.pydata.org/pandas-docs/stable/user_guide/indexing.html#returning-a-view-versus-a-copy\n",
      "\n"
     ]
    },
    {
     "name": "stdout",
     "output_type": "stream",
     "text": [
      "24 features have been chosen for modeling\n",
      "Fold: 0\n",
      "The valuation metric for the fold 0 is 0.14640776298818042\n",
      "Fold: 1\n",
      "The valuation metric for the fold 1 is 0.4551573303340379\n",
      "Fold: 2\n",
      "The valuation metric for the fold 2 is 0.3923508798717148\n",
      "The average score accross the folds is 0.3313053243979777\n",
      "training meter 3.0\n",
      "colums primary_use is being encoded\n",
      "24 features have been chosen for modeling\n",
      "Fold: 0\n"
     ]
    },
    {
     "name": "stderr",
     "output_type": "stream",
     "text": [
      "/opt/conda/lib/python3.7/site-packages/bearinmind_pipeline/data_preprocessing.py:60: SettingWithCopyWarning:\n",
      "\n",
      "\n",
      "A value is trying to be set on a copy of a slice from a DataFrame.\n",
      "Try using .loc[row_indexer,col_indexer] = value instead\n",
      "\n",
      "See the caveats in the documentation: http://pandas.pydata.org/pandas-docs/stable/user_guide/indexing.html#returning-a-view-versus-a-copy\n",
      "\n",
      "/opt/conda/lib/python3.7/site-packages/pandas/core/series.py:853: RuntimeWarning:\n",
      "\n",
      "divide by zero encountered in log\n",
      "\n"
     ]
    },
    {
     "name": "stdout",
     "output_type": "stream",
     "text": [
      "The valuation metric for the fold 0 is 1.3728581003308775\n",
      "Fold: 1\n",
      "The valuation metric for the fold 1 is 2.4964764630841723\n",
      "Fold: 2\n",
      "The valuation metric for the fold 2 is 2.0560301886078465\n",
      "The average score accross the folds is 1.9751215840076322\n",
      "training site_id 8.0\n",
      "training meter 0.0\n",
      "colums primary_use is being encoded\n",
      "24 features have been chosen for modeling\n",
      "Fold: 0\n",
      "The valuation metric for the fold 0 is 0.7415719239656767\n",
      "Fold: 1\n",
      "The valuation metric for the fold 1 is 0.7012729957456476\n",
      "Fold: 2\n",
      "The valuation metric for the fold 2 is 0.6648918552980307\n",
      "The average score accross the folds is 0.7025789250031185\n",
      "training site_id 9.0\n",
      "training meter 1.0\n",
      "colums primary_use is being encoded\n"
     ]
    },
    {
     "name": "stderr",
     "output_type": "stream",
     "text": [
      "/opt/conda/lib/python3.7/site-packages/bearinmind_pipeline/data_preprocessing.py:60: SettingWithCopyWarning:\n",
      "\n",
      "\n",
      "A value is trying to be set on a copy of a slice from a DataFrame.\n",
      "Try using .loc[row_indexer,col_indexer] = value instead\n",
      "\n",
      "See the caveats in the documentation: http://pandas.pydata.org/pandas-docs/stable/user_guide/indexing.html#returning-a-view-versus-a-copy\n",
      "\n"
     ]
    },
    {
     "name": "stdout",
     "output_type": "stream",
     "text": [
      "24 features have been chosen for modeling\n",
      "Fold: 0\n"
     ]
    },
    {
     "name": "stderr",
     "output_type": "stream",
     "text": [
      "/opt/conda/lib/python3.7/site-packages/pandas/core/series.py:853: RuntimeWarning:\n",
      "\n",
      "divide by zero encountered in log\n",
      "\n"
     ]
    },
    {
     "name": "stdout",
     "output_type": "stream",
     "text": [
      "The valuation metric for the fold 0 is 1.2300260962706238\n",
      "Fold: 1\n",
      "The valuation metric for the fold 1 is 1.3121118008339374\n",
      "Fold: 2\n",
      "The valuation metric for the fold 2 is 1.3134082419291573\n",
      "The average score accross the folds is 1.2851820463445727\n",
      "training meter 2.0\n",
      "colums primary_use is being encoded\n"
     ]
    },
    {
     "name": "stderr",
     "output_type": "stream",
     "text": [
      "/opt/conda/lib/python3.7/site-packages/bearinmind_pipeline/data_preprocessing.py:60: SettingWithCopyWarning:\n",
      "\n",
      "\n",
      "A value is trying to be set on a copy of a slice from a DataFrame.\n",
      "Try using .loc[row_indexer,col_indexer] = value instead\n",
      "\n",
      "See the caveats in the documentation: http://pandas.pydata.org/pandas-docs/stable/user_guide/indexing.html#returning-a-view-versus-a-copy\n",
      "\n"
     ]
    },
    {
     "name": "stdout",
     "output_type": "stream",
     "text": [
      "24 features have been chosen for modeling\n",
      "Fold: 0\n"
     ]
    },
    {
     "name": "stderr",
     "output_type": "stream",
     "text": [
      "/opt/conda/lib/python3.7/site-packages/pandas/core/series.py:853: RuntimeWarning:\n",
      "\n",
      "divide by zero encountered in log\n",
      "\n"
     ]
    },
    {
     "name": "stdout",
     "output_type": "stream",
     "text": [
      "The valuation metric for the fold 0 is 1.2531152165041266\n",
      "Fold: 1\n",
      "The valuation metric for the fold 1 is 1.3215459081212264\n",
      "Fold: 2\n",
      "The valuation metric for the fold 2 is 1.19995975517424\n",
      "The average score accross the folds is 1.2582069599331975\n",
      "training meter 0.0\n",
      "colums primary_use is being encoded\n"
     ]
    },
    {
     "name": "stderr",
     "output_type": "stream",
     "text": [
      "/opt/conda/lib/python3.7/site-packages/bearinmind_pipeline/data_preprocessing.py:60: SettingWithCopyWarning:\n",
      "\n",
      "\n",
      "A value is trying to be set on a copy of a slice from a DataFrame.\n",
      "Try using .loc[row_indexer,col_indexer] = value instead\n",
      "\n",
      "See the caveats in the documentation: http://pandas.pydata.org/pandas-docs/stable/user_guide/indexing.html#returning-a-view-versus-a-copy\n",
      "\n"
     ]
    },
    {
     "name": "stdout",
     "output_type": "stream",
     "text": [
      "24 features have been chosen for modeling\n",
      "Fold: 0\n",
      "The valuation metric for the fold 0 is 0.2724151550537344\n",
      "Fold: 1\n",
      "The valuation metric for the fold 1 is 0.21771758283117906\n",
      "Fold: 2\n",
      "The valuation metric for the fold 2 is 0.24878497855263035\n",
      "The average score accross the folds is 0.2463059054791813\n",
      "training site_id 10.0\n",
      "training meter 0.0\n",
      "colums primary_use is being encoded\n"
     ]
    },
    {
     "name": "stderr",
     "output_type": "stream",
     "text": [
      "/opt/conda/lib/python3.7/site-packages/bearinmind_pipeline/data_preprocessing.py:60: SettingWithCopyWarning:\n",
      "\n",
      "\n",
      "A value is trying to be set on a copy of a slice from a DataFrame.\n",
      "Try using .loc[row_indexer,col_indexer] = value instead\n",
      "\n",
      "See the caveats in the documentation: http://pandas.pydata.org/pandas-docs/stable/user_guide/indexing.html#returning-a-view-versus-a-copy\n",
      "\n"
     ]
    },
    {
     "name": "stdout",
     "output_type": "stream",
     "text": [
      "24 features have been chosen for modeling\n",
      "Fold: 0\n",
      "The valuation metric for the fold 0 is 0.4225452557865572\n",
      "Fold: 1\n",
      "The valuation metric for the fold 1 is 0.4085256106259856\n",
      "Fold: 2\n",
      "The valuation metric for the fold 2 is 0.49369039526985253\n",
      "The average score accross the folds is 0.44158708722746515\n",
      "training meter 1.0\n",
      "colums primary_use is being encoded\n"
     ]
    },
    {
     "name": "stderr",
     "output_type": "stream",
     "text": [
      "/opt/conda/lib/python3.7/site-packages/bearinmind_pipeline/data_preprocessing.py:60: SettingWithCopyWarning:\n",
      "\n",
      "\n",
      "A value is trying to be set on a copy of a slice from a DataFrame.\n",
      "Try using .loc[row_indexer,col_indexer] = value instead\n",
      "\n",
      "See the caveats in the documentation: http://pandas.pydata.org/pandas-docs/stable/user_guide/indexing.html#returning-a-view-versus-a-copy\n",
      "\n",
      "/opt/conda/lib/python3.7/site-packages/pandas/core/series.py:853: RuntimeWarning:\n",
      "\n",
      "divide by zero encountered in log\n",
      "\n"
     ]
    },
    {
     "name": "stdout",
     "output_type": "stream",
     "text": [
      "24 features have been chosen for modeling\n",
      "Fold: 0\n",
      "The valuation metric for the fold 0 is 2.03162801693518\n",
      "Fold: 1\n",
      "The valuation metric for the fold 1 is 1.6200641513064158\n",
      "Fold: 2\n",
      "The valuation metric for the fold 2 is 1.9094795797940214\n",
      "The average score accross the folds is 1.8537239160118724\n",
      "training meter 3.0\n",
      "colums primary_use is being encoded\n"
     ]
    },
    {
     "name": "stderr",
     "output_type": "stream",
     "text": [
      "/opt/conda/lib/python3.7/site-packages/bearinmind_pipeline/data_preprocessing.py:60: SettingWithCopyWarning:\n",
      "\n",
      "\n",
      "A value is trying to be set on a copy of a slice from a DataFrame.\n",
      "Try using .loc[row_indexer,col_indexer] = value instead\n",
      "\n",
      "See the caveats in the documentation: http://pandas.pydata.org/pandas-docs/stable/user_guide/indexing.html#returning-a-view-versus-a-copy\n",
      "\n",
      "/opt/conda/lib/python3.7/site-packages/pandas/core/series.py:853: RuntimeWarning:\n",
      "\n",
      "divide by zero encountered in log\n",
      "\n"
     ]
    },
    {
     "name": "stdout",
     "output_type": "stream",
     "text": [
      "24 features have been chosen for modeling\n",
      "Fold: 0\n",
      "The valuation metric for the fold 0 is 2.092915743866696\n",
      "Fold: 1\n",
      "The valuation metric for the fold 1 is 1.91294411568604\n",
      "Fold: 2\n",
      "The valuation metric for the fold 2 is 2.185427472215741\n",
      "The average score accross the folds is 2.0637624439228257\n",
      "training site_id 11.0\n",
      "training meter 0.0\n",
      "colums primary_use is being encoded\n"
     ]
    },
    {
     "name": "stderr",
     "output_type": "stream",
     "text": [
      "/opt/conda/lib/python3.7/site-packages/bearinmind_pipeline/data_preprocessing.py:60: SettingWithCopyWarning:\n",
      "\n",
      "\n",
      "A value is trying to be set on a copy of a slice from a DataFrame.\n",
      "Try using .loc[row_indexer,col_indexer] = value instead\n",
      "\n",
      "See the caveats in the documentation: http://pandas.pydata.org/pandas-docs/stable/user_guide/indexing.html#returning-a-view-versus-a-copy\n",
      "\n"
     ]
    },
    {
     "name": "stdout",
     "output_type": "stream",
     "text": [
      "24 features have been chosen for modeling\n",
      "Fold: 0\n",
      "The valuation metric for the fold 0 is 0.13642764993946804\n",
      "Fold: 1\n",
      "The valuation metric for the fold 1 is 0.2141793960423598\n",
      "Fold: 2\n",
      "The valuation metric for the fold 2 is 0.19017825275371505\n",
      "The average score accross the folds is 0.18026176624518098\n",
      "training meter 3.0\n",
      "colums primary_use is being encoded\n",
      "24 features have been chosen for modeling\n",
      "Fold: 0\n"
     ]
    },
    {
     "name": "stderr",
     "output_type": "stream",
     "text": [
      "/opt/conda/lib/python3.7/site-packages/bearinmind_pipeline/data_preprocessing.py:60: SettingWithCopyWarning:\n",
      "\n",
      "\n",
      "A value is trying to be set on a copy of a slice from a DataFrame.\n",
      "Try using .loc[row_indexer,col_indexer] = value instead\n",
      "\n",
      "See the caveats in the documentation: http://pandas.pydata.org/pandas-docs/stable/user_guide/indexing.html#returning-a-view-versus-a-copy\n",
      "\n",
      "/opt/conda/lib/python3.7/site-packages/pandas/core/series.py:853: RuntimeWarning:\n",
      "\n",
      "divide by zero encountered in log\n",
      "\n"
     ]
    },
    {
     "name": "stdout",
     "output_type": "stream",
     "text": [
      "The valuation metric for the fold 0 is 0.7438044761786717\n",
      "Fold: 1\n",
      "The valuation metric for the fold 1 is 1.3259226464475529\n",
      "Fold: 2\n",
      "The valuation metric for the fold 2 is 1.18616555775773\n",
      "The average score accross the folds is 1.0852975601279848\n",
      "training meter 1.0\n",
      "colums primary_use is being encoded\n",
      "24 features have been chosen for modeling\n",
      "Fold: 0\n"
     ]
    },
    {
     "name": "stderr",
     "output_type": "stream",
     "text": [
      "/opt/conda/lib/python3.7/site-packages/bearinmind_pipeline/data_preprocessing.py:60: SettingWithCopyWarning:\n",
      "\n",
      "\n",
      "A value is trying to be set on a copy of a slice from a DataFrame.\n",
      "Try using .loc[row_indexer,col_indexer] = value instead\n",
      "\n",
      "See the caveats in the documentation: http://pandas.pydata.org/pandas-docs/stable/user_guide/indexing.html#returning-a-view-versus-a-copy\n",
      "\n",
      "/opt/conda/lib/python3.7/site-packages/pandas/core/series.py:853: RuntimeWarning:\n",
      "\n",
      "divide by zero encountered in log\n",
      "\n"
     ]
    },
    {
     "name": "stdout",
     "output_type": "stream",
     "text": [
      "The valuation metric for the fold 0 is 0.44251384546154193\n",
      "Fold: 1\n",
      "The valuation metric for the fold 1 is 1.872324379846232\n",
      "Fold: 2\n",
      "The valuation metric for the fold 2 is 1.202583669459309\n",
      "The average score accross the folds is 1.172473964922361\n",
      "training site_id 12.0\n",
      "training meter 0.0\n",
      "colums primary_use is being encoded\n",
      "24 features have been chosen for modeling\n",
      "Fold: 0\n",
      "The valuation metric for the fold 0 is 0.30857827511236485\n",
      "Fold: 1\n",
      "The valuation metric for the fold 1 is 0.3395524515385393\n",
      "Fold: 2\n",
      "The valuation metric for the fold 2 is 0.31541547883436866\n",
      "The average score accross the folds is 0.32118206849509096\n",
      "training site_id 13.0\n",
      "training meter 0.0\n",
      "colums primary_use is being encoded\n"
     ]
    },
    {
     "name": "stderr",
     "output_type": "stream",
     "text": [
      "/opt/conda/lib/python3.7/site-packages/bearinmind_pipeline/data_preprocessing.py:60: SettingWithCopyWarning:\n",
      "\n",
      "\n",
      "A value is trying to be set on a copy of a slice from a DataFrame.\n",
      "Try using .loc[row_indexer,col_indexer] = value instead\n",
      "\n",
      "See the caveats in the documentation: http://pandas.pydata.org/pandas-docs/stable/user_guide/indexing.html#returning-a-view-versus-a-copy\n",
      "\n"
     ]
    },
    {
     "name": "stdout",
     "output_type": "stream",
     "text": [
      "24 features have been chosen for modeling\n",
      "Fold: 0\n",
      "The valuation metric for the fold 0 is 0.3325417908384117\n",
      "Fold: 1\n",
      "The valuation metric for the fold 1 is 0.383368037198958\n",
      "Fold: 2\n",
      "The valuation metric for the fold 2 is 0.38918040306318175\n",
      "The average score accross the folds is 0.3683634103668505\n",
      "training meter 1.0\n",
      "colums primary_use is being encoded\n"
     ]
    },
    {
     "name": "stderr",
     "output_type": "stream",
     "text": [
      "/opt/conda/lib/python3.7/site-packages/bearinmind_pipeline/data_preprocessing.py:60: SettingWithCopyWarning:\n",
      "\n",
      "\n",
      "A value is trying to be set on a copy of a slice from a DataFrame.\n",
      "Try using .loc[row_indexer,col_indexer] = value instead\n",
      "\n",
      "See the caveats in the documentation: http://pandas.pydata.org/pandas-docs/stable/user_guide/indexing.html#returning-a-view-versus-a-copy\n",
      "\n",
      "/opt/conda/lib/python3.7/site-packages/pandas/core/series.py:853: RuntimeWarning:\n",
      "\n",
      "divide by zero encountered in log\n",
      "\n"
     ]
    },
    {
     "name": "stdout",
     "output_type": "stream",
     "text": [
      "24 features have been chosen for modeling\n",
      "Fold: 0\n",
      "The valuation metric for the fold 0 is 1.1399007047828453\n",
      "Fold: 1\n",
      "The valuation metric for the fold 1 is 1.0745400040561062\n",
      "Fold: 2\n",
      "The valuation metric for the fold 2 is 1.0629544803598407\n",
      "The average score accross the folds is 1.0924650630662642\n",
      "training meter 2.0\n",
      "colums primary_use is being encoded\n"
     ]
    },
    {
     "name": "stderr",
     "output_type": "stream",
     "text": [
      "/opt/conda/lib/python3.7/site-packages/bearinmind_pipeline/data_preprocessing.py:60: SettingWithCopyWarning:\n",
      "\n",
      "\n",
      "A value is trying to be set on a copy of a slice from a DataFrame.\n",
      "Try using .loc[row_indexer,col_indexer] = value instead\n",
      "\n",
      "See the caveats in the documentation: http://pandas.pydata.org/pandas-docs/stable/user_guide/indexing.html#returning-a-view-versus-a-copy\n",
      "\n"
     ]
    },
    {
     "name": "stdout",
     "output_type": "stream",
     "text": [
      "24 features have been chosen for modeling\n",
      "Fold: 0\n"
     ]
    },
    {
     "name": "stderr",
     "output_type": "stream",
     "text": [
      "/opt/conda/lib/python3.7/site-packages/pandas/core/series.py:853: RuntimeWarning:\n",
      "\n",
      "divide by zero encountered in log\n",
      "\n"
     ]
    },
    {
     "name": "stdout",
     "output_type": "stream",
     "text": [
      "The valuation metric for the fold 0 is 1.2935122681804518\n",
      "Fold: 1\n",
      "The valuation metric for the fold 1 is 1.671462745928396\n",
      "Fold: 2\n",
      "The valuation metric for the fold 2 is 1.3901375172551291\n",
      "The average score accross the folds is 1.4517041771213257\n",
      "training site_id 14.0\n",
      "training meter 0.0\n",
      "colums primary_use is being encoded\n"
     ]
    },
    {
     "name": "stderr",
     "output_type": "stream",
     "text": [
      "/opt/conda/lib/python3.7/site-packages/bearinmind_pipeline/data_preprocessing.py:60: SettingWithCopyWarning:\n",
      "\n",
      "\n",
      "A value is trying to be set on a copy of a slice from a DataFrame.\n",
      "Try using .loc[row_indexer,col_indexer] = value instead\n",
      "\n",
      "See the caveats in the documentation: http://pandas.pydata.org/pandas-docs/stable/user_guide/indexing.html#returning-a-view-versus-a-copy\n",
      "\n"
     ]
    },
    {
     "name": "stdout",
     "output_type": "stream",
     "text": [
      "24 features have been chosen for modeling\n",
      "Fold: 0\n",
      "The valuation metric for the fold 0 is 0.30776041415107225\n",
      "Fold: 1\n",
      "The valuation metric for the fold 1 is 0.29947800999710633\n",
      "Fold: 2\n",
      "The valuation metric for the fold 2 is 0.31990978256250907\n",
      "The average score accross the folds is 0.30904940223689586\n",
      "training meter 1.0\n",
      "colums primary_use is being encoded\n"
     ]
    },
    {
     "name": "stderr",
     "output_type": "stream",
     "text": [
      "/opt/conda/lib/python3.7/site-packages/bearinmind_pipeline/data_preprocessing.py:60: SettingWithCopyWarning:\n",
      "\n",
      "\n",
      "A value is trying to be set on a copy of a slice from a DataFrame.\n",
      "Try using .loc[row_indexer,col_indexer] = value instead\n",
      "\n",
      "See the caveats in the documentation: http://pandas.pydata.org/pandas-docs/stable/user_guide/indexing.html#returning-a-view-versus-a-copy\n",
      "\n"
     ]
    },
    {
     "name": "stdout",
     "output_type": "stream",
     "text": [
      "24 features have been chosen for modeling\n",
      "Fold: 0\n"
     ]
    },
    {
     "name": "stderr",
     "output_type": "stream",
     "text": [
      "/opt/conda/lib/python3.7/site-packages/pandas/core/series.py:853: RuntimeWarning:\n",
      "\n",
      "divide by zero encountered in log\n",
      "\n"
     ]
    },
    {
     "name": "stdout",
     "output_type": "stream",
     "text": [
      "The valuation metric for the fold 0 is 1.8683855692167224\n",
      "Fold: 1\n",
      "The valuation metric for the fold 1 is 1.4886296609438885\n",
      "Fold: 2\n",
      "The valuation metric for the fold 2 is 1.9498138546075356\n",
      "The average score accross the folds is 1.768943028256049\n",
      "training meter 3.0\n",
      "colums primary_use is being encoded\n"
     ]
    },
    {
     "name": "stderr",
     "output_type": "stream",
     "text": [
      "/opt/conda/lib/python3.7/site-packages/bearinmind_pipeline/data_preprocessing.py:60: SettingWithCopyWarning:\n",
      "\n",
      "\n",
      "A value is trying to be set on a copy of a slice from a DataFrame.\n",
      "Try using .loc[row_indexer,col_indexer] = value instead\n",
      "\n",
      "See the caveats in the documentation: http://pandas.pydata.org/pandas-docs/stable/user_guide/indexing.html#returning-a-view-versus-a-copy\n",
      "\n",
      "/opt/conda/lib/python3.7/site-packages/pandas/core/series.py:853: RuntimeWarning:\n",
      "\n",
      "divide by zero encountered in log\n",
      "\n"
     ]
    },
    {
     "name": "stdout",
     "output_type": "stream",
     "text": [
      "24 features have been chosen for modeling\n",
      "Fold: 0\n",
      "The valuation metric for the fold 0 is 1.8301569558642066\n",
      "Fold: 1\n",
      "The valuation metric for the fold 1 is 1.6598081448324329\n",
      "Fold: 2\n",
      "The valuation metric for the fold 2 is 1.9741247349143818\n",
      "The average score accross the folds is 1.8213632785370069\n",
      "training meter 2.0\n",
      "colums primary_use is being encoded\n"
     ]
    },
    {
     "name": "stderr",
     "output_type": "stream",
     "text": [
      "/opt/conda/lib/python3.7/site-packages/bearinmind_pipeline/data_preprocessing.py:60: SettingWithCopyWarning:\n",
      "\n",
      "\n",
      "A value is trying to be set on a copy of a slice from a DataFrame.\n",
      "Try using .loc[row_indexer,col_indexer] = value instead\n",
      "\n",
      "See the caveats in the documentation: http://pandas.pydata.org/pandas-docs/stable/user_guide/indexing.html#returning-a-view-versus-a-copy\n",
      "\n",
      "/opt/conda/lib/python3.7/site-packages/pandas/core/series.py:853: RuntimeWarning:\n",
      "\n",
      "divide by zero encountered in log\n",
      "\n"
     ]
    },
    {
     "name": "stdout",
     "output_type": "stream",
     "text": [
      "24 features have been chosen for modeling\n",
      "Fold: 0\n",
      "The valuation metric for the fold 0 is 1.3683862953479602\n",
      "Fold: 1\n",
      "The valuation metric for the fold 1 is 1.4015512772652607\n",
      "Fold: 2\n",
      "The valuation metric for the fold 2 is 1.8164909042737498\n",
      "The average score accross the folds is 1.5288094922956568\n",
      "training site_id 15.0\n",
      "training meter 3.0\n",
      "colums primary_use is being encoded\n",
      "24 features have been chosen for modeling\n",
      "Fold: 0\n"
     ]
    },
    {
     "name": "stderr",
     "output_type": "stream",
     "text": [
      "/opt/conda/lib/python3.7/site-packages/bearinmind_pipeline/data_preprocessing.py:60: SettingWithCopyWarning:\n",
      "\n",
      "\n",
      "A value is trying to be set on a copy of a slice from a DataFrame.\n",
      "Try using .loc[row_indexer,col_indexer] = value instead\n",
      "\n",
      "See the caveats in the documentation: http://pandas.pydata.org/pandas-docs/stable/user_guide/indexing.html#returning-a-view-versus-a-copy\n",
      "\n",
      "/opt/conda/lib/python3.7/site-packages/pandas/core/series.py:853: RuntimeWarning:\n",
      "\n",
      "divide by zero encountered in log\n",
      "\n"
     ]
    },
    {
     "name": "stdout",
     "output_type": "stream",
     "text": [
      "The valuation metric for the fold 0 is 0.6572924875481452\n",
      "Fold: 1\n",
      "The valuation metric for the fold 1 is 0.7058271624828005\n",
      "Fold: 2\n",
      "The valuation metric for the fold 2 is 0.6737917966560568\n",
      "The average score accross the folds is 0.6789704822290008\n",
      "training meter 0.0\n",
      "colums primary_use is being encoded\n"
     ]
    },
    {
     "name": "stderr",
     "output_type": "stream",
     "text": [
      "/opt/conda/lib/python3.7/site-packages/bearinmind_pipeline/data_preprocessing.py:60: SettingWithCopyWarning:\n",
      "\n",
      "\n",
      "A value is trying to be set on a copy of a slice from a DataFrame.\n",
      "Try using .loc[row_indexer,col_indexer] = value instead\n",
      "\n",
      "See the caveats in the documentation: http://pandas.pydata.org/pandas-docs/stable/user_guide/indexing.html#returning-a-view-versus-a-copy\n",
      "\n"
     ]
    },
    {
     "name": "stdout",
     "output_type": "stream",
     "text": [
      "24 features have been chosen for modeling\n",
      "Fold: 0\n",
      "The valuation metric for the fold 0 is 0.29017797919677196\n",
      "Fold: 1\n",
      "The valuation metric for the fold 1 is 0.30178781080303935\n",
      "Fold: 2\n",
      "The valuation metric for the fold 2 is 0.32749071851586053\n",
      "The average score accross the folds is 0.3064855028385573\n",
      "training meter 1.0\n",
      "colums primary_use is being encoded\n"
     ]
    },
    {
     "name": "stderr",
     "output_type": "stream",
     "text": [
      "/opt/conda/lib/python3.7/site-packages/bearinmind_pipeline/data_preprocessing.py:60: SettingWithCopyWarning:\n",
      "\n",
      "\n",
      "A value is trying to be set on a copy of a slice from a DataFrame.\n",
      "Try using .loc[row_indexer,col_indexer] = value instead\n",
      "\n",
      "See the caveats in the documentation: http://pandas.pydata.org/pandas-docs/stable/user_guide/indexing.html#returning-a-view-versus-a-copy\n",
      "\n",
      "/opt/conda/lib/python3.7/site-packages/pandas/core/series.py:853: RuntimeWarning:\n",
      "\n",
      "divide by zero encountered in log\n",
      "\n"
     ]
    },
    {
     "name": "stdout",
     "output_type": "stream",
     "text": [
      "24 features have been chosen for modeling\n",
      "Fold: 0\n",
      "The valuation metric for the fold 0 is 0.6080958721899529\n",
      "Fold: 1\n",
      "The valuation metric for the fold 1 is 0.6202567790129291\n",
      "Fold: 2\n",
      "The valuation metric for the fold 2 is 0.5735445133726085\n",
      "The average score accross the folds is 0.6006323881918302\n",
      "training meter 2.0\n",
      "colums primary_use is being encoded\n"
     ]
    },
    {
     "name": "stderr",
     "output_type": "stream",
     "text": [
      "/opt/conda/lib/python3.7/site-packages/bearinmind_pipeline/data_preprocessing.py:60: SettingWithCopyWarning:\n",
      "\n",
      "\n",
      "A value is trying to be set on a copy of a slice from a DataFrame.\n",
      "Try using .loc[row_indexer,col_indexer] = value instead\n",
      "\n",
      "See the caveats in the documentation: http://pandas.pydata.org/pandas-docs/stable/user_guide/indexing.html#returning-a-view-versus-a-copy\n",
      "\n"
     ]
    },
    {
     "name": "stdout",
     "output_type": "stream",
     "text": [
      "24 features have been chosen for modeling\n",
      "Fold: 0\n"
     ]
    },
    {
     "name": "stderr",
     "output_type": "stream",
     "text": [
      "/opt/conda/lib/python3.7/site-packages/pandas/core/series.py:853: RuntimeWarning:\n",
      "\n",
      "divide by zero encountered in log\n",
      "\n"
     ]
    },
    {
     "name": "stdout",
     "output_type": "stream",
     "text": [
      "The valuation metric for the fold 0 is 1.0864121281568728\n",
      "Fold: 1\n",
      "The valuation metric for the fold 1 is 1.2276517666004325\n",
      "Fold: 2\n",
      "The valuation metric for the fold 2 is 0.8708860469429568\n",
      "The average score accross the folds is 1.061649980566754\n",
      "training site_id 0.0\n",
      "training meter 1.0\n",
      "colums primary_use is being encoded\n"
     ]
    },
    {
     "name": "stderr",
     "output_type": "stream",
     "text": [
      "/opt/conda/lib/python3.7/site-packages/bearinmind_pipeline/data_preprocessing.py:60: SettingWithCopyWarning:\n",
      "\n",
      "\n",
      "A value is trying to be set on a copy of a slice from a DataFrame.\n",
      "Try using .loc[row_indexer,col_indexer] = value instead\n",
      "\n",
      "See the caveats in the documentation: http://pandas.pydata.org/pandas-docs/stable/user_guide/indexing.html#returning-a-view-versus-a-copy\n",
      "\n",
      "/opt/conda/lib/python3.7/site-packages/pandas/core/series.py:853: RuntimeWarning:\n",
      "\n",
      "divide by zero encountered in log\n",
      "\n"
     ]
    },
    {
     "name": "stdout",
     "output_type": "stream",
     "text": [
      "24 features have been chosen for modeling\n",
      "Fold: 0\n",
      "The valuation metric for the fold 0 is 2.1602348701243326\n",
      "Fold: 1\n",
      "The valuation metric for the fold 1 is 1.8000281157419715\n",
      "Fold: 2\n",
      "The valuation metric for the fold 2 is 2.376370386913905\n",
      "The average score accross the folds is 2.1122111242600696\n",
      "training meter 0.0\n",
      "colums primary_use is being encoded\n"
     ]
    },
    {
     "name": "stderr",
     "output_type": "stream",
     "text": [
      "/opt/conda/lib/python3.7/site-packages/bearinmind_pipeline/data_preprocessing.py:60: SettingWithCopyWarning:\n",
      "\n",
      "\n",
      "A value is trying to be set on a copy of a slice from a DataFrame.\n",
      "Try using .loc[row_indexer,col_indexer] = value instead\n",
      "\n",
      "See the caveats in the documentation: http://pandas.pydata.org/pandas-docs/stable/user_guide/indexing.html#returning-a-view-versus-a-copy\n",
      "\n"
     ]
    },
    {
     "name": "stdout",
     "output_type": "stream",
     "text": [
      "24 features have been chosen for modeling\n",
      "Fold: 0\n",
      "The valuation metric for the fold 0 is 0.3336868477984532\n",
      "Fold: 1\n",
      "The valuation metric for the fold 1 is 0.2778628429883452\n",
      "Fold: 2\n",
      "The valuation metric for the fold 2 is 0.42627005932419787\n",
      "The average score accross the folds is 0.3459399167036654\n",
      "training site_id nan\n"
     ]
    }
   ],
   "source": [
    "### Per site and meter type ###\n",
    "perf_dict = {}\n",
    "final_sub_lst = []\n",
    "encode_cols = [\"primary_use\"]\n",
    "mb = mc.modelBuilder('regression', 'LGBM')\n",
    "for i in tqdm_notebook(df_train['site_id'].unique()):\n",
    "#for i in tqdm_notebook(range(6, 7, 1)):\n",
    "    print(f'training site_id {i}')\n",
    "    \n",
    "    df_train_site = df_train[df_train['site_id'] == i]\n",
    "    df_test_site = df_test[df_test['site_id'] == i]\n",
    "    \n",
    "    for j in df_train_site['meter'].unique():\n",
    "        \n",
    "        print(f'training meter {j}')\n",
    "        df_train_metr = df_train_site[df_train_site['meter'] == j]\n",
    "        df_test_metr = df_test_site[df_test_site['meter'] == j]\n",
    "\n",
    "        df_train_metr = df_train_metr[(np.abs(stats.zscore(df_train_metr['meter_reading'])) < 5)]\n",
    "        #df_train_metr = df_train_metr.groupby('building_id', as_index=False).apply(lambda x: x[(np.abs(stats.zscore(x['meter_reading'])) < 5)])\n",
    "        #df_train_metr = df_train_metr.groupby('building_id', as_index=False).apply(lambda x: x[x['meter_reading'] < x['meter_reading'].quantile(0.99)])\n",
    "        \n",
    "        data = dp.encode_categorical(df_train_metr, df_test_metr, encode_cols)\n",
    "        data = mb.prepare_data_split(df_train =  data['df_train'], df_test = data['df_test'], \n",
    "                                 target = 'meter_reading', rem_cols = ['timestamp'], \n",
    "                                 useVarImp = False, varimp_threshold = 100)\n",
    "        data['X_test'] = data['X_test'].drop([\"row_id\"],  axis=1)\n",
    "        data['Y'] = np.log(data['Y'])\n",
    "        data['Y'][data['Y'] == -inf] = 0\n",
    "        submit = mb.run_model(data, n_folds = 3, metric_func = rmse, get_probab = False, \n",
    "                          save_varimp = False, params = params, oversmp = False, cv_shuffle=False)\n",
    "        submit['FinalPrediction'] = np.exp(submit['FinalPrediction'])\n",
    "        final_submit = pd.concat([df_test_metr['row_id'].reset_index(drop=True), pd.DataFrame(submit['FinalPrediction'], columns = [\"meter_reading\"])], axis = 1)\n",
    "\n",
    "        perf_dict[f'site_id: {i} and meter: {j}'] = submit['AverageScore']\n",
    "        final_sub_lst.append(final_submit)\n",
    "    "
   ]
  },
  {
   "cell_type": "code",
   "execution_count": null,
   "metadata": {},
   "outputs": [],
   "source": [
    "### Per meter type ###\n",
    "#perf_dict = {}\n",
    "#final_sub_lst = []\n",
    "#encode_cols = [\"primary_use\"]\n",
    "#mb = mc.modelBuilder('regression', 'LGBM')\n",
    "#for i in tqdm_notebook(df_train['site_id'].unique()):\n",
    "#for i in tqdm_notebook(range(2)):\n",
    "#    print(f'training site_id {i}')\n",
    "#    \n",
    "#    df_train_site = df_train[df_train['site_id'] == i]\n",
    "#    df_test_site = df_test[df_test['site_id'] == i]\n",
    "\n",
    "#    data = dp.encode_categorical(df_train_site, df_test_site, encode_cols)\n",
    "#    data = mb.prepare_data_split(df_train =  data['df_train'], df_test = data['df_test'], \n",
    "#                                 target = 'meter_reading', rem_cols = ['timestamp'], \n",
    "#                                 useVarImp = False, varimp_threshold = 100)\n",
    "#    data['X_test'] = data['X_test'].drop([\"row_id\"],  axis=1)\n",
    "#    data['Y'] = np.log(data['Y'])\n",
    "#    data['Y'][data['Y'] == -inf] = 0\n",
    "#    submit = mb.run_model(data, n_folds = 5, metric_func = rmse, get_probab = False, \n",
    "#                          save_varimp = False, params = params, oversmp = False, cv_shuffle=False)\n",
    "#    submit['FinalPrediction'] = np.exp(submit['FinalPrediction'])\n",
    "#    final_submit = pd.concat([df_test_metr['row_id'].reset_index(drop=True), pd.DataFrame(submit['FinalPrediction'], columns = [\"meter_reading\"])], axis = 1)\n",
    "\n",
    "#    perf_dict[f'site_id: {i} and meter: {j}'] = submit['AverageScore']\n",
    "#    final_sub_lst.append(final_submit)\n",
    "    "
   ]
  },
  {
   "cell_type": "code",
   "execution_count": 75,
   "metadata": {},
   "outputs": [
    {
     "data": {
      "text/plain": [
       "1.0213543551573712"
      ]
     },
     "execution_count": 75,
     "metadata": {},
     "output_type": "execute_result"
    }
   ],
   "source": [
    "np.array(list(perf_dict.values())).mean()"
   ]
  },
  {
   "cell_type": "code",
   "execution_count": 62,
   "metadata": {},
   "outputs": [
    {
     "data": {
      "text/plain": [
       "{'site_id: 1.0 and meter: 0.0': 0.4548654469274667,\n",
       " 'site_id: 1.0 and meter: 3.0': 1.7188251894545392,\n",
       " 'site_id: 2.0 and meter: 0.0': 0.4342511679387993,\n",
       " 'site_id: 2.0 and meter: 1.0': 1.1987215209414055,\n",
       " 'site_id: 2.0 and meter: 3.0': 1.0199216543420002,\n",
       " 'site_id: 3.0 and meter: 0.0': 0.5309109058639121,\n",
       " 'site_id: 4.0 and meter: 0.0': 0.2748651925324203,\n",
       " 'site_id: 5.0 and meter: 0.0': 0.7470767838990806,\n",
       " 'site_id: 6.0 and meter: 0.0': 0.35578741182328394,\n",
       " 'site_id: 6.0 and meter: 2.0': 1.600360624317586,\n",
       " 'site_id: 6.0 and meter: 1.0': 1.6669464018831253,\n",
       " 'site_id: 7.0 and meter: 1.0': 1.4045694821599148,\n",
       " 'site_id: 7.0 and meter: 2.0': 1.5700850438498604,\n",
       " 'site_id: 7.0 and meter: 0.0': 0.3297072378051364,\n",
       " 'site_id: 7.0 and meter: 3.0': 1.9645921386363456,\n",
       " 'site_id: 8.0 and meter: 0.0': 0.7042958534539694,\n",
       " 'site_id: 9.0 and meter: 1.0': 1.295633938468656,\n",
       " 'site_id: 9.0 and meter: 2.0': 1.2673233022714983,\n",
       " 'site_id: 9.0 and meter: 0.0': 0.24837885227263076,\n",
       " 'site_id: 10.0 and meter: 0.0': 0.4395082404594783,\n",
       " 'site_id: 10.0 and meter: 1.0': 1.847680119837961,\n",
       " 'site_id: 10.0 and meter: 3.0': 2.0563669408361296,\n",
       " 'site_id: 11.0 and meter: 0.0': 0.18078557014706556,\n",
       " 'site_id: 11.0 and meter: 3.0': 1.087403931216936,\n",
       " 'site_id: 11.0 and meter: 1.0': 1.189053106455133,\n",
       " 'site_id: 12.0 and meter: 0.0': 0.32296651875229704,\n",
       " 'site_id: 13.0 and meter: 0.0': 0.3789524409542748,\n",
       " 'site_id: 13.0 and meter: 1.0': 1.117834258296233,\n",
       " 'site_id: 13.0 and meter: 2.0': 1.4642052260558216,\n",
       " 'site_id: 14.0 and meter: 0.0': 0.3114383676837436,\n",
       " 'site_id: 14.0 and meter: 1.0': 1.7851556288831116,\n",
       " 'site_id: 14.0 and meter: 3.0': 1.82861969980205,\n",
       " 'site_id: 14.0 and meter: 2.0': 1.527879629566094,\n",
       " 'site_id: 15.0 and meter: 3.0': 0.6854067764186503,\n",
       " 'site_id: 15.0 and meter: 0.0': 0.31224654134498947,\n",
       " 'site_id: 15.0 and meter: 1.0': 0.6195519805739389,\n",
       " 'site_id: 15.0 and meter: 2.0': 1.0729592684251867,\n",
       " 'site_id: 0.0 and meter: 1.0': 2.083648584068865,\n",
       " 'site_id: 0.0 and meter: 0.0': 0.35367305239989316}"
      ]
     },
     "execution_count": 62,
     "metadata": {},
     "output_type": "execute_result"
    }
   ],
   "source": [
    "perf_dict"
   ]
  },
  {
   "cell_type": "code",
   "execution_count": 81,
   "metadata": {},
   "outputs": [],
   "source": [
    "with open('rmse_siteid_meter_no_zeros.txt', 'w') as file:\n",
    "     file.write(json.dumps(perf_dict))"
   ]
  },
  {
   "cell_type": "code",
   "execution_count": 82,
   "metadata": {},
   "outputs": [],
   "source": [
    "sub = pd.concat(final_sub_lst, axis = 0).reset_index(drop = True)\n",
    "sub.to_csv(\"submit_lightgbm_by_site_3fold.csv.gz\", index = False, compression='gzip')"
   ]
  },
  {
   "cell_type": "code",
   "execution_count": null,
   "metadata": {},
   "outputs": [],
   "source": [
    "#submit['FinalPrediction'] = np.exp(submit['FinalPrediction'])"
   ]
  },
  {
   "cell_type": "code",
   "execution_count": null,
   "metadata": {},
   "outputs": [],
   "source": [
    "#submit['FinalPrediction']"
   ]
  },
  {
   "cell_type": "code",
   "execution_count": null,
   "metadata": {},
   "outputs": [],
   "source": [
    "#submit"
   ]
  },
  {
   "cell_type": "code",
   "execution_count": null,
   "metadata": {},
   "outputs": [],
   "source": [
    "#final_submit = pd.concat([df_test['row_id'], pd.DataFrame(submit['FinalPrediction'], columns = [\"meter_reading\"])], axis = 1)"
   ]
  },
  {
   "cell_type": "code",
   "execution_count": null,
   "metadata": {},
   "outputs": [],
   "source": [
    "#final_submit[\"meter_reading\"].describe()"
   ]
  },
  {
   "cell_type": "code",
   "execution_count": null,
   "metadata": {},
   "outputs": [],
   "source": [
    "#final_submit.to_csv(\"submit_lightgbm_default.csv.gz\", index = False, compression='gzip')"
   ]
  },
  {
   "cell_type": "code",
   "execution_count": null,
   "metadata": {},
   "outputs": [],
   "source": [
    "!kaggle competitions submit -c ashrae-energy-prediction -f submit_lightgbm_by_site_3fold.csv.gz -m \"lightgbm 3 folds 9 leaves 32 depth and 300 iterations LR - 0.05, no zeroes, manual removal of some values \""
   ]
  },
  {
   "cell_type": "code",
   "execution_count": null,
   "metadata": {},
   "outputs": [],
   "source": []
  }
 ],
 "metadata": {
  "kernelspec": {
   "display_name": "Python 3",
   "language": "python",
   "name": "python3"
  },
  "language_info": {
   "codemirror_mode": {
    "name": "ipython",
    "version": 3
   },
   "file_extension": ".py",
   "mimetype": "text/x-python",
   "name": "python",
   "nbconvert_exporter": "python",
   "pygments_lexer": "ipython3",
   "version": "3.7.3"
  }
 },
 "nbformat": 4,
 "nbformat_minor": 2
}
