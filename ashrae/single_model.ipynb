{
 "cells": [
  {
   "cell_type": "code",
   "execution_count": 20,
   "metadata": {},
   "outputs": [],
   "source": [
    "import sys\n",
    "#sys.path.insert(0, '/home/jovyan/work/Molecular_Properties/model-pipeline/src')\n",
    "import pandas as pd\n",
    "import warnings\n",
    "import numpy as np\n",
    "from sklearn.preprocessing import LabelEncoder, OneHotEncoder\n",
    "#from model_construction import prepare_data_split, run_model, show_varimp\n",
    "from bearinmind_pipeline.data_preprocessing import dataPreprocessing as dp\n",
    "#from bearinmind_pipeline.model_construction import modelBuilder as mb\n",
    "import bearinmind_pipeline.model_construction as mc\n",
    "from numpy import inf\n",
    "from sklearn.metrics import mean_squared_error\n",
    "from math import sqrt\n",
    "import gc\n",
    "from tqdm import tqdm_notebook, tqdm "
   ]
  },
  {
   "cell_type": "code",
   "execution_count": 57,
   "metadata": {},
   "outputs": [],
   "source": [
    "df_train = pd.read_csv('./data/train.csv')\n",
    "df_test = pd.read_csv('./data/test.csv')\n",
    "mapping = pd.read_csv('./data/building_metadata.csv')\n",
    "weather_train = pd.read_csv('./data/weather_train.csv')\n",
    "weather_test = pd.read_csv('./data/weather_test.csv')"
   ]
  },
  {
   "cell_type": "code",
   "execution_count": 58,
   "metadata": {},
   "outputs": [],
   "source": [
    "df_train = df_train.merge(mapping, how = \"left\", on = \"building_id\")\n",
    "df_test = df_test.merge(mapping, how = \"left\", on = \"building_id\")"
   ]
  },
  {
   "cell_type": "code",
   "execution_count": 59,
   "metadata": {},
   "outputs": [],
   "source": [
    "df_train = df_train.merge(weather_train, how = \"left\", on = [\"site_id\", \"timestamp\"])\n",
    "df_test = df_test.merge(weather_test, how = \"left\", on =  [\"site_id\", \"timestamp\"])"
   ]
  },
  {
   "cell_type": "code",
   "execution_count": 60,
   "metadata": {},
   "outputs": [],
   "source": [
    "del weather_train \n",
    "del weather_test"
   ]
  },
  {
   "cell_type": "code",
   "execution_count": 61,
   "metadata": {},
   "outputs": [
    {
     "data": {
      "text/html": [
       "<div>\n",
       "<style scoped>\n",
       "    .dataframe tbody tr th:only-of-type {\n",
       "        vertical-align: middle;\n",
       "    }\n",
       "\n",
       "    .dataframe tbody tr th {\n",
       "        vertical-align: top;\n",
       "    }\n",
       "\n",
       "    .dataframe thead th {\n",
       "        text-align: right;\n",
       "    }\n",
       "</style>\n",
       "<table border=\"1\" class=\"dataframe\">\n",
       "  <thead>\n",
       "    <tr style=\"text-align: right;\">\n",
       "      <th></th>\n",
       "      <th>building_id</th>\n",
       "      <th>meter</th>\n",
       "      <th>timestamp</th>\n",
       "      <th>meter_reading</th>\n",
       "      <th>site_id</th>\n",
       "      <th>primary_use</th>\n",
       "      <th>square_feet</th>\n",
       "      <th>year_built</th>\n",
       "      <th>floor_count</th>\n",
       "      <th>air_temperature</th>\n",
       "      <th>cloud_coverage</th>\n",
       "      <th>dew_temperature</th>\n",
       "      <th>precip_depth_1_hr</th>\n",
       "      <th>sea_level_pressure</th>\n",
       "      <th>wind_direction</th>\n",
       "      <th>wind_speed</th>\n",
       "    </tr>\n",
       "  </thead>\n",
       "  <tbody>\n",
       "    <tr>\n",
       "      <td>0</td>\n",
       "      <td>0</td>\n",
       "      <td>0</td>\n",
       "      <td>2016-01-01 00:00:00</td>\n",
       "      <td>0.0</td>\n",
       "      <td>0</td>\n",
       "      <td>Education</td>\n",
       "      <td>7432</td>\n",
       "      <td>2008.0</td>\n",
       "      <td>NaN</td>\n",
       "      <td>25.0</td>\n",
       "      <td>6.0</td>\n",
       "      <td>20.0</td>\n",
       "      <td>NaN</td>\n",
       "      <td>1019.7</td>\n",
       "      <td>0.0</td>\n",
       "      <td>0.0</td>\n",
       "    </tr>\n",
       "    <tr>\n",
       "      <td>1</td>\n",
       "      <td>1</td>\n",
       "      <td>0</td>\n",
       "      <td>2016-01-01 00:00:00</td>\n",
       "      <td>0.0</td>\n",
       "      <td>0</td>\n",
       "      <td>Education</td>\n",
       "      <td>2720</td>\n",
       "      <td>2004.0</td>\n",
       "      <td>NaN</td>\n",
       "      <td>25.0</td>\n",
       "      <td>6.0</td>\n",
       "      <td>20.0</td>\n",
       "      <td>NaN</td>\n",
       "      <td>1019.7</td>\n",
       "      <td>0.0</td>\n",
       "      <td>0.0</td>\n",
       "    </tr>\n",
       "    <tr>\n",
       "      <td>2</td>\n",
       "      <td>2</td>\n",
       "      <td>0</td>\n",
       "      <td>2016-01-01 00:00:00</td>\n",
       "      <td>0.0</td>\n",
       "      <td>0</td>\n",
       "      <td>Education</td>\n",
       "      <td>5376</td>\n",
       "      <td>1991.0</td>\n",
       "      <td>NaN</td>\n",
       "      <td>25.0</td>\n",
       "      <td>6.0</td>\n",
       "      <td>20.0</td>\n",
       "      <td>NaN</td>\n",
       "      <td>1019.7</td>\n",
       "      <td>0.0</td>\n",
       "      <td>0.0</td>\n",
       "    </tr>\n",
       "    <tr>\n",
       "      <td>3</td>\n",
       "      <td>3</td>\n",
       "      <td>0</td>\n",
       "      <td>2016-01-01 00:00:00</td>\n",
       "      <td>0.0</td>\n",
       "      <td>0</td>\n",
       "      <td>Education</td>\n",
       "      <td>23685</td>\n",
       "      <td>2002.0</td>\n",
       "      <td>NaN</td>\n",
       "      <td>25.0</td>\n",
       "      <td>6.0</td>\n",
       "      <td>20.0</td>\n",
       "      <td>NaN</td>\n",
       "      <td>1019.7</td>\n",
       "      <td>0.0</td>\n",
       "      <td>0.0</td>\n",
       "    </tr>\n",
       "    <tr>\n",
       "      <td>4</td>\n",
       "      <td>4</td>\n",
       "      <td>0</td>\n",
       "      <td>2016-01-01 00:00:00</td>\n",
       "      <td>0.0</td>\n",
       "      <td>0</td>\n",
       "      <td>Education</td>\n",
       "      <td>116607</td>\n",
       "      <td>1975.0</td>\n",
       "      <td>NaN</td>\n",
       "      <td>25.0</td>\n",
       "      <td>6.0</td>\n",
       "      <td>20.0</td>\n",
       "      <td>NaN</td>\n",
       "      <td>1019.7</td>\n",
       "      <td>0.0</td>\n",
       "      <td>0.0</td>\n",
       "    </tr>\n",
       "  </tbody>\n",
       "</table>\n",
       "</div>"
      ],
      "text/plain": [
       "   building_id  meter            timestamp  meter_reading  site_id  \\\n",
       "0            0      0  2016-01-01 00:00:00            0.0        0   \n",
       "1            1      0  2016-01-01 00:00:00            0.0        0   \n",
       "2            2      0  2016-01-01 00:00:00            0.0        0   \n",
       "3            3      0  2016-01-01 00:00:00            0.0        0   \n",
       "4            4      0  2016-01-01 00:00:00            0.0        0   \n",
       "\n",
       "  primary_use  square_feet  year_built  floor_count  air_temperature  \\\n",
       "0   Education         7432      2008.0          NaN             25.0   \n",
       "1   Education         2720      2004.0          NaN             25.0   \n",
       "2   Education         5376      1991.0          NaN             25.0   \n",
       "3   Education        23685      2002.0          NaN             25.0   \n",
       "4   Education       116607      1975.0          NaN             25.0   \n",
       "\n",
       "   cloud_coverage  dew_temperature  precip_depth_1_hr  sea_level_pressure  \\\n",
       "0             6.0             20.0                NaN              1019.7   \n",
       "1             6.0             20.0                NaN              1019.7   \n",
       "2             6.0             20.0                NaN              1019.7   \n",
       "3             6.0             20.0                NaN              1019.7   \n",
       "4             6.0             20.0                NaN              1019.7   \n",
       "\n",
       "   wind_direction  wind_speed  \n",
       "0             0.0         0.0  \n",
       "1             0.0         0.0  \n",
       "2             0.0         0.0  \n",
       "3             0.0         0.0  \n",
       "4             0.0         0.0  "
      ]
     },
     "execution_count": 61,
     "metadata": {},
     "output_type": "execute_result"
    }
   ],
   "source": [
    "df_train.head()"
   ]
  },
  {
   "cell_type": "code",
   "execution_count": 15,
   "metadata": {},
   "outputs": [],
   "source": [
    "def rmsle(y, yhat):\n",
    "    score = np.sqrt(np.mean(np.power(np.log(yhat+1)-np.log(y.reset_index(drop=True)+1), 2)))\n",
    "    return(score)"
   ]
  },
  {
   "cell_type": "code",
   "execution_count": 16,
   "metadata": {},
   "outputs": [],
   "source": [
    "def rmse(y, yhat):\n",
    "    score = sqrt(mean_squared_error(y, yhat))\n",
    "    return(score)"
   ]
  },
  {
   "cell_type": "code",
   "execution_count": 64,
   "metadata": {},
   "outputs": [
    {
     "data": {
      "text/html": [
       "<div>\n",
       "<style scoped>\n",
       "    .dataframe tbody tr th:only-of-type {\n",
       "        vertical-align: middle;\n",
       "    }\n",
       "\n",
       "    .dataframe tbody tr th {\n",
       "        vertical-align: top;\n",
       "    }\n",
       "\n",
       "    .dataframe thead th {\n",
       "        text-align: right;\n",
       "    }\n",
       "</style>\n",
       "<table border=\"1\" class=\"dataframe\">\n",
       "  <thead>\n",
       "    <tr style=\"text-align: right;\">\n",
       "      <th></th>\n",
       "      <th>building_id</th>\n",
       "      <th>meter</th>\n",
       "      <th>meter_reading</th>\n",
       "      <th>site_id</th>\n",
       "      <th>square_feet</th>\n",
       "      <th>year_built</th>\n",
       "      <th>floor_count</th>\n",
       "      <th>air_temperature</th>\n",
       "      <th>cloud_coverage</th>\n",
       "      <th>dew_temperature</th>\n",
       "      <th>precip_depth_1_hr</th>\n",
       "      <th>sea_level_pressure</th>\n",
       "      <th>wind_direction</th>\n",
       "      <th>wind_speed</th>\n",
       "    </tr>\n",
       "  </thead>\n",
       "  <tbody>\n",
       "    <tr>\n",
       "      <td>count</td>\n",
       "      <td>2.021610e+07</td>\n",
       "      <td>2.021610e+07</td>\n",
       "      <td>2.021610e+07</td>\n",
       "      <td>2.021610e+07</td>\n",
       "      <td>2.021610e+07</td>\n",
       "      <td>8.088455e+06</td>\n",
       "      <td>3.506933e+06</td>\n",
       "      <td>2.011944e+07</td>\n",
       "      <td>1.139074e+07</td>\n",
       "      <td>2.011596e+07</td>\n",
       "      <td>1.646708e+07</td>\n",
       "      <td>1.898443e+07</td>\n",
       "      <td>1.876705e+07</td>\n",
       "      <td>2.007242e+07</td>\n",
       "    </tr>\n",
       "    <tr>\n",
       "      <td>mean</td>\n",
       "      <td>7.992780e+02</td>\n",
       "      <td>6.624412e-01</td>\n",
       "      <td>2.117121e+03</td>\n",
       "      <td>7.992232e+00</td>\n",
       "      <td>1.077830e+05</td>\n",
       "      <td>1.968277e+03</td>\n",
       "      <td>4.184848e+00</td>\n",
       "      <td>1.598795e+01</td>\n",
       "      <td>1.900423e+00</td>\n",
       "      <td>7.747429e+00</td>\n",
       "      <td>7.964155e-01</td>\n",
       "      <td>1.016085e+03</td>\n",
       "      <td>1.730151e+02</td>\n",
       "      <td>3.377525e+00</td>\n",
       "    </tr>\n",
       "    <tr>\n",
       "      <td>std</td>\n",
       "      <td>4.269133e+02</td>\n",
       "      <td>9.309921e-01</td>\n",
       "      <td>1.532356e+05</td>\n",
       "      <td>5.099060e+00</td>\n",
       "      <td>1.171424e+05</td>\n",
       "      <td>3.020815e+01</td>\n",
       "      <td>4.008277e+00</td>\n",
       "      <td>1.094729e+01</td>\n",
       "      <td>2.402909e+00</td>\n",
       "      <td>1.017867e+01</td>\n",
       "      <td>7.468997e+00</td>\n",
       "      <td>7.060539e+00</td>\n",
       "      <td>1.140574e+02</td>\n",
       "      <td>2.265694e+00</td>\n",
       "    </tr>\n",
       "    <tr>\n",
       "      <td>min</td>\n",
       "      <td>0.000000e+00</td>\n",
       "      <td>0.000000e+00</td>\n",
       "      <td>0.000000e+00</td>\n",
       "      <td>0.000000e+00</td>\n",
       "      <td>2.830000e+02</td>\n",
       "      <td>1.900000e+03</td>\n",
       "      <td>1.000000e+00</td>\n",
       "      <td>-2.890000e+01</td>\n",
       "      <td>0.000000e+00</td>\n",
       "      <td>-3.500000e+01</td>\n",
       "      <td>-1.000000e+00</td>\n",
       "      <td>9.682000e+02</td>\n",
       "      <td>0.000000e+00</td>\n",
       "      <td>0.000000e+00</td>\n",
       "    </tr>\n",
       "    <tr>\n",
       "      <td>25%</td>\n",
       "      <td>3.930000e+02</td>\n",
       "      <td>0.000000e+00</td>\n",
       "      <td>1.830000e+01</td>\n",
       "      <td>3.000000e+00</td>\n",
       "      <td>3.252700e+04</td>\n",
       "      <td>1.951000e+03</td>\n",
       "      <td>1.000000e+00</td>\n",
       "      <td>8.600000e+00</td>\n",
       "      <td>0.000000e+00</td>\n",
       "      <td>0.000000e+00</td>\n",
       "      <td>0.000000e+00</td>\n",
       "      <td>1.011600e+03</td>\n",
       "      <td>7.000000e+01</td>\n",
       "      <td>2.100000e+00</td>\n",
       "    </tr>\n",
       "    <tr>\n",
       "      <td>50%</td>\n",
       "      <td>8.950000e+02</td>\n",
       "      <td>0.000000e+00</td>\n",
       "      <td>7.877500e+01</td>\n",
       "      <td>9.000000e+00</td>\n",
       "      <td>7.270900e+04</td>\n",
       "      <td>1.969000e+03</td>\n",
       "      <td>3.000000e+00</td>\n",
       "      <td>1.670000e+01</td>\n",
       "      <td>0.000000e+00</td>\n",
       "      <td>8.900000e+00</td>\n",
       "      <td>0.000000e+00</td>\n",
       "      <td>1.016000e+03</td>\n",
       "      <td>1.800000e+02</td>\n",
       "      <td>3.100000e+00</td>\n",
       "    </tr>\n",
       "    <tr>\n",
       "      <td>75%</td>\n",
       "      <td>1.179000e+03</td>\n",
       "      <td>1.000000e+00</td>\n",
       "      <td>2.679840e+02</td>\n",
       "      <td>1.300000e+01</td>\n",
       "      <td>1.391130e+05</td>\n",
       "      <td>1.993000e+03</td>\n",
       "      <td>6.000000e+00</td>\n",
       "      <td>2.410000e+01</td>\n",
       "      <td>4.000000e+00</td>\n",
       "      <td>1.610000e+01</td>\n",
       "      <td>0.000000e+00</td>\n",
       "      <td>1.020500e+03</td>\n",
       "      <td>2.800000e+02</td>\n",
       "      <td>4.600000e+00</td>\n",
       "    </tr>\n",
       "    <tr>\n",
       "      <td>max</td>\n",
       "      <td>1.448000e+03</td>\n",
       "      <td>3.000000e+00</td>\n",
       "      <td>2.190470e+07</td>\n",
       "      <td>1.500000e+01</td>\n",
       "      <td>8.750000e+05</td>\n",
       "      <td>2.017000e+03</td>\n",
       "      <td>2.600000e+01</td>\n",
       "      <td>4.720000e+01</td>\n",
       "      <td>9.000000e+00</td>\n",
       "      <td>2.610000e+01</td>\n",
       "      <td>3.430000e+02</td>\n",
       "      <td>1.045500e+03</td>\n",
       "      <td>3.600000e+02</td>\n",
       "      <td>1.900000e+01</td>\n",
       "    </tr>\n",
       "  </tbody>\n",
       "</table>\n",
       "</div>"
      ],
      "text/plain": [
       "        building_id         meter  meter_reading       site_id   square_feet  \\\n",
       "count  2.021610e+07  2.021610e+07   2.021610e+07  2.021610e+07  2.021610e+07   \n",
       "mean   7.992780e+02  6.624412e-01   2.117121e+03  7.992232e+00  1.077830e+05   \n",
       "std    4.269133e+02  9.309921e-01   1.532356e+05  5.099060e+00  1.171424e+05   \n",
       "min    0.000000e+00  0.000000e+00   0.000000e+00  0.000000e+00  2.830000e+02   \n",
       "25%    3.930000e+02  0.000000e+00   1.830000e+01  3.000000e+00  3.252700e+04   \n",
       "50%    8.950000e+02  0.000000e+00   7.877500e+01  9.000000e+00  7.270900e+04   \n",
       "75%    1.179000e+03  1.000000e+00   2.679840e+02  1.300000e+01  1.391130e+05   \n",
       "max    1.448000e+03  3.000000e+00   2.190470e+07  1.500000e+01  8.750000e+05   \n",
       "\n",
       "         year_built   floor_count  air_temperature  cloud_coverage  \\\n",
       "count  8.088455e+06  3.506933e+06     2.011944e+07    1.139074e+07   \n",
       "mean   1.968277e+03  4.184848e+00     1.598795e+01    1.900423e+00   \n",
       "std    3.020815e+01  4.008277e+00     1.094729e+01    2.402909e+00   \n",
       "min    1.900000e+03  1.000000e+00    -2.890000e+01    0.000000e+00   \n",
       "25%    1.951000e+03  1.000000e+00     8.600000e+00    0.000000e+00   \n",
       "50%    1.969000e+03  3.000000e+00     1.670000e+01    0.000000e+00   \n",
       "75%    1.993000e+03  6.000000e+00     2.410000e+01    4.000000e+00   \n",
       "max    2.017000e+03  2.600000e+01     4.720000e+01    9.000000e+00   \n",
       "\n",
       "       dew_temperature  precip_depth_1_hr  sea_level_pressure  wind_direction  \\\n",
       "count     2.011596e+07       1.646708e+07        1.898443e+07    1.876705e+07   \n",
       "mean      7.747429e+00       7.964155e-01        1.016085e+03    1.730151e+02   \n",
       "std       1.017867e+01       7.468997e+00        7.060539e+00    1.140574e+02   \n",
       "min      -3.500000e+01      -1.000000e+00        9.682000e+02    0.000000e+00   \n",
       "25%       0.000000e+00       0.000000e+00        1.011600e+03    7.000000e+01   \n",
       "50%       8.900000e+00       0.000000e+00        1.016000e+03    1.800000e+02   \n",
       "75%       1.610000e+01       0.000000e+00        1.020500e+03    2.800000e+02   \n",
       "max       2.610000e+01       3.430000e+02        1.045500e+03    3.600000e+02   \n",
       "\n",
       "         wind_speed  \n",
       "count  2.007242e+07  \n",
       "mean   3.377525e+00  \n",
       "std    2.265694e+00  \n",
       "min    0.000000e+00  \n",
       "25%    2.100000e+00  \n",
       "50%    3.100000e+00  \n",
       "75%    4.600000e+00  \n",
       "max    1.900000e+01  "
      ]
     },
     "execution_count": 64,
     "metadata": {},
     "output_type": "execute_result"
    }
   ],
   "source": [
    "df_train.describe()"
   ]
  },
  {
   "cell_type": "code",
   "execution_count": 65,
   "metadata": {},
   "outputs": [],
   "source": [
    "# Check one building\n",
    "df_train_build = df_train[(df_train['building_id'] == 46) & (df_train['meter'] == 0)]"
   ]
  },
  {
   "cell_type": "code",
   "execution_count": 66,
   "metadata": {},
   "outputs": [
    {
     "data": {
      "text/html": [
       "<div>\n",
       "<style scoped>\n",
       "    .dataframe tbody tr th:only-of-type {\n",
       "        vertical-align: middle;\n",
       "    }\n",
       "\n",
       "    .dataframe tbody tr th {\n",
       "        vertical-align: top;\n",
       "    }\n",
       "\n",
       "    .dataframe thead th {\n",
       "        text-align: right;\n",
       "    }\n",
       "</style>\n",
       "<table border=\"1\" class=\"dataframe\">\n",
       "  <thead>\n",
       "    <tr style=\"text-align: right;\">\n",
       "      <th></th>\n",
       "      <th>building_id</th>\n",
       "      <th>meter</th>\n",
       "      <th>timestamp</th>\n",
       "      <th>meter_reading</th>\n",
       "      <th>site_id</th>\n",
       "      <th>primary_use</th>\n",
       "      <th>square_feet</th>\n",
       "      <th>year_built</th>\n",
       "      <th>floor_count</th>\n",
       "      <th>air_temperature</th>\n",
       "      <th>cloud_coverage</th>\n",
       "      <th>dew_temperature</th>\n",
       "      <th>precip_depth_1_hr</th>\n",
       "      <th>sea_level_pressure</th>\n",
       "      <th>wind_direction</th>\n",
       "      <th>wind_speed</th>\n",
       "    </tr>\n",
       "  </thead>\n",
       "  <tbody>\n",
       "    <tr>\n",
       "      <td>45</td>\n",
       "      <td>46</td>\n",
       "      <td>0</td>\n",
       "      <td>2016-01-01 00:00:00</td>\n",
       "      <td>53.2397</td>\n",
       "      <td>0</td>\n",
       "      <td>Retail</td>\n",
       "      <td>9045</td>\n",
       "      <td>2016.0</td>\n",
       "      <td>NaN</td>\n",
       "      <td>25.0</td>\n",
       "      <td>6.0</td>\n",
       "      <td>20.0</td>\n",
       "      <td>NaN</td>\n",
       "      <td>1019.7</td>\n",
       "      <td>0.0</td>\n",
       "      <td>0.0</td>\n",
       "    </tr>\n",
       "    <tr>\n",
       "      <td>2346</td>\n",
       "      <td>46</td>\n",
       "      <td>0</td>\n",
       "      <td>2016-01-01 01:00:00</td>\n",
       "      <td>53.6492</td>\n",
       "      <td>0</td>\n",
       "      <td>Retail</td>\n",
       "      <td>9045</td>\n",
       "      <td>2016.0</td>\n",
       "      <td>NaN</td>\n",
       "      <td>24.4</td>\n",
       "      <td>NaN</td>\n",
       "      <td>21.1</td>\n",
       "      <td>-1.0</td>\n",
       "      <td>1020.2</td>\n",
       "      <td>70.0</td>\n",
       "      <td>1.5</td>\n",
       "    </tr>\n",
       "    <tr>\n",
       "      <td>4639</td>\n",
       "      <td>46</td>\n",
       "      <td>0</td>\n",
       "      <td>2016-01-01 02:00:00</td>\n",
       "      <td>54.8778</td>\n",
       "      <td>0</td>\n",
       "      <td>Retail</td>\n",
       "      <td>9045</td>\n",
       "      <td>2016.0</td>\n",
       "      <td>NaN</td>\n",
       "      <td>22.8</td>\n",
       "      <td>2.0</td>\n",
       "      <td>21.1</td>\n",
       "      <td>0.0</td>\n",
       "      <td>1020.2</td>\n",
       "      <td>0.0</td>\n",
       "      <td>0.0</td>\n",
       "    </tr>\n",
       "    <tr>\n",
       "      <td>6938</td>\n",
       "      <td>46</td>\n",
       "      <td>0</td>\n",
       "      <td>2016-01-01 03:00:00</td>\n",
       "      <td>53.6492</td>\n",
       "      <td>0</td>\n",
       "      <td>Retail</td>\n",
       "      <td>9045</td>\n",
       "      <td>2016.0</td>\n",
       "      <td>NaN</td>\n",
       "      <td>21.1</td>\n",
       "      <td>2.0</td>\n",
       "      <td>20.6</td>\n",
       "      <td>0.0</td>\n",
       "      <td>1020.1</td>\n",
       "      <td>0.0</td>\n",
       "      <td>0.0</td>\n",
       "    </tr>\n",
       "    <tr>\n",
       "      <td>9234</td>\n",
       "      <td>46</td>\n",
       "      <td>0</td>\n",
       "      <td>2016-01-01 04:00:00</td>\n",
       "      <td>53.6492</td>\n",
       "      <td>0</td>\n",
       "      <td>Retail</td>\n",
       "      <td>9045</td>\n",
       "      <td>2016.0</td>\n",
       "      <td>NaN</td>\n",
       "      <td>20.0</td>\n",
       "      <td>2.0</td>\n",
       "      <td>20.0</td>\n",
       "      <td>-1.0</td>\n",
       "      <td>1020.0</td>\n",
       "      <td>250.0</td>\n",
       "      <td>2.6</td>\n",
       "    </tr>\n",
       "    <tr>\n",
       "      <td>11530</td>\n",
       "      <td>46</td>\n",
       "      <td>0</td>\n",
       "      <td>2016-01-01 05:00:00</td>\n",
       "      <td>54.4683</td>\n",
       "      <td>0</td>\n",
       "      <td>Retail</td>\n",
       "      <td>9045</td>\n",
       "      <td>2016.0</td>\n",
       "      <td>NaN</td>\n",
       "      <td>19.4</td>\n",
       "      <td>NaN</td>\n",
       "      <td>19.4</td>\n",
       "      <td>0.0</td>\n",
       "      <td>NaN</td>\n",
       "      <td>0.0</td>\n",
       "      <td>0.0</td>\n",
       "    </tr>\n",
       "    <tr>\n",
       "      <td>13825</td>\n",
       "      <td>46</td>\n",
       "      <td>0</td>\n",
       "      <td>2016-01-01 06:00:00</td>\n",
       "      <td>53.2397</td>\n",
       "      <td>0</td>\n",
       "      <td>Retail</td>\n",
       "      <td>9045</td>\n",
       "      <td>2016.0</td>\n",
       "      <td>NaN</td>\n",
       "      <td>21.1</td>\n",
       "      <td>6.0</td>\n",
       "      <td>21.1</td>\n",
       "      <td>-1.0</td>\n",
       "      <td>1019.4</td>\n",
       "      <td>0.0</td>\n",
       "      <td>0.0</td>\n",
       "    </tr>\n",
       "    <tr>\n",
       "      <td>16118</td>\n",
       "      <td>46</td>\n",
       "      <td>0</td>\n",
       "      <td>2016-01-01 07:00:00</td>\n",
       "      <td>53.2397</td>\n",
       "      <td>0</td>\n",
       "      <td>Retail</td>\n",
       "      <td>9045</td>\n",
       "      <td>2016.0</td>\n",
       "      <td>NaN</td>\n",
       "      <td>21.1</td>\n",
       "      <td>NaN</td>\n",
       "      <td>21.1</td>\n",
       "      <td>0.0</td>\n",
       "      <td>1018.8</td>\n",
       "      <td>210.0</td>\n",
       "      <td>1.5</td>\n",
       "    </tr>\n",
       "    <tr>\n",
       "      <td>18412</td>\n",
       "      <td>46</td>\n",
       "      <td>0</td>\n",
       "      <td>2016-01-01 08:00:00</td>\n",
       "      <td>53.2397</td>\n",
       "      <td>0</td>\n",
       "      <td>Retail</td>\n",
       "      <td>9045</td>\n",
       "      <td>2016.0</td>\n",
       "      <td>NaN</td>\n",
       "      <td>20.6</td>\n",
       "      <td>NaN</td>\n",
       "      <td>20.0</td>\n",
       "      <td>0.0</td>\n",
       "      <td>1018.1</td>\n",
       "      <td>0.0</td>\n",
       "      <td>0.0</td>\n",
       "    </tr>\n",
       "    <tr>\n",
       "      <td>20706</td>\n",
       "      <td>46</td>\n",
       "      <td>0</td>\n",
       "      <td>2016-01-01 09:00:00</td>\n",
       "      <td>54.0588</td>\n",
       "      <td>0</td>\n",
       "      <td>Retail</td>\n",
       "      <td>9045</td>\n",
       "      <td>2016.0</td>\n",
       "      <td>NaN</td>\n",
       "      <td>21.1</td>\n",
       "      <td>NaN</td>\n",
       "      <td>20.6</td>\n",
       "      <td>0.0</td>\n",
       "      <td>1019.0</td>\n",
       "      <td>290.0</td>\n",
       "      <td>1.5</td>\n",
       "    </tr>\n",
       "    <tr>\n",
       "      <td>23001</td>\n",
       "      <td>46</td>\n",
       "      <td>0</td>\n",
       "      <td>2016-01-01 10:00:00</td>\n",
       "      <td>52.4206</td>\n",
       "      <td>0</td>\n",
       "      <td>Retail</td>\n",
       "      <td>9045</td>\n",
       "      <td>2016.0</td>\n",
       "      <td>NaN</td>\n",
       "      <td>21.1</td>\n",
       "      <td>NaN</td>\n",
       "      <td>20.6</td>\n",
       "      <td>-1.0</td>\n",
       "      <td>1018.4</td>\n",
       "      <td>0.0</td>\n",
       "      <td>0.0</td>\n",
       "    </tr>\n",
       "    <tr>\n",
       "      <td>25298</td>\n",
       "      <td>46</td>\n",
       "      <td>0</td>\n",
       "      <td>2016-01-01 11:00:00</td>\n",
       "      <td>57.3351</td>\n",
       "      <td>0</td>\n",
       "      <td>Retail</td>\n",
       "      <td>9045</td>\n",
       "      <td>2016.0</td>\n",
       "      <td>NaN</td>\n",
       "      <td>20.6</td>\n",
       "      <td>NaN</td>\n",
       "      <td>20.0</td>\n",
       "      <td>0.0</td>\n",
       "      <td>1018.9</td>\n",
       "      <td>0.0</td>\n",
       "      <td>0.0</td>\n",
       "    </tr>\n",
       "    <tr>\n",
       "      <td>27595</td>\n",
       "      <td>46</td>\n",
       "      <td>0</td>\n",
       "      <td>2016-01-01 12:00:00</td>\n",
       "      <td>57.7446</td>\n",
       "      <td>0</td>\n",
       "      <td>Retail</td>\n",
       "      <td>9045</td>\n",
       "      <td>2016.0</td>\n",
       "      <td>NaN</td>\n",
       "      <td>18.9</td>\n",
       "      <td>6.0</td>\n",
       "      <td>18.9</td>\n",
       "      <td>0.0</td>\n",
       "      <td>1019.2</td>\n",
       "      <td>210.0</td>\n",
       "      <td>1.5</td>\n",
       "    </tr>\n",
       "    <tr>\n",
       "      <td>29892</td>\n",
       "      <td>46</td>\n",
       "      <td>0</td>\n",
       "      <td>2016-01-01 13:00:00</td>\n",
       "      <td>61.8400</td>\n",
       "      <td>0</td>\n",
       "      <td>Retail</td>\n",
       "      <td>9045</td>\n",
       "      <td>2016.0</td>\n",
       "      <td>NaN</td>\n",
       "      <td>20.0</td>\n",
       "      <td>NaN</td>\n",
       "      <td>20.0</td>\n",
       "      <td>0.0</td>\n",
       "      <td>1019.6</td>\n",
       "      <td>0.0</td>\n",
       "      <td>0.0</td>\n",
       "    </tr>\n",
       "    <tr>\n",
       "      <td>32190</td>\n",
       "      <td>46</td>\n",
       "      <td>0</td>\n",
       "      <td>2016-01-01 14:00:00</td>\n",
       "      <td>62.6590</td>\n",
       "      <td>0</td>\n",
       "      <td>Retail</td>\n",
       "      <td>9045</td>\n",
       "      <td>2016.0</td>\n",
       "      <td>NaN</td>\n",
       "      <td>21.7</td>\n",
       "      <td>NaN</td>\n",
       "      <td>21.1</td>\n",
       "      <td>0.0</td>\n",
       "      <td>1020.1</td>\n",
       "      <td>0.0</td>\n",
       "      <td>0.0</td>\n",
       "    </tr>\n",
       "    <tr>\n",
       "      <td>34490</td>\n",
       "      <td>46</td>\n",
       "      <td>0</td>\n",
       "      <td>2016-01-01 15:00:00</td>\n",
       "      <td>61.0209</td>\n",
       "      <td>0</td>\n",
       "      <td>Retail</td>\n",
       "      <td>9045</td>\n",
       "      <td>2016.0</td>\n",
       "      <td>NaN</td>\n",
       "      <td>23.9</td>\n",
       "      <td>NaN</td>\n",
       "      <td>21.1</td>\n",
       "      <td>0.0</td>\n",
       "      <td>1020.3</td>\n",
       "      <td>210.0</td>\n",
       "      <td>3.1</td>\n",
       "    </tr>\n",
       "    <tr>\n",
       "      <td>36786</td>\n",
       "      <td>46</td>\n",
       "      <td>0</td>\n",
       "      <td>2016-01-01 16:00:00</td>\n",
       "      <td>59.7923</td>\n",
       "      <td>0</td>\n",
       "      <td>Retail</td>\n",
       "      <td>9045</td>\n",
       "      <td>2016.0</td>\n",
       "      <td>NaN</td>\n",
       "      <td>26.1</td>\n",
       "      <td>NaN</td>\n",
       "      <td>20.0</td>\n",
       "      <td>0.0</td>\n",
       "      <td>1020.2</td>\n",
       "      <td>210.0</td>\n",
       "      <td>4.1</td>\n",
       "    </tr>\n",
       "    <tr>\n",
       "      <td>39086</td>\n",
       "      <td>46</td>\n",
       "      <td>0</td>\n",
       "      <td>2016-01-01 17:00:00</td>\n",
       "      <td>58.9732</td>\n",
       "      <td>0</td>\n",
       "      <td>Retail</td>\n",
       "      <td>9045</td>\n",
       "      <td>2016.0</td>\n",
       "      <td>NaN</td>\n",
       "      <td>26.7</td>\n",
       "      <td>NaN</td>\n",
       "      <td>20.6</td>\n",
       "      <td>0.0</td>\n",
       "      <td>1019.5</td>\n",
       "      <td>230.0</td>\n",
       "      <td>3.6</td>\n",
       "    </tr>\n",
       "    <tr>\n",
       "      <td>41385</td>\n",
       "      <td>46</td>\n",
       "      <td>0</td>\n",
       "      <td>2016-01-01 18:00:00</td>\n",
       "      <td>58.1541</td>\n",
       "      <td>0</td>\n",
       "      <td>Retail</td>\n",
       "      <td>9045</td>\n",
       "      <td>2016.0</td>\n",
       "      <td>NaN</td>\n",
       "      <td>27.8</td>\n",
       "      <td>6.0</td>\n",
       "      <td>20.0</td>\n",
       "      <td>0.0</td>\n",
       "      <td>1018.2</td>\n",
       "      <td>200.0</td>\n",
       "      <td>5.1</td>\n",
       "    </tr>\n",
       "    <tr>\n",
       "      <td>43682</td>\n",
       "      <td>46</td>\n",
       "      <td>0</td>\n",
       "      <td>2016-01-01 19:00:00</td>\n",
       "      <td>56.5160</td>\n",
       "      <td>0</td>\n",
       "      <td>Retail</td>\n",
       "      <td>9045</td>\n",
       "      <td>2016.0</td>\n",
       "      <td>NaN</td>\n",
       "      <td>28.3</td>\n",
       "      <td>NaN</td>\n",
       "      <td>19.4</td>\n",
       "      <td>0.0</td>\n",
       "      <td>1017.2</td>\n",
       "      <td>180.0</td>\n",
       "      <td>5.1</td>\n",
       "    </tr>\n",
       "  </tbody>\n",
       "</table>\n",
       "</div>"
      ],
      "text/plain": [
       "       building_id  meter            timestamp  meter_reading  site_id  \\\n",
       "45              46      0  2016-01-01 00:00:00        53.2397        0   \n",
       "2346            46      0  2016-01-01 01:00:00        53.6492        0   \n",
       "4639            46      0  2016-01-01 02:00:00        54.8778        0   \n",
       "6938            46      0  2016-01-01 03:00:00        53.6492        0   \n",
       "9234            46      0  2016-01-01 04:00:00        53.6492        0   \n",
       "11530           46      0  2016-01-01 05:00:00        54.4683        0   \n",
       "13825           46      0  2016-01-01 06:00:00        53.2397        0   \n",
       "16118           46      0  2016-01-01 07:00:00        53.2397        0   \n",
       "18412           46      0  2016-01-01 08:00:00        53.2397        0   \n",
       "20706           46      0  2016-01-01 09:00:00        54.0588        0   \n",
       "23001           46      0  2016-01-01 10:00:00        52.4206        0   \n",
       "25298           46      0  2016-01-01 11:00:00        57.3351        0   \n",
       "27595           46      0  2016-01-01 12:00:00        57.7446        0   \n",
       "29892           46      0  2016-01-01 13:00:00        61.8400        0   \n",
       "32190           46      0  2016-01-01 14:00:00        62.6590        0   \n",
       "34490           46      0  2016-01-01 15:00:00        61.0209        0   \n",
       "36786           46      0  2016-01-01 16:00:00        59.7923        0   \n",
       "39086           46      0  2016-01-01 17:00:00        58.9732        0   \n",
       "41385           46      0  2016-01-01 18:00:00        58.1541        0   \n",
       "43682           46      0  2016-01-01 19:00:00        56.5160        0   \n",
       "\n",
       "      primary_use  square_feet  year_built  floor_count  air_temperature  \\\n",
       "45         Retail         9045      2016.0          NaN             25.0   \n",
       "2346       Retail         9045      2016.0          NaN             24.4   \n",
       "4639       Retail         9045      2016.0          NaN             22.8   \n",
       "6938       Retail         9045      2016.0          NaN             21.1   \n",
       "9234       Retail         9045      2016.0          NaN             20.0   \n",
       "11530      Retail         9045      2016.0          NaN             19.4   \n",
       "13825      Retail         9045      2016.0          NaN             21.1   \n",
       "16118      Retail         9045      2016.0          NaN             21.1   \n",
       "18412      Retail         9045      2016.0          NaN             20.6   \n",
       "20706      Retail         9045      2016.0          NaN             21.1   \n",
       "23001      Retail         9045      2016.0          NaN             21.1   \n",
       "25298      Retail         9045      2016.0          NaN             20.6   \n",
       "27595      Retail         9045      2016.0          NaN             18.9   \n",
       "29892      Retail         9045      2016.0          NaN             20.0   \n",
       "32190      Retail         9045      2016.0          NaN             21.7   \n",
       "34490      Retail         9045      2016.0          NaN             23.9   \n",
       "36786      Retail         9045      2016.0          NaN             26.1   \n",
       "39086      Retail         9045      2016.0          NaN             26.7   \n",
       "41385      Retail         9045      2016.0          NaN             27.8   \n",
       "43682      Retail         9045      2016.0          NaN             28.3   \n",
       "\n",
       "       cloud_coverage  dew_temperature  precip_depth_1_hr  sea_level_pressure  \\\n",
       "45                6.0             20.0                NaN              1019.7   \n",
       "2346              NaN             21.1               -1.0              1020.2   \n",
       "4639              2.0             21.1                0.0              1020.2   \n",
       "6938              2.0             20.6                0.0              1020.1   \n",
       "9234              2.0             20.0               -1.0              1020.0   \n",
       "11530             NaN             19.4                0.0                 NaN   \n",
       "13825             6.0             21.1               -1.0              1019.4   \n",
       "16118             NaN             21.1                0.0              1018.8   \n",
       "18412             NaN             20.0                0.0              1018.1   \n",
       "20706             NaN             20.6                0.0              1019.0   \n",
       "23001             NaN             20.6               -1.0              1018.4   \n",
       "25298             NaN             20.0                0.0              1018.9   \n",
       "27595             6.0             18.9                0.0              1019.2   \n",
       "29892             NaN             20.0                0.0              1019.6   \n",
       "32190             NaN             21.1                0.0              1020.1   \n",
       "34490             NaN             21.1                0.0              1020.3   \n",
       "36786             NaN             20.0                0.0              1020.2   \n",
       "39086             NaN             20.6                0.0              1019.5   \n",
       "41385             6.0             20.0                0.0              1018.2   \n",
       "43682             NaN             19.4                0.0              1017.2   \n",
       "\n",
       "       wind_direction  wind_speed  \n",
       "45                0.0         0.0  \n",
       "2346             70.0         1.5  \n",
       "4639              0.0         0.0  \n",
       "6938              0.0         0.0  \n",
       "9234            250.0         2.6  \n",
       "11530             0.0         0.0  \n",
       "13825             0.0         0.0  \n",
       "16118           210.0         1.5  \n",
       "18412             0.0         0.0  \n",
       "20706           290.0         1.5  \n",
       "23001             0.0         0.0  \n",
       "25298             0.0         0.0  \n",
       "27595           210.0         1.5  \n",
       "29892             0.0         0.0  \n",
       "32190             0.0         0.0  \n",
       "34490           210.0         3.1  \n",
       "36786           210.0         4.1  \n",
       "39086           230.0         3.6  \n",
       "41385           200.0         5.1  \n",
       "43682           180.0         5.1  "
      ]
     },
     "execution_count": 66,
     "metadata": {},
     "output_type": "execute_result"
    }
   ],
   "source": [
    "df_train_build.head(20)"
   ]
  },
  {
   "cell_type": "code",
   "execution_count": 67,
   "metadata": {},
   "outputs": [],
   "source": [
    "### Intrapolate cloud coverage\n",
    "df_train['cloud_coverage'] = df_train.groupby(['building_id', 'meter'])['cloud_coverage'].apply(lambda x : x.interpolate(method = \"spline\", order = 1, limit_direction = \"both\"))\n",
    "df_test['cloud_coverage'] = df_test.groupby(['building_id', 'meter'])['cloud_coverage'].apply(lambda x : x.interpolate(method = \"spline\", order = 1, limit_direction = \"both\"))"
   ]
  },
  {
   "cell_type": "code",
   "execution_count": 68,
   "metadata": {},
   "outputs": [],
   "source": [
    "### Intrapolate air temperature\n",
    "df_train['air_temperature'] = df_train.groupby(['building_id', 'meter'])['air_temperature'].apply(lambda x : x.interpolate(method = \"spline\", order = 1, limit_direction = \"both\"))\n",
    "df_test['air_temperature'] = df_test.groupby(['building_id', 'meter'])['air_temperature'].apply(lambda x : x.interpolate(method = \"spline\", order = 1, limit_direction = \"both\"))"
   ]
  },
  {
   "cell_type": "code",
   "execution_count": 62,
   "metadata": {},
   "outputs": [],
   "source": [
    "### Lags for cloud coverage and air temperature\n",
    "for i in range(5):\n",
    "    df_train[f'cloud_coverage_lag{i+1}'] = df_train.groupby(['building_id', 'meter'])['cloud_coverage'].shift(i+1)\n",
    "    df_test[f'cloud_coverage_lag{i+1}'] = df_test.groupby(['building_id', 'meter'])['cloud_coverage'].shift(i+1)\n",
    "    df_train[f'air_temperature_lag{i+1}'] = df_train.groupby(['building_id', 'meter'])['air_temperature'].shift(i+1)\n",
    "    df_test[f'air_temperature_lag{i+1}'] = df_test.groupby(['building_id', 'meter'])['air_temperature'].shift(i+1)"
   ]
  },
  {
   "cell_type": "code",
   "execution_count": 64,
   "metadata": {},
   "outputs": [
    {
     "data": {
      "text/plain": [
       "building_id               int64\n",
       "meter                     int64\n",
       "timestamp                object\n",
       "meter_reading           float64\n",
       "site_id                   int64\n",
       "primary_use               int64\n",
       "square_feet               int64\n",
       "year_built              float64\n",
       "floor_count             float64\n",
       "air_temperature         float64\n",
       "cloud_coverage          float64\n",
       "dew_temperature         float64\n",
       "precip_depth_1_hr       float64\n",
       "sea_level_pressure      float64\n",
       "wind_direction          float64\n",
       "wind_speed              float64\n",
       "Day                       int64\n",
       "Hour                      int64\n",
       "DayOfWeek                 int64\n",
       "cloud_coverage_lag1     float64\n",
       "air_temperature_lag1    float64\n",
       "cloud_coverage_lag2     float64\n",
       "air_temperature_lag2    float64\n",
       "cloud_coverage_lag3     float64\n",
       "air_temperature_lag3    float64\n",
       "cloud_coverage_lag4     float64\n",
       "air_temperature_lag4    float64\n",
       "cloud_coverage_lag5     float64\n",
       "air_temperature_lag5    float64\n",
       "dtype: object"
      ]
     },
     "execution_count": 64,
     "metadata": {},
     "output_type": "execute_result"
    }
   ],
   "source": [
    "df_train.dtypes"
   ]
  },
  {
   "cell_type": "code",
   "execution_count": 15,
   "metadata": {},
   "outputs": [],
   "source": [
    "#### Take a Sample ####\n",
    "#df_train = df_train.sample(n=int(df_train.shape[0]*0.1), random_state=1)\n",
    "#df_test = df_test.sample(n=int(df_test.shape[0]*0.1), random_state=1)"
   ]
  },
  {
   "cell_type": "code",
   "execution_count": 16,
   "metadata": {},
   "outputs": [],
   "source": [
    "#df_train[\"Month\"] = pd.to_datetime(df_train[\"timestamp\"]).dt.month\n",
    "#df_test[\"Month\"] = pd.to_datetime(df_test[\"timestamp\"]).dt.month"
   ]
  },
  {
   "cell_type": "code",
   "execution_count": 69,
   "metadata": {},
   "outputs": [],
   "source": [
    "df_train[\"Day\"] = pd.to_datetime(df_train[\"timestamp\"]).dt.day\n",
    "df_test[\"Day\"] = pd.to_datetime(df_test[\"timestamp\"]).dt.day"
   ]
  },
  {
   "cell_type": "code",
   "execution_count": 70,
   "metadata": {},
   "outputs": [],
   "source": [
    "df_train[\"Hour\"] = pd.to_datetime(df_train[\"timestamp\"]).dt.hour\n",
    "df_test[\"Hour\"] = pd.to_datetime(df_test[\"timestamp\"]).dt.hour"
   ]
  },
  {
   "cell_type": "code",
   "execution_count": 87,
   "metadata": {},
   "outputs": [],
   "source": [
    "df_train.to_csv(\"df_train.csv\", index = False)\n",
    "df_test.to_csv(\"df_test.csv\", index = False)"
   ]
  },
  {
   "cell_type": "code",
   "execution_count": 4,
   "metadata": {},
   "outputs": [],
   "source": [
    "df_train = pd.read_csv('./df_train.csv')\n",
    "df_test = pd.read_csv('./df_test.csv')"
   ]
  },
  {
   "cell_type": "code",
   "execution_count": 6,
   "metadata": {},
   "outputs": [],
   "source": [
    "df_train[\"DayOfWeek\"] = pd.to_datetime(df_train[\"timestamp\"]).dt.dayofweek\n",
    "df_test[\"DayOfWeek\"] = pd.to_datetime(df_test[\"timestamp\"]).dt.dayofweek"
   ]
  },
  {
   "cell_type": "code",
   "execution_count": 19,
   "metadata": {},
   "outputs": [],
   "source": [
    "#df_train = dp.create_stats_features(df_train, 'dew_temperature', ['site_id', 'Month'])\n",
    "#df_test = dp.create_stats_features(df_test, 'dew_temperature', ['site_id', 'Month'])"
   ]
  },
  {
   "cell_type": "code",
   "execution_count": 20,
   "metadata": {},
   "outputs": [],
   "source": [
    "#df_train[\"air_temperature_log\"] = np.log(df_train['air_temperature'])\n",
    "#df_test[\"air_temperature_log\"] = np.log(df_test['air_temperature'])"
   ]
  },
  {
   "cell_type": "code",
   "execution_count": 21,
   "metadata": {},
   "outputs": [],
   "source": [
    "#df_train[\"Age\"] = pd.to_datetime(df_train[\"timestamp\"]).dt.year - df_train[\"year_built\"]\n",
    "#df_test[\"Age\"] = pd.to_datetime(df_test[\"timestamp\"]).dt.year - df_test[\"year_built\"]"
   ]
  },
  {
   "cell_type": "code",
   "execution_count": 7,
   "metadata": {},
   "outputs": [
    {
     "data": {
      "text/html": [
       "<div>\n",
       "<style scoped>\n",
       "    .dataframe tbody tr th:only-of-type {\n",
       "        vertical-align: middle;\n",
       "    }\n",
       "\n",
       "    .dataframe tbody tr th {\n",
       "        vertical-align: top;\n",
       "    }\n",
       "\n",
       "    .dataframe thead th {\n",
       "        text-align: right;\n",
       "    }\n",
       "</style>\n",
       "<table border=\"1\" class=\"dataframe\">\n",
       "  <thead>\n",
       "    <tr style=\"text-align: right;\">\n",
       "      <th></th>\n",
       "      <th>building_id</th>\n",
       "      <th>meter</th>\n",
       "      <th>timestamp</th>\n",
       "      <th>meter_reading</th>\n",
       "      <th>site_id</th>\n",
       "      <th>primary_use</th>\n",
       "      <th>square_feet</th>\n",
       "      <th>year_built</th>\n",
       "      <th>floor_count</th>\n",
       "      <th>air_temperature</th>\n",
       "      <th>cloud_coverage</th>\n",
       "      <th>dew_temperature</th>\n",
       "      <th>precip_depth_1_hr</th>\n",
       "      <th>sea_level_pressure</th>\n",
       "      <th>wind_direction</th>\n",
       "      <th>wind_speed</th>\n",
       "      <th>Day</th>\n",
       "      <th>Hour</th>\n",
       "      <th>DayOfWeek</th>\n",
       "    </tr>\n",
       "  </thead>\n",
       "  <tbody>\n",
       "    <tr>\n",
       "      <td>0</td>\n",
       "      <td>0</td>\n",
       "      <td>0</td>\n",
       "      <td>2016-01-01 00:00:00</td>\n",
       "      <td>0.0</td>\n",
       "      <td>0</td>\n",
       "      <td>0</td>\n",
       "      <td>7432</td>\n",
       "      <td>2008.0</td>\n",
       "      <td>NaN</td>\n",
       "      <td>25.0</td>\n",
       "      <td>6.0</td>\n",
       "      <td>20.0</td>\n",
       "      <td>NaN</td>\n",
       "      <td>1019.7</td>\n",
       "      <td>0.0</td>\n",
       "      <td>0.0</td>\n",
       "      <td>1</td>\n",
       "      <td>0</td>\n",
       "      <td>4</td>\n",
       "    </tr>\n",
       "    <tr>\n",
       "      <td>1</td>\n",
       "      <td>1</td>\n",
       "      <td>0</td>\n",
       "      <td>2016-01-01 00:00:00</td>\n",
       "      <td>0.0</td>\n",
       "      <td>0</td>\n",
       "      <td>0</td>\n",
       "      <td>2720</td>\n",
       "      <td>2004.0</td>\n",
       "      <td>NaN</td>\n",
       "      <td>25.0</td>\n",
       "      <td>6.0</td>\n",
       "      <td>20.0</td>\n",
       "      <td>NaN</td>\n",
       "      <td>1019.7</td>\n",
       "      <td>0.0</td>\n",
       "      <td>0.0</td>\n",
       "      <td>1</td>\n",
       "      <td>0</td>\n",
       "      <td>4</td>\n",
       "    </tr>\n",
       "    <tr>\n",
       "      <td>2</td>\n",
       "      <td>2</td>\n",
       "      <td>0</td>\n",
       "      <td>2016-01-01 00:00:00</td>\n",
       "      <td>0.0</td>\n",
       "      <td>0</td>\n",
       "      <td>0</td>\n",
       "      <td>5376</td>\n",
       "      <td>1991.0</td>\n",
       "      <td>NaN</td>\n",
       "      <td>25.0</td>\n",
       "      <td>6.0</td>\n",
       "      <td>20.0</td>\n",
       "      <td>NaN</td>\n",
       "      <td>1019.7</td>\n",
       "      <td>0.0</td>\n",
       "      <td>0.0</td>\n",
       "      <td>1</td>\n",
       "      <td>0</td>\n",
       "      <td>4</td>\n",
       "    </tr>\n",
       "    <tr>\n",
       "      <td>3</td>\n",
       "      <td>3</td>\n",
       "      <td>0</td>\n",
       "      <td>2016-01-01 00:00:00</td>\n",
       "      <td>0.0</td>\n",
       "      <td>0</td>\n",
       "      <td>0</td>\n",
       "      <td>23685</td>\n",
       "      <td>2002.0</td>\n",
       "      <td>NaN</td>\n",
       "      <td>25.0</td>\n",
       "      <td>6.0</td>\n",
       "      <td>20.0</td>\n",
       "      <td>NaN</td>\n",
       "      <td>1019.7</td>\n",
       "      <td>0.0</td>\n",
       "      <td>0.0</td>\n",
       "      <td>1</td>\n",
       "      <td>0</td>\n",
       "      <td>4</td>\n",
       "    </tr>\n",
       "    <tr>\n",
       "      <td>4</td>\n",
       "      <td>4</td>\n",
       "      <td>0</td>\n",
       "      <td>2016-01-01 00:00:00</td>\n",
       "      <td>0.0</td>\n",
       "      <td>0</td>\n",
       "      <td>0</td>\n",
       "      <td>116607</td>\n",
       "      <td>1975.0</td>\n",
       "      <td>NaN</td>\n",
       "      <td>25.0</td>\n",
       "      <td>6.0</td>\n",
       "      <td>20.0</td>\n",
       "      <td>NaN</td>\n",
       "      <td>1019.7</td>\n",
       "      <td>0.0</td>\n",
       "      <td>0.0</td>\n",
       "      <td>1</td>\n",
       "      <td>0</td>\n",
       "      <td>4</td>\n",
       "    </tr>\n",
       "  </tbody>\n",
       "</table>\n",
       "</div>"
      ],
      "text/plain": [
       "   building_id  meter            timestamp  meter_reading  site_id  \\\n",
       "0            0      0  2016-01-01 00:00:00            0.0        0   \n",
       "1            1      0  2016-01-01 00:00:00            0.0        0   \n",
       "2            2      0  2016-01-01 00:00:00            0.0        0   \n",
       "3            3      0  2016-01-01 00:00:00            0.0        0   \n",
       "4            4      0  2016-01-01 00:00:00            0.0        0   \n",
       "\n",
       "   primary_use  square_feet  year_built  floor_count  air_temperature  \\\n",
       "0            0         7432      2008.0          NaN             25.0   \n",
       "1            0         2720      2004.0          NaN             25.0   \n",
       "2            0         5376      1991.0          NaN             25.0   \n",
       "3            0        23685      2002.0          NaN             25.0   \n",
       "4            0       116607      1975.0          NaN             25.0   \n",
       "\n",
       "   cloud_coverage  dew_temperature  precip_depth_1_hr  sea_level_pressure  \\\n",
       "0             6.0             20.0                NaN              1019.7   \n",
       "1             6.0             20.0                NaN              1019.7   \n",
       "2             6.0             20.0                NaN              1019.7   \n",
       "3             6.0             20.0                NaN              1019.7   \n",
       "4             6.0             20.0                NaN              1019.7   \n",
       "\n",
       "   wind_direction  wind_speed  Day  Hour  DayOfWeek  \n",
       "0             0.0         0.0    1     0          4  \n",
       "1             0.0         0.0    1     0          4  \n",
       "2             0.0         0.0    1     0          4  \n",
       "3             0.0         0.0    1     0          4  \n",
       "4             0.0         0.0    1     0          4  "
      ]
     },
     "execution_count": 7,
     "metadata": {},
     "output_type": "execute_result"
    }
   ],
   "source": [
    "df_train.head()"
   ]
  },
  {
   "cell_type": "code",
   "execution_count": 8,
   "metadata": {},
   "outputs": [],
   "source": [
    "#df_train = df_train[df_train[\"meter_reading\"] != 0.0]"
   ]
  },
  {
   "cell_type": "code",
   "execution_count": 9,
   "metadata": {},
   "outputs": [
    {
     "data": {
      "text/plain": [
       "(20216100, 19)"
      ]
     },
     "execution_count": 9,
     "metadata": {},
     "output_type": "execute_result"
    }
   ],
   "source": [
    "df_train.shape"
   ]
  },
  {
   "cell_type": "code",
   "execution_count": 10,
   "metadata": {},
   "outputs": [],
   "source": [
    "#encode_cols = [\"primary_use\"]"
   ]
  },
  {
   "cell_type": "code",
   "execution_count": 11,
   "metadata": {},
   "outputs": [
    {
     "name": "stdout",
     "output_type": "stream",
     "text": [
      "colums primary_use is being encoded\n"
     ]
    }
   ],
   "source": [
    "#data = dp.encode_categorical(df_train, df_test, encode_cols) "
   ]
  },
  {
   "cell_type": "code",
   "execution_count": 12,
   "metadata": {},
   "outputs": [],
   "source": [
    "#mb = mc.modelBuilder('regression', 'LGBM')"
   ]
  },
  {
   "cell_type": "code",
   "execution_count": 99,
   "metadata": {},
   "outputs": [
    {
     "name": "stdout",
     "output_type": "stream",
     "text": [
      "17 features have been chosen for modeling\n"
     ]
    }
   ],
   "source": [
    "#data = mb.prepare_data_split(df_train =  data['df_train'], df_test = data['df_test'], \n",
    "#                             target = 'meter_reading', rem_cols = ['timestamp'], \n",
    "#                             useVarImp = False, varimp_threshold = 100)"
   ]
  },
  {
   "cell_type": "code",
   "execution_count": 100,
   "metadata": {},
   "outputs": [],
   "source": [
    "#data['X_test'] = data['X_test'].drop([\"row_id\"],  axis=1)"
   ]
  },
  {
   "cell_type": "code",
   "execution_count": 101,
   "metadata": {},
   "outputs": [
    {
     "name": "stderr",
     "output_type": "stream",
     "text": [
      "/opt/conda/lib/python3.7/site-packages/pandas/core/series.py:853: RuntimeWarning: divide by zero encountered in log\n",
      "  result = getattr(ufunc, method)(*inputs, **kwargs)\n"
     ]
    }
   ],
   "source": [
    "#data['Y'] = np.log(data['Y'])"
   ]
  },
  {
   "cell_type": "code",
   "execution_count": 102,
   "metadata": {},
   "outputs": [],
   "source": [
    "#data['Y'][data['Y'] == -inf] = 0"
   ]
  },
  {
   "cell_type": "code",
   "execution_count": 1,
   "metadata": {},
   "outputs": [
    {
     "ename": "NameError",
     "evalue": "name 'data' is not defined",
     "output_type": "error",
     "traceback": [
      "\u001b[0;31m---------------------------------------------------------------------------\u001b[0m",
      "\u001b[0;31mNameError\u001b[0m                                 Traceback (most recent call last)",
      "\u001b[0;32m<ipython-input-1-13fb984d5f71>\u001b[0m in \u001b[0;36m<module>\u001b[0;34m\u001b[0m\n\u001b[0;32m----> 1\u001b[0;31m \u001b[0mdata\u001b[0m\u001b[0;34m[\u001b[0m\u001b[0;34m'Y'\u001b[0m\u001b[0;34m]\u001b[0m\u001b[0;34m.\u001b[0m\u001b[0mdescribe\u001b[0m\u001b[0;34m(\u001b[0m\u001b[0;34m)\u001b[0m\u001b[0;34m\u001b[0m\u001b[0;34m\u001b[0m\u001b[0m\n\u001b[0m",
      "\u001b[0;31mNameError\u001b[0m: name 'data' is not defined"
     ]
    }
   ],
   "source": [
    "#data['Y'].describe()"
   ]
  },
  {
   "cell_type": "code",
   "execution_count": 65,
   "metadata": {},
   "outputs": [],
   "source": [
    "# LGBM\n",
    "params = {\n",
    "    'boosting_type':'gbdt',\n",
    "    'n_estimators':500,\n",
    "    'num_leaves':64, \n",
    "    'objective':'regression_l2', \n",
    "    'colsample_bytree': 1.0, \n",
    "    'learning_rate': 0.3,\n",
    "    'max_bin':255, \n",
    "    'max_depth':9, \n",
    "    'metric':'rmse', \n",
    "    'min_child_samples':10,\n",
    "    'min_child_weight':5, \n",
    "    'min_split_gain':0.0,\n",
    "    'random_state':1234,\n",
    "    'lambda_l2': 1.5,\n",
    "    'verbose' : 2,\n",
    "    #'reg_alpha':0.0,\n",
    "    #'reg_lambda':0.0, \n",
    "    #'silent':True, \n",
    "    'subsample':1.0\n",
    "    #,\n",
    "    #'early_stopping_round' : 100\n",
    "}"
   ]
  },
  {
   "cell_type": "code",
   "execution_count": 66,
   "metadata": {},
   "outputs": [],
   "source": [
    "#gc.collect()"
   ]
  },
  {
   "cell_type": "code",
   "execution_count": 67,
   "metadata": {},
   "outputs": [],
   "source": [
    "#df_train_build = df_train[(df_train['building_id'] == 46) & (df_train['meter'] == 0)]"
   ]
  },
  {
   "cell_type": "code",
   "execution_count": 68,
   "metadata": {},
   "outputs": [],
   "source": [
    "#df_train_build.head(20)"
   ]
  },
  {
   "cell_type": "code",
   "execution_count": 69,
   "metadata": {},
   "outputs": [],
   "source": [
    "#submit = mb.run_model(data, n_folds = 5, metric_func = rmse, get_probab = False, \n",
    "#                      save_varimp = True, params = params, oversmp = False, cv_shuffle=False)"
   ]
  },
  {
   "cell_type": "code",
   "execution_count": null,
   "metadata": {},
   "outputs": [
    {
     "data": {
      "application/vnd.jupyter.widget-view+json": {
       "model_id": "7262ae78bc1d47fa8fe510716444f920",
       "version_major": 2,
       "version_minor": 0
      },
      "text/plain": [
       "HBox(children=(IntProgress(value=0, max=16), HTML(value='')))"
      ]
     },
     "metadata": {},
     "output_type": "display_data"
    },
    {
     "name": "stdout",
     "output_type": "stream",
     "text": [
      "training site_id 0\n",
      "colums primary_use is being encoded\n"
     ]
    },
    {
     "name": "stderr",
     "output_type": "stream",
     "text": [
      "/opt/conda/lib/python3.7/site-packages/bearinmind_pipeline/data_preprocessing.py:59: SettingWithCopyWarning: \n",
      "A value is trying to be set on a copy of a slice from a DataFrame.\n",
      "Try using .loc[row_indexer,col_indexer] = value instead\n",
      "\n",
      "See the caveats in the documentation: http://pandas.pydata.org/pandas-docs/stable/user_guide/indexing.html#returning-a-view-versus-a-copy\n",
      "  df_train[f] = lbl.transform(list(df_train[f].values))\n",
      "/opt/conda/lib/python3.7/site-packages/bearinmind_pipeline/data_preprocessing.py:60: SettingWithCopyWarning: \n",
      "A value is trying to be set on a copy of a slice from a DataFrame.\n",
      "Try using .loc[row_indexer,col_indexer] = value instead\n",
      "\n",
      "See the caveats in the documentation: http://pandas.pydata.org/pandas-docs/stable/user_guide/indexing.html#returning-a-view-versus-a-copy\n",
      "  df_test[f] = lbl.transform(list(df_test[f].values))\n"
     ]
    },
    {
     "name": "stdout",
     "output_type": "stream",
     "text": [
      "27 features have been chosen for modeling\n"
     ]
    },
    {
     "name": "stderr",
     "output_type": "stream",
     "text": [
      "/opt/conda/lib/python3.7/site-packages/pandas/core/series.py:853: RuntimeWarning: divide by zero encountered in log\n",
      "  result = getattr(ufunc, method)(*inputs, **kwargs)\n"
     ]
    },
    {
     "name": "stdout",
     "output_type": "stream",
     "text": [
      "Fold: 0\n",
      "The valuation metric for the fold 0 is 3.156803437950247\n",
      "Fold: 1\n",
      "The valuation metric for the fold 1 is 3.2553795950717586\n",
      "Fold: 2\n",
      "The valuation metric for the fold 2 is 1.1826569371798568\n",
      "Fold: 3\n",
      "The valuation metric for the fold 3 is 1.875100208652426\n",
      "Fold: 4\n",
      "The valuation metric for the fold 4 is 4.291632628469619\n",
      "The average score accross the folds is 2.7523145614647815\n",
      "training site_id 1\n",
      "colums primary_use is being encoded\n"
     ]
    },
    {
     "name": "stderr",
     "output_type": "stream",
     "text": [
      "/opt/conda/lib/python3.7/site-packages/bearinmind_pipeline/data_preprocessing.py:59: SettingWithCopyWarning: \n",
      "A value is trying to be set on a copy of a slice from a DataFrame.\n",
      "Try using .loc[row_indexer,col_indexer] = value instead\n",
      "\n",
      "See the caveats in the documentation: http://pandas.pydata.org/pandas-docs/stable/user_guide/indexing.html#returning-a-view-versus-a-copy\n",
      "  df_train[f] = lbl.transform(list(df_train[f].values))\n",
      "/opt/conda/lib/python3.7/site-packages/bearinmind_pipeline/data_preprocessing.py:60: SettingWithCopyWarning: \n",
      "A value is trying to be set on a copy of a slice from a DataFrame.\n",
      "Try using .loc[row_indexer,col_indexer] = value instead\n",
      "\n",
      "See the caveats in the documentation: http://pandas.pydata.org/pandas-docs/stable/user_guide/indexing.html#returning-a-view-versus-a-copy\n",
      "  df_test[f] = lbl.transform(list(df_test[f].values))\n"
     ]
    },
    {
     "name": "stdout",
     "output_type": "stream",
     "text": [
      "27 features have been chosen for modeling\n"
     ]
    },
    {
     "name": "stderr",
     "output_type": "stream",
     "text": [
      "/opt/conda/lib/python3.7/site-packages/pandas/core/series.py:853: RuntimeWarning: divide by zero encountered in log\n",
      "  result = getattr(ufunc, method)(*inputs, **kwargs)\n"
     ]
    },
    {
     "name": "stdout",
     "output_type": "stream",
     "text": [
      "Fold: 0\n",
      "The valuation metric for the fold 0 is 0.769116993051241\n",
      "Fold: 1\n",
      "The valuation metric for the fold 1 is 0.7807883753658601\n",
      "Fold: 2\n",
      "The valuation metric for the fold 2 is 1.015004320537058\n",
      "Fold: 3\n",
      "The valuation metric for the fold 3 is 0.8491118996239356\n",
      "Fold: 4\n",
      "The valuation metric for the fold 4 is 1.7145846867391732\n",
      "The average score accross the folds is 1.0257212550634536\n",
      "training site_id 2\n",
      "colums primary_use is being encoded\n"
     ]
    },
    {
     "name": "stderr",
     "output_type": "stream",
     "text": [
      "/opt/conda/lib/python3.7/site-packages/bearinmind_pipeline/data_preprocessing.py:59: SettingWithCopyWarning: \n",
      "A value is trying to be set on a copy of a slice from a DataFrame.\n",
      "Try using .loc[row_indexer,col_indexer] = value instead\n",
      "\n",
      "See the caveats in the documentation: http://pandas.pydata.org/pandas-docs/stable/user_guide/indexing.html#returning-a-view-versus-a-copy\n",
      "  df_train[f] = lbl.transform(list(df_train[f].values))\n",
      "/opt/conda/lib/python3.7/site-packages/bearinmind_pipeline/data_preprocessing.py:60: SettingWithCopyWarning: \n",
      "A value is trying to be set on a copy of a slice from a DataFrame.\n",
      "Try using .loc[row_indexer,col_indexer] = value instead\n",
      "\n",
      "See the caveats in the documentation: http://pandas.pydata.org/pandas-docs/stable/user_guide/indexing.html#returning-a-view-versus-a-copy\n",
      "  df_test[f] = lbl.transform(list(df_test[f].values))\n"
     ]
    },
    {
     "name": "stdout",
     "output_type": "stream",
     "text": [
      "27 features have been chosen for modeling\n"
     ]
    },
    {
     "name": "stderr",
     "output_type": "stream",
     "text": [
      "/opt/conda/lib/python3.7/site-packages/pandas/core/series.py:853: RuntimeWarning: divide by zero encountered in log\n",
      "  result = getattr(ufunc, method)(*inputs, **kwargs)\n"
     ]
    },
    {
     "name": "stdout",
     "output_type": "stream",
     "text": [
      "Fold: 0\n",
      "The valuation metric for the fold 0 is 1.0941358821453981\n",
      "Fold: 1\n",
      "The valuation metric for the fold 1 is 0.835693823813557\n",
      "Fold: 2\n",
      "The valuation metric for the fold 2 is 0.8342037389529523\n",
      "Fold: 3\n",
      "The valuation metric for the fold 3 is 0.8444371758478357\n",
      "Fold: 4\n",
      "The valuation metric for the fold 4 is 1.0669803024018762\n",
      "The average score accross the folds is 0.9350901846323237\n",
      "training site_id 3\n",
      "colums primary_use is being encoded\n"
     ]
    },
    {
     "name": "stderr",
     "output_type": "stream",
     "text": [
      "/opt/conda/lib/python3.7/site-packages/bearinmind_pipeline/data_preprocessing.py:59: SettingWithCopyWarning: \n",
      "A value is trying to be set on a copy of a slice from a DataFrame.\n",
      "Try using .loc[row_indexer,col_indexer] = value instead\n",
      "\n",
      "See the caveats in the documentation: http://pandas.pydata.org/pandas-docs/stable/user_guide/indexing.html#returning-a-view-versus-a-copy\n",
      "  df_train[f] = lbl.transform(list(df_train[f].values))\n",
      "/opt/conda/lib/python3.7/site-packages/bearinmind_pipeline/data_preprocessing.py:60: SettingWithCopyWarning: \n",
      "A value is trying to be set on a copy of a slice from a DataFrame.\n",
      "Try using .loc[row_indexer,col_indexer] = value instead\n",
      "\n",
      "See the caveats in the documentation: http://pandas.pydata.org/pandas-docs/stable/user_guide/indexing.html#returning-a-view-versus-a-copy\n",
      "  df_test[f] = lbl.transform(list(df_test[f].values))\n"
     ]
    },
    {
     "name": "stdout",
     "output_type": "stream",
     "text": [
      "27 features have been chosen for modeling\n"
     ]
    },
    {
     "name": "stderr",
     "output_type": "stream",
     "text": [
      "/opt/conda/lib/python3.7/site-packages/pandas/core/series.py:853: RuntimeWarning: divide by zero encountered in log\n",
      "  result = getattr(ufunc, method)(*inputs, **kwargs)\n"
     ]
    },
    {
     "name": "stdout",
     "output_type": "stream",
     "text": [
      "Fold: 0\n",
      "The valuation metric for the fold 0 is 0.5804243419048681\n",
      "Fold: 1\n",
      "The valuation metric for the fold 1 is 0.5036638237382269\n",
      "Fold: 2\n",
      "The valuation metric for the fold 2 is 0.4341080049386654\n",
      "Fold: 3\n",
      "The valuation metric for the fold 3 is 0.4278998830212684\n",
      "Fold: 4\n",
      "The valuation metric for the fold 4 is 0.5574973805719702\n",
      "The average score accross the folds is 0.5007186868349998\n",
      "training site_id 4\n",
      "colums primary_use is being encoded\n"
     ]
    },
    {
     "name": "stderr",
     "output_type": "stream",
     "text": [
      "/opt/conda/lib/python3.7/site-packages/bearinmind_pipeline/data_preprocessing.py:59: SettingWithCopyWarning: \n",
      "A value is trying to be set on a copy of a slice from a DataFrame.\n",
      "Try using .loc[row_indexer,col_indexer] = value instead\n",
      "\n",
      "See the caveats in the documentation: http://pandas.pydata.org/pandas-docs/stable/user_guide/indexing.html#returning-a-view-versus-a-copy\n",
      "  df_train[f] = lbl.transform(list(df_train[f].values))\n",
      "/opt/conda/lib/python3.7/site-packages/bearinmind_pipeline/data_preprocessing.py:60: SettingWithCopyWarning: \n",
      "A value is trying to be set on a copy of a slice from a DataFrame.\n",
      "Try using .loc[row_indexer,col_indexer] = value instead\n",
      "\n",
      "See the caveats in the documentation: http://pandas.pydata.org/pandas-docs/stable/user_guide/indexing.html#returning-a-view-versus-a-copy\n",
      "  df_test[f] = lbl.transform(list(df_test[f].values))\n"
     ]
    },
    {
     "name": "stdout",
     "output_type": "stream",
     "text": [
      "27 features have been chosen for modeling\n"
     ]
    },
    {
     "name": "stderr",
     "output_type": "stream",
     "text": [
      "/opt/conda/lib/python3.7/site-packages/pandas/core/series.py:853: RuntimeWarning: divide by zero encountered in log\n",
      "  result = getattr(ufunc, method)(*inputs, **kwargs)\n"
     ]
    },
    {
     "name": "stdout",
     "output_type": "stream",
     "text": [
      "Fold: 0\n",
      "The valuation metric for the fold 0 is 0.26407728152729976\n",
      "Fold: 1\n",
      "The valuation metric for the fold 1 is 0.2558989116728697\n",
      "Fold: 2\n",
      "The valuation metric for the fold 2 is 0.29489404397709496\n",
      "Fold: 3\n",
      "The valuation metric for the fold 3 is 0.22695842254108178\n",
      "Fold: 4\n",
      "The valuation metric for the fold 4 is 0.2844151032453254\n",
      "The average score accross the folds is 0.26524875259273434\n",
      "training site_id 5\n",
      "colums primary_use is being encoded\n"
     ]
    },
    {
     "name": "stderr",
     "output_type": "stream",
     "text": [
      "/opt/conda/lib/python3.7/site-packages/bearinmind_pipeline/data_preprocessing.py:59: SettingWithCopyWarning: \n",
      "A value is trying to be set on a copy of a slice from a DataFrame.\n",
      "Try using .loc[row_indexer,col_indexer] = value instead\n",
      "\n",
      "See the caveats in the documentation: http://pandas.pydata.org/pandas-docs/stable/user_guide/indexing.html#returning-a-view-versus-a-copy\n",
      "  df_train[f] = lbl.transform(list(df_train[f].values))\n",
      "/opt/conda/lib/python3.7/site-packages/bearinmind_pipeline/data_preprocessing.py:60: SettingWithCopyWarning: \n",
      "A value is trying to be set on a copy of a slice from a DataFrame.\n",
      "Try using .loc[row_indexer,col_indexer] = value instead\n",
      "\n",
      "See the caveats in the documentation: http://pandas.pydata.org/pandas-docs/stable/user_guide/indexing.html#returning-a-view-versus-a-copy\n",
      "  df_test[f] = lbl.transform(list(df_test[f].values))\n"
     ]
    },
    {
     "name": "stdout",
     "output_type": "stream",
     "text": [
      "27 features have been chosen for modeling\n"
     ]
    },
    {
     "name": "stderr",
     "output_type": "stream",
     "text": [
      "/opt/conda/lib/python3.7/site-packages/pandas/core/series.py:853: RuntimeWarning: divide by zero encountered in log\n",
      "  result = getattr(ufunc, method)(*inputs, **kwargs)\n"
     ]
    },
    {
     "name": "stdout",
     "output_type": "stream",
     "text": [
      "Fold: 0\n",
      "The valuation metric for the fold 0 is 1.0296766960832404\n",
      "Fold: 1\n",
      "The valuation metric for the fold 1 is 0.9116945550032987\n",
      "Fold: 2\n",
      "The valuation metric for the fold 2 is 0.9989004249621583\n",
      "Fold: 3\n",
      "The valuation metric for the fold 3 is 0.9692885252057687\n",
      "Fold: 4\n",
      "The valuation metric for the fold 4 is 1.1595625928138797\n",
      "The average score accross the folds is 1.0138245588136692\n",
      "training site_id 6\n",
      "colums primary_use is being encoded\n"
     ]
    },
    {
     "name": "stderr",
     "output_type": "stream",
     "text": [
      "/opt/conda/lib/python3.7/site-packages/bearinmind_pipeline/data_preprocessing.py:59: SettingWithCopyWarning: \n",
      "A value is trying to be set on a copy of a slice from a DataFrame.\n",
      "Try using .loc[row_indexer,col_indexer] = value instead\n",
      "\n",
      "See the caveats in the documentation: http://pandas.pydata.org/pandas-docs/stable/user_guide/indexing.html#returning-a-view-versus-a-copy\n",
      "  df_train[f] = lbl.transform(list(df_train[f].values))\n",
      "/opt/conda/lib/python3.7/site-packages/bearinmind_pipeline/data_preprocessing.py:60: SettingWithCopyWarning: \n",
      "A value is trying to be set on a copy of a slice from a DataFrame.\n",
      "Try using .loc[row_indexer,col_indexer] = value instead\n",
      "\n",
      "See the caveats in the documentation: http://pandas.pydata.org/pandas-docs/stable/user_guide/indexing.html#returning-a-view-versus-a-copy\n",
      "  df_test[f] = lbl.transform(list(df_test[f].values))\n"
     ]
    },
    {
     "name": "stdout",
     "output_type": "stream",
     "text": [
      "27 features have been chosen for modeling\n",
      "Fold: 0\n"
     ]
    },
    {
     "name": "stderr",
     "output_type": "stream",
     "text": [
      "/opt/conda/lib/python3.7/site-packages/pandas/core/series.py:853: RuntimeWarning: divide by zero encountered in log\n",
      "  result = getattr(ufunc, method)(*inputs, **kwargs)\n"
     ]
    },
    {
     "name": "stdout",
     "output_type": "stream",
     "text": [
      "The valuation metric for the fold 0 is 1.5245966555479442\n",
      "Fold: 1\n",
      "The valuation metric for the fold 1 is 1.312407883983663\n",
      "Fold: 2\n",
      "The valuation metric for the fold 2 is 1.154439678294732\n",
      "Fold: 3\n",
      "The valuation metric for the fold 3 is 1.6512676294746969\n",
      "Fold: 4\n",
      "The valuation metric for the fold 4 is 1.460823292503429\n",
      "The average score accross the folds is 1.4207070279608929\n",
      "training site_id 7\n",
      "colums primary_use is being encoded\n"
     ]
    },
    {
     "name": "stderr",
     "output_type": "stream",
     "text": [
      "/opt/conda/lib/python3.7/site-packages/bearinmind_pipeline/data_preprocessing.py:59: SettingWithCopyWarning: \n",
      "A value is trying to be set on a copy of a slice from a DataFrame.\n",
      "Try using .loc[row_indexer,col_indexer] = value instead\n",
      "\n",
      "See the caveats in the documentation: http://pandas.pydata.org/pandas-docs/stable/user_guide/indexing.html#returning-a-view-versus-a-copy\n",
      "  df_train[f] = lbl.transform(list(df_train[f].values))\n",
      "/opt/conda/lib/python3.7/site-packages/bearinmind_pipeline/data_preprocessing.py:60: SettingWithCopyWarning: \n",
      "A value is trying to be set on a copy of a slice from a DataFrame.\n",
      "Try using .loc[row_indexer,col_indexer] = value instead\n",
      "\n",
      "See the caveats in the documentation: http://pandas.pydata.org/pandas-docs/stable/user_guide/indexing.html#returning-a-view-versus-a-copy\n",
      "  df_test[f] = lbl.transform(list(df_test[f].values))\n"
     ]
    },
    {
     "name": "stdout",
     "output_type": "stream",
     "text": [
      "27 features have been chosen for modeling\n",
      "Fold: 0\n"
     ]
    },
    {
     "name": "stderr",
     "output_type": "stream",
     "text": [
      "/opt/conda/lib/python3.7/site-packages/pandas/core/series.py:853: RuntimeWarning: divide by zero encountered in log\n",
      "  result = getattr(ufunc, method)(*inputs, **kwargs)\n"
     ]
    },
    {
     "name": "stdout",
     "output_type": "stream",
     "text": [
      "The valuation metric for the fold 0 is 1.9596262015115997\n",
      "Fold: 1\n",
      "The valuation metric for the fold 1 is 2.1619952582143234\n",
      "Fold: 2\n",
      "The valuation metric for the fold 2 is 1.825111791647706\n",
      "Fold: 3\n",
      "The valuation metric for the fold 3 is 2.0693835818600292\n",
      "Fold: 4\n",
      "The valuation metric for the fold 4 is 2.4628510863653856\n",
      "The average score accross the folds is 2.0957935839198085\n",
      "training site_id 8\n",
      "colums primary_use is being encoded\n"
     ]
    },
    {
     "name": "stderr",
     "output_type": "stream",
     "text": [
      "/opt/conda/lib/python3.7/site-packages/bearinmind_pipeline/data_preprocessing.py:59: SettingWithCopyWarning: \n",
      "A value is trying to be set on a copy of a slice from a DataFrame.\n",
      "Try using .loc[row_indexer,col_indexer] = value instead\n",
      "\n",
      "See the caveats in the documentation: http://pandas.pydata.org/pandas-docs/stable/user_guide/indexing.html#returning-a-view-versus-a-copy\n",
      "  df_train[f] = lbl.transform(list(df_train[f].values))\n",
      "/opt/conda/lib/python3.7/site-packages/bearinmind_pipeline/data_preprocessing.py:60: SettingWithCopyWarning: \n",
      "A value is trying to be set on a copy of a slice from a DataFrame.\n",
      "Try using .loc[row_indexer,col_indexer] = value instead\n",
      "\n",
      "See the caveats in the documentation: http://pandas.pydata.org/pandas-docs/stable/user_guide/indexing.html#returning-a-view-versus-a-copy\n",
      "  df_test[f] = lbl.transform(list(df_test[f].values))\n"
     ]
    },
    {
     "name": "stdout",
     "output_type": "stream",
     "text": [
      "27 features have been chosen for modeling\n",
      "Fold: 0\n"
     ]
    },
    {
     "name": "stderr",
     "output_type": "stream",
     "text": [
      "/opt/conda/lib/python3.7/site-packages/pandas/core/series.py:853: RuntimeWarning: divide by zero encountered in log\n",
      "  result = getattr(ufunc, method)(*inputs, **kwargs)\n"
     ]
    },
    {
     "name": "stdout",
     "output_type": "stream",
     "text": [
      "The valuation metric for the fold 0 is 0.7450113889717829\n",
      "Fold: 1\n",
      "The valuation metric for the fold 1 is 0.7169658166284018\n",
      "Fold: 2\n",
      "The valuation metric for the fold 2 is 0.7361968585765682\n",
      "Fold: 3\n",
      "The valuation metric for the fold 3 is 0.7268194979919929\n",
      "Fold: 4\n",
      "The valuation metric for the fold 4 is 0.7554852454072022\n",
      "The average score accross the folds is 0.7360957615151895\n",
      "training site_id 9\n",
      "colums primary_use is being encoded\n"
     ]
    },
    {
     "name": "stderr",
     "output_type": "stream",
     "text": [
      "/opt/conda/lib/python3.7/site-packages/bearinmind_pipeline/data_preprocessing.py:59: SettingWithCopyWarning: \n",
      "A value is trying to be set on a copy of a slice from a DataFrame.\n",
      "Try using .loc[row_indexer,col_indexer] = value instead\n",
      "\n",
      "See the caveats in the documentation: http://pandas.pydata.org/pandas-docs/stable/user_guide/indexing.html#returning-a-view-versus-a-copy\n",
      "  df_train[f] = lbl.transform(list(df_train[f].values))\n",
      "/opt/conda/lib/python3.7/site-packages/bearinmind_pipeline/data_preprocessing.py:60: SettingWithCopyWarning: \n",
      "A value is trying to be set on a copy of a slice from a DataFrame.\n",
      "Try using .loc[row_indexer,col_indexer] = value instead\n",
      "\n",
      "See the caveats in the documentation: http://pandas.pydata.org/pandas-docs/stable/user_guide/indexing.html#returning-a-view-versus-a-copy\n",
      "  df_test[f] = lbl.transform(list(df_test[f].values))\n"
     ]
    },
    {
     "name": "stdout",
     "output_type": "stream",
     "text": [
      "27 features have been chosen for modeling\n"
     ]
    },
    {
     "name": "stderr",
     "output_type": "stream",
     "text": [
      "/opt/conda/lib/python3.7/site-packages/pandas/core/series.py:853: RuntimeWarning: divide by zero encountered in log\n",
      "  result = getattr(ufunc, method)(*inputs, **kwargs)\n"
     ]
    },
    {
     "name": "stdout",
     "output_type": "stream",
     "text": [
      "Fold: 0\n",
      "The valuation metric for the fold 0 is 1.3572376659600662\n",
      "Fold: 1\n",
      "The valuation metric for the fold 1 is 1.2106162425095697\n",
      "Fold: 2\n",
      "The valuation metric for the fold 2 is 1.5754578746330477\n",
      "Fold: 3\n",
      "The valuation metric for the fold 3 is 1.409748807345214\n",
      "Fold: 4\n",
      "The valuation metric for the fold 4 is 1.2083551296032866\n",
      "The average score accross the folds is 1.352283144010237\n",
      "training site_id 10\n",
      "colums primary_use is being encoded\n"
     ]
    },
    {
     "name": "stderr",
     "output_type": "stream",
     "text": [
      "/opt/conda/lib/python3.7/site-packages/bearinmind_pipeline/data_preprocessing.py:59: SettingWithCopyWarning: \n",
      "A value is trying to be set on a copy of a slice from a DataFrame.\n",
      "Try using .loc[row_indexer,col_indexer] = value instead\n",
      "\n",
      "See the caveats in the documentation: http://pandas.pydata.org/pandas-docs/stable/user_guide/indexing.html#returning-a-view-versus-a-copy\n",
      "  df_train[f] = lbl.transform(list(df_train[f].values))\n",
      "/opt/conda/lib/python3.7/site-packages/bearinmind_pipeline/data_preprocessing.py:60: SettingWithCopyWarning: \n",
      "A value is trying to be set on a copy of a slice from a DataFrame.\n",
      "Try using .loc[row_indexer,col_indexer] = value instead\n",
      "\n",
      "See the caveats in the documentation: http://pandas.pydata.org/pandas-docs/stable/user_guide/indexing.html#returning-a-view-versus-a-copy\n",
      "  df_test[f] = lbl.transform(list(df_test[f].values))\n"
     ]
    },
    {
     "name": "stdout",
     "output_type": "stream",
     "text": [
      "27 features have been chosen for modeling\n",
      "Fold: 0\n"
     ]
    },
    {
     "name": "stderr",
     "output_type": "stream",
     "text": [
      "/opt/conda/lib/python3.7/site-packages/pandas/core/series.py:853: RuntimeWarning: divide by zero encountered in log\n",
      "  result = getattr(ufunc, method)(*inputs, **kwargs)\n"
     ]
    },
    {
     "name": "stdout",
     "output_type": "stream",
     "text": [
      "The valuation metric for the fold 0 is 1.4168785932627415\n",
      "Fold: 1\n",
      "The valuation metric for the fold 1 is 1.3851034478342503\n",
      "Fold: 2\n",
      "The valuation metric for the fold 2 is 1.331189605100487\n",
      "Fold: 3\n",
      "The valuation metric for the fold 3 is 1.3475289126760155\n",
      "Fold: 4\n",
      "The valuation metric for the fold 4 is 1.6086643616821539\n",
      "The average score accross the folds is 1.4178729841111295\n",
      "training site_id 11\n",
      "colums primary_use is being encoded\n"
     ]
    },
    {
     "name": "stderr",
     "output_type": "stream",
     "text": [
      "/opt/conda/lib/python3.7/site-packages/bearinmind_pipeline/data_preprocessing.py:59: SettingWithCopyWarning: \n",
      "A value is trying to be set on a copy of a slice from a DataFrame.\n",
      "Try using .loc[row_indexer,col_indexer] = value instead\n",
      "\n",
      "See the caveats in the documentation: http://pandas.pydata.org/pandas-docs/stable/user_guide/indexing.html#returning-a-view-versus-a-copy\n",
      "  df_train[f] = lbl.transform(list(df_train[f].values))\n",
      "/opt/conda/lib/python3.7/site-packages/bearinmind_pipeline/data_preprocessing.py:60: SettingWithCopyWarning: \n",
      "A value is trying to be set on a copy of a slice from a DataFrame.\n",
      "Try using .loc[row_indexer,col_indexer] = value instead\n",
      "\n",
      "See the caveats in the documentation: http://pandas.pydata.org/pandas-docs/stable/user_guide/indexing.html#returning-a-view-versus-a-copy\n",
      "  df_test[f] = lbl.transform(list(df_test[f].values))\n",
      "/opt/conda/lib/python3.7/site-packages/pandas/core/series.py:853: RuntimeWarning: divide by zero encountered in log\n",
      "  result = getattr(ufunc, method)(*inputs, **kwargs)\n"
     ]
    },
    {
     "name": "stdout",
     "output_type": "stream",
     "text": [
      "27 features have been chosen for modeling\n",
      "Fold: 0\n",
      "The valuation metric for the fold 0 is 0.37370154247760734\n",
      "Fold: 1\n",
      "The valuation metric for the fold 1 is 1.1900729877193221\n",
      "Fold: 2\n",
      "The valuation metric for the fold 2 is 1.5370678320676956\n",
      "Fold: 3\n",
      "The valuation metric for the fold 3 is 1.3938169456392286\n",
      "Fold: 4\n",
      "The valuation metric for the fold 4 is 0.6165131605000258\n",
      "The average score accross the folds is 1.022234493680776\n",
      "training site_id 12\n",
      "colums primary_use is being encoded\n"
     ]
    },
    {
     "name": "stderr",
     "output_type": "stream",
     "text": [
      "/opt/conda/lib/python3.7/site-packages/bearinmind_pipeline/data_preprocessing.py:59: SettingWithCopyWarning: \n",
      "A value is trying to be set on a copy of a slice from a DataFrame.\n",
      "Try using .loc[row_indexer,col_indexer] = value instead\n",
      "\n",
      "See the caveats in the documentation: http://pandas.pydata.org/pandas-docs/stable/user_guide/indexing.html#returning-a-view-versus-a-copy\n",
      "  df_train[f] = lbl.transform(list(df_train[f].values))\n",
      "/opt/conda/lib/python3.7/site-packages/bearinmind_pipeline/data_preprocessing.py:60: SettingWithCopyWarning: \n",
      "A value is trying to be set on a copy of a slice from a DataFrame.\n",
      "Try using .loc[row_indexer,col_indexer] = value instead\n",
      "\n",
      "See the caveats in the documentation: http://pandas.pydata.org/pandas-docs/stable/user_guide/indexing.html#returning-a-view-versus-a-copy\n",
      "  df_test[f] = lbl.transform(list(df_test[f].values))\n"
     ]
    },
    {
     "name": "stdout",
     "output_type": "stream",
     "text": [
      "27 features have been chosen for modeling\n",
      "Fold: 0\n"
     ]
    },
    {
     "name": "stderr",
     "output_type": "stream",
     "text": [
      "/opt/conda/lib/python3.7/site-packages/pandas/core/series.py:853: RuntimeWarning: divide by zero encountered in log\n",
      "  result = getattr(ufunc, method)(*inputs, **kwargs)\n"
     ]
    },
    {
     "name": "stdout",
     "output_type": "stream",
     "text": [
      "The valuation metric for the fold 0 is 0.5186100676927817\n",
      "Fold: 1\n",
      "The valuation metric for the fold 1 is 0.38710111748679354\n",
      "Fold: 2\n",
      "The valuation metric for the fold 2 is 0.4135918327388583\n",
      "Fold: 3\n",
      "The valuation metric for the fold 3 is 0.3515059057542076\n",
      "Fold: 4\n",
      "The valuation metric for the fold 4 is 0.4261410197823967\n",
      "The average score accross the folds is 0.41938998869100763\n",
      "training site_id 13\n",
      "colums primary_use is being encoded\n"
     ]
    },
    {
     "name": "stderr",
     "output_type": "stream",
     "text": [
      "/opt/conda/lib/python3.7/site-packages/bearinmind_pipeline/data_preprocessing.py:59: SettingWithCopyWarning: \n",
      "A value is trying to be set on a copy of a slice from a DataFrame.\n",
      "Try using .loc[row_indexer,col_indexer] = value instead\n",
      "\n",
      "See the caveats in the documentation: http://pandas.pydata.org/pandas-docs/stable/user_guide/indexing.html#returning-a-view-versus-a-copy\n",
      "  df_train[f] = lbl.transform(list(df_train[f].values))\n",
      "/opt/conda/lib/python3.7/site-packages/bearinmind_pipeline/data_preprocessing.py:60: SettingWithCopyWarning: \n",
      "A value is trying to be set on a copy of a slice from a DataFrame.\n",
      "Try using .loc[row_indexer,col_indexer] = value instead\n",
      "\n",
      "See the caveats in the documentation: http://pandas.pydata.org/pandas-docs/stable/user_guide/indexing.html#returning-a-view-versus-a-copy\n",
      "  df_test[f] = lbl.transform(list(df_test[f].values))\n"
     ]
    },
    {
     "name": "stdout",
     "output_type": "stream",
     "text": [
      "27 features have been chosen for modeling\n"
     ]
    },
    {
     "name": "stderr",
     "output_type": "stream",
     "text": [
      "/opt/conda/lib/python3.7/site-packages/pandas/core/series.py:853: RuntimeWarning: divide by zero encountered in log\n",
      "  result = getattr(ufunc, method)(*inputs, **kwargs)\n"
     ]
    },
    {
     "name": "stdout",
     "output_type": "stream",
     "text": [
      "Fold: 0\n",
      "The valuation metric for the fold 0 is 1.0483169336916929\n",
      "Fold: 1\n",
      "The valuation metric for the fold 1 is 1.1824269249656618\n",
      "Fold: 2\n",
      "The valuation metric for the fold 2 is 1.1273805099642702\n",
      "Fold: 3\n",
      "The valuation metric for the fold 3 is 1.1725393134183606\n",
      "Fold: 4\n",
      "The valuation metric for the fold 4 is 1.168550745249856\n",
      "The average score accross the folds is 1.1398428854579685\n",
      "training site_id 14\n",
      "colums primary_use is being encoded\n"
     ]
    },
    {
     "name": "stderr",
     "output_type": "stream",
     "text": [
      "/opt/conda/lib/python3.7/site-packages/bearinmind_pipeline/data_preprocessing.py:59: SettingWithCopyWarning: \n",
      "A value is trying to be set on a copy of a slice from a DataFrame.\n",
      "Try using .loc[row_indexer,col_indexer] = value instead\n",
      "\n",
      "See the caveats in the documentation: http://pandas.pydata.org/pandas-docs/stable/user_guide/indexing.html#returning-a-view-versus-a-copy\n",
      "  df_train[f] = lbl.transform(list(df_train[f].values))\n",
      "/opt/conda/lib/python3.7/site-packages/bearinmind_pipeline/data_preprocessing.py:60: SettingWithCopyWarning: \n",
      "A value is trying to be set on a copy of a slice from a DataFrame.\n",
      "Try using .loc[row_indexer,col_indexer] = value instead\n",
      "\n",
      "See the caveats in the documentation: http://pandas.pydata.org/pandas-docs/stable/user_guide/indexing.html#returning-a-view-versus-a-copy\n",
      "  df_test[f] = lbl.transform(list(df_test[f].values))\n"
     ]
    },
    {
     "name": "stdout",
     "output_type": "stream",
     "text": [
      "27 features have been chosen for modeling\n"
     ]
    },
    {
     "name": "stderr",
     "output_type": "stream",
     "text": [
      "/opt/conda/lib/python3.7/site-packages/pandas/core/series.py:853: RuntimeWarning: divide by zero encountered in log\n",
      "  result = getattr(ufunc, method)(*inputs, **kwargs)\n"
     ]
    },
    {
     "name": "stdout",
     "output_type": "stream",
     "text": [
      "Fold: 0\n",
      "The valuation metric for the fold 0 is 1.611794912200864\n",
      "Fold: 1\n",
      "The valuation metric for the fold 1 is 1.60818709189315\n",
      "Fold: 2\n",
      "The valuation metric for the fold 2 is 1.3670096781991772\n",
      "Fold: 3\n",
      "The valuation metric for the fold 3 is 1.9457789314863347\n",
      "Fold: 4\n",
      "The valuation metric for the fold 4 is 1.7171055132724211\n",
      "The average score accross the folds is 1.6499752254103897\n",
      "training site_id 15\n",
      "colums primary_use is being encoded\n"
     ]
    },
    {
     "name": "stderr",
     "output_type": "stream",
     "text": [
      "/opt/conda/lib/python3.7/site-packages/bearinmind_pipeline/data_preprocessing.py:59: SettingWithCopyWarning: \n",
      "A value is trying to be set on a copy of a slice from a DataFrame.\n",
      "Try using .loc[row_indexer,col_indexer] = value instead\n",
      "\n",
      "See the caveats in the documentation: http://pandas.pydata.org/pandas-docs/stable/user_guide/indexing.html#returning-a-view-versus-a-copy\n",
      "  df_train[f] = lbl.transform(list(df_train[f].values))\n",
      "/opt/conda/lib/python3.7/site-packages/bearinmind_pipeline/data_preprocessing.py:60: SettingWithCopyWarning: \n",
      "A value is trying to be set on a copy of a slice from a DataFrame.\n",
      "Try using .loc[row_indexer,col_indexer] = value instead\n",
      "\n",
      "See the caveats in the documentation: http://pandas.pydata.org/pandas-docs/stable/user_guide/indexing.html#returning-a-view-versus-a-copy\n",
      "  df_test[f] = lbl.transform(list(df_test[f].values))\n"
     ]
    },
    {
     "name": "stdout",
     "output_type": "stream",
     "text": [
      "27 features have been chosen for modeling\n"
     ]
    },
    {
     "name": "stderr",
     "output_type": "stream",
     "text": [
      "/opt/conda/lib/python3.7/site-packages/pandas/core/series.py:853: RuntimeWarning: divide by zero encountered in log\n",
      "  result = getattr(ufunc, method)(*inputs, **kwargs)\n"
     ]
    },
    {
     "name": "stdout",
     "output_type": "stream",
     "text": [
      "Fold: 0\n"
     ]
    }
   ],
   "source": [
    "### Per meter type ###\n",
    "perf_dict = {}\n",
    "final_sub_lst = []\n",
    "encode_cols = [\"primary_use\"]\n",
    "mb = mc.modelBuilder('regression', 'LGBM')\n",
    "for i in tqdm_notebook(df_train['site_id'].unique()):\n",
    "#for i in tqdm_notebook(range(2)):\n",
    "    print(f'training site_id {i}')\n",
    "    \n",
    "    df_train_metr = df_train[df_train['site_id'] == i]\n",
    "    df_test_metr = df_test[df_test['site_id'] == i]\n",
    "    \n",
    "    data = dp.encode_categorical(df_train_metr, df_test_metr, encode_cols)\n",
    "    data = mb.prepare_data_split(df_train =  data['df_train'], df_test = data['df_test'], \n",
    "                             target = 'meter_reading', rem_cols = ['timestamp'], \n",
    "                             useVarImp = False, varimp_threshold = 100)\n",
    "    data['X_test'] = data['X_test'].drop([\"row_id\"],  axis=1)\n",
    "    data['Y'] = np.log(data['Y'])\n",
    "    data['Y'][data['Y'] == -inf] = 0\n",
    "    submit = mb.run_model(data, n_folds = 5, metric_func = rmse, get_probab = False, \n",
    "                      save_varimp = False, params = params, oversmp = False, cv_shuffle=False)\n",
    "    submit['FinalPrediction'] = np.exp(submit['FinalPrediction'])\n",
    "    final_submit = pd.concat([df_test_metr['row_id'].reset_index(drop=True), pd.DataFrame(submit['FinalPrediction'], columns = [\"meter_reading\"])], axis = 1)\n",
    "    \n",
    "    perf_dict[i] = submit['AverageScore']\n",
    "    final_sub_lst.append(final_submit)\n",
    "    "
   ]
  },
  {
   "cell_type": "code",
   "execution_count": null,
   "metadata": {},
   "outputs": [],
   "source": [
    "np.array(list(perf_dict.values())).mean()"
   ]
  },
  {
   "cell_type": "code",
   "execution_count": null,
   "metadata": {},
   "outputs": [],
   "source": [
    "sub = pd.concat(final_sub_lst, axis = 0).reset_index(drop = True)"
   ]
  },
  {
   "cell_type": "code",
   "execution_count": null,
   "metadata": {},
   "outputs": [],
   "source": [
    "sub.shape"
   ]
  },
  {
   "cell_type": "code",
   "execution_count": 59,
   "metadata": {},
   "outputs": [],
   "source": [
    "sub.to_csv(\"submit_lightgbm_by_site.csv.gz\", index = False, compression='gzip')"
   ]
  },
  {
   "cell_type": "code",
   "execution_count": null,
   "metadata": {},
   "outputs": [],
   "source": [
    "#submit['FinalPrediction'] = np.exp(submit['FinalPrediction'])"
   ]
  },
  {
   "cell_type": "code",
   "execution_count": null,
   "metadata": {},
   "outputs": [],
   "source": [
    "#submit['FinalPrediction']"
   ]
  },
  {
   "cell_type": "code",
   "execution_count": null,
   "metadata": {},
   "outputs": [],
   "source": [
    "#submit"
   ]
  },
  {
   "cell_type": "code",
   "execution_count": null,
   "metadata": {},
   "outputs": [],
   "source": [
    "#final_submit = pd.concat([df_test['row_id'], pd.DataFrame(submit['FinalPrediction'], columns = [\"meter_reading\"])], axis = 1)"
   ]
  },
  {
   "cell_type": "code",
   "execution_count": null,
   "metadata": {},
   "outputs": [],
   "source": [
    "#final_submit[\"meter_reading\"].describe()"
   ]
  },
  {
   "cell_type": "code",
   "execution_count": null,
   "metadata": {},
   "outputs": [],
   "source": [
    "#final_submit.to_csv(\"submit_lightgbm_default.csv.gz\", index = False, compression='gzip')"
   ]
  },
  {
   "cell_type": "code",
   "execution_count": 61,
   "metadata": {},
   "outputs": [
    {
     "name": "stdout",
     "output_type": "stream",
     "text": [
      "Warning: Your Kaggle API key is readable by other users on this system! To fix this, you can run 'chmod 600 /home/jovyan/.kaggle/kaggle.json'\n",
      "100%|████████████████████████████████████████| 472M/472M [00:11<00:00, 42.8MB/s]\n",
      "Successfully submitted to ASHRAE - Great Energy Predictor III"
     ]
    }
   ],
   "source": [
    "!kaggle competitions submit -c ashrae-energy-prediction -f submit_lightgbm_by_site.csv.gz -m \"with intrapol and separate model for each site\""
   ]
  },
  {
   "cell_type": "code",
   "execution_count": null,
   "metadata": {},
   "outputs": [],
   "source": []
  }
 ],
 "metadata": {
  "kernelspec": {
   "display_name": "Python 3",
   "language": "python",
   "name": "python3"
  },
  "language_info": {
   "codemirror_mode": {
    "name": "ipython",
    "version": 3
   },
   "file_extension": ".py",
   "mimetype": "text/x-python",
   "name": "python",
   "nbconvert_exporter": "python",
   "pygments_lexer": "ipython3",
   "version": "3.7.3"
  }
 },
 "nbformat": 4,
 "nbformat_minor": 2
}
